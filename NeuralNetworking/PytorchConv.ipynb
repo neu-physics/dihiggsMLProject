{
 "cells": [
  {
   "cell_type": "code",
   "execution_count": 1,
   "metadata": {},
   "outputs": [],
   "source": [
    "## from https://github.com/yunjey/pytorch-tutorial\n",
    "\n",
    "import torch\n",
    "import torch.nn as nn\n",
    "import torchvision.datasets as dsets\n",
    "import torchvision.transforms as transforms\n",
    "from torch.autograd import Variable\n",
    "import numpy as np\n",
    "import pandas as pd\n",
    "from sklearn.model_selection import train_test_split\n",
    "from matplotlib import pyplot as plt\n",
    "import torch.utils.data as utils"
   ]
  },
  {
   "cell_type": "code",
   "execution_count": 2,
   "metadata": {},
   "outputs": [],
   "source": [
    "# input_size = 12       # The image size = 28 x 28 = 784\n",
    "# hidden_size = 500      # The number of nodes at the hidden layer\n",
    "# num_classes = 2       # The number of output classes. In this case, from 0 to 9\n",
    "# num_epochs = 5         # The number of times entire dataset is trained\n",
    "# batch_size = 100       # The size of input data took for one iteration\n",
    "# learning_rate = 0.001  # The speed of convergence\n"
   ]
  },
  {
   "cell_type": "code",
   "execution_count": 3,
   "metadata": {},
   "outputs": [
    {
     "name": "stdout",
     "output_type": "stream",
     "text": [
      "1703 rows of qcd data\n",
      "4605 rows of dihiggs data\n",
      "8\n"
     ]
    }
   ],
   "source": [
    "# Import Dataset\n",
    "qcd_raw = pd.read_csv('../HiggsReconstruction/EventPlotting/qcd_outputDataForLearning.csv')\n",
    "hh_raw = pd.read_csv('../HiggsReconstruction/EventPlotting/dihiggs_outputDataForLearning.csv')\n",
    "\n",
    "qcd_raw.head()\n",
    "print(len(qcd_raw), \"rows of qcd data\")\n",
    "hh_raw.head()\n",
    "print(len(hh_raw), \"rows of dihiggs data\")\n",
    "\n",
    "# Make higgs and qcd sets from raw data\n",
    "# hh_all = hh_raw[['h1_mass', 'h2_mass', 'deltaR(h1 jets)', 'deltaR(h2 jets)', 'jet1_pz', 'jet2_pz', 'jet3_pz', 'jet4_pz', 'jet1_energy', 'jet2_energy', 'jet3_energy', 'jet4_energy']]\n",
    "# qcd = qcd_raw[['h1_mass', 'h2_mass', 'deltaR(h1 jets)', 'deltaR(h2 jets)', 'jet1_pz', 'jet2_pz', 'jet3_pz', 'jet4_pz', 'jet1_energy', 'jet2_energy', 'jet3_energy', 'jet4_energy']]\n",
    "\n",
    "#same as ruhi\n",
    "hh_all = hh_raw[['hh_mass', 'h1_mass', 'h2_mass', 'deltaR(h1 jets)', 'deltaR(h2 jets)', 'deltaPhi(h1, h2)', 'deltaPhi(h1 jets)', 'deltaPhi(h2 jets)']]\n",
    "qcd = qcd_raw[['hh_mass', 'h1_mass', 'h2_mass', 'deltaR(h1 jets)', 'deltaR(h2 jets)', 'deltaPhi(h1, h2)', 'deltaPhi(h1 jets)', 'deltaPhi(h2 jets)']]\n",
    "\n",
    "# hh_all = hh_raw[['deltaR(h1 jets)', 'deltaR(h2 jets)']]\n",
    "# qcd = qcd_raw[['deltaR(h1 jets)', 'deltaR(h2 jets)']]\n",
    "n_factors = np.shape(hh_all)[1]\n",
    "print(n_factors)"
   ]
  },
  {
   "cell_type": "code",
   "execution_count": 4,
   "metadata": {},
   "outputs": [
    {
     "name": "stdout",
     "output_type": "stream",
     "text": [
      "[[ 1.59318947e-02  1.48291836e+02  1.58296646e+02  2.39941158e+00\n",
      "   3.04517197e+00 -1.39974523e+00  2.26137894e+00 -2.73688633e+00\n",
      "   1.00000000e+00  0.00000000e+00]\n",
      " [ 6.76571469e-01  9.65536398e+01  5.85546013e+01  1.34373550e+00\n",
      "   1.11838980e+00 -2.62879683e+00  1.20060802e+00  1.10447589e+00\n",
      "   1.00000000e+00  0.00000000e+00]\n",
      " [ 2.12799951e-01  1.10271880e+02  1.30164227e+02  6.97377344e-01\n",
      "   1.15238492e+00 -1.70520791e+00 -6.44060135e-01  1.15179259e+00\n",
      "   1.00000000e+00  0.00000000e+00]\n",
      " [ 1.85365460e-01  1.79640526e+02  1.66136193e+02  2.05337635e+00\n",
      "   2.09055659e+00 -2.44151538e+00 -1.87211138e+00  1.42004728e+00\n",
      "   1.00000000e+00  0.00000000e+00]]\n",
      "[[1. 0.]\n",
      " [1. 0.]\n",
      " [1. 0.]\n",
      " [1. 0.]]\n"
     ]
    }
   ],
   "source": [
    "hh_all = np.array(hh_all)\n",
    "qcd = np.array(qcd)\n",
    "\n",
    "# add labels to di-higgs\n",
    "hh_all=hh_all[:,:n_factors]\n",
    "# # print(hh[0:3])\n",
    "hh_labels= np.zeros((len(hh_all),1))\n",
    "hh_labels = hh_labels+1\n",
    "#a = hh[:len(hh)]\n",
    "# print(a.shape)\n",
    "hh_all[:,0] = np.random.rand(np.shape(hh_all)[0])\n",
    "hh_all = np.append(hh_all, hh_labels, axis=1)\n",
    "hh_all = np.append(hh_all, 1-hh_labels, axis=1)## hh qcd labels \n",
    "\n",
    "\n",
    "# print(hh.shape)\n",
    "# print(hh[0:3])\n",
    "\n",
    "# add labels to qcd\n",
    "qcd=qcd[:,:n_factors]\n",
    "# print(hh[0:3])\n",
    "qcd_labels= np.zeros((len(qcd),1))\n",
    "#a = hh[:len(hh)]\n",
    "# print(a.shape)\n",
    "# qcd hh labels \n",
    "qcd[:, 0] = -1 * np.random.rand(np.shape(qcd)[0])\n",
    "qcd = np.append(qcd, qcd_labels, axis=1) \n",
    "qcd = np.append(qcd, 1-qcd_labels, axis=1)# qcd qcd labels\n",
    "\n",
    "\n",
    "# use this for dummy variables\n",
    "# hh_all[:,0] = np.random.rand(np.shape(hh_all)[0])\n",
    "# hh_all[:,1] = np.random.rand(np.shape(hh_all)[0])\n",
    "# qcd[:, 0] = -1 * np.random.rand(np.shape(qcd)[0])\n",
    "# qcd[:, 1] = -1 * np.random.rand(np.shape(qcd)[0])\n",
    "# qcd[:, 0] = np.random.rand(np.shape(qcd)[0])\n",
    "# qcd[:, 1] = np.random.rand(np.shape(qcd)[0])\n",
    "# qcd[:, 0] = hh_all[:len(qcd),0] -1#-.5\n",
    "# qcd[:, 1] = hh_all[:len(qcd),1] -1#-.5\n",
    "\n",
    "\n",
    "# select a quarter of hh events so that the set is half and half\n",
    "# we shuffle the list first to take a random 1/4. this means we have a different dataset every time\n",
    "# np.random.seed(0)\n",
    "# np.random.shuffle(hh_all) \n",
    "hh = hh_all[0:len(qcd)]\n",
    "# print(hh[:4])\n",
    "# print(qcd[:4])\n",
    "\n",
    "all_data = np.append(hh,qcd, axis=0) \n",
    "all_data[:n_factors,:]\n",
    "\n",
    "np.random.seed(0)\n",
    "# for i in range (4): # shuffle 4 times\n",
    "#     np.random.shuffle(all_data) \n",
    "print(all_data[:4])\n",
    "all_labels = all_data[:,n_factors:]\n",
    "# for testing model resilience\n",
    "# for i in range(2):\n",
    "#     np.random.shuffle(all_labels)\n",
    "all_data = all_data[:,:n_factors]\n",
    "# print(all_data[:4])\n",
    "print(all_labels[:4])\n",
    "# print(test_data)\n",
    "# print(len(all_data))\n",
    "# print(all_labels)\n",
    "\n",
    "input_size = n_factors       # The image size = 28 x 28 = 784\n",
    "hidden_size = 500      # The number of nodes at the hidden layer\n",
    "num_classes = all_labels.shape[1]       # The number of output classes. In this case, from 0 to 9\n",
    "num_epochs = 5         # The number of times entire dataset is trained\n",
    "batch_size = 100       # The size of input data took for one iteration\n",
    "learning_rate = 0.001  # The speed of convergence"
   ]
  },
  {
   "cell_type": "code",
   "execution_count": 5,
   "metadata": {},
   "outputs": [
    {
     "name": "stdout",
     "output_type": "stream",
     "text": [
      "[[ 0.01593693  0.20528419  0.26390849  0.43658628  0.60794872 -0.44564699\n",
      "   0.71985814 -0.87118638]\n",
      " [ 0.67678545  0.13366168  0.09762087  0.24450015  0.22327923 -0.83694901\n",
      "   0.38218603  0.35156898]\n",
      " [ 0.21286725  0.15265219  0.21700677  0.12689168  0.23006613 -0.54289934\n",
      "  -0.20502178  0.3666305 ]\n",
      " [ 0.18542409  0.24868099  0.2769784   0.37362324  0.41736598 -0.77732286\n",
      "  -0.59594373  0.45201945]]\n"
     ]
    }
   ],
   "source": [
    "# scale the data by dividing it by the max value of each\n",
    "for i in range(np.shape(all_data)[1]):\n",
    "    all_data[:,i] = np.true_divide(all_data[:,i], np.max(all_data[:,i]))\n",
    "print(all_data[:4])"
   ]
  },
  {
   "cell_type": "code",
   "execution_count": 6,
   "metadata": {},
   "outputs": [
    {
     "data": {
      "image/png": "[encoded data removed]",
      "text/plain": [
       "<Figure size 432x288 with 1 Axes>"
      ]
     },
     "metadata": {
      "needs_background": "light"
     },
     "output_type": "display_data"
    }
   ],
   "source": [
    "plt.hist(all_data, bins=50)\n",
    "plt.show()"
   ]
  },
  {
   "cell_type": "code",
   "execution_count": 7,
   "metadata": {},
   "outputs": [
    {
     "name": "stdout",
     "output_type": "stream",
     "text": [
      "<torch.utils.data.dataset.TensorDataset object at 0x11e156b00>\n"
     ]
    }
   ],
   "source": [
    "train_data, test_data, train_labels, test_labels = train_test_split(all_data, all_labels, train_size=0.3, test_size=0.5, random_state=42)\n",
    "\n",
    "train_data = torch.stack([torch.Tensor(i) for i in train_data])\n",
    "train_labels = torch.stack([torch.Tensor(i) for i in train_labels])\n",
    "test_data = torch.stack([torch.Tensor(i) for i in test_data])\n",
    "test_labels = torch.stack([torch.Tensor(i) for i in test_labels])\n",
    "\n",
    "\n",
    "\n",
    "train_dataset = utils.TensorDataset(train_data, train_labels)\n",
    "\n",
    "test_dataset = utils.TensorDataset(test_data, test_labels)\n",
    "\n",
    "print(train_dataset)"
   ]
  },
  {
   "cell_type": "code",
   "execution_count": 8,
   "metadata": {},
   "outputs": [
    {
     "name": "stdout",
     "output_type": "stream",
     "text": [
      "<torch.utils.data.dataloader.DataLoader object at 0x1215b03c8>\n"
     ]
    }
   ],
   "source": [
    "\n",
    "train_loader = utils.DataLoader(train_dataset)\n",
    "\n",
    "test_loader = utils.DataLoader(test_dataset)\n",
    "print(train_loader)"
   ]
  },
  {
   "cell_type": "code",
   "execution_count": 9,
   "metadata": {},
   "outputs": [
    {
     "name": "stdout",
     "output_type": "stream",
     "text": [
      "<enumerate object at 0x1204a4120>\n",
      "0 [tensor([[ 0.7244,  0.4726,  0.5254,  0.5906,  0.6293,  0.6913, -0.9937, -0.9703]]), tensor([[1., 0.]])]\n",
      "1 [tensor([[-0.6916,  0.1496,  0.2398,  0.1998,  0.3372,  0.9316, -0.3328, -0.5155]]), tensor([[0., 1.]])]\n",
      "2 [tensor([[ 0.3793,  0.1374,  0.1940,  0.1896,  0.2406, -0.9624, -0.2967,  0.3297]]), tensor([[1., 0.]])]\n",
      "3 [tensor([[-0.9789,  0.3535,  0.3438,  0.6307,  0.6811, -0.9389, -0.8562, -0.5508]]), tensor([[0., 1.]])]\n",
      "4 [tensor([[-0.9326,  0.3576,  0.2657,  0.5276,  0.4398, -0.9080, -0.9216,  0.1880]]), tensor([[0., 1.]])]\n",
      "5 [tensor([[ 0.6748,  0.3276,  0.3842,  0.5811,  0.7800, -0.9923, -0.9717,  0.3890]]), tensor([[1., 0.]])]\n"
     ]
    }
   ],
   "source": [
    "print(enumerate(train_loader))\n",
    "for i, e in enumerate(train_loader):\n",
    "    print(i, e)\n",
    "    if(i>4):\n",
    "        break"
   ]
  },
  {
   "cell_type": "code",
   "execution_count": 10,
   "metadata": {},
   "outputs": [],
   "source": [
    "class Net(nn.Module):\n",
    "    def __init__(self, input_size, hidden_size, num_classes):\n",
    "        super(Net, self).__init__()                    # Inherited from the parent class nn.Module\n",
    "        self.fc1 = nn.Linear(input_size, hidden_size)  # 1st Full-Connected Layer: 784 (input data) -> 500 (hidden node)\n",
    "#         self.relu = nn.Softmax(dim=None)                          # Non-Linear ReLU Layer: max(0,x)\n",
    "        self.relu = nn.ReLU()\n",
    "        self.fc2 = nn.Linear(hidden_size, num_classes) # 2nd Full-Connected Layer: 500 (hidden node) -> 10 (output class)\n",
    "    \n",
    "    def forward(self, x):                              # Forward pass: stacking each layer together\n",
    "        out = self.fc1(x)\n",
    "        out = self.relu(out)\n",
    "        out = self.fc2(out)\n",
    "        return out"
   ]
  },
  {
   "cell_type": "code",
   "execution_count": 11,
   "metadata": {},
   "outputs": [],
   "source": [
    "net = Net(input_size, hidden_size, num_classes)\n"
   ]
  },
  {
   "cell_type": "code",
   "execution_count": 12,
   "metadata": {},
   "outputs": [],
   "source": [
    "# net.cuda()    # You can comment out this line to disable GPU"
   ]
  },
  {
   "cell_type": "code",
   "execution_count": 13,
   "metadata": {},
   "outputs": [],
   "source": [
    "criterion = nn.CrossEntropyLoss()\n",
    "optimizer = torch.optim.Adam(net.parameters(), lr=learning_rate)"
   ]
  },
  {
   "cell_type": "code",
   "execution_count": 14,
   "metadata": {},
   "outputs": [
    {
     "name": "stdout",
     "output_type": "stream",
     "text": [
      "Epoch [1/5], Step [100/10], Loss: 0.5263\n",
      "Epoch [1/5], Step [200/10], Loss: 0.0138\n",
      "Epoch [1/5], Step [300/10], Loss: 0.0158\n",
      "Epoch [1/5], Step [400/10], Loss: 0.0004\n",
      "Epoch [1/5], Step [500/10], Loss: 0.0012\n",
      "Epoch [1/5], Step [600/10], Loss: 0.0001\n",
      "Epoch [1/5], Step [700/10], Loss: 0.0001\n",
      "Epoch [1/5], Step [800/10], Loss: 0.0003\n",
      "Epoch [1/5], Step [900/10], Loss: 0.0026\n",
      "Epoch [1/5], Step [1000/10], Loss: 0.0000\n",
      "Epoch [2/5], Step [100/10], Loss: 0.1847\n",
      "Epoch [2/5], Step [200/10], Loss: 0.0000\n",
      "Epoch [2/5], Step [300/10], Loss: 0.0000\n",
      "Epoch [2/5], Step [400/10], Loss: 0.0000\n",
      "Epoch [2/5], Step [500/10], Loss: 0.0000\n",
      "Epoch [2/5], Step [600/10], Loss: 0.0000\n",
      "Epoch [2/5], Step [700/10], Loss: 0.0000\n",
      "Epoch [2/5], Step [800/10], Loss: 0.0000\n",
      "Epoch [2/5], Step [900/10], Loss: 0.0001\n",
      "Epoch [2/5], Step [1000/10], Loss: 0.0000\n",
      "Epoch [3/5], Step [100/10], Loss: 0.0305\n",
      "Epoch [3/5], Step [200/10], Loss: 0.0000\n",
      "Epoch [3/5], Step [300/10], Loss: 0.0000\n",
      "Epoch [3/5], Step [400/10], Loss: 0.0000\n",
      "Epoch [3/5], Step [500/10], Loss: 0.0000\n",
      "Epoch [3/5], Step [600/10], Loss: 0.0000\n",
      "Epoch [3/5], Step [700/10], Loss: 0.0000\n",
      "Epoch [3/5], Step [800/10], Loss: 0.0000\n",
      "Epoch [3/5], Step [900/10], Loss: 0.0000\n",
      "Epoch [3/5], Step [1000/10], Loss: 0.0000\n",
      "Epoch [4/5], Step [100/10], Loss: 0.0067\n",
      "Epoch [4/5], Step [200/10], Loss: 0.0000\n",
      "Epoch [4/5], Step [300/10], Loss: 0.0000\n",
      "Epoch [4/5], Step [400/10], Loss: 0.0000\n",
      "Epoch [4/5], Step [500/10], Loss: 0.0000\n",
      "Epoch [4/5], Step [600/10], Loss: 0.0000\n",
      "Epoch [4/5], Step [700/10], Loss: 0.0000\n",
      "Epoch [4/5], Step [800/10], Loss: 0.0000\n",
      "Epoch [4/5], Step [900/10], Loss: 0.0000\n",
      "Epoch [4/5], Step [1000/10], Loss: 0.0000\n",
      "Epoch [5/5], Step [100/10], Loss: 0.0018\n",
      "Epoch [5/5], Step [200/10], Loss: 0.0000\n",
      "Epoch [5/5], Step [300/10], Loss: 0.0000\n",
      "Epoch [5/5], Step [400/10], Loss: 0.0000\n",
      "Epoch [5/5], Step [500/10], Loss: 0.0000\n",
      "Epoch [5/5], Step [600/10], Loss: 0.0000\n",
      "Epoch [5/5], Step [700/10], Loss: 0.0000\n",
      "Epoch [5/5], Step [800/10], Loss: 0.0000\n",
      "Epoch [5/5], Step [900/10], Loss: 0.0000\n",
      "Epoch [5/5], Step [1000/10], Loss: 0.0000\n",
      "1021\n"
     ]
    }
   ],
   "source": [
    "for epoch in range(num_epochs):\n",
    "    for i, (data, labels) in enumerate(train_loader):   # Load a batch of images with its (index, data, class)\n",
    "        data = Variable(data)       # Convert torch tensor to Variable: change image from a vector of size 784 to a matrix of 28 x 28\n",
    "        labels = Variable(labels)\n",
    "        \n",
    "        optimizer.zero_grad()                             # Intialize the hidden weight to all zeros\n",
    "        outputs = net(data)                             # Forward pass: compute the output class given a image\n",
    "        labels = labels.long()\n",
    "        loss = criterion(outputs, torch.max(labels, 1)[1])                 # Compute the loss: difference between the output class and the pre-given label\n",
    "        loss.backward()                                   # Backward pass: compute the weight\n",
    "        optimizer.step()                                  # Optimizer: update the weights of hidden nodes\n",
    "        \n",
    "        if (i+1) % 100 == 0:                              # Logging\n",
    "#             print(\"SMH\")\n",
    "            print('Epoch [%d/%d], Step [%d/%d], Loss: %.4f'\n",
    "                 %(epoch+1, num_epochs, i+1, len(train_dataset)//batch_size, loss.data.item()))\n",
    "print(len(train_dataset))"
   ]
  },
  {
   "cell_type": "code",
   "execution_count": 15,
   "metadata": {},
   "outputs": [
    {
     "name": "stdout",
     "output_type": "stream",
     "text": [
      "Accuracy of the network on the 10K test images: 98 %\n",
      "correct: 1669\n",
      "total: 1703\n"
     ]
    }
   ],
   "source": [
    "correct = 0\n",
    "total = 0\n",
    "for data, labels in test_loader:\n",
    "    data = Variable(data)\n",
    "    outputs = net(data)\n",
    "    _, predicted = torch.max(outputs.data, 1)  # Choose the best class from the output: The class with the best score\n",
    "    total += labels.size(0)                    # Increment the total count\n",
    "    labels = labels.long()\n",
    "    correct += (predicted == torch.max(labels, 1)[1]).sum()     # Increment the correct count\n",
    "    \n",
    "print('Accuracy of the network on the 10K test images: %d %%' % (100 * correct / total))\n",
    "print(\"correct:\", correct.item())\n",
    "print(\"total:\", total)      "
   ]
  },
  {
   "cell_type": "code",
   "execution_count": null,
   "metadata": {},
   "outputs": [],
   "source": []
  },
  {
   "cell_type": "code",
   "execution_count": null,
   "metadata": {},
   "outputs": [],
   "source": []
  },
  {
   "cell_type": "code",
   "execution_count": null,
   "metadata": {},
   "outputs": [],
   "source": []
  }
 ],
 "metadata": {
  "kernelspec": {
   "display_name": "eulerspython",
   "language": "python",
   "name": "eulerspython"
  },
  "language_info": {
   "codemirror_mode": {
    "name": "ipython",
    "version": 3
   },
   "file_extension": ".py",
   "mimetype": "text/x-python",
   "name": "python",
   "nbconvert_exporter": "python",
   "pygments_lexer": "ipython3",
   "version": "3.6.5"
  }
 },
 "nbformat": 4,
 "nbformat_minor": 2
}
