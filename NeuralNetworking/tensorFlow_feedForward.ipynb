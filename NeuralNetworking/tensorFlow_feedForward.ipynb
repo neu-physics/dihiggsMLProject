{
 "cells": [
  {
   "cell_type": "code",
   "execution_count": null,
   "metadata": {},
   "outputs": [],
   "source": [
    "### To-Do\n",
    "# X) work out math if extra treatment needed for lumi normalization\n",
    "# 1) plot some variables before and after normalization. how do they compare?\n",
    "# 2) try batch normalization in the network? re-do step1 maybe?\n",
    "# 3) to_categorical for signal and background preds?\n",
    "# 4) grid optimization? --> dropout rate, layers, nodes, etc\n",
    "# X) k-fold validation"
   ]
  },
  {
   "cell_type": "code",
   "execution_count": 54,
   "metadata": {},
   "outputs": [],
   "source": [
    "# Import the needed libraries\n",
    "import numpy as np\n",
    "import pandas as pd\n",
    "import matplotlib.pyplot as plt\n",
    "from keras.models import Sequential\n",
    "from keras.layers import Dense, Activation, Dropout, BatchNormalization\n",
    "from keras.utils import normalize, to_categorical\n",
    "from sklearn.metrics import confusion_matrix\n",
    "from sklearn.model_selection import StratifiedKFold\n",
    "\n",
    "# Fix random seed for reproducibility\n",
    "seed = 7\n",
    "np.random.seed(seed)"
   ]
  },
  {
   "cell_type": "code",
   "execution_count": 2,
   "metadata": {},
   "outputs": [],
   "source": [
    "import sys\n",
    "sys.path.insert(0, '/home/btannenw/Desktop/ML/dihiggsMLProject/')\n",
    "from utils.commonFunctions import *"
   ]
  },
  {
   "cell_type": "code",
   "execution_count": 39,
   "metadata": {},
   "outputs": [
    {
     "name": "stdout",
     "output_type": "stream",
     "text": [
      "29176 78876 29176\n",
      "58352 rows of total data with  58352 labels [Train+Test]\n",
      "29176 rows of training data with  29176 labels [Train]\n",
      "29176 rows of testing data with  29176 labels [Test]\n"
     ]
    }
   ],
   "source": [
    "#*** 1. Import data and check stuff\n",
    "testingFraction = 0.4\n",
    "\n",
    "# *** A. Import Dataset\n",
    "qcd_raw = pd.read_csv('../samples_500k/qcd_outputDataForLearning.csv')\n",
    "qcd_raw['isSignal'] = 0\n",
    "hh_raw = pd.read_csv('../samples_500k/dihiggs_outputDataForLearning.csv')\n",
    "hh_raw['isSignal'] = 1\n",
    "\n",
    "\n",
    "# *** 2. Make mix of dihiggs and QCD for specified variables\n",
    "variables_top10 = ['deltaR(h1, h2)', 'deltaR(h1 jets)', 'deltaR(h2 jets)', 'hh_mass', 'h1_mass', 'h2_mass','hh_pt', 'h1_pt', 'h2_pt', 'scalarHT']\n",
    "#variables_top10 = list(qcd_raw.columns.values)\n",
    "#variables_top10.remove('isSignal')\n",
    "#variables_top10.remove('isMatchable')\n",
    "\n",
    "top10_data_train, top10_data_test, top10_labels_train, top10_labels_test = makeTestTrainSamplesWithUserVariables(hh_raw, qcd_raw, variables_top10, testingFraction)\n"
   ]
  },
  {
   "cell_type": "code",
   "execution_count": null,
   "metadata": {},
   "outputs": [],
   "source": [
    "# Run the training for 3 different network architectures: (10-5-2) (10-10-2) (10-20-2)\n",
    "\n",
    "# Plot the loss function over iterations\n",
    "num_hidden_nodes = [5, 10, 20]\n",
    "loss_plot = {5: [], 10: [], 20: []}\n",
    "weights1 = {5: None, 10: None, 20: None}\n",
    "weights2 = {5: None, 10: None, 20: None}\n",
    "num_iters = 2000\n",
    "\n",
    "plt.figure(figsize=(12,8))\n",
    "for hidden_nodes in num_hidden_nodes:\n",
    "    weights1[hidden_nodes], weights2[hidden_nodes] = create_train_model(hidden_nodes, num_iters)\n",
    "    plt.plot(range(num_iters), loss_plot[hidden_nodes], label=\"nn: 10-%d-2\" % hidden_nodes)\n",
    "    \n",
    "plt.xlabel('Iteration', fontsize=12)\n",
    "plt.ylabel('Loss', fontsize=12)\n",
    "plt.legend(fontsize=12)"
   ]
  },
  {
   "cell_type": "code",
   "execution_count": 40,
   "metadata": {},
   "outputs": [],
   "source": [
    "# *** 2. Split testing data and normalize data inputs\n",
    "top10_data_train__norm = normalize(top10_data_train, axis=1)\n",
    "top10_data_test__norm = normalize(top10_data_test, axis=1)\n",
    "\n",
    "#top10_labels_train = to_categorical(top10_labels_train)\n",
    "#top10_labels_test = to_categorical(top10_labels_test)\n"
   ]
  },
  {
   "cell_type": "code",
   "execution_count": 48,
   "metadata": {},
   "outputs": [
    {
     "name": "stdout",
     "output_type": "stream",
     "text": [
      "Train on 21882 samples, validate on 7294 samples\n",
      "Epoch 1/100\n",
      "21882/21882 [==============================] - 2s 91us/step - loss: 0.6365 - accuracy: 0.6323 - val_loss: 0.6030 - val_accuracy: 0.6747\n",
      "Epoch 2/100\n",
      "21882/21882 [==============================] - 2s 72us/step - loss: 0.6145 - accuracy: 0.6631 - val_loss: 0.5964 - val_accuracy: 0.6830\n",
      "Epoch 3/100\n",
      "21882/21882 [==============================] - 2s 70us/step - loss: 0.6007 - accuracy: 0.6830 - val_loss: 0.5684 - val_accuracy: 0.7070\n",
      "Epoch 4/100\n",
      "21882/21882 [==============================] - 2s 70us/step - loss: 0.5914 - accuracy: 0.6895 - val_loss: 0.5616 - val_accuracy: 0.7121\n",
      "Epoch 5/100\n",
      "21882/21882 [==============================] - 2s 72us/step - loss: 0.5838 - accuracy: 0.6973 - val_loss: 0.5515 - val_accuracy: 0.7177\n",
      "Epoch 6/100\n",
      "21882/21882 [==============================] - 2s 98us/step - loss: 0.5824 - accuracy: 0.7010 - val_loss: 0.5541 - val_accuracy: 0.7150\n",
      "Epoch 7/100\n",
      "21882/21882 [==============================] - 2s 71us/step - loss: 0.5750 - accuracy: 0.7054 - val_loss: 0.5498 - val_accuracy: 0.7235\n",
      "Epoch 8/100\n",
      "21882/21882 [==============================] - 2s 73us/step - loss: 0.5730 - accuracy: 0.7098 - val_loss: 0.5537 - val_accuracy: 0.7179\n",
      "Epoch 9/100\n",
      "21882/21882 [==============================] - 2s 73us/step - loss: 0.5710 - accuracy: 0.7110 - val_loss: 0.5405 - val_accuracy: 0.7332\n",
      "Epoch 10/100\n",
      "21882/21882 [==============================] - 2s 78us/step - loss: 0.5677 - accuracy: 0.7111 - val_loss: 0.5406 - val_accuracy: 0.7303\n",
      "Epoch 11/100\n",
      "21882/21882 [==============================] - 2s 79us/step - loss: 0.5679 - accuracy: 0.7126 - val_loss: 0.5569 - val_accuracy: 0.7254\n",
      "Epoch 12/100\n",
      "21882/21882 [==============================] - 3s 125us/step - loss: 0.5650 - accuracy: 0.7145 - val_loss: 0.5407 - val_accuracy: 0.7274\n",
      "Epoch 13/100\n",
      "21882/21882 [==============================] - 3s 124us/step - loss: 0.5645 - accuracy: 0.7157 - val_loss: 0.5407 - val_accuracy: 0.7331\n",
      "Epoch 14/100\n",
      "21882/21882 [==============================] - 3s 121us/step - loss: 0.5648 - accuracy: 0.7136 - val_loss: 0.5345 - val_accuracy: 0.7351\n",
      "Epoch 15/100\n",
      "21882/21882 [==============================] - 2s 96us/step - loss: 0.5611 - accuracy: 0.7178 - val_loss: 0.5383 - val_accuracy: 0.7318\n",
      "Epoch 16/100\n",
      "21882/21882 [==============================] - 3s 132us/step - loss: 0.5613 - accuracy: 0.7169 - val_loss: 0.5445 - val_accuracy: 0.7254\n",
      "Epoch 17/100\n",
      "21882/21882 [==============================] - 2s 106us/step - loss: 0.5604 - accuracy: 0.7186 - val_loss: 0.5381 - val_accuracy: 0.7301\n",
      "Epoch 18/100\n",
      "21882/21882 [==============================] - 2s 94us/step - loss: 0.5591 - accuracy: 0.7235 - val_loss: 0.5483 - val_accuracy: 0.7237\n",
      "Epoch 19/100\n",
      "21882/21882 [==============================] - 2s 89us/step - loss: 0.5590 - accuracy: 0.7192 - val_loss: 0.5281 - val_accuracy: 0.7377\n",
      "Epoch 20/100\n",
      "21882/21882 [==============================] - 2s 105us/step - loss: 0.5574 - accuracy: 0.7214 - val_loss: 0.5320 - val_accuracy: 0.7342\n",
      "Epoch 21/100\n",
      "21882/21882 [==============================] - 2s 75us/step - loss: 0.5578 - accuracy: 0.7202 - val_loss: 0.5292 - val_accuracy: 0.7375\n",
      "Epoch 22/100\n",
      "21882/21882 [==============================] - 2s 77us/step - loss: 0.5533 - accuracy: 0.7278 - val_loss: 0.5275 - val_accuracy: 0.7386\n",
      "Epoch 23/100\n",
      "21882/21882 [==============================] - 2s 77us/step - loss: 0.5540 - accuracy: 0.7242 - val_loss: 0.5345 - val_accuracy: 0.7387\n",
      "Epoch 24/100\n",
      "21882/21882 [==============================] - 2s 77us/step - loss: 0.5565 - accuracy: 0.7239 - val_loss: 0.5369 - val_accuracy: 0.7357\n",
      "Epoch 25/100\n",
      "21882/21882 [==============================] - 2s 81us/step - loss: 0.5510 - accuracy: 0.7256 - val_loss: 0.5291 - val_accuracy: 0.7435\n",
      "Epoch 26/100\n",
      "21882/21882 [==============================] - 2s 109us/step - loss: 0.5484 - accuracy: 0.7290 - val_loss: 0.5264 - val_accuracy: 0.7447\n",
      "Epoch 27/100\n",
      "21882/21882 [==============================] - 2s 109us/step - loss: 0.5484 - accuracy: 0.7308 - val_loss: 0.5257 - val_accuracy: 0.7425\n",
      "Epoch 28/100\n",
      "21882/21882 [==============================] - 2s 91us/step - loss: 0.5468 - accuracy: 0.7317 - val_loss: 0.5377 - val_accuracy: 0.7362\n",
      "Epoch 29/100\n",
      "21882/21882 [==============================] - 2s 109us/step - loss: 0.5495 - accuracy: 0.7285 - val_loss: 0.5146 - val_accuracy: 0.7503\n",
      "Epoch 30/100\n",
      "21882/21882 [==============================] - 2s 96us/step - loss: 0.5464 - accuracy: 0.7308 - val_loss: 0.5254 - val_accuracy: 0.7417\n",
      "Epoch 31/100\n",
      "21882/21882 [==============================] - 2s 82us/step - loss: 0.5451 - accuracy: 0.7315 - val_loss: 0.5208 - val_accuracy: 0.7431\n",
      "Epoch 32/100\n",
      "21882/21882 [==============================] - 2s 83us/step - loss: 0.5427 - accuracy: 0.7333 - val_loss: 0.5089 - val_accuracy: 0.7510\n",
      "Epoch 33/100\n",
      "21882/21882 [==============================] - 2s 92us/step - loss: 0.5459 - accuracy: 0.7322 - val_loss: 0.5126 - val_accuracy: 0.7491\n",
      "Epoch 34/100\n",
      "21882/21882 [==============================] - 2s 79us/step - loss: 0.5458 - accuracy: 0.7303 - val_loss: 0.5174 - val_accuracy: 0.7532\n",
      "Epoch 35/100\n",
      "21882/21882 [==============================] - 2s 80us/step - loss: 0.5417 - accuracy: 0.7320 - val_loss: 0.5115 - val_accuracy: 0.7523\n",
      "Epoch 36/100\n",
      "21882/21882 [==============================] - 2s 98us/step - loss: 0.5389 - accuracy: 0.7384 - val_loss: 0.5215 - val_accuracy: 0.7484\n",
      "Epoch 37/100\n",
      "21882/21882 [==============================] - 2s 78us/step - loss: 0.5441 - accuracy: 0.7339 - val_loss: 0.5098 - val_accuracy: 0.7516\n",
      "Epoch 38/100\n",
      "21882/21882 [==============================] - 3s 118us/step - loss: 0.5399 - accuracy: 0.7364 - val_loss: 0.5127 - val_accuracy: 0.7499\n",
      "Epoch 39/100\n",
      "21882/21882 [==============================] - 2s 83us/step - loss: 0.5420 - accuracy: 0.7339 - val_loss: 0.5220 - val_accuracy: 0.7457\n",
      "Epoch 40/100\n",
      "21882/21882 [==============================] - 3s 147us/step - loss: 0.5407 - accuracy: 0.7369 - val_loss: 0.5091 - val_accuracy: 0.7532\n",
      "Epoch 41/100\n",
      "21882/21882 [==============================] - 2s 97us/step - loss: 0.5388 - accuracy: 0.7370 - val_loss: 0.5134 - val_accuracy: 0.7468\n",
      "Epoch 42/100\n",
      "21882/21882 [==============================] - 1s 60us/step - loss: 0.5362 - accuracy: 0.7402 - val_loss: 0.5103 - val_accuracy: 0.7502\n",
      "Epoch 43/100\n",
      "21882/21882 [==============================] - 1s 62us/step - loss: 0.5374 - accuracy: 0.7383 - val_loss: 0.5101 - val_accuracy: 0.7527\n",
      "Epoch 44/100\n",
      "21882/21882 [==============================] - 1s 64us/step - loss: 0.5371 - accuracy: 0.7358 - val_loss: 0.5127 - val_accuracy: 0.7527\n",
      "Epoch 45/100\n",
      "21882/21882 [==============================] - 1s 62us/step - loss: 0.5338 - accuracy: 0.7404 - val_loss: 0.5073 - val_accuracy: 0.7539\n",
      "Epoch 46/100\n",
      "21882/21882 [==============================] - 1s 61us/step - loss: 0.5408 - accuracy: 0.7369 - val_loss: 0.5017 - val_accuracy: 0.7565\n",
      "Epoch 47/100\n",
      "21882/21882 [==============================] - 1s 63us/step - loss: 0.5362 - accuracy: 0.7384 - val_loss: 0.5024 - val_accuracy: 0.7610\n",
      "Epoch 48/100\n",
      "21882/21882 [==============================] - 1s 60us/step - loss: 0.5347 - accuracy: 0.7405 - val_loss: 0.5141 - val_accuracy: 0.7510\n",
      "Epoch 49/100\n",
      "21882/21882 [==============================] - 1s 62us/step - loss: 0.5356 - accuracy: 0.7395 - val_loss: 0.5114 - val_accuracy: 0.7497\n",
      "Epoch 50/100\n",
      "21882/21882 [==============================] - 2s 102us/step - loss: 0.5322 - accuracy: 0.7423 - val_loss: 0.5066 - val_accuracy: 0.7605\n",
      "Epoch 51/100\n",
      "21882/21882 [==============================] - 3s 137us/step - loss: 0.5357 - accuracy: 0.7396 - val_loss: 0.5073 - val_accuracy: 0.7568\n",
      "Epoch 52/100\n",
      "21882/21882 [==============================] - 2s 96us/step - loss: 0.5344 - accuracy: 0.7403 - val_loss: 0.5053 - val_accuracy: 0.7549\n",
      "Epoch 53/100\n",
      "21882/21882 [==============================] - 4s 171us/step - loss: 0.5340 - accuracy: 0.7392 - val_loss: 0.5120 - val_accuracy: 0.7523\n",
      "Epoch 54/100\n",
      "21882/21882 [==============================] - 3s 133us/step - loss: 0.5343 - accuracy: 0.7382 - val_loss: 0.5041 - val_accuracy: 0.7521\n",
      "Epoch 55/100\n"
     ]
    },
    {
     "name": "stdout",
     "output_type": "stream",
     "text": [
      "21882/21882 [==============================] - 1s 62us/step - loss: 0.5330 - accuracy: 0.7427 - val_loss: 0.4987 - val_accuracy: 0.7630\n",
      "Epoch 56/100\n",
      "21882/21882 [==============================] - 1s 62us/step - loss: 0.5364 - accuracy: 0.7387 - val_loss: 0.5124 - val_accuracy: 0.7488\n",
      "Epoch 57/100\n",
      "21882/21882 [==============================] - 2s 108us/step - loss: 0.5330 - accuracy: 0.7385 - val_loss: 0.4980 - val_accuracy: 0.7566\n",
      "Epoch 58/100\n",
      "21882/21882 [==============================] - 2s 77us/step - loss: 0.5315 - accuracy: 0.7425 - val_loss: 0.5000 - val_accuracy: 0.7631\n",
      "Epoch 59/100\n",
      "21882/21882 [==============================] - 2s 94us/step - loss: 0.5319 - accuracy: 0.7391 - val_loss: 0.5330 - val_accuracy: 0.7335\n",
      "Epoch 60/100\n",
      "21882/21882 [==============================] - 1s 62us/step - loss: 0.5296 - accuracy: 0.7423 - val_loss: 0.5071 - val_accuracy: 0.7546\n",
      "Epoch 61/100\n",
      "21882/21882 [==============================] - 1s 61us/step - loss: 0.5314 - accuracy: 0.7396 - val_loss: 0.5044 - val_accuracy: 0.7519\n",
      "Epoch 62/100\n",
      "21882/21882 [==============================] - 1s 62us/step - loss: 0.5307 - accuracy: 0.7416 - val_loss: 0.5039 - val_accuracy: 0.7556\n",
      "Epoch 63/100\n",
      "21882/21882 [==============================] - 1s 64us/step - loss: 0.5339 - accuracy: 0.7431 - val_loss: 0.5075 - val_accuracy: 0.7610\n",
      "Epoch 64/100\n",
      "21882/21882 [==============================] - 3s 140us/step - loss: 0.5333 - accuracy: 0.7414 - val_loss: 0.5070 - val_accuracy: 0.7502\n",
      "Epoch 65/100\n",
      "21882/21882 [==============================] - 1s 66us/step - loss: 0.5293 - accuracy: 0.7421 - val_loss: 0.4973 - val_accuracy: 0.7599\n",
      "Epoch 66/100\n",
      "21882/21882 [==============================] - 2s 74us/step - loss: 0.5284 - accuracy: 0.7456 - val_loss: 0.4933 - val_accuracy: 0.7646\n",
      "Epoch 67/100\n",
      "21882/21882 [==============================] - 2s 99us/step - loss: 0.5304 - accuracy: 0.7437 - val_loss: 0.4991 - val_accuracy: 0.7614\n",
      "Epoch 68/100\n",
      "21882/21882 [==============================] - 3s 143us/step - loss: 0.5287 - accuracy: 0.7449 - val_loss: 0.5036 - val_accuracy: 0.7587\n",
      "Epoch 69/100\n",
      "21882/21882 [==============================] - 2s 110us/step - loss: 0.5282 - accuracy: 0.7431 - val_loss: 0.5165 - val_accuracy: 0.7462\n",
      "Epoch 70/100\n",
      "21882/21882 [==============================] - 1s 65us/step - loss: 0.5315 - accuracy: 0.7415 - val_loss: 0.5251 - val_accuracy: 0.7479\n",
      "Epoch 71/100\n",
      "21882/21882 [==============================] - 4s 164us/step - loss: 0.5290 - accuracy: 0.7443 - val_loss: 0.4930 - val_accuracy: 0.7628\n",
      "Epoch 72/100\n",
      "21882/21882 [==============================] - 2s 98us/step - loss: 0.5280 - accuracy: 0.7452 - val_loss: 0.5053 - val_accuracy: 0.7524\n",
      "Epoch 73/100\n",
      "21882/21882 [==============================] - 1s 61us/step - loss: 0.5284 - accuracy: 0.7450 - val_loss: 0.5086 - val_accuracy: 0.7487\n",
      "Epoch 74/100\n",
      "21882/21882 [==============================] - 1s 60us/step - loss: 0.5295 - accuracy: 0.7423 - val_loss: 0.4929 - val_accuracy: 0.7658\n",
      "Epoch 75/100\n",
      "21882/21882 [==============================] - 1s 64us/step - loss: 0.5288 - accuracy: 0.7434 - val_loss: 0.4974 - val_accuracy: 0.7639\n",
      "Epoch 76/100\n",
      "21882/21882 [==============================] - 1s 63us/step - loss: 0.5281 - accuracy: 0.7423 - val_loss: 0.4965 - val_accuracy: 0.7580\n",
      "Epoch 77/100\n",
      "21882/21882 [==============================] - 1s 60us/step - loss: 0.5295 - accuracy: 0.7435 - val_loss: 0.4931 - val_accuracy: 0.7627\n",
      "Epoch 78/100\n",
      "21882/21882 [==============================] - 2s 108us/step - loss: 0.5248 - accuracy: 0.7459 - val_loss: 0.5064 - val_accuracy: 0.7536\n",
      "Epoch 79/100\n",
      "21882/21882 [==============================] - 2s 113us/step - loss: 0.5283 - accuracy: 0.7413 - val_loss: 0.4974 - val_accuracy: 0.7582\n",
      "Epoch 80/100\n",
      "21882/21882 [==============================] - 2s 110us/step - loss: 0.5294 - accuracy: 0.7404 - val_loss: 0.5021 - val_accuracy: 0.7536\n",
      "Epoch 81/100\n",
      "21882/21882 [==============================] - 2s 77us/step - loss: 0.5262 - accuracy: 0.7416 - val_loss: 0.4884 - val_accuracy: 0.7650\n",
      "Epoch 82/100\n",
      "21882/21882 [==============================] - 2s 74us/step - loss: 0.5273 - accuracy: 0.7450 - val_loss: 0.5103 - val_accuracy: 0.7484\n",
      "Epoch 83/100\n",
      "21882/21882 [==============================] - 2s 77us/step - loss: 0.5261 - accuracy: 0.7439 - val_loss: 0.5078 - val_accuracy: 0.7516\n",
      "Epoch 84/100\n",
      "21882/21882 [==============================] - 1s 66us/step - loss: 0.5217 - accuracy: 0.7474 - val_loss: 0.4937 - val_accuracy: 0.7602\n",
      "Epoch 85/100\n",
      "21882/21882 [==============================] - 2s 92us/step - loss: 0.5251 - accuracy: 0.7453 - val_loss: 0.4937 - val_accuracy: 0.7614\n",
      "Epoch 86/100\n",
      "21882/21882 [==============================] - 2s 72us/step - loss: 0.5215 - accuracy: 0.7488 - val_loss: 0.5042 - val_accuracy: 0.7609\n",
      "Epoch 87/100\n",
      "21882/21882 [==============================] - 2s 70us/step - loss: 0.5287 - accuracy: 0.7450 - val_loss: 0.4898 - val_accuracy: 0.7665\n",
      "Epoch 88/100\n",
      "21882/21882 [==============================] - 1s 68us/step - loss: 0.5247 - accuracy: 0.7465 - val_loss: 0.4895 - val_accuracy: 0.7661\n",
      "Epoch 89/100\n",
      "21882/21882 [==============================] - 1s 60us/step - loss: 0.5222 - accuracy: 0.7482 - val_loss: 0.5015 - val_accuracy: 0.7557\n",
      "Epoch 90/100\n",
      "21882/21882 [==============================] - 2s 84us/step - loss: 0.5240 - accuracy: 0.7450 - val_loss: 0.5186 - val_accuracy: 0.7457\n",
      "Epoch 91/100\n",
      "21882/21882 [==============================] - 1s 67us/step - loss: 0.5244 - accuracy: 0.7481 - val_loss: 0.4863 - val_accuracy: 0.7664\n",
      "Epoch 92/100\n",
      "21882/21882 [==============================] - 2s 88us/step - loss: 0.5216 - accuracy: 0.7467 - val_loss: 0.4874 - val_accuracy: 0.7597\n",
      "Epoch 93/100\n",
      "21882/21882 [==============================] - 2s 100us/step - loss: 0.5223 - accuracy: 0.7478 - val_loss: 0.5002 - val_accuracy: 0.7535\n",
      "Epoch 94/100\n",
      "21882/21882 [==============================] - 2s 84us/step - loss: 0.5243 - accuracy: 0.7444 - val_loss: 0.4914 - val_accuracy: 0.7650\n",
      "Epoch 95/100\n",
      "21882/21882 [==============================] - 2s 80us/step - loss: 0.5252 - accuracy: 0.7434 - val_loss: 0.4893 - val_accuracy: 0.7664\n",
      "Epoch 96/100\n",
      "21882/21882 [==============================] - 2s 78us/step - loss: 0.5228 - accuracy: 0.7461 - val_loss: 0.5042 - val_accuracy: 0.7616\n",
      "Epoch 97/100\n",
      "21882/21882 [==============================] - 2s 73us/step - loss: 0.5210 - accuracy: 0.7476 - val_loss: 0.4943 - val_accuracy: 0.7590\n",
      "Epoch 98/100\n",
      "21882/21882 [==============================] - 2s 85us/step - loss: 0.5234 - accuracy: 0.7493 - val_loss: 0.5006 - val_accuracy: 0.7661\n",
      "Epoch 99/100\n",
      "21882/21882 [==============================] - 2s 109us/step - loss: 0.5237 - accuracy: 0.7475 - val_loss: 0.4904 - val_accuracy: 0.7634\n",
      "Epoch 100/100\n",
      "21882/21882 [==============================] - 2s 81us/step - loss: 0.5213 - accuracy: 0.7462 - val_loss: 0.4853 - val_accuracy: 0.7658\n"
     ]
    }
   ],
   "source": [
    "# *** 3A. Define NN model and train\n",
    "nInputNodes = len(top10_data_train__norm.columns) # = 53 for all variables, other configurations will vary\n",
    "\n",
    "model = Sequential()\n",
    "model.add(Dense(50, input_dim=nInputNodes, activation='relu'))\n",
    "model.add(Dropout(0.2))\n",
    "model.add(BatchNormalization())\n",
    "\n",
    "model.add(Dense(25, activation='relu'))\n",
    "model.add(Dropout(0.2))\n",
    "#model.add(BatchNormalization())\n",
    "\n",
    "model.add(Dense(12, activation='relu'))\n",
    "model.add(Dropout(0.2))\n",
    "#model.add(BatchNormalization())\n",
    "\n",
    "model.add(Dense(1, activation='sigmoid'))\n",
    "\n",
    "model.compile(loss='binary_crossentropy',\n",
    "              optimizer='adam',\n",
    "              metrics=['accuracy'])\n",
    "\n",
    "history = model.fit(top10_data_train__norm, top10_labels_train, epochs=100, validation_split=0.25, batch_size=400)\n",
    "\n",
    "\n",
    "#model.add(Dense(100, input_dim=53, activation='relu'))\n",
    "#model.add(Dense(100, input_dim=10, activation='relu'))\n",
    "#optimizer='rmsprop',\n",
    "#history = model.fit(top10_data_train, top10_labels_train, epochs=100, validation_split=0.33, batch_size=500)\n",
    "#score = model.evaluate(x_test, y_test, batch_size=128)"
   ]
  },
  {
   "cell_type": "code",
   "execution_count": 57,
   "metadata": {},
   "outputs": [
    {
     "data": {
      "text/plain": [
       "array([[6.22027100e-04, 7.47026255e-04, 5.72531753e-04, ...,\n",
       "        2.45002336e-01, 2.74396793e-01, 7.08575345e-01],\n",
       "       [3.19397590e-03, 6.84182025e-04, 6.15408765e-04, ...,\n",
       "        3.11143251e-01, 2.57234370e-01, 4.65166945e-01],\n",
       "       [3.36123989e-03, 3.05782406e-03, 2.03402559e-03, ...,\n",
       "        1.61798699e-01, 2.08345321e-01, 6.68667002e-01],\n",
       "       ...,\n",
       "       [7.02532787e-03, 1.69253081e-03, 4.13607589e-03, ...,\n",
       "        2.31767264e-01, 1.64218395e-01, 6.50731370e-01],\n",
       "       [2.25486276e-03, 1.21223303e-03, 2.38779949e-03, ...,\n",
       "        3.17784386e-01, 1.17344960e-01, 6.64642150e-01],\n",
       "       [4.84523734e-03, 1.58100098e-03, 5.45776645e-03, ...,\n",
       "        2.62348557e-01, 1.88434846e-01, 7.36925642e-01]])"
      ]
     },
     "execution_count": 57,
     "metadata": {},
     "output_type": "execute_result"
    }
   ],
   "source": [
    "np.array(top10_data_train__norm)"
   ]
  },
  {
   "cell_type": "code",
   "execution_count": 76,
   "metadata": {},
   "outputs": [
    {
     "name": "stdout",
     "output_type": "stream",
     "text": [
      "accuracy: 76.44%\n",
      "accuracy: 75.24%\n",
      "accuracy: 75.48%\n",
      "accuracy: 75.51%\n",
      "accuracy: 74.81%\n",
      "75.49% (+/- 0.54%)\n"
     ]
    }
   ],
   "source": [
    "# *** 3B. Define k-fold NN model and train\n",
    "nInputNodes = len(top10_data_train__norm.columns) # = 53 for all variables, other configurations will vary\n",
    "kFold = StratifiedKFold(n_splits=5, shuffle=True, random_state=seed)\n",
    "crossVal_scores = []\n",
    "\n",
    "X = np.array(top10_data_train__norm)\n",
    "Y = np.array(top10_labels_train)\n",
    "\n",
    "for train, test in kFold.split(X, Y):\n",
    "  # create model\n",
    "    k_model = Sequential()\n",
    "    k_model.add(Dense(50, input_dim= nInputNodes, activation='relu'))\n",
    "    #k_model.add(Dropout(0.2))\n",
    "    k_model.add(BatchNormalization())\n",
    "\n",
    "    k_model.add(Dense(25, activation='relu'))\n",
    "    k_model.add(Dense(12, activation='relu'))\n",
    "    #k_model.add(Dense(8, activation='relu'))\n",
    "    k_model.add(Dense(1, activation='sigmoid'))\n",
    "    \n",
    "    # Compile model\n",
    "    k_model.compile(loss='binary_crossentropy', optimizer='adam', metrics=['accuracy'])\n",
    "    \n",
    "    # Fit the model\n",
    "    k_model.fit(X[train], Y[train], epochs=50, batch_size=400, verbose=0)\n",
    "    \n",
    "    # Evaluate the model\n",
    "    scores = k_model.evaluate(X[test], Y[test], verbose=0)\n",
    "    print(\"%s: %.2f%%\" % (k_model.metrics_names[1], scores[1]*100))\n",
    "    crossVal_scores.append(scores[1] * 100)\n",
    "\n",
    "print(\"%.2f%% (+/- %.2f%%)\" % (np.mean(crossVal_scores), np.std(crossVal_scores)))"
   ]
  },
  {
   "cell_type": "code",
   "execution_count": 77,
   "metadata": {},
   "outputs": [
    {
     "name": "stdout",
     "output_type": "stream",
     "text": [
      "14560/14560 [==============================] - 0s 24us/step\n",
      "14616/14616 [==============================] - 0s 24us/step\n",
      "[0.5666815933945415, 0.7412774562835693] [0.4513250920997008, 0.7650520205497742]\n"
     ]
    }
   ],
   "source": [
    "# *** 4. Do some very specific evaluation based on pure samples\n",
    "top10_data_test__norm['isSignal'] = top10_labels_test\n",
    "hh_data_test = top10_data_test__norm[ top10_data_test__norm.isSignal==1 ]\n",
    "qcd_data_test = top10_data_test__norm[ top10_data_test__norm.isSignal==0 ]\n",
    "hh_labels_test = hh_data_test.isSignal\n",
    "qcd_labels_test = qcd_data_test.isSignal\n",
    "hh_data_test = hh_data_test.drop('isSignal', axis=1)\n",
    "qcd_data_test = qcd_data_test.drop('isSignal', axis=1)\n",
    "\n",
    "score_hh = k_model.evaluate(hh_data_test, hh_labels_test)\n",
    "score_qcd = k_model.evaluate(qcd_data_test, qcd_labels_test)\n",
    "print(score_hh, score_qcd)\n",
    "pred_hh = k_model.predict(hh_data_test)\n",
    "pred_qcd = k_model.predict(qcd_data_test)"
   ]
  },
  {
   "cell_type": "code",
   "execution_count": 78,
   "metadata": {},
   "outputs": [
    {
     "data": {
      "text/plain": [
       "2370"
      ]
     },
     "execution_count": 78,
     "metadata": {},
     "output_type": "execute_result"
    }
   ],
   "source": [
    "model.count_params()\n",
    "#model_confusionMatrix = confusion_matrix(hh_data_test, hh_labels_test)\n",
    "#print(cm)\n"
   ]
  },
  {
   "cell_type": "code",
   "execution_count": 79,
   "metadata": {},
   "outputs": [
    {
     "data": {
      "image/png": "[encoded data removed]",
      "text/plain": [
       "<Figure size 432x288 with 1 Axes>"
      ]
     },
     "metadata": {
      "needs_background": "light"
     },
     "output_type": "display_data"
    }
   ],
   "source": [
    "_nBins = 40\n",
    "predictionResults = {'hh_pred':pred_hh, 'qcd_pred':pred_qcd}\n",
    "compareManyHistograms( predictionResults, ['hh_pred', 'qcd_pred'], 2, 'Signal Prediction', 'ff-NN Score', 0, 1, _nBins, _savePlot=False )\n"
   ]
  },
  {
   "cell_type": "code",
   "execution_count": 80,
   "metadata": {},
   "outputs": [
    {
     "name": "stdout",
     "output_type": "stream",
     "text": [
      "14560 14616\n",
      "nSig = [1083.4776] , nBkg = [6824178.504] with significance = [0.41475798] for ff-NN score > [0.7008608]\n"
     ]
    },
    {
     "data": {
      "text/plain": [
       "(array([0.41475798]), array([0.7008608], dtype=float32))"
      ]
     },
     "execution_count": 80,
     "metadata": {},
     "output_type": "execute_result"
    }
   ],
   "source": [
    "# *** 4. Get best cut value for ff-NN assuming some minimal amount of signal\n",
    "returnBestCutValue('ff-NN', pred_hh.copy(), pred_qcd.copy(), _minBackground=200, _testingFraction=testingFraction)"
   ]
  },
  {
   "cell_type": "code",
   "execution_count": null,
   "metadata": {},
   "outputs": [],
   "source": [
    "# *** 5. Get signifiance for any user-specified NN score cut value\n",
    "cut = 0.81\n",
    "_nSignal = sum( value > cut for value in pred_hh)*lumiScale_hh_to_qcd*totalLumi_HLLHC\n",
    "_nBackground = sum( value > cut for value in pred_qcd)*totalLumi_HLLHC\n",
    "\n",
    "print('nSig = {0} , nBkg = {1} with significance = {2} for NN score > {3}'.format(_nSignal, _nBackground, _nSignal/np.sqrt(_nBackground), cut) )"
   ]
  },
  {
   "cell_type": "code",
   "execution_count": null,
   "metadata": {},
   "outputs": [],
   "source": []
  },
  {
   "cell_type": "code",
   "execution_count": 64,
   "metadata": {},
   "outputs": [
    {
     "name": "stdout",
     "output_type": "stream",
     "text": [
      "dict_keys(['val_loss', 'val_accuracy', 'loss', 'accuracy'])\n"
     ]
    },
    {
     "data": {
      "image/png": "[encoded data removed]",
      "text/plain": [
       "<Figure size 432x288 with 1 Axes>"
      ]
     },
     "metadata": {
      "needs_background": "light"
     },
     "output_type": "display_data"
    },
    {
     "data": {
      "image/png": "[encoded data removed]",
      "text/plain": [
       "<Figure size 432x288 with 1 Axes>"
      ]
     },
     "metadata": {
      "needs_background": "light"
     },
     "output_type": "display_data"
    }
   ],
   "source": [
    "print(history.history.keys())\n",
    "# summarize history for accuracy\n",
    "plt.plot(history.history['accuracy'])\n",
    "plt.plot(history.history['val_accuracy'])\n",
    "plt.title('ff-NN Accuracy')\n",
    "plt.ylabel('Accuracy [%]')\n",
    "plt.xlabel('Epoch')\n",
    "plt.legend(['Train', 'Test'], loc='upper left')\n",
    "plt.show()\n",
    "# summarize history for loss\n",
    "plt.plot(history.history['loss'])\n",
    "plt.plot(history.history['val_loss'])\n",
    "plt.title('ff-NN Model Loss')\n",
    "plt.ylabel('Loss [A.U.]')\n",
    "plt.xlabel('Epoch')\n",
    "plt.legend(['Train', 'Test'], loc='upper right')\n",
    "plt.show()"
   ]
  },
  {
   "cell_type": "code",
   "execution_count": 65,
   "metadata": {},
   "outputs": [
    {
     "name": "stdout",
     "output_type": "stream",
     "text": [
      "Model: \"sequential_31\"\n",
      "_________________________________________________________________\n",
      "Layer (type)                 Output Shape              Param #   \n",
      "=================================================================\n",
      "dense_97 (Dense)             (None, 12)                132       \n",
      "_________________________________________________________________\n",
      "dense_98 (Dense)             (None, 8)                 104       \n",
      "_________________________________________________________________\n",
      "dense_99 (Dense)             (None, 1)                 9         \n",
      "=================================================================\n",
      "Total params: 245\n",
      "Trainable params: 245\n",
      "Non-trainable params: 0\n",
      "_________________________________________________________________\n"
     ]
    }
   ],
   "source": [
    "k_model.summary()"
   ]
  },
  {
   "cell_type": "code",
   "execution_count": null,
   "metadata": {},
   "outputs": [],
   "source": []
  }
 ],
 "metadata": {
  "kernelspec": {
   "display_name": "Python 3",
   "language": "python",
   "name": "python3"
  },
  "language_info": {
   "codemirror_mode": {
    "name": "ipython",
    "version": 3
   },
   "file_extension": ".py",
   "mimetype": "text/x-python",
   "name": "python",
   "nbconvert_exporter": "python",
   "pygments_lexer": "ipython3",
   "version": "3.7.4"
  }
 },
 "nbformat": 4,
 "nbformat_minor": 2
}
