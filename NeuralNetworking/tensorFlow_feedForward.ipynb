{
 "cells": [
  {
   "cell_type": "code",
   "execution_count": null,
   "metadata": {},
   "outputs": [],
   "source": [
    "### To-Do\n",
    "# X) work out math if extra treatment needed for lumi normalization\n",
    "# 1) plot some variables before and after normalization. how do they compare?\n",
    "# X) try batch normalization in the network? re-do step1 maybe?\n",
    "# 3) to_categorical for signal and background preds?\n",
    "# 4) grid optimization? --> dropout rate, layers, nodes, etc\n",
    "# X) k-fold validation"
   ]
  },
  {
   "cell_type": "code",
   "execution_count": 1,
   "metadata": {},
   "outputs": [
    {
     "name": "stderr",
     "output_type": "stream",
     "text": [
      "Using TensorFlow backend.\n"
     ]
    }
   ],
   "source": [
    "# Import the needed libraries\n",
    "import numpy as np\n",
    "import pandas as pd\n",
    "import matplotlib.pyplot as plt\n",
    "from keras.models import Sequential\n",
    "from keras.layers import Dense, Activation, Dropout, BatchNormalization\n",
    "from keras.utils import normalize, to_categorical\n",
    "from sklearn.metrics import confusion_matrix, roc_curve, auc\n",
    "from sklearn.model_selection import StratifiedKFold\n",
    "\n",
    "# Fix random seed for reproducibility\n",
    "seed = 7\n",
    "np.random.seed(seed)"
   ]
  },
  {
   "cell_type": "code",
   "execution_count": 2,
   "metadata": {},
   "outputs": [],
   "source": [
    "import sys\n",
    "sys.path.insert(0, '/home/btannenw/Desktop/ML/dihiggsMLProject/')\n",
    "from utils.commonFunctions import *"
   ]
  },
  {
   "cell_type": "code",
   "execution_count": 20,
   "metadata": {},
   "outputs": [
    {
     "name": "stdout",
     "output_type": "stream",
     "text": [
      "N_sig = 78876 , N_bkg = 116481\n",
      "195357 rows of total data with  195357 labels [Train+Test]\n",
      "136749 rows of training data with  136749 labels [Train]\n",
      "58608 rows of testing data with  58608 labels [Test]\n"
     ]
    }
   ],
   "source": [
    "#*** 1. Import data and check stuff\n",
    "testingFraction = 0.3\n",
    "\n",
    "# *** A. Import Dataset\n",
    "hh_raw, qcd_raw = importDatasets()\n",
    "\n",
    "# *** 2. Make mix of dihiggs and QCD for specified variables\n",
    "#variables_top10 = ['deltaR(h1, h2)', 'deltaR(h1 jets)', 'deltaR(h2 jets)', 'hh_mass', 'h1_mass', 'h2_mass','hh_pt', 'h1_pt', 'h2_pt', 'scalarHT']\n",
    "variables_top10 = list(qcd_raw.columns.values)\n",
    "variables_top10.remove('isSignal')\n",
    "variables_top10.remove('isMatchable')\n",
    "\n",
    "top10_data_train, top10_data_test, top10_labels_train, top10_labels_test = makeTestTrainSamplesWithUserVariables(hh_raw, qcd_raw, variables_top10, testingFraction)\n"
   ]
  },
  {
   "cell_type": "code",
   "execution_count": 21,
   "metadata": {},
   "outputs": [],
   "source": [
    "# *** 2. Split testing data and normalize data inputs\n",
    "top10_data_train__norm = normalize(top10_data_train, axis=1)\n",
    "top10_data_test__norm = normalize(top10_data_test, axis=1)\n",
    "\n",
    "#top10_labels_train = to_categorical(top10_labels_train)\n",
    "#top10_labels_test = to_categorical(top10_labels_test)\n"
   ]
  },
  {
   "cell_type": "code",
   "execution_count": 28,
   "metadata": {},
   "outputs": [
    {
     "name": "stdout",
     "output_type": "stream",
     "text": [
      "Train on 102561 samples, validate on 34188 samples\n",
      "Epoch 1/50\n",
      "102561/102561 [==============================] - 2s 21us/step - loss: 0.6030 - accuracy: 0.6609 - val_loss: 0.6330 - val_accuracy: 0.6767\n",
      "Epoch 2/50\n",
      "102561/102561 [==============================] - 2s 17us/step - loss: 0.5717 - accuracy: 0.6901 - val_loss: 0.5825 - val_accuracy: 0.7006\n",
      "Epoch 3/50\n",
      "102561/102561 [==============================] - 2s 24us/step - loss: 0.5558 - accuracy: 0.7062 - val_loss: 0.5415 - val_accuracy: 0.7206\n",
      "Epoch 4/50\n",
      "102561/102561 [==============================] - 2s 18us/step - loss: 0.5334 - accuracy: 0.7276 - val_loss: 0.5205 - val_accuracy: 0.7339\n",
      "Epoch 5/50\n",
      "102561/102561 [==============================] - 2s 24us/step - loss: 0.5154 - accuracy: 0.7439 - val_loss: 0.5059 - val_accuracy: 0.7482\n",
      "Epoch 6/50\n",
      "102561/102561 [==============================] - 2s 17us/step - loss: 0.5035 - accuracy: 0.7531 - val_loss: 0.4937 - val_accuracy: 0.7585\n",
      "Epoch 7/50\n",
      "102561/102561 [==============================] - 2s 17us/step - loss: 0.4942 - accuracy: 0.7617 - val_loss: 0.4845 - val_accuracy: 0.7650\n",
      "Epoch 8/50\n",
      "102561/102561 [==============================] - 2s 18us/step - loss: 0.4878 - accuracy: 0.7656 - val_loss: 0.4775 - val_accuracy: 0.7709\n",
      "Epoch 9/50\n",
      "102561/102561 [==============================] - 2s 17us/step - loss: 0.4819 - accuracy: 0.7690 - val_loss: 0.4738 - val_accuracy: 0.7720\n",
      "Epoch 10/50\n",
      "102561/102561 [==============================] - 2s 17us/step - loss: 0.4758 - accuracy: 0.7739 - val_loss: 0.4677 - val_accuracy: 0.7781\n",
      "Epoch 11/50\n",
      "102561/102561 [==============================] - 2s 20us/step - loss: 0.4719 - accuracy: 0.7767 - val_loss: 0.4621 - val_accuracy: 0.7837\n",
      "Epoch 12/50\n",
      "102561/102561 [==============================] - 2s 17us/step - loss: 0.4676 - accuracy: 0.7793 - val_loss: 0.4652 - val_accuracy: 0.7773\n",
      "Epoch 13/50\n",
      "102561/102561 [==============================] - 2s 17us/step - loss: 0.4644 - accuracy: 0.7808 - val_loss: 0.4555 - val_accuracy: 0.7862\n",
      "Epoch 14/50\n",
      "102561/102561 [==============================] - 2s 18us/step - loss: 0.4617 - accuracy: 0.7830 - val_loss: 0.4510 - val_accuracy: 0.7900\n",
      "Epoch 15/50\n",
      "102561/102561 [==============================] - 2s 17us/step - loss: 0.4605 - accuracy: 0.7843 - val_loss: 0.4506 - val_accuracy: 0.7918\n",
      "Epoch 16/50\n",
      "102561/102561 [==============================] - 2s 18us/step - loss: 0.4559 - accuracy: 0.7863 - val_loss: 0.4464 - val_accuracy: 0.7933\n",
      "Epoch 17/50\n",
      "102561/102561 [==============================] - 2s 18us/step - loss: 0.4542 - accuracy: 0.7885 - val_loss: 0.4455 - val_accuracy: 0.7943\n",
      "Epoch 18/50\n",
      "102561/102561 [==============================] - 2s 18us/step - loss: 0.4510 - accuracy: 0.7894 - val_loss: 0.4485 - val_accuracy: 0.7911\n",
      "Epoch 19/50\n",
      "102561/102561 [==============================] - 2s 20us/step - loss: 0.4504 - accuracy: 0.7899 - val_loss: 0.4433 - val_accuracy: 0.7929\n",
      "Epoch 20/50\n",
      "102561/102561 [==============================] - 2s 18us/step - loss: 0.4489 - accuracy: 0.7908 - val_loss: 0.4464 - val_accuracy: 0.7926\n",
      "Epoch 21/50\n",
      "102561/102561 [==============================] - 2s 17us/step - loss: 0.4459 - accuracy: 0.7922 - val_loss: 0.4432 - val_accuracy: 0.7937\n",
      "Epoch 22/50\n",
      "102561/102561 [==============================] - 2s 18us/step - loss: 0.4453 - accuracy: 0.7928 - val_loss: 0.4413 - val_accuracy: 0.7966\n",
      "Epoch 23/50\n",
      "102561/102561 [==============================] - 2s 18us/step - loss: 0.4415 - accuracy: 0.7960 - val_loss: 0.4368 - val_accuracy: 0.7965\n",
      "Epoch 24/50\n",
      "102561/102561 [==============================] - 2s 18us/step - loss: 0.4405 - accuracy: 0.7950 - val_loss: 0.4363 - val_accuracy: 0.7961\n",
      "Epoch 25/50\n",
      "102561/102561 [==============================] - 2s 18us/step - loss: 0.4412 - accuracy: 0.7951 - val_loss: 0.4397 - val_accuracy: 0.7955\n",
      "Epoch 26/50\n",
      "102561/102561 [==============================] - 2s 17us/step - loss: 0.4381 - accuracy: 0.7975 - val_loss: 0.4458 - val_accuracy: 0.7930\n",
      "Epoch 27/50\n",
      "102561/102561 [==============================] - 2s 17us/step - loss: 0.4387 - accuracy: 0.7974 - val_loss: 0.4408 - val_accuracy: 0.7953\n",
      "Epoch 28/50\n",
      "102561/102561 [==============================] - 2s 18us/step - loss: 0.4370 - accuracy: 0.7980 - val_loss: 0.4356 - val_accuracy: 0.7975\n",
      "Epoch 29/50\n",
      "102561/102561 [==============================] - 2s 17us/step - loss: 0.4359 - accuracy: 0.7982 - val_loss: 0.4317 - val_accuracy: 0.8017\n",
      "Epoch 30/50\n",
      "102561/102561 [==============================] - 2s 18us/step - loss: 0.4360 - accuracy: 0.7984 - val_loss: 0.4318 - val_accuracy: 0.7999\n",
      "Epoch 31/50\n",
      "102561/102561 [==============================] - 2s 21us/step - loss: 0.4342 - accuracy: 0.7992 - val_loss: 0.4309 - val_accuracy: 0.8003\n",
      "Epoch 32/50\n",
      "102561/102561 [==============================] - 3s 26us/step - loss: 0.4327 - accuracy: 0.7989 - val_loss: 0.4300 - val_accuracy: 0.8026\n",
      "Epoch 33/50\n",
      "102561/102561 [==============================] - 2s 19us/step - loss: 0.4326 - accuracy: 0.8000 - val_loss: 0.4355 - val_accuracy: 0.7989\n",
      "Epoch 34/50\n",
      "102561/102561 [==============================] - 2s 19us/step - loss: 0.4322 - accuracy: 0.8006 - val_loss: 0.4293 - val_accuracy: 0.8011\n",
      "Epoch 35/50\n",
      "102561/102561 [==============================] - 2s 20us/step - loss: 0.4318 - accuracy: 0.7996 - val_loss: 0.4344 - val_accuracy: 0.7952\n",
      "Epoch 36/50\n",
      "102561/102561 [==============================] - 2s 17us/step - loss: 0.4302 - accuracy: 0.8008 - val_loss: 0.4331 - val_accuracy: 0.7989\n",
      "Epoch 37/50\n",
      "102561/102561 [==============================] - 2s 17us/step - loss: 0.4298 - accuracy: 0.8014 - val_loss: 0.4338 - val_accuracy: 0.8008\n",
      "Epoch 38/50\n",
      "102561/102561 [==============================] - 2s 16us/step - loss: 0.4281 - accuracy: 0.8026 - val_loss: 0.4311 - val_accuracy: 0.8026\n",
      "Epoch 39/50\n",
      "102561/102561 [==============================] - 2s 16us/step - loss: 0.4280 - accuracy: 0.8015 - val_loss: 0.4292 - val_accuracy: 0.8012\n",
      "Epoch 40/50\n",
      "102561/102561 [==============================] - 2s 17us/step - loss: 0.4282 - accuracy: 0.8007 - val_loss: 0.4281 - val_accuracy: 0.8022\n",
      "Epoch 41/50\n",
      "102561/102561 [==============================] - 2s 16us/step - loss: 0.4266 - accuracy: 0.8036 - val_loss: 0.4315 - val_accuracy: 0.7993\n",
      "Epoch 42/50\n",
      "102561/102561 [==============================] - 2s 16us/step - loss: 0.4261 - accuracy: 0.8021 - val_loss: 0.4320 - val_accuracy: 0.7979\n",
      "Epoch 43/50\n",
      "102561/102561 [==============================] - 2s 17us/step - loss: 0.4259 - accuracy: 0.8034 - val_loss: 0.4297 - val_accuracy: 0.8003\n",
      "Epoch 44/50\n",
      "102561/102561 [==============================] - 2s 16us/step - loss: 0.4250 - accuracy: 0.8043 - val_loss: 0.4242 - val_accuracy: 0.8027\n",
      "Epoch 45/50\n",
      "102561/102561 [==============================] - 2s 16us/step - loss: 0.4244 - accuracy: 0.8040 - val_loss: 0.4339 - val_accuracy: 0.7972\n",
      "Epoch 46/50\n",
      "102561/102561 [==============================] - 2s 17us/step - loss: 0.4242 - accuracy: 0.8049 - val_loss: 0.4299 - val_accuracy: 0.8001\n",
      "Epoch 47/50\n",
      "102561/102561 [==============================] - 2s 17us/step - loss: 0.4256 - accuracy: 0.8042 - val_loss: 0.4294 - val_accuracy: 0.8003\n",
      "Epoch 48/50\n",
      "102561/102561 [==============================] - 2s 16us/step - loss: 0.4228 - accuracy: 0.8047 - val_loss: 0.4317 - val_accuracy: 0.7996\n",
      "Epoch 49/50\n",
      "102561/102561 [==============================] - 2s 17us/step - loss: 0.4217 - accuracy: 0.8049 - val_loss: 0.4343 - val_accuracy: 0.7965\n",
      "Epoch 50/50\n",
      "102561/102561 [==============================] - 2s 16us/step - loss: 0.4222 - accuracy: 0.8050 - val_loss: 0.4316 - val_accuracy: 0.7998\n"
     ]
    }
   ],
   "source": [
    "# *** 3A. Define NN model and train\n",
    "nInputNodes = len(top10_data_train__norm.columns) # = 53 for all variables, other configurations will vary\n",
    "\n",
    "model = Sequential()\n",
    "model.add(Dense(100, input_dim=nInputNodes, activation='relu'))\n",
    "model.add(Dropout(0.2))\n",
    "model.add(BatchNormalization())\n",
    "\n",
    "model.add(Dense(50, activation='relu'))\n",
    "model.add(Dropout(0.2))\n",
    "\n",
    "model.add(Dense(50, activation='relu'))\n",
    "#model.add(Dropout(0.2))\n",
    "\n",
    "model.add(Dense(1, activation='sigmoid'))\n",
    "\n",
    "model.compile(loss='binary_crossentropy',\n",
    "              optimizer='adam',\n",
    "              metrics=['accuracy'])\n",
    "\n",
    "history = model.fit(top10_data_train__norm, top10_labels_train, epochs=50, validation_split=0.25, batch_size=400)\n"
   ]
  },
  {
   "cell_type": "code",
   "execution_count": null,
   "metadata": {},
   "outputs": [],
   "source": [
    "plt.hist( hh_raw.nJets, bins=10)"
   ]
  },
  {
   "cell_type": "code",
   "execution_count": null,
   "metadata": {},
   "outputs": [],
   "source": [
    "# *** 3B. Define k-fold NN model and train\n",
    "nInputNodes = len(top10_data_train__norm.columns) # = 53 for all variables, other configurations will vary\n",
    "kFold = StratifiedKFold(n_splits=5, shuffle=True, random_state=seed)\n",
    "crossVal_scores = []\n",
    "\n",
    "X = np.array(top10_data_train__norm)\n",
    "Y = np.array(top10_labels_train)\n",
    "\n",
    "for train, test in kFold.split(X, Y):\n",
    "  # create model\n",
    "    k_model = Sequential()\n",
    "    k_model.add(Dense(50, input_dim= nInputNodes, activation='relu'))\n",
    "    #k_model.add(Dropout(0.2))\n",
    "    k_model.add(BatchNormalization())\n",
    "\n",
    "    k_model.add(Dense(25, activation='relu'))\n",
    "    k_model.add(Dense(12, activation='relu'))\n",
    "    #k_model.add(Dense(8, activation='relu'))\n",
    "    k_model.add(Dense(1, activation='sigmoid'))\n",
    "    \n",
    "    # Compile model\n",
    "    k_model.compile(loss='binary_crossentropy', optimizer='adam', metrics=['accuracy'])\n",
    "    \n",
    "    # Fit the model\n",
    "    k_model.fit(X[train], Y[train], epochs=50, batch_size=400, verbose=0)\n",
    "    \n",
    "    # Evaluate the model\n",
    "    scores = k_model.evaluate(X[test], Y[test], verbose=0)\n",
    "    print(\"%s: %.2f%%\" % (k_model.metrics_names[1], scores[1]*100))\n",
    "    crossVal_scores.append(scores[1] * 100)\n",
    "\n",
    "print(\"%.2f%% (+/- %.2f%%)\" % (np.mean(crossVal_scores), np.std(crossVal_scores)))"
   ]
  },
  {
   "cell_type": "code",
   "execution_count": 29,
   "metadata": {},
   "outputs": [
    {
     "name": "stdout",
     "output_type": "stream",
     "text": [
      "23724/23724 [==============================] - 1s 26us/step\n",
      "34884/34884 [==============================] - 1s 26us/step\n",
      "[0.49135934920641405, 0.7390406131744385] [0.39979291068839173, 0.8343079686164856]\n"
     ]
    }
   ],
   "source": [
    "# *** 4. Do some very specific evaluation based on pure samples\n",
    "hh_data_test, hh_labels_test, qcd_data_test, qcd_labels_test = returnTestSamplesSplitIntoSignalAndBackground(top10_data_test__norm, top10_labels_test)\n",
    "\n",
    "#top10_data_test__norm['isSignal'] = top10_labels_test\n",
    "#hh_data_test = top10_data_test__norm[ top10_data_test__norm.isSignal==1 ]\n",
    "#qcd_data_test = top10_data_test__norm[ top10_data_test__norm.isSignal==0 ]\n",
    "#hh_labels_test = hh_data_test.isSignal\n",
    "#qcd_labels_test = qcd_data_test.isSignal\n",
    "#hh_data_test = hh_data_test.drop('isSignal', axis=1)\n",
    "#qcd_data_test = qcd_data_test.drop('isSignal', axis=1)\n",
    "\n",
    "score_hh = model.evaluate(hh_data_test, hh_labels_test)\n",
    "score_qcd = model.evaluate(qcd_data_test, qcd_labels_test)\n",
    "print(score_hh, score_qcd)\n",
    "pred_hh = model.predict(hh_data_test)\n",
    "pred_qcd = model.predict(qcd_data_test)"
   ]
  },
  {
   "cell_type": "code",
   "execution_count": 30,
   "metadata": {},
   "outputs": [
    {
     "data": {
      "text/plain": [
       "20651"
      ]
     },
     "execution_count": 30,
     "metadata": {},
     "output_type": "execute_result"
    }
   ],
   "source": [
    "model.count_params()\n",
    "#model_confusionMatrix = confusion_matrix(hh_data_test, hh_labels_test)\n",
    "#print(cm)\n"
   ]
  },
  {
   "cell_type": "code",
   "execution_count": 31,
   "metadata": {},
   "outputs": [
    {
     "data": {
      "image/png": "[encoded data removed]",
      "text/plain": [
       "<Figure size 432x288 with 1 Axes>"
      ]
     },
     "metadata": {
      "needs_background": "light"
     },
     "output_type": "display_data"
    }
   ],
   "source": [
    "_nBins = 40\n",
    "predictionResults = {'hh_pred':pred_hh, 'qcd_pred':pred_qcd}\n",
    "compareManyHistograms( predictionResults, ['hh_pred', 'qcd_pred'], 2, 'Signal Prediction', 'ff-NN Score', 0, 1, _nBins, _yMax = 5, _normed=True, _savePlot=False )\n"
   ]
  },
  {
   "cell_type": "code",
   "execution_count": 32,
   "metadata": {},
   "outputs": [
    {
     "name": "stdout",
     "output_type": "stream",
     "text": [
      "23724 34884\n",
      "nSig = [1206.5832] , nBkg = [499308.58] with significance = [1.70754737] for ff-NN score > [0.92918706]\n"
     ]
    },
    {
     "data": {
      "text/plain": [
       "(array([1.70754737]), array([0.92918706], dtype=float32))"
      ]
     },
     "execution_count": 32,
     "metadata": {},
     "output_type": "execute_result"
    }
   ],
   "source": [
    "# *** 4. Get best cut value for ff-NN assuming some minimal amount of signal\n",
    "returnBestCutValue('ff-NN', pred_hh.copy(), pred_qcd.copy(), _minBackground=400e3, _testingFraction=testingFraction)"
   ]
  },
  {
   "cell_type": "code",
   "execution_count": 12,
   "metadata": {},
   "outputs": [
    {
     "name": "stdout",
     "output_type": "stream",
     "text": [
      "nSig = [1350.4536] , nBkg = [706985.6] with significance = [1.60610666] for NN score > 0.87\n"
     ]
    }
   ],
   "source": [
    "# *** 5. Get signifiance for any user-specified NN score cut value\n",
    "lumiscale_hh  = getLumiScaleFactor(testingFraction, True)\n",
    "lumiscale_qcd = getLumiScaleFactor(testingFraction, False)\n",
    "cut = 0.87\n",
    "_nSignal = sum( value > cut for value in pred_hh)*lumiscale_hh\n",
    "_nBackground = sum( value > cut for value in pred_qcd)*lumiscale_qcd\n",
    "\n",
    "print('nSig = {0} , nBkg = {1} with significance = {2} for NN score > {3}'.format(_nSignal, _nBackground, _nSignal/np.sqrt(_nBackground), cut) )"
   ]
  },
  {
   "cell_type": "code",
   "execution_count": 6,
   "metadata": {},
   "outputs": [],
   "source": [
    "import pickle\n",
    "pickle.dump(model, open('models/allVars_100-50-50.pkl', 'wb'))\n"
   ]
  },
  {
   "cell_type": "code",
   "execution_count": 27,
   "metadata": {},
   "outputs": [
    {
     "name": "stdout",
     "output_type": "stream",
     "text": [
      "dict_keys(['val_loss', 'val_accuracy', 'loss', 'accuracy'])\n"
     ]
    },
    {
     "data": {
      "image/png": "[encoded data removed]",
      "text/plain": [
       "<Figure size 432x288 with 1 Axes>"
      ]
     },
     "metadata": {
      "needs_background": "light"
     },
     "output_type": "display_data"
    },
    {
     "data": {
      "image/png": "[encoded data removed]",
      "text/plain": [
       "<Figure size 432x288 with 1 Axes>"
      ]
     },
     "metadata": {
      "needs_background": "light"
     },
     "output_type": "display_data"
    }
   ],
   "source": [
    "print(history.history.keys())\n",
    "# summarize history for accuracy\n",
    "plt.plot(history.history['accuracy'])\n",
    "plt.plot(history.history['val_accuracy'])\n",
    "plt.title('ff-NN Accuracy')\n",
    "plt.ylabel('Accuracy [%]')\n",
    "plt.xlabel('Epoch')\n",
    "plt.legend(['Train', 'Test'], loc='upper left')\n",
    "plt.show()\n",
    "# summarize history for loss\n",
    "plt.plot(history.history['loss'])\n",
    "plt.plot(history.history['val_loss'])\n",
    "plt.title('ff-NN Model Loss')\n",
    "plt.ylabel('Loss [A.U.]')\n",
    "plt.xlabel('Epoch')\n",
    "plt.legend(['Train', 'Test'], loc='upper right')\n",
    "plt.show()"
   ]
  },
  {
   "cell_type": "code",
   "execution_count": 9,
   "metadata": {},
   "outputs": [
    {
     "name": "stdout",
     "output_type": "stream",
     "text": [
      "Model: \"sequential_1\"\n",
      "_________________________________________________________________\n",
      "Layer (type)                 Output Shape              Param #   \n",
      "=================================================================\n",
      "dense_1 (Dense)              (None, 100)               12600     \n",
      "_________________________________________________________________\n",
      "dropout_1 (Dropout)          (None, 100)               0         \n",
      "_________________________________________________________________\n",
      "batch_normalization_1 (Batch (None, 100)               400       \n",
      "_________________________________________________________________\n",
      "dense_2 (Dense)              (None, 50)                5050      \n",
      "_________________________________________________________________\n",
      "dropout_2 (Dropout)          (None, 50)                0         \n",
      "_________________________________________________________________\n",
      "dense_3 (Dense)              (None, 50)                2550      \n",
      "_________________________________________________________________\n",
      "dropout_3 (Dropout)          (None, 50)                0         \n",
      "_________________________________________________________________\n",
      "dense_4 (Dense)              (None, 1)                 51        \n",
      "=================================================================\n",
      "Total params: 20,651\n",
      "Trainable params: 20,451\n",
      "Non-trainable params: 200\n",
      "_________________________________________________________________\n"
     ]
    }
   ],
   "source": [
    "model.summary()"
   ]
  },
  {
   "cell_type": "code",
   "execution_count": null,
   "metadata": {},
   "outputs": [],
   "source": [
    "# ROC curve and AUC\n",
    "top10_data_test_ROC = top10_data_test__norm.copy()\n",
    "top10_data_test_ROC = top10_data_test_ROC.drop('isSignal', axis=1)\n",
    "\n",
    "y_pred = model.predict(top10_data_test_ROC).ravel()\n",
    "falsePositiveRate, truePositiveRate, thresholds = roc_curve(top10_labels_test, y_pred)\n",
    "auc_keras = auc(falsePositiveRate, truePositiveRate)"
   ]
  },
  {
   "cell_type": "code",
   "execution_count": 31,
   "metadata": {},
   "outputs": [
    {
     "data": {
      "image/png": "[encoded data removed]",
      "text/plain": [
       "<Figure size 432x288 with 1 Axes>"
      ]
     },
     "metadata": {
      "needs_background": "light"
     },
     "output_type": "display_data"
    }
   ],
   "source": [
    "plt.plot([0, 1], [0, 1], 'k--')\n",
    "plt.plot(falsePositiveRate, truePositiveRate, label='Keras (area = {:.3f})'.format(auc_keras))\n",
    "plt.xlabel('False positive rate')\n",
    "plt.ylabel('True positive rate')\n",
    "plt.title('ROC curve')\n",
    "plt.legend(loc='best')\n",
    "plt.show()"
   ]
  },
  {
   "cell_type": "code",
   "execution_count": null,
   "metadata": {},
   "outputs": [],
   "source": []
  },
  {
   "cell_type": "code",
   "execution_count": null,
   "metadata": {},
   "outputs": [],
   "source": []
  }
 ],
 "metadata": {
  "kernelspec": {
   "display_name": "Python 3",
   "language": "python",
   "name": "python3"
  },
  "language_info": {
   "codemirror_mode": {
    "name": "ipython",
    "version": 3
   },
   "file_extension": ".py",
   "mimetype": "text/x-python",
   "name": "python",
   "nbconvert_exporter": "python",
   "pygments_lexer": "ipython3",
   "version": "3.7.4"
  }
 },
 "nbformat": 4,
 "nbformat_minor": 2
}
