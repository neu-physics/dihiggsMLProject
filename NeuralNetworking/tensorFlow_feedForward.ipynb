{
 "cells": [
  {
   "cell_type": "code",
   "execution_count": null,
   "metadata": {},
   "outputs": [],
   "source": [
    "### To-Do\n",
    "# X) work out math if extra treatment needed for lumi normalization\n",
    "# 1) plot some variables before and after normalization. how do they compare?\n",
    "# X) try batch normalization in the network? re-do step1 maybe?\n",
    "# 3) to_categorical for signal and background preds?\n",
    "# 4) grid optimization? --> dropout rate, layers, nodes, etc\n",
    "# X) k-fold validation"
   ]
  },
  {
   "cell_type": "code",
   "execution_count": 1,
   "metadata": {},
   "outputs": [
    {
     "name": "stderr",
     "output_type": "stream",
     "text": [
      "Using TensorFlow backend.\n"
     ]
    }
   ],
   "source": [
    "# Import the needed libraries\n",
    "import numpy as np\n",
    "import pandas as pd\n",
    "import matplotlib.pyplot as plt\n",
    "from keras.models import Sequential\n",
    "from keras.layers import Dense, Activation, Dropout, BatchNormalization\n",
    "from keras.utils import normalize, to_categorical\n",
    "from sklearn.metrics import confusion_matrix, roc_curve, auc\n",
    "from sklearn.model_selection import StratifiedKFold\n",
    "\n",
    "# Fix random seed for reproducibility\n",
    "seed = 7\n",
    "np.random.seed(seed)"
   ]
  },
  {
   "cell_type": "code",
   "execution_count": 2,
   "metadata": {},
   "outputs": [],
   "source": [
    "import sys\n",
    "sys.path.insert(0, '/home/btannenw/Desktop/ML/dihiggsMLProject/')\n",
    "from utils.commonFunctions import *"
   ]
  },
  {
   "cell_type": "code",
   "execution_count": 3,
   "metadata": {},
   "outputs": [
    {
     "name": "stdout",
     "output_type": "stream",
     "text": [
      "N_sig = 78876 , N_bkg = 116481\n",
      "195357 rows of total data with  195357 labels [Train+Test]\n",
      "136749 rows of training data with  136749 labels [Train]\n",
      "58608 rows of testing data with  58608 labels [Test]\n"
     ]
    }
   ],
   "source": [
    "#*** 1. Import data and check stuff\n",
    "testingFraction = 0.3\n",
    "\n",
    "# *** A. Import Dataset\n",
    "hh_raw, qcd_raw = importDatasets()\n",
    "\n",
    "# *** 2. Make mix of dihiggs and QCD for specified variables\n",
    "#variables_top10 = ['deltaR(h1, h2)', 'deltaR(h1 jets)', 'deltaR(h2 jets)', 'hh_mass', 'h1_mass', 'h2_mass','hh_pt', 'h1_pt', 'h2_pt', 'scalarHT']\n",
    "variables_top10 = list(qcd_raw.columns.values)\n",
    "variables_top10.remove('isSignal')\n",
    "variables_top10.remove('isMatchable')\n",
    "\n",
    "top10_data_train, top10_data_test, top10_labels_train, top10_labels_test = makeTestTrainSamplesWithUserVariables(hh_raw, qcd_raw, variables_top10, testingFraction)\n"
   ]
  },
  {
   "cell_type": "code",
   "execution_count": 4,
   "metadata": {},
   "outputs": [],
   "source": [
    "# *** 2. Split testing data and normalize data inputs\n",
    "top10_data_train__norm = normalize(top10_data_train, axis=1)\n",
    "top10_data_test__norm = normalize(top10_data_test, axis=1)\n",
    "\n",
    "#top10_labels_train = to_categorical(top10_labels_train)\n",
    "#top10_labels_test = to_categorical(top10_labels_test)\n"
   ]
  },
  {
   "cell_type": "code",
   "execution_count": 5,
   "metadata": {},
   "outputs": [
    {
     "name": "stdout",
     "output_type": "stream",
     "text": [
      "Train on 102561 samples, validate on 34188 samples\n",
      "Epoch 1/25\n",
      "102561/102561 [==============================] - 3s 31us/step - loss: 0.6095 - accuracy: 0.6562 - val_loss: 0.6520 - val_accuracy: 0.6749\n",
      "Epoch 2/25\n",
      "102561/102561 [==============================] - 3s 31us/step - loss: 0.5748 - accuracy: 0.6898 - val_loss: 0.5987 - val_accuracy: 0.6950\n",
      "Epoch 3/25\n",
      "102561/102561 [==============================] - 2s 18us/step - loss: 0.5627 - accuracy: 0.7016 - val_loss: 0.5538 - val_accuracy: 0.7107\n",
      "Epoch 4/25\n",
      "102561/102561 [==============================] - 2s 19us/step - loss: 0.5411 - accuracy: 0.7209 - val_loss: 0.5203 - val_accuracy: 0.7366\n",
      "Epoch 5/25\n",
      "102561/102561 [==============================] - 2s 18us/step - loss: 0.5219 - accuracy: 0.7384 - val_loss: 0.5094 - val_accuracy: 0.7464\n",
      "Epoch 6/25\n",
      "102561/102561 [==============================] - 2s 20us/step - loss: 0.5108 - accuracy: 0.7467 - val_loss: 0.5007 - val_accuracy: 0.7543\n",
      "Epoch 7/25\n",
      "102561/102561 [==============================] - 2s 19us/step - loss: 0.5024 - accuracy: 0.7539 - val_loss: 0.4944 - val_accuracy: 0.7594\n",
      "Epoch 8/25\n",
      "102561/102561 [==============================] - 2s 19us/step - loss: 0.4963 - accuracy: 0.7586 - val_loss: 0.4866 - val_accuracy: 0.7664\n",
      "Epoch 9/25\n",
      "102561/102561 [==============================] - 2s 18us/step - loss: 0.4896 - accuracy: 0.7633 - val_loss: 0.4804 - val_accuracy: 0.7726\n",
      "Epoch 10/25\n",
      "102561/102561 [==============================] - 2s 18us/step - loss: 0.4844 - accuracy: 0.7674 - val_loss: 0.4784 - val_accuracy: 0.7715\n",
      "Epoch 11/25\n",
      "102561/102561 [==============================] - 2s 19us/step - loss: 0.4806 - accuracy: 0.7707 - val_loss: 0.4761 - val_accuracy: 0.7735\n",
      "Epoch 12/25\n",
      "102561/102561 [==============================] - 2s 22us/step - loss: 0.4771 - accuracy: 0.7732 - val_loss: 0.4785 - val_accuracy: 0.7753\n",
      "Epoch 13/25\n",
      "102561/102561 [==============================] - 3s 31us/step - loss: 0.4739 - accuracy: 0.7740 - val_loss: 0.4668 - val_accuracy: 0.7783\n",
      "Epoch 14/25\n",
      "102561/102561 [==============================] - 2s 18us/step - loss: 0.4708 - accuracy: 0.7755 - val_loss: 0.4637 - val_accuracy: 0.7792\n",
      "Epoch 15/25\n",
      "102561/102561 [==============================] - 2s 17us/step - loss: 0.4678 - accuracy: 0.7789 - val_loss: 0.4660 - val_accuracy: 0.7827\n",
      "Epoch 16/25\n",
      "102561/102561 [==============================] - 2s 17us/step - loss: 0.4666 - accuracy: 0.7790 - val_loss: 0.4592 - val_accuracy: 0.7855\n",
      "Epoch 17/25\n",
      "102561/102561 [==============================] - 2s 17us/step - loss: 0.4629 - accuracy: 0.7816 - val_loss: 0.4606 - val_accuracy: 0.7840\n",
      "Epoch 18/25\n",
      "102561/102561 [==============================] - 2s 18us/step - loss: 0.4624 - accuracy: 0.7810 - val_loss: 0.4563 - val_accuracy: 0.7863\n",
      "Epoch 19/25\n",
      "102561/102561 [==============================] - 2s 19us/step - loss: 0.4606 - accuracy: 0.7833 - val_loss: 0.4597 - val_accuracy: 0.7848\n",
      "Epoch 20/25\n",
      "102561/102561 [==============================] - 2s 24us/step - loss: 0.4578 - accuracy: 0.7853 - val_loss: 0.4518 - val_accuracy: 0.7871\n",
      "Epoch 21/25\n",
      "102561/102561 [==============================] - 2s 19us/step - loss: 0.4560 - accuracy: 0.7854 - val_loss: 0.4561 - val_accuracy: 0.7857\n",
      "Epoch 22/25\n",
      "102561/102561 [==============================] - 2s 20us/step - loss: 0.4528 - accuracy: 0.7897 - val_loss: 0.4531 - val_accuracy: 0.7884\n",
      "Epoch 23/25\n",
      "102561/102561 [==============================] - 2s 18us/step - loss: 0.4529 - accuracy: 0.7879 - val_loss: 0.4505 - val_accuracy: 0.7880\n",
      "Epoch 24/25\n",
      "102561/102561 [==============================] - 2s 24us/step - loss: 0.4497 - accuracy: 0.7897 - val_loss: 0.4486 - val_accuracy: 0.7911\n",
      "Epoch 25/25\n",
      "102561/102561 [==============================] - 3s 25us/step - loss: 0.4492 - accuracy: 0.7901 - val_loss: 0.4497 - val_accuracy: 0.7889\n"
     ]
    }
   ],
   "source": [
    "# *** 3A. Define NN model and train\n",
    "nInputNodes = len(top10_data_train__norm.columns) # = 53 for all variables, other configurations will vary\n",
    "\n",
    "model = Sequential()\n",
    "model.add(Dense(100, input_dim=nInputNodes, activation='relu'))\n",
    "model.add(Dropout(0.2))\n",
    "model.add(BatchNormalization())\n",
    "\n",
    "model.add(Dense(50, activation='relu'))\n",
    "model.add(Dropout(0.2))\n",
    "#model.add(BatchNormalization())\n",
    "\n",
    "model.add(Dense(50, activation='relu'))\n",
    "model.add(Dropout(0.2))\n",
    "#model.add(BatchNormalization())\n",
    "\n",
    "model.add(Dense(1, activation='sigmoid'))\n",
    "\n",
    "model.compile(loss='binary_crossentropy',\n",
    "              optimizer='adam',\n",
    "              metrics=['accuracy'])\n",
    "\n",
    "history = model.fit(top10_data_train__norm, top10_labels_train, epochs=25, validation_split=0.25, batch_size=400)\n"
   ]
  },
  {
   "cell_type": "code",
   "execution_count": null,
   "metadata": {},
   "outputs": [],
   "source": [
    "plt.hist( hh_raw.nJets, bins=10)"
   ]
  },
  {
   "cell_type": "code",
   "execution_count": null,
   "metadata": {},
   "outputs": [],
   "source": [
    "# *** 3B. Define k-fold NN model and train\n",
    "nInputNodes = len(top10_data_train__norm.columns) # = 53 for all variables, other configurations will vary\n",
    "kFold = StratifiedKFold(n_splits=5, shuffle=True, random_state=seed)\n",
    "crossVal_scores = []\n",
    "\n",
    "X = np.array(top10_data_train__norm)\n",
    "Y = np.array(top10_labels_train)\n",
    "\n",
    "for train, test in kFold.split(X, Y):\n",
    "  # create model\n",
    "    k_model = Sequential()\n",
    "    k_model.add(Dense(50, input_dim= nInputNodes, activation='relu'))\n",
    "    #k_model.add(Dropout(0.2))\n",
    "    k_model.add(BatchNormalization())\n",
    "\n",
    "    k_model.add(Dense(25, activation='relu'))\n",
    "    k_model.add(Dense(12, activation='relu'))\n",
    "    #k_model.add(Dense(8, activation='relu'))\n",
    "    k_model.add(Dense(1, activation='sigmoid'))\n",
    "    \n",
    "    # Compile model\n",
    "    k_model.compile(loss='binary_crossentropy', optimizer='adam', metrics=['accuracy'])\n",
    "    \n",
    "    # Fit the model\n",
    "    k_model.fit(X[train], Y[train], epochs=50, batch_size=400, verbose=0)\n",
    "    \n",
    "    # Evaluate the model\n",
    "    scores = k_model.evaluate(X[test], Y[test], verbose=0)\n",
    "    print(\"%s: %.2f%%\" % (k_model.metrics_names[1], scores[1]*100))\n",
    "    crossVal_scores.append(scores[1] * 100)\n",
    "\n",
    "print(\"%.2f%% (+/- %.2f%%)\" % (np.mean(crossVal_scores), np.std(crossVal_scores)))"
   ]
  },
  {
   "cell_type": "code",
   "execution_count": 21,
   "metadata": {},
   "outputs": [
    {
     "name": "stdout",
     "output_type": "stream",
     "text": [
      "23601/23601 [==============================] - 1s 25us/step\n",
      "35007/35007 [==============================] - 1s 26us/step\n",
      "[0.5932906565284948, 0.6775984168052673] [0.34619553023351474, 0.867083728313446]\n"
     ]
    }
   ],
   "source": [
    "# *** 4. Do some very specific evaluation based on pure samples\n",
    "hh_data_test, hh_labels_test, qcd_data_test, qcd_labels_test = returnTestSamplesSplitIntoSignalAndBackground(top10_data_test__norm, top10_labels_test)\n",
    "\n",
    "#top10_data_test__norm['isSignal'] = top10_labels_test\n",
    "#hh_data_test = top10_data_test__norm[ top10_data_test__norm.isSignal==1 ]\n",
    "#qcd_data_test = top10_data_test__norm[ top10_data_test__norm.isSignal==0 ]\n",
    "#hh_labels_test = hh_data_test.isSignal\n",
    "#qcd_labels_test = qcd_data_test.isSignal\n",
    "#hh_data_test = hh_data_test.drop('isSignal', axis=1)\n",
    "#qcd_data_test = qcd_data_test.drop('isSignal', axis=1)\n",
    "\n",
    "score_hh = model.evaluate(hh_data_test, hh_labels_test)\n",
    "score_qcd = model.evaluate(qcd_data_test, qcd_labels_test)\n",
    "print(score_hh, score_qcd)\n",
    "pred_hh = model.predict(hh_data_test)\n",
    "pred_qcd = model.predict(qcd_data_test)"
   ]
  },
  {
   "cell_type": "code",
   "execution_count": 22,
   "metadata": {},
   "outputs": [
    {
     "data": {
      "text/plain": [
       "20651"
      ]
     },
     "execution_count": 22,
     "metadata": {},
     "output_type": "execute_result"
    }
   ],
   "source": [
    "model.count_params()\n",
    "#model_confusionMatrix = confusion_matrix(hh_data_test, hh_labels_test)\n",
    "#print(cm)\n"
   ]
  },
  {
   "cell_type": "code",
   "execution_count": 23,
   "metadata": {},
   "outputs": [
    {
     "data": {
      "image/png": "[encoded data removed]",
      "text/plain": [
       "<Figure size 432x288 with 1 Axes>"
      ]
     },
     "metadata": {
      "needs_background": "light"
     },
     "output_type": "display_data"
    }
   ],
   "source": [
    "_nBins = 40\n",
    "predictionResults = {'hh_pred':pred_hh, 'qcd_pred':pred_qcd}\n",
    "compareManyHistograms( predictionResults, ['hh_pred', 'qcd_pred'], 2, 'Signal Prediction', 'ff-NN Score', 0, 1, _nBins, _yMax = 5, _normed=True, _savePlot=False )\n"
   ]
  },
  {
   "cell_type": "code",
   "execution_count": 24,
   "metadata": {},
   "outputs": [
    {
     "name": "stdout",
     "output_type": "stream",
     "text": [
      "23601 35007\n",
      "nSig = [1506.1896] , nBkg = [1016291.8] with significance = [1.49406824] for ff-NN score > [0.8464459]\n"
     ]
    },
    {
     "data": {
      "text/plain": [
       "(array([1.49406824]), array([0.8464459], dtype=float32))"
      ]
     },
     "execution_count": 24,
     "metadata": {},
     "output_type": "execute_result"
    }
   ],
   "source": [
    "# *** 4. Get best cut value for ff-NN assuming some minimal amount of signal\n",
    "returnBestCutValue('ff-NN', pred_hh.copy(), pred_qcd.copy(), _minBackground=200, _testingFraction=testingFraction)"
   ]
  },
  {
   "cell_type": "code",
   "execution_count": null,
   "metadata": {},
   "outputs": [],
   "source": [
    "# *** 5. Get signifiance for any user-specified NN score cut value\n",
    "lumiscale_hh  = getLumiScaleFactor(testingFraction, True)\n",
    "lumiscale_qcd = getLumiScaleFactor(testingFraction, False)\n",
    "cut = 0.81\n",
    "_nSignal = sum( value > cut for value in pred_hh)*lumiscale_hh\n",
    "_nBackground = sum( value > cut for value in pred_qcd)*lumiscale_qcd\n",
    "\n",
    "print('nSig = {0} , nBkg = {1} with significance = {2} for NN score > {3}'.format(_nSignal, _nBackground, _nSignal/np.sqrt(_nBackground), cut) )"
   ]
  },
  {
   "cell_type": "code",
   "execution_count": 6,
   "metadata": {},
   "outputs": [],
   "source": [
    "import pickle\n",
    "pickle.dump(model, open('models/allVars_100-50-50.pkl', 'wb'))\n"
   ]
  },
  {
   "cell_type": "code",
   "execution_count": 25,
   "metadata": {},
   "outputs": [
    {
     "name": "stdout",
     "output_type": "stream",
     "text": [
      "dict_keys(['val_loss', 'val_accuracy', 'loss', 'accuracy'])\n"
     ]
    },
    {
     "data": {
      "image/png": "[encoded data removed]",
      "text/plain": [
       "<Figure size 432x288 with 1 Axes>"
      ]
     },
     "metadata": {
      "needs_background": "light"
     },
     "output_type": "display_data"
    },
    {
     "data": {
      "image/png": "[encoded data removed]",
      "text/plain": [
       "<Figure size 432x288 with 1 Axes>"
      ]
     },
     "metadata": {
      "needs_background": "light"
     },
     "output_type": "display_data"
    }
   ],
   "source": [
    "print(history.history.keys())\n",
    "# summarize history for accuracy\n",
    "plt.plot(history.history['accuracy'])\n",
    "plt.plot(history.history['val_accuracy'])\n",
    "plt.title('ff-NN Accuracy')\n",
    "plt.ylabel('Accuracy [%]')\n",
    "plt.xlabel('Epoch')\n",
    "plt.legend(['Train', 'Test'], loc='upper left')\n",
    "plt.show()\n",
    "# summarize history for loss\n",
    "plt.plot(history.history['loss'])\n",
    "plt.plot(history.history['val_loss'])\n",
    "plt.title('ff-NN Model Loss')\n",
    "plt.ylabel('Loss [A.U.]')\n",
    "plt.xlabel('Epoch')\n",
    "plt.legend(['Train', 'Test'], loc='upper right')\n",
    "plt.show()"
   ]
  },
  {
   "cell_type": "code",
   "execution_count": 9,
   "metadata": {},
   "outputs": [
    {
     "name": "stdout",
     "output_type": "stream",
     "text": [
      "Model: \"sequential_1\"\n",
      "_________________________________________________________________\n",
      "Layer (type)                 Output Shape              Param #   \n",
      "=================================================================\n",
      "dense_1 (Dense)              (None, 100)               12600     \n",
      "_________________________________________________________________\n",
      "dropout_1 (Dropout)          (None, 100)               0         \n",
      "_________________________________________________________________\n",
      "batch_normalization_1 (Batch (None, 100)               400       \n",
      "_________________________________________________________________\n",
      "dense_2 (Dense)              (None, 50)                5050      \n",
      "_________________________________________________________________\n",
      "dropout_2 (Dropout)          (None, 50)                0         \n",
      "_________________________________________________________________\n",
      "dense_3 (Dense)              (None, 50)                2550      \n",
      "_________________________________________________________________\n",
      "dropout_3 (Dropout)          (None, 50)                0         \n",
      "_________________________________________________________________\n",
      "dense_4 (Dense)              (None, 1)                 51        \n",
      "=================================================================\n",
      "Total params: 20,651\n",
      "Trainable params: 20,451\n",
      "Non-trainable params: 200\n",
      "_________________________________________________________________\n"
     ]
    }
   ],
   "source": [
    "model.summary()"
   ]
  },
  {
   "cell_type": "code",
   "execution_count": null,
   "metadata": {},
   "outputs": [],
   "source": [
    "# ROC curve and AUC\n",
    "top10_data_test_ROC = top10_data_test__norm.copy()\n",
    "top10_data_test_ROC = top10_data_test_ROC.drop('isSignal', axis=1)\n",
    "\n",
    "y_pred = model.predict(top10_data_test_ROC).ravel()\n",
    "falsePositiveRate, truePositiveRate, thresholds = roc_curve(top10_labels_test, y_pred)\n",
    "auc_keras = auc(falsePositiveRate, truePositiveRate)"
   ]
  },
  {
   "cell_type": "code",
   "execution_count": 31,
   "metadata": {},
   "outputs": [
    {
     "data": {
      "image/png": "[encoded data removed]",
      "text/plain": [
       "<Figure size 432x288 with 1 Axes>"
      ]
     },
     "metadata": {
      "needs_background": "light"
     },
     "output_type": "display_data"
    }
   ],
   "source": [
    "plt.plot([0, 1], [0, 1], 'k--')\n",
    "plt.plot(falsePositiveRate, truePositiveRate, label='Keras (area = {:.3f})'.format(auc_keras))\n",
    "plt.xlabel('False positive rate')\n",
    "plt.ylabel('True positive rate')\n",
    "plt.title('ROC curve')\n",
    "plt.legend(loc='best')\n",
    "plt.show()"
   ]
  },
  {
   "cell_type": "code",
   "execution_count": null,
   "metadata": {},
   "outputs": [],
   "source": []
  },
  {
   "cell_type": "code",
   "execution_count": null,
   "metadata": {},
   "outputs": [],
   "source": []
  }
 ],
 "metadata": {
  "kernelspec": {
   "display_name": "Python 3",
   "language": "python",
   "name": "python3"
  },
  "language_info": {
   "codemirror_mode": {
    "name": "ipython",
    "version": 3
   },
   "file_extension": ".py",
   "mimetype": "text/x-python",
   "name": "python",
   "nbconvert_exporter": "python",
   "pygments_lexer": "ipython3",
   "version": "3.7.4"
  }
 },
 "nbformat": 4,
 "nbformat_minor": 2
}
