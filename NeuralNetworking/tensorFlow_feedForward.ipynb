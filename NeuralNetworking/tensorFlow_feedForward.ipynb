{
 "cells": [
  {
   "cell_type": "code",
   "execution_count": null,
   "metadata": {},
   "outputs": [],
   "source": [
    "### To-Do\n",
    "# X) work out math if extra treatment needed for lumi normalization\n",
    "# 1) plot some variables before and after normalization. how do they compare?\n",
    "# X) try batch normalization in the network? re-do step1 maybe?\n",
    "# 3) to_categorical for signal and background preds?\n",
    "# 4) grid optimization? --> dropout rate, layers, nodes, etc\n",
    "# X) k-fold validation"
   ]
  },
  {
   "cell_type": "code",
   "execution_count": 38,
   "metadata": {},
   "outputs": [],
   "source": [
    "# Import the needed libraries\n",
    "import numpy as np\n",
    "import pandas as pd\n",
    "import matplotlib.pyplot as plt\n",
    "from keras.models import Sequential\n",
    "from keras.layers import Dense, Activation, Dropout, BatchNormalization\n",
    "from keras.regularizers import l2, l1\n",
    "from keras.utils import normalize, to_categorical\n",
    "from sklearn.metrics import confusion_matrix, roc_curve, auc\n",
    "from sklearn.model_selection import StratifiedKFold\n",
    "\n",
    "# Fix random seed for reproducibility\n",
    "seed = 7\n",
    "np.random.seed(seed)"
   ]
  },
  {
   "cell_type": "code",
   "execution_count": 2,
   "metadata": {},
   "outputs": [],
   "source": [
    "import sys\n",
    "sys.path.insert(0, '/home/btannenw/Desktop/ML/dihiggsMLProject/')\n",
    "from utils.commonFunctions import *"
   ]
  },
  {
   "cell_type": "code",
   "execution_count": 3,
   "metadata": {},
   "outputs": [
    {
     "name": "stdout",
     "output_type": "stream",
     "text": [
      "N_sig = 78876 , N_bkg = 116481\n",
      "195357 rows of total data with  195357 labels [Train+Test]\n",
      "136749 rows of training data with  136749 labels [Train]\n",
      "58608 rows of testing data with  58608 labels [Test]\n"
     ]
    }
   ],
   "source": [
    "#*** 1. Import data and check stuff\n",
    "testingFraction = 0.3\n",
    "\n",
    "# *** A. Import Dataset\n",
    "hh_raw, qcd_raw = importDatasets()\n",
    "\n",
    "# *** 2. Make mix of dihiggs and QCD for specified variables\n",
    "#variables_top10 = ['deltaR(h1, h2)', 'deltaR(h1 jets)', 'deltaR(h2 jets)', 'hh_mass', 'h1_mass', 'h2_mass','hh_pt', 'h1_pt', 'h2_pt', 'scalarHT']\n",
    "variables_top10 = list(qcd_raw.columns.values)\n",
    "variables_top10.remove('isSignal')\n",
    "variables_top10.remove('isMatchable')\n",
    "\n",
    "top10_data_train, top10_data_test, top10_labels_train, top10_labels_test = makeTestTrainSamplesWithUserVariables(hh_raw, qcd_raw, variables_top10, testingFraction)\n"
   ]
  },
  {
   "cell_type": "code",
   "execution_count": 5,
   "metadata": {},
   "outputs": [],
   "source": [
    "# *** 2. Split testing data and normalize data inputs\n",
    "top10_data_train__norm = normalize(top10_data_train, axis=1)\n",
    "top10_data_test__norm = normalize(top10_data_test, axis=1)\n",
    "\n",
    "#top10_labels_train = to_categorical(top10_labels_train)\n",
    "#top10_labels_test = to_categorical(top10_labels_test)"
   ]
  },
  {
   "cell_type": "code",
   "execution_count": 61,
   "metadata": {},
   "outputs": [
    {
     "name": "stdout",
     "output_type": "stream",
     "text": [
      "Train on 136749 samples, validate on 58608 samples\n",
      "Epoch 1/15\n",
      "136749/136749 [==============================] - 3s 19us/step - loss: 0.5936 - accuracy: 0.6699 - val_loss: 0.6208 - val_accuracy: 0.6875\n",
      "Epoch 2/15\n",
      "136749/136749 [==============================] - 2s 17us/step - loss: 0.5590 - accuracy: 0.7024 - val_loss: 0.5447 - val_accuracy: 0.7180\n",
      "Epoch 3/15\n",
      "136749/136749 [==============================] - 3s 20us/step - loss: 0.5257 - accuracy: 0.7335 - val_loss: 0.5029 - val_accuracy: 0.7492\n",
      "Epoch 4/15\n",
      "136749/136749 [==============================] - 2s 18us/step - loss: 0.5020 - accuracy: 0.7523 - val_loss: 0.4918 - val_accuracy: 0.7586\n",
      "Epoch 5/15\n",
      "136749/136749 [==============================] - 2s 18us/step - loss: 0.4890 - accuracy: 0.7626 - val_loss: 0.4745 - val_accuracy: 0.7725\n",
      "Epoch 6/15\n",
      "136749/136749 [==============================] - 3s 20us/step - loss: 0.4795 - accuracy: 0.7706 - val_loss: 0.4674 - val_accuracy: 0.7773\n",
      "Epoch 7/15\n",
      "136749/136749 [==============================] - 2s 17us/step - loss: 0.4716 - accuracy: 0.7762 - val_loss: 0.4658 - val_accuracy: 0.7774\n",
      "Epoch 8/15\n",
      "136749/136749 [==============================] - 2s 18us/step - loss: 0.4631 - accuracy: 0.7812 - val_loss: 0.4547 - val_accuracy: 0.7838\n",
      "Epoch 9/15\n",
      "136749/136749 [==============================] - 2s 17us/step - loss: 0.4578 - accuracy: 0.7837 - val_loss: 0.4489 - val_accuracy: 0.7893\n",
      "Epoch 10/15\n",
      "136749/136749 [==============================] - 3s 18us/step - loss: 0.4533 - accuracy: 0.7873 - val_loss: 0.4491 - val_accuracy: 0.7890\n",
      "Epoch 11/15\n",
      "136749/136749 [==============================] - 2s 18us/step - loss: 0.4496 - accuracy: 0.7891 - val_loss: 0.4468 - val_accuracy: 0.7893\n",
      "Epoch 12/15\n",
      "136749/136749 [==============================] - 2s 18us/step - loss: 0.4460 - accuracy: 0.7912 - val_loss: 0.4568 - val_accuracy: 0.7823\n",
      "Epoch 13/15\n",
      "136749/136749 [==============================] - 3s 18us/step - loss: 0.4427 - accuracy: 0.7925 - val_loss: 0.4451 - val_accuracy: 0.7926\n",
      "Epoch 14/15\n",
      "136749/136749 [==============================] - 3s 19us/step - loss: 0.4406 - accuracy: 0.7945 - val_loss: 0.4382 - val_accuracy: 0.7954\n",
      "Epoch 15/15\n",
      "136749/136749 [==============================] - 3s 19us/step - loss: 0.4388 - accuracy: 0.7962 - val_loss: 0.4339 - val_accuracy: 0.7976\n"
     ]
    }
   ],
   "source": [
    "# *** 3A. Define NN model and train\n",
    "nInputNodes = len(top10_data_train__norm.columns) # = 53 for all variables, other configurations will vary\n",
    "\n",
    "model = Sequential()\n",
    "model.add(Dense(100, input_dim=nInputNodes, activation='relu'))\n",
    "model.add(Dropout(0.2))\n",
    "model.add(BatchNormalization())\n",
    "\n",
    "model.add(Dense(50, activation='relu'))\n",
    "#model.add(Dropout(0.2))\n",
    "\n",
    "model.add(Dense(50, activation='relu'))\n",
    "#model.add(Dropout(0.2))\n",
    "\n",
    "model.add(Dense(1, activation='sigmoid'))\n",
    "#model.add(Dense(1, activation='sigmoid', activity_regularizer=l1(0.001)))\n",
    "\n",
    "model.compile(loss='binary_crossentropy',\n",
    "              optimizer='adam',\n",
    "              metrics=['accuracy'])\n",
    "\n",
    "#history = model.fit(top10_data_train__norm, top10_labels_train, epochs=50, validation_split=0.25, batch_size=400)\n",
    "history = model.fit(top10_data_train__norm, top10_labels_train, epochs=15, validation_data=(top10_data_test__norm, top10_labels_test), batch_size=400)\n"
   ]
  },
  {
   "cell_type": "code",
   "execution_count": 8,
   "metadata": {},
   "outputs": [],
   "source": [
    "#plt.hist( hh_raw.nJets, bins=10)\n",
    "diff = [x for x in top10_data_test__norm if x not in top10_data_train__norm]\n"
   ]
  },
  {
   "cell_type": "code",
   "execution_count": null,
   "metadata": {},
   "outputs": [],
   "source": [
    "# *** 3B. Define k-fold NN model and train\n",
    "nInputNodes = len(top10_data_train__norm.columns) # = 53 for all variables, other configurations will vary\n",
    "kFold = StratifiedKFold(n_splits=5, shuffle=True, random_state=seed)\n",
    "crossVal_scores = []\n",
    "\n",
    "X = np.array(top10_data_train__norm)\n",
    "Y = np.array(top10_labels_train)\n",
    "\n",
    "for train, test in kFold.split(X, Y):\n",
    "  # create model\n",
    "    k_model = Sequential()\n",
    "    k_model.add(Dense(50, input_dim= nInputNodes, activation='relu'))\n",
    "    #k_model.add(Dropout(0.2))\n",
    "    k_model.add(BatchNormalization())\n",
    "\n",
    "    k_model.add(Dense(25, activation='relu'))\n",
    "    k_model.add(Dense(12, activation='relu'))\n",
    "    #k_model.add(Dense(8, activation='relu'))\n",
    "    k_model.add(Dense(1, activation='sigmoid'))\n",
    "    \n",
    "    # Compile model\n",
    "    k_model.compile(loss='binary_crossentropy', optimizer='adam', metrics=['accuracy'])\n",
    "    \n",
    "    # Fit the model\n",
    "    k_model.fit(X[train], Y[train], epochs=50, batch_size=400, verbose=0)\n",
    "    \n",
    "    # Evaluate the model\n",
    "    scores = k_model.evaluate(X[test], Y[test], verbose=0)\n",
    "    print(\"%s: %.2f%%\" % (k_model.metrics_names[1], scores[1]*100))\n",
    "    crossVal_scores.append(scores[1] * 100)\n",
    "\n",
    "print(\"%.2f%% (+/- %.2f%%)\" % (np.mean(crossVal_scores), np.std(crossVal_scores)))"
   ]
  },
  {
   "cell_type": "code",
   "execution_count": 62,
   "metadata": {},
   "outputs": [
    {
     "name": "stdout",
     "output_type": "stream",
     "text": [
      "23724/23724 [==============================] - 1s 34us/step\n",
      "34884/34884 [==============================] - 1s 30us/step\n",
      "[0.6063477179288985, 0.6751391291618347] [0.31668279417821976, 0.8809196352958679]\n"
     ]
    }
   ],
   "source": [
    "# *** 4. Do some very specific evaluation based on pure samples\n",
    "hh_data_test, hh_labels_test, qcd_data_test, qcd_labels_test = returnTestSamplesSplitIntoSignalAndBackground(top10_data_test__norm, top10_labels_test)\n",
    "\n",
    "#top10_data_test__norm['isSignal'] = top10_labels_test\n",
    "#hh_data_test = top10_data_test__norm[ top10_data_test__norm.isSignal==1 ]\n",
    "#qcd_data_test = top10_data_test__norm[ top10_data_test__norm.isSignal==0 ]\n",
    "#hh_labels_test = hh_data_test.isSignal\n",
    "#qcd_labels_test = qcd_data_test.isSignal\n",
    "#hh_data_test = hh_data_test.drop('isSignal', axis=1)\n",
    "#qcd_data_test = qcd_data_test.drop('isSignal', axis=1)\n",
    "\n",
    "score_hh = model.evaluate(hh_data_test, hh_labels_test)\n",
    "score_qcd = model.evaluate(qcd_data_test, qcd_labels_test)\n",
    "print(score_hh, score_qcd)\n",
    "pred_hh = model.predict(hh_data_test)\n",
    "pred_qcd = model.predict(qcd_data_test)"
   ]
  },
  {
   "cell_type": "code",
   "execution_count": 63,
   "metadata": {},
   "outputs": [
    {
     "data": {
      "text/plain": [
       "20651"
      ]
     },
     "execution_count": 63,
     "metadata": {},
     "output_type": "execute_result"
    }
   ],
   "source": [
    "model.count_params()\n",
    "#model_confusionMatrix = confusion_matrix(hh_data_test, hh_labels_test)\n",
    "#print(cm)\n"
   ]
  },
  {
   "cell_type": "code",
   "execution_count": 64,
   "metadata": {},
   "outputs": [
    {
     "data": {
      "image/png": "[encoded data removed]",
      "text/plain": [
       "<Figure size 432x288 with 1 Axes>"
      ]
     },
     "metadata": {
      "needs_background": "light"
     },
     "output_type": "display_data"
    }
   ],
   "source": [
    "_nBins = 40\n",
    "predictionResults = {'hh_pred':pred_hh, 'qcd_pred':pred_qcd}\n",
    "compareManyHistograms( predictionResults, ['hh_pred', 'qcd_pred'], 2, 'Signal Prediction', 'ff-NN Score', 0, 1, _nBins, _yMax = 5, _normed=True, _savePlot=False )\n"
   ]
  },
  {
   "cell_type": "code",
   "execution_count": 65,
   "metadata": {},
   "outputs": [
    {
     "name": "stdout",
     "output_type": "stream",
     "text": [
      "23724 34884\n",
      "nSig = [1192.74] , nBkg = [488261.93] with significance = [1.70694431] for ff-NN score > [0.8965132]\n"
     ]
    },
    {
     "data": {
      "text/plain": [
       "(array([1.70694431]), array([0.8965132], dtype=float32))"
      ]
     },
     "execution_count": 65,
     "metadata": {},
     "output_type": "execute_result"
    }
   ],
   "source": [
    "# *** 4. Get best cut value for ff-NN assuming some minimal amount of signal\n",
    "returnBestCutValue('ff-NN', pred_hh.copy(), pred_qcd.copy(), _minBackground=400e3, _testingFraction=testingFraction)"
   ]
  },
  {
   "cell_type": "code",
   "execution_count": null,
   "metadata": {},
   "outputs": [],
   "source": [
    "# *** 5. Get signifiance for any user-specified NN score cut value\n",
    "lumiscale_hh  = getLumiScaleFactor(testingFraction, True)\n",
    "lumiscale_qcd = getLumiScaleFactor(testingFraction, False)\n",
    "cut = 0.87\n",
    "_nSignal = sum( value > cut for value in pred_hh)*lumiscale_hh\n",
    "_nBackground = sum( value > cut for value in pred_qcd)*lumiscale_qcd\n",
    "\n",
    "print('nSig = {0} , nBkg = {1} with significance = {2} for NN score > {3}'.format(_nSignal, _nBackground, _nSignal/np.sqrt(_nBackground), cut) )"
   ]
  },
  {
   "cell_type": "code",
   "execution_count": null,
   "metadata": {},
   "outputs": [],
   "source": [
    "import pickle\n",
    "pickle.dump(model, open('models/allVars_100-50-50.pkl', 'wb'))\n"
   ]
  },
  {
   "cell_type": "code",
   "execution_count": 66,
   "metadata": {},
   "outputs": [
    {
     "name": "stdout",
     "output_type": "stream",
     "text": [
      "dict_keys(['val_loss', 'val_accuracy', 'loss', 'accuracy'])\n"
     ]
    },
    {
     "data": {
      "image/png": "[encoded data removed]",
      "text/plain": [
       "<Figure size 432x288 with 1 Axes>"
      ]
     },
     "metadata": {
      "needs_background": "light"
     },
     "output_type": "display_data"
    },
    {
     "data": {
      "image/png": "[encoded data removed]",
      "text/plain": [
       "<Figure size 432x288 with 1 Axes>"
      ]
     },
     "metadata": {
      "needs_background": "light"
     },
     "output_type": "display_data"
    }
   ],
   "source": [
    "print(history.history.keys())\n",
    "# summarize history for accuracy\n",
    "plt.plot(history.history['accuracy'])\n",
    "plt.plot(history.history['val_accuracy'])\n",
    "plt.title('ff-NN Accuracy')\n",
    "plt.ylabel('Accuracy [%]')\n",
    "plt.xlabel('Epoch')\n",
    "plt.legend(['Train', 'Test'], loc='upper left')\n",
    "plt.show()\n",
    "# summarize history for loss\n",
    "plt.plot(history.history['loss'])\n",
    "plt.plot(history.history['val_loss'])\n",
    "plt.title('ff-NN Model Loss')\n",
    "plt.ylabel('Loss [A.U.]')\n",
    "plt.xlabel('Epoch')\n",
    "plt.legend(['Train', 'Test'], loc='upper right')\n",
    "plt.show()"
   ]
  },
  {
   "cell_type": "code",
   "execution_count": 33,
   "metadata": {},
   "outputs": [
    {
     "name": "stdout",
     "output_type": "stream",
     "text": [
      "Model: \"sequential_3\"\n",
      "_________________________________________________________________\n",
      "Layer (type)                 Output Shape              Param #   \n",
      "=================================================================\n",
      "dense_9 (Dense)              (None, 100)               12600     \n",
      "_________________________________________________________________\n",
      "batch_normalization_3 (Batch (None, 100)               400       \n",
      "_________________________________________________________________\n",
      "dense_10 (Dense)             (None, 50)                5050      \n",
      "_________________________________________________________________\n",
      "dense_11 (Dense)             (None, 50)                2550      \n",
      "_________________________________________________________________\n",
      "dense_12 (Dense)             (None, 1)                 51        \n",
      "=================================================================\n",
      "Total params: 20,651\n",
      "Trainable params: 20,451\n",
      "Non-trainable params: 200\n",
      "_________________________________________________________________\n"
     ]
    }
   ],
   "source": [
    "model.summary()"
   ]
  },
  {
   "cell_type": "code",
   "execution_count": 34,
   "metadata": {},
   "outputs": [],
   "source": [
    "# ROC curve and AUC\n",
    "top10_data_test_ROC = top10_data_test__norm.copy()\n",
    "#top10_data_test_ROC = top10_data_test_ROC.drop('isSignal', axis=1)\n",
    "\n",
    "y_pred = model.predict(top10_data_test_ROC).ravel()\n",
    "falsePositiveRate, truePositiveRate, thresholds = roc_curve(top10_labels_test, y_pred)\n",
    "auc_keras = auc(falsePositiveRate, truePositiveRate)"
   ]
  },
  {
   "cell_type": "code",
   "execution_count": 35,
   "metadata": {},
   "outputs": [
    {
     "data": {
      "image/png": "[encoded data removed]",
      "text/plain": [
       "<Figure size 432x288 with 1 Axes>"
      ]
     },
     "metadata": {
      "needs_background": "light"
     },
     "output_type": "display_data"
    }
   ],
   "source": [
    "plt.plot([0, 1], [0, 1], 'k--')\n",
    "plt.plot(falsePositiveRate, truePositiveRate, label='Keras (area = {:.3f})'.format(auc_keras))\n",
    "plt.xlabel('False positive rate')\n",
    "plt.ylabel('True positive rate')\n",
    "plt.title('ROC curve')\n",
    "plt.legend(loc='best')\n",
    "plt.show()"
   ]
  },
  {
   "cell_type": "code",
   "execution_count": null,
   "metadata": {},
   "outputs": [],
   "source": []
  },
  {
   "cell_type": "code",
   "execution_count": null,
   "metadata": {},
   "outputs": [],
   "source": []
  }
 ],
 "metadata": {
  "kernelspec": {
   "display_name": "Python 3",
   "language": "python",
   "name": "python3"
  },
  "language_info": {
   "codemirror_mode": {
    "name": "ipython",
    "version": 3
   },
   "file_extension": ".py",
   "mimetype": "text/x-python",
   "name": "python",
   "nbconvert_exporter": "python",
   "pygments_lexer": "ipython3",
   "version": "3.7.4"
  }
 },
 "nbformat": 4,
 "nbformat_minor": 2
}
