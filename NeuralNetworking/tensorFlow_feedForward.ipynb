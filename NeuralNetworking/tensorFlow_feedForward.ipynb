{
 "cells": [
  {
   "cell_type": "code",
   "execution_count": 38,
   "metadata": {},
   "outputs": [],
   "source": [
    "# Import the needed libraries\n",
    "import numpy as np\n",
    "import pandas as pd\n",
    "import matplotlib.pyplot as plt\n",
    "from keras.models import Sequential\n",
    "from keras.layers import Dense, Activation, Dropout, BatchNormalization\n",
    "from keras.utils import normalize, to_categorical"
   ]
  },
  {
   "cell_type": "code",
   "execution_count": 33,
   "metadata": {},
   "outputs": [
    {
     "name": "stdout",
     "output_type": "stream",
     "text": [
      "4.116970394139372e-05\n"
     ]
    }
   ],
   "source": [
    "hh_xsec = 12.36 # fb\n",
    "qcd_xsec = 441866.0 # fb\n",
    "\n",
    "hh_effLumi = 33034 # fb-1\n",
    "qcd_effLumi = 1.36 # fb-1\n",
    "totalLumi_HLLHC = 3000 # fb-1\n",
    "\n",
    "#L = N/sig --> L_qcd / L_hh is the lumi-scale we need\n",
    "lumiScale_hh_to_qcd = qcd_effLumi/hh_effLumi\n",
    "print(lumiScale_hh_to_qcd)"
   ]
  },
  {
   "cell_type": "code",
   "execution_count": 34,
   "metadata": {},
   "outputs": [],
   "source": [
    "def makeEqualSamplesWithUserVariables(signal_raw, bkg_raw, userVariables, nEventsForXGB):\n",
    "    \"\"\"function to return 4 dataframes containing user-specified variables and number of events: 1 signal for training, 1 bkg for training, 1 signal for plotting, 1 bkg for plotting\"\"\"\n",
    "    \n",
    "    # *** 0. Reduce dataframes to only desired variables\n",
    "    signal_reduced  = signal_raw[userVariables]\n",
    "    bkg_reduced     = bkg_raw[userVariables]\n",
    "    signal_labels   = signal_raw[ ['isSignal'] ]\n",
    "    bkg_labels      = bkg_raw[ ['isSignal'] ]\n",
    "\n",
    "    # *** 1. Take first nEventsForXGB events for passing to XGB \n",
    "    signal_reducedForXGB  = signal_reduced[:nEventsForXGB]\n",
    "    bkg_reducedForXGB     = bkg_reduced[:nEventsForXGB]\n",
    "    signal_labelsForXGB   = signal_labels[:nEventsForXGB]\n",
    "    bkg_labelsForXGB      = bkg_labels[:nEventsForXGB]\n",
    "\n",
    "    # *** 2. Combine bkg+signal for passing to XGB \n",
    "    all_reducedForXGB  = signal_reducedForXGB.append(bkg_reducedForXGB)\n",
    "    all_labelsForXGB   = signal_labelsForXGB.append(bkg_labelsForXGB)\n",
    "\n",
    "    \n",
    "    # ** 3. Use additional events for unambiguous testing \n",
    "    signal_reducedForPlots  = signal_reduced[nEventsForXGB:len(bkg_reduced)]\n",
    "    bkg_reducedForPlots     = bkg_reduced[nEventsForXGB:len(bkg_reduced)]\n",
    "    signal_labelsForPlots   = signal_labels[nEventsForXGB:len(bkg_reduced)]\n",
    "    bkg_labelsForPlots      = bkg_labels[nEventsForXGB:len(bkg_reduced)]\n",
    "\n",
    "    # *** 4. Sanity check\n",
    "    print(len(all_reducedForXGB), 'rows of data with ', len(all_labelsForXGB), 'labels [XGB]')\n",
    "    print(len(signal_reducedForPlots), 'rows of signal data with ', len(bkg_labelsForPlots), 'rows of background [Plots]')\n",
    "\n",
    "    \n",
    "    return all_reducedForXGB, all_labelsForXGB, signal_reducedForPlots, signal_labelsForPlots, bkg_reducedForPlots, bkg_labelsForPlots"
   ]
  },
  {
   "cell_type": "code",
   "execution_count": 35,
   "metadata": {},
   "outputs": [
    {
     "name": "stdout",
     "output_type": "stream",
     "text": [
      "20000 rows of data with  20000 labels [XGB]\n",
      "19176 rows of signal data with  19176 rows of background [Plots]\n"
     ]
    }
   ],
   "source": [
    "#*** 1. Import BDT model and check stuff\n",
    "# *** 0. Import Dataset\n",
    "qcd_raw = pd.read_csv('../samples_500k/qcd_outputDataForLearning.csv')\n",
    "qcd_raw['isSignal'] = 0\n",
    "hh_raw = pd.read_csv('../samples_500k/dihiggs_outputDataForLearning.csv')\n",
    "hh_raw['isSignal'] = 1\n",
    "\n",
    "\n",
    "# *** 5. Make mix of dihiggs and QCD for top-10 optimal variables\n",
    "nEventsToTrain = 10000\n",
    "variables_top10 = ['deltaR(h1, h2)', 'deltaR(h1 jets)', 'deltaR(h2 jets)', 'hh_mass', 'h1_mass', 'h2_mass','hh_pt', 'h1_pt', 'h2_pt', 'scalarHT']\n",
    "top10_data, top10_labels, hh_top10_data, hh_top10_labels, qcd_top10_data, qcd_top10_labels = makeEqualSamplesWithUserVariables(hh_raw, qcd_raw, variables_top10, nEventsToTrain) \n"
   ]
  },
  {
   "cell_type": "code",
   "execution_count": 36,
   "metadata": {},
   "outputs": [
    {
     "data": {
      "text/plain": [
       "(20000, 10)"
      ]
     },
     "execution_count": 36,
     "metadata": {},
     "output_type": "execute_result"
    }
   ],
   "source": [
    "top10_data.head()\n",
    "top10_data.shape"
   ]
  },
  {
   "cell_type": "code",
   "execution_count": null,
   "metadata": {},
   "outputs": [],
   "source": [
    "# Run the training for 3 different network architectures: (10-5-2) (10-10-2) (10-20-2)\n",
    "\n",
    "# Plot the loss function over iterations\n",
    "num_hidden_nodes = [5, 10, 20]\n",
    "loss_plot = {5: [], 10: [], 20: []}\n",
    "weights1 = {5: None, 10: None, 20: None}\n",
    "weights2 = {5: None, 10: None, 20: None}\n",
    "num_iters = 2000\n",
    "\n",
    "plt.figure(figsize=(12,8))\n",
    "for hidden_nodes in num_hidden_nodes:\n",
    "    weights1[hidden_nodes], weights2[hidden_nodes] = create_train_model(hidden_nodes, num_iters)\n",
    "    plt.plot(range(num_iters), loss_plot[hidden_nodes], label=\"nn: 10-%d-2\" % hidden_nodes)\n",
    "    \n",
    "plt.xlabel('Iteration', fontsize=12)\n",
    "plt.ylabel('Loss', fontsize=12)\n",
    "plt.legend(fontsize=12)"
   ]
  },
  {
   "cell_type": "code",
   "execution_count": 39,
   "metadata": {},
   "outputs": [],
   "source": [
    "# *** 2. Normalize data inputs\n",
    "top10_data = normalize(top10_data, axis=1)\n",
    "hh_top10_data = normalize(hh_top10_data, axis=1)\n",
    "qcd_top10_data = normalize(qcd_top10_data, axis=1)"
   ]
  },
  {
   "cell_type": "code",
   "execution_count": 43,
   "metadata": {},
   "outputs": [
    {
     "name": "stdout",
     "output_type": "stream",
     "text": [
      "Epoch 1/20\n",
      "20000/20000 [==============================] - 1s 45us/step - loss: 0.6491 - accuracy: 0.6271\n",
      "Epoch 2/20\n",
      "20000/20000 [==============================] - 1s 40us/step - loss: 0.6223 - accuracy: 0.6445\n",
      "Epoch 3/20\n",
      "20000/20000 [==============================] - 1s 41us/step - loss: 0.6158 - accuracy: 0.6527\n",
      "Epoch 4/20\n",
      "20000/20000 [==============================] - 1s 40us/step - loss: 0.6097 - accuracy: 0.6581\n",
      "Epoch 5/20\n",
      "20000/20000 [==============================] - 1s 40us/step - loss: 0.6071 - accuracy: 0.6633\n",
      "Epoch 6/20\n",
      "20000/20000 [==============================] - 1s 41us/step - loss: 0.6026 - accuracy: 0.6688\n",
      "Epoch 7/20\n",
      "20000/20000 [==============================] - 1s 41us/step - loss: 0.5997 - accuracy: 0.6732\n",
      "Epoch 8/20\n",
      "20000/20000 [==============================] - 1s 42us/step - loss: 0.5961 - accuracy: 0.6746\n",
      "Epoch 9/20\n",
      "20000/20000 [==============================] - 1s 44us/step - loss: 0.5927 - accuracy: 0.6801\n",
      "Epoch 10/20\n",
      "20000/20000 [==============================] - 2s 78us/step - loss: 0.5894 - accuracy: 0.6851\n",
      "Epoch 11/20\n",
      "20000/20000 [==============================] - 1s 69us/step - loss: 0.5853 - accuracy: 0.6867\n",
      "Epoch 12/20\n",
      "20000/20000 [==============================] - 1s 48us/step - loss: 0.5821 - accuracy: 0.6882\n",
      "Epoch 13/20\n",
      "20000/20000 [==============================] - 1s 54us/step - loss: 0.5801 - accuracy: 0.6900\n",
      "Epoch 14/20\n",
      "20000/20000 [==============================] - 1s 65us/step - loss: 0.5774 - accuracy: 0.6943\n",
      "Epoch 15/20\n",
      "20000/20000 [==============================] - 1s 45us/step - loss: 0.5761 - accuracy: 0.6945\n",
      "Epoch 16/20\n",
      "20000/20000 [==============================] - 1s 53us/step - loss: 0.5732 - accuracy: 0.6974\n",
      "Epoch 17/20\n",
      "20000/20000 [==============================] - 1s 71us/step - loss: 0.5705 - accuracy: 0.6999\n",
      "Epoch 18/20\n",
      "20000/20000 [==============================] - 1s 65us/step - loss: 0.5678 - accuracy: 0.7035\n",
      "Epoch 19/20\n",
      "20000/20000 [==============================] - 1s 59us/step - loss: 0.5678 - accuracy: 0.7058\n",
      "Epoch 20/20\n",
      "20000/20000 [==============================] - 1s 57us/step - loss: 0.5668 - accuracy: 0.7040\n"
     ]
    },
    {
     "data": {
      "text/plain": [
       "<keras.callbacks.callbacks.History at 0x7f197bfd0210>"
      ]
     },
     "execution_count": 43,
     "metadata": {},
     "output_type": "execute_result"
    }
   ],
   "source": [
    "# *** 3. Define NN model and train\n",
    "model = Sequential()\n",
    "model.add(Dense(80, input_dim=10, activation='relu'))\n",
    "model.add(Dropout(0.2))\n",
    "#model.add(Dense(20, input_dim=10, activation='relu'))\n",
    "#model.add(Dropout(0.2))\n",
    "model.add(Dense(1, activation='sigmoid'))\n",
    "\n",
    "model.compile(loss='binary_crossentropy',\n",
    "              optimizer='rmsprop',\n",
    "              metrics=['accuracy'])\n",
    "\n",
    "model.fit(top10_data, top10_labels, epochs=20)\n",
    "\n",
    "#score = model.evaluate(x_test, y_test, batch_size=128)"
   ]
  },
  {
   "cell_type": "code",
   "execution_count": 44,
   "metadata": {},
   "outputs": [
    {
     "name": "stdout",
     "output_type": "stream",
     "text": [
      "19176/19176 [==============================] - 0s 20us/step\n",
      "19176/19176 [==============================] - 0s 19us/step\n",
      "[0.5571982688738696, 0.7406654357910156] [0.5585845160792656, 0.684762179851532]\n"
     ]
    }
   ],
   "source": [
    "score_hh = model.evaluate(hh_top10_data, hh_top10_labels)\n",
    "score_qcd = model.evaluate(qcd_top10_data, qcd_top10_labels)\n",
    "print(score_hh, score_qcd)"
   ]
  },
  {
   "cell_type": "code",
   "execution_count": 45,
   "metadata": {},
   "outputs": [],
   "source": [
    "pred_hh = model.predict(hh_top10_data)\n",
    "pred_qcd = model.predict(qcd_top10_data)"
   ]
  },
  {
   "cell_type": "code",
   "execution_count": 46,
   "metadata": {},
   "outputs": [],
   "source": [
    "\n",
    "def compareManyHistograms( _dict, _labels, _nPlot, _title, _xtitle, _xMin, _xMax, _nBins, _normed=False, _savePlot=False):\n",
    "       \n",
    "    if len(_dict.keys()) < len(_labels):\n",
    "        print (\"!!! Unequal number of arrays and labels. Learn to count better.\")\n",
    "        return 0\n",
    "    \n",
    "    plt.figure(_nPlot)\n",
    "    if _normed:\n",
    "        plt.title(_title + ' (Normalized)')\n",
    "    else:\n",
    "        plt.title(_title)\n",
    "    plt.xlabel(_xtitle)\n",
    "    plt.ylabel('N_events')\n",
    "    _bins = np.linspace(_xMin, _xMax, _nBins)\n",
    "   \n",
    "    y_max = 0\n",
    "    for iLabel in _labels:\n",
    "        plt.hist(_dict[iLabel], _bins, alpha=0.5, density=_normed, label= iLabel+' Events')\n",
    "        \n",
    "        # get values of histgoram to find greatest y\n",
    "        #_y, _x, _ = plt.hist(_dict[iLabel])\n",
    "        #if (_y.max() > y_max):\n",
    "        #    y_max = _y.max()\n",
    "    \n",
    "    # set max y-value of histogram so there's room for legend\n",
    "    axes = plt.gca()\n",
    "    axes.set_ylim([0,4000])\n",
    "    #plt.ylim([0,1.2*y_max])\n",
    "    \n",
    "    #draw legend\n",
    "    plt.legend(loc='upper left')\n",
    "    #plt.text(.1, .1, s1)\n",
    "    \n",
    "    # store figure copy for later saving\n",
    "    fig = plt.gcf()\n",
    "    \n",
    "    # draw interactively\n",
    "    plt.show()\n",
    "    \n",
    "    #save an image file\n",
    "    if(_savePlot):\n",
    "        _scope    = _title.split(' ')[0].lower()\n",
    "        _variable = _xtitle.lstrip('Jet Pair').replace(' ','').replace('[GeV]','').replace('(','_').replace(')','')\n",
    "        _filename  = _scope + '_' + _variable\n",
    "        if _normed:\n",
    "            _filename = _filename + '_norm'\n",
    "        fig.savefig( _filename+'.png', bbox_inches='tight' )\n",
    "    \n",
    "    \n",
    "    return"
   ]
  },
  {
   "cell_type": "code",
   "execution_count": 47,
   "metadata": {},
   "outputs": [
    {
     "data": {
      "image/png": "[encoded data removed]",
      "text/plain": [
       "<Figure size 432x288 with 1 Axes>"
      ]
     },
     "metadata": {
      "needs_background": "light"
     },
     "output_type": "display_data"
    }
   ],
   "source": [
    "_nBins = 40\n",
    "predictionResults = {'hh_pred':pred_hh, 'qcd_pred':pred_qcd}\n",
    "compareManyHistograms( predictionResults, ['hh_pred', 'qcd_pred'], 2, 'Signal Prediction', 'ff-NN Score', 0, 1, _nBins, _savePlot=False )\n"
   ]
  },
  {
   "cell_type": "code",
   "execution_count": 48,
   "metadata": {},
   "outputs": [],
   "source": [
    "def returnBestCutValue( _variable, _signal, _background, _method='S/sqrt(B)', _minBackground=500):\n",
    "    \"\"\"find best cut according to user-specified significance metric\"\"\"\n",
    "    \n",
    "    _bestSignificance = -1\n",
    "    _bestCutValue = -1\n",
    "    _massWidth = 30 #GeV\n",
    "    _nTotalSignal =len(_signal) \n",
    "    _nTotalBackground =len(_background) \n",
    "    _cuts = []\n",
    "    _sortedSignal = np.sort(_signal )\n",
    "    _sortedBackground = np.sort(_background )\n",
    "\n",
    "    print(_nTotalSignal, _nTotalBackground)\n",
    "    _minVal = min( min(_sortedSignal), min(_sortedBackground) )\n",
    "    _maxVal = max( max(_sortedSignal), max(_sortedBackground) )\n",
    "    \n",
    "    if 'mass' in _variable:\n",
    "        _stepSize = 0.05 if 'mass' not in _variable else 5\n",
    "        _cuts = list(range(_minVal, _maxVal, _stepSize))\n",
    "    else:\n",
    "        _cuts = np.linspace(_minVal, _maxVal, 100)\n",
    "    \n",
    "    #print(_minVal, _maxVal)\n",
    "\n",
    "    for iCutValue in _cuts:\n",
    "        _nSignal = sum( value > iCutValue for value in _signal)*lumiScale_hh_to_qcd*totalLumi_HLLHC\n",
    "        _nBackground = sum( value > iCutValue for value in _background)*totalLumi_HLLHC\n",
    "        \n",
    "        # safety check to avoid division by 0\n",
    "        if _nBackground < _minBackground: # 500 is semi-random choice.. it's where one series started to oscillate\n",
    "            #print(\"continued on {0}\".format(iCutValue))\n",
    "            continue\n",
    "        \n",
    "        #if _method == 'S/sqrt(B)':\n",
    "        #    print(_nSignal, _nBackground, iCutValue, (_nSignal / np.sqrt(_nBackground)), (_nSignal / np.sqrt(_nSignal + _nBackground)))\n",
    "        \n",
    "        if _method == 'S/B' and (_nSignal / _nBackground) > _bestSignificance:\n",
    "            _bestSignificance = (_nSignal / _nBackground)\n",
    "            _bestCutValue = iCutValue\n",
    "        elif _method == 'S/sqrt(B)' and (_nSignal / np.sqrt(_nBackground)) > _bestSignificance:\n",
    "            _bestSignificance = (_nSignal / np.sqrt(_nBackground))\n",
    "            _bestCutValue = iCutValue\n",
    "        elif _method == 'S/sqrt(S+B)' and (_nSignal / np.sqrt(_nSignal + _nBackground)) > _bestSignificance:\n",
    "            _bestSignificance = (_nSignal / np.sqrt(_nSignal + _nBackground))\n",
    "            _bestCutValue = iCutValue\n",
    "                \n",
    "        #print(iCutValue, _nSignal, _nBackground, (_nSignal / np.sqrt(_nBackground)))\n",
    "\n",
    "    _nSignal = sum( value > _bestCutValue for value in _signal)*lumiScale_hh_to_qcd*totalLumi_HLLHC\n",
    "    _nBackground = sum( value > _bestCutValue for value in _background)*totalLumi_HLLHC\n",
    "    #print(_nSignal, _nBackground, _nSignal/np.sqrt(_nBackground), _bestCutValue)\n",
    "    print('nSig = {0} , nBkg = {1} with significance = {2} for BDT score > {3}'.format(_nSignal, _nBackground, _nSignal/np.sqrt(_nBackground), _bestCutValue) )\n",
    "          \n",
    "    return _bestSignificance, _bestCutValue"
   ]
  },
  {
   "cell_type": "code",
   "execution_count": 49,
   "metadata": {},
   "outputs": [
    {
     "name": "stdout",
     "output_type": "stream",
     "text": [
      "19176 19176\n",
      "nSig = [1370.70412302] , nBkg = [10077000] with significance = [0.43179548] for BDT score > [0.6004335]\n"
     ]
    },
    {
     "data": {
      "text/plain": [
       "(array([0.43179548]), array([0.6004335], dtype=float32))"
      ]
     },
     "execution_count": 49,
     "metadata": {},
     "output_type": "execute_result"
    }
   ],
   "source": [
    "# *** 4. Get best cut value for ff-NN assuming some minimal amount of signal\n",
    "returnBestCutValue('ff-NN', pred_hh.copy(), pred_qcd.copy(), _minBackground=200)"
   ]
  },
  {
   "cell_type": "code",
   "execution_count": 50,
   "metadata": {},
   "outputs": [
    {
     "name": "stdout",
     "output_type": "stream",
     "text": [
      "nSig = [844.80232488] , nBkg = [4164000] with significance = [0.41399943] for NN score > 0.7\n"
     ]
    }
   ],
   "source": [
    "# *** 5. Get signifiance for any user-specified NN score cut value\n",
    "cut = 0.7\n",
    "_nSignal = sum( value > cut for value in pred_hh)*lumiScale_hh_to_qcd*totalLumi_HLLHC\n",
    "_nBackground = sum( value > cut for value in pred_qcd)*totalLumi_HLLHC\n",
    "\n",
    "print('nSig = {0} , nBkg = {1} with significance = {2} for NN score > {3}'.format(_nSignal, _nBackground, _nSignal/np.sqrt(_nBackground), cut) )"
   ]
  },
  {
   "cell_type": "code",
   "execution_count": null,
   "metadata": {},
   "outputs": [],
   "source": []
  }
 ],
 "metadata": {
  "kernelspec": {
   "display_name": "Python 3",
   "language": "python",
   "name": "python3"
  },
  "language_info": {
   "codemirror_mode": {
    "name": "ipython",
    "version": 3
   },
   "file_extension": ".py",
   "mimetype": "text/x-python",
   "name": "python",
   "nbconvert_exporter": "python",
   "pygments_lexer": "ipython3",
   "version": "3.7.4"
  }
 },
 "nbformat": 4,
 "nbformat_minor": 2
}
