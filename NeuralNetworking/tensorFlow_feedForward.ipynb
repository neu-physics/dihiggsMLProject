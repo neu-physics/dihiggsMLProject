{
 "cells": [
  {
   "cell_type": "code",
   "execution_count": null,
   "metadata": {},
   "outputs": [],
   "source": [
    "### To-Do\n",
    "# 0) work out math if extra treatment needed for lumi normalization\n",
    "# 1) plot some variables before and after normalization. how do they compare?\n",
    "# 2) try batch normalization in the network? re-do step1 maybe?\n",
    "# 3) to_categorical for signal and background preds?\n",
    "# 4) grid optimization? --> dropout rate, layers, nodes, etc\n",
    "# 5) k-fold optimization?"
   ]
  },
  {
   "cell_type": "code",
   "execution_count": 63,
   "metadata": {},
   "outputs": [],
   "source": [
    "# Import the needed libraries\n",
    "import numpy as np\n",
    "import pandas as pd\n",
    "import matplotlib.pyplot as plt\n",
    "from keras.models import Sequential\n",
    "from keras.layers import Dense, Activation, Dropout, BatchNormalization\n",
    "from keras.utils import normalize, to_categorical\n",
    "from sklearn.model_selection import train_test_split"
   ]
  },
  {
   "cell_type": "code",
   "execution_count": 2,
   "metadata": {},
   "outputs": [
    {
     "name": "stdout",
     "output_type": "stream",
     "text": [
      "4.116970394139372e-05\n"
     ]
    }
   ],
   "source": [
    "hh_xsec = 12.36 # fb\n",
    "qcd_xsec = 441866.0 # fb\n",
    "\n",
    "hh_effLumi = 33034 # fb-1\n",
    "qcd_effLumi = 1.36 # fb-1\n",
    "totalLumi_HLLHC = 3000 # fb-1\n",
    "\n",
    "#L = N/sig --> L_qcd / L_hh is the lumi-scale we need\n",
    "lumiScale_hh_to_qcd = qcd_effLumi/hh_effLumi\n",
    "print(lumiScale_hh_to_qcd)"
   ]
  },
  {
   "cell_type": "code",
   "execution_count": 3,
   "metadata": {},
   "outputs": [],
   "source": [
    "def makeEqualSamplesWithUserVariables(signal_raw, bkg_raw, userVariables, nEventsForXGB):\n",
    "    \"\"\"function to return 4 dataframes containing user-specified variables and number of events: 1 signal for training, 1 bkg for training, 1 signal for plotting, 1 bkg for plotting\"\"\"\n",
    "    \n",
    "    # *** 0. Reduce dataframes to only desired variables\n",
    "    signal_reduced  = signal_raw[userVariables]\n",
    "    bkg_reduced     = bkg_raw[userVariables]\n",
    "    signal_labels   = signal_raw[ ['isSignal'] ]\n",
    "    bkg_labels      = bkg_raw[ ['isSignal'] ]\n",
    "\n",
    "    # *** 1. Take first nEventsForXGB events for passing to XGB \n",
    "    signal_reducedForXGB  = signal_reduced[:nEventsForXGB]\n",
    "    bkg_reducedForXGB     = bkg_reduced[:nEventsForXGB]\n",
    "    signal_labelsForXGB   = signal_labels[:nEventsForXGB]\n",
    "    bkg_labelsForXGB      = bkg_labels[:nEventsForXGB]\n",
    "\n",
    "    # *** 2. Combine bkg+signal for passing to XGB \n",
    "    all_reducedForXGB  = signal_reducedForXGB.append(bkg_reducedForXGB)\n",
    "    all_labelsForXGB   = signal_labelsForXGB.append(bkg_labelsForXGB)\n",
    "\n",
    "    \n",
    "    # ** 3. Use additional events for unambiguous testing \n",
    "    signal_reducedForPlots  = signal_reduced[nEventsForXGB:len(bkg_reduced)]\n",
    "    bkg_reducedForPlots     = bkg_reduced[nEventsForXGB:len(bkg_reduced)]\n",
    "    signal_labelsForPlots   = signal_labels[nEventsForXGB:len(bkg_reduced)]\n",
    "    bkg_labelsForPlots      = bkg_labels[nEventsForXGB:len(bkg_reduced)]\n",
    "\n",
    "    # *** 4. Sanity check\n",
    "    print(len(all_reducedForXGB), 'rows of data with ', len(all_labelsForXGB), 'labels [XGB]')\n",
    "    print(len(signal_reducedForPlots), 'rows of signal data with ', len(bkg_labelsForPlots), 'rows of background [Plots]')\n",
    "\n",
    "    \n",
    "    return all_reducedForXGB, all_labelsForXGB, signal_reducedForPlots, signal_labelsForPlots, bkg_reducedForPlots, bkg_labelsForPlots\n",
    "\n",
    "\n",
    "def makeTestTrainSamplesWithUserVariables(signal_raw, bkg_raw, userVariables, _fractionEventsForTesting):\n",
    "    \"\"\"function to return 4 dataframes containing user-specified variables and number of events: 1 mixed signal+background for training, 1 mixed signal+background for testing\"\"\"\n",
    "    \n",
    "    # *** 0. Reduce dataframes to only desired variables\n",
    "    signal_reduced  = signal_raw[userVariables]\n",
    "    bkg_reduced     = bkg_raw[userVariables]\n",
    "    signal_labels   = signal_raw[ ['isSignal'] ]\n",
    "    bkg_labels      = bkg_raw[ ['isSignal'] ]\n",
    "\n",
    "    # *** 1. Make equal-sized samples\n",
    "    nTotalEvents = min( len(signal_reduced), len(bkg_reduced))\n",
    "    print(nTotalEvents, len(signal_reduced), len(bkg_reduced))\n",
    "    \n",
    "    signal_reducedForSplit  = signal_reduced[:nTotalEvents]\n",
    "    bkg_reducedForSplit     = bkg_reduced[:nTotalEvents]\n",
    "    signal_labelsForSplit   = signal_labels[:nTotalEvents]\n",
    "    bkg_labelsForSplit       = bkg_labels[:nTotalEvents]\n",
    "\n",
    "    # *** 2. Combine bkg+signal for passing to XGB \n",
    "    all_dataForSplit  = signal_reducedForSplit.append(bkg_reducedForSplit)\n",
    "    all_labelsForSplit   = signal_labelsForSplit.append(bkg_labelsForSplit)\n",
    "\n",
    "\n",
    "    # *** 3. Make test/train split\n",
    "    data_train, data_test, labels_train, labels_test = train_test_split(all_dataForSplit, all_labelsForSplit, test_size=_fractionEventsForTesting, shuffle= True)\n",
    "    \n",
    "    # *** 3. Sanity check\n",
    "    print(len(all_dataForSplit), 'rows of total data with ', len(all_labelsForSplit), 'labels [Train+Test]')\n",
    "    print(len(data_train), 'rows of training data with ', len(labels_train), 'labels [Train]')\n",
    "    print(len(data_test), 'rows of testing data with ', len(labels_test), 'labels [Test]')\n",
    "    \n",
    "    \n",
    "    return data_train, data_test, labels_train, labels_test\n"
   ]
  },
  {
   "cell_type": "code",
   "execution_count": 4,
   "metadata": {},
   "outputs": [],
   "source": [
    "def compareManyHistograms( _dict, _labels, _nPlot, _title, _xtitle, _xMin, _xMax, _nBins, _normed=False, _savePlot=False):\n",
    "       \n",
    "    if len(_dict.keys()) < len(_labels):\n",
    "        print (\"!!! Unequal number of arrays and labels. Learn to count better.\")\n",
    "        return 0\n",
    "    \n",
    "    plt.figure(_nPlot)\n",
    "    if _normed:\n",
    "        plt.title(_title + ' (Normalized)')\n",
    "    else:\n",
    "        plt.title(_title)\n",
    "    plt.xlabel(_xtitle)\n",
    "    plt.ylabel('N_events')\n",
    "    _bins = np.linspace(_xMin, _xMax, _nBins)\n",
    "   \n",
    "    y_max = 0\n",
    "    for iLabel in _labels:\n",
    "        plt.hist(_dict[iLabel], _bins, alpha=0.5, density=_normed, label= iLabel+' Events')\n",
    "        \n",
    "        # get values of histgoram to find greatest y\n",
    "        #_y, _x, _ = plt.hist(_dict[iLabel])\n",
    "        #if (_y.max() > y_max):\n",
    "        #    y_max = _y.max()\n",
    "    \n",
    "    # set max y-value of histogram so there's room for legend\n",
    "    axes = plt.gca()\n",
    "    axes.set_ylim([0,4000])\n",
    "    #plt.ylim([0,1.2*y_max])\n",
    "    \n",
    "    #draw legend\n",
    "    plt.legend(loc='upper left')\n",
    "    #plt.text(.1, .1, s1)\n",
    "    \n",
    "    # store figure copy for later saving\n",
    "    fig = plt.gcf()\n",
    "    \n",
    "    # draw interactively\n",
    "    plt.show()\n",
    "    \n",
    "    #save an image file\n",
    "    if(_savePlot):\n",
    "        _scope    = _title.split(' ')[0].lower()\n",
    "        _variable = _xtitle.lstrip('Jet Pair').replace(' ','').replace('[GeV]','').replace('(','_').replace(')','')\n",
    "        _filename  = _scope + '_' + _variable\n",
    "        if _normed:\n",
    "            _filename = _filename + '_norm'\n",
    "        fig.savefig( _filename+'.png', bbox_inches='tight' )\n",
    "    \n",
    "    \n",
    "    return\n",
    "\n",
    "\n",
    "def returnBestCutValue( _variable, _signal, _background, _method='S/sqrt(B)', _minBackground=500):\n",
    "    \"\"\"find best cut according to user-specified significance metric\"\"\"\n",
    "    \n",
    "    _bestSignificance = -1\n",
    "    _bestCutValue = -1\n",
    "    _massWidth = 30 #GeV\n",
    "    _nTotalSignal =len(_signal) \n",
    "    _nTotalBackground =len(_background) \n",
    "    _cuts = []\n",
    "    _sortedSignal = np.sort(_signal )\n",
    "    _sortedBackground = np.sort(_background )\n",
    "\n",
    "    print(_nTotalSignal, _nTotalBackground)\n",
    "    _minVal = min( min(_sortedSignal), min(_sortedBackground) )\n",
    "    _maxVal = max( max(_sortedSignal), max(_sortedBackground) )\n",
    "    \n",
    "    if 'mass' in _variable:\n",
    "        _stepSize = 0.05 if 'mass' not in _variable else 5\n",
    "        _cuts = list(range(_minVal, _maxVal, _stepSize))\n",
    "    else:\n",
    "        _cuts = np.linspace(_minVal, _maxVal, 100)\n",
    "    \n",
    "    #print(_minVal, _maxVal)\n",
    "\n",
    "    for iCutValue in _cuts:\n",
    "        _nSignal = sum( value > iCutValue for value in _signal)*lumiScale_hh_to_qcd*totalLumi_HLLHC\n",
    "        _nBackground = sum( value > iCutValue for value in _background)*totalLumi_HLLHC\n",
    "        \n",
    "        # safety check to avoid division by 0\n",
    "        if _nBackground < _minBackground: # 500 is semi-random choice.. it's where one series started to oscillate\n",
    "            #print(\"continued on {0}\".format(iCutValue))\n",
    "            continue\n",
    "        \n",
    "        #if _method == 'S/sqrt(B)':\n",
    "        #    print(_nSignal, _nBackground, iCutValue, (_nSignal / np.sqrt(_nBackground)), (_nSignal / np.sqrt(_nSignal + _nBackground)))\n",
    "        \n",
    "        if _method == 'S/B' and (_nSignal / _nBackground) > _bestSignificance:\n",
    "            _bestSignificance = (_nSignal / _nBackground)\n",
    "            _bestCutValue = iCutValue\n",
    "        elif _method == 'S/sqrt(B)' and (_nSignal / np.sqrt(_nBackground)) > _bestSignificance:\n",
    "            _bestSignificance = (_nSignal / np.sqrt(_nBackground))\n",
    "            _bestCutValue = iCutValue\n",
    "        elif _method == 'S/sqrt(S+B)' and (_nSignal / np.sqrt(_nSignal + _nBackground)) > _bestSignificance:\n",
    "            _bestSignificance = (_nSignal / np.sqrt(_nSignal + _nBackground))\n",
    "            _bestCutValue = iCutValue\n",
    "                \n",
    "        #print(iCutValue, _nSignal, _nBackground, (_nSignal / np.sqrt(_nBackground)))\n",
    "\n",
    "    _nSignal = sum( value > _bestCutValue for value in _signal)*lumiScale_hh_to_qcd*totalLumi_HLLHC\n",
    "    _nBackground = sum( value > _bestCutValue for value in _background)*totalLumi_HLLHC\n",
    "    #print(_nSignal, _nBackground, _nSignal/np.sqrt(_nBackground), _bestCutValue)\n",
    "    print('nSig = {0} , nBkg = {1} with significance = {2} for {3} score > {4}'.format(_nSignal, _nBackground, _nSignal/np.sqrt(_nBackground), _variable, _bestCutValue) )\n",
    "          \n",
    "    return _bestSignificance, _bestCutValue"
   ]
  },
  {
   "cell_type": "code",
   "execution_count": 48,
   "metadata": {},
   "outputs": [
    {
     "name": "stdout",
     "output_type": "stream",
     "text": [
      "29176 78876 29176\n",
      "58352 rows of total data with  58352 labels [Train+Test]\n",
      "29176 rows of training data with  29176 labels [Train]\n",
      "29176 rows of testing data with  29176 labels [Test]\n"
     ]
    }
   ],
   "source": [
    "#*** 1. Import data and check stuff\n",
    "# *** A. Import Dataset\n",
    "qcd_raw = pd.read_csv('../samples_500k/qcd_outputDataForLearning.csv')\n",
    "qcd_raw['isSignal'] = 0\n",
    "hh_raw = pd.read_csv('../samples_500k/dihiggs_outputDataForLearning.csv')\n",
    "hh_raw['isSignal'] = 1\n",
    "\n",
    "\n",
    "# *** 2. Make mix of dihiggs and QCD for specified variables\n",
    "nEventsToTrain = 12000\n",
    "variables_top10 = ['deltaR(h1, h2)', 'deltaR(h1 jets)', 'deltaR(h2 jets)', 'hh_mass', 'h1_mass', 'h2_mass','hh_pt', 'h1_pt', 'h2_pt', 'scalarHT']\n",
    "#variables_top10 = list(qcd_raw.columns.values)\n",
    "#variables_top10.remove('isSignal')\n",
    "#variables_top10.remove('isMatchable')\n",
    "\n",
    "#top10_data, top10_labels, hh_top10_data, hh_top10_labels, qcd_top10_data, qcd_top10_labels = makeEqualSamplesWithUserVariables(hh_raw, qcd_raw, variables_top10, nEventsToTrain) \n",
    "\n",
    "top10_data_train, top10_data_test, top10_labels_train, top10_labels_test = makeTestTrainSamplesWithUserVariables(hh_raw, qcd_raw, variables_top10, 0.50)\n"
   ]
  },
  {
   "cell_type": "code",
   "execution_count": null,
   "metadata": {},
   "outputs": [],
   "source": [
    "# Run the training for 3 different network architectures: (10-5-2) (10-10-2) (10-20-2)\n",
    "\n",
    "# Plot the loss function over iterations\n",
    "num_hidden_nodes = [5, 10, 20]\n",
    "loss_plot = {5: [], 10: [], 20: []}\n",
    "weights1 = {5: None, 10: None, 20: None}\n",
    "weights2 = {5: None, 10: None, 20: None}\n",
    "num_iters = 2000\n",
    "\n",
    "plt.figure(figsize=(12,8))\n",
    "for hidden_nodes in num_hidden_nodes:\n",
    "    weights1[hidden_nodes], weights2[hidden_nodes] = create_train_model(hidden_nodes, num_iters)\n",
    "    plt.plot(range(num_iters), loss_plot[hidden_nodes], label=\"nn: 10-%d-2\" % hidden_nodes)\n",
    "    \n",
    "plt.xlabel('Iteration', fontsize=12)\n",
    "plt.ylabel('Loss', fontsize=12)\n",
    "plt.legend(fontsize=12)"
   ]
  },
  {
   "cell_type": "code",
   "execution_count": 57,
   "metadata": {},
   "outputs": [],
   "source": [
    "# *** 2. Normalize data inputs\n",
    "top10_data_train__norm = normalize(top10_data_train, axis=1)\n",
    "top10_data_test__norm = normalize(top10_data_test, axis=1)\n",
    "#top10_labels_train = to_categorical(top10_labels_train)\n",
    "#top10_labels_test = to_categorical(top10_labels_test)\n"
   ]
  },
  {
   "cell_type": "code",
   "execution_count": null,
   "metadata": {},
   "outputs": [],
   "source": [
    "top10_data_train"
   ]
  },
  {
   "cell_type": "code",
   "execution_count": 76,
   "metadata": {},
   "outputs": [
    {
     "name": "stdout",
     "output_type": "stream",
     "text": [
      "Train on 19547 samples, validate on 9629 samples\n",
      "Epoch 1/60\n",
      "19547/19547 [==============================] - 0s 19us/step - loss: 0.6847 - accuracy: 0.5693 - val_loss: 0.6732 - val_accuracy: 0.6183\n",
      "Epoch 2/60\n",
      "19547/19547 [==============================] - 0s 9us/step - loss: 0.6684 - accuracy: 0.6060 - val_loss: 0.6548 - val_accuracy: 0.6440\n",
      "Epoch 3/60\n",
      "19547/19547 [==============================] - 0s 9us/step - loss: 0.6524 - accuracy: 0.6236 - val_loss: 0.6396 - val_accuracy: 0.6460\n",
      "Epoch 4/60\n",
      "19547/19547 [==============================] - 0s 9us/step - loss: 0.6431 - accuracy: 0.6354 - val_loss: 0.6312 - val_accuracy: 0.6515\n",
      "Epoch 5/60\n",
      "19547/19547 [==============================] - 0s 9us/step - loss: 0.6379 - accuracy: 0.6373 - val_loss: 0.6268 - val_accuracy: 0.6504\n",
      "Epoch 6/60\n",
      "19547/19547 [==============================] - 0s 9us/step - loss: 0.6335 - accuracy: 0.6410 - val_loss: 0.6225 - val_accuracy: 0.6520\n",
      "Epoch 7/60\n",
      "19547/19547 [==============================] - 0s 9us/step - loss: 0.6314 - accuracy: 0.6460 - val_loss: 0.6198 - val_accuracy: 0.6577\n",
      "Epoch 8/60\n",
      "19547/19547 [==============================] - 0s 10us/step - loss: 0.6276 - accuracy: 0.6505 - val_loss: 0.6172 - val_accuracy: 0.6632\n",
      "Epoch 9/60\n",
      "19547/19547 [==============================] - 0s 22us/step - loss: 0.6280 - accuracy: 0.6506 - val_loss: 0.6160 - val_accuracy: 0.6607\n",
      "Epoch 10/60\n",
      "19547/19547 [==============================] - 0s 13us/step - loss: 0.6252 - accuracy: 0.6559 - val_loss: 0.6136 - val_accuracy: 0.6661\n",
      "Epoch 11/60\n",
      "19547/19547 [==============================] - 0s 9us/step - loss: 0.6234 - accuracy: 0.6614 - val_loss: 0.6108 - val_accuracy: 0.6681\n",
      "Epoch 12/60\n",
      "19547/19547 [==============================] - 0s 10us/step - loss: 0.6182 - accuracy: 0.6626 - val_loss: 0.6092 - val_accuracy: 0.6711\n",
      "Epoch 13/60\n",
      "19547/19547 [==============================] - 0s 9us/step - loss: 0.6157 - accuracy: 0.6639 - val_loss: 0.6061 - val_accuracy: 0.6709\n",
      "Epoch 14/60\n",
      "19547/19547 [==============================] - 0s 10us/step - loss: 0.6148 - accuracy: 0.6666 - val_loss: 0.6047 - val_accuracy: 0.6756\n",
      "Epoch 15/60\n",
      "19547/19547 [==============================] - 0s 10us/step - loss: 0.6144 - accuracy: 0.6683 - val_loss: 0.6061 - val_accuracy: 0.6729\n",
      "Epoch 16/60\n",
      "19547/19547 [==============================] - 0s 10us/step - loss: 0.6128 - accuracy: 0.6730 - val_loss: 0.6015 - val_accuracy: 0.6775\n",
      "Epoch 17/60\n",
      "19547/19547 [==============================] - 0s 10us/step - loss: 0.6087 - accuracy: 0.6726 - val_loss: 0.5986 - val_accuracy: 0.6817\n",
      "Epoch 18/60\n",
      "19547/19547 [==============================] - 0s 11us/step - loss: 0.6068 - accuracy: 0.6753 - val_loss: 0.5965 - val_accuracy: 0.6824\n",
      "Epoch 19/60\n",
      "19547/19547 [==============================] - 0s 12us/step - loss: 0.6056 - accuracy: 0.6773 - val_loss: 0.5945 - val_accuracy: 0.6826\n",
      "Epoch 20/60\n",
      "19547/19547 [==============================] - 0s 10us/step - loss: 0.6035 - accuracy: 0.6828 - val_loss: 0.5927 - val_accuracy: 0.6830\n",
      "Epoch 21/60\n",
      "19547/19547 [==============================] - 0s 10us/step - loss: 0.6021 - accuracy: 0.6820 - val_loss: 0.5915 - val_accuracy: 0.6836\n",
      "Epoch 22/60\n",
      "19547/19547 [==============================] - 0s 21us/step - loss: 0.6016 - accuracy: 0.6857 - val_loss: 0.5929 - val_accuracy: 0.6865\n",
      "Epoch 23/60\n",
      "19547/19547 [==============================] - 0s 13us/step - loss: 0.5977 - accuracy: 0.6836 - val_loss: 0.5884 - val_accuracy: 0.6889\n",
      "Epoch 24/60\n",
      "19547/19547 [==============================] - 0s 11us/step - loss: 0.5973 - accuracy: 0.6840 - val_loss: 0.5848 - val_accuracy: 0.6908\n",
      "Epoch 25/60\n",
      "19547/19547 [==============================] - 0s 11us/step - loss: 0.5975 - accuracy: 0.6839 - val_loss: 0.5852 - val_accuracy: 0.6936\n",
      "Epoch 26/60\n",
      "19547/19547 [==============================] - 0s 11us/step - loss: 0.5930 - accuracy: 0.6881 - val_loss: 0.5810 - val_accuracy: 0.6947\n",
      "Epoch 27/60\n",
      "19547/19547 [==============================] - 0s 11us/step - loss: 0.5899 - accuracy: 0.6916 - val_loss: 0.5777 - val_accuracy: 0.6949\n",
      "Epoch 28/60\n",
      "19547/19547 [==============================] - 0s 11us/step - loss: 0.5899 - accuracy: 0.6918 - val_loss: 0.5766 - val_accuracy: 0.6976\n",
      "Epoch 29/60\n",
      "19547/19547 [==============================] - 0s 16us/step - loss: 0.5898 - accuracy: 0.6936 - val_loss: 0.5744 - val_accuracy: 0.7010\n",
      "Epoch 30/60\n",
      "19547/19547 [==============================] - 0s 19us/step - loss: 0.5838 - accuracy: 0.6966 - val_loss: 0.5720 - val_accuracy: 0.7033\n",
      "Epoch 31/60\n",
      "19547/19547 [==============================] - 0s 12us/step - loss: 0.5814 - accuracy: 0.6986 - val_loss: 0.5689 - val_accuracy: 0.7014\n",
      "Epoch 32/60\n",
      "19547/19547 [==============================] - 0s 11us/step - loss: 0.5805 - accuracy: 0.6985 - val_loss: 0.5670 - val_accuracy: 0.7086\n",
      "Epoch 33/60\n",
      "19547/19547 [==============================] - 0s 11us/step - loss: 0.5798 - accuracy: 0.7005 - val_loss: 0.5655 - val_accuracy: 0.7059\n",
      "Epoch 34/60\n",
      "19547/19547 [==============================] - 0s 11us/step - loss: 0.5757 - accuracy: 0.7051 - val_loss: 0.5618 - val_accuracy: 0.7133\n",
      "Epoch 35/60\n",
      "19547/19547 [==============================] - 0s 11us/step - loss: 0.5768 - accuracy: 0.7050 - val_loss: 0.5618 - val_accuracy: 0.7112\n",
      "Epoch 36/60\n",
      "19547/19547 [==============================] - 0s 9us/step - loss: 0.5753 - accuracy: 0.7046 - val_loss: 0.5594 - val_accuracy: 0.7162\n",
      "Epoch 37/60\n",
      "19547/19547 [==============================] - 0s 16us/step - loss: 0.5736 - accuracy: 0.7072 - val_loss: 0.5571 - val_accuracy: 0.7179\n",
      "Epoch 38/60\n",
      "19547/19547 [==============================] - 0s 13us/step - loss: 0.5714 - accuracy: 0.7075 - val_loss: 0.5556 - val_accuracy: 0.7172\n",
      "Epoch 39/60\n",
      "19547/19547 [==============================] - 0s 10us/step - loss: 0.5692 - accuracy: 0.7099 - val_loss: 0.5540 - val_accuracy: 0.7220\n",
      "Epoch 40/60\n",
      "19547/19547 [==============================] - 0s 17us/step - loss: 0.5684 - accuracy: 0.7110 - val_loss: 0.5543 - val_accuracy: 0.7227\n",
      "Epoch 41/60\n",
      "19547/19547 [==============================] - 0s 9us/step - loss: 0.5682 - accuracy: 0.7133 - val_loss: 0.5528 - val_accuracy: 0.7233\n",
      "Epoch 42/60\n",
      "19547/19547 [==============================] - 0s 13us/step - loss: 0.5667 - accuracy: 0.7140 - val_loss: 0.5515 - val_accuracy: 0.7220\n",
      "Epoch 43/60\n",
      "19547/19547 [==============================] - 0s 19us/step - loss: 0.5656 - accuracy: 0.7096 - val_loss: 0.5495 - val_accuracy: 0.7248\n",
      "Epoch 44/60\n",
      "19547/19547 [==============================] - 0s 9us/step - loss: 0.5650 - accuracy: 0.7112 - val_loss: 0.5493 - val_accuracy: 0.7273\n",
      "Epoch 45/60\n",
      "19547/19547 [==============================] - 0s 8us/step - loss: 0.5625 - accuracy: 0.7122 - val_loss: 0.5495 - val_accuracy: 0.7215\n",
      "Epoch 46/60\n",
      "19547/19547 [==============================] - 0s 8us/step - loss: 0.5641 - accuracy: 0.7143 - val_loss: 0.5476 - val_accuracy: 0.7258\n",
      "Epoch 47/60\n",
      "19547/19547 [==============================] - 0s 8us/step - loss: 0.5630 - accuracy: 0.7137 - val_loss: 0.5466 - val_accuracy: 0.7270\n",
      "Epoch 48/60\n",
      "19547/19547 [==============================] - 0s 9us/step - loss: 0.5599 - accuracy: 0.7172 - val_loss: 0.5458 - val_accuracy: 0.7293\n",
      "Epoch 49/60\n",
      "19547/19547 [==============================] - 0s 13us/step - loss: 0.5610 - accuracy: 0.7139 - val_loss: 0.5450 - val_accuracy: 0.7301\n",
      "Epoch 50/60\n",
      "19547/19547 [==============================] - 0s 12us/step - loss: 0.5599 - accuracy: 0.7141 - val_loss: 0.5444 - val_accuracy: 0.7302\n",
      "Epoch 51/60\n",
      "19547/19547 [==============================] - 0s 10us/step - loss: 0.5592 - accuracy: 0.7172 - val_loss: 0.5432 - val_accuracy: 0.7313\n",
      "Epoch 52/60\n",
      "19547/19547 [==============================] - 0s 8us/step - loss: 0.5593 - accuracy: 0.7172 - val_loss: 0.5434 - val_accuracy: 0.7307\n",
      "Epoch 53/60\n",
      "19547/19547 [==============================] - 0s 8us/step - loss: 0.5605 - accuracy: 0.7157 - val_loss: 0.5430 - val_accuracy: 0.7276\n",
      "Epoch 54/60\n",
      "19547/19547 [==============================] - 0s 9us/step - loss: 0.5574 - accuracy: 0.7187 - val_loss: 0.5412 - val_accuracy: 0.7321\n",
      "Epoch 55/60\n",
      "19547/19547 [==============================] - 0s 8us/step - loss: 0.5587 - accuracy: 0.7170 - val_loss: 0.5423 - val_accuracy: 0.7306\n",
      "Epoch 56/60\n"
     ]
    },
    {
     "name": "stdout",
     "output_type": "stream",
     "text": [
      "19547/19547 [==============================] - 0s 8us/step - loss: 0.5548 - accuracy: 0.7192 - val_loss: 0.5402 - val_accuracy: 0.7337\n",
      "Epoch 57/60\n",
      "19547/19547 [==============================] - 0s 8us/step - loss: 0.5554 - accuracy: 0.7206 - val_loss: 0.5404 - val_accuracy: 0.7349\n",
      "Epoch 58/60\n",
      "19547/19547 [==============================] - 0s 8us/step - loss: 0.5561 - accuracy: 0.7200 - val_loss: 0.5404 - val_accuracy: 0.7313\n",
      "Epoch 59/60\n",
      "19547/19547 [==============================] - 0s 8us/step - loss: 0.5545 - accuracy: 0.7229 - val_loss: 0.5413 - val_accuracy: 0.7317\n",
      "Epoch 60/60\n",
      "19547/19547 [==============================] - 0s 13us/step - loss: 0.5539 - accuracy: 0.7222 - val_loss: 0.5394 - val_accuracy: 0.7325\n"
     ]
    }
   ],
   "source": [
    "# *** 3. Define NN model and train\n",
    "model = Sequential()\n",
    "#model.add(Dense(100, input_dim=53, activation='relu'))\n",
    "model.add(Dense(100, input_dim=10, activation='relu'))\n",
    "model.add(Dropout(0.2))\n",
    "#model.add(Dense(50, input_dim=106, activation='relu'))\n",
    "#model.add(Dropout(0.2))\n",
    "#model.add(Dense(20, input_dim=50, activation='relu'))\n",
    "#model.add(Dropout(0.1))\n",
    "\n",
    "model.add(Dense(8, activation='relu'))\n",
    "model.add(Dropout(0.2))\n",
    "\n",
    "model.add(Dense(1, activation='sigmoid'))\n",
    "\n",
    "model.compile(loss='binary_crossentropy',\n",
    "              #optimizer='rmsprop',\n",
    "              optimizer='adam',\n",
    "              metrics=['accuracy'])\n",
    "\n",
    "history = model.fit(top10_data_train__norm, top10_labels_train, epochs=60, validation_split=0.33, batch_size=500)\n",
    "\n",
    "#score = model.evaluate(x_test, y_test, batch_size=128)"
   ]
  },
  {
   "cell_type": "code",
   "execution_count": 77,
   "metadata": {},
   "outputs": [
    {
     "name": "stdout",
     "output_type": "stream",
     "text": [
      "14592/14592 [==============================] - 0s 23us/step\n",
      "14584/14584 [==============================] - 0s 21us/step\n",
      "[0.5160256094838443, 0.7356085777282715] [0.5726883215885926, 0.7132474184036255]\n"
     ]
    }
   ],
   "source": [
    "# *** 4. Do some very specific evaluation based on pure samples\n",
    "top10_data_test__norm['isSignal'] = top10_labels_test\n",
    "hh_data_test = top10_data_test__norm[ top10_data_test__norm.isSignal==1 ]\n",
    "qcd_data_test = top10_data_test__norm[ top10_data_test__norm.isSignal==0 ]\n",
    "hh_labels_test = hh_data_test.isSignal\n",
    "qcd_labels_test = qcd_data_test.isSignal\n",
    "hh_data_test = hh_data_test.drop('isSignal', axis=1)\n",
    "qcd_data_test = qcd_data_test.drop('isSignal', axis=1)\n",
    "\n",
    "score_hh = model.evaluate(hh_data_test, hh_labels_test)\n",
    "score_qcd = model.evaluate(qcd_data_test, qcd_labels_test)\n",
    "print(score_hh, score_qcd)"
   ]
  },
  {
   "cell_type": "code",
   "execution_count": 78,
   "metadata": {},
   "outputs": [],
   "source": [
    "pred_hh = model.predict(hh_data_test)\n",
    "pred_qcd = model.predict(qcd_data_test)"
   ]
  },
  {
   "cell_type": "code",
   "execution_count": 79,
   "metadata": {},
   "outputs": [
    {
     "data": {
      "image/png": "[encoded data removed]",
      "text/plain": [
       "<Figure size 432x288 with 1 Axes>"
      ]
     },
     "metadata": {
      "needs_background": "light"
     },
     "output_type": "display_data"
    }
   ],
   "source": [
    "_nBins = 40\n",
    "predictionResults = {'hh_pred':pred_hh, 'qcd_pred':pred_qcd}\n",
    "compareManyHistograms( predictionResults, ['hh_pred', 'qcd_pred'], 2, 'Signal Prediction', 'ff-NN Score', 0, 1, _nBins, _savePlot=False )\n"
   ]
  },
  {
   "cell_type": "code",
   "execution_count": null,
   "metadata": {},
   "outputs": [],
   "source": []
  },
  {
   "cell_type": "code",
   "execution_count": 80,
   "metadata": {},
   "outputs": [
    {
     "name": "stdout",
     "output_type": "stream",
     "text": [
      "14592 14584\n",
      "nSig = [803.3032633] , nBkg = [3996000] with significance = [0.40185261] for ff-NN score > [0.7132666]\n"
     ]
    },
    {
     "data": {
      "text/plain": [
       "(array([0.40185261]), array([0.7132666], dtype=float32))"
      ]
     },
     "execution_count": 80,
     "metadata": {},
     "output_type": "execute_result"
    }
   ],
   "source": [
    "# *** 4. Get best cut value for ff-NN assuming some minimal amount of signal\n",
    "returnBestCutValue('ff-NN', pred_hh.copy(), pred_qcd.copy(), _minBackground=200)"
   ]
  },
  {
   "cell_type": "code",
   "execution_count": 81,
   "metadata": {},
   "outputs": [
    {
     "name": "stdout",
     "output_type": "stream",
     "text": [
      "nSig = [401.1575952] , nBkg = [1347000] with significance = [0.34564575] for NN score > 0.81\n"
     ]
    }
   ],
   "source": [
    "# *** 5. Get signifiance for any user-specified NN score cut value\n",
    "cut = 0.81\n",
    "_nSignal = sum( value > cut for value in pred_hh)*lumiScale_hh_to_qcd*totalLumi_HLLHC\n",
    "_nBackground = sum( value > cut for value in pred_qcd)*totalLumi_HLLHC\n",
    "\n",
    "print('nSig = {0} , nBkg = {1} with significance = {2} for NN score > {3}'.format(_nSignal, _nBackground, _nSignal/np.sqrt(_nBackground), cut) )"
   ]
  },
  {
   "cell_type": "code",
   "execution_count": null,
   "metadata": {},
   "outputs": [],
   "source": []
  },
  {
   "cell_type": "code",
   "execution_count": 82,
   "metadata": {},
   "outputs": [
    {
     "name": "stdout",
     "output_type": "stream",
     "text": [
      "dict_keys(['val_loss', 'val_accuracy', 'loss', 'accuracy'])\n"
     ]
    },
    {
     "data": {
      "image/png": "[encoded data removed]",
      "text/plain": [
       "<Figure size 432x288 with 1 Axes>"
      ]
     },
     "metadata": {
      "needs_background": "light"
     },
     "output_type": "display_data"
    },
    {
     "data": {
      "image/png": "[encoded data removed]",
      "text/plain": [
       "<Figure size 432x288 with 1 Axes>"
      ]
     },
     "metadata": {
      "needs_background": "light"
     },
     "output_type": "display_data"
    }
   ],
   "source": [
    "print(history.history.keys())\n",
    "# summarize history for accuracy\n",
    "plt.plot(history.history['accuracy'])\n",
    "plt.plot(history.history['val_accuracy'])\n",
    "plt.title('ff-NN Accuracy')\n",
    "plt.ylabel('Accuracy [%]')\n",
    "plt.xlabel('Epoch')\n",
    "plt.legend(['Train', 'Test'], loc='upper left')\n",
    "plt.show()\n",
    "# summarize history for loss\n",
    "plt.plot(history.history['loss'])\n",
    "plt.plot(history.history['val_loss'])\n",
    "plt.title('ff-NN Model Loss')\n",
    "plt.ylabel('Loss [A.U.]')\n",
    "plt.xlabel('Epoch')\n",
    "plt.legend(['Train', 'Test'], loc='upper right')\n",
    "plt.show()"
   ]
  },
  {
   "cell_type": "code",
   "execution_count": null,
   "metadata": {},
   "outputs": [],
   "source": []
  }
 ],
 "metadata": {
  "kernelspec": {
   "display_name": "Python 3",
   "language": "python",
   "name": "python3"
  },
  "language_info": {
   "codemirror_mode": {
    "name": "ipython",
    "version": 3
   },
   "file_extension": ".py",
   "mimetype": "text/x-python",
   "name": "python",
   "nbconvert_exporter": "python",
   "pygments_lexer": "ipython3",
   "version": "3.7.4"
  }
 },
 "nbformat": 4,
 "nbformat_minor": 2
}
