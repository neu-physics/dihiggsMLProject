{
 "cells": [
  {
   "cell_type": "code",
   "execution_count": 3,
   "metadata": {},
   "outputs": [],
   "source": [
    "import torch\n",
    "import torch.nn as nn\n",
    "import torchvision.datasets as dsets\n",
    "import torchvision.transforms as transforms\n",
    "from torch.autograd import Variable\n",
    "import numpy as np\n",
    "import pandas as pd\n",
    "from sklearn.model_selection import train_test_split\n",
    "from matplotlib import pyplot as plt\n",
    "import torch.utils.data as utils\n",
    "from mpl_toolkits.mplot3d import Axes3D"
   ]
  },
  {
   "cell_type": "code",
   "execution_count": 38,
   "metadata": {},
   "outputs": [],
   "source": [
    "def get_real_data(n_events):\n",
    "    '''\n",
    "    read from csv files\n",
    "    returns n_events of each class\n",
    "    '''\n",
    "    qcd_data_original = np.genfromtxt('../HiggsReconstruction/EventPlotting/qcd_outputDataForLearning.csv', skip_header=1, delimiter=\",\")\n",
    "    hh_data_original  = np.genfromtxt('../HiggsReconstruction/EventPlotting/dihiggs_outputDataForLearning.csv', skip_header=1, delimiter=\",\")\n",
    "    \n",
    "    # # getting rid of \"isMatchable\" columns and \"Btag Jet1234\" columns\n",
    "    # qcd_data_original = np.delete(qcd_data_original, [17, 53, 52, 51, 50], 1)\n",
    "    # hh_data_original  = np.delete(hh_data_original,  [17, 53, 52, 51, 50], 1)\n",
    "    \n",
    "    qcd_data_original = qcd_data_original[:n_events,:]\n",
    "    hh_data_original  =  hh_data_original[:n_events,:]\n",
    "    \n",
    "    \n",
    "    return hh_data_original, qcd_data_original\n",
    "\n",
    "def add_labels_and_data(hh_data, qcd_data, n_rows, n_columns, iteration=None):\n",
    "    '''\n",
    "    create label column for qcd (0) and hh (1)\n",
    "    select certain columns of interest - iteration is a list of column indexes\n",
    "    returns one np array of the concatenation of the 2 datasets. Add m columns\n",
    "    of zeros where m = (n_rows*n_cols)-n_features. \n",
    "    When iteration is true, assumes iteration includes labels.\n",
    "    '''\n",
    "    n_features = len(iteration)-1\n",
    "    m = (n_rows*n_columns)-n_features\n",
    "#     print(\"m =\", m)\n",
    "    \n",
    "    # generate labels for hh and qcd\n",
    "    hh_labels= np.ones((len(hh_data),1))\n",
    "    hh_data_original = np.append(hh_data, hh_labels, axis=1)\n",
    "\n",
    "    qcd_labels= np.zeros((len(qcd_data),1))\n",
    "    qcd_data_original = np.append(qcd_data, qcd_labels, axis=1)\n",
    "    \n",
    "    # add all data together\n",
    "    all_data_original = np.append(hh_data_original, qcd_data_original, axis=0)\n",
    "    \n",
    "    if iteration is not None:\n",
    "        all_data = all_data_original[:,iteration]\n",
    "#         print(\"m in loop\", m)\n",
    "        print(np.shape(all_data))\n",
    "        for i in range(m):\n",
    "            all_data = np.insert(all_data, -1, np.zeros([1,1]), axis=1)\n",
    "            print(np.shape(all_data))\n",
    "    else:\n",
    "        all_data = all_data_original\n",
    "    \n",
    "    return all_data\n",
    "\n"
   ]
  },
  {
   "cell_type": "code",
   "execution_count": 39,
   "metadata": {},
   "outputs": [
    {
     "name": "stdout",
     "output_type": "stream",
     "text": [
      "(3400, 9)\n",
      "(3400, 10)\n"
     ]
    }
   ],
   "source": [
    "# image size\n",
    "image_rows = 3\n",
    "image_cols = 3\n",
    "channels   = 1\n",
    "\n",
    "hh, qcd = get_real_data(1700)\n",
    "all_data = add_labels_and_data(hh, qcd, image_rows, image_cols, iteration=[1,2,6,7,8,9,10,11,54])\n",
    "\n",
    "\n",
    "y = all_data[:,-1]\n",
    "X    = all_data[:,:-1]\n",
    "\n",
    "X_train, X_test, y_train, y_test = train_test_split(X, y, test_size=0.25, random_state=9)\n",
    "\n",
    "# change input dimensions so it has 4 dimension tensor instead of 2\n",
    "X_train     = np.reshape(X_train, (X_train.shape[0],image_rows,image_cols,channels))\n",
    "X_test      = np.reshape(X_test,   (X_test.shape[0],image_rows,image_cols,channels))\n",
    "\n",
    "\n"
   ]
  },
  {
   "cell_type": "code",
   "execution_count": null,
   "metadata": {},
   "outputs": [],
   "source": []
  },
  {
   "cell_type": "code",
   "execution_count": null,
   "metadata": {},
   "outputs": [],
   "source": []
  },
  {
   "cell_type": "code",
   "execution_count": null,
   "metadata": {},
   "outputs": [],
   "source": []
  },
  {
   "cell_type": "code",
   "execution_count": null,
   "metadata": {},
   "outputs": [],
   "source": []
  },
  {
   "cell_type": "code",
   "execution_count": null,
   "metadata": {},
   "outputs": [],
   "source": []
  },
  {
   "cell_type": "code",
   "execution_count": null,
   "metadata": {},
   "outputs": [],
   "source": []
  },
  {
   "cell_type": "code",
   "execution_count": null,
   "metadata": {},
   "outputs": [],
   "source": []
  },
  {
   "cell_type": "code",
   "execution_count": null,
   "metadata": {},
   "outputs": [],
   "source": []
  },
  {
   "cell_type": "code",
   "execution_count": null,
   "metadata": {},
   "outputs": [],
   "source": []
  },
  {
   "cell_type": "code",
   "execution_count": null,
   "metadata": {},
   "outputs": [],
   "source": []
  },
  {
   "cell_type": "code",
   "execution_count": null,
   "metadata": {},
   "outputs": [],
   "source": []
  },
  {
   "cell_type": "code",
   "execution_count": null,
   "metadata": {},
   "outputs": [],
   "source": []
  },
  {
   "cell_type": "code",
   "execution_count": null,
   "metadata": {},
   "outputs": [],
   "source": []
  },
  {
   "cell_type": "code",
   "execution_count": null,
   "metadata": {},
   "outputs": [],
   "source": []
  },
  {
   "cell_type": "code",
   "execution_count": null,
   "metadata": {},
   "outputs": [],
   "source": []
  },
  {
   "cell_type": "code",
   "execution_count": null,
   "metadata": {},
   "outputs": [],
   "source": []
  }
 ],
 "metadata": {
  "kernelspec": {
   "display_name": "eulerspython",
   "language": "python",
   "name": "eulerspython"
  },
  "language_info": {
   "codemirror_mode": {
    "name": "ipython",
    "version": 3
   },
   "file_extension": ".py",
   "mimetype": "text/x-python",
   "name": "python",
   "nbconvert_exporter": "python",
   "pygments_lexer": "ipython3",
   "version": "3.6.5"
  }
 },
 "nbformat": 4,
 "nbformat_minor": 2
}
