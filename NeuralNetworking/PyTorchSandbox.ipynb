{
 "cells": [
  {
   "cell_type": "code",
   "execution_count": 1,
   "metadata": {},
   "outputs": [],
   "source": [
    "import torch\n",
    "import torch.nn as nn\n",
    "import torch.nn.functional as F\n",
    "import torch.optim as optim\n",
    "import copy"
   ]
  },
  {
   "cell_type": "code",
   "execution_count": 2,
   "metadata": {},
   "outputs": [],
   "source": [
    "# forward prop\n",
    "## sigmoid activation function using pytorch\n",
    "def sigmoid_activation(z):\n",
    "    return 1 / (1 + torch.exp(-z))\n",
    "\n",
    "def forward_prop(_data, _nodes, _weights, _biases):\n",
    "    layer_vals = []\n",
    "    a = _data\n",
    "    for i in range(len(_nodes)-2): # feed thru hidden layers\n",
    "        z = torch.mm(a, _weights[i]) + _biases[i]\n",
    "        a = sigmoid_activation(z)\n",
    "        layer_vals.append(a)\n",
    "    z_out = torch.mm(a, _weights[-1]) + _biases[-1]\n",
    "    output = sigmoid_activation(z_out)\n",
    "    layer_vals.append(output)\n",
    "#     print(output)\n",
    "    return layer_vals"
   ]
  },
  {
   "cell_type": "code",
   "execution_count": 3,
   "metadata": {},
   "outputs": [],
   "source": [
    "# loss computation\n",
    "# loss = y - output\n",
    "def calculate_loss(_layer_vals):\n",
    "    return y - _layer_vals[-1]"
   ]
  },
  {
   "cell_type": "code",
   "execution_count": 4,
   "metadata": {},
   "outputs": [],
   "source": [
    "# back propogation\n",
    "## function to calculate the derivative of activation\n",
    "def sigmoid_delta(x):\n",
    "  return x * (1 - x)"
   ]
  },
  {
   "cell_type": "code",
   "execution_count": null,
   "metadata": {},
   "outputs": [],
   "source": []
  },
  {
   "cell_type": "code",
   "execution_count": 5,
   "metadata": {},
   "outputs": [],
   "source": [
    "def backprop_and_update(_layer_vals, _weights, _biases, _data):\n",
    "    loss = calculate_loss(_layer_vals)\n",
    "    deltas = [] # from first hidden to output\n",
    "    ds = [] # from output to first hidden\n",
    "    # compute derivative of error terms\n",
    "    for a in _layer_vals:\n",
    "        deltas.append(sigmoid_delta(a))\n",
    "    loss_d = loss\n",
    "    for d, w in zip(reversed(deltas), reversed(_weights)):\n",
    "        dd = loss * d\n",
    "        loss_d = torch.mm(d, w.t())\n",
    "        ds.append(dd)\n",
    "    learning_rate = 0.1\n",
    "    _as = copy.deepcopy(_layer_vals)\n",
    "    _as.insert(0,x)\n",
    "    del _as[-1]\n",
    "#     print(\"\\n Layer vals \\n\", _layer_vals)\n",
    "    new_weights = []\n",
    "    new_biases = []\n",
    "    print(\"lengths\", len(ds), len(_weights), len(_as))\n",
    "    for d, w, a, b in zip(ds, reversed(_weights), _as, reversed(_biases)):\n",
    "        wt = torch.mm(a.t(),d) * learning_rate\n",
    "        new_weights.insert(0, wt)\n",
    "        \n",
    "        bi = b + d.sum()*learning_rate\n",
    "        new_biases.insert(0,bi)\n",
    "    return new_weights,  new_biases   "
   ]
  },
  {
   "cell_type": "code",
   "execution_count": null,
   "metadata": {},
   "outputs": [],
   "source": []
  },
  {
   "cell_type": "code",
   "execution_count": 6,
   "metadata": {},
   "outputs": [],
   "source": [
    "def train(_data, _labels, _nodes, _epochs):\n",
    "    #param initialization\n",
    "    weights = []\n",
    "    for i in range(len(_nodes)-1):\n",
    "        w = torch.randn(_nodes[i], _nodes[i+1])\n",
    "        weights.append(w)\n",
    "    biases = []\n",
    "    for i in range(len(nodes)-1):\n",
    "        b = torch.randn(1, nodes[i+1])\n",
    "        biases.append(b)\n",
    "    \n",
    "    print(\"WEIGHTS ARRAY:\\n\", weights)\n",
    "    print(\"BIASES ARRAY:\\n\", biases)\n",
    "\n",
    "    print(\"\\n TRAINING \\n\")\n",
    "    y_out = forward_prop(_data, _nodes, weights, biases)\n",
    "    weights_2, biases_2 = backprop_and_update(y_out, weights, biases, _data)\n",
    "    print(\"Final Weights: \\n\", weights_2)\n",
    "    print(\"Final Biases: \\n\", biases_2)\n",
    "    \n",
    "   "
   ]
  },
  {
   "cell_type": "code",
   "execution_count": 7,
   "metadata": {},
   "outputs": [
    {
     "name": "stdout",
     "output_type": "stream",
     "text": [
      "WEIGHTS ARRAY:\n",
      " [tensor([[-1.5301,  1.0170,  1.3662],\n",
      "        [-0.1613, -0.7998,  0.7997],\n",
      "        [-0.5277,  1.3472,  0.6840],\n",
      "        [ 1.7264,  0.8332,  1.2692],\n",
      "        [ 1.4916,  1.1829,  0.4972]]), tensor([[ 0.6053, -1.4560],\n",
      "        [ 0.6477,  1.0068],\n",
      "        [-0.7473, -1.8895]]), tensor([[ 0.7882],\n",
      "        [-0.0498]])]\n",
      "BIASES ARRAY:\n",
      " [tensor([[ 1.4733,  0.6013, -0.3830]]), tensor([[-0.2340,  0.1938]]), tensor([[-1.4841]])]\n",
      "\n",
      " TRAINING \n",
      "\n",
      "lengths 3 3 3\n",
      "Final Weights: \n",
      " [tensor([[-0.0028, -0.0058, -0.0054],\n",
      "        [-0.0007, -0.0015, -0.0014]]), tensor([[-0.0107, -0.0054],\n",
      "        [-0.0084, -0.0042],\n",
      "        [-0.0088, -0.0044]]), tensor([[-0.0069],\n",
      "        [ 0.0007],\n",
      "        [ 0.0078],\n",
      "        [-0.0079],\n",
      "        [ 0.0014]])]\n",
      "Final Biases: \n",
      " [tensor([[ 1.4481,  0.5761, -0.4082]]), tensor([[-0.2523,  0.1755]]), tensor([[-1.4935]])]\n"
     ]
    }
   ],
   "source": [
    "## initialize tensor for inputs, and outputs \n",
    "x = torch.randn((1, 5))\n",
    "y = torch.randn((1, 1))\n",
    "nodes = [5, 3, 2, 1]\n",
    "train(x, y, nodes, 10)"
   ]
  },
  {
   "cell_type": "code",
   "execution_count": null,
   "metadata": {},
   "outputs": [],
   "source": []
  },
  {
   "cell_type": "code",
   "execution_count": null,
   "metadata": {},
   "outputs": [],
   "source": []
  },
  {
   "cell_type": "code",
   "execution_count": null,
   "metadata": {},
   "outputs": [],
   "source": []
  }
 ],
 "metadata": {
  "kernelspec": {
   "display_name": "eulerspython",
   "language": "python",
   "name": "eulerspython"
  },
  "language_info": {
   "codemirror_mode": {
    "name": "ipython",
    "version": 3
   },
   "file_extension": ".py",
   "mimetype": "text/x-python",
   "name": "python",
   "nbconvert_exporter": "python",
   "pygments_lexer": "ipython3",
   "version": "3.6.5"
  }
 },
 "nbformat": 4,
 "nbformat_minor": 2
}
