{
 "cells": [
  {
   "cell_type": "code",
   "execution_count": 1,
   "metadata": {},
   "outputs": [],
   "source": [
    "import torch\n",
    "import torch.nn as nn\n",
    "import torch.nn.functional as F\n",
    "import torch.optim as optim\n",
    "import copy"
   ]
  },
  {
   "cell_type": "code",
   "execution_count": 2,
   "metadata": {},
   "outputs": [],
   "source": [
    "# forward prop\n",
    "## sigmoid activation function using pytorch\n",
    "def sigmoid_activation(z):\n",
    "    return 1 / (1 + torch.exp(-z))\n",
    "\n",
    "def forward_prop(_data, _nodes, _weights, _biases):\n",
    "    layer_vals = []\n",
    "    a = _data\n",
    "    for i in range(len(_nodes)-2): # feed thru hidden layers\n",
    "        z = torch.mm(a, _weights[i]) + _biases[i]\n",
    "        a = sigmoid_activation(z)\n",
    "        layer_vals.append(a)\n",
    "    z_out = torch.mm(a, _weights[-1]) + _biases[-1]\n",
    "    output = sigmoid_activation(z_out)\n",
    "    layer_vals.append(output)\n",
    "#     print(output)\n",
    "    return layer_vals"
   ]
  },
  {
   "cell_type": "code",
   "execution_count": 3,
   "metadata": {},
   "outputs": [],
   "source": [
    "# loss computation\n",
    "# loss = y - output\n",
    "def calculate_loss(_layer_vals):\n",
    "    return y - _layer_vals[-1]"
   ]
  },
  {
   "cell_type": "code",
   "execution_count": 4,
   "metadata": {},
   "outputs": [],
   "source": [
    "# back propogation\n",
    "## function to calculate the derivative of activation\n",
    "def sigmoid_delta(x):\n",
    "  return x * (1 - x)"
   ]
  },
  {
   "cell_type": "code",
   "execution_count": null,
   "metadata": {},
   "outputs": [],
   "source": []
  },
  {
   "cell_type": "code",
   "execution_count": 5,
   "metadata": {},
   "outputs": [],
   "source": [
    "def backprop_and_update(_layer_vals, _weights, _biases, _data):\n",
    "    loss = calculate_loss(_layer_vals)\n",
    "    deltas = [] # from first hidden to output\n",
    "    ds = [] # from output to first hidden\n",
    "    # compute derivative of error terms\n",
    "    for a in _layer_vals:\n",
    "        deltas.append(sigmoid_delta(a))\n",
    "    loss_d = loss\n",
    "    for d, w in zip(reversed(deltas), reversed(_weights)):\n",
    "        dd = loss * d\n",
    "        loss_d = torch.mm(d, w.t())\n",
    "        ds.append(dd)\n",
    "    learning_rate = 0.1\n",
    "    _as = copy.deepcopy(_layer_vals)\n",
    "    _as.insert(0,x)\n",
    "    del _as[-1]\n",
    "#     print(\"\\n Layer vals \\n\", _layer_vals)\n",
    "    new_weights = []\n",
    "    new_biases = []\n",
    "    print(\"lengths\", len(ds), len(_weights), len(_as))\n",
    "    for d, w, a, b in zip(ds, reversed(_weights), _as, reversed(_biases)):\n",
    "        wt = torch.mm(a.t(),d) * learning_rate\n",
    "        new_weights.insert(0, wt)\n",
    "        \n",
    "        bi = b + d.sum()*learning_rate\n",
    "        new_biases.insert(0,bi)\n",
    "    return new_weights,  new_biases   "
   ]
  },
  {
   "cell_type": "code",
   "execution_count": null,
   "metadata": {},
   "outputs": [],
   "source": []
  },
  {
   "cell_type": "code",
   "execution_count": 6,
   "metadata": {},
   "outputs": [],
   "source": [
    "def train(_data, _labels, _nodes, _epochs):\n",
    "    #param initialization\n",
    "    weights = []\n",
    "    for i in range(len(_nodes)-1):\n",
    "        w = torch.randn(_nodes[i], _nodes[i+1])\n",
    "        weights.append(w)\n",
    "    biases = []\n",
    "    for i in range(len(nodes)-1):\n",
    "        b = torch.randn(1, nodes[i+1])\n",
    "        biases.append(b)\n",
    "    \n",
    "    print(\"WEIGHTS ARRAY:\\n\", weights)\n",
    "    print(\"BIASES ARRAY:\\n\", biases)\n",
    "\n",
    "    print(\"\\n TRAINING \\n\")\n",
    "    y_out = forward_prop(_data, _nodes, weights, biases)\n",
    "    weights_2, biases_2 = backprop_and_update(y_out, weights, biases, _data)\n",
    "    print(\"Final Weights: \\n\", weights_2)\n",
    "    print(\"Final Biases: \\n\", biases_2)\n",
    "    \n",
    "   "
   ]
  },
  {
   "cell_type": "code",
   "execution_count": 7,
   "metadata": {},
   "outputs": [
    {
     "name": "stdout",
     "output_type": "stream",
     "text": [
      "WEIGHTS ARRAY:\n",
      " [tensor([[-2.1934, -0.1694, -0.7658],\n",
      "        [ 0.2024, -2.0058, -0.5924],\n",
      "        [-1.1959,  0.6700,  0.7086],\n",
      "        [ 0.7521, -0.2031, -1.0889],\n",
      "        [-0.9813,  0.5011, -0.3183]]), tensor([[ 0.2683, -1.3406],\n",
      "        [ 0.1952,  0.8453],\n",
      "        [-1.0682,  0.5829]]), tensor([[ 0.3317],\n",
      "        [-0.7129]])]\n",
      "BIASES ARRAY:\n",
      " [tensor([[-0.6620,  0.1558,  0.9170]]), tensor([[-0.5897,  0.3151]]), tensor([[-2.1740]])]\n",
      "\n",
      " TRAINING \n",
      "\n",
      "lengths 3 3 3\n",
      "Final Weights: \n",
      " [tensor([[0.0001, 0.0004, 0.0011],\n",
      "        [0.0001, 0.0004, 0.0012]]), tensor([[0.0029, 0.0030],\n",
      "        [0.0003, 0.0003],\n",
      "        [0.0013, 0.0014]]), tensor([[-0.0013],\n",
      "        [ 0.0009],\n",
      "        [-0.0018],\n",
      "        [ 0.0002],\n",
      "        [ 0.0006]])]\n",
      "Final Biases: \n",
      " [tensor([[-0.6570,  0.1608,  0.9221]]), tensor([[-0.5837,  0.3212]]), tensor([[-2.1728]])]\n"
     ]
    }
   ],
   "source": [
    "## initialize tensor for inputs, and outputs \n",
    "x = torch.randn((1, 5))\n",
    "y = torch.randn((1, 1))\n",
    "nodes = [5, 3, 2, 1]\n",
    "train(x, y, nodes, 10)"
   ]
  },
  {
   "cell_type": "code",
   "execution_count": null,
   "metadata": {},
   "outputs": [],
   "source": []
  },
  {
   "cell_type": "code",
   "execution_count": null,
   "metadata": {},
   "outputs": [],
   "source": []
  },
  {
   "cell_type": "code",
   "execution_count": null,
   "metadata": {},
   "outputs": [],
   "source": []
  }
 ],
 "metadata": {
  "kernelspec": {
   "display_name": "eulerspython",
   "language": "python",
   "name": "eulerspython"
  },
  "language_info": {
   "codemirror_mode": {
    "name": "ipython",
    "version": 3
   },
   "file_extension": ".py",
   "mimetype": "text/x-python",
   "name": "python",
   "nbconvert_exporter": "python",
   "pygments_lexer": "ipython3",
   "version": "3.6.5"
  }
 },
 "nbformat": 4,
 "nbformat_minor": 2
}
