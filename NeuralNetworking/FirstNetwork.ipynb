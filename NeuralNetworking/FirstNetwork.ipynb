{
 "cells": [
  {
   "cell_type": "code",
   "execution_count": 1,
   "metadata": {},
   "outputs": [],
   "source": [
    "import numpy as np\n",
    "from sklearn.model_selection import train_test_split\n",
    "import matplotlib\n",
    "from matplotlib import pyplot as plt\n",
    "# # SciKitLearn is a useful machine learning utilities library\n",
    "# import sklearn\n",
    "# # The sklearn dataset module helps generating |datasets\n",
    "# import sklearn.datasets\n",
    "# import sklearn.linear_model\n",
    "# from sklearn.preprocessing import OneHotEncoder\n",
    "# from sklearn.preprocessing import normalize\n",
    "# from scipy.stats import gaussian_kde\n",
    "import pandas as pd\n",
    "import network as nn"
   ]
  },
  {
   "cell_type": "code",
   "execution_count": 2,
   "metadata": {},
   "outputs": [],
   "source": [
    "# Import Dataset\n",
    "qcd_raw = pd.read_csv('../HiggsReconstruction/EventPlotting/qcd_outputDataForLearning.csv')\n",
    "hh_raw = pd.read_csv('../HiggsReconstruction/EventPlotting/dihiggs_outputDataForLearning.csv')"
   ]
  },
  {
   "cell_type": "code",
   "execution_count": 3,
   "metadata": {},
   "outputs": [
    {
     "name": "stdout",
     "output_type": "stream",
     "text": [
      "1703 rows of qcd data\n",
      "4605 rows of dihiggs data\n"
     ]
    }
   ],
   "source": [
    "qcd_raw.head()\n",
    "print(len(qcd_raw), \"rows of qcd data\")\n",
    "hh_raw.head()\n",
    "print(len(hh_raw), \"rows of dihiggs data\")"
   ]
  },
  {
   "cell_type": "code",
   "execution_count": 4,
   "metadata": {},
   "outputs": [],
   "source": [
    "# Make higgs and qcd sets from raw data\n",
    "hh_all = hh_raw[['h1_mass', 'h2_mass', 'deltaR(h1 jets)', 'deltaR(h2 jets)']]\n",
    "qcd = qcd_raw[['h1_mass', 'h2_mass', 'deltaR(h1 jets)', 'deltaR(h2 jets)']]"
   ]
  },
  {
   "cell_type": "code",
   "execution_count": 5,
   "metadata": {},
   "outputs": [
    {
     "data": {
      "image/png": "[encoded data removed]",
      "text/plain": [
       "<Figure size 432x288 with 1 Axes>"
      ]
     },
     "metadata": {
      "needs_background": "light"
     },
     "output_type": "display_data"
    }
   ],
   "source": [
    "plt.hist(hh_raw['h1_mass'], label=\"hh\", density=1, alpha=.5, bins=np.linspace(0, 500, 100))\n",
    "plt.hist(qcd_raw['h1_mass'], label=\"qcd\", density=1, alpha=.5, bins=np.linspace(0, 500, 100))\n",
    "plt.title(\"h1_mass\")\n",
    "plt.legend()\n",
    "plt.show()"
   ]
  },
  {
   "cell_type": "code",
   "execution_count": 6,
   "metadata": {},
   "outputs": [
    {
     "name": "stdout",
     "output_type": "stream",
     "text": [
      "[[148.29183647 158.29664593   2.39941158   3.04517197]\n",
      " [ 96.55363983  58.55460135   1.3437355    1.1183898 ]\n",
      " [110.27188042 130.16422715   0.69737734   1.15238492]\n",
      " [179.64052569 166.13619263   2.05337635   2.09055659]]\n"
     ]
    }
   ],
   "source": [
    "hh_all = np.array(hh_all)\n",
    "qcd = np.array(qcd)\n",
    "n_factors = 4\n",
    "print(hh_all[:4])"
   ]
  },
  {
   "cell_type": "code",
   "execution_count": 7,
   "metadata": {},
   "outputs": [],
   "source": [
    "# add labels to di-higgs\n",
    "hh_all=hh_all[:,:n_factors]\n",
    "# print(hh[0:3])\n",
    "hh_labels= np.zeros((len(hh_all),1))\n",
    "hh_labels = hh_labels+1\n",
    "#a = hh[:len(hh)]\n",
    "# print(a.shape)\n",
    "hh_all = np.append(hh_all, hh_labels, axis=1)\n",
    "# print(hh.shape)\n",
    "# print(hh[0:3])"
   ]
  },
  {
   "cell_type": "code",
   "execution_count": 8,
   "metadata": {},
   "outputs": [],
   "source": [
    "# add labels to qcd\n",
    "qcd=qcd[:,:n_factors]\n",
    "# print(hh[0:3])\n",
    "qcd_labels= np.zeros((len(qcd),1))\n",
    "#a = hh[:len(hh)]\n",
    "# print(a.shape)\n",
    "qcd = np.append(qcd, qcd_labels, axis=1)\n",
    "# print(hh.shape)\n",
    "# print(hh[0:3])\n",
    "# print(qcd[:4])"
   ]
  },
  {
   "cell_type": "code",
   "execution_count": 9,
   "metadata": {},
   "outputs": [],
   "source": [
    "# select a quarter of hh events so that the set is half and half\n",
    "# we shuffle the list first to take a random 1/4. this means we have a different dataset every time\n",
    "# np.random.seed(0)\n",
    "# np.random.shuffle(hh_all) \n",
    "hh = hh_all[0:len(qcd)]"
   ]
  },
  {
   "cell_type": "code",
   "execution_count": 10,
   "metadata": {},
   "outputs": [
    {
     "name": "stdout",
     "output_type": "stream",
     "text": [
      "[[148.29183647 158.29664593   2.39941158   3.04517197   1.        ]\n",
      " [ 96.55363983  58.55460135   1.3437355    1.1183898    1.        ]\n",
      " [110.27188042 130.16422715   0.69737734   1.15238492   1.        ]\n",
      " [179.64052569 166.13619263   2.05337635   2.09055659   1.        ]]\n",
      "[[124.32560775 111.57092015   2.30806958   1.8907895    0.        ]\n",
      " [ 44.27017863  50.02795445   0.53594587   0.67197657   0.        ]\n",
      " [ 26.86431539  97.05075322   0.50002477   1.24722521   0.        ]\n",
      " [ 52.99052297  68.4701516    0.85636988   1.41845491   0.        ]]\n"
     ]
    }
   ],
   "source": [
    "print(hh[:4])\n",
    "print(qcd[:4])\n",
    "# hh[:,0] = np.random.rand(1703)\n",
    "# qcd[:,0] = -1*np.random.rand(1703)"
   ]
  },
  {
   "cell_type": "code",
   "execution_count": 11,
   "metadata": {
    "scrolled": true
   },
   "outputs": [
    {
     "data": {
      "text/plain": [
       "array([[148.29183647, 158.29664593,   2.39941158,   3.04517197,\n",
       "          1.        ],\n",
       "       [ 96.55363983,  58.55460135,   1.3437355 ,   1.1183898 ,\n",
       "          1.        ],\n",
       "       [110.27188042, 130.16422715,   0.69737734,   1.15238492,\n",
       "          1.        ],\n",
       "       [179.64052569, 166.13619263,   2.05337635,   2.09055659,\n",
       "          1.        ]])"
      ]
     },
     "execution_count": 11,
     "metadata": {},
     "output_type": "execute_result"
    }
   ],
   "source": [
    "all_data = np.append(hh,qcd, axis=0) \n",
    "all_data[:4,:]"
   ]
  },
  {
   "cell_type": "code",
   "execution_count": 12,
   "metadata": {},
   "outputs": [
    {
     "name": "stdout",
     "output_type": "stream",
     "text": [
      "[[78.51653118 99.90177086  0.65442684  1.22668884  1.        ]\n",
      " [71.75033314 99.42090809  0.89750952  3.22538659  1.        ]\n",
      " [47.31570582 84.8093764   0.82403631  2.29447447  0.        ]\n",
      " [83.62946756 88.23300205  1.6624558   2.25493106  1.        ]]\n",
      "[[1.]\n",
      " [1.]\n",
      " [0.]\n",
      " [1.]]\n"
     ]
    }
   ],
   "source": [
    "np.random.seed(0)\n",
    "for i in range (8): # shuffle 8 times\n",
    "    np.random.shuffle(all_data) \n",
    "print(all_data[:4])\n",
    "all_labels = all_data[:,n_factors:]\n",
    "all_data = all_data[:,0:n_factors]\n",
    "# print(all_data[:4])\n",
    "print(all_labels[:4])\n",
    "# print(test_data)\n",
    "# print(len(all_data))\n",
    "# print(all_labels)\n"
   ]
  },
  {
   "cell_type": "code",
   "execution_count": 13,
   "metadata": {},
   "outputs": [],
   "source": [
    "all_data[:,0] = np.true_divide(all_data[:,0], np.max(all_data[:,0]))\n",
    "all_data[:,1] = np.true_divide(all_data[:,0], np.max(all_data[:,0]))\n",
    "all_data[:,2] = np.true_divide(all_data[:,0], np.max(all_data[:,0]))\n",
    "all_data[:,3] = np.true_divide(all_data[:,0], np.max(all_data[:,0]))"
   ]
  },
  {
   "cell_type": "code",
   "execution_count": 14,
   "metadata": {},
   "outputs": [],
   "source": [
    "# TODO: Train-Test split\n",
    "train_data, test_data, train_labels, test_labels = train_test_split(all_data, all_labels, train_size=0.5, test_size=0.5, random_state=42)\n",
    "# print(len(train_data))\n",
    "# print(train_data)\n",
    "# print(train_data.shape)\n",
    "# print(train_labels)"
   ]
  },
  {
   "cell_type": "code",
   "execution_count": 15,
   "metadata": {
    "scrolled": true
   },
   "outputs": [
    {
     "ename": "AttributeError",
     "evalue": "module 'network' has no attribute 'initialize_parameters'",
     "output_type": "error",
     "traceback": [
      "\u001b[0;31m---------------------------------------------------------------------------\u001b[0m",
      "\u001b[0;31mAttributeError\u001b[0m                            Traceback (most recent call last)",
      "\u001b[0;32m<ipython-input-15-939261b984f1>\u001b[0m in \u001b[0;36m<module>\u001b[0;34m\u001b[0m\n\u001b[1;32m      1\u001b[0m \u001b[0mlearnRate\u001b[0m \u001b[0;34m=\u001b[0m \u001b[0;36m0.000025\u001b[0m\u001b[0;34m\u001b[0m\u001b[0;34m\u001b[0m\u001b[0m\n\u001b[1;32m      2\u001b[0m \u001b[0mnp\u001b[0m\u001b[0;34m.\u001b[0m\u001b[0mrandom\u001b[0m\u001b[0;34m.\u001b[0m\u001b[0mseed\u001b[0m\u001b[0;34m(\u001b[0m\u001b[0;36m0\u001b[0m\u001b[0;34m)\u001b[0m\u001b[0;34m\u001b[0m\u001b[0;34m\u001b[0m\u001b[0m\n\u001b[0;32m----> 3\u001b[0;31m \u001b[0mmodel\u001b[0m \u001b[0;34m=\u001b[0m \u001b[0mnn\u001b[0m\u001b[0;34m.\u001b[0m\u001b[0minitialize_parameters\u001b[0m\u001b[0;34m(\u001b[0m\u001b[0mnn_input_dim\u001b[0m\u001b[0;34m=\u001b[0m\u001b[0;36m4\u001b[0m\u001b[0;34m,\u001b[0m \u001b[0mnn_hdim\u001b[0m\u001b[0;34m=\u001b[0m \u001b[0;36m12\u001b[0m\u001b[0;34m,\u001b[0m \u001b[0mnn_output_dim\u001b[0m\u001b[0;34m=\u001b[0m \u001b[0;36m2\u001b[0m\u001b[0;34m)\u001b[0m\u001b[0;34m\u001b[0m\u001b[0;34m\u001b[0m\u001b[0m\n\u001b[0m\u001b[1;32m      4\u001b[0m \u001b[0mmodel\u001b[0m \u001b[0;34m=\u001b[0m \u001b[0mnn\u001b[0m\u001b[0;34m.\u001b[0m\u001b[0mtrainThenTest\u001b[0m\u001b[0;34m(\u001b[0m\u001b[0mmodel\u001b[0m\u001b[0;34m,\u001b[0m\u001b[0mtrain_data\u001b[0m\u001b[0;34m,\u001b[0m\u001b[0mtrain_labels\u001b[0m\u001b[0;34m,\u001b[0m \u001b[0mtest_data\u001b[0m\u001b[0;34m=\u001b[0m\u001b[0mtest_data\u001b[0m\u001b[0;34m,\u001b[0m \u001b[0mtest_labels\u001b[0m\u001b[0;34m=\u001b[0m\u001b[0mtest_labels\u001b[0m\u001b[0;34m,\u001b[0m\u001b[0mlearning_rate\u001b[0m\u001b[0;34m=\u001b[0m\u001b[0mlearnRate\u001b[0m\u001b[0;34m,\u001b[0m\u001b[0mepochs\u001b[0m\u001b[0;34m=\u001b[0m\u001b[0;36m2101\u001b[0m\u001b[0;34m,\u001b[0m\u001b[0mprint_loss\u001b[0m\u001b[0;34m=\u001b[0m\u001b[0;32mTrue\u001b[0m\u001b[0;34m)\u001b[0m \u001b[0;31m# original learning rate is 0.01\u001b[0m\u001b[0;34m\u001b[0m\u001b[0;34m\u001b[0m\u001b[0m\n",
      "\u001b[0;31mAttributeError\u001b[0m: module 'network' has no attribute 'initialize_parameters'"
     ]
    }
   ],
   "source": [
    "learnRate = 0.000025 \n",
    "np.random.seed(0)\n",
    "model = nn.initialize_parameters(nn_input_dim=4, nn_hdim= 12, nn_output_dim= 2)\n",
    "model = nn.trainThenTest(model,train_data,train_labels, test_data=test_data, test_labels=test_labels,learning_rate=learnRate,epochs=2101,print_loss=True) # original learning rate is 0.01\n"
   ]
  },
  {
   "cell_type": "code",
   "execution_count": null,
   "metadata": {
    "scrolled": true
   },
   "outputs": [],
   "source": [
    "nn.plotAccPerEpoch(\"Neural Network Loss and Accuracy per Epoch\")"
   ]
  },
  {
   "cell_type": "code",
   "execution_count": null,
   "metadata": {
    "scrolled": true
   },
   "outputs": [],
   "source": [
    "nn.plotSomeWeights()"
   ]
  },
  {
   "cell_type": "code",
   "execution_count": null,
   "metadata": {},
   "outputs": [],
   "source": [
    "nn.plotGrads()"
   ]
  },
  {
   "cell_type": "code",
   "execution_count": null,
   "metadata": {},
   "outputs": [],
   "source": [
    "nn.plotBias()"
   ]
  },
  {
   "cell_type": "code",
   "execution_count": null,
   "metadata": {},
   "outputs": [],
   "source": []
  },
  {
   "cell_type": "code",
   "execution_count": null,
   "metadata": {},
   "outputs": [],
   "source": []
  }
 ],
 "metadata": {
  "kernelspec": {
   "display_name": "eulerspython",
   "language": "python",
   "name": "eulerspython"
  },
  "language_info": {
   "codemirror_mode": {
    "name": "ipython",
    "version": 3
   },
   "file_extension": ".py",
   "mimetype": "text/x-python",
   "name": "python",
   "nbconvert_exporter": "python",
   "pygments_lexer": "ipython3",
   "version": "3.6.5"
  }
 },
 "nbformat": 4,
 "nbformat_minor": 2
}
