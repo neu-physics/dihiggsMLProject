{
 "cells": [
  {
   "cell_type": "code",
   "execution_count": 1,
   "metadata": {},
   "outputs": [],
   "source": [
    "import numpy as np\n",
    "from sklearn.model_selection import train_test_split\n",
    "import matplotlib\n",
    "from matplotlib import pyplot as plt\n",
    "import pandas as pd\n",
    "from network import Network\n",
    "import torch\n"
   ]
  },
  {
   "cell_type": "code",
   "execution_count": 2,
   "metadata": {},
   "outputs": [
    {
     "name": "stdout",
     "output_type": "stream",
     "text": [
      "1703 rows of qcd data\n",
      "4605 rows of dihiggs data\n",
      "12\n"
     ]
    }
   ],
   "source": [
    "# Import Dataset\n",
    "qcd_raw = pd.read_csv('../HiggsReconstruction/EventPlotting/qcd_outputDataForLearning.csv')\n",
    "hh_raw = pd.read_csv('../HiggsReconstruction/EventPlotting/dihiggs_outputDataForLearning.csv')\n",
    "\n",
    "qcd_raw.head()\n",
    "print(len(qcd_raw), \"rows of qcd data\")\n",
    "hh_raw.head()\n",
    "print(len(hh_raw), \"rows of dihiggs data\")\n",
    "\n",
    "# Make higgs and qcd sets from raw data\n",
    "hh_all = hh_raw[['h1_mass', 'h2_mass', 'deltaR(h1 jets)', 'deltaR(h2 jets)', 'jet1_pz', 'jet2_pz', 'jet3_pz', 'jet4_pz', 'jet1_energy', 'jet2_energy', 'jet3_energy', 'jet4_energy']]\n",
    "qcd = qcd_raw[['h1_mass', 'h2_mass', 'deltaR(h1 jets)', 'deltaR(h2 jets)', 'jet1_pz', 'jet2_pz', 'jet3_pz', 'jet4_pz', 'jet1_energy', 'jet2_energy', 'jet3_energy', 'jet4_energy']]\n",
    "# hh_all = hh_raw[['deltaR(h1 jets)', 'deltaR(h2 jets)']]\n",
    "# qcd = qcd_raw[['deltaR(h1 jets)', 'deltaR(h2 jets)']]\n",
    "n_factors = np.shape(hh_all)[1]\n",
    "print(n_factors)\n",
    "\n",
    "# change this for testing w dummy variables\n",
    "# n_factors = 2\n"
   ]
  },
  {
   "cell_type": "code",
   "execution_count": 3,
   "metadata": {
    "scrolled": true
   },
   "outputs": [
    {
     "data": {
      "image/png": "[encoded data removed]",
      "text/plain": [
       "<Figure size 432x288 with 1 Axes>"
      ]
     },
     "metadata": {
      "needs_background": "light"
     },
     "output_type": "display_data"
    }
   ],
   "source": [
    "plt.hist(hh_raw['h1_mass'], label=\"hh\", density=1, alpha=.5, bins=np.linspace(0, 500, 100))\n",
    "plt.hist(qcd_raw['h1_mass'], label=\"qcd\", density=1, alpha=.5, bins=np.linspace(0, 500, 100))\n",
    "plt.title(\"h1_mass\")\n",
    "plt.legend()\n",
    "plt.show()"
   ]
  },
  {
   "cell_type": "code",
   "execution_count": 4,
   "metadata": {},
   "outputs": [
    {
     "name": "stdout",
     "output_type": "stream",
     "text": [
      "[[  99.52746498  123.72713519    1.83328407    2.89078642  -92.16885054\n",
      "   -68.1855941   -13.20713637  103.54359903  111.30003325   92.22963145\n",
      "    58.56126524  106.34580411    1.        ]\n",
      " [ 184.71024749   77.62334247    2.84355966    1.90858838   48.63799876\n",
      "   -70.34420944  -54.70500921 -150.86426601  142.60866778   78.07701989\n",
      "    70.50592466  156.85898016    0.        ]\n",
      " [  30.47812488   17.83909044    0.69238905    0.53948599   79.07079113\n",
      "    13.86882319   36.25700422   13.61031336   97.33674613   31.41294151\n",
      "    49.24614827   28.33270864    1.        ]\n",
      " [ 117.01806102   90.17471759    2.65217628    2.29208081  400.11881291\n",
      "    94.73165446 -103.36041871   -4.30163383  409.45421633  102.31305014\n",
      "   128.70287746   27.00732621    1.        ]]\n",
      "[[1.]\n",
      " [0.]\n",
      " [1.]\n",
      " [1.]]\n"
     ]
    }
   ],
   "source": [
    "hh_all = np.array(hh_all)\n",
    "qcd = np.array(qcd)\n",
    "\n",
    "# add labels to di-higgs\n",
    "hh_all=hh_all[:,:n_factors]\n",
    "# # print(hh[0:3])\n",
    "hh_labels= np.zeros((len(hh_all),1))\n",
    "hh_labels = hh_labels+1\n",
    "#a = hh[:len(hh)]\n",
    "# print(a.shape)\n",
    "hh_all = np.append(hh_all, hh_labels, axis=1)\n",
    "# hh_all = np.append(hh_all, 1-hh_labels, axis=1)## hh qcd labels \n",
    "\n",
    "\n",
    "# print(hh.shape)\n",
    "# print(hh[0:3])\n",
    "\n",
    "# add labels to qcd\n",
    "qcd=qcd[:,:n_factors]\n",
    "# print(hh[0:3])\n",
    "qcd_labels= np.zeros((len(qcd),1))\n",
    "#a = hh[:len(hh)]\n",
    "# print(a.shape)\n",
    "# qcd hh labels \n",
    "qcd = np.append(qcd, qcd_labels, axis=1) \n",
    "# qcd = np.append(qcd, 1-qcd_labels, axis=1)# qcd qcd labels\n",
    "\n",
    "\n",
    "# use this for dummy variables\n",
    "# hh_all[:,0] = np.random.rand(np.shape(hh_all)[0])\n",
    "# hh_all[:,1] = np.random.rand(np.shape(hh_all)[0])\n",
    "# qcd[:, 0] = -1 * np.random.rand(np.shape(qcd)[0])\n",
    "# qcd[:, 1] = -1 * np.random.rand(np.shape(qcd)[0])\n",
    "\n",
    "# \n",
    "\n",
    "# print(hh.shape)\n",
    "# print(hh[0:3])\n",
    "# print(qcd[:4])\n",
    "\n",
    "# select a quarter of hh events so that the set is half and half\n",
    "# we shuffle the list first to take a random 1/4. this means we have a different dataset every time\n",
    "# np.random.seed(0)\n",
    "# np.random.shuffle(hh_all) \n",
    "hh = hh_all[0:len(qcd)]\n",
    "# print(hh[:4])\n",
    "# print(qcd[:4])\n",
    "\n",
    "all_data = np.append(hh,qcd, axis=0) \n",
    "all_data[:n_factors,:]\n",
    "\n",
    "np.random.seed(0)\n",
    "for i in range (4): # shuffle 4 times\n",
    "    np.random.shuffle(all_data) \n",
    "print(all_data[:4])\n",
    "all_labels = all_data[:,n_factors:]\n",
    "# for testing model resilience\n",
    "# for i in range(2):\n",
    "#     np.random.shuffle(all_labels)\n",
    "all_data = all_data[:,:n_factors]\n",
    "# print(all_data[:4])\n",
    "print(all_labels[:4])\n",
    "# print(test_data)\n",
    "# print(len(all_data))\n",
    "# print(all_labels)"
   ]
  },
  {
   "cell_type": "code",
   "execution_count": 5,
   "metadata": {},
   "outputs": [
    {
     "name": "stdout",
     "output_type": "stream",
     "text": [
      "[[ 0.13777842  0.206275    0.33357623  0.57712665 -0.05276209 -0.09349191\n",
      "  -0.01360928  0.12095912  0.06260362  0.12451174  0.03889375  0.08892334]\n",
      " [ 0.25569913  0.12941183  0.51740149  0.38103722  0.02784284 -0.09645167\n",
      "  -0.05637073 -0.17623889  0.08021398  0.10540545  0.04682686  0.13116103]\n",
      " [ 0.04219165  0.02974092  0.12598404  0.10770486  0.0452641   0.01901608\n",
      "   0.037361    0.0158995   0.0547496   0.04240806  0.03270707  0.02369101]\n",
      " [ 0.1619911   0.15033719  0.48257822  0.45759898  0.22904816  0.12989024\n",
      "  -0.10650765 -0.00502515  0.23030823  0.13812455  0.08547865  0.02258276]]\n"
     ]
    }
   ],
   "source": [
    "# scale the data by dividing it by the max value of each\n",
    "for i in range(np.shape(all_data)[1]):\n",
    "    all_data[:,i] = np.true_divide(all_data[:,i], np.max(all_data[:,i]))\n",
    "print(all_data[:4])\n"
   ]
  },
  {
   "cell_type": "code",
   "execution_count": 6,
   "metadata": {},
   "outputs": [
    {
     "name": "stdout",
     "output_type": "stream",
     "text": [
      "torch.Size([1021, 12])\n",
      "torch.Size([1703, 12])\n",
      "torch.Size([1021, 1])\n",
      "torch.Size([1703, 1])\n"
     ]
    }
   ],
   "source": [
    "# TODO: Train-Test split\n",
    "train_data, test_data, train_labels, test_labels = train_test_split(all_data, all_labels, train_size=0.3, test_size=0.5, random_state=42)\n",
    "# print(len(train_data))\n",
    "# print(train_data)\n",
    "# print(train_data.shape)\n",
    "# print(train_labels)\n",
    "train_data = torch.from_numpy(train_data)\n",
    "# train_data = torch.zeros(len(train_labels), 4)\n",
    "test_data = torch.from_numpy(test_data)\n",
    "# test_data = torch.zeros(len(test_labels), 4)\n",
    "train_labels = torch.from_numpy(train_labels)\n",
    "test_labels = torch.from_numpy(test_labels)\n",
    "\n",
    "print(train_data.shape)\n",
    "print(test_data.shape)\n",
    "print(train_labels.shape)\n",
    "print(test_labels.shape)\n",
    "\n"
   ]
  },
  {
   "cell_type": "code",
   "execution_count": 7,
   "metadata": {
    "scrolled": true
   },
   "outputs": [
    {
     "name": "stdout",
     "output_type": "stream",
     "text": [
      "train accuracy at epoch 0 is: 46.5230166503428\n",
      "test accuracy is: 48.091603053435115\n",
      "train accuracy at epoch 300 is: 61.80215475024487\n",
      "test accuracy is: 61.71462125660598\n",
      "train accuracy at epoch 600 is: 61.900097943192954\n",
      "test accuracy is: 61.362301820317086\n",
      "train accuracy at epoch 900 is: 62.29187071498531\n",
      "test accuracy is: 61.009982384028184\n",
      "train accuracy at epoch 1200 is: 62.19392752203722\n",
      "test accuracy is: 60.95126247798004\n",
      "train accuracy at epoch 1500 is: 62.3898139079334\n",
      "test accuracy is: 60.83382266588373\n",
      "train accuracy at epoch 1800 is: 62.3898139079334\n",
      "test accuracy is: 60.83382266588373\n",
      "train accuracy at epoch 2100 is: 62.19392752203722\n",
      "test accuracy is: 60.77510275983558\n",
      "train accuracy at epoch 2400 is: 62.585700293829575\n",
      "test accuracy is: 60.71638285378743\n",
      "train accuracy at epoch 2700 is: 62.87952987267384\n",
      "test accuracy is: 60.598943041691136\n",
      "train accuracy at epoch 3000 is: 63.27130264446621\n",
      "test accuracy is: 60.540223135642975\n",
      "train accuracy at epoch 3300 is: 63.17335945151812\n",
      "test accuracy is: 60.71638285378743\n",
      "train accuracy at epoch 3600 is: 63.17335945151812\n",
      "test accuracy is: 61.06870229007634\n",
      "train accuracy at epoch 3900 is: 63.27130264446621\n",
      "test accuracy is: 61.06870229007634\n",
      "train accuracy at epoch 4200 is: 63.27130264446621\n",
      "test accuracy is: 61.42102172636523\n",
      "train accuracy at epoch 4500 is: 63.17335945151812\n",
      "test accuracy is: 61.479741632413386\n",
      "train accuracy at epoch 4800 is: 63.17335945151812\n",
      "test accuracy is: 61.832061068702295\n",
      "train accuracy at epoch 5100 is: 63.17335945151812\n",
      "test accuracy is: 61.65590135055784\n",
      "train accuracy at epoch 5400 is: 63.46718903036239\n",
      "test accuracy is: 61.71462125660598\n",
      "train accuracy at epoch 5700 is: 63.85896180215476\n",
      "test accuracy is: 61.89078097475045\n",
      "train accuracy at epoch 6000 is: 63.761018609206666\n",
      "test accuracy is: 61.89078097475045\n",
      "train accuracy at epoch 6300 is: 63.66307541625857\n",
      "test accuracy is: 61.77334116265414\n",
      "train accuracy at epoch 6600 is: 63.565132223310485\n",
      "test accuracy is: 61.832061068702295\n",
      "train accuracy at epoch 6900 is: 63.17335945151812\n",
      "test accuracy is: 62.184380504991196\n",
      "train accuracy at epoch 7200 is: 63.27130264446621\n",
      "test accuracy is: 62.12566059894304\n",
      "train accuracy at epoch 7500 is: 63.17335945151812\n",
      "test accuracy is: 62.06694069289489\n",
      "train accuracy at epoch 7800 is: 63.17335945151812\n",
      "test accuracy is: 62.184380504991196\n"
     ]
    }
   ],
   "source": [
    "learnRate = 0.01\n",
    "np.random.seed(234)\n",
    "node_list = [n_factors, 76, 76, 1]\n",
    "old_model = Network(node_list)\n",
    "model = Network(node_list, old_model.w_initial, old_model.b_initial)\n",
    "model.train(train_data, train_labels, 7801, learnRate, 0, True, test_data, test_labels)"
   ]
  },
  {
   "cell_type": "code",
   "execution_count": 8,
   "metadata": {},
   "outputs": [],
   "source": [
    "# testout = model.get_output().numpy()\n",
    "# testout[testout>.5] = 1\n",
    "# testout[test out<=.5] = 0\n",
    "# print(\"train\", np.sum(train_labels.numpy()))\n",
    "# print(\"test\", np.sum(test_labels.numpy()))\n",
    "# print(\"out\", np.sum(testout))\n",
    "# print(\"train acc\", (1-(np.sum(np.abs(train_labels.numpy()-testout))/len(train_labels.numpy())))\n",
    "#      )\n",
    "# print(\"test acc\", (1-(np.sum(np.abs(test_labels.numpy()-testout))/len(test_labels.numpy())))\n",
    "#      )\n"
   ]
  },
  {
   "cell_type": "code",
   "execution_count": 9,
   "metadata": {
    "scrolled": false
   },
   "outputs": [
    {
     "data": {
      "image/png": "[encoded data removed]",
      "text/plain": [
       "<Figure size 432x288 with 1 Axes>"
      ]
     },
     "metadata": {
      "needs_background": "light"
     },
     "output_type": "display_data"
    }
   ],
   "source": [
    "# print(model.losses)\n",
    "plt.plot(model.losses, label=\"loss\")\n",
    "plt.plot(model.train_accuracies, label=\"Train\", alpha=0.5)\n",
    "plt.scatter(model.test_num, model.test_accuracies, label=\"Test\", marker=\".\", color=\"green\")\n",
    "plt.xlabel(\"Epoch\")\n",
    "plt.ylabel(\"Performance(%)\")\n",
    "plt.title(\"Loss and Network Accuracy per Epoch\")\n",
    "plt.legend()\n",
    "plt.ylim(0,100)\n",
    "plt.show()"
   ]
  },
  {
   "cell_type": "code",
   "execution_count": 10,
   "metadata": {},
   "outputs": [
    {
     "data": {
      "text/plain": [
       "[<matplotlib.lines.Line2D at 0x127b88f28>]"
      ]
     },
     "execution_count": 10,
     "metadata": {},
     "output_type": "execute_result"
    },
    {
     "data": {
      "image/png": "[encoded data removed]",
      "text/plain": [
       "<Figure size 432x288 with 1 Axes>"
      ]
     },
     "metadata": {
      "needs_background": "light"
     },
     "output_type": "display_data"
    }
   ],
   "source": [
    "plt.plot(model.losses)"
   ]
  },
  {
   "cell_type": "code",
   "execution_count": 11,
   "metadata": {},
   "outputs": [
    {
     "data": {
      "text/plain": [
       "[<matplotlib.lines.Line2D at 0x126bc1c50>]"
      ]
     },
     "execution_count": 11,
     "metadata": {},
     "output_type": "execute_result"
    },
    {
     "data": {
      "image/png": "[encoded data removed]",
      "text/plain": [
       "<Figure size 432x288 with 1 Axes>"
      ]
     },
     "metadata": {
      "needs_background": "light"
     },
     "output_type": "display_data"
    }
   ],
   "source": [
    "plt.plot(model.train_accuracies, label=\"Train\", color=\"orange\")\n"
   ]
  },
  {
   "cell_type": "code",
   "execution_count": 12,
   "metadata": {},
   "outputs": [
    {
     "data": {
      "text/plain": [
       "[<matplotlib.lines.Line2D at 0x126e99518>]"
      ]
     },
     "execution_count": 12,
     "metadata": {},
     "output_type": "execute_result"
    },
    {
     "data": {
      "image/png": "[encoded data removed]",
      "text/plain": [
       "<Figure size 432x288 with 1 Axes>"
      ]
     },
     "metadata": {
      "needs_background": "light"
     },
     "output_type": "display_data"
    }
   ],
   "source": [
    "plt.plot(model.weight_change)"
   ]
  },
  {
   "cell_type": "code",
   "execution_count": 13,
   "metadata": {},
   "outputs": [],
   "source": [
    "# print(len(model.weights))\n",
    "# print(model.weights)"
   ]
  },
  {
   "cell_type": "code",
   "execution_count": 14,
   "metadata": {},
   "outputs": [],
   "source": [
    "# print(model.biases)"
   ]
  },
  {
   "cell_type": "code",
   "execution_count": 15,
   "metadata": {},
   "outputs": [
    {
     "name": "stdout",
     "output_type": "stream",
     "text": [
      "[tensor([[0.6013, 0.6215, 0.5618,  ..., 0.3519, 0.2282, 0.6366],\n",
      "        [0.7635, 0.5333, 0.4882,  ..., 0.6513, 0.2375, 0.5972],\n",
      "        [0.7425, 0.3302, 0.5639,  ..., 0.4088, 0.1061, 0.5293],\n",
      "        ...,\n",
      "        [0.6919, 0.3920, 0.3793,  ..., 0.5527, 0.2894, 0.5426],\n",
      "        [0.6314, 0.4263, 0.5797,  ..., 0.3704, 0.1454, 0.5355],\n",
      "        [0.6779, 0.4656, 0.5621,  ..., 0.4453, 0.2014, 0.5670]]), tensor([[1.1486e-05, 5.2908e-02, 6.8508e-01,  ..., 9.8688e-02, 2.9790e-01,\n",
      "         7.4601e-02],\n",
      "        [9.7105e-06, 4.4422e-02, 6.2392e-01,  ..., 2.3705e-02, 1.3060e-01,\n",
      "         5.2869e-02],\n",
      "        [2.0869e-05, 6.3677e-02, 8.4524e-01,  ..., 1.5204e-02, 2.6000e-01,\n",
      "         5.9264e-01],\n",
      "        ...,\n",
      "        [1.8880e-05, 4.3229e-02, 5.7634e-01,  ..., 2.2656e-02, 2.4945e-01,\n",
      "         2.0417e-01],\n",
      "        [1.7505e-05, 5.1412e-02, 7.5602e-01,  ..., 2.4373e-02, 2.7053e-01,\n",
      "         5.3892e-01],\n",
      "        [1.6256e-05, 4.8919e-02, 7.8913e-01,  ..., 2.7435e-02, 1.9316e-01,\n",
      "         2.1041e-01]]), tensor([[0.6716],\n",
      "        [0.5807],\n",
      "        [0.3475],\n",
      "        ...,\n",
      "        [0.5675],\n",
      "        [0.4073],\n",
      "        [0.5789]])]\n"
     ]
    }
   ],
   "source": [
    "print(model.layers)"
   ]
  },
  {
   "cell_type": "code",
   "execution_count": 16,
   "metadata": {},
   "outputs": [],
   "source": [
    "# out_labels = model.get_output()\n",
    "# a = out_labels[:,0]\n",
    "# # b = out_labels[:,1]\n",
    "# c = (a+b)\n",
    "# print(c)\n",
    "# print(0.7336+0.1798)\n",
    "# print(c.shape)"
   ]
  },
  {
   "cell_type": "code",
   "execution_count": 17,
   "metadata": {},
   "outputs": [
    {
     "name": "stdout",
     "output_type": "stream",
     "text": [
      "[tensor([[ 7.1865e-01, -8.7391e-01, -1.5254e+00, -7.3665e-01,  4.7168e-01,\n",
      "          1.8789e-01, -1.1975e+00,  5.9423e-01, -3.7790e-01, -3.5306e-01,\n",
      "         -8.5227e-02, -9.5973e-01,  1.9720e+00, -2.5011e+00,  5.1012e-02,\n",
      "          1.3947e+00, -2.6208e+00, -5.5800e-01, -1.7337e+00,  1.7165e+00,\n",
      "         -1.9026e+00,  1.1969e-01,  1.2313e+00, -3.7081e-01, -1.9433e+00,\n",
      "          7.8393e-01, -9.6662e-01,  3.1491e-01,  3.8960e-01, -1.4648e+00,\n",
      "         -7.0600e-02,  3.7800e-01,  1.3375e+00, -8.3342e-01, -6.0347e-01,\n",
      "          2.9293e-01,  4.2725e-01,  2.3702e-02,  2.6739e-03,  1.9786e+00,\n",
      "          6.6990e-01,  1.0720e+00, -5.0248e-01,  1.5456e+00,  2.6617e-01,\n",
      "          1.1845e-01, -2.3941e-01,  2.1084e-01, -1.1700e+00,  1.6809e-01,\n",
      "         -6.7158e-01, -1.5189e+00,  8.0264e-02, -9.8695e-01, -4.7102e-01,\n",
      "          1.2908e-01, -1.2876e+00,  6.7548e-01, -1.6208e+00, -6.7497e-01,\n",
      "         -2.9510e-01,  1.9185e-01, -1.5582e-01,  1.1531e+00,  1.3581e+00,\n",
      "          1.9192e-01, -3.2228e-01, -4.0112e-01, -7.4659e-01, -3.2047e-01,\n",
      "          8.9618e-01, -6.9194e-01, -1.9518e+00, -1.1651e+00, -1.1174e+00,\n",
      "          2.1312e-01],\n",
      "        [ 2.1419e+00,  8.1399e-01, -5.0293e-01,  1.0726e+00,  2.6793e-01,\n",
      "         -1.1577e-01, -3.8780e-02,  1.4530e+00, -1.1327e+00,  4.7601e-01,\n",
      "          3.4407e-01,  1.4676e+00, -3.2316e-01,  5.5746e-01, -7.4763e-01,\n",
      "          1.2698e+00,  3.6376e-01,  1.1503e+00, -1.4540e+00, -3.1432e-01,\n",
      "         -3.1654e+00,  3.6363e-01, -2.4464e-01,  8.0094e-01,  6.6135e-02,\n",
      "          2.3744e+00,  1.3035e+00,  1.4745e+00,  2.2593e+00, -1.0660e+00,\n",
      "         -5.2639e-01,  1.4923e+00, -1.4865e+00,  4.9858e-01,  3.6390e-01,\n",
      "          1.4820e-01,  1.0624e+00,  1.5194e+00, -1.4677e+00, -4.7427e-01,\n",
      "         -5.8501e-01, -3.9244e-01, -2.8897e-03,  2.3316e-01, -3.9953e-01,\n",
      "         -4.6194e-01,  8.1227e-01, -4.1870e-01, -6.2461e-01,  3.0353e-01,\n",
      "         -6.4578e-01,  8.1466e-01,  2.9538e-01,  6.4995e-01,  6.6682e-01,\n",
      "         -1.1309e+00, -9.2988e-01,  2.5277e-01, -1.8486e-01, -3.7375e-01,\n",
      "         -7.4269e-01,  3.8169e-01, -1.0920e+00, -1.3992e-01,  1.8206e-01,\n",
      "         -2.2774e-01, -7.7493e-02,  5.3338e-01,  9.9057e-01, -1.1583e-01,\n",
      "          2.9478e-01, -1.7122e+00, -7.5278e-01,  1.6444e-01, -7.1662e-01,\n",
      "         -5.6731e-01],\n",
      "        [-3.4948e-01, -1.3141e+00,  2.4643e-01,  1.0631e+00,  4.5216e-01,\n",
      "         -9.7108e-01,  3.4737e-01, -6.3902e-03, -1.7555e+00, -7.8511e-01,\n",
      "          1.6381e+00, -1.6665e+00, -4.2430e-01,  7.6264e-01, -2.0226e+00,\n",
      "          9.1431e-01,  7.5360e-01,  3.8954e-01, -2.8751e+00,  1.6483e-01,\n",
      "         -8.7010e-01, -5.4524e-01,  5.6979e-01,  1.6745e+00,  6.3754e-02,\n",
      "         -9.7715e-01, -9.9023e-01,  4.6314e-01, -1.8979e+00, -2.8454e-01,\n",
      "         -1.1146e+00, -2.9126e-01, -1.3601e+00,  4.2035e-01, -9.6217e-01,\n",
      "          8.6385e-01,  2.0450e+00, -4.0472e-01, -1.3345e+00,  1.1734e+00,\n",
      "          9.8207e-02,  1.5598e+00, -3.0934e+00,  6.1930e-01, -2.6840e-01,\n",
      "          1.4392e-01, -2.1691e+00, -9.5362e-02, -2.6682e-02,  1.0756e+00,\n",
      "          4.2315e-01, -7.4508e-01,  2.5227e-01,  2.3929e+00,  2.1653e-01,\n",
      "          1.6478e-02, -1.1124e+00, -6.7209e-02,  1.0201e+00,  1.2727e+00,\n",
      "         -1.0522e+00, -9.2696e-01, -3.7573e-01, -1.5031e+00,  1.5422e+00,\n",
      "          2.2746e+00, -1.4361e+00, -1.1656e-01, -2.5877e+00, -2.1116e+00,\n",
      "          2.1766e+00, -1.0977e+00, -1.6451e+00, -4.3265e-01, -9.4882e-01,\n",
      "         -7.4931e-01],\n",
      "        [ 5.6917e-01,  1.9668e-01,  1.0366e+00, -7.8901e-02, -2.9122e-01,\n",
      "          7.6856e-01, -4.8262e-02, -3.6710e-01, -7.0403e-02, -1.0495e+00,\n",
      "          1.5457e+00, -1.4663e-01, -1.2070e+00,  1.6064e-01,  1.4882e-01,\n",
      "          1.0916e+00, -6.1185e-01, -5.3938e-01, -4.4551e-02, -6.6301e-01,\n",
      "          2.2199e+00,  6.2449e-01,  1.6611e+00,  1.5344e+00, -6.5772e-01,\n",
      "         -2.3293e-02, -1.4641e-01, -4.5552e-01, -1.0205e+00,  1.2989e+00,\n",
      "          1.5600e+00,  3.4015e-01, -6.5024e-01, -2.1494e-01,  7.6671e-01,\n",
      "         -4.9762e-01, -1.4732e+00, -6.8223e-01, -5.0963e-01,  5.6260e-01,\n",
      "         -1.9459e+00, -4.4080e-01, -1.9339e+00,  1.8891e+00, -2.9104e-01,\n",
      "          3.5539e-01,  6.9797e-01,  3.5318e-01, -4.0551e-01,  1.6162e+00,\n",
      "         -4.8334e-01,  1.5329e+00,  5.5313e-01, -9.8258e-01, -4.7034e-01,\n",
      "          2.4292e+00, -1.3204e-01, -9.7571e-02,  2.0638e+00,  1.6165e+00,\n",
      "         -5.2192e-01,  1.0994e-01,  7.4431e-01, -1.5085e+00, -2.3351e-01,\n",
      "         -7.7945e-01, -1.4929e+00, -5.2215e-01, -8.5077e-01, -5.1414e-01,\n",
      "          2.9450e-01,  1.3413e-01,  1.9797e+00,  1.7140e-01, -1.3030e+00,\n",
      "          7.4039e-01],\n",
      "        [-3.0047e-01, -4.9022e-02,  6.8697e-01,  1.8646e-01, -4.3381e-01,\n",
      "         -7.6667e-01, -2.4257e-01, -5.3186e-02, -6.8988e-02,  8.5203e-01,\n",
      "         -3.6665e-01, -9.5400e-01,  5.7788e-01, -1.4256e-01, -3.8120e-01,\n",
      "          1.2928e+00, -1.5285e+00, -8.2256e-01,  1.3224e+00, -1.8975e+00,\n",
      "          1.6392e+00, -5.7635e-01,  1.5838e-01,  1.5014e+00, -2.5257e+00,\n",
      "          7.4228e-01,  4.6889e-01, -1.0112e+00, -1.6967e-02, -1.9256e+00,\n",
      "          5.1733e-01,  3.1906e-01, -7.5937e-01, -9.4408e-01, -1.4095e+00,\n",
      "          7.2860e-01,  5.7550e-01, -7.6798e-02, -2.9807e-01,  1.4431e+00,\n",
      "         -2.2398e-01, -4.8220e-01,  3.9653e-02,  8.3543e-01, -4.5603e-01,\n",
      "          9.8230e-01,  1.5835e+00,  1.1529e+00, -1.3454e+00, -1.6689e+00,\n",
      "         -2.1803e+00, -8.2586e-01, -1.5936e+00, -6.7989e-01,  3.6489e-01,\n",
      "         -1.0364e+00, -5.4234e-01, -1.7446e-01,  1.6475e+00, -1.9433e+00,\n",
      "         -1.0201e+00,  2.0735e+00, -8.7205e-01, -3.8477e-01,  8.8843e-01,\n",
      "          9.1642e-01, -6.4229e-01,  6.9553e-01,  9.5719e-01,  7.2567e-01,\n",
      "         -1.9110e-01, -7.2934e-01,  3.4537e-01, -2.3997e+00, -7.7637e-01,\n",
      "          3.8695e-01],\n",
      "        [-9.8839e-01,  7.7972e-01, -3.4794e-01,  1.5769e-01,  4.0294e-01,\n",
      "         -7.8648e-01,  6.3206e-01, -5.8532e-01,  1.2538e+00, -1.4780e-01,\n",
      "         -8.5290e-01, -1.6185e+00,  4.0377e-02,  1.9535e+00,  4.4626e-01,\n",
      "          7.5531e-02,  1.4528e+00,  7.3593e-01, -1.0907e-01,  9.9225e-01,\n",
      "          1.8253e-01, -7.1879e-01,  2.2623e+00, -4.9387e-01, -7.8040e-01,\n",
      "         -3.7175e-01, -5.3950e-01,  9.7308e-01,  5.4089e-01, -2.1964e+00,\n",
      "         -1.7598e-01, -2.5854e-01,  1.4983e+00, -9.6880e-01, -1.3631e-01,\n",
      "          3.9959e-01, -3.2170e-01,  7.5067e-01,  1.5595e+00, -1.6884e+00,\n",
      "         -8.1464e-01, -9.4886e-01, -2.0545e+00, -4.3495e-01,  6.6006e-02,\n",
      "         -4.9980e-01,  1.1412e+00, -7.0504e-01,  5.1846e-01, -1.9021e-01,\n",
      "          3.9443e-01,  9.0392e-01, -1.1589e+00,  1.8338e-01, -3.9540e-01,\n",
      "          1.5281e+00, -7.6809e-02,  6.1576e-01, -3.9308e-01,  1.2249e+00,\n",
      "         -2.6337e-01,  5.6734e-01,  2.5200e-01, -1.2111e+00,  2.6261e-01,\n",
      "          1.2190e+00,  6.9364e-02, -1.7919e-01,  3.3443e-01, -8.1123e-01,\n",
      "          5.5073e-01,  8.0343e-01,  9.6852e-02, -2.2674e+00, -2.4337e-02,\n",
      "          1.1623e+00],\n",
      "        [-1.0948e+00,  1.2473e+00,  7.9305e-01, -4.8479e-01, -4.6845e-01,\n",
      "          2.8422e+00, -2.2782e-02,  4.0941e-01,  6.2444e-01, -1.6353e+00,\n",
      "         -1.0457e-01,  1.0901e-02,  6.5850e-02, -9.8335e-01, -1.0101e+00,\n",
      "         -9.1396e-02,  4.3587e-01, -3.2638e-01, -8.5345e-01, -3.8006e-01,\n",
      "         -3.5961e-01,  1.7855e+00,  1.0619e+00,  1.0368e+00, -4.2971e-01,\n",
      "         -6.1466e-01,  1.5922e-01,  1.9522e+00,  1.9709e-01, -1.4969e-01,\n",
      "         -1.4705e+00,  1.4406e+00, -3.2530e-01,  3.6205e-01,  4.8028e-01,\n",
      "         -2.2166e+00, -1.3728e+00, -1.3873e+00,  1.0129e+00,  2.0248e+00,\n",
      "         -6.0123e-01,  5.9974e-01,  7.6846e-01, -9.5426e-02,  3.3895e-01,\n",
      "         -2.9829e-01,  8.3007e-02, -6.6161e-01, -1.0886e+00,  7.2688e-02,\n",
      "         -2.9306e-01,  1.6795e-01, -1.0552e+00,  4.5093e-02,  2.9791e-02,\n",
      "          5.1451e-01, -9.2446e-01,  1.1565e+00,  1.4959e+00, -1.1555e+00,\n",
      "          6.4150e-02, -2.6860e-01,  1.3872e-01,  1.1171e+00, -9.3030e-01,\n",
      "          2.5813e-01, -1.7094e+00,  4.9565e-01, -1.0783e+00,  8.9346e-02,\n",
      "         -2.1411e-01, -1.2875e+00,  7.1980e-01,  2.9673e-01, -4.2358e-01,\n",
      "         -4.1781e-01],\n",
      "        [ 3.9326e-02,  1.4985e+00,  9.6649e-01,  7.7564e-01, -8.2717e-02,\n",
      "          6.7377e-01, -9.1248e-01,  6.3028e-01,  1.5321e+00,  8.1765e-01,\n",
      "         -5.8931e-01,  9.5923e-01, -1.6558e+00, -1.2653e+00,  6.8041e-03,\n",
      "          5.1124e-02, -2.7955e-01, -6.2739e-01, -1.6808e+00,  1.4235e+00,\n",
      "          3.5719e-02,  6.7636e-01, -4.0648e-01,  9.1689e-01, -4.8313e-01,\n",
      "         -5.5851e-01,  4.4788e-01, -1.3809e+00,  6.9115e-01, -5.2919e-03,\n",
      "         -1.7664e-01,  2.1306e-01, -3.6465e-02, -2.0379e-01,  2.1927e+00,\n",
      "         -4.7963e-01, -6.2706e-01, -1.7376e-01,  8.4991e-01,  1.5284e+00,\n",
      "          9.7542e-01,  2.6969e-01, -9.7410e-01, -6.0603e-01, -6.4061e-01,\n",
      "         -1.4159e-01, -9.8409e-01,  7.7340e-01,  4.3628e-01, -1.2545e+00,\n",
      "          2.5228e-01,  5.8075e-01,  9.7486e-01,  1.9169e+00, -4.7475e-01,\n",
      "         -7.2453e-01, -1.6314e+00,  8.8425e-02,  8.7690e-01, -6.8885e-01,\n",
      "          7.2138e-02, -1.5416e-01, -8.6046e-01, -1.5072e-01, -5.5910e-01,\n",
      "          1.7001e+00,  8.0802e-02,  8.7851e-01,  1.0741e+00,  7.0070e-01,\n",
      "         -1.0448e-01,  3.8393e-02,  1.0450e-01, -6.7445e-02, -4.1469e-01,\n",
      "         -5.5494e-02],\n",
      "        [-1.0015e-01,  1.1698e+00, -1.5477e+00,  3.0747e-01, -2.5427e-01,\n",
      "         -1.2099e+00,  1.5935e+00, -9.9845e-01,  6.7345e-01, -1.6068e+00,\n",
      "         -1.1774e+00, -2.5729e-01, -4.8327e-01, -5.0896e-01,  1.1072e-01,\n",
      "         -1.8579e+00,  7.4242e-01, -3.9261e-01, -5.1991e-01,  1.2293e+00,\n",
      "          4.8257e-01, -1.7532e+00,  4.8861e-01, -3.1826e-01,  5.0338e-01,\n",
      "          4.1496e-01,  1.5168e+00,  4.9054e-01,  1.8056e+00,  6.6214e-01,\n",
      "         -1.7991e+00, -7.3780e-01, -1.2206e+00, -2.8233e+00, -7.9864e-02,\n",
      "         -2.1998e-01,  2.6819e-02, -1.1573e+00, -3.9373e-01,  1.0875e+00,\n",
      "          8.3673e-01,  1.6455e+00, -2.9391e-02,  1.4841e-01, -1.0846e-01,\n",
      "          1.0634e-03,  6.9469e-01, -4.3656e-01, -2.5722e-01, -6.8985e-01,\n",
      "          7.8009e-01,  1.1691e+00,  1.6141e+00,  1.1058e+00,  1.2850e+00,\n",
      "          9.0631e-01,  8.6705e-01, -3.6563e-01, -5.8697e-01, -8.3808e-01,\n",
      "         -2.8481e-01, -6.4841e-01,  5.4480e-01, -7.6124e-01, -1.4123e+00,\n",
      "         -4.6003e-01, -6.4574e-01,  1.5215e+00,  1.0966e+00,  3.4331e-01,\n",
      "          5.9428e-01, -6.9914e-01, -2.6208e-01,  2.4012e-01, -4.9263e-01,\n",
      "         -7.9915e-02],\n",
      "        [-4.3132e-01, -2.8776e-01,  1.6629e-01,  1.6482e+00,  8.5147e-01,\n",
      "          2.1089e-01,  3.7946e-01,  1.0148e+00, -2.2793e+00, -6.8360e-01,\n",
      "          7.0879e-02,  7.6531e-01,  4.4557e-01,  1.0064e+00, -1.0224e-01,\n",
      "          3.3069e-01, -2.1687e+00,  2.9891e-01, -6.8402e-02, -3.7694e-01,\n",
      "         -1.2390e+00,  7.6585e-01, -3.2522e-01,  9.7761e-01,  1.5472e+00,\n",
      "         -3.6601e-01, -2.1120e+00, -9.9401e-01, -1.0833e-01, -1.7025e+00,\n",
      "          8.1510e-01, -2.7821e-01, -3.9638e-01,  1.4071e+00,  3.0195e-01,\n",
      "          1.5051e+00, -3.0070e-01,  3.6702e-01, -1.2831e+00,  1.1754e-01,\n",
      "          6.0616e-01, -9.8216e-01, -1.5231e+00,  1.4905e+00,  5.1418e-01,\n",
      "          6.4072e-01,  1.5404e-01,  8.5600e-01, -9.9936e-02,  2.1386e+00,\n",
      "         -4.3740e-01, -1.4997e+00,  2.5137e-01, -1.0558e+00, -1.4268e+00,\n",
      "         -6.2633e-01,  8.7170e-01,  9.4726e-01,  1.2781e+00, -1.6420e-01,\n",
      "          1.5231e-01, -1.6507e-01, -2.3091e-01, -1.0443e+00, -9.7204e-01,\n",
      "         -2.7013e-01, -1.1491e+00,  1.5600e+00, -2.2111e-01, -1.1526e+00,\n",
      "          4.3488e-01, -5.0458e-01, -1.0845e-01, -2.9114e-01, -8.3672e-01,\n",
      "          1.5831e+00],\n",
      "        [ 1.4078e+00,  2.4786e-01,  7.6546e-01,  1.3285e+00,  8.8879e-01,\n",
      "         -7.9584e-01,  2.0581e-01, -3.5411e-01,  2.2084e-02, -8.4790e-03,\n",
      "         -8.4043e-01,  1.0053e+00,  1.3257e+00,  4.2985e-01, -8.9173e-01,\n",
      "          2.0576e+00, -8.8303e-01,  3.9042e-01,  7.1528e-01,  3.6994e-01,\n",
      "          5.6310e-01,  5.4382e-01,  3.6614e-01, -5.1361e-01,  7.0212e-01,\n",
      "         -4.8803e-01,  2.0221e+00, -1.2277e+00, -1.5409e+00, -8.5573e-01,\n",
      "         -5.5321e-01, -6.6229e-02,  6.0521e-01, -9.7531e-01,  1.6137e+00,\n",
      "         -1.5015e-01, -5.2768e-01, -5.5954e-01, -8.1218e-01,  2.6357e-01,\n",
      "         -5.7654e-01,  6.9629e-01,  1.4395e-01, -3.4813e-01,  9.1824e-01,\n",
      "          2.5253e+00,  1.1729e+00,  1.0956e-01,  1.3087e-01, -9.7844e-01,\n",
      "          7.2032e-01, -5.9339e-01,  9.4684e-01,  1.4231e-01,  8.2673e-01,\n",
      "          3.3773e-01, -1.8616e+00,  8.7499e-02,  6.8135e-01,  9.5969e-01,\n",
      "         -4.2373e-01, -5.8108e-01, -1.7259e+00,  2.2112e-01,  1.2745e+00,\n",
      "         -1.9908e-01, -1.8166e+00, -1.5020e-02,  1.0332e+00,  3.4497e-01,\n",
      "         -4.6429e-01, -4.9338e-02, -1.3296e+00, -3.3516e-01, -1.4547e+00,\n",
      "          6.0706e-01],\n",
      "        [ 2.2119e-01, -1.5923e+00, -4.1937e-01, -1.8587e+00,  2.3372e+00,\n",
      "         -7.0200e-01, -6.0548e-01,  6.7809e-01,  1.0003e+00,  1.2415e+00,\n",
      "          7.6225e-02, -2.5742e-01, -1.1615e+00, -7.2051e-01, -1.0301e+00,\n",
      "          9.0407e-01, -1.1083e-01,  1.7830e+00, -1.0115e+00,  1.0894e+00,\n",
      "         -1.7264e+00,  3.2069e-01,  1.9837e-02, -2.4174e-01, -5.0536e-02,\n",
      "         -4.5058e-01,  2.2292e+00,  6.7401e-01, -1.7515e+00, -6.9164e-01,\n",
      "         -1.0065e-01,  1.0343e+00,  2.1245e-01, -2.5760e-01, -4.4922e-01,\n",
      "          6.7720e-01, -1.0036e+00,  6.0248e-01, -3.8683e-01, -1.0778e+00,\n",
      "         -9.6249e-01, -5.8555e-01,  1.9635e+00, -1.9877e-01, -1.8887e-01,\n",
      "          4.1618e-01,  1.0062e+00,  4.4144e-01, -8.0146e-01,  5.3423e-01,\n",
      "         -1.9063e-01, -1.5089e+00,  1.0897e+00, -1.4359e+00,  1.2964e-01,\n",
      "          9.7276e-01, -1.5033e+00,  5.7419e-02, -6.2654e-01,  3.5343e-01,\n",
      "         -5.8138e-02,  2.0997e-01, -1.6302e+00,  9.7108e-02,  1.3815e+00,\n",
      "         -1.8704e+00,  2.7702e-01,  1.1718e-01, -7.8866e-01,  1.1054e-01,\n",
      "         -1.0836e+00,  6.5753e-01,  3.6549e-01, -2.3197e-01, -6.0738e-01,\n",
      "          1.5679e+00]]), tensor([[ 1.1470, -0.3272,  0.3881,  ..., -0.7871,  0.2211, -1.1648],\n",
      "        [-0.7081,  0.0235, -0.0631,  ...,  0.0445,  1.4225, -1.0295],\n",
      "        [-1.0723, -0.6821, -0.3606,  ..., -1.5600,  0.5921, -0.0451],\n",
      "        ...,\n",
      "        [-0.8049, -1.1861,  0.2379,  ...,  0.5084,  0.2860, -0.8331],\n",
      "        [-0.2179,  0.5421, -0.1132,  ..., -1.2263,  0.7715, -1.0033],\n",
      "        [ 0.5965,  2.0982,  0.5364,  ..., -0.9302, -0.3978, -1.9451]]), tensor([[ 0.8282],\n",
      "        [-1.2420],\n",
      "        [-1.1229],\n",
      "        [-0.8976],\n",
      "        [-2.5088],\n",
      "        [ 1.2226],\n",
      "        [ 0.7029],\n",
      "        [ 0.5347],\n",
      "        [-1.4340],\n",
      "        [-1.0742],\n",
      "        [ 0.3956],\n",
      "        [-0.5129],\n",
      "        [-0.5728],\n",
      "        [-0.6762],\n",
      "        [ 1.7117],\n",
      "        [-0.7165],\n",
      "        [-0.2850],\n",
      "        [ 0.3561],\n",
      "        [-0.1952],\n",
      "        [-0.7096],\n",
      "        [ 1.4549],\n",
      "        [ 0.0357],\n",
      "        [-1.4694],\n",
      "        [-0.7736],\n",
      "        [ 2.3569],\n",
      "        [-0.3643],\n",
      "        [-0.3384],\n",
      "        [ 0.3345],\n",
      "        [ 1.9941],\n",
      "        [ 0.2150],\n",
      "        [-2.4434],\n",
      "        [-0.5255],\n",
      "        [-0.1801],\n",
      "        [ 1.7442],\n",
      "        [-0.9283],\n",
      "        [-1.3457],\n",
      "        [-0.4788],\n",
      "        [-1.8247],\n",
      "        [ 0.0306],\n",
      "        [-0.2217],\n",
      "        [ 0.0101],\n",
      "        [-1.1632],\n",
      "        [-0.9833],\n",
      "        [-0.8631],\n",
      "        [-0.2225],\n",
      "        [ 1.0411],\n",
      "        [ 2.2282],\n",
      "        [ 1.0666],\n",
      "        [ 1.1906],\n",
      "        [-1.0661],\n",
      "        [ 1.6384],\n",
      "        [ 0.9368],\n",
      "        [ 1.8145],\n",
      "        [ 1.1873],\n",
      "        [-0.2465],\n",
      "        [-0.4981],\n",
      "        [-0.5727],\n",
      "        [-0.0135],\n",
      "        [ 1.7481],\n",
      "        [-0.4696],\n",
      "        [-0.6408],\n",
      "        [-1.1346],\n",
      "        [-0.9758],\n",
      "        [ 0.4993],\n",
      "        [ 0.8801],\n",
      "        [ 0.3349],\n",
      "        [ 0.5383],\n",
      "        [-1.4029],\n",
      "        [-0.0693],\n",
      "        [-0.0873],\n",
      "        [ 0.3979],\n",
      "        [ 0.4030],\n",
      "        [-0.4395],\n",
      "        [ 0.0860],\n",
      "        [ 1.0383],\n",
      "        [-0.2973]])]\n"
     ]
    }
   ],
   "source": [
    "print(model.weights)"
   ]
  },
  {
   "cell_type": "code",
   "execution_count": 18,
   "metadata": {},
   "outputs": [
    {
     "name": "stdout",
     "output_type": "stream",
     "text": [
      "tensor([0.4976], dtype=torch.float64)\n"
     ]
    }
   ],
   "source": [
    "print(1-sum(train_labels)/len(train_labels))"
   ]
  },
  {
   "cell_type": "code",
   "execution_count": 19,
   "metadata": {},
   "outputs": [
    {
     "name": "stdout",
     "output_type": "stream",
     "text": [
      "tensor([[0.0528, 0.1558, 0.0953,  ..., 0.0738, 0.0781, 0.1254],\n",
      "        [0.0902, 0.2237, 0.1024,  ..., 0.1317, 0.0886, 0.0386],\n",
      "        [0.2577, 0.3008, 0.6195,  ..., 0.0883, 0.0650, 0.0708],\n",
      "        ...,\n",
      "        [0.1504, 0.1658, 0.2521,  ..., 0.0566, 0.1081, 0.0941],\n",
      "        [0.1969, 0.1645, 0.5134,  ..., 0.0564, 0.0993, 0.0209],\n",
      "        [0.1267, 0.1964, 0.3066,  ..., 0.0371, 0.0492, 0.0445]],\n",
      "       dtype=torch.float64)\n"
     ]
    }
   ],
   "source": [
    "print(train_data)"
   ]
  },
  {
   "cell_type": "code",
   "execution_count": 20,
   "metadata": {},
   "outputs": [
    {
     "name": "stdout",
     "output_type": "stream",
     "text": [
      "[tensor([[0.0394, 0.0394, 0.0394, 0.0394, 0.0394, 0.0394, 0.0394, 0.0394, 0.0394,\n",
      "         0.0394, 0.0394, 0.0394, 0.0394, 0.0394, 0.0394, 0.0394, 0.0394, 0.0394,\n",
      "         0.0394, 0.0394, 0.0394, 0.0394, 0.0394, 0.0394, 0.0394, 0.0394, 0.0394,\n",
      "         0.0394, 0.0394, 0.0394, 0.0394, 0.0394, 0.0394, 0.0394, 0.0394, 0.0394,\n",
      "         0.0394, 0.0394, 0.0394, 0.0394, 0.0394, 0.0394, 0.0394, 0.0394, 0.0394,\n",
      "         0.0394, 0.0394, 0.0394, 0.0394, 0.0394, 0.0394, 0.0394, 0.0394, 0.0394,\n",
      "         0.0394, 0.0394, 0.0394, 0.0394, 0.0394, 0.0394, 0.0394, 0.0394, 0.0394,\n",
      "         0.0394, 0.0394, 0.0394, 0.0394, 0.0394, 0.0394, 0.0394, 0.0394, 0.0394,\n",
      "         0.0394, 0.0394, 0.0394, 0.0394]]), tensor([[-0.0121, -0.0121, -0.0121, -0.0121, -0.0121, -0.0121, -0.0121, -0.0121,\n",
      "         -0.0121, -0.0121, -0.0121, -0.0121, -0.0121, -0.0121, -0.0121, -0.0121,\n",
      "         -0.0121, -0.0121, -0.0121, -0.0121, -0.0121, -0.0121, -0.0121, -0.0121,\n",
      "         -0.0121, -0.0121, -0.0121, -0.0121, -0.0121, -0.0121, -0.0121, -0.0121,\n",
      "         -0.0121, -0.0121, -0.0121, -0.0121, -0.0121, -0.0121, -0.0121, -0.0121,\n",
      "         -0.0121, -0.0121, -0.0121, -0.0121, -0.0121, -0.0121, -0.0121, -0.0121,\n",
      "         -0.0121, -0.0121, -0.0121, -0.0121, -0.0121, -0.0121, -0.0121, -0.0121,\n",
      "         -0.0121, -0.0121, -0.0121, -0.0121, -0.0121, -0.0121, -0.0121, -0.0121,\n",
      "         -0.0121, -0.0121, -0.0121, -0.0121, -0.0121, -0.0121, -0.0121, -0.0121,\n",
      "         -0.0121, -0.0121, -0.0121, -0.0121]]), tensor([[0.0041]])]\n"
     ]
    }
   ],
   "source": [
    "print(model.biases)"
   ]
  },
  {
   "cell_type": "code",
   "execution_count": 21,
   "metadata": {},
   "outputs": [
    {
     "name": "stdout",
     "output_type": "stream",
     "text": [
      "[[0.43930906]\n",
      " [0.6311917 ]\n",
      " [0.25007367]\n",
      " ...\n",
      " [0.6157611 ]\n",
      " [0.56444174]\n",
      " [0.60444033]]\n",
      "[[0.]\n",
      " [1.]\n",
      " [0.]\n",
      " ...\n",
      " [1.]\n",
      " [1.]\n",
      " [1.]]\n",
      "tensor([0.5024], dtype=torch.float64)\n",
      "tensor([0.8394], dtype=torch.float64)\n",
      "ASDF [0.53963596]\n"
     ]
    }
   ],
   "source": [
    "\n",
    "pred = model.pred(test_data)[-1].numpy()\n",
    "actual = test_labels.numpy()\n",
    "print(pred)\n",
    "pred[pred>.5] = 1\n",
    "pred[pred<.51] = 0\n",
    "print(pred)\n",
    "\n",
    "print(sum(train_labels)/len(train_labels))\n",
    "print(sum(test_labels)/len(train_labels))\n",
    "\n",
    "print(\"ASDF\", sum(pred)/len(pred))"
   ]
  },
  {
   "cell_type": "code",
   "execution_count": null,
   "metadata": {},
   "outputs": [],
   "source": []
  },
  {
   "cell_type": "code",
   "execution_count": null,
   "metadata": {},
   "outputs": [],
   "source": []
  }
 ],
 "metadata": {
  "kernelspec": {
   "display_name": "eulerspython",
   "language": "python",
   "name": "eulerspython"
  },
  "language_info": {
   "codemirror_mode": {
    "name": "ipython",
    "version": 3
   },
   "file_extension": ".py",
   "mimetype": "text/x-python",
   "name": "python",
   "nbconvert_exporter": "python",
   "pygments_lexer": "ipython3",
   "version": "3.6.5"
  }
 },
 "nbformat": 4,
 "nbformat_minor": 2
}
