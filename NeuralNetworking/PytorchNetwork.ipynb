{
 "cells": [
  {
   "cell_type": "code",
   "execution_count": 1,
   "metadata": {},
   "outputs": [],
   "source": [
    "import numpy as np\n",
    "from sklearn.model_selection import train_test_split\n",
    "import matplotlib\n",
    "from matplotlib import pyplot as plt\n",
    "import pandas as pd\n",
    "from network import Network\n",
    "import torch\n"
   ]
  },
  {
   "cell_type": "code",
   "execution_count": 2,
   "metadata": {},
   "outputs": [
    {
     "name": "stdout",
     "output_type": "stream",
     "text": [
      "1703 rows of qcd data\n",
      "4605 rows of dihiggs data\n",
      "5\n"
     ]
    }
   ],
   "source": [
    "# Import Dataset\n",
    "qcd_raw = pd.read_csv('../HiggsReconstruction/EventPlotting/qcd_outputDataForLearning.csv')\n",
    "hh_raw = pd.read_csv('../HiggsReconstruction/EventPlotting/dihiggs_outputDataForLearning.csv')\n",
    "\n",
    "qcd_raw.head()\n",
    "print(len(qcd_raw), \"rows of qcd data\")\n",
    "hh_raw.head()\n",
    "print(len(hh_raw), \"rows of dihiggs data\")\n",
    "\n",
    "# Make higgs and qcd sets from raw data\n",
    "hh_all = hh_raw[['hh_mass', 'h1_mass', 'h2_mass', 'deltaR(h1 jets)', 'deltaR(h2 jets)']]\n",
    "qcd = qcd_raw[['hh_mass', 'h1_mass', 'h2_mass', 'deltaR(h1 jets)', 'deltaR(h2 jets)']]\n",
    "# hh_all = hh_raw[['hh_mass', 'h1_mass', 'h2_mass', 'deltaR(h1 jets)', 'deltaR(h2 jets)', 'deltaPhi(h1, h2)', 'deltaPhi(h1 jets)', 'deltaPhi(h2 jets)']]\n",
    "# qcd = qcd_raw[['hh_mass', 'h1_mass', 'h2_mass', 'deltaR(h1 jets)', 'deltaR(h2 jets)', 'deltaPhi(h1, h2)', 'deltaPhi(h1 jets)', 'deltaPhi(h2 jets)']]\n",
    "# hh_all = hh_raw[['hh_mass', 'h1_mass', 'h2_mass']]\n",
    "# qcd = qcd_raw[['hh_mass', 'h1_mass', 'h2_mass']]\n",
    "# hh_all = hh_raw[['deltaR(h1 jets)', 'deltaR(h2 jets)']]\n",
    "# qcd = qcd_raw[['deltaR(h1 jets)', 'deltaR(h2 jets)']]\n",
    "n_factors = np.shape(hh_all)[1]\n",
    "print(n_factors)\n",
    "\n",
    "# change this for testing w dummy variables\n",
    "# n_factors = 2\n",
    "# n_factors +=1\n",
    "# print(n_factors)"
   ]
  },
  {
   "cell_type": "code",
   "execution_count": 3,
   "metadata": {
    "scrolled": true
   },
   "outputs": [
    {
     "data": {
      "image/png": "[encoded data removed]",
      "text/plain": [
       "<Figure size 432x288 with 1 Axes>"
      ]
     },
     "metadata": {
      "needs_background": "light"
     },
     "output_type": "display_data"
    }
   ],
   "source": [
    "plt.hist(hh_raw['h1_mass'], label=\"hh\", density=1, alpha=.5, bins=np.linspace(0, 500, 100))\n",
    "plt.hist(qcd_raw['h1_mass'], label=\"qcd\", density=1, alpha=.5, bins=np.linspace(0, 500, 100))\n",
    "plt.title(\"h1_mass\")\n",
    "plt.legend()\n",
    "plt.show()"
   ]
  },
  {
   "cell_type": "code",
   "execution_count": 4,
   "metadata": {},
   "outputs": [
    {
     "data": {
      "image/png": "[encoded data removed]",
      "text/plain": [
       "<Figure size 432x288 with 1 Axes>"
      ]
     },
     "metadata": {
      "needs_background": "light"
     },
     "output_type": "display_data"
    }
   ],
   "source": [
    "plt.hist(hh_raw['deltaR(h1 jets)'], label=\"hh\", density=1, alpha=.5, bins=np.linspace(0, 5, 100))\n",
    "# plt.hist(qcd_raw['deltaR(h1 jets)'], label=\"qcd\", density=1, alpha=.5, bins=np.linspace(0, 5, 100))\n",
    "plt.title(\"deltaR(h1 jets)\")\n",
    "plt.legend()\n",
    "plt.show()"
   ]
  },
  {
   "cell_type": "code",
   "execution_count": 5,
   "metadata": {},
   "outputs": [
    {
     "name": "stdout",
     "output_type": "stream",
     "text": [
      "[[3.59871965e+02 9.95274650e+01 1.23727135e+02 1.83328407e+00\n",
      "  2.89078642e+00 1.00000000e+00]\n",
      " [3.77248615e+02 1.84710247e+02 7.76233425e+01 2.84355966e+00\n",
      "  1.90858838e+00 0.00000000e+00]\n",
      " [9.83485927e+01 3.04781249e+01 1.78390904e+01 6.92389046e-01\n",
      "  5.39485992e-01 1.00000000e+00]\n",
      " [5.42543199e+02 1.17018061e+02 9.01747176e+01 2.65217628e+00\n",
      "  2.29208081e+00 1.00000000e+00]]\n",
      "[[1.]\n",
      " [0.]\n",
      " [1.]\n",
      " [1.]]\n"
     ]
    }
   ],
   "source": [
    "hh_all = np.array(hh_all)\n",
    "qcd = np.array(qcd)\n",
    "\n",
    "# add labels to di-higgs\n",
    "hh_all=hh_all[:,:n_factors]\n",
    "# # print(hh[0:3])\n",
    "hh_labels= np.zeros((len(hh_all),1))\n",
    "hh_labels = hh_labels+1\n",
    "#a = hh[:len(hh)]\n",
    "# print(a.shape)\n",
    "# hh_all[:,0] = np.random.rand(np.shape(hh_all)[0])\n",
    "hh_all = np.append(hh_all, hh_labels, axis=1)\n",
    "# hh_all = np.append(hh_all, 1-hh_labels, axis=1)## hh qcd labels \n",
    "\n",
    "\n",
    "# print(hh.shape)\n",
    "# print(hh[0:3])\n",
    "\n",
    "# add labels to qcd\n",
    "qcd=qcd[:,:n_factors]\n",
    "# print(hh[0:3])\n",
    "qcd_labels= np.zeros((len(qcd),1))\n",
    "#a = hh[:len(hh)]\n",
    "# print(a.shape)\n",
    "# qcd hh labels \n",
    "# qcd[:, 0] = -1 * np.random.rand(np.shape(qcd)[0])\n",
    "qcd = np.append(qcd, qcd_labels, axis=1) \n",
    "# qcd = np.append(qcd, 1-qcd_labels, axis=1)# qcd qcd labels\n",
    "\n",
    "\n",
    "# use this for dummy variables\n",
    "# hh_all[:,0] = np.random.rand(np.shape(hh_all)[0])\n",
    "# hh_all[:,1] = np.random.rand(np.shape(hh_all)[0])\n",
    "# qcd[:, 0] = -1 * np.random.rand(np.shape(qcd)[0])\n",
    "# qcd[:, 1] = -1 * np.random.rand(np.shape(qcd)[0])\n",
    "\n",
    "# \n",
    "\n",
    "# print(hh.shape)\n",
    "# print(hh[0:3])\n",
    "# print(qcd[:4])\n",
    "\n",
    "# select a quarter of hh events so that the set is half and half\n",
    "# we shuffle the list first to take a random 1/4. this means we have a different dataset every time\n",
    "# np.random.seed(0)\n",
    "# np.random.shuffle(hh_all) \n",
    "hh = hh_all[0:len(qcd)]\n",
    "# print(hh[:4])\n",
    "# print(qcd[:4])\n",
    "\n",
    "all_data = np.append(hh,qcd, axis=0) \n",
    "all_data[:n_factors,:]\n",
    "\n",
    "np.random.seed(0)\n",
    "for i in range (4): # shuffle 4 times\n",
    "    np.random.shuffle(all_data) \n",
    "print(all_data[:4])\n",
    "all_labels = all_data[:,n_factors:]\n",
    "# for testing model resilience\n",
    "# for i in range(2):\n",
    "#     np.random.shuffle(all_labels)\n",
    "all_data = all_data[:,:n_factors]\n",
    "# print(all_data[:4])\n",
    "print(all_labels[:4])\n",
    "# print(test_data)\n",
    "# print(len(all_data))\n",
    "# print(all_labels)"
   ]
  },
  {
   "cell_type": "code",
   "execution_count": 6,
   "metadata": {},
   "outputs": [
    {
     "data": {
      "image/png": "[encoded data removed]",
      "text/plain": [
       "<Figure size 432x288 with 1 Axes>"
      ]
     },
     "metadata": {
      "needs_background": "light"
     },
     "output_type": "display_data"
    },
    {
     "name": "stdout",
     "output_type": "stream",
     "text": [
      "[[0.16406217 0.13777842 0.206275   0.33357623 0.57712665]\n",
      " [0.17198402 0.25569913 0.12941183 0.51740149 0.38103722]\n",
      " [0.04483618 0.04219165 0.02974092 0.12598404 0.10770486]\n",
      " [0.24734024 0.1619911  0.15033719 0.48257822 0.45759898]]\n"
     ]
    }
   ],
   "source": [
    "plt.hist(all_data[:,0], alpha=.25, bins=np.linspace(0, 5, 100))\n",
    "plt.show()\n",
    "\n",
    "# scale the data by dividing it by the max value of each\n",
    "for i in range(np.shape(all_data)[1]):\n",
    "    all_data[:,i] = np.true_divide(all_data[:,i], np.max(all_data[:,i]))\n",
    "print(all_data[:4])\n",
    "\n",
    "# plt.hist(all_data[:,0], alpha=.25, bins=np.linspace(0, 5, 100))\n",
    "# plt.show()"
   ]
  },
  {
   "cell_type": "code",
   "execution_count": 7,
   "metadata": {},
   "outputs": [
    {
     "name": "stdout",
     "output_type": "stream",
     "text": [
      "torch.Size([1021, 5])\n",
      "torch.Size([1703, 5])\n",
      "torch.Size([1021, 1])\n",
      "torch.Size([1703, 1])\n"
     ]
    }
   ],
   "source": [
    "# TODO: Train-Test split\n",
    "train_data, test_data, train_labels, test_labels = train_test_split(all_data, all_labels, train_size=0.3, test_size=0.5, random_state=42)\n",
    "# print(len(train_data))\n",
    "# print(train_data)\n",
    "# print(train_data.shape)\n",
    "# print(train_labels)\n",
    "train_data = torch.from_numpy(train_data)\n",
    "# train_data = torch.zeros(len(train_labels), 4)\n",
    "test_data = torch.from_numpy(test_data)\n",
    "# test_data = torch.zeros(len(test_labels), 4)\n",
    "train_labels = torch.from_numpy(train_labels)\n",
    "test_labels = torch.from_numpy(test_labels)\n",
    "\n",
    "print(train_data.shape)\n",
    "print(test_data.shape)\n",
    "print(train_labels.shape)\n",
    "print(test_labels.shape)\n",
    "\n",
    "\n"
   ]
  },
  {
   "cell_type": "code",
   "execution_count": 8,
   "metadata": {
    "scrolled": true
   },
   "outputs": [
    {
     "name": "stdout",
     "output_type": "stream",
     "text": [
      "train accuracy at epoch 0 is: 49.75514201762977\n",
      "test accuracy is: 49.67704051673517\n",
      "train accuracy at epoch 300 is: 58.57002938295788\n",
      "test accuracy is: 56.429829712272465\n",
      "train accuracy at epoch 600 is: 60.430950048971596\n",
      "test accuracy is: 59.42454492072813\n",
      "train accuracy at epoch 900 is: 61.99804113614103\n",
      "test accuracy is: 61.06870229007634\n",
      "train accuracy at epoch 1200 is: 62.19392752203722\n",
      "test accuracy is: 61.597181444509694\n",
      "train accuracy at epoch 1500 is: 62.977473065621936\n",
      "test accuracy is: 62.008220786846735\n",
      "train accuracy at epoch 1800 is: 63.3692458374143\n",
      "test accuracy is: 62.360540223135644\n",
      "train accuracy at epoch 2100 is: 63.85896180215476\n",
      "test accuracy is: 62.7715795654727\n",
      "train accuracy at epoch 2400 is: 63.956904995102846\n",
      "test accuracy is: 63.065179095713454\n"
     ]
    }
   ],
   "source": [
    "learnRate = 0.01\n",
    "np.random.seed(234)\n",
    "node_list = [n_factors, 10, 10, 1]\n",
    "old_model = Network(node_list)\n",
    "model = Network(node_list, old_model.w_initial, old_model.b_initial)\n",
    "model.train(train_data, train_labels, 2401, learnRate, 0, True, test_data, test_labels)"
   ]
  },
  {
   "cell_type": "code",
   "execution_count": 9,
   "metadata": {},
   "outputs": [],
   "source": [
    "# testout = model.get_output().numpy()\n",
    "# testout[testout>.5] = 1\n",
    "# testout[test out<=.5] = 0\n",
    "# print(\"train\", np.sum(train_labels.numpy()))\n",
    "# print(\"test\", np.sum(test_labels.numpy()))\n",
    "# print(\"out\", np.sum(testout))\n",
    "# print(\"train acc\", (1-(np.sum(np.abs(train_labels.numpy()-testout))/len(train_labels.numpy())))\n",
    "#      )\n",
    "# print(\"test acc\", (1-(np.sum(np.abs(test_labels.numpy()-testout))/len(test_labels.numpy())))\n",
    "#      )\n"
   ]
  },
  {
   "cell_type": "code",
   "execution_count": 10,
   "metadata": {
    "scrolled": false
   },
   "outputs": [
    {
     "data": {
      "image/png": "[encoded data removed]",
      "text/plain": [
       "<Figure size 432x288 with 1 Axes>"
      ]
     },
     "metadata": {
      "needs_background": "light"
     },
     "output_type": "display_data"
    }
   ],
   "source": [
    "# print(model.losses)\n",
    "plt.plot(model.losses, label=\"loss\")\n",
    "plt.plot(model.train_accuracies, label=\"Train\", alpha=0.5)\n",
    "plt.scatter(model.test_num, model.test_accuracies, label=\"Test\", marker=\".\", color=\"green\")\n",
    "plt.xlabel(\"Epoch\")\n",
    "plt.ylabel(\"Performance(%)\")\n",
    "plt.title(\"Loss and Network Accuracy per Epoch\")\n",
    "plt.legend()\n",
    "plt.ylim(0,100)\n",
    "plt.show()"
   ]
  },
  {
   "cell_type": "code",
   "execution_count": 11,
   "metadata": {},
   "outputs": [
    {
     "data": {
      "image/png": "[encoded data removed]",
      "text/plain": [
       "<Figure size 432x288 with 1 Axes>"
      ]
     },
     "metadata": {
      "needs_background": "light"
     },
     "output_type": "display_data"
    }
   ],
   "source": [
    "plt.plot(model.losses)\n",
    "plt.title(\"Network Loss per Epoch\")\n",
    "plt.xlabel(\"Epoch\")\n",
    "plt.ylabel(\"Loss, (%)\")\n",
    "plt.show()"
   ]
  },
  {
   "cell_type": "code",
   "execution_count": 12,
   "metadata": {},
   "outputs": [
    {
     "data": {
      "image/png": "[encoded data removed]",
      "text/plain": [
       "<Figure size 432x288 with 1 Axes>"
      ]
     },
     "metadata": {
      "needs_background": "light"
     },
     "output_type": "display_data"
    }
   ],
   "source": [
    "plt.plot(model.train_accuracies, label=\"Train\", color=\"orange\")\n",
    "plt.title(\"Network Accuracy per Epoch\")\n",
    "plt.xlabel(\"Epoch\")\n",
    "plt.ylabel(\"Accuracy, (%)\")\n",
    "plt.show()"
   ]
  },
  {
   "cell_type": "code",
   "execution_count": 13,
   "metadata": {},
   "outputs": [
    {
     "data": {
      "text/plain": [
       "[<matplotlib.lines.Line2D at 0x12a859400>]"
      ]
     },
     "execution_count": 13,
     "metadata": {},
     "output_type": "execute_result"
    },
    {
     "data": {
      "image/png": "[encoded data removed]",
      "text/plain": [
       "<Figure size 432x288 with 1 Axes>"
      ]
     },
     "metadata": {
      "needs_background": "light"
     },
     "output_type": "display_data"
    }
   ],
   "source": [
    "plt.plot(model.weight_change)"
   ]
  },
  {
   "cell_type": "code",
   "execution_count": 14,
   "metadata": {},
   "outputs": [],
   "source": [
    "# print(len(model.weights))\n",
    "# print(model.weights)"
   ]
  },
  {
   "cell_type": "code",
   "execution_count": 15,
   "metadata": {},
   "outputs": [],
   "source": [
    "# print(model.biases)"
   ]
  },
  {
   "cell_type": "code",
   "execution_count": 16,
   "metadata": {},
   "outputs": [
    {
     "name": "stdout",
     "output_type": "stream",
     "text": [
      "[tensor([[0.7647, 0.5130, 0.7458,  ..., 0.6391, 0.5317, 0.7117],\n",
      "        [0.7820, 0.3969, 0.7948,  ..., 0.6403, 0.4610, 0.7009],\n",
      "        [0.8950, 0.4480, 0.6141,  ..., 0.5994, 0.2271, 0.9177],\n",
      "        ...,\n",
      "        [0.8388, 0.6074, 0.6655,  ..., 0.5899, 0.4108, 0.8279],\n",
      "        [0.8657, 0.5083, 0.6175,  ..., 0.6048, 0.3034, 0.8884],\n",
      "        [0.8147, 0.4478, 0.7115,  ..., 0.6400, 0.4042, 0.8064]]), tensor([[0.5943, 0.2521, 0.0078,  ..., 0.3311, 0.7439, 0.0915],\n",
      "        [0.6279, 0.3164, 0.0106,  ..., 0.3974, 0.7739, 0.1151],\n",
      "        [0.3813, 0.4254, 0.0172,  ..., 0.5429, 0.7991, 0.2310],\n",
      "        ...,\n",
      "        [0.4324, 0.2948, 0.0082,  ..., 0.3875, 0.7492, 0.1263],\n",
      "        [0.4023, 0.3655, 0.0123,  ..., 0.4719, 0.7808, 0.1836],\n",
      "        [0.5289, 0.3246, 0.0114,  ..., 0.4243, 0.7797, 0.1371]]), tensor([[0.6547],\n",
      "        [0.5982],\n",
      "        [0.3632],\n",
      "        ...,\n",
      "        [0.5621],\n",
      "        [0.4409],\n",
      "        [0.5418]])]\n"
     ]
    }
   ],
   "source": [
    "print(model.layers)"
   ]
  },
  {
   "cell_type": "code",
   "execution_count": 17,
   "metadata": {},
   "outputs": [],
   "source": [
    "# out_labels = model.get_output()\n",
    "# a = out_labels[:,0]\n",
    "# # b = out_labels[:,1]\n",
    "# c = (a+b)\n",
    "# print(c)\n",
    "# print(0.7336+0.1798)\n",
    "# print(c.shape)"
   ]
  },
  {
   "cell_type": "code",
   "execution_count": 18,
   "metadata": {},
   "outputs": [
    {
     "name": "stdout",
     "output_type": "stream",
     "text": [
      "[tensor([[ 1.8062, -0.7559,  0.7805, -0.0787,  0.2161,  0.1429,  0.4100, -2.3264,\n",
      "         -1.9363, -0.3201],\n",
      "        [ 1.1229,  1.7769, -0.3184, -0.7268,  1.1953, -1.2831, -1.5704,  0.9869,\n",
      "         -2.0485,  2.4684],\n",
      "        [ 0.3849, -0.5731,  0.1697, -0.4220, -0.4573, -1.1549, -0.8812,  0.2349,\n",
      "         -0.0354,  0.4265],\n",
      "        [ 1.3898,  0.3042, -1.8395, -2.0391, -0.3777,  0.6058, -0.1311, -0.8551,\n",
      "         -1.3887,  2.2985],\n",
      "        [-0.3452, -2.1992,  1.1963, -0.7643,  0.8362, -0.5378, -1.4820,  0.3751,\n",
      "         -0.4517, -0.8245]]), tensor([[-1.4139,  1.1113, -1.3883,  0.8712, -0.3093,  0.1656, -0.2613,  2.1636,\n",
      "          0.0741,  0.9961],\n",
      "        [-0.9058, -0.7732,  0.2551,  0.0991,  0.2404, -0.8667,  1.0307, -1.2959,\n",
      "         -2.0945,  0.3672],\n",
      "        [ 1.2915,  0.4239, -0.0770, -1.4580,  0.1511,  1.5774, -2.4333, -0.3143,\n",
      "         -0.5327, -0.5128],\n",
      "        [-0.4201, -0.2467, -1.1364, -1.2954,  0.8838,  0.8506, -1.1026, -0.0237,\n",
      "          1.0099, -0.6807],\n",
      "        [ 1.6941,  1.0960, -0.2580, -0.6088, -0.0569, -1.2347, -1.5856,  0.0792,\n",
      "          1.2033,  0.7316],\n",
      "        [-0.3380, -0.0125, -2.2507, -1.0064,  0.3536, -0.8806,  0.8984, -0.7795,\n",
      "         -0.2294,  0.1370],\n",
      "        [ 0.1353, -0.2274, -1.6027, -0.4435,  0.6136,  1.1928,  0.1270, -0.2087,\n",
      "          0.6868, -1.3888],\n",
      "        [ 0.9437, -1.5084, -0.0994,  0.1099, -1.2947,  2.4130, -1.5330, -0.7418,\n",
      "          0.2529, -1.1583],\n",
      "        [ 1.5541, -1.5215, -0.4019, -1.7239,  1.7396,  1.5030, -0.1097, -0.7362,\n",
      "         -0.5239, -1.4104],\n",
      "        [-1.3155, -0.3044, -0.1634,  0.6228, -0.9329, -1.3645,  1.5883,  0.4963,\n",
      "          1.8572, -0.6445]]), tensor([[ 0.0681],\n",
      "        [-2.4762],\n",
      "        [ 0.0498],\n",
      "        [-1.0407],\n",
      "        [ 0.6244],\n",
      "        [ 1.3862],\n",
      "        [-0.2155],\n",
      "        [-0.3552],\n",
      "        [-0.4360],\n",
      "        [ 0.7026]])]\n"
     ]
    }
   ],
   "source": [
    "print(model.weights)"
   ]
  },
  {
   "cell_type": "code",
   "execution_count": 19,
   "metadata": {},
   "outputs": [
    {
     "name": "stdout",
     "output_type": "stream",
     "text": [
      "tensor([0.4976], dtype=torch.float64)\n"
     ]
    }
   ],
   "source": [
    "print(1-sum(train_labels)/len(train_labels))"
   ]
  },
  {
   "cell_type": "code",
   "execution_count": 20,
   "metadata": {},
   "outputs": [
    {
     "name": "stdout",
     "output_type": "stream",
     "text": [
      "tensor([[0.1396, 0.0528, 0.1558, 0.0953, 0.2971],\n",
      "        [0.1912, 0.0902, 0.2237, 0.1024, 0.5069],\n",
      "        [0.1706, 0.2577, 0.3008, 0.6195, 0.6054],\n",
      "        ...,\n",
      "        [0.1982, 0.1504, 0.1658, 0.2521, 0.2001],\n",
      "        [0.1399, 0.1969, 0.1645, 0.5134, 0.4777],\n",
      "        [0.1281, 0.1267, 0.1964, 0.3066, 0.4984]], dtype=torch.float64)\n"
     ]
    }
   ],
   "source": [
    "print(train_data)"
   ]
  },
  {
   "cell_type": "code",
   "execution_count": 21,
   "metadata": {},
   "outputs": [
    {
     "name": "stdout",
     "output_type": "stream",
     "text": [
      "[tensor([[0.7775, 0.7775, 0.7775, 0.7775, 0.7775, 0.7775, 0.7775, 0.7775, 0.7775,\n",
      "         0.7775]]), tensor([[-0.4026, -0.4026, -0.4026, -0.4026, -0.4026, -0.4026, -0.4026, -0.4026,\n",
      "         -0.4026, -0.4026]]), tensor([[0.2011]])]\n"
     ]
    }
   ],
   "source": [
    "print(model.biases)"
   ]
  },
  {
   "cell_type": "code",
   "execution_count": 22,
   "metadata": {},
   "outputs": [
    {
     "name": "stdout",
     "output_type": "stream",
     "text": [
      "[[0.5427411 ]\n",
      " [0.55294406]\n",
      " [0.342267  ]\n",
      " ...\n",
      " [0.60596454]\n",
      " [0.5360598 ]\n",
      " [0.64598376]]\n",
      "[[1.]\n",
      " [1.]\n",
      " [0.]\n",
      " ...\n",
      " [1.]\n",
      " [1.]\n",
      " [1.]]\n",
      "tensor([0.5024], dtype=torch.float64)\n",
      "tensor([0.8394], dtype=torch.float64)\n",
      "ASDF [0.52025837]\n"
     ]
    }
   ],
   "source": [
    "\n",
    "pred = model.pred(test_data)[-1].numpy()\n",
    "actual = test_labels.numpy()\n",
    "print(pred)\n",
    "pred[pred>.5] = 1\n",
    "pred[pred<.51] = 0\n",
    "print(pred)\n",
    "\n",
    "print(sum(train_labels)/len(train_labels))\n",
    "print(sum(test_labels)/len(train_labels))\n",
    "\n",
    "print(\"ASDF\", sum(pred)/len(pred))"
   ]
  },
  {
   "cell_type": "code",
   "execution_count": null,
   "metadata": {},
   "outputs": [],
   "source": []
  },
  {
   "cell_type": "code",
   "execution_count": null,
   "metadata": {},
   "outputs": [],
   "source": []
  },
  {
   "cell_type": "code",
   "execution_count": null,
   "metadata": {},
   "outputs": [],
   "source": []
  }
 ],
 "metadata": {
  "kernelspec": {
   "display_name": "eulerspython",
   "language": "python",
   "name": "eulerspython"
  },
  "language_info": {
   "codemirror_mode": {
    "name": "ipython",
    "version": 3
   },
   "file_extension": ".py",
   "mimetype": "text/x-python",
   "name": "python",
   "nbconvert_exporter": "python",
   "pygments_lexer": "ipython3",
   "version": "3.6.5"
  }
 },
 "nbformat": 4,
 "nbformat_minor": 2
}
