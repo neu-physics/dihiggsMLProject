{
 "cells": [
  {
   "cell_type": "code",
   "execution_count": 1,
   "metadata": {},
   "outputs": [],
   "source": [
    "import numpy as np\n",
    "from sklearn.model_selection import train_test_split\n",
    "import matplotlib\n",
    "from matplotlib import pyplot as plt\n",
    "import pandas as pd\n",
    "from network import Network\n",
    "import torch\n"
   ]
  },
  {
   "cell_type": "code",
   "execution_count": 2,
   "metadata": {},
   "outputs": [
    {
     "name": "stdout",
     "output_type": "stream",
     "text": [
      "1703 rows of qcd data\n",
      "4605 rows of dihiggs data\n",
      "4\n"
     ]
    }
   ],
   "source": [
    "# Import Dataset\n",
    "qcd_raw = pd.read_csv('../HiggsReconstruction/EventPlotting/qcd_outputDataForLearning.csv')\n",
    "hh_raw = pd.read_csv('../HiggsReconstruction/EventPlotting/dihiggs_outputDataForLearning.csv')\n",
    "\n",
    "qcd_raw.head()\n",
    "print(len(qcd_raw), \"rows of qcd data\")\n",
    "hh_raw.head()\n",
    "print(len(hh_raw), \"rows of dihiggs data\")\n",
    "\n",
    "# Make higgs and qcd sets from raw data\n",
    "hh_all = hh_raw[['h1_mass', 'h2_mass', 'deltaR(h1 jets)', 'deltaR(h2 jets)']]\n",
    "qcd = qcd_raw[['h1_mass', 'h2_mass', 'deltaR(h1 jets)', 'deltaR(h2 jets)']]\n",
    "# hh_all = hh_raw[['h1_mass', 'deltaR(h1 jets)', 'deltaR(h2 jets)']]\n",
    "# qcd = qcd_raw[['h1_mass', 'deltaR(h1 jets)', 'deltaR(h2 jets)']]\n",
    "n_factors = np.shape(hh_all)[1]\n",
    "print(n_factors)\n",
    "n_factors =2"
   ]
  },
  {
   "cell_type": "code",
   "execution_count": 3,
   "metadata": {},
   "outputs": [
    {
     "data": {
      "image/png": "[encoded data removed]",
      "text/plain": [
       "<Figure size 432x288 with 1 Axes>"
      ]
     },
     "metadata": {
      "needs_background": "light"
     },
     "output_type": "display_data"
    }
   ],
   "source": [
    "plt.hist(hh_raw['h1_mass'], label=\"hh\", density=1, alpha=.5, bins=np.linspace(0, 500, 100))\n",
    "plt.hist(qcd_raw['h1_mass'], label=\"qcd\", density=1, alpha=.5, bins=np.linspace(0, 500, 100))\n",
    "plt.title(\"h1_mass\")\n",
    "plt.legend()\n",
    "plt.show()"
   ]
  },
  {
   "cell_type": "code",
   "execution_count": 4,
   "metadata": {},
   "outputs": [
    {
     "name": "stdout",
     "output_type": "stream",
     "text": [
      "[[ 0.67617581  0.33764896  1.        ]\n",
      " [-0.67822237 -0.50212865  0.        ]\n",
      " [ 0.76866612  0.0652701   1.        ]\n",
      " [ 0.08857096  0.3916179   1.        ]]\n",
      "[[1.]\n",
      " [0.]\n",
      " [1.]\n",
      " [1.]]\n"
     ]
    }
   ],
   "source": [
    "hh_all = np.array(hh_all)\n",
    "qcd = np.array(qcd)\n",
    "\n",
    "# add labels to di-higgs\n",
    "hh_all=hh_all[:,:n_factors]\n",
    "# print(hh[0:3])\n",
    "hh_labels= np.zeros((len(hh_all),1))\n",
    "hh_labels = hh_labels+1\n",
    "#a = hh[:len(hh)]\n",
    "# print(a.shape)\n",
    "hh_all = np.append(hh_all, hh_labels, axis=1)\n",
    "# hh_all = np.append(hh_all, 1-hh_labels, axis=1)## hh qcd labels \n",
    "hh_all[:,0] = np.random.rand(np.shape(hh_all)[0])\n",
    "hh_all[:,1] = np.random.rand(np.shape(hh_all)[0])\n",
    "\n",
    "# print(hh.shape)\n",
    "# print(hh[0:3])\n",
    "\n",
    "# add labels to qcd\n",
    "qcd=qcd[:,:n_factors]\n",
    "# print(hh[0:3])\n",
    "qcd_labels= np.zeros((len(qcd),1))\n",
    "#a = hh[:len(hh)]\n",
    "# print(a.shape)\n",
    "# qcd hh labels \n",
    "qcd = np.append(qcd, qcd_labels, axis=1) # qcd qcd labels\n",
    "# qcd = np.append(qcd, 1-qcd_labels, axis=1)\n",
    "qcd[:, 0] = -1 * np.random.rand(np.shape(qcd)[0])\n",
    "qcd[:, 1] = -1 * np.random.rand(np.shape(qcd)[0])\n",
    "\n",
    "# \n",
    "\n",
    "# print(hh.shape)\n",
    "# print(hh[0:3])\n",
    "# print(qcd[:4])\n",
    "\n",
    "# select a quarter of hh events so that the set is half and half\n",
    "# we shuffle the list first to take a random 1/4. this means we have a different dataset every time\n",
    "# np.random.seed(0)\n",
    "# np.random.shuffle(hh_all) \n",
    "hh = hh_all[0:len(qcd)]\n",
    "# print(hh[:4])\n",
    "# print(qcd[:4])\n",
    "\n",
    "all_data = np.append(hh,qcd, axis=0) \n",
    "all_data[:n_factors,:]\n",
    "\n",
    "np.random.seed(0)\n",
    "for i in range (4): # shuffle 4 times\n",
    "    np.random.shuffle(all_data) \n",
    "print(all_data[:4])\n",
    "all_labels = all_data[:,n_factors:]\n",
    "# for testing model resilience\n",
    "# for i in range(2):\n",
    "#     np.random.shuffle(all_labels)\n",
    "all_data = all_data[:,:n_factors]\n",
    "# print(all_data[:4])\n",
    "print(all_labels[:4])\n",
    "# print(test_data)\n",
    "# print(len(all_data))\n",
    "# print(all_labels)"
   ]
  },
  {
   "cell_type": "code",
   "execution_count": 5,
   "metadata": {},
   "outputs": [],
   "source": [
    "# scale the data by dividing it by the max value of each\n",
    "for i in range(np.shape(all_data)[1]):\n",
    "    all_data[:,i] = np.true_divide(all_data[:,i], np.max(all_data[:,i]))\n"
   ]
  },
  {
   "cell_type": "code",
   "execution_count": 6,
   "metadata": {},
   "outputs": [
    {
     "name": "stdout",
     "output_type": "stream",
     "text": [
      "torch.Size([1703, 2])\n",
      "torch.Size([1703, 2])\n",
      "torch.Size([1703, 1])\n",
      "torch.Size([1703, 1])\n"
     ]
    }
   ],
   "source": [
    "# TODO: Train-Test split\n",
    "train_data, test_data, train_labels, test_labels = train_test_split(all_data, all_labels, train_size=0.5, test_size=0.5, random_state=42)\n",
    "# print(len(train_data))\n",
    "# print(train_data)\n",
    "# print(train_data.shape)\n",
    "# print(train_labels)\n",
    "train_data = torch.from_numpy(train_data)\n",
    "# train_data = torch.zeros(len(train_labels), 4)\n",
    "test_data = torch.from_numpy(test_data)\n",
    "# test_data = torch.zeros(len(test_labels), 4)\n",
    "train_labels = torch.from_numpy(train_labels)\n",
    "test_labels = torch.from_numpy(test_labels)\n",
    "\n",
    "print(train_data.shape)\n",
    "print(test_data.shape)\n",
    "print(train_labels.shape)\n",
    "print(test_labels.shape)\n"
   ]
  },
  {
   "cell_type": "code",
   "execution_count": 7,
   "metadata": {
    "scrolled": false
   },
   "outputs": [
    {
     "name": "stdout",
     "output_type": "stream",
     "text": [
      "train accuracy at epoch 0 is: 49.67704051673517\n",
      "test accuracy is: 50.32295948326483\n",
      "train accuracy at epoch 1 is: 49.67704051673517\n",
      "test accuracy is: 50.32295948326483\n",
      "train accuracy at epoch 2 is: 49.67704051673517\n",
      "test accuracy is: 50.32295948326483\n",
      "train accuracy at epoch 3 is: 49.67704051673517\n",
      "test accuracy is: 50.32295948326483\n",
      "train accuracy at epoch 4 is: 49.67704051673517\n",
      "test accuracy is: 50.32295948326483\n",
      "train accuracy at epoch 5 is: 49.67704051673517\n",
      "test accuracy is: 50.32295948326483\n",
      "train accuracy at epoch 6 is: 49.67704051673517\n",
      "test accuracy is: 50.32295948326483\n",
      "train accuracy at epoch 7 is: 49.67704051673517\n",
      "test accuracy is: 50.32295948326483\n",
      "train accuracy at epoch 8 is: 49.67704051673517\n",
      "test accuracy is: 50.32295948326483\n",
      "train accuracy at epoch 9 is: 49.67704051673517\n",
      "test accuracy is: 50.32295948326483\n",
      "train accuracy at epoch 10 is: 49.67704051673517\n",
      "test accuracy is: 50.32295948326483\n",
      "train accuracy at epoch 11 is: 49.67704051673517\n",
      "test accuracy is: 50.32295948326483\n",
      "train accuracy at epoch 12 is: 49.67704051673517\n",
      "test accuracy is: 50.32295948326483\n",
      "train accuracy at epoch 13 is: 49.67704051673517\n",
      "test accuracy is: 50.32295948326483\n",
      "train accuracy at epoch 14 is: 49.67704051673517\n",
      "test accuracy is: 50.32295948326483\n",
      "train accuracy at epoch 15 is: 49.67704051673517\n",
      "test accuracy is: 50.32295948326483\n",
      "train accuracy at epoch 16 is: 49.67704051673517\n",
      "test accuracy is: 50.32295948326483\n",
      "train accuracy at epoch 17 is: 49.67704051673517\n",
      "test accuracy is: 50.32295948326483\n",
      "train accuracy at epoch 18 is: 49.67704051673517\n",
      "test accuracy is: 50.32295948326483\n",
      "train accuracy at epoch 19 is: 49.67704051673517\n",
      "test accuracy is: 50.32295948326483\n",
      "train accuracy at epoch 20 is: 49.67704051673517\n",
      "test accuracy is: 50.32295948326483\n",
      "train accuracy at epoch 21 is: 49.67704051673517\n",
      "test accuracy is: 50.32295948326483\n",
      "train accuracy at epoch 22 is: 49.67704051673517\n",
      "test accuracy is: 50.32295948326483\n",
      "train accuracy at epoch 23 is: 49.67704051673517\n",
      "test accuracy is: 50.32295948326483\n",
      "train accuracy at epoch 24 is: 49.67704051673517\n",
      "test accuracy is: 50.32295948326483\n",
      "train accuracy at epoch 25 is: 49.67704051673517\n",
      "test accuracy is: 50.32295948326483\n",
      "train accuracy at epoch 26 is: 49.67704051673517\n",
      "test accuracy is: 50.32295948326483\n",
      "train accuracy at epoch 27 is: 49.67704051673517\n",
      "test accuracy is: 50.32295948326483\n",
      "train accuracy at epoch 28 is: 49.67704051673517\n",
      "test accuracy is: 50.32295948326483\n",
      "train accuracy at epoch 29 is: 49.67704051673517\n",
      "test accuracy is: 50.32295948326483\n",
      "train accuracy at epoch 30 is: 49.67704051673517\n",
      "test accuracy is: 50.32295948326483\n",
      "train accuracy at epoch 31 is: 49.67704051673517\n",
      "test accuracy is: 50.32295948326483\n",
      "train accuracy at epoch 32 is: 49.67704051673517\n",
      "test accuracy is: 50.32295948326483\n",
      "train accuracy at epoch 33 is: 49.67704051673517\n",
      "test accuracy is: 50.32295948326483\n",
      "train accuracy at epoch 34 is: 49.67704051673517\n",
      "test accuracy is: 50.32295948326483\n",
      "train accuracy at epoch 35 is: 49.67704051673517\n",
      "test accuracy is: 50.32295948326483\n",
      "train accuracy at epoch 36 is: 49.67704051673517\n",
      "test accuracy is: 50.32295948326483\n",
      "train accuracy at epoch 37 is: 49.67704051673517\n",
      "test accuracy is: 50.32295948326483\n",
      "train accuracy at epoch 38 is: 49.67704051673517\n",
      "test accuracy is: 50.32295948326483\n",
      "train accuracy at epoch 39 is: 49.67704051673517\n",
      "test accuracy is: 50.32295948326483\n",
      "train accuracy at epoch 40 is: 49.67704051673517\n",
      "test accuracy is: 50.32295948326483\n",
      "train accuracy at epoch 41 is: 49.67704051673517\n",
      "test accuracy is: 50.32295948326483\n",
      "train accuracy at epoch 42 is: 49.67704051673517\n",
      "test accuracy is: 50.32295948326483\n",
      "train accuracy at epoch 43 is: 49.67704051673517\n",
      "test accuracy is: 50.32295948326483\n",
      "train accuracy at epoch 44 is: 49.67704051673517\n",
      "test accuracy is: 50.32295948326483\n",
      "train accuracy at epoch 45 is: 49.67704051673517\n",
      "test accuracy is: 50.32295948326483\n",
      "train accuracy at epoch 46 is: 49.67704051673517\n",
      "test accuracy is: 50.32295948326483\n",
      "train accuracy at epoch 47 is: 49.67704051673517\n",
      "test accuracy is: 50.32295948326483\n",
      "train accuracy at epoch 48 is: 49.67704051673517\n",
      "test accuracy is: 50.32295948326483\n",
      "train accuracy at epoch 49 is: 49.67704051673517\n",
      "test accuracy is: 50.32295948326483\n",
      "train accuracy at epoch 50 is: 49.67704051673517\n",
      "test accuracy is: 50.32295948326483\n"
     ]
    }
   ],
   "source": [
    "learnRate = 0.001 \n",
    "np.random.seed(0)\n",
    "model = Network([n_factors, 1, 1])\n",
    "model.train(train_data, train_labels, 51, learnRate, True, test_data, test_labels)\n"
   ]
  },
  {
   "cell_type": "code",
   "execution_count": 8,
   "metadata": {},
   "outputs": [
    {
     "name": "stdout",
     "output_type": "stream",
     "text": [
      "train 846.0\n",
      "test 857.0\n",
      "out 1703.0\n",
      "train acc 0.4967704051673517\n",
      "test acc 0.5032295948326483\n"
     ]
    }
   ],
   "source": [
    "testout = model.get_output().numpy()\n",
    "testout[testout>.5] = 1\n",
    "testout[testout<=.5] = 0\n",
    "print(\"train\", np.sum(train_labels.numpy()))\n",
    "print(\"test\", np.sum(test_labels.numpy()))\n",
    "print(\"out\", np.sum(testout))\n",
    "print(\"train acc\", (1-(np.sum(np.abs(train_labels.numpy()-testout))/len(train_labels.numpy())))\n",
    "     )\n",
    "print(\"test acc\", (1-(np.sum(np.abs(test_labels.numpy()-testout))/len(test_labels.numpy())))\n",
    "     )\n"
   ]
  },
  {
   "cell_type": "code",
   "execution_count": 9,
   "metadata": {},
   "outputs": [
    {
     "data": {
      "image/png": "[encoded data removed]",
      "text/plain": [
       "<Figure size 432x288 with 1 Axes>"
      ]
     },
     "metadata": {
      "needs_background": "light"
     },
     "output_type": "display_data"
    }
   ],
   "source": [
    "# print(model.losses)\n",
    "plt.plot(model.losses, label=\"loss\")\n",
    "plt.plot(model.train_accuracies, label=\"Train\", marker=\".\")\n",
    "plt.plot(model.test_num, model.test_accuracies, label=\"Test\", marker=\".\")\n",
    "plt.xlabel(\"Epoch\")\n",
    "plt.ylabel(\"Network Accuracy (%)\")\n",
    "plt.title(\"Network Accuracy per Epoch\")\n",
    "plt.legend()\n",
    "plt.show()"
   ]
  },
  {
   "cell_type": "code",
   "execution_count": 10,
   "metadata": {},
   "outputs": [
    {
     "data": {
      "text/plain": [
       "[<matplotlib.lines.Line2D at 0x12a2f6e80>]"
      ]
     },
     "execution_count": 10,
     "metadata": {},
     "output_type": "execute_result"
    },
    {
     "data": {
      "image/png": "[encoded data removed]",
      "text/plain": [
       "<Figure size 432x288 with 1 Axes>"
      ]
     },
     "metadata": {
      "needs_background": "light"
     },
     "output_type": "display_data"
    }
   ],
   "source": [
    "plt.plot(model.losses)"
   ]
  },
  {
   "cell_type": "code",
   "execution_count": null,
   "metadata": {},
   "outputs": [],
   "source": []
  }
 ],
 "metadata": {
  "kernelspec": {
   "display_name": "eulerspython",
   "language": "python",
   "name": "eulerspython"
  },
  "language_info": {
   "codemirror_mode": {
    "name": "ipython",
    "version": 3
   },
   "file_extension": ".py",
   "mimetype": "text/x-python",
   "name": "python",
   "nbconvert_exporter": "python",
   "pygments_lexer": "ipython3",
   "version": "3.6.5"
  }
 },
 "nbformat": 4,
 "nbformat_minor": 2
}
