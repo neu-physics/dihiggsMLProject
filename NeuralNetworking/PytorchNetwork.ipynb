{
 "cells": [
  {
   "cell_type": "code",
   "execution_count": 1,
   "metadata": {},
   "outputs": [],
   "source": [
    "import numpy as np\n",
    "from sklearn.model_selection import train_test_split\n",
    "import matplotlib\n",
    "from matplotlib import pyplot as plt\n",
    "import pandas as pd\n",
    "from network import Network\n",
    "import torch\n"
   ]
  },
  {
   "cell_type": "code",
   "execution_count": 2,
   "metadata": {},
   "outputs": [
    {
     "name": "stdout",
     "output_type": "stream",
     "text": [
      "1703 rows of qcd data\n",
      "4605 rows of dihiggs data\n",
      "9\n"
     ]
    }
   ],
   "source": [
    "# Import Dataset\n",
    "qcd_raw = pd.read_csv('../HiggsReconstruction/EventPlotting/qcd_outputDataForLearning.csv')\n",
    "hh_raw = pd.read_csv('../HiggsReconstruction/EventPlotting/dihiggs_outputDataForLearning.csv')\n",
    "\n",
    "qcd_raw.head()\n",
    "print(len(qcd_raw), \"rows of qcd data\")\n",
    "hh_raw.head()\n",
    "print(len(hh_raw), \"rows of dihiggs data\")\n",
    "\n",
    "# Make higgs and qcd sets from raw data\n",
    "# hh_all = hh_raw[['hh_mass', 'h1_mass', 'h2_mass', 'deltaR(h1 jets)', 'deltaR(h2 jets)']]\n",
    "# qcd = qcd_raw[['hh_mass', 'h1_mass', 'h2_mass', 'deltaR(h1 jets)', 'deltaR(h2 jets)']]\n",
    "# hh_all = hh_raw[['hh_mass', 'h1_mass', 'h2_mass', 'deltaR(h1 jets)', 'deltaR(h2 jets)', 'deltaPhi(h1, h2)', 'deltaPhi(h1 jets)', 'deltaPhi(h2 jets)']]\n",
    "# qcd = qcd_raw[['hh_mass', 'h1_mass', 'h2_mass', 'deltaR(h1 jets)', 'deltaR(h2 jets)', 'deltaPhi(h1, h2)', 'deltaPhi(h1 jets)', 'deltaPhi(h2 jets)']]\n",
    "# hh_all = hh_raw[['hh_mass', 'h1_mass', 'h2_mass']]\n",
    "# qcd = qcd_raw[['hh_mass', 'h1_mass', 'h2_mass']]\n",
    "# hh_all = hh_raw[['deltaR(h1 jets)', 'deltaR(h2 jets)']]\n",
    "# qcd = qcd_raw[['deltaR(h1 jets)', 'deltaR(h2 jets)']]\n",
    "\n",
    "\n",
    "hh_all = hh_raw[['hh_mass', 'h1_mass', 'h2_mass', 'deltaR(h1, h2)', 'deltaR(h1 jets)', 'deltaR(h2 jets)', 'deltaPhi(h1, h2)', 'deltaPhi(h1 jets)', 'deltaPhi(h2 jets)']]\n",
    "qcd = qcd_raw[['hh_mass', 'h1_mass', 'h2_mass', 'deltaR(h1, h2)', 'deltaR(h1 jets)', 'deltaR(h2 jets)', 'deltaPhi(h1, h2)', 'deltaPhi(h1 jets)', 'deltaPhi(h2 jets)']]\n",
    "\n",
    "n_factors = np.shape(hh_all)[1]\n",
    "print(n_factors)\n",
    "\n",
    "# change this for testing w dummy variables\n",
    "# n_factors = 2\n",
    "# n_factors +=1\n",
    "# print(n_factors)"
   ]
  },
  {
   "cell_type": "code",
   "execution_count": 3,
   "metadata": {
    "scrolled": true
   },
   "outputs": [
    {
     "data": {
      "image/png": "[encoded data removed]",
      "text/plain": [
       "<Figure size 432x288 with 1 Axes>"
      ]
     },
     "metadata": {
      "needs_background": "light"
     },
     "output_type": "display_data"
    }
   ],
   "source": [
    "plt.hist(hh_raw['h1_mass'], label=\"hh\", density=1, alpha=.5, bins=np.linspace(0, 500, 100))\n",
    "plt.hist(qcd_raw['h1_mass'], label=\"qcd\", density=1, alpha=.5, bins=np.linspace(0, 500, 100))\n",
    "plt.title(\"h1_mass\")\n",
    "plt.legend()\n",
    "plt.show()"
   ]
  },
  {
   "cell_type": "code",
   "execution_count": 4,
   "metadata": {},
   "outputs": [
    {
     "data": {
      "image/png": "[encoded data removed]",
      "text/plain": [
       "<Figure size 432x288 with 1 Axes>"
      ]
     },
     "metadata": {
      "needs_background": "light"
     },
     "output_type": "display_data"
    }
   ],
   "source": [
    "plt.hist(hh_raw['deltaR(h1 jets)'], label=\"hh\", density=1, alpha=.5, bins=np.linspace(0, 5, 100))\n",
    "# plt.hist(qcd_raw['deltaR(h1 jets)'], label=\"qcd\", density=1, alpha=.5, bins=np.linspace(0, 5, 100))\n",
    "plt.title(\"deltaR(h1 jets)\")\n",
    "plt.legend()\n",
    "plt.show()"
   ]
  },
  {
   "cell_type": "code",
   "execution_count": 5,
   "metadata": {},
   "outputs": [
    {
     "name": "stdout",
     "output_type": "stream",
     "text": [
      "[[ 3.59871965e+02  9.95274650e+01  1.23727135e+02  3.76338688e+00\n",
      "   1.83328407e+00  2.89078642e+00 -2.64904100e+00  1.81844530e+00\n",
      "  -1.59140021e+00  1.00000000e+00]\n",
      " [ 3.77248615e+02  1.84710247e+02  7.76233425e+01  3.03919543e+00\n",
      "   2.84355966e+00  1.90858838e+00  2.45651907e+00 -2.15697601e+00\n",
      "   1.66526687e+00  0.00000000e+00]\n",
      " [ 9.83485927e+01  3.04781249e+01  1.78390904e+01  1.33803826e+00\n",
      "   6.92389046e-01  5.39485992e-01 -1.32802245e+00 -1.91958323e-01\n",
      "  -3.29304457e-01  1.00000000e+00]\n",
      " [ 5.42543199e+02  1.17018061e+02  9.01747176e+01  4.84242431e+00\n",
      "   2.65217628e+00  2.29208081e+00 -2.58612612e+00 -2.58378720e+00\n",
      "   2.08678812e+00  1.00000000e+00]]\n",
      "[[1.]\n",
      " [0.]\n",
      " [1.]\n",
      " [1.]]\n"
     ]
    }
   ],
   "source": [
    "hh_all = np.array(hh_all)\n",
    "qcd = np.array(qcd)\n",
    "\n",
    "# add labels to di-higgs\n",
    "hh_all=hh_all[:,:n_factors]\n",
    "# # print(hh[0:3])\n",
    "hh_labels= np.zeros((len(hh_all),1))\n",
    "hh_labels = hh_labels+1\n",
    "#a = hh[:len(hh)]\n",
    "# print(a.shape)\n",
    "# hh_all[:,0] = np.random.rand(np.shape(hh_all)[0])\n",
    "hh_all = np.append(hh_all, hh_labels, axis=1)\n",
    "# hh_all = np.append(hh_all, 1-hh_labels, axis=1)## hh qcd labels \n",
    "\n",
    "\n",
    "# print(hh.shape)\n",
    "# print(hh[0:3])\n",
    "\n",
    "# add labels to qcd\n",
    "qcd=qcd[:,:n_factors]\n",
    "# print(hh[0:3])\n",
    "qcd_labels= np.zeros((len(qcd),1))\n",
    "#a = hh[:len(hh)]\n",
    "# print(a.shape)\n",
    "# qcd hh labels \n",
    "# qcd[:, 0] = -1 * np.random.rand(np.shape(qcd)[0])\n",
    "qcd = np.append(qcd, qcd_labels, axis=1) \n",
    "# qcd = np.append(qcd, 1-qcd_labels, axis=1)# qcd qcd labels\n",
    "\n",
    "\n",
    "# use this for dummy variables\n",
    "# hh_all[:,0] = np.random.rand(np.shape(hh_all)[0])\n",
    "# hh_all[:,1] = np.random.rand(np.shape(hh_all)[0])\n",
    "# qcd[:, 0] = -1 * np.random.rand(np.shape(qcd)[0])\n",
    "# qcd[:, 1] = -1 * np.random.rand(np.shape(qcd)[0])\n",
    "\n",
    "# \n",
    "\n",
    "# print(hh.shape)\n",
    "# print(hh[0:3])\n",
    "# print(qcd[:4])\n",
    "\n",
    "# select a quarter of hh events so that the set is half and half\n",
    "# we shuffle the list first to take a random 1/4. this means we have a different dataset every time\n",
    "# np.random.seed(0)\n",
    "# np.random.shuffle(hh_all) \n",
    "hh = hh_all[0:len(qcd)]\n",
    "# print(hh[:4])\n",
    "# print(qcd[:4])\n",
    "\n",
    "all_data = np.append(hh,qcd, axis=0) \n",
    "all_data[:n_factors,:]\n",
    "\n",
    "np.random.seed(0)\n",
    "for i in range (4): # shuffle 4 times\n",
    "    np.random.shuffle(all_data) \n",
    "print(all_data[:4])\n",
    "all_labels = all_data[:,n_factors:]\n",
    "# for testing model resilience\n",
    "# for i in range(2):\n",
    "#     np.random.shuffle(all_labels)\n",
    "all_data = all_data[:,:n_factors]\n",
    "# print(all_data[:4])\n",
    "print(all_labels[:4])\n",
    "# print(test_data)\n",
    "# print(len(all_data))\n",
    "# print(all_labels)"
   ]
  },
  {
   "cell_type": "code",
   "execution_count": 6,
   "metadata": {},
   "outputs": [
    {
     "data": {
      "image/png": "[encoded data removed]",
      "text/plain": [
       "<Figure size 432x288 with 1 Axes>"
      ]
     },
     "metadata": {
      "needs_background": "light"
     },
     "output_type": "display_data"
    },
    {
     "name": "stdout",
     "output_type": "stream",
     "text": [
      "[[ 0.16406217  0.13777842  0.206275    0.48444846  0.33357623  0.57712665\n",
      "  -0.84339429  0.57886037 -0.5065633 ]\n",
      " [ 0.17198402  0.25569913  0.12941183  0.39122567  0.51740149  0.38103722\n",
      "   0.7820997  -0.68662386  0.53007602]\n",
      " [ 0.04483618  0.04219165  0.02974092  0.17224128  0.12598404  0.10770486\n",
      "  -0.42281209 -0.06110553 -0.10482187]\n",
      " [ 0.24734024  0.1619911   0.15033719  0.62334941  0.48257822  0.45759898\n",
      "  -0.82336363 -0.82248941  0.66425169]]\n"
     ]
    }
   ],
   "source": [
    "plt.hist(all_data[:,0], alpha=.25, bins=np.linspace(0, 5, 100))\n",
    "plt.show()\n",
    "\n",
    "# scale the data by dividing it by the max value of each\n",
    "for i in range(np.shape(all_data)[1]):\n",
    "    all_data[:,i] = np.true_divide(all_data[:,i], np.max(all_data[:,i]))\n",
    "print(all_data[:4])\n",
    "\n",
    "# plt.hist(all_data[:,0], alpha=.25, bins=np.linspace(0, 5, 100))\n",
    "# plt.show()"
   ]
  },
  {
   "cell_type": "code",
   "execution_count": 7,
   "metadata": {},
   "outputs": [
    {
     "name": "stdout",
     "output_type": "stream",
     "text": [
      "torch.Size([1021, 9])\n",
      "torch.Size([1703, 9])\n",
      "torch.Size([1021, 1])\n",
      "torch.Size([1703, 1])\n"
     ]
    }
   ],
   "source": [
    "# TODO: Train-Test split\n",
    "train_data, test_data, train_labels, test_labels = train_test_split(all_data, all_labels, train_size=0.3, test_size=0.5, random_state=42)\n",
    "# print(len(train_data))\n",
    "# print(train_data)\n",
    "# print(train_data.shape)\n",
    "# print(train_labels)\n",
    "train_data = torch.from_numpy(train_data)\n",
    "# train_data = torch.zeros(len(train_labels), 4)\n",
    "test_data = torch.from_numpy(test_data)\n",
    "# test_data = torch.zeros(len(test_labels), 4)\n",
    "train_labels = torch.from_numpy(train_labels)\n",
    "test_labels = torch.from_numpy(test_labels)\n",
    "\n",
    "print(train_data.shape)\n",
    "print(test_data.shape)\n",
    "print(train_labels.shape)\n",
    "print(test_labels.shape)\n",
    "\n",
    "\n"
   ]
  },
  {
   "cell_type": "code",
   "execution_count": 8,
   "metadata": {
    "scrolled": true
   },
   "outputs": [
    {
     "name": "stdout",
     "output_type": "stream",
     "text": [
      "train accuracy at epoch 0 is: 49.75514201762977\n",
      "test accuracy is: 49.67704051673517\n",
      "train accuracy at epoch 300 is: 57.78648383937317\n",
      "test accuracy is: 57.25190839694656\n",
      "train accuracy at epoch 600 is: 59.54946131243879\n",
      "test accuracy is: 56.429829712272465\n",
      "train accuracy at epoch 900 is: 59.353574926542606\n",
      "test accuracy is: 57.13446858485026\n",
      "train accuracy at epoch 1200 is: 60.430950048971596\n",
      "test accuracy is: 57.36934820904287\n",
      "train accuracy at epoch 1500 is: 60.62683643486777\n",
      "test accuracy is: 57.36934820904287\n",
      "train accuracy at epoch 1800 is: 60.920666013712044\n",
      "test accuracy is: 57.95654726952437\n",
      "train accuracy at epoch 2100 is: 61.116552399608224\n",
      "test accuracy is: 57.78038755137992\n",
      "train accuracy at epoch 2400 is: 61.900097943192954\n",
      "test accuracy is: 57.95654726952437\n"
     ]
    }
   ],
   "source": [
    "learnRate = 0.01\n",
    "np.random.seed(234)\n",
    "node_list = [n_factors, 10, 10, 1]\n",
    "old_model = Network(node_list)\n",
    "model = Network(node_list, old_model.w_initial, old_model.b_initial)\n",
    "model.train(train_data, train_labels, 2401, learnRate, 0, True, test_data, test_labels)"
   ]
  },
  {
   "cell_type": "code",
   "execution_count": 9,
   "metadata": {},
   "outputs": [],
   "source": [
    "# testout = model.get_output().numpy()\n",
    "# testout[testout>.5] = 1\n",
    "# testout[test out<=.5] = 0\n",
    "# print(\"train\", np.sum(train_labels.numpy()))\n",
    "# print(\"test\", np.sum(test_labels.numpy()))\n",
    "# print(\"out\", np.sum(testout))\n",
    "# print(\"train acc\", (1-(np.sum(np.abs(train_labels.numpy()-testout))/len(train_labels.numpy())))\n",
    "#      )\n",
    "# print(\"test acc\", (1-(np.sum(np.abs(test_labels.numpy()-testout))/len(test_labels.numpy())))\n",
    "#      )\n"
   ]
  },
  {
   "cell_type": "code",
   "execution_count": 10,
   "metadata": {
    "scrolled": false
   },
   "outputs": [
    {
     "data": {
      "image/png": "[encoded data removed]",
      "text/plain": [
       "<Figure size 432x288 with 1 Axes>"
      ]
     },
     "metadata": {
      "needs_background": "light"
     },
     "output_type": "display_data"
    }
   ],
   "source": [
    "# print(model.losses)\n",
    "plt.plot(model.losses, label=\"loss\")\n",
    "plt.plot(model.train_accuracies, label=\"Train\", alpha=0.5)\n",
    "plt.scatter(model.test_num, model.test_accuracies, label=\"Test\", marker=\".\", color=\"green\")\n",
    "plt.xlabel(\"Epoch\")\n",
    "plt.ylabel(\"Performance(%)\")\n",
    "plt.title(\"Loss and Network Accuracy per Epoch\")\n",
    "plt.legend()\n",
    "plt.ylim(0,100)\n",
    "plt.show()"
   ]
  },
  {
   "cell_type": "code",
   "execution_count": 11,
   "metadata": {},
   "outputs": [
    {
     "data": {
      "image/png": "[encoded data removed]",
      "text/plain": [
       "<Figure size 432x288 with 1 Axes>"
      ]
     },
     "metadata": {
      "needs_background": "light"
     },
     "output_type": "display_data"
    }
   ],
   "source": [
    "plt.plot(model.losses)\n",
    "plt.title(\"Network Loss per Epoch\")\n",
    "plt.xlabel(\"Epoch\")\n",
    "plt.ylabel(\"Loss, (%)\")\n",
    "plt.show()"
   ]
  },
  {
   "cell_type": "code",
   "execution_count": 12,
   "metadata": {},
   "outputs": [
    {
     "data": {
      "image/png": "[encoded data removed]",
      "text/plain": [
       "<Figure size 432x288 with 1 Axes>"
      ]
     },
     "metadata": {
      "needs_background": "light"
     },
     "output_type": "display_data"
    }
   ],
   "source": [
    "plt.plot(model.train_accuracies, label=\"Train\", color=\"orange\")\n",
    "plt.title(\"Network Accuracy per Epoch\")\n",
    "plt.xlabel(\"Epoch\")\n",
    "plt.ylabel(\"Accuracy, (%)\")\n",
    "plt.show()"
   ]
  },
  {
   "cell_type": "code",
   "execution_count": 13,
   "metadata": {},
   "outputs": [
    {
     "data": {
      "text/plain": [
       "[<matplotlib.lines.Line2D at 0x11f1d6400>]"
      ]
     },
     "execution_count": 13,
     "metadata": {},
     "output_type": "execute_result"
    },
    {
     "data": {
      "image/png": "[encoded data removed]",
      "text/plain": [
       "<Figure size 432x288 with 1 Axes>"
      ]
     },
     "metadata": {
      "needs_background": "light"
     },
     "output_type": "display_data"
    }
   ],
   "source": [
    "plt.plot(model.weight_change)"
   ]
  },
  {
   "cell_type": "code",
   "execution_count": 14,
   "metadata": {},
   "outputs": [],
   "source": [
    "# print(len(model.weights))\n",
    "# print(model.weights)"
   ]
  },
  {
   "cell_type": "code",
   "execution_count": 15,
   "metadata": {},
   "outputs": [],
   "source": [
    "# print(model.biases)"
   ]
  },
  {
   "cell_type": "code",
   "execution_count": 16,
   "metadata": {},
   "outputs": [
    {
     "name": "stdout",
     "output_type": "stream",
     "text": [
      "[tensor([[9.4479e-01, 4.8840e-01, 4.8307e-01,  ..., 9.1901e-01, 1.8400e-01,\n",
      "         7.6992e-01],\n",
      "        [9.6374e-01, 2.6613e-01, 4.1790e-01,  ..., 9.5782e-01, 3.3889e-01,\n",
      "         8.1505e-01],\n",
      "        [9.3595e-01, 6.8972e-01, 8.5957e-01,  ..., 4.0700e-01, 7.0189e-04,\n",
      "         4.1389e-01],\n",
      "        ...,\n",
      "        [9.5313e-01, 3.7560e-01, 5.1991e-01,  ..., 9.1221e-01, 1.2031e-01,\n",
      "         8.7092e-01],\n",
      "        [9.2155e-01, 5.3156e-02, 8.6659e-01,  ..., 9.7504e-01, 7.5402e-01,\n",
      "         6.3818e-01],\n",
      "        [9.2480e-01, 1.4846e-01, 8.7629e-01,  ..., 9.4872e-01, 7.8493e-01,\n",
      "         8.1642e-01]]), tensor([[0.6203, 0.4871, 0.9465,  ..., 0.2115, 0.4280, 0.1687],\n",
      "        [0.5810, 0.4040, 0.9488,  ..., 0.1901, 0.4465, 0.2182],\n",
      "        [0.6249, 0.6620, 0.9079,  ..., 0.4508, 0.4390, 0.1781],\n",
      "        ...,\n",
      "        [0.6519, 0.4480, 0.9486,  ..., 0.2684, 0.4017, 0.2345],\n",
      "        [0.6557, 0.5798, 0.8964,  ..., 0.5482, 0.3122, 0.2079],\n",
      "        [0.6047, 0.6149, 0.9017,  ..., 0.4919, 0.2872, 0.1456]]), tensor([[0.5758],\n",
      "        [0.5313],\n",
      "        [0.4475],\n",
      "        ...,\n",
      "        [0.5148],\n",
      "        [0.5198],\n",
      "        [0.5969]])]\n"
     ]
    }
   ],
   "source": [
    "print(model.layers)"
   ]
  },
  {
   "cell_type": "code",
   "execution_count": 17,
   "metadata": {},
   "outputs": [],
   "source": [
    "# out_labels = model.get_output()\n",
    "# a = out_labels[:,0]\n",
    "# # b = out_labels[:,1]\n",
    "# c = (a+b)\n",
    "# print(c)\n",
    "# print(0.7336+0.1798)\n",
    "# print(c.shape)"
   ]
  },
  {
   "cell_type": "code",
   "execution_count": 18,
   "metadata": {},
   "outputs": [
    {
     "name": "stdout",
     "output_type": "stream",
     "text": [
      "[tensor([[-0.9812, -1.7795,  1.8011, -2.6496, -1.3348,  0.2383, -0.7175, -0.5074,\n",
      "         -0.9752,  1.0580],\n",
      "        [ 0.0059, -1.6222, -1.2841, -1.7385, -2.0238,  0.1783, -0.1273, -1.0423,\n",
      "         -0.4526,  1.1495],\n",
      "        [-0.2028, -0.7130, -0.7375, -1.6042, -1.6363, -0.5073,  1.1631, -0.4194,\n",
      "         -2.4313,  1.2671],\n",
      "        [ 1.4844, -2.3551,  0.1780, -3.0544, -0.4514,  3.1354, -0.1938,  2.1798,\n",
      "         -1.9820,  0.2544],\n",
      "        [ 1.3656, -2.2287, -0.2918, -2.8468,  0.0261,  2.5903, -0.3937,  1.5005,\n",
      "         -2.9140, -0.9873],\n",
      "        [ 1.6599, -0.1298, -0.7704, -1.3597, -1.1628,  0.5424,  0.8424,  0.1902,\n",
      "         -0.9957, -1.3164],\n",
      "        [-0.8016,  0.4992,  1.4358,  0.5182, -0.4307,  0.4483, -1.8427, -0.9947,\n",
      "         -0.3701, -0.5937],\n",
      "        [-0.4300, -1.6052, -0.4772, -0.3806,  0.5354,  0.7376, -0.6333,  1.6585,\n",
      "          2.3753, -1.0807],\n",
      "        [ 0.5914, -0.7164,  0.2404,  0.1623,  0.2835, -1.0467,  0.0542,  0.6692,\n",
      "          2.1667,  1.9313]]), tensor([[ 0.9259,  0.4431,  0.5546,  0.6097, -0.8674,  2.0492,  0.4356, -1.0433,\n",
      "          2.1155,  0.0229],\n",
      "        [ 0.2602,  0.2854, -0.4772, -0.0606,  1.7463, -2.5335,  0.5443, -0.2955,\n",
      "         -0.2367, -1.2706],\n",
      "        [-0.0614,  1.9320,  0.1596, -1.1326,  0.6172,  1.1748, -0.1701,  2.4625,\n",
      "         -0.9772, -0.9045],\n",
      "        [-0.6736,  1.7633, -0.4948,  1.0036, -0.3995, -0.0407,  0.5490, -0.7992,\n",
      "         -0.5718, -0.6557],\n",
      "        [ 0.6480, -0.0317,  0.9571, -0.9786,  1.2728, -1.8614, -0.4291, -0.2959,\n",
      "          1.0080, -2.0034],\n",
      "        [ 0.6174, -1.1102,  1.4236,  0.1388,  0.2941,  0.4225, -0.8482, -0.1025,\n",
      "         -0.2476,  0.8116],\n",
      "        [-1.5767,  0.2635,  1.3491, -0.2440, -0.2171,  0.5287, -0.5601, -1.4035,\n",
      "          0.4313, -1.1378],\n",
      "        [ 0.3077, -0.0571,  0.0139,  0.5197, -1.3964,  1.8228,  1.8240,  0.5291,\n",
      "         -1.3867,  1.7409],\n",
      "        [-1.1594,  0.1414, -0.2559,  0.3715, -0.5439, -0.6183,  1.0780, -0.9560,\n",
      "          0.2004, -1.8497],\n",
      "        [ 0.7134, -0.7266, -0.2020,  1.6729,  0.1354, -1.3306,  1.2476,  0.6802,\n",
      "         -0.9362,  0.3850]]), tensor([[ 0.2156],\n",
      "        [ 1.5014],\n",
      "        [-0.2464],\n",
      "        [ 0.1993],\n",
      "        [-0.3235],\n",
      "        [-0.4183],\n",
      "        [ 1.0491],\n",
      "        [-1.4104],\n",
      "        [-1.0317],\n",
      "        [-1.9321]])]\n"
     ]
    }
   ],
   "source": [
    "print(model.weights)"
   ]
  },
  {
   "cell_type": "code",
   "execution_count": 19,
   "metadata": {},
   "outputs": [
    {
     "name": "stdout",
     "output_type": "stream",
     "text": [
      "tensor([0.4976], dtype=torch.float64)\n"
     ]
    }
   ],
   "source": [
    "print(1-sum(train_labels)/len(train_labels))"
   ]
  },
  {
   "cell_type": "code",
   "execution_count": 20,
   "metadata": {},
   "outputs": [
    {
     "name": "stdout",
     "output_type": "stream",
     "text": [
      "tensor([[ 0.1396,  0.0528,  0.1558,  ..., -0.8773, -0.1657, -0.4379],\n",
      "        [ 0.1912,  0.0902,  0.2237,  ..., -0.9146,  0.0933, -0.1137],\n",
      "        [ 0.1706,  0.2577,  0.3008,  ...,  0.7491, -0.9550, -0.9351],\n",
      "        ...,\n",
      "        [ 0.1982,  0.1504,  0.1658,  ..., -0.8648, -0.3386, -0.2507],\n",
      "        [ 0.1399,  0.1969,  0.1645,  ...,  0.9583,  0.8981,  0.6306],\n",
      "        [ 0.1281,  0.1267,  0.1964,  ...,  0.8097,  0.5174,  0.7946]],\n",
      "       dtype=torch.float64)\n"
     ]
    }
   ],
   "source": [
    "print(train_data)"
   ]
  },
  {
   "cell_type": "code",
   "execution_count": 21,
   "metadata": {},
   "outputs": [
    {
     "name": "stdout",
     "output_type": "stream",
     "text": [
      "[tensor([[1.3431, 1.3431, 1.3431, 1.3431, 1.3431, 1.3431, 1.3431, 1.3431, 1.3431,\n",
      "         1.3431]]), tensor([[-0.4454, -0.4454, -0.4454, -0.4454, -0.4454, -0.4454, -0.4454, -0.4454,\n",
      "         -0.4454, -0.4454]]), tensor([[0.1743]])]\n"
     ]
    }
   ],
   "source": [
    "print(model.biases)"
   ]
  },
  {
   "cell_type": "code",
   "execution_count": 22,
   "metadata": {},
   "outputs": [
    {
     "name": "stdout",
     "output_type": "stream",
     "text": [
      "[[0.59088904]\n",
      " [0.5731504 ]\n",
      " [0.34491187]\n",
      " ...\n",
      " [0.6298079 ]\n",
      " [0.48957083]\n",
      " [0.57034177]]\n",
      "[[1.]\n",
      " [1.]\n",
      " [0.]\n",
      " ...\n",
      " [1.]\n",
      " [0.]\n",
      " [1.]]\n",
      "tensor([0.5024], dtype=torch.float64)\n",
      "tensor([0.8394], dtype=torch.float64)\n",
      "ASDF [0.4903112]\n"
     ]
    }
   ],
   "source": [
    "\n",
    "pred = model.pred(test_data)[-1].numpy()\n",
    "actual = test_labels.numpy()\n",
    "print(pred)\n",
    "pred[pred>.5] = 1\n",
    "pred[pred<.51] = 0\n",
    "print(pred)\n",
    "\n",
    "print(sum(train_labels)/len(train_labels))\n",
    "print(sum(test_labels)/len(train_labels))\n",
    "\n",
    "print(\"ASDF\", sum(pred)/len(pred))"
   ]
  },
  {
   "cell_type": "code",
   "execution_count": null,
   "metadata": {},
   "outputs": [],
   "source": []
  },
  {
   "cell_type": "code",
   "execution_count": null,
   "metadata": {},
   "outputs": [],
   "source": []
  },
  {
   "cell_type": "markdown",
   "metadata": {},
   "source": []
  }
 ],
 "metadata": {
  "kernelspec": {
   "display_name": "eulerspython",
   "language": "python",
   "name": "eulerspython"
  },
  "language_info": {
   "codemirror_mode": {
    "name": "ipython",
    "version": 3
   },
   "file_extension": ".py",
   "mimetype": "text/x-python",
   "name": "python",
   "nbconvert_exporter": "python",
   "pygments_lexer": "ipython3",
   "version": "3.6.5"
  }
 },
 "nbformat": 4,
 "nbformat_minor": 2
}
