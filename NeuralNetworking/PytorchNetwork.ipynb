{
 "cells": [
  {
   "cell_type": "code",
   "execution_count": 1,
   "metadata": {},
   "outputs": [],
   "source": [
    "import numpy as np\n",
    "from sklearn.model_selection import train_test_split\n",
    "import matplotlib\n",
    "from matplotlib import pyplot as plt\n",
    "import pandas as pd\n",
    "from network import Network\n",
    "import torch\n"
   ]
  },
  {
   "cell_type": "code",
   "execution_count": 2,
   "metadata": {},
   "outputs": [
    {
     "name": "stdout",
     "output_type": "stream",
     "text": [
      "1703 rows of qcd data\n",
      "4605 rows of dihiggs data\n"
     ]
    }
   ],
   "source": [
    "# Import Dataset\n",
    "qcd_raw = pd.read_csv('../HiggsReconstruction/EventPlotting/qcd_outputDataForLearning.csv')\n",
    "hh_raw = pd.read_csv('../HiggsReconstruction/EventPlotting/dihiggs_outputDataForLearning.csv')\n",
    "\n",
    "qcd_raw.head()\n",
    "print(len(qcd_raw), \"rows of qcd data\")\n",
    "hh_raw.head()\n",
    "print(len(hh_raw), \"rows of dihiggs data\")\n",
    "\n",
    "# Make higgs and qcd sets from raw data\n",
    "hh_all = hh_raw[['h1_mass', 'h2_mass', 'deltaR(h1 jets)', 'deltaR(h2 jets)']]\n",
    "qcd = qcd_raw[['h1_mass', 'h2_mass', 'deltaR(h1 jets)', 'deltaR(h2 jets)']]"
   ]
  },
  {
   "cell_type": "code",
   "execution_count": 3,
   "metadata": {},
   "outputs": [
    {
     "data": {
      "image/png": "[encoded data removed]",
      "text/plain": [
       "<Figure size 432x288 with 1 Axes>"
      ]
     },
     "metadata": {
      "needs_background": "light"
     },
     "output_type": "display_data"
    }
   ],
   "source": [
    "plt.hist(hh_raw['h1_mass'], label=\"hh\", density=1, alpha=.5, bins=np.linspace(0, 500, 100))\n",
    "plt.hist(qcd_raw['h1_mass'], label=\"qcd\", density=1, alpha=.5, bins=np.linspace(0, 500, 100))\n",
    "plt.title(\"h1_mass\")\n",
    "plt.legend()\n",
    "plt.show()"
   ]
  },
  {
   "cell_type": "code",
   "execution_count": 4,
   "metadata": {},
   "outputs": [
    {
     "name": "stdout",
     "output_type": "stream",
     "text": [
      "[[ 99.52746498 123.72713519   1.83328407   2.89078642   1.        ]\n",
      " [184.71024749  77.62334247   2.84355966   1.90858838   0.        ]\n",
      " [ 30.47812488  17.83909044   0.69238905   0.53948599   1.        ]\n",
      " [117.01806102  90.17471759   2.65217628   2.29208081   1.        ]]\n",
      "[[1.]\n",
      " [0.]\n",
      " [1.]\n",
      " [1.]]\n"
     ]
    }
   ],
   "source": [
    "hh_all = np.array(hh_all)\n",
    "qcd = np.array(qcd)\n",
    "\n",
    "# add labels to di-higgs\n",
    "hh_all=hh_all[:,:4]\n",
    "# print(hh[0:3])\n",
    "hh_labels= np.zeros((len(hh_all),1))\n",
    "hh_labels = hh_labels+1\n",
    "#a = hh[:len(hh)]\n",
    "# print(a.shape)\n",
    "hh_all = np.append(hh_all, hh_labels, axis=1)\n",
    "# print(hh.shape)\n",
    "# print(hh[0:3])\n",
    "\n",
    "# add labels to qcd\n",
    "qcd=qcd[:,:4]\n",
    "# print(hh[0:3])\n",
    "qcd_labels= np.zeros((len(qcd),1))\n",
    "#a = hh[:len(hh)]\n",
    "# print(a.shape)\n",
    "qcd = np.append(qcd, qcd_labels, axis=1)\n",
    "# print(hh.shape)\n",
    "# print(hh[0:3])\n",
    "# print(qcd[:4])\n",
    "\n",
    "# select a quarter of hh events so that the set is half and half\n",
    "# we shuffle the list first to take a random 1/4. this means we have a different dataset every time\n",
    "# np.random.seed(0)\n",
    "# np.random.shuffle(hh_all) \n",
    "hh = hh_all[0:len(qcd)]\n",
    "# print(hh[:4])\n",
    "# print(qcd[:4])\n",
    "\n",
    "all_data = np.append(hh,qcd, axis=0) \n",
    "all_data[:4,:]\n",
    "\n",
    "np.random.seed(0)\n",
    "for i in range (4): # shuffle 4 times\n",
    "    np.random.shuffle(all_data) \n",
    "print(all_data[:4])\n",
    "all_labels = all_data[:,4:]\n",
    "all_data = all_data[:,:4]\n",
    "# print(all_data[:4])\n",
    "print(all_labels[:4])\n",
    "# print(test_data)\n",
    "# print(len(all_data))\n",
    "# print(all_labels)"
   ]
  },
  {
   "cell_type": "code",
   "execution_count": 5,
   "metadata": {},
   "outputs": [],
   "source": [
    "# scale the data by dividing it by the max value of each\n",
    "all_data[:,0] = np.true_divide(all_data[:,0], np.max(all_data[:,0]))\n",
    "all_data[:,1] = np.true_divide(all_data[:,0], np.max(all_data[:,0]))\n",
    "all_data[:,2] = np.true_divide(all_data[:,0], np.max(all_data[:,0]))\n",
    "all_data[:,3] = np.true_divide(all_data[:,0], np.max(all_data[:,0]))"
   ]
  },
  {
   "cell_type": "code",
   "execution_count": 6,
   "metadata": {},
   "outputs": [
    {
     "name": "stdout",
     "output_type": "stream",
     "text": [
      "torch.Size([1703, 4])\n",
      "torch.Size([1703, 4])\n",
      "torch.Size([1703, 1])\n",
      "torch.Size([1703, 1])\n"
     ]
    }
   ],
   "source": [
    "# TODO: Train-Test split\n",
    "train_data, test_data, train_labels, test_labels = train_test_split(all_data, all_labels, train_size=0.5, test_size=0.5, random_state=42)\n",
    "# print(len(train_data))\n",
    "# print(train_data)\n",
    "# print(train_data.shape)\n",
    "# print(train_labels)\n",
    "train_data = torch.from_numpy(train_data)\n",
    "test_data = torch.from_numpy(test_data)\n",
    "train_labels = torch.from_numpy(train_labels)\n",
    "test_labels = torch.from_numpy(test_labels)\n",
    "\n",
    "print(train_data.shape)\n",
    "print(test_data.shape)\n",
    "print(train_labels.shape)\n",
    "print(test_labels.shape)\n"
   ]
  },
  {
   "cell_type": "code",
   "execution_count": 7,
   "metadata": {},
   "outputs": [
    {
     "name": "stdout",
     "output_type": "stream",
     "text": [
      "train accuracy is: tensor(50.5135)\n",
      "weight shapes torch.Size([4, 3])\n",
      "INDEX: 0\n",
      "train accuracy is: tensor(50.0021)\n",
      "weight shapes torch.Size([4, 3])\n",
      "INDEX: 50\n",
      "train accuracy is: tensor(50.0021)\n",
      "weight shapes torch.Size([4, 3])\n",
      "INDEX: 100\n",
      "train accuracy is: tensor(50.0021)\n",
      "weight shapes torch.Size([4, 3])\n",
      "INDEX: 150\n",
      "train accuracy is: tensor(50.0021)\n",
      "weight shapes torch.Size([4, 3])\n",
      "INDEX: 200\n",
      "train accuracy is: tensor(50.0022)\n",
      "weight shapes torch.Size([4, 3])\n",
      "INDEX: 250\n",
      "train accuracy is: tensor(50.0022)\n",
      "weight shapes torch.Size([4, 3])\n",
      "INDEX: 300\n",
      "train accuracy is: tensor(50.0022)\n",
      "weight shapes torch.Size([4, 3])\n",
      "INDEX: 350\n",
      "train accuracy is: tensor(50.0022)\n",
      "weight shapes torch.Size([4, 3])\n",
      "INDEX: 400\n",
      "train accuracy is: tensor(49.9966)\n",
      "weight shapes torch.Size([4, 3])\n",
      "INDEX: 450\n",
      "train accuracy is: tensor(50.0019)\n",
      "weight shapes torch.Size([4, 3])\n",
      "INDEX: 500\n",
      "train accuracy is: tensor(50.0022)\n",
      "weight shapes torch.Size([4, 3])\n",
      "INDEX: 550\n",
      "train accuracy is: tensor(50.0020)\n",
      "weight shapes torch.Size([4, 3])\n",
      "INDEX: 600\n",
      "train accuracy is: tensor(49.9702)\n",
      "weight shapes torch.Size([4, 3])\n",
      "INDEX: 650\n",
      "train accuracy is: tensor(50.0019)\n",
      "weight shapes torch.Size([4, 3])\n",
      "INDEX: 700\n",
      "train accuracy is: tensor(50.0015)\n",
      "weight shapes torch.Size([4, 3])\n",
      "INDEX: 750\n",
      "train accuracy is: tensor(49.9784)\n",
      "weight shapes torch.Size([4, 3])\n",
      "INDEX: 800\n",
      "train accuracy is: tensor(50.0013)\n",
      "weight shapes torch.Size([4, 3])\n",
      "INDEX: 850\n",
      "train accuracy is: tensor(49.9970)\n",
      "weight shapes torch.Size([4, 3])\n",
      "INDEX: 900\n",
      "train accuracy is: tensor(49.9977)\n",
      "weight shapes torch.Size([4, 3])\n",
      "INDEX: 950\n",
      "train accuracy is: tensor(49.9996)\n",
      "weight shapes torch.Size([4, 3])\n",
      "INDEX: 1000\n",
      "train accuracy is: tensor(49.9869)\n",
      "weight shapes torch.Size([4, 3])\n",
      "INDEX: 1050\n",
      "train accuracy is: tensor(49.9994)\n",
      "weight shapes torch.Size([4, 3])\n",
      "INDEX: 1100\n",
      "train accuracy is: tensor(49.9844)\n",
      "weight shapes torch.Size([4, 3])\n",
      "INDEX: 1150\n",
      "train accuracy is: tensor(49.9985)\n",
      "weight shapes torch.Size([4, 3])\n",
      "INDEX: 1200\n"
     ]
    }
   ],
   "source": [
    "learnRate = 0.01 \n",
    "np.random.seed(0)\n",
    "model = Network([4, 3, 1])\n",
    "model.train(train_data, train_labels, 1201, learnRate, False, test_data, test_labels)\n"
   ]
  },
  {
   "cell_type": "code",
   "execution_count": 8,
   "metadata": {},
   "outputs": [
    {
     "name": "stdout",
     "output_type": "stream",
     "text": [
      "[tensor(50.5135), tensor(50.1395), tensor(50.0333), tensor(50.0017), tensor(50.0038), tensor(50.0018), tensor(50.0022), tensor(50.0021), tensor(50.0021), tensor(50.0021), tensor(50.0021), tensor(50.0021), tensor(50.0021), tensor(50.0021), tensor(50.0021), tensor(50.0021), tensor(50.0021), tensor(50.0021), tensor(50.0021), tensor(50.0021), tensor(50.0021), tensor(50.0021), tensor(50.0021), tensor(50.0021), tensor(50.0021), tensor(50.0021), tensor(50.0021), tensor(50.0021), tensor(50.0021), tensor(50.0021), tensor(50.0021), tensor(50.0021), tensor(50.0021), tensor(50.0021), tensor(50.0021), tensor(50.0021), tensor(50.0021), tensor(50.0021), tensor(50.0021), tensor(50.0021), tensor(50.0021), tensor(50.0021), tensor(50.0021), tensor(50.0021), tensor(50.0021), tensor(50.0021), tensor(50.0021), tensor(50.0021), tensor(50.0021), tensor(50.0021), tensor(50.0021), tensor(50.0021), tensor(50.0021), tensor(50.0021), tensor(50.0021), tensor(50.0021), tensor(50.0021), tensor(50.0021), tensor(50.0021), tensor(50.0021), tensor(50.0021), tensor(50.0021), tensor(50.0021), tensor(50.0021), tensor(50.0021), tensor(50.0021), tensor(50.0021), tensor(50.0021), tensor(50.0021), tensor(50.0021), tensor(50.0021), tensor(50.0021), tensor(50.0021), tensor(50.0021), tensor(50.0021), tensor(50.0021), tensor(50.0021), tensor(50.0021), tensor(50.0021), tensor(50.0021), tensor(50.0021), tensor(50.0021), tensor(50.0021), tensor(50.0021), tensor(50.0021), tensor(50.0021), tensor(50.0021), tensor(50.0021), tensor(50.0021), tensor(50.0021), tensor(50.0021), tensor(50.0021), tensor(50.0021), tensor(50.0021), tensor(50.0021), tensor(50.0021), tensor(50.0021), tensor(50.0021), tensor(50.0021), tensor(50.0021), tensor(50.0021), tensor(50.0021), tensor(50.0021), tensor(50.0021), tensor(50.0021), tensor(50.0021), tensor(50.0021), tensor(50.0021), tensor(50.0021), tensor(50.0021), tensor(50.0021), tensor(50.0021), tensor(50.0021), tensor(50.0021), tensor(50.0021), tensor(50.0021), tensor(50.0021), tensor(50.0021), tensor(50.0021), tensor(50.0021), tensor(50.0021), tensor(50.0021), tensor(50.0021), tensor(50.0021), tensor(50.0021), tensor(50.0021), tensor(50.0021), tensor(50.0021), tensor(50.0021), tensor(50.0021), tensor(50.0021), tensor(50.0021), tensor(50.0021), tensor(50.0021), tensor(50.0021), tensor(50.0021), tensor(50.0021), tensor(50.0021), tensor(50.0021), tensor(50.0021), tensor(50.0021), tensor(50.0021), tensor(50.0021), tensor(50.0021), tensor(50.0021), tensor(50.0021), tensor(50.0021), tensor(50.0021), tensor(50.0021), tensor(50.0021), tensor(50.0021), tensor(50.0021), tensor(50.0021), tensor(50.0021), tensor(50.0021), tensor(50.0021), tensor(50.0021), tensor(50.0021), tensor(50.0021), tensor(50.0021), tensor(50.0021), tensor(50.0021), tensor(50.0021), tensor(50.0021), tensor(50.0021), tensor(50.0021), tensor(50.0021), tensor(50.0021), tensor(50.0021), tensor(50.0021), tensor(50.0021), tensor(50.0021), tensor(50.0021), tensor(50.0021), tensor(50.0021), tensor(50.0021), tensor(50.0021), tensor(50.0021), tensor(50.0021), tensor(50.0021), tensor(50.0021), tensor(50.0021), tensor(50.0021), tensor(50.0021), tensor(50.0021), tensor(50.0021), tensor(50.0021), tensor(50.0021), tensor(50.0021), tensor(50.0021), tensor(50.0021), tensor(50.0021), tensor(50.0021), tensor(50.0021), tensor(50.0021), tensor(50.0021), tensor(50.0021), tensor(50.0021), tensor(50.0021), tensor(50.0021), tensor(50.0021), tensor(50.0021), tensor(50.0021), tensor(50.0021), tensor(50.0021), tensor(50.0021), tensor(50.0021), tensor(50.0021), tensor(50.0021), tensor(50.0021), tensor(50.0021), tensor(50.0021), tensor(50.0021), tensor(50.0021), tensor(50.0021), tensor(50.0021), tensor(50.0021), tensor(50.0022), tensor(50.0022), tensor(50.0022), tensor(50.0022), tensor(50.0022), tensor(50.0022), tensor(50.0022), tensor(50.0022), tensor(50.0022), tensor(50.0022), tensor(50.0022), tensor(50.0022), tensor(50.0022), tensor(50.0022), tensor(50.0022), tensor(50.0022), tensor(50.0022), tensor(50.0022), tensor(50.0022), tensor(50.0022), tensor(50.0022), tensor(50.0022), tensor(50.0022), tensor(50.0022), tensor(50.0022), tensor(50.0022), tensor(50.0022), tensor(50.0022), tensor(50.0022), tensor(50.0022), tensor(50.0022), tensor(50.0022), tensor(50.0022), tensor(50.0022), tensor(50.0022), tensor(50.0022), tensor(50.0022), tensor(50.0022), tensor(50.0022), tensor(50.0022), tensor(50.0022), tensor(50.0022), tensor(50.0022), tensor(50.0022), tensor(50.0022), tensor(50.0022), tensor(50.0022), tensor(50.0022), tensor(50.0022), tensor(50.0022), tensor(50.0022), tensor(50.0022), tensor(50.0022), tensor(50.0022), tensor(50.0022), tensor(50.0022), tensor(50.0022), tensor(50.0022), tensor(50.0022), tensor(50.0022), tensor(50.0022), tensor(50.0022), tensor(50.0022), tensor(50.0022), tensor(50.0022), tensor(50.0022), tensor(50.0022), tensor(50.0022), tensor(50.0022), tensor(50.0022), tensor(50.0022), tensor(50.0022), tensor(50.0022), tensor(50.0022), tensor(50.0022), tensor(50.0022), tensor(50.0022), tensor(50.0022), tensor(50.0022), tensor(50.0022), tensor(50.0022), tensor(50.0022), tensor(50.0022), tensor(50.0022), tensor(50.0022), tensor(50.0022), tensor(50.0022), tensor(50.0022), tensor(50.0022), tensor(50.0022), tensor(50.0022), tensor(50.0022), tensor(50.0022), tensor(50.0022), tensor(50.0022), tensor(50.0022), tensor(50.0022), tensor(50.0022), tensor(50.0022), tensor(50.0022), tensor(50.0022), tensor(50.0022), tensor(50.0022), tensor(50.0022), tensor(50.0022), tensor(50.0022), tensor(50.0022), tensor(50.0022), tensor(50.0022), tensor(50.0022), tensor(50.0022), tensor(50.0022), tensor(50.0022), tensor(50.0022), tensor(50.0022), tensor(50.0022), tensor(50.0022), tensor(50.0022), tensor(50.0022), tensor(50.0022), tensor(50.0022), tensor(50.0022), tensor(50.0022), tensor(50.0022), tensor(50.0022), tensor(50.0022), tensor(50.0022), tensor(50.0022), tensor(50.0022), tensor(50.0022), tensor(50.0022), tensor(50.0022), tensor(50.0022), tensor(50.0022), tensor(50.0022), tensor(50.0022), tensor(50.0022), tensor(50.0022), tensor(50.0022), tensor(50.0022), tensor(50.0022), tensor(50.0022), tensor(50.0022), tensor(50.0022), tensor(50.0022), tensor(50.0022), tensor(50.0022), tensor(50.0022), tensor(50.0022), tensor(50.0022), tensor(50.0022), tensor(50.0022), tensor(50.0022), tensor(50.0022), tensor(50.0022), tensor(50.0022), tensor(50.0022), tensor(50.0022), tensor(50.0022), tensor(50.0022), tensor(50.0022), tensor(50.0022), tensor(50.0022), tensor(50.0022), tensor(50.0022), tensor(50.0022), tensor(50.0022), tensor(50.0022), tensor(50.0022), tensor(50.0022), tensor(50.0022), tensor(50.0022), tensor(50.0022), tensor(50.0022), tensor(50.0022), tensor(50.0022), tensor(50.0022), tensor(50.0022), tensor(50.0022), tensor(50.0022), tensor(50.0022), tensor(50.0022), tensor(50.0022), tensor(50.0022), tensor(50.0022), tensor(50.0022), tensor(50.0022), tensor(50.0022), tensor(50.0022), tensor(50.0022), tensor(50.0022), tensor(50.0022), tensor(50.0022), tensor(50.0022), tensor(50.0022), tensor(50.0022), tensor(50.0022), tensor(50.0022), tensor(50.0022), tensor(50.0022), tensor(50.0022), tensor(50.0022), tensor(50.0022), tensor(50.0022), tensor(50.0022), tensor(50.0021), tensor(50.0023), tensor(50.0021), tensor(50.0023), tensor(50.0021), tensor(50.0023), tensor(50.0020), tensor(50.0023), tensor(50.0020), tensor(50.0024), tensor(50.0019), tensor(50.0025), tensor(50.0018), tensor(50.0026), tensor(50.0017), tensor(50.0028), tensor(50.0015), tensor(50.0030), tensor(50.0012), tensor(50.0033), tensor(50.0008), tensor(50.0038), tensor(50.0002), tensor(50.0044), tensor(49.9994), tensor(50.0054), tensor(49.9983), tensor(50.0067), tensor(49.9966), tensor(50.0085), tensor(49.9941), tensor(50.0110), tensor(49.9906), tensor(50.0143), tensor(49.9855), tensor(50.0186), tensor(49.9786), tensor(50.0235), tensor(49.9700), tensor(50.0281), tensor(49.9612), tensor(50.0312), tensor(49.9554), tensor(50.0318), tensor(49.9554), tensor(50.0298), tensor(49.9612), tensor(50.0261), tensor(49.9701), tensor(50.0216), tensor(49.9790), tensor(50.0171), tensor(49.9861), tensor(50.0132), tensor(49.9912), tensor(50.0101), tensor(49.9947), tensor(50.0079), tensor(49.9970), tensor(50.0062), tensor(49.9985), tensor(50.0051), tensor(49.9996), tensor(50.0043), tensor(50.0003), tensor(50.0037), tensor(50.0008), tensor(50.0033), tensor(50.0012), tensor(50.0030), tensor(50.0014), tensor(50.0028), tensor(50.0016), tensor(50.0027), tensor(50.0017), tensor(50.0025), tensor(50.0018), tensor(50.0024), tensor(50.0019), tensor(50.0024), tensor(50.0020), tensor(50.0023), tensor(50.0020), tensor(50.0023), tensor(50.0020), tensor(50.0023), tensor(50.0021), tensor(50.0023), tensor(50.0021), tensor(50.0023), tensor(50.0021), tensor(50.0022), tensor(50.0021), tensor(50.0022), tensor(50.0021), tensor(50.0022), tensor(50.0021), tensor(50.0022), tensor(50.0021), tensor(50.0022), tensor(50.0021), tensor(50.0022), tensor(50.0021), tensor(50.0022), tensor(50.0021), tensor(50.0022), tensor(50.0022), tensor(50.0022), tensor(50.0022), tensor(50.0022), tensor(50.0021), tensor(50.0022), tensor(50.0022), tensor(50.0022), tensor(50.0022), tensor(50.0022), tensor(50.0022), tensor(50.0022), tensor(50.0022), tensor(50.0022), tensor(50.0022), tensor(50.0022), tensor(50.0022), tensor(50.0022), tensor(50.0022), tensor(50.0022), tensor(50.0022), tensor(50.0022), tensor(50.0022), tensor(50.0022), tensor(50.0022), tensor(50.0022), tensor(50.0022), tensor(50.0022), tensor(50.0022), tensor(50.0022), tensor(50.0022), tensor(50.0022), tensor(50.0022), tensor(50.0022), tensor(50.0022), tensor(50.0022), tensor(50.0022), tensor(50.0022), tensor(50.0022), tensor(50.0022), tensor(50.0022), tensor(50.0022), tensor(50.0022), tensor(50.0022), tensor(50.0022), tensor(50.0022), tensor(50.0022), tensor(50.0022), tensor(50.0021), tensor(50.0022), tensor(50.0022), tensor(50.0022), tensor(50.0021), tensor(50.0022), tensor(50.0021), tensor(50.0023), tensor(50.0021), tensor(50.0022), tensor(50.0021), tensor(50.0023), tensor(50.0021), tensor(50.0023), tensor(50.0021), tensor(50.0023), tensor(50.0021), tensor(50.0023), tensor(50.0021), tensor(50.0023), tensor(50.0020), tensor(50.0023), tensor(50.0020), tensor(50.0024), tensor(50.0020), tensor(50.0024), tensor(50.0019), tensor(50.0025), tensor(50.0019), tensor(50.0025), tensor(50.0018), tensor(50.0026), tensor(50.0017), tensor(50.0027), tensor(50.0016), tensor(50.0028), tensor(50.0015), tensor(50.0029), tensor(50.0013), tensor(50.0031), tensor(50.0011), tensor(50.0034), tensor(50.0008), tensor(50.0037), tensor(50.0005), tensor(50.0041), tensor(50.0000), tensor(50.0046), tensor(49.9994), tensor(50.0053), tensor(49.9986), tensor(50.0061), tensor(49.9975), tensor(50.0072), tensor(49.9961), tensor(50.0086), tensor(49.9942), tensor(50.0104), tensor(49.9918), tensor(50.0127), tensor(49.9887), tensor(50.0153), tensor(49.9847), tensor(50.0183), tensor(49.9800), tensor(50.0214), tensor(49.9749), tensor(50.0241), tensor(49.9704), tensor(50.0259), tensor(49.9676), tensor(50.0264), tensor(49.9675), tensor(50.0254), tensor(49.9702), tensor(50.0233), tensor(49.9748), tensor(50.0205), tensor(49.9800), tensor(50.0175), tensor(49.9849), tensor(50.0146), tensor(49.9889), tensor(50.0121), tensor(49.9921), tensor(50.0099), tensor(49.9945), tensor(50.0083), tensor(49.9963), tensor(50.0070), tensor(49.9976), tensor(50.0060), tensor(49.9986), tensor(50.0052), tensor(49.9994), tensor(50.0046), tensor(49.9999), tensor(50.0042), tensor(50.0004), tensor(50.0038), tensor(50.0007), tensor(50.0035), tensor(50.0009), tensor(50.0033), tensor(50.0011), tensor(50.0031), tensor(50.0013), tensor(50.0030), tensor(50.0014), tensor(50.0029), tensor(50.0015), tensor(50.0028), tensor(50.0016), tensor(50.0027), tensor(50.0017), tensor(50.0026), tensor(50.0017), tensor(50.0026), tensor(50.0018), tensor(50.0026), tensor(50.0018), tensor(50.0025), tensor(50.0018), tensor(50.0025), tensor(50.0019), tensor(50.0025), tensor(50.0019), tensor(50.0025), tensor(50.0019), tensor(50.0024), tensor(50.0019), tensor(50.0024), tensor(50.0019), tensor(50.0024), tensor(50.0019), tensor(50.0024), tensor(50.0019), tensor(50.0024), tensor(50.0019), tensor(50.0024), tensor(50.0019), tensor(50.0024), tensor(50.0019), tensor(50.0024), tensor(50.0019), tensor(50.0024), tensor(50.0019), tensor(50.0024), tensor(50.0019), tensor(50.0024), tensor(50.0019), tensor(50.0024), tensor(50.0019), tensor(50.0024), tensor(50.0019), tensor(50.0025), tensor(50.0019), tensor(50.0025), tensor(50.0019), tensor(50.0025), tensor(50.0018), tensor(50.0025), tensor(50.0018), tensor(50.0026), tensor(50.0018), tensor(50.0026), tensor(50.0017), tensor(50.0027), tensor(50.0017), tensor(50.0027), tensor(50.0016), tensor(50.0028), tensor(50.0016), tensor(50.0028), tensor(50.0015), tensor(50.0029), tensor(50.0014), tensor(50.0030), tensor(50.0013), tensor(50.0032), tensor(50.0011), tensor(50.0033), tensor(50.0010), tensor(50.0035), tensor(50.0007), tensor(50.0037), tensor(50.0005), tensor(50.0040), tensor(50.0002), tensor(50.0043), tensor(49.9998), tensor(50.0047), tensor(49.9993), tensor(50.0052), tensor(49.9987), tensor(50.0059), tensor(49.9980), tensor(50.0066), tensor(49.9971), tensor(50.0075), tensor(49.9959), tensor(50.0086), tensor(49.9945), tensor(50.0100), tensor(49.9927), tensor(50.0116), tensor(49.9906), tensor(50.0134), tensor(49.9880), tensor(50.0154), tensor(49.9850), tensor(50.0176), tensor(49.9817), tensor(50.0196), tensor(49.9786), tensor(50.0214), tensor(49.9760), tensor(50.0225), tensor(49.9744), tensor(50.0228), tensor(49.9744), tensor(50.0222), tensor(49.9758), tensor(50.0210), tensor(49.9784), tensor(50.0192), tensor(49.9817), tensor(50.0171), tensor(49.9850), tensor(50.0150), tensor(49.9880), tensor(50.0130), tensor(49.9906), tensor(50.0112), tensor(49.9928), tensor(50.0097), tensor(49.9945), tensor(50.0085), tensor(49.9959), tensor(50.0074), tensor(49.9970), tensor(50.0066), tensor(49.9979), tensor(50.0059), tensor(49.9986), tensor(50.0054), tensor(49.9991), tensor(50.0049), tensor(49.9995), tensor(50.0045), tensor(49.9999), tensor(50.0042), tensor(50.0002), tensor(50.0040), tensor(50.0004), tensor(50.0038), tensor(50.0006), tensor(50.0036), tensor(50.0008), tensor(50.0035), tensor(50.0009), tensor(50.0034), tensor(50.0010), tensor(50.0033), tensor(50.0011), tensor(50.0032), tensor(50.0011), tensor(50.0032), tensor(50.0012), tensor(50.0031), tensor(50.0013), tensor(50.0031), tensor(50.0013), tensor(50.0030), tensor(50.0013), tensor(50.0030), tensor(50.0013), tensor(50.0030), tensor(50.0013), tensor(50.0030), tensor(50.0014), tensor(50.0030), tensor(50.0013), tensor(50.0030), tensor(50.0013), tensor(50.0030), tensor(50.0013), tensor(50.0030), tensor(50.0013), tensor(50.0031), tensor(50.0013), tensor(50.0031), tensor(50.0012), tensor(50.0032), tensor(50.0012), tensor(50.0032), tensor(50.0011), tensor(50.0033), tensor(50.0010), tensor(50.0034), tensor(50.0009), tensor(50.0035), tensor(50.0008), tensor(50.0036), tensor(50.0007), tensor(50.0037), tensor(50.0006), tensor(50.0039), tensor(50.0004), tensor(50.0040), tensor(50.0002), tensor(50.0043), tensor(49.9999), tensor(50.0045), tensor(49.9996), tensor(50.0048), tensor(49.9993), tensor(50.0052), tensor(49.9988), tensor(50.0056), tensor(49.9983), tensor(50.0061), tensor(49.9977), tensor(50.0067), tensor(49.9970), tensor(50.0075), tensor(49.9961), tensor(50.0083), tensor(49.9950), tensor(50.0093), tensor(49.9938), tensor(50.0104), tensor(49.9923), tensor(50.0117), tensor(49.9906), tensor(50.0131), tensor(49.9886), tensor(50.0147), tensor(49.9864), tensor(50.0162), tensor(49.9842), tensor(50.0177), tensor(49.9820), tensor(50.0189), tensor(49.9802), tensor(50.0198), tensor(49.9791), tensor(50.0202), tensor(49.9788), tensor(50.0200), tensor(49.9794), tensor(50.0193), tensor(49.9808), tensor(50.0182), tensor(49.9827), tensor(50.0169), tensor(49.9850), tensor(50.0153), tensor(49.9872), tensor(50.0138), tensor(49.9893), tensor(50.0123), tensor(49.9912), tensor(50.0110), tensor(49.9929), tensor(50.0099), tensor(49.9942), tensor(50.0088), tensor(49.9954), tensor(50.0080), tensor(49.9963), tensor(50.0072), tensor(49.9971), tensor(50.0066), tensor(49.9977), tensor(50.0061), tensor(49.9982), tensor(50.0057), tensor(49.9987), tensor(50.0053), tensor(49.9990), tensor(50.0050), tensor(49.9994), tensor(50.0048), tensor(49.9996), tensor(50.0046), tensor(49.9998), tensor(50.0044), tensor(49.9999), tensor(50.0043), tensor(50.0001), tensor(50.0042), tensor(50.0002), tensor(50.0041), tensor(50.0003), tensor(50.0040), tensor(50.0004), tensor(50.0039), tensor(50.0004), tensor(50.0039), tensor(50.0004), tensor(50.0039), tensor(50.0005), tensor(50.0039), tensor(50.0005), tensor(50.0039), tensor(50.0005), tensor(50.0039), tensor(50.0004), tensor(50.0039), tensor(50.0004), tensor(50.0040), tensor(50.0003), tensor(50.0040), tensor(50.0003), tensor(50.0041), tensor(50.0002), tensor(50.0042), tensor(50.0001), tensor(50.0043), tensor(50.0000), tensor(50.0044), tensor(49.9998), tensor(50.0046), tensor(49.9996), tensor(50.0048), tensor(49.9994), tensor(50.0050), tensor(49.9991), tensor(50.0053), tensor(49.9988), tensor(50.0056), tensor(49.9985), tensor(50.0059), tensor(49.9981), tensor(50.0063), tensor(49.9976), tensor(50.0068), tensor(49.9970), tensor(50.0073), tensor(49.9963), tensor(50.0080), tensor(49.9956), tensor(50.0087), tensor(49.9947), tensor(50.0095), tensor(49.9936), tensor(50.0104), tensor(49.9924), tensor(50.0115), tensor(49.9910), tensor(50.0126), tensor(49.9895), tensor(50.0137), tensor(49.9879), tensor(50.0149), tensor(49.9863), tensor(50.0160), tensor(49.9848), tensor(50.0170), tensor(49.9835), tensor(50.0177), tensor(49.9825), tensor(50.0181), tensor(49.9820), tensor(50.0182), tensor(49.9821), tensor(50.0179), tensor(49.9827), tensor(50.0173), tensor(49.9838), tensor(50.0165), tensor(49.9853), tensor(50.0154), tensor(49.9869), tensor(50.0143), tensor(49.9885), tensor(50.0131), tensor(49.9900), tensor(50.0120), tensor(49.9915), tensor(50.0110), tensor(49.9928), tensor(50.0101), tensor(49.9939), tensor(50.0092), tensor(49.9949), tensor(50.0085), tensor(49.9957), tensor(50.0079), tensor(49.9964), tensor(50.0073), tensor(49.9969), tensor(50.0068), tensor(49.9974), tensor(50.0065), tensor(49.9979), tensor(50.0061), tensor(49.9982), tensor(50.0058), tensor(49.9985), tensor(50.0056), tensor(49.9987), tensor(50.0054), tensor(49.9989), tensor(50.0052), tensor(49.9991), tensor(50.0051), tensor(49.9992), tensor(50.0050), tensor(49.9993), tensor(50.0049), tensor(49.9994), tensor(50.0048), tensor(49.9994), tensor(50.0048), tensor(49.9995), tensor(50.0048), tensor(49.9995), tensor(50.0048), tensor(49.9995), tensor(50.0048), tensor(49.9994), tensor(50.0049), tensor(49.9994), tensor(50.0049), tensor(49.9993), tensor(50.0050), tensor(49.9992), tensor(50.0051), tensor(49.9991), tensor(50.0053), tensor(49.9989), tensor(50.0054), tensor(49.9987), tensor(50.0056), tensor(49.9985), tensor(50.0058), tensor(49.9982), tensor(50.0061), tensor(49.9979), tensor(50.0064), tensor(49.9976), tensor(50.0067), tensor(49.9971), tensor(50.0071), tensor(49.9967), tensor(50.0076), tensor(49.9961), tensor(50.0081), tensor(49.9955), tensor(50.0087), tensor(49.9947), tensor(50.0093), tensor(49.9939), tensor(50.0101), tensor(49.9930), tensor(50.0109), tensor(49.9920), tensor(50.0117), tensor(49.9908), tensor(50.0126), tensor(49.9897), tensor(50.0135), tensor(49.9884), tensor(50.0144), tensor(49.9873), tensor(50.0152), tensor(49.9862), tensor(50.0159), tensor(49.9853), tensor(50.0164), tensor(49.9847), tensor(50.0166), tensor(49.9844), tensor(50.0167), tensor(49.9844), tensor(50.0165), tensor(49.9849), tensor(50.0161), tensor(49.9856), tensor(50.0155), tensor(49.9866), tensor(50.0147), tensor(49.9877), tensor(50.0139), tensor(49.9889), tensor(50.0130), tensor(49.9901), tensor(50.0121), tensor(49.9913), tensor(50.0113), tensor(49.9923), tensor(50.0105), tensor(49.9933), tensor(50.0098), tensor(49.9941), tensor(50.0091), tensor(49.9949), tensor(50.0086), tensor(49.9955), tensor(50.0081), tensor(49.9961), tensor(50.0076), tensor(49.9965), tensor(50.0072), tensor(49.9970), tensor(50.0069), tensor(49.9973), tensor(50.0066), tensor(49.9976), tensor(50.0064), tensor(49.9978), tensor(50.0062), tensor(49.9980), tensor(50.0060), tensor(49.9982), tensor(50.0059), tensor(49.9983), tensor(50.0058), tensor(49.9984), tensor(50.0057), tensor(49.9985), tensor(50.0057), tensor(49.9985)]\n"
     ]
    }
   ],
   "source": [
    "plt.plot(model.train_accuracies)"
   ]
  },
  {
   "cell_type": "code",
   "execution_count": null,
   "metadata": {},
   "outputs": [],
   "source": []
  }
 ],
 "metadata": {
  "kernelspec": {
   "display_name": "eulerspython",
   "language": "python",
   "name": "eulerspython"
  },
  "language_info": {
   "codemirror_mode": {
    "name": "ipython",
    "version": 3
   },
   "file_extension": ".py",
   "mimetype": "text/x-python",
   "name": "python",
   "nbconvert_exporter": "python",
   "pygments_lexer": "ipython3",
   "version": "3.6.5"
  }
 },
 "nbformat": 4,
 "nbformat_minor": 2
}
