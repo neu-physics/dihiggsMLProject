{
 "cells": [
  {
   "cell_type": "code",
   "execution_count": 1,
   "metadata": {},
   "outputs": [],
   "source": [
    "import numpy as np\n",
    "from sklearn.model_selection import train_test_split\n",
    "import matplotlib\n",
    "from matplotlib import pyplot as plt\n",
    "import pandas as pd\n",
    "from network import Network\n",
    "import torch\n"
   ]
  },
  {
   "cell_type": "code",
   "execution_count": 2,
   "metadata": {},
   "outputs": [
    {
     "name": "stdout",
     "output_type": "stream",
     "text": [
      "1703 rows of qcd data\n",
      "4605 rows of dihiggs data\n",
      "12\n"
     ]
    }
   ],
   "source": [
    "# Import Dataset\n",
    "qcd_raw = pd.read_csv('../HiggsReconstruction/EventPlotting/qcd_outputDataForLearning.csv')\n",
    "hh_raw = pd.read_csv('../HiggsReconstruction/EventPlotting/dihiggs_outputDataForLearning.csv')\n",
    "\n",
    "qcd_raw.head()\n",
    "print(len(qcd_raw), \"rows of qcd data\")\n",
    "hh_raw.head()\n",
    "print(len(hh_raw), \"rows of dihiggs data\")\n",
    "\n",
    "# Make higgs and qcd sets from raw data\n",
    "hh_all = hh_raw[['h1_mass', 'h2_mass', 'deltaR(h1 jets)', 'deltaR(h2 jets)', 'jet1_pz', 'jet2_pz', 'jet3_pz', 'jet4_pz', 'jet1_energy', 'jet2_energy', 'jet3_energy', 'jet4_energy']]\n",
    "qcd = qcd_raw[['h1_mass', 'h2_mass', 'deltaR(h1 jets)', 'deltaR(h2 jets)', 'jet1_pz', 'jet2_pz', 'jet3_pz', 'jet4_pz', 'jet1_energy', 'jet2_energy', 'jet3_energy', 'jet4_energy']]\n",
    "# hh_all = hh_raw[['deltaR(h1 jets)', 'deltaR(h2 jets)']]\n",
    "# qcd = qcd_raw[['deltaR(h1 jets)', 'deltaR(h2 jets)']]\n",
    "n_factors = np.shape(hh_all)[1]\n",
    "print(n_factors)\n",
    "\n",
    "# change this for testing w dummy variables\n",
    "# n_factors = 2\n",
    "# n_factors +=1\n",
    "# print(n_factors)"
   ]
  },
  {
   "cell_type": "code",
   "execution_count": 3,
   "metadata": {
    "scrolled": true
   },
   "outputs": [
    {
     "data": {
      "image/png": "[encoded data removed]",
      "text/plain": [
       "<Figure size 432x288 with 1 Axes>"
      ]
     },
     "metadata": {
      "needs_background": "light"
     },
     "output_type": "display_data"
    }
   ],
   "source": [
    "plt.hist(hh_raw['h1_mass'], label=\"hh\", density=1, alpha=.5, bins=np.linspace(0, 500, 100))\n",
    "plt.hist(qcd_raw['h1_mass'], label=\"qcd\", density=1, alpha=.5, bins=np.linspace(0, 500, 100))\n",
    "plt.title(\"h1_mass\")\n",
    "plt.legend()\n",
    "plt.show()"
   ]
  },
  {
   "cell_type": "code",
   "execution_count": 4,
   "metadata": {},
   "outputs": [
    {
     "name": "stdout",
     "output_type": "stream",
     "text": [
      "[[ 5.83929176e-01  1.23727135e+02  1.83328407e+00  2.89078642e+00\n",
      "  -9.21688505e+01 -6.81855941e+01 -1.32071364e+01  1.03543599e+02\n",
      "   1.11300033e+02  9.22296314e+01  5.85612652e+01  1.06345804e+02\n",
      "   1.00000000e+00]\n",
      " [-3.82704989e-01  7.76233425e+01  2.84355966e+00  1.90858838e+00\n",
      "   4.86379988e+01 -7.03442094e+01 -5.47050092e+01 -1.50864266e+02\n",
      "   1.42608668e+02  7.80770199e+01  7.05059247e+01  1.56858980e+02\n",
      "   0.00000000e+00]\n",
      " [ 7.30151690e-02  1.78390904e+01  6.92389046e-01  5.39485992e-01\n",
      "   7.90707911e+01  1.38688232e+01  3.62570042e+01  1.36103134e+01\n",
      "   9.73367461e+01  3.14129415e+01  4.92461483e+01  2.83327086e+01\n",
      "   1.00000000e+00]\n",
      " [ 2.75085143e-01  9.01747176e+01  2.65217628e+00  2.29208081e+00\n",
      "   4.00118813e+02  9.47316545e+01 -1.03360419e+02 -4.30163383e+00\n",
      "   4.09454216e+02  1.02313050e+02  1.28702877e+02  2.70073262e+01\n",
      "   1.00000000e+00]]\n",
      "[[1.]\n",
      " [0.]\n",
      " [1.]\n",
      " [1.]]\n"
     ]
    }
   ],
   "source": [
    "hh_all = np.array(hh_all)\n",
    "qcd = np.array(qcd)\n",
    "\n",
    "# add labels to di-higgs\n",
    "hh_all=hh_all[:,:n_factors]\n",
    "# # print(hh[0:3])\n",
    "hh_labels= np.zeros((len(hh_all),1))\n",
    "hh_labels = hh_labels+1\n",
    "#a = hh[:len(hh)]\n",
    "# print(a.shape)\n",
    "hh_all[:,0] = np.random.rand(np.shape(hh_all)[0])\n",
    "hh_all = np.append(hh_all, hh_labels, axis=1)\n",
    "# hh_all = np.append(hh_all, 1-hh_labels, axis=1)## hh qcd labels \n",
    "\n",
    "\n",
    "# print(hh.shape)\n",
    "# print(hh[0:3])\n",
    "\n",
    "# add labels to qcd\n",
    "qcd=qcd[:,:n_factors]\n",
    "# print(hh[0:3])\n",
    "qcd_labels= np.zeros((len(qcd),1))\n",
    "#a = hh[:len(hh)]\n",
    "# print(a.shape)\n",
    "# qcd hh labels \n",
    "qcd[:, 0] = -1 * np.random.rand(np.shape(qcd)[0])\n",
    "qcd = np.append(qcd, qcd_labels, axis=1) \n",
    "# qcd = np.append(qcd, 1-qcd_labels, axis=1)# qcd qcd labels\n",
    "\n",
    "\n",
    "# use this for dummy variables\n",
    "# hh_all[:,0] = np.random.rand(np.shape(hh_all)[0])\n",
    "# hh_all[:,1] = np.random.rand(np.shape(hh_all)[0])\n",
    "# qcd[:, 0] = -1 * np.random.rand(np.shape(qcd)[0])\n",
    "# qcd[:, 1] = -1 * np.random.rand(np.shape(qcd)[0])\n",
    "\n",
    "# \n",
    "\n",
    "# print(hh.shape)\n",
    "# print(hh[0:3])\n",
    "# print(qcd[:4])\n",
    "\n",
    "# select a quarter of hh events so that the set is half and half\n",
    "# we shuffle the list first to take a random 1/4. this means we have a different dataset every time\n",
    "# np.random.seed(0)\n",
    "# np.random.shuffle(hh_all) \n",
    "hh = hh_all[0:len(qcd)]\n",
    "# print(hh[:4])\n",
    "# print(qcd[:4])\n",
    "\n",
    "all_data = np.append(hh,qcd, axis=0) \n",
    "all_data[:n_factors,:]\n",
    "\n",
    "np.random.seed(0)\n",
    "for i in range (4): # shuffle 4 times\n",
    "    np.random.shuffle(all_data) \n",
    "print(all_data[:4])\n",
    "all_labels = all_data[:,n_factors:]\n",
    "# for testing model resilience\n",
    "# for i in range(2):\n",
    "#     np.random.shuffle(all_labels)\n",
    "all_data = all_data[:,:n_factors]\n",
    "# print(all_data[:4])\n",
    "print(all_labels[:4])\n",
    "# print(test_data)\n",
    "# print(len(all_data))\n",
    "# print(all_labels)"
   ]
  },
  {
   "cell_type": "code",
   "execution_count": 5,
   "metadata": {},
   "outputs": [
    {
     "name": "stdout",
     "output_type": "stream",
     "text": [
      "[[ 0.58419281  0.206275    0.33357623  0.57712665 -0.05276209 -0.09349191\n",
      "  -0.01360928  0.12095912  0.06260362  0.12451174  0.03889375  0.08892334]\n",
      " [-0.38287777  0.12941183  0.51740149  0.38103722  0.02784284 -0.09645167\n",
      "  -0.05637073 -0.17623889  0.08021398  0.10540545  0.04682686  0.13116103]\n",
      " [ 0.07304813  0.02974092  0.12598404  0.10770486  0.0452641   0.01901608\n",
      "   0.037361    0.0158995   0.0547496   0.04240806  0.03270707  0.02369101]\n",
      " [ 0.27520934  0.15033719  0.48257822  0.45759898  0.22904816  0.12989024\n",
      "  -0.10650765 -0.00502515  0.23030823  0.13812455  0.08547865  0.02258276]]\n"
     ]
    }
   ],
   "source": [
    "# scale the data by dividing it by the max value of each\n",
    "for i in range(np.shape(all_data)[1]):\n",
    "    all_data[:,i] = np.true_divide(all_data[:,i], np.max(all_data[:,i]))\n",
    "print(all_data[:4])\n"
   ]
  },
  {
   "cell_type": "code",
   "execution_count": 6,
   "metadata": {},
   "outputs": [
    {
     "name": "stdout",
     "output_type": "stream",
     "text": [
      "torch.Size([1021, 12])\n",
      "torch.Size([1703, 12])\n",
      "torch.Size([1021, 1])\n",
      "torch.Size([1703, 1])\n"
     ]
    }
   ],
   "source": [
    "# TODO: Train-Test split\n",
    "train_data, test_data, train_labels, test_labels = train_test_split(all_data, all_labels, train_size=0.3, test_size=0.5, random_state=42)\n",
    "# print(len(train_data))\n",
    "# print(train_data)\n",
    "# print(train_data.shape)\n",
    "# print(train_labels)\n",
    "train_data = torch.from_numpy(train_data)\n",
    "# train_data = torch.zeros(len(train_labels), 4)\n",
    "test_data = torch.from_numpy(test_data)\n",
    "# test_data = torch.zeros(len(test_labels), 4)\n",
    "train_labels = torch.from_numpy(train_labels)\n",
    "test_labels = torch.from_numpy(test_labels)\n",
    "\n",
    "print(train_data.shape)\n",
    "print(test_data.shape)\n",
    "print(train_labels.shape)\n",
    "print(test_labels.shape)\n",
    "\n"
   ]
  },
  {
   "cell_type": "code",
   "execution_count": 7,
   "metadata": {
    "scrolled": true
   },
   "outputs": [
    {
     "name": "stdout",
     "output_type": "stream",
     "text": [
      "train accuracy at epoch 0 is: 50.24485798237023\n",
      "test accuracy is: 50.32295948326483\n",
      "train accuracy at epoch 300 is: 97.55142017629774\n",
      "test accuracy is: 98.64944216089255\n",
      "train accuracy at epoch 600 is: 98.23702252693438\n",
      "test accuracy is: 99.1779213153259\n",
      "train accuracy at epoch 900 is: 98.43290891283057\n",
      "test accuracy is: 99.2953611274222\n",
      "train accuracy at epoch 1200 is: 98.92262487757101\n",
      "test accuracy is: 99.35408103347034\n",
      "train accuracy at epoch 1500 is: 98.92262487757101\n",
      "test accuracy is: 99.58896065766295\n",
      "train accuracy at epoch 1800 is: 99.11851126346718\n",
      "test accuracy is: 99.64768056371109\n",
      "train accuracy at epoch 2100 is: 99.31439764936337\n",
      "test accuracy is: 99.58896065766295\n",
      "train accuracy at epoch 2400 is: 99.51028403525955\n",
      "test accuracy is: 99.58896065766295\n",
      "train accuracy at epoch 2700 is: 99.51028403525955\n",
      "test accuracy is: 99.58896065766295\n",
      "train accuracy at epoch 3000 is: 99.51028403525955\n",
      "test accuracy is: 99.58896065766295\n",
      "train accuracy at epoch 3300 is: 99.51028403525955\n",
      "test accuracy is: 99.70640046975925\n",
      "train accuracy at epoch 3600 is: 99.60822722820764\n",
      "test accuracy is: 99.70640046975925\n",
      "train accuracy at epoch 3900 is: 99.70617042115573\n",
      "test accuracy is: 99.70640046975925\n",
      "train accuracy at epoch 4200 is: 99.70617042115573\n",
      "test accuracy is: 99.70640046975925\n",
      "train accuracy at epoch 4500 is: 99.70617042115573\n",
      "test accuracy is: 99.70640046975925\n",
      "train accuracy at epoch 4800 is: 99.70617042115573\n",
      "test accuracy is: 99.70640046975925\n",
      "train accuracy at epoch 5100 is: 99.70617042115573\n",
      "test accuracy is: 99.70640046975925\n",
      "train accuracy at epoch 5400 is: 99.70617042115573\n",
      "test accuracy is: 99.70640046975925\n",
      "train accuracy at epoch 5700 is: 99.70617042115573\n",
      "test accuracy is: 99.70640046975925\n",
      "train accuracy at epoch 6000 is: 99.60822722820764\n",
      "test accuracy is: 99.70640046975925\n",
      "train accuracy at epoch 6300 is: 99.60822722820764\n",
      "test accuracy is: 99.7651203758074\n",
      "train accuracy at epoch 6600 is: 99.60822722820764\n",
      "test accuracy is: 99.7651203758074\n",
      "train accuracy at epoch 6900 is: 99.60822722820764\n",
      "test accuracy is: 99.7651203758074\n",
      "train accuracy at epoch 7200 is: 99.60822722820764\n",
      "test accuracy is: 99.7651203758074\n",
      "train accuracy at epoch 7500 is: 99.60822722820764\n",
      "test accuracy is: 99.7651203758074\n",
      "train accuracy at epoch 7800 is: 99.60822722820764\n",
      "test accuracy is: 99.7651203758074\n"
     ]
    }
   ],
   "source": [
    "learnRate = 0.01\n",
    "np.random.seed(234)\n",
    "node_list = [n_factors, 10, 10, 1]\n",
    "old_model = Network(node_list)\n",
    "model = Network(node_list, old_model.w_initial, old_model.b_initial)\n",
    "model.train(train_data, train_labels, 7801, learnRate, 0, True, test_data, test_labels)"
   ]
  },
  {
   "cell_type": "code",
   "execution_count": 8,
   "metadata": {},
   "outputs": [],
   "source": [
    "# testout = model.get_output().numpy()\n",
    "# testout[testout>.5] = 1\n",
    "# testout[test out<=.5] = 0\n",
    "# print(\"train\", np.sum(train_labels.numpy()))\n",
    "# print(\"test\", np.sum(test_labels.numpy()))\n",
    "# print(\"out\", np.sum(testout))\n",
    "# print(\"train acc\", (1-(np.sum(np.abs(train_labels.numpy()-testout))/len(train_labels.numpy())))\n",
    "#      )\n",
    "# print(\"test acc\", (1-(np.sum(np.abs(test_labels.numpy()-testout))/len(test_labels.numpy())))\n",
    "#      )\n"
   ]
  },
  {
   "cell_type": "code",
   "execution_count": 9,
   "metadata": {
    "scrolled": false
   },
   "outputs": [
    {
     "data": {
      "image/png": "[encoded data removed]",
      "text/plain": [
       "<Figure size 432x288 with 1 Axes>"
      ]
     },
     "metadata": {
      "needs_background": "light"
     },
     "output_type": "display_data"
    }
   ],
   "source": [
    "# print(model.losses)\n",
    "plt.plot(model.losses, label=\"loss\")\n",
    "plt.plot(model.train_accuracies, label=\"Train\", alpha=0.5)\n",
    "plt.scatter(model.test_num, model.test_accuracies, label=\"Test\", marker=\".\", color=\"green\")\n",
    "plt.xlabel(\"Epoch\")\n",
    "plt.ylabel(\"Performance(%)\")\n",
    "plt.title(\"Loss and Network Accuracy per Epoch\")\n",
    "plt.legend()\n",
    "plt.ylim(0,100)\n",
    "plt.show()"
   ]
  },
  {
   "cell_type": "code",
   "execution_count": 23,
   "metadata": {},
   "outputs": [
    {
     "data": {
      "image/png": "[encoded data removed]",
      "text/plain": [
       "<Figure size 432x288 with 1 Axes>"
      ]
     },
     "metadata": {
      "needs_background": "light"
     },
     "output_type": "display_data"
    }
   ],
   "source": [
    "plt.plot(model.losses)\n",
    "plt.title(\"Network Loss per Epoch\")\n",
    "plt.xlabel(\"Epoch\")\n",
    "plt.ylabel(\"Loss, (%)\")\n",
    "plt.show()"
   ]
  },
  {
   "cell_type": "code",
   "execution_count": 24,
   "metadata": {},
   "outputs": [
    {
     "data": {
      "image/png": "[encoded data removed]",
      "text/plain": [
       "<Figure size 432x288 with 1 Axes>"
      ]
     },
     "metadata": {
      "needs_background": "light"
     },
     "output_type": "display_data"
    }
   ],
   "source": [
    "plt.plot(model.train_accuracies, label=\"Train\", color=\"orange\")\n",
    "plt.title(\"Network Accuracy per Epoch\")\n",
    "plt.xlabel(\"Epoch\")\n",
    "plt.ylabel(\"Accuracy, (%)\")\n",
    "plt.show()"
   ]
  },
  {
   "cell_type": "code",
   "execution_count": 25,
   "metadata": {},
   "outputs": [
    {
     "data": {
      "text/plain": [
       "[<matplotlib.lines.Line2D at 0x11ca732e8>]"
      ]
     },
     "execution_count": 25,
     "metadata": {},
     "output_type": "execute_result"
    },
    {
     "data": {
      "image/png": "[encoded data removed]",
      "text/plain": [
       "<Figure size 432x288 with 1 Axes>"
      ]
     },
     "metadata": {
      "needs_background": "light"
     },
     "output_type": "display_data"
    }
   ],
   "source": [
    "plt.plot(model.weight_change)"
   ]
  },
  {
   "cell_type": "code",
   "execution_count": 26,
   "metadata": {},
   "outputs": [],
   "source": [
    "# print(len(model.weights))\n",
    "# print(model.weights)"
   ]
  },
  {
   "cell_type": "code",
   "execution_count": 27,
   "metadata": {},
   "outputs": [],
   "source": [
    "# print(model.biases)"
   ]
  },
  {
   "cell_type": "code",
   "execution_count": 28,
   "metadata": {},
   "outputs": [
    {
     "name": "stdout",
     "output_type": "stream",
     "text": [
      "[tensor([[2.1043e-03, 9.9798e-01, 9.9839e-01,  ..., 8.0383e-05, 2.1975e-01,\n",
      "         9.8785e-01],\n",
      "        [7.2996e-01, 3.7922e-04, 3.5877e-04,  ..., 8.5746e-01, 8.1699e-02,\n",
      "         2.2621e-03],\n",
      "        [9.7481e-01, 1.9384e-06, 6.1470e-07,  ..., 9.9448e-01, 5.8972e-02,\n",
      "         1.6767e-05],\n",
      "        ...,\n",
      "        [4.5771e-02, 5.9340e-01, 5.4287e-01,  ..., 6.6316e-03, 9.8657e-02,\n",
      "         3.0460e-01],\n",
      "        [8.9529e-01, 2.9097e-05, 1.5612e-05,  ..., 9.6162e-01, 9.0898e-02,\n",
      "         1.6067e-04],\n",
      "        [3.0407e-01, 1.3657e-02, 8.2973e-03,  ..., 2.1849e-01, 1.3716e-01,\n",
      "         1.8616e-02]]), tensor([[9.9981e-01, 8.4645e-02, 5.8439e-05,  ..., 3.6937e-01, 9.9659e-01,\n",
      "         5.0172e-02],\n",
      "        [1.2427e-02, 9.7018e-01, 9.9883e-01,  ..., 2.0265e-01, 9.3556e-02,\n",
      "         8.4600e-01],\n",
      "        [9.1965e-03, 9.8394e-01, 9.9950e-01,  ..., 1.4541e-01, 8.1305e-02,\n",
      "         8.9119e-01],\n",
      "        ...,\n",
      "        [9.8942e-01, 2.0548e-01, 3.3445e-03,  ..., 4.1593e-01, 9.1160e-01,\n",
      "         1.9817e-01],\n",
      "        [1.0420e-02, 9.7979e-01, 9.9935e-01,  ..., 1.5899e-01, 8.1596e-02,\n",
      "         8.7480e-01],\n",
      "        [4.7430e-02, 8.2781e-01, 9.8141e-01,  ..., 4.5315e-01, 2.7815e-01,\n",
      "         6.0470e-01]]), tensor([[0.9986],\n",
      "        [0.0021],\n",
      "        [0.0019],\n",
      "        ...,\n",
      "        [0.9976],\n",
      "        [0.0019],\n",
      "        [0.0056]])]\n"
     ]
    }
   ],
   "source": [
    "print(model.layers)"
   ]
  },
  {
   "cell_type": "code",
   "execution_count": 29,
   "metadata": {},
   "outputs": [],
   "source": [
    "# out_labels = model.get_output()\n",
    "# a = out_labels[:,0]\n",
    "# # b = out_labels[:,1]\n",
    "# c = (a+b)\n",
    "# print(c)\n",
    "# print(0.7336+0.1798)\n",
    "# print(c.shape)"
   ]
  },
  {
   "cell_type": "code",
   "execution_count": 30,
   "metadata": {},
   "outputs": [
    {
     "name": "stdout",
     "output_type": "stream",
     "text": [
      "[tensor([[-6.3048e+00,  1.3085e+01,  1.2577e+01, -2.0297e+01,  1.3427e+01,\n",
      "          9.8616e+00, -9.5434e-01, -1.0533e+01,  7.4703e-01,  9.0287e+00],\n",
      "        [-2.5943e-01, -2.7306e-01, -1.1302e-01,  1.5194e+00,  2.1304e+00,\n",
      "          4.6396e-01, -7.9293e-01,  2.6413e-02, -7.3807e-01,  8.1962e-01],\n",
      "        [ 3.1289e-01, -5.1541e-01, -2.5550e+00,  8.8037e-01,  2.5283e-01,\n",
      "         -2.7452e-05, -4.0235e-01, -1.8589e+00, -1.2639e+00, -3.0329e+00],\n",
      "        [ 3.8000e-02,  6.8299e-01,  4.4112e-02, -9.9089e-01, -1.4067e-01,\n",
      "         -2.1439e+00,  2.5755e-01, -8.5699e-01,  1.7635e+00,  5.1018e-01],\n",
      "        [-2.2383e-01,  2.7735e-01, -4.2682e-01, -4.0349e-01,  3.9628e-01,\n",
      "         -8.0936e-01,  3.7370e-02,  6.2696e-01,  9.6395e-01,  6.7090e-01],\n",
      "        [ 4.7236e-01, -9.2952e-01,  1.3455e+00,  3.6899e-01,  4.5736e-01,\n",
      "         -2.2616e-02, -3.2503e-01,  7.9739e-01,  1.7146e+00,  1.5329e+00],\n",
      "        [ 2.3089e-01, -1.4824e-01,  7.4280e-01, -4.7580e-01, -9.3468e-01,\n",
      "         -1.0108e+00, -3.5161e-01, -5.3236e-01,  3.9245e-01, -7.7552e-02],\n",
      "        [-1.2992e+00, -8.6962e-01, -1.2069e-01,  8.1341e-01, -1.0453e+00,\n",
      "         -1.4439e+00, -8.6000e-01,  5.0178e-02, -9.6215e-01,  8.7348e-01],\n",
      "        [ 7.5463e-01, -1.8953e+00,  8.0761e-01, -2.5765e-01, -1.9596e+00,\n",
      "          1.8971e-01,  6.8964e-01, -7.1413e-01, -4.2785e-01, -8.1117e-01],\n",
      "        [ 1.9089e+00,  2.0975e+00, -2.0895e-01, -4.6056e-01, -1.9955e-01,\n",
      "          7.9506e-01,  3.5933e-01, -8.6301e-01, -1.2938e+00,  1.3930e+00],\n",
      "        [-1.5414e+00, -8.7180e-01, -5.6900e-01, -7.1811e-01,  1.7455e-01,\n",
      "         -1.0849e+00,  3.2415e+00,  1.2677e+00,  8.1361e-01,  4.6908e-01],\n",
      "        [ 6.0792e-01, -7.5770e-01,  1.5252e+00,  5.8892e-01, -1.0204e+00,\n",
      "         -1.7890e+00,  4.8081e-02,  2.7331e-02, -6.6496e-01,  8.4139e-01]]), tensor([[-1.3449,  1.9234,  2.6495,  1.1254, -1.8457,  0.0360, -0.1257, -0.7029,\n",
      "          0.4492,  0.7731],\n",
      "        [ 1.8133, -0.1312, -3.5629, -1.7307,  0.8823,  2.3670,  1.2066, -0.8078,\n",
      "         -0.8876, -1.3853],\n",
      "        [ 1.9791, -0.7169, -1.7689, -1.3481, -0.6889,  2.4587,  0.6625, -0.0141,\n",
      "          0.7235, -0.0975],\n",
      "        [-3.0156,  0.9724,  4.0395,  2.9127, -0.6495, -3.2771, -2.1207,  0.4441,\n",
      "         -0.4975,  0.3777],\n",
      "        [ 3.2163, -1.2030, -1.9919, -0.7336, -0.9561,  1.8305,  1.3606, -0.1518,\n",
      "          1.2680,  0.8187],\n",
      "        [ 0.0725, -0.7676, -2.6620, -0.8775,  0.4551,  0.4515,  1.0256,  0.7541,\n",
      "          2.0150, -1.8755],\n",
      "        [-2.0346,  1.4224, -1.0113, -0.3115, -0.7210,  0.2534,  0.3905,  0.7015,\n",
      "         -0.6934, -0.1817],\n",
      "        [ 0.1758,  1.0803,  1.2928,  2.2208,  0.8266, -2.3575, -1.6990, -1.6323,\n",
      "         -2.0798,  1.2017],\n",
      "        [ 0.1190, -0.9820, -0.1996, -0.7223, -0.3542, -0.9307,  0.0648,  0.0913,\n",
      "         -1.1400, -1.8671],\n",
      "        [ 1.7050,  0.5897,  0.3163, -1.3028, -0.2164,  0.9801,  2.8551, -0.2922,\n",
      "          3.0461,  0.0218]]), tensor([[ 2.2042],\n",
      "        [-1.1416],\n",
      "        [-2.5143],\n",
      "        [-1.9378],\n",
      "        [-0.1784],\n",
      "        [ 2.0160],\n",
      "        [ 1.4083],\n",
      "        [ 0.0584],\n",
      "        [ 1.3029],\n",
      "        [-0.7072]])]\n"
     ]
    }
   ],
   "source": [
    "print(model.weights)"
   ]
  },
  {
   "cell_type": "code",
   "execution_count": 31,
   "metadata": {},
   "outputs": [
    {
     "name": "stdout",
     "output_type": "stream",
     "text": [
      "tensor([0.4976], dtype=torch.float64)\n"
     ]
    }
   ],
   "source": [
    "print(1-sum(train_labels)/len(train_labels))"
   ]
  },
  {
   "cell_type": "code",
   "execution_count": 32,
   "metadata": {},
   "outputs": [
    {
     "name": "stdout",
     "output_type": "stream",
     "text": [
      "tensor([[ 0.6640,  0.1558,  0.0953,  ...,  0.0738,  0.0781,  0.1254],\n",
      "        [-0.4487,  0.2237,  0.1024,  ...,  0.1317,  0.0886,  0.0386],\n",
      "        [-0.8527,  0.3008,  0.6195,  ...,  0.0883,  0.0650,  0.0708],\n",
      "        ...,\n",
      "        [ 0.2106,  0.1658,  0.2521,  ...,  0.0566,  0.1081,  0.0941],\n",
      "        [-0.6276,  0.1645,  0.5134,  ...,  0.0564,  0.0993,  0.0209],\n",
      "        [-0.1671,  0.1964,  0.3066,  ...,  0.0371,  0.0492,  0.0445]],\n",
      "       dtype=torch.float64)\n"
     ]
    }
   ],
   "source": [
    "print(train_data)"
   ]
  },
  {
   "cell_type": "code",
   "execution_count": 33,
   "metadata": {},
   "outputs": [
    {
     "name": "stdout",
     "output_type": "stream",
     "text": [
      "[tensor([[-2.0311, -2.0311, -2.0311, -2.0311, -2.0311, -2.0311, -2.0311, -2.0311,\n",
      "         -2.0311, -2.0311]]), tensor([[-0.0719, -0.0719, -0.0719, -0.0719, -0.0719, -0.0719, -0.0719, -0.0719,\n",
      "         -0.0719, -0.0719]]), tensor([[-0.2113]])]\n"
     ]
    }
   ],
   "source": [
    "print(model.biases)"
   ]
  },
  {
   "cell_type": "code",
   "execution_count": 34,
   "metadata": {},
   "outputs": [
    {
     "name": "stdout",
     "output_type": "stream",
     "text": [
      "[[0.9985153 ]\n",
      " [0.00189979]\n",
      " [0.00188206]\n",
      " ...\n",
      " [0.9985757 ]\n",
      " [0.99847406]\n",
      " [0.00191582]]\n",
      "[[1.]\n",
      " [0.]\n",
      " [0.]\n",
      " ...\n",
      " [1.]\n",
      " [1.]\n",
      " [0.]]\n",
      "tensor([0.5024], dtype=torch.float64)\n",
      "tensor([0.8394], dtype=torch.float64)\n",
      "ASDF [0.504404]\n"
     ]
    }
   ],
   "source": [
    "\n",
    "pred = model.pred(test_data)[-1].numpy()\n",
    "actual = test_labels.numpy()\n",
    "print(pred)\n",
    "pred[pred>.5] = 1\n",
    "pred[pred<.51] = 0\n",
    "print(pred)\n",
    "\n",
    "print(sum(train_labels)/len(train_labels))\n",
    "print(sum(test_labels)/len(train_labels))\n",
    "\n",
    "print(\"ASDF\", sum(pred)/len(pred))"
   ]
  },
  {
   "cell_type": "code",
   "execution_count": null,
   "metadata": {},
   "outputs": [],
   "source": []
  },
  {
   "cell_type": "code",
   "execution_count": null,
   "metadata": {},
   "outputs": [],
   "source": []
  },
  {
   "cell_type": "code",
   "execution_count": null,
   "metadata": {},
   "outputs": [],
   "source": []
  }
 ],
 "metadata": {
  "kernelspec": {
   "display_name": "eulerspython",
   "language": "python",
   "name": "eulerspython"
  },
  "language_info": {
   "codemirror_mode": {
    "name": "ipython",
    "version": 3
   },
   "file_extension": ".py",
   "mimetype": "text/x-python",
   "name": "python",
   "nbconvert_exporter": "python",
   "pygments_lexer": "ipython3",
   "version": "3.6.5"
  }
 },
 "nbformat": 4,
 "nbformat_minor": 2
}
