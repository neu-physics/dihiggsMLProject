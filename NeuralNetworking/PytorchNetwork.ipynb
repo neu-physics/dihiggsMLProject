{
 "cells": [
  {
   "cell_type": "code",
   "execution_count": 1,
   "metadata": {},
   "outputs": [],
   "source": [
    "import numpy as np\n",
    "from sklearn.model_selection import train_test_split\n",
    "import matplotlib\n",
    "from matplotlib import pyplot as plt\n",
    "import pandas as pd\n",
    "from network import Network\n",
    "import torch\n"
   ]
  },
  {
   "cell_type": "code",
   "execution_count": 2,
   "metadata": {},
   "outputs": [
    {
     "name": "stdout",
     "output_type": "stream",
     "text": [
      "1703 rows of qcd data\n",
      "4605 rows of dihiggs data\n",
      "4\n"
     ]
    }
   ],
   "source": [
    "# Import Dataset\n",
    "qcd_raw = pd.read_csv('../HiggsReconstruction/EventPlotting/qcd_outputDataForLearning.csv')\n",
    "hh_raw = pd.read_csv('../HiggsReconstruction/EventPlotting/dihiggs_outputDataForLearning.csv')\n",
    "\n",
    "qcd_raw.head()\n",
    "print(len(qcd_raw), \"rows of qcd data\")\n",
    "hh_raw.head()\n",
    "print(len(hh_raw), \"rows of dihiggs data\")\n",
    "\n",
    "# Make higgs and qcd sets from raw data\n",
    "hh_all = hh_raw[['h1_mass', 'h2_mass', 'deltaR(h1 jets)', 'deltaR(h2 jets)']]\n",
    "qcd = qcd_raw[['h1_mass', 'h2_mass', 'deltaR(h1 jets)', 'deltaR(h2 jets)']]\n",
    "# hh_all = hh_raw[['h1_mass', 'deltaR(h1 jets)', 'deltaR(h2 jets)']]\n",
    "# qcd = qcd_raw[['h1_mass', 'deltaR(h1 jets)', 'deltaR(h2 jets)']]\n",
    "n_factors = np.shape(hh_all)[1]\n",
    "print(n_factors)\n",
    "n_factors =1"
   ]
  },
  {
   "cell_type": "code",
   "execution_count": 3,
   "metadata": {},
   "outputs": [
    {
     "data": {
      "image/png": "[encoded data removed]",
      "text/plain": [
       "<Figure size 432x288 with 1 Axes>"
      ]
     },
     "metadata": {
      "needs_background": "light"
     },
     "output_type": "display_data"
    }
   ],
   "source": [
    "plt.hist(hh_raw['h1_mass'], label=\"hh\", density=1, alpha=.5, bins=np.linspace(0, 500, 100))\n",
    "plt.hist(qcd_raw['h1_mass'], label=\"qcd\", density=1, alpha=.5, bins=np.linspace(0, 500, 100))\n",
    "plt.title(\"h1_mass\")\n",
    "plt.legend()\n",
    "plt.show()"
   ]
  },
  {
   "cell_type": "code",
   "execution_count": 4,
   "metadata": {},
   "outputs": [
    {
     "name": "stdout",
     "output_type": "stream",
     "text": [
      "[[ 0.07599729  1.        ]\n",
      " [-0.20347685  0.        ]\n",
      " [ 0.09106848  1.        ]\n",
      " [ 0.61023527  1.        ]]\n",
      "[[1.]\n",
      " [0.]\n",
      " [1.]\n",
      " [1.]]\n"
     ]
    }
   ],
   "source": [
    "hh_all = np.array(hh_all)\n",
    "qcd = np.array(qcd)\n",
    "\n",
    "# add labels to di-higgs\n",
    "hh_all=hh_all[:,:n_factors]\n",
    "# print(hh[0:3])\n",
    "hh_labels= np.zeros((len(hh_all),1))\n",
    "hh_labels = hh_labels+1\n",
    "#a = hh[:len(hh)]\n",
    "# print(a.shape)\n",
    "hh_all = np.append(hh_all, hh_labels, axis=1)\n",
    "# hh_all = np.append(hh_all, 1-hh_labels, axis=1)## hh qcd labels \n",
    "hh_all[:,0] = np.random.rand(np.shape(hh_all)[0])\n",
    "# hh_all[:,1] = np.random.rand(np.shape(hh_all)[0])\n",
    "\n",
    "# print(hh.shape)\n",
    "# print(hh[0:3])\n",
    "\n",
    "# add labels to qcd\n",
    "qcd=qcd[:,:n_factors]\n",
    "# print(hh[0:3])\n",
    "qcd_labels= np.zeros((len(qcd),1))\n",
    "#a = hh[:len(hh)]\n",
    "# print(a.shape)\n",
    "# qcd hh labels \n",
    "qcd = np.append(qcd, qcd_labels, axis=1) # qcd qcd labels\n",
    "# qcd = np.append(qcd, 1-qcd_labels, axis=1)\n",
    "qcd[:, 0] = -1 * np.random.rand(np.shape(qcd)[0])\n",
    "# qcd[:, 1] = -1 * np.random.rand(np.shape(qcd)[0])\n",
    "\n",
    "# \n",
    "\n",
    "# print(hh.shape)\n",
    "# print(hh[0:3])\n",
    "# print(qcd[:4])\n",
    "\n",
    "# select a quarter of hh events so that the set is half and half\n",
    "# we shuffle the list first to take a random 1/4. this means we have a different dataset every time\n",
    "# np.random.seed(0)\n",
    "# np.random.shuffle(hh_all) \n",
    "hh = hh_all[0:len(qcd)]\n",
    "# print(hh[:4])\n",
    "# print(qcd[:4])\n",
    "\n",
    "all_data = np.append(hh,qcd, axis=0) \n",
    "all_data[:n_factors,:]\n",
    "\n",
    "np.random.seed(0)\n",
    "for i in range (4): # shuffle 4 times\n",
    "    np.random.shuffle(all_data) \n",
    "print(all_data[:4])\n",
    "all_labels = all_data[:,n_factors:]\n",
    "# for testing model resilience\n",
    "# for i in range(2):\n",
    "#     np.random.shuffle(all_labels)\n",
    "all_data = all_data[:,:n_factors]\n",
    "# print(all_data[:4])\n",
    "print(all_labels[:4])\n",
    "# print(test_data)\n",
    "# print(len(all_data))\n",
    "# print(all_labels)"
   ]
  },
  {
   "cell_type": "code",
   "execution_count": 5,
   "metadata": {},
   "outputs": [
    {
     "name": "stdout",
     "output_type": "stream",
     "text": [
      "[[ 0.07600933]\n",
      " [-0.20350909]\n",
      " [ 0.09108291]\n",
      " [ 0.61033194]\n",
      " [ 0.50318331]\n",
      " [ 0.51325953]]\n"
     ]
    }
   ],
   "source": [
    "# scale the data by dividing it by the max value of each\n",
    "for i in range(np.shape(all_data)[1]):\n",
    "    all_data[:,i] = np.true_divide(all_data[:,i], np.max(all_data[:,i]))\n",
    "print(all_data[:6])"
   ]
  },
  {
   "cell_type": "code",
   "execution_count": 6,
   "metadata": {},
   "outputs": [
    {
     "name": "stdout",
     "output_type": "stream",
     "text": [
      "torch.Size([1703, 1])\n",
      "torch.Size([1703, 1])\n",
      "torch.Size([1703, 1])\n",
      "torch.Size([1703, 1])\n"
     ]
    }
   ],
   "source": [
    "# TODO: Train-Test split\n",
    "train_data, test_data, train_labels, test_labels = train_test_split(all_data, all_labels, train_size=0.5, test_size=0.5, random_state=42)\n",
    "# print(len(train_data))\n",
    "# print(train_data)\n",
    "# print(train_data.shape)\n",
    "# print(train_labels)\n",
    "train_data = torch.from_numpy(train_data)\n",
    "# train_data = torch.zeros(len(train_labels), 4)\n",
    "test_data = torch.from_numpy(test_data)\n",
    "# test_data = torch.zeros(len(test_labels), 4)\n",
    "train_labels = torch.from_numpy(train_labels)\n",
    "test_labels = torch.from_numpy(test_labels)\n",
    "\n",
    "print(train_data.shape)\n",
    "print(test_data.shape)\n",
    "print(train_labels.shape)\n",
    "print(test_labels.shape)\n"
   ]
  },
  {
   "cell_type": "code",
   "execution_count": 7,
   "metadata": {
    "scrolled": true
   },
   "outputs": [
    {
     "name": "stdout",
     "output_type": "stream",
     "text": [
      "train accuracy at epoch 0 is: 49.67704051673517\n",
      "test accuracy is: 50.32295948326483\n",
      "train accuracy at epoch 50 is: 50.32295948326483\n",
      "test accuracy is: 49.67704051673517\n",
      "train accuracy at epoch 100 is: 50.32295948326483\n",
      "test accuracy is: 49.67704051673517\n",
      "train accuracy at epoch 150 is: 50.32295948326483\n",
      "test accuracy is: 49.67704051673517\n",
      "train accuracy at epoch 200 is: 50.32295948326483\n",
      "test accuracy is: 49.67704051673517\n",
      "train accuracy at epoch 250 is: 50.32295948326483\n",
      "test accuracy is: 49.67704051673517\n",
      "train accuracy at epoch 300 is: 50.32295948326483\n",
      "test accuracy is: 49.67704051673517\n",
      "train accuracy at epoch 350 is: 50.32295948326483\n",
      "test accuracy is: 49.67704051673517\n",
      "train accuracy at epoch 400 is: 50.32295948326483\n",
      "test accuracy is: 49.67704051673517\n",
      "train accuracy at epoch 450 is: 50.32295948326483\n",
      "test accuracy is: 49.67704051673517\n",
      "train accuracy at epoch 500 is: 50.32295948326483\n",
      "test accuracy is: 49.67704051673517\n",
      "train accuracy at epoch 550 is: 50.32295948326483\n",
      "test accuracy is: 49.67704051673517\n",
      "train accuracy at epoch 600 is: 50.32295948326483\n",
      "test accuracy is: 49.67704051673517\n",
      "train accuracy at epoch 650 is: 50.32295948326483\n",
      "test accuracy is: 49.67704051673517\n",
      "train accuracy at epoch 700 is: 50.32295948326483\n",
      "test accuracy is: 49.67704051673517\n",
      "train accuracy at epoch 750 is: 50.32295948326483\n",
      "test accuracy is: 49.67704051673517\n",
      "train accuracy at epoch 800 is: 50.32295948326483\n",
      "test accuracy is: 49.67704051673517\n",
      "train accuracy at epoch 850 is: 50.32295948326483\n",
      "test accuracy is: 49.67704051673517\n",
      "train accuracy at epoch 900 is: 50.32295948326483\n",
      "test accuracy is: 49.67704051673517\n",
      "train accuracy at epoch 950 is: 50.32295948326483\n",
      "test accuracy is: 49.67704051673517\n",
      "train accuracy at epoch 1000 is: 50.32295948326483\n",
      "test accuracy is: 49.67704051673517\n",
      "train accuracy at epoch 1050 is: 50.32295948326483\n",
      "test accuracy is: 49.67704051673517\n",
      "train accuracy at epoch 1100 is: 50.32295948326483\n",
      "test accuracy is: 49.67704051673517\n",
      "train accuracy at epoch 1150 is: 50.32295948326483\n",
      "test accuracy is: 49.67704051673517\n",
      "train accuracy at epoch 1200 is: 50.32295948326483\n",
      "test accuracy is: 49.67704051673517\n",
      "train accuracy at epoch 1250 is: 50.32295948326483\n",
      "test accuracy is: 49.67704051673517\n",
      "train accuracy at epoch 1300 is: 50.32295948326483\n",
      "test accuracy is: 49.67704051673517\n",
      "train accuracy at epoch 1350 is: 50.32295948326483\n",
      "test accuracy is: 49.67704051673517\n",
      "train accuracy at epoch 1400 is: 50.32295948326483\n",
      "test accuracy is: 49.67704051673517\n",
      "train accuracy at epoch 1450 is: 50.32295948326483\n",
      "test accuracy is: 49.67704051673517\n",
      "train accuracy at epoch 1500 is: 50.32295948326483\n",
      "test accuracy is: 49.67704051673517\n"
     ]
    }
   ],
   "source": [
    "learnRate = 0.001\n",
    "np.random.seed(0)\n",
    "model = Network([n_factors, 3, 1])\n",
    "model.train(train_data, train_labels, 1501, learnRate, 0, True, test_data, test_labels)\n"
   ]
  },
  {
   "cell_type": "code",
   "execution_count": 8,
   "metadata": {},
   "outputs": [],
   "source": [
    "# testout = model.get_output().numpy()\n",
    "# testout[testout>.5] = 1\n",
    "# testout[testout<=.5] = 0\n",
    "# print(\"train\", np.sum(train_labels.numpy()))\n",
    "# print(\"test\", np.sum(test_labels.numpy()))\n",
    "# print(\"out\", np.sum(testout))\n",
    "# print(\"train acc\", (1-(np.sum(np.abs(train_labels.numpy()-testout))/len(train_labels.numpy())))\n",
    "#      )\n",
    "# print(\"test acc\", (1-(np.sum(np.abs(test_labels.numpy()-testout))/len(test_labels.numpy())))\n",
    "#      )\n"
   ]
  },
  {
   "cell_type": "code",
   "execution_count": 9,
   "metadata": {
    "scrolled": true
   },
   "outputs": [
    {
     "data": {
      "image/png": "[encoded data removed]",
      "text/plain": [
       "<Figure size 432x288 with 1 Axes>"
      ]
     },
     "metadata": {
      "needs_background": "light"
     },
     "output_type": "display_data"
    }
   ],
   "source": [
    "# print(model.losses)\n",
    "plt.plot(model.losses, label=\"loss\")\n",
    "plt.plot(model.train_accuracies, label=\"Train\", marker=\".\")\n",
    "plt.plot(model.test_num, model.test_accuracies, label=\"Test\", marker=\".\")\n",
    "plt.xlabel(\"Epoch\")\n",
    "plt.ylabel(\"Network Accuracy (%)\")\n",
    "plt.title(\"Network Accuracy per Epoch\")\n",
    "plt.legend()\n",
    "plt.show()"
   ]
  },
  {
   "cell_type": "code",
   "execution_count": 10,
   "metadata": {},
   "outputs": [
    {
     "data": {
      "text/plain": [
       "[<matplotlib.lines.Line2D at 0x12924f898>]"
      ]
     },
     "execution_count": 10,
     "metadata": {},
     "output_type": "execute_result"
    },
    {
     "data": {
      "image/png": "[encoded data removed]",
      "text/plain": [
       "<Figure size 432x288 with 1 Axes>"
      ]
     },
     "metadata": {
      "needs_background": "light"
     },
     "output_type": "display_data"
    }
   ],
   "source": [
    "plt.plot(model.losses)"
   ]
  },
  {
   "cell_type": "code",
   "execution_count": 11,
   "metadata": {},
   "outputs": [
    {
     "data": {
      "text/plain": [
       "[<matplotlib.lines.Line2D at 0x1288c0ef0>]"
      ]
     },
     "execution_count": 11,
     "metadata": {},
     "output_type": "execute_result"
    },
    {
     "data": {
      "image/png": "[encoded data removed]",
      "text/plain": [
       "<Figure size 432x288 with 1 Axes>"
      ]
     },
     "metadata": {
      "needs_background": "light"
     },
     "output_type": "display_data"
    }
   ],
   "source": [
    "plt.plot(model.train_accuracies, label=\"Train\", color=\"orange\")\n"
   ]
  },
  {
   "cell_type": "code",
   "execution_count": 12,
   "metadata": {},
   "outputs": [
    {
     "data": {
      "text/plain": [
       "[<matplotlib.lines.Line2D at 0x10fcd6710>]"
      ]
     },
     "execution_count": 12,
     "metadata": {},
     "output_type": "execute_result"
    },
    {
     "data": {
      "image/png": "[encoded data removed]",
      "text/plain": [
       "<Figure size 432x288 with 1 Axes>"
      ]
     },
     "metadata": {
      "needs_background": "light"
     },
     "output_type": "display_data"
    }
   ],
   "source": [
    "plt.plot(model.weight_change)"
   ]
  },
  {
   "cell_type": "code",
   "execution_count": 13,
   "metadata": {},
   "outputs": [
    {
     "name": "stdout",
     "output_type": "stream",
     "text": [
      "2\n",
      "[tensor([[-1.1962e-05, -1.1962e-05, -1.1962e-05]]), tensor([[-0.0942],\n",
      "        [-0.0942],\n",
      "        [-0.0942]])]\n"
     ]
    }
   ],
   "source": [
    "print(len(model.weights))\n",
    "print(model.weights)"
   ]
  },
  {
   "cell_type": "code",
   "execution_count": 14,
   "metadata": {},
   "outputs": [
    {
     "name": "stdout",
     "output_type": "stream",
     "text": [
      "[tensor([[-0.2201, -0.2201, -0.2201]]), tensor([[-3.1423]])]\n"
     ]
    }
   ],
   "source": [
    "print(model.biases)"
   ]
  },
  {
   "cell_type": "code",
   "execution_count": 15,
   "metadata": {},
   "outputs": [
    {
     "name": "stdout",
     "output_type": "stream",
     "text": [
      "[tensor([[0.4452, 0.4452, 0.4452],\n",
      "        [0.4452, 0.4452, 0.4452],\n",
      "        [0.4452, 0.4452, 0.4452],\n",
      "        ...,\n",
      "        [0.4452, 0.4452, 0.4452],\n",
      "        [0.4452, 0.4452, 0.4452],\n",
      "        [0.4452, 0.4452, 0.4452]]), tensor([[0.0368],\n",
      "        [0.0368],\n",
      "        [0.0368],\n",
      "        ...,\n",
      "        [0.0368],\n",
      "        [0.0368],\n",
      "        [0.0368]])]\n"
     ]
    }
   ],
   "source": [
    "print(model.layers)"
   ]
  },
  {
   "cell_type": "code",
   "execution_count": 17,
   "metadata": {},
   "outputs": [
    {
     "data": {
      "text/plain": [
       "tensor([[0.0368],\n",
       "        [0.0368],\n",
       "        [0.0368],\n",
       "        ...,\n",
       "        [0.0368],\n",
       "        [0.0368],\n",
       "        [0.0368]])"
      ]
     },
     "execution_count": 17,
     "metadata": {},
     "output_type": "execute_result"
    }
   ],
   "source": [
    "model.get_output()"
   ]
  },
  {
   "cell_type": "code",
   "execution_count": null,
   "metadata": {},
   "outputs": [],
   "source": []
  }
 ],
 "metadata": {
  "kernelspec": {
   "display_name": "eulerspython",
   "language": "python",
   "name": "eulerspython"
  },
  "language_info": {
   "codemirror_mode": {
    "name": "ipython",
    "version": 3
   },
   "file_extension": ".py",
   "mimetype": "text/x-python",
   "name": "python",
   "nbconvert_exporter": "python",
   "pygments_lexer": "ipython3",
   "version": "3.6.5"
  }
 },
 "nbformat": 4,
 "nbformat_minor": 2
}
