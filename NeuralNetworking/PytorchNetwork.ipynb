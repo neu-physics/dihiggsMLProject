{
 "cells": [
  {
   "cell_type": "code",
   "execution_count": 1,
   "metadata": {},
   "outputs": [],
   "source": [
    "import numpy as np\n",
    "from sklearn.model_selection import train_test_split\n",
    "import matplotlib\n",
    "from matplotlib import pyplot as plt\n",
    "import pandas as pd\n",
    "from network import Network\n",
    "import torch\n"
   ]
  },
  {
   "cell_type": "code",
   "execution_count": 2,
   "metadata": {},
   "outputs": [
    {
     "name": "stdout",
     "output_type": "stream",
     "text": [
      "1703 rows of qcd data\n",
      "4605 rows of dihiggs data\n",
      "12\n"
     ]
    }
   ],
   "source": [
    "# Import Dataset\n",
    "qcd_raw = pd.read_csv('../HiggsReconstruction/EventPlotting/qcd_outputDataForLearning.csv')\n",
    "hh_raw = pd.read_csv('../HiggsReconstruction/EventPlotting/dihiggs_outputDataForLearning.csv')\n",
    "\n",
    "qcd_raw.head()\n",
    "print(len(qcd_raw), \"rows of qcd data\")\n",
    "hh_raw.head()\n",
    "print(len(hh_raw), \"rows of dihiggs data\")\n",
    "\n",
    "# Make higgs and qcd sets from raw data\n",
    "hh_all = hh_raw[['h1_mass', 'h2_mass', 'deltaR(h1 jets)', 'deltaR(h2 jets)', 'jet1_pz', 'jet2_pz', 'jet3_pz', 'jet4_pz', 'jet1_energy', 'jet2_energy', 'jet3_energy', 'jet4_energy']]\n",
    "qcd = qcd_raw[['h1_mass', 'h2_mass', 'deltaR(h1 jets)', 'deltaR(h2 jets)', 'jet1_pz', 'jet2_pz', 'jet3_pz', 'jet4_pz', 'jet1_energy', 'jet2_energy', 'jet3_energy', 'jet4_energy']]\n",
    "# hh_all = hh_raw[['deltaR(h1 jets)', 'deltaR(h2 jets)']]\n",
    "# qcd = qcd_raw[['deltaR(h1 jets)', 'deltaR(h2 jets)']]\n",
    "n_factors = np.shape(hh_all)[1]\n",
    "print(n_factors)\n",
    "\n",
    "# change this for testing w dummy variables\n",
    "# n_factors = 2\n"
   ]
  },
  {
   "cell_type": "code",
   "execution_count": 3,
   "metadata": {
    "scrolled": true
   },
   "outputs": [
    {
     "data": {
      "image/png": "[encoded data removed]",
      "text/plain": [
       "<Figure size 432x288 with 1 Axes>"
      ]
     },
     "metadata": {
      "needs_background": "light"
     },
     "output_type": "display_data"
    }
   ],
   "source": [
    "plt.hist(hh_raw['h1_mass'], label=\"hh\", density=1, alpha=.5, bins=np.linspace(0, 500, 100))\n",
    "plt.hist(qcd_raw['h1_mass'], label=\"qcd\", density=1, alpha=.5, bins=np.linspace(0, 500, 100))\n",
    "plt.title(\"h1_mass\")\n",
    "plt.legend()\n",
    "plt.show()"
   ]
  },
  {
   "cell_type": "code",
   "execution_count": 4,
   "metadata": {},
   "outputs": [
    {
     "name": "stdout",
     "output_type": "stream",
     "text": [
      "[[  99.52746498  123.72713519    1.83328407    2.89078642  -92.16885054\n",
      "   -68.1855941   -13.20713637  103.54359903  111.30003325   92.22963145\n",
      "    58.56126524  106.34580411    1.        ]\n",
      " [ 184.71024749   77.62334247    2.84355966    1.90858838   48.63799876\n",
      "   -70.34420944  -54.70500921 -150.86426601  142.60866778   78.07701989\n",
      "    70.50592466  156.85898016    0.        ]\n",
      " [  30.47812488   17.83909044    0.69238905    0.53948599   79.07079113\n",
      "    13.86882319   36.25700422   13.61031336   97.33674613   31.41294151\n",
      "    49.24614827   28.33270864    1.        ]\n",
      " [ 117.01806102   90.17471759    2.65217628    2.29208081  400.11881291\n",
      "    94.73165446 -103.36041871   -4.30163383  409.45421633  102.31305014\n",
      "   128.70287746   27.00732621    1.        ]]\n",
      "[[1.]\n",
      " [0.]\n",
      " [1.]\n",
      " [1.]]\n"
     ]
    }
   ],
   "source": [
    "hh_all = np.array(hh_all)\n",
    "qcd = np.array(qcd)\n",
    "\n",
    "# add labels to di-higgs\n",
    "hh_all=hh_all[:,:n_factors]\n",
    "# # print(hh[0:3])\n",
    "hh_labels= np.zeros((len(hh_all),1))\n",
    "hh_labels = hh_labels+1\n",
    "#a = hh[:len(hh)]\n",
    "# print(a.shape)\n",
    "hh_all = np.append(hh_all, hh_labels, axis=1)\n",
    "# hh_all = np.append(hh_all, 1-hh_labels, axis=1)## hh qcd labels \n",
    "\n",
    "\n",
    "# print(hh.shape)\n",
    "# print(hh[0:3])\n",
    "\n",
    "# add labels to qcd\n",
    "qcd=qcd[:,:n_factors]\n",
    "# print(hh[0:3])\n",
    "qcd_labels= np.zeros((len(qcd),1))\n",
    "#a = hh[:len(hh)]\n",
    "# print(a.shape)\n",
    "# qcd hh labels \n",
    "qcd = np.append(qcd, qcd_labels, axis=1) \n",
    "# qcd = np.append(qcd, 1-qcd_labels, axis=1)# qcd qcd labels\n",
    "\n",
    "\n",
    "# use this for dummy variables\n",
    "# hh_all[:,0] = np.random.rand(np.shape(hh_all)[0])\n",
    "# hh_all[:,1] = np.random.rand(np.shape(hh_all)[0])\n",
    "# qcd[:, 0] = -1 * np.random.rand(np.shape(qcd)[0])\n",
    "# qcd[:, 1] = -1 * np.random.rand(np.shape(qcd)[0])\n",
    "\n",
    "# \n",
    "\n",
    "# print(hh.shape)\n",
    "# print(hh[0:3])\n",
    "# print(qcd[:4])\n",
    "\n",
    "# select a quarter of hh events so that the set is half and half\n",
    "# we shuffle the list first to take a random 1/4. this means we have a different dataset every time\n",
    "# np.random.seed(0)\n",
    "# np.random.shuffle(hh_all) \n",
    "hh = hh_all[0:len(qcd)]\n",
    "# print(hh[:4])\n",
    "# print(qcd[:4])\n",
    "\n",
    "all_data = np.append(hh,qcd, axis=0) \n",
    "all_data[:n_factors,:]\n",
    "\n",
    "np.random.seed(0)\n",
    "for i in range (4): # shuffle 4 times\n",
    "    np.random.shuffle(all_data) \n",
    "print(all_data[:4])\n",
    "all_labels = all_data[:,n_factors:]\n",
    "# for testing model resilience\n",
    "# for i in range(2):\n",
    "#     np.random.shuffle(all_labels)\n",
    "all_data = all_data[:,:n_factors]\n",
    "# print(all_data[:4])\n",
    "print(all_labels[:4])\n",
    "# print(test_data)\n",
    "# print(len(all_data))\n",
    "# print(all_labels)"
   ]
  },
  {
   "cell_type": "code",
   "execution_count": 5,
   "metadata": {},
   "outputs": [
    {
     "name": "stdout",
     "output_type": "stream",
     "text": [
      "[[ 0.13777842  0.206275    0.33357623  0.57712665 -0.05276209 -0.09349191\n",
      "  -0.01360928  0.12095912  0.06260362  0.12451174  0.03889375  0.08892334]\n",
      " [ 0.25569913  0.12941183  0.51740149  0.38103722  0.02784284 -0.09645167\n",
      "  -0.05637073 -0.17623889  0.08021398  0.10540545  0.04682686  0.13116103]\n",
      " [ 0.04219165  0.02974092  0.12598404  0.10770486  0.0452641   0.01901608\n",
      "   0.037361    0.0158995   0.0547496   0.04240806  0.03270707  0.02369101]\n",
      " [ 0.1619911   0.15033719  0.48257822  0.45759898  0.22904816  0.12989024\n",
      "  -0.10650765 -0.00502515  0.23030823  0.13812455  0.08547865  0.02258276]]\n"
     ]
    }
   ],
   "source": [
    "# scale the data by dividing it by the max value of each\n",
    "for i in range(np.shape(all_data)[1]):\n",
    "    all_data[:,i] = np.true_divide(all_data[:,i], np.max(all_data[:,i]))\n",
    "print(all_data[:4])\n"
   ]
  },
  {
   "cell_type": "code",
   "execution_count": 6,
   "metadata": {},
   "outputs": [
    {
     "name": "stdout",
     "output_type": "stream",
     "text": [
      "torch.Size([1021, 12])\n",
      "torch.Size([1703, 12])\n",
      "torch.Size([1021, 1])\n",
      "torch.Size([1703, 1])\n"
     ]
    }
   ],
   "source": [
    "# TODO: Train-Test split\n",
    "train_data, test_data, train_labels, test_labels = train_test_split(all_data, all_labels, train_size=0.3, test_size=0.5, random_state=42)\n",
    "# print(len(train_data))\n",
    "# print(train_data)\n",
    "# print(train_data.shape)\n",
    "# print(train_labels)\n",
    "train_data = torch.from_numpy(train_data)\n",
    "# train_data = torch.zeros(len(train_labels), 4)\n",
    "test_data = torch.from_numpy(test_data)\n",
    "# test_data = torch.zeros(len(test_labels), 4)\n",
    "train_labels = torch.from_numpy(train_labels)\n",
    "test_labels = torch.from_numpy(test_labels)\n",
    "\n",
    "print(train_data.shape)\n",
    "print(test_data.shape)\n",
    "print(train_labels.shape)\n",
    "print(test_labels.shape)\n",
    "\n"
   ]
  },
  {
   "cell_type": "code",
   "execution_count": 7,
   "metadata": {
    "scrolled": true
   },
   "outputs": [
    {
     "name": "stdout",
     "output_type": "stream",
     "text": [
      "train accuracy at epoch 0 is: 50.24485798237023\n",
      "test accuracy is: 50.32295948326483\n",
      "train accuracy at epoch 300 is: 60.235063663075415\n",
      "test accuracy is: 59.01350557839107\n",
      "train accuracy at epoch 600 is: 61.21449559255632\n",
      "test accuracy is: 59.659424544920725\n",
      "train accuracy at epoch 900 is: 61.60626836434868\n",
      "test accuracy is: 59.95302407516148\n",
      "train accuracy at epoch 1200 is: 52.693437806072474\n",
      "test accuracy is: 52.260716382853786\n",
      "train accuracy at epoch 1500 is: 56.12144955925563\n",
      "test accuracy is: 55.37287140340575\n",
      "train accuracy at epoch 1800 is: 56.513222331047984\n",
      "test accuracy is: 56.66470933646506\n",
      "train accuracy at epoch 2100 is: 57.296767874632714\n",
      "test accuracy is: 56.605989430416905\n",
      "train accuracy at epoch 2400 is: 58.57002938295788\n",
      "test accuracy is: 57.60422783323547\n",
      "train accuracy at epoch 2700 is: 59.25563173359451\n",
      "test accuracy is: 57.72166764533178\n",
      "train accuracy at epoch 3000 is: 59.941234084231155\n",
      "test accuracy is: 58.07398708162067\n",
      "train accuracy at epoch 3300 is: 60.430950048971596\n",
      "test accuracy is: 58.36758661186142\n",
      "train accuracy at epoch 3600 is: 60.72477962781586\n",
      "test accuracy is: 58.60246623605403\n",
      "train accuracy at epoch 3900 is: 60.920666013712044\n",
      "test accuracy is: 59.307105108631816\n",
      "train accuracy at epoch 4200 is: 61.70421155729677\n",
      "test accuracy is: 59.77686435701703\n",
      "train accuracy at epoch 4500 is: 62.19392752203722\n",
      "test accuracy is: 59.95302407516148\n",
      "train accuracy at epoch 4800 is: 62.48775710088149\n",
      "test accuracy is: 60.481503229594836\n",
      "train accuracy at epoch 5100 is: 62.48775710088149\n",
      "test accuracy is: 60.481503229594836\n",
      "train accuracy at epoch 5400 is: 62.48775710088149\n",
      "test accuracy is: 60.71638285378743\n",
      "train accuracy at epoch 5700 is: 62.48775710088149\n",
      "test accuracy is: 60.65766294773929\n",
      "train accuracy at epoch 6000 is: 62.781586679725756\n",
      "test accuracy is: 60.83382266588373\n",
      "train accuracy at epoch 6300 is: 62.977473065621936\n",
      "test accuracy is: 61.06870229007634\n",
      "train accuracy at epoch 6600 is: 63.66307541625857\n",
      "test accuracy is: 61.479741632413386\n",
      "train accuracy at epoch 6900 is: 63.27130264446621\n",
      "test accuracy is: 61.42102172636523\n",
      "train accuracy at epoch 7200 is: 63.07541625857003\n",
      "test accuracy is: 61.479741632413386\n",
      "train accuracy at epoch 7500 is: 63.17335945151812\n",
      "test accuracy is: 61.362301820317086\n",
      "train accuracy at epoch 7800 is: 63.27130264446621\n",
      "test accuracy is: 61.303581914268946\n"
     ]
    }
   ],
   "source": [
    "learnRate = 0.02\n",
    "np.random.seed(234)\n",
    "node_list = [n_factors, 76, 76, 1]\n",
    "old_model = Network(node_list)\n",
    "model = Network(node_list, old_model.w_initial, old_model.b_initial)\n",
    "model.train(train_data, train_labels, 7801, learnRate, 0, True, test_data, test_labels)"
   ]
  },
  {
   "cell_type": "code",
   "execution_count": 8,
   "metadata": {},
   "outputs": [],
   "source": [
    "# testout = model.get_output().numpy()\n",
    "# testout[testout>.5] = 1\n",
    "# testout[test out<=.5] = 0\n",
    "# print(\"train\", np.sum(train_labels.numpy()))\n",
    "# print(\"test\", np.sum(test_labels.numpy()))\n",
    "# print(\"out\", np.sum(testout))\n",
    "# print(\"train acc\", (1-(np.sum(np.abs(train_labels.numpy()-testout))/len(train_labels.numpy())))\n",
    "#      )\n",
    "# print(\"test acc\", (1-(np.sum(np.abs(test_labels.numpy()-testout))/len(test_labels.numpy())))\n",
    "#      )\n"
   ]
  },
  {
   "cell_type": "code",
   "execution_count": 9,
   "metadata": {
    "scrolled": false
   },
   "outputs": [
    {
     "data": {
      "image/png": "[encoded data removed]",
      "text/plain": [
       "<Figure size 432x288 with 1 Axes>"
      ]
     },
     "metadata": {
      "needs_background": "light"
     },
     "output_type": "display_data"
    }
   ],
   "source": [
    "# print(model.losses)\n",
    "plt.plot(model.losses, label=\"loss\")\n",
    "plt.plot(model.train_accuracies, label=\"Train\", alpha=0.5)\n",
    "plt.scatter(model.test_num, model.test_accuracies, label=\"Test\", marker=\".\", color=\"green\")\n",
    "plt.xlabel(\"Epoch\")\n",
    "plt.ylabel(\"Performance(%)\")\n",
    "plt.title(\"Loss and Network Accuracy per Epoch\")\n",
    "plt.legend()\n",
    "plt.ylim(0,100)\n",
    "plt.show()"
   ]
  },
  {
   "cell_type": "code",
   "execution_count": 10,
   "metadata": {},
   "outputs": [
    {
     "data": {
      "text/plain": [
       "[<matplotlib.lines.Line2D at 0x12174a160>]"
      ]
     },
     "execution_count": 10,
     "metadata": {},
     "output_type": "execute_result"
    },
    {
     "data": {
      "image/png": "[encoded data removed]",
      "text/plain": [
       "<Figure size 432x288 with 1 Axes>"
      ]
     },
     "metadata": {
      "needs_background": "light"
     },
     "output_type": "display_data"
    }
   ],
   "source": [
    "plt.plot(model.losses)"
   ]
  },
  {
   "cell_type": "code",
   "execution_count": 11,
   "metadata": {},
   "outputs": [
    {
     "data": {
      "text/plain": [
       "[<matplotlib.lines.Line2D at 0x120a804a8>]"
      ]
     },
     "execution_count": 11,
     "metadata": {},
     "output_type": "execute_result"
    },
    {
     "data": {
      "image/png": "[encoded data removed]",
      "text/plain": [
       "<Figure size 432x288 with 1 Axes>"
      ]
     },
     "metadata": {
      "needs_background": "light"
     },
     "output_type": "display_data"
    }
   ],
   "source": [
    "plt.plot(model.train_accuracies, label=\"Train\", color=\"orange\")\n"
   ]
  },
  {
   "cell_type": "code",
   "execution_count": 12,
   "metadata": {},
   "outputs": [
    {
     "data": {
      "text/plain": [
       "[<matplotlib.lines.Line2D at 0x120aeea90>]"
      ]
     },
     "execution_count": 12,
     "metadata": {},
     "output_type": "execute_result"
    },
    {
     "data": {
      "image/png": "[encoded data removed]",
      "text/plain": [
       "<Figure size 432x288 with 1 Axes>"
      ]
     },
     "metadata": {
      "needs_background": "light"
     },
     "output_type": "display_data"
    }
   ],
   "source": [
    "plt.plot(model.weight_change)"
   ]
  },
  {
   "cell_type": "code",
   "execution_count": 13,
   "metadata": {},
   "outputs": [],
   "source": [
    "# print(len(model.weights))\n",
    "# print(model.weights)"
   ]
  },
  {
   "cell_type": "code",
   "execution_count": 14,
   "metadata": {},
   "outputs": [],
   "source": [
    "# print(model.biases)"
   ]
  },
  {
   "cell_type": "code",
   "execution_count": 15,
   "metadata": {},
   "outputs": [
    {
     "name": "stdout",
     "output_type": "stream",
     "text": [
      "[tensor([[0.0379, 0.0601, 0.0391,  ..., 0.0360, 0.0289, 0.0717],\n",
      "        [0.0411, 0.0370, 0.0752,  ..., 0.0359, 0.0584, 0.0729],\n",
      "        [0.0431, 0.0751, 0.1099,  ..., 0.0178, 0.1390, 0.1064],\n",
      "        ...,\n",
      "        [0.0430, 0.0506, 0.0639,  ..., 0.0318, 0.0618, 0.0344],\n",
      "        [0.0421, 0.0652, 0.0590,  ..., 0.0200, 0.1073, 0.0705],\n",
      "        [0.0439, 0.0562, 0.0615,  ..., 0.0234, 0.0740, 0.0719]]), tensor([[0.3603, 0.5313, 0.2622,  ..., 0.3133, 0.2519, 0.3632],\n",
      "        [0.3228, 0.5224, 0.3253,  ..., 0.2765, 0.2297, 0.3382],\n",
      "        [0.3393, 0.6642, 0.3166,  ..., 0.2586, 0.1693, 0.4013],\n",
      "        ...,\n",
      "        [0.3141, 0.5181, 0.2879,  ..., 0.2811, 0.2521, 0.3246],\n",
      "        [0.3671, 0.5808, 0.2956,  ..., 0.2963, 0.2002, 0.3852],\n",
      "        [0.3483, 0.5563, 0.3171,  ..., 0.2845, 0.2105, 0.3771]]), tensor([[0.6182],\n",
      "        [0.5591],\n",
      "        [0.3450],\n",
      "        ...,\n",
      "        [0.5547],\n",
      "        [0.4185],\n",
      "        [0.5401]])]\n"
     ]
    }
   ],
   "source": [
    "print(model.layers)"
   ]
  },
  {
   "cell_type": "code",
   "execution_count": 16,
   "metadata": {},
   "outputs": [],
   "source": [
    "# out_labels = model.get_output()\n",
    "# a = out_labels[:,0]\n",
    "# # b = out_labels[:,1]\n",
    "# c = (a+b)\n",
    "# print(c)\n",
    "# print(0.7336+0.1798)\n",
    "# print(c.shape)"
   ]
  },
  {
   "cell_type": "code",
   "execution_count": 17,
   "metadata": {},
   "outputs": [
    {
     "name": "stdout",
     "output_type": "stream",
     "text": [
      "[tensor([[ 0.7854,  0.4022,  0.5940, -0.2401, -0.3445,  1.3165,  0.0000,  1.8880,\n",
      "          0.2849,  0.9435, -0.2984,  0.6350,  1.1021,  0.9477, -0.7996,  1.5141,\n",
      "         -0.8548, -0.2646,  0.5936,  1.9161, -0.2455, -0.3352, -1.6903, -0.0665,\n",
      "         -0.9349,  0.5678,  1.1146,  0.7724, -0.3066,  1.2486, -0.5767,  1.7549,\n",
      "         -0.1651,  1.5309, -0.4523,  0.8374,  1.0168,  0.1404, -0.2887, -0.7284,\n",
      "          1.2093, -0.5726,  0.2269,  0.6287, -0.8185, -0.9579,  1.5423,  0.4530,\n",
      "          0.3779,  0.0000, -0.7358, -0.8774,  0.1042, -0.1480,  0.3291, -0.7084,\n",
      "          0.4750,  2.0282,  1.1765, -0.3059,  0.5483,  0.7362,  0.0000, -0.8823,\n",
      "         -0.6973, -2.5494, -1.0303,  1.6315, -0.2775, -0.1447,  0.0935, -1.1713,\n",
      "         -1.3735, -0.9553, -0.5510, -0.1720],\n",
      "        [-1.2329,  0.2232,  1.9484,  0.5836, -1.5964,  0.2055, -0.6125,  0.3678,\n",
      "         -0.2409,  0.6814,  0.8832,  0.0000,  1.7932, -0.8711,  0.1755, -0.9519,\n",
      "          0.1835, -0.6642, -0.1721,  0.9463,  0.3890,  1.5407,  0.8505, -0.2689,\n",
      "          0.0000,  0.0000, -0.4906,  1.7581, -0.3740,  0.8514,  1.7000,  0.5274,\n",
      "          0.8575, -0.2540, -1.9941,  1.0473,  0.0000,  0.0000,  0.6374,  0.2333,\n",
      "          0.0962, -0.7966, -1.1479, -1.4701,  1.3290, -1.4618,  0.1902, -0.5685,\n",
      "         -1.1175, -0.6060,  0.9981,  0.9150, -0.5232,  0.6571, -0.4253,  0.6416,\n",
      "          0.0000, -0.1551, -0.5398, -1.5676,  1.7896, -0.7632,  0.0000, -1.3424,\n",
      "          2.1175, -1.8445, -0.4433, -1.7170,  0.0000,  0.3336, -1.2061,  0.0000,\n",
      "          0.0000,  0.0000,  0.3891,  1.3566],\n",
      "        [ 0.2791,  0.8403,  0.7155,  0.0000,  0.0947,  0.6069, -0.1804, -0.0707,\n",
      "         -0.2310,  0.0000,  0.7161, -0.8511,  0.9787,  1.1035, -0.7750, -0.2869,\n",
      "         -0.7743, -1.4973, -1.0815,  0.3881,  1.0692,  1.0473,  1.5131, -0.7501,\n",
      "          0.0000, -1.8606, -1.2710, -1.6899,  0.9953, -1.8246,  1.9429,  2.2926,\n",
      "          0.3809, -0.6633, -0.2125, -1.3713,  0.0000,  0.0000,  0.0000,  2.4953,\n",
      "          1.3568,  1.8707, -0.2289,  0.0995,  0.0000, -0.7507,  1.6037, -0.8903,\n",
      "         -1.2160,  1.3021,  0.8116,  0.0000,  0.0000,  0.0000,  1.1561, -0.5612,\n",
      "          0.0000,  0.5629, -0.2672,  0.0000,  0.6976,  0.8352,  0.0000, -0.5220,\n",
      "         -1.1625, -0.6611, -0.8464,  0.4640,  1.5214,  1.3187,  0.0000, -1.8573,\n",
      "          1.8416, -0.3382,  1.9729,  0.0000],\n",
      "        [ 0.6528,  0.2104,  0.1300, -2.0908, -0.6302,  0.6428, -0.8576,  0.2681,\n",
      "         -0.4350,  0.7030, -0.1117,  2.4447, -0.9641,  0.3508, -0.6733,  0.1346,\n",
      "          0.6598,  1.6477, -0.1723, -0.2222, -0.4488, -0.2525, -0.3772,  0.0000,\n",
      "         -0.3995, -1.6647,  0.7911, -0.6576, -1.9482,  0.0000,  0.0835, -2.3504,\n",
      "          1.2843,  0.0000, -1.1899, -2.5021,  1.8275,  0.0000,  0.0000,  1.0849,\n",
      "          0.7319,  0.0000,  0.4270, -0.7709, -1.9571, -0.8749,  0.0865,  0.8253,\n",
      "          0.3584, -0.4922,  0.4514,  0.0000, -0.7863, -1.1745,  0.0976, -0.5573,\n",
      "         -0.9035, -0.6366, -0.4288, -0.6937,  1.1311, -0.4639,  2.2652, -1.1428,\n",
      "         -0.0780, -2.5372, -0.7924, -0.7615, -1.0075,  2.3033, -0.8331, -1.6704,\n",
      "          0.3955, -0.4382,  0.7503,  1.3127],\n",
      "        [ 0.4682,  1.3130, -0.5341,  0.2140,  0.7418,  0.9104, -0.5923,  0.9174,\n",
      "          1.5066,  1.1223,  0.8147, -0.9110,  0.3524,  1.6245,  1.4134, -1.1059,\n",
      "         -1.3976, -2.0509,  0.3712,  0.6414,  0.7073,  0.9324, -0.1247,  0.3605,\n",
      "          0.0000,  0.3632, -0.9382,  0.0000,  1.4068, -0.1342,  0.4426,  0.0000,\n",
      "          0.2357,  0.0000,  0.7296,  0.2664, -0.2908, -1.3316, -0.2940, -1.2270,\n",
      "          1.0544, -0.3690,  1.1589,  0.5911,  2.5849,  0.6763,  1.0572, -0.6554,\n",
      "         -0.2261, -1.1207,  1.6955,  0.5625, -1.4334, -1.5209,  0.4183,  0.0000,\n",
      "          1.5968,  1.5896,  0.2027, -2.0957,  0.5138,  0.4440, -0.8757,  0.0000,\n",
      "         -0.3706, -0.7966,  0.0000, -0.8959,  0.2467,  1.1297, -0.5640, -0.5745,\n",
      "          1.0416, -0.7962, -1.4575,  0.8833],\n",
      "        [ 1.4870,  1.0563, -0.7148,  0.1995, -0.2075,  0.6298, -0.1288,  1.1265,\n",
      "          1.7152,  0.0752,  0.0839,  0.3143, -0.4066,  0.5005,  0.6966, -0.6697,\n",
      "         -0.3892, -0.1449,  0.3105,  0.5625, -1.1009,  1.8351,  1.4636, -1.5510,\n",
      "          0.2846, -0.6184, -0.5269,  2.3703, -0.1899,  0.5550, -0.9033, -0.1620,\n",
      "          0.7484, -0.9378,  0.8736, -0.4703,  0.9914,  1.4708,  1.1108,  0.0000,\n",
      "          0.3041,  0.4821,  0.9752, -1.7705, -1.9780, -0.9060, -1.6376,  0.5355,\n",
      "         -0.4696,  0.0000,  2.4820, -1.2467,  1.0127, -1.1208,  0.7293,  0.5020,\n",
      "          1.0275, -0.8766,  1.5555,  0.3369, -1.6533, -1.0062,  0.6358,  1.8928,\n",
      "         -0.5221, -2.4273,  1.0536, -0.6497,  0.5639,  0.4754,  1.5211,  0.7887,\n",
      "         -0.7928, -0.4101,  0.3776, -1.4495],\n",
      "        [-1.8113, -1.0837, -0.4608, -0.5982, -0.1359, -1.1195,  2.1233, -1.1833,\n",
      "          0.1568,  0.6709, -1.0811,  1.1559, -0.7585,  1.0554, -0.2526,  0.0000,\n",
      "          2.4943,  0.7041,  0.0000, -2.0078,  0.0000, -0.2204, -0.6521,  0.0000,\n",
      "         -1.3413, -1.6720,  1.3219,  1.5244,  0.0000,  0.9577, -1.0209, -0.5793,\n",
      "          0.7680, -0.7357, -0.5248, -0.0823, -1.1387,  2.3409,  0.0000,  0.0000,\n",
      "         -0.8870,  0.5132,  0.5255, -0.5011, -1.5075,  0.4873, -0.9578,  0.3363,\n",
      "         -1.3315, -0.1148,  0.3811,  0.8805, -0.2810,  0.0000, -0.4522,  0.3215,\n",
      "          0.4971,  1.5653, -0.5219,  1.7837, -1.5810,  0.0000, -1.8581, -0.2412,\n",
      "         -1.6981,  0.6818,  0.7238,  1.2621, -0.5769,  0.9149,  0.5233,  1.4651,\n",
      "          1.2063,  0.0000,  0.5866,  0.2760],\n",
      "        [-0.5573, -0.2066, -0.4634, -0.1615, -0.2121,  2.0445, -0.9359, -1.6008,\n",
      "          1.1572,  1.3488,  0.6140,  0.5999, -0.4978,  0.0000, -2.4555,  0.0000,\n",
      "         -0.9095,  0.5395, -0.6573, -0.1729,  1.2427,  0.5090,  1.8172, -1.4015,\n",
      "         -2.3998,  3.8089,  0.7542,  0.3392, -0.2279, -0.7542, -0.3052,  0.0000,\n",
      "          0.0000,  1.1691, -0.8463,  0.2376, -0.5634,  0.9698,  1.1546,  0.9513,\n",
      "          0.6498, -0.8143, -1.0293,  1.1141,  1.0570,  1.6332, -0.3242, -1.6594,\n",
      "          0.9193,  0.0000,  0.8996,  0.0000,  0.8791, -0.2262,  0.6323,  0.6604,\n",
      "          0.1325, -0.1428,  2.0278, -0.6747, -1.0513,  0.0000, -0.7322,  0.5211,\n",
      "          1.0222,  0.0000, -2.0833,  1.0918, -0.8739,  0.2553,  1.9442,  1.3476,\n",
      "          1.0659,  1.2250, -0.5724,  1.7316],\n",
      "        [ 0.9464,  0.2268,  0.1531,  0.2495,  0.3087,  0.9367,  0.4194, -0.4863,\n",
      "          1.0915,  0.0000,  1.2781,  0.7857, -2.1762, -1.0076,  0.5242,  0.6054,\n",
      "          0.0000,  0.6539,  0.0000,  1.0042,  0.9930,  0.0000, -0.2260, -0.9065,\n",
      "          0.8895, -2.2920, -1.7041,  0.0000,  0.5553, -1.6746, -0.8680,  0.0000,\n",
      "         -2.7911, -1.8583, -1.0483, -0.5262, -1.7875, -2.3524,  0.0000, -0.8904,\n",
      "          0.6955, -0.6050,  1.5045, -2.3053, -0.1306,  0.2879,  0.0000,  2.5050,\n",
      "          0.2713,  0.0000, -0.2295, -1.0371,  0.5943,  0.0000,  0.9970, -0.3124,\n",
      "          1.1151, -1.2936, -0.7398, -0.4354, -0.8257,  0.0000,  0.0000,  0.7957,\n",
      "         -1.0320,  0.8217,  0.5821,  0.2854, -0.3308, -2.5520,  0.7252, -0.8797,\n",
      "         -0.5310,  0.5835, -1.5295, -1.2776],\n",
      "        [ 0.3145, -0.6010,  1.7463, -0.2654,  0.9011, -0.2866,  1.5387, -1.2760,\n",
      "         -0.1935,  1.0914,  0.6992, -0.5797, -0.5200,  0.0000, -1.0759,  0.7109,\n",
      "          0.2744,  1.0205,  1.1140, -1.0879, -1.3540,  0.3340, -1.0335,  0.5388,\n",
      "         -0.6624, -1.3378, -0.4284,  0.1462,  0.2324,  0.2248,  0.1086,  0.7741,\n",
      "          0.3271,  0.0781,  0.6398, -0.9941, -0.2706, -0.5213, -0.4217, -0.7972,\n",
      "          1.6997,  0.4568,  0.8715, -0.3438, -0.5826,  0.1563, -0.8768,  0.1915,\n",
      "         -0.6320,  1.1007, -1.4480,  2.1900, -1.6652,  0.3810,  0.3599,  0.1332,\n",
      "          0.0000,  1.6410, -0.2740,  1.3033, -2.2495,  0.2413,  0.5263,  0.5161,\n",
      "          1.1223, -0.1300,  1.8099,  0.3265, -0.2092, -1.8957, -1.3988,  0.6702,\n",
      "         -1.6720, -0.1906,  0.9647,  0.5683],\n",
      "        [-0.7762,  1.1432, -2.1631,  0.6096, -1.7888,  0.0000,  0.0000, -0.2094,\n",
      "          1.4911,  0.0000,  0.1641,  2.1101, -1.5530,  2.0955,  0.6624,  0.6431,\n",
      "          0.5260, -0.7261, -1.0273,  0.4443,  1.6066,  0.0000,  0.2454, -0.4270,\n",
      "         -1.6326, -1.3304, -0.2200, -0.6562,  0.3198,  0.1486, -0.8197,  0.0000,\n",
      "          0.0000, -0.6459, -0.3183,  0.2553, -0.4731,  0.2851,  0.0000, -1.3638,\n",
      "         -1.2166,  0.4892, -0.6401,  0.1335,  0.9645, -0.6500,  0.8288,  0.6554,\n",
      "          0.0000,  0.0000,  0.5283, -1.9287,  1.3906,  0.0000,  1.4332, -1.0667,\n",
      "          0.0000,  1.9345, -0.3136,  0.7220,  0.0000,  0.0000, -0.7140, -0.7750,\n",
      "          0.6606,  0.6496,  0.5123, -1.8838,  0.8819,  1.8816,  0.2475,  0.0000,\n",
      "          0.4964,  1.0156,  1.0949,  0.9633],\n",
      "        [ 0.2911,  1.6218,  0.4961, -0.4926,  1.6026,  0.1989,  0.5203, -2.9592,\n",
      "          0.3289,  0.2891, -0.5082, -0.5637, -0.7375,  1.8172,  0.7852, -0.2788,\n",
      "          1.1630,  0.1084, -0.7928, -0.4207, -1.5517,  0.3618,  0.8143,  0.4389,\n",
      "          0.0000,  0.4826,  1.1983, -1.7113,  1.2851,  0.0000, -0.9996,  0.9926,\n",
      "          0.1541, -1.0024, -0.4225, -1.6150, -0.1881, -0.3137,  0.0000,  0.4492,\n",
      "         -0.0908,  0.3390,  0.4574,  1.4242,  0.0000, -0.9766,  0.8670, -0.2536,\n",
      "         -0.1875, -0.8559,  0.3220,  0.7993, -0.7090,  1.1919, -0.4675, -0.7342,\n",
      "         -1.2537,  0.7103, -0.2940, -0.2551,  0.1700,  1.3456,  0.0000,  0.0000,\n",
      "          0.8868,  0.1702, -0.9253,  1.3854, -1.3392,  0.8472,  0.8592, -1.5799,\n",
      "          1.4865,  1.2150, -0.6246,  0.4181]]), tensor([[ 1.6874,  2.2603, -1.0962,  ...,  0.4777, -0.3630,  0.1240],\n",
      "        [ 1.4742,  0.5412,  0.1816,  ..., -0.4802, -0.4748,  0.3650],\n",
      "        [-0.7621,  1.8228,  1.7207,  ..., -1.6765,  0.3008, -0.4682],\n",
      "        ...,\n",
      "        [ 1.1448,  0.5071, -0.5795,  ...,  0.7307, -1.8929,  0.0000],\n",
      "        [ 0.5718,  1.4910, -0.2906,  ...,  0.3102,  1.1207, -0.5047],\n",
      "        [ 0.0000,  1.2060, -0.7857,  ..., -0.4961, -1.2876, -0.8866]]), tensor([[-1.3859],\n",
      "        [ 0.3779],\n",
      "        [ 0.6322],\n",
      "        [ 0.5984],\n",
      "        [-0.5550],\n",
      "        [ 0.8678],\n",
      "        [ 0.0000],\n",
      "        [-0.2312],\n",
      "        [ 0.3368],\n",
      "        [-1.4192],\n",
      "        [ 0.1329],\n",
      "        [ 0.2658],\n",
      "        [ 1.4626],\n",
      "        [ 0.6354],\n",
      "        [-0.9486],\n",
      "        [-0.2618],\n",
      "        [ 0.2484],\n",
      "        [ 2.0955],\n",
      "        [-0.6421],\n",
      "        [-0.6537],\n",
      "        [-0.5087],\n",
      "        [ 1.9286],\n",
      "        [ 1.2153],\n",
      "        [ 1.2317],\n",
      "        [ 0.0846],\n",
      "        [-0.9170],\n",
      "        [ 0.0000],\n",
      "        [-1.1190],\n",
      "        [ 1.1901],\n",
      "        [ 0.0000],\n",
      "        [ 0.0000],\n",
      "        [-1.9213],\n",
      "        [ 0.3874],\n",
      "        [ 0.7423],\n",
      "        [-1.5105],\n",
      "        [-0.4713],\n",
      "        [-0.6138],\n",
      "        [ 0.6281],\n",
      "        [ 0.3871],\n",
      "        [ 1.7438],\n",
      "        [-0.1985],\n",
      "        [-0.6616],\n",
      "        [ 1.5501],\n",
      "        [ 0.2787],\n",
      "        [ 1.3102],\n",
      "        [-0.8683],\n",
      "        [ 0.7245],\n",
      "        [ 1.2998],\n",
      "        [-2.5452],\n",
      "        [ 0.0000],\n",
      "        [ 1.0114],\n",
      "        [ 0.2156],\n",
      "        [ 0.8057],\n",
      "        [ 0.8262],\n",
      "        [-0.8923],\n",
      "        [ 0.0000],\n",
      "        [ 1.3087],\n",
      "        [ 0.0000],\n",
      "        [ 0.4764],\n",
      "        [-2.0408],\n",
      "        [ 1.4582],\n",
      "        [-0.6552],\n",
      "        [ 0.6687],\n",
      "        [-0.4717],\n",
      "        [-1.7808],\n",
      "        [ 0.0000],\n",
      "        [ 0.0759],\n",
      "        [-1.3661],\n",
      "        [ 0.8644],\n",
      "        [-0.8315],\n",
      "        [-1.3089],\n",
      "        [ 0.8856],\n",
      "        [ 0.3054],\n",
      "        [ 0.6106],\n",
      "        [-0.9232],\n",
      "        [ 1.1686]])]\n"
     ]
    }
   ],
   "source": [
    "print(model.weights)"
   ]
  },
  {
   "cell_type": "code",
   "execution_count": 18,
   "metadata": {},
   "outputs": [
    {
     "name": "stdout",
     "output_type": "stream",
     "text": [
      "tensor([0.4976], dtype=torch.float64)\n"
     ]
    }
   ],
   "source": [
    "print(1-sum(train_labels)/len(train_labels))"
   ]
  },
  {
   "cell_type": "code",
   "execution_count": 19,
   "metadata": {},
   "outputs": [
    {
     "name": "stdout",
     "output_type": "stream",
     "text": [
      "tensor([[0.0528, 0.1558, 0.0953,  ..., 0.0738, 0.0781, 0.1254],\n",
      "        [0.0902, 0.2237, 0.1024,  ..., 0.1317, 0.0886, 0.0386],\n",
      "        [0.2577, 0.3008, 0.6195,  ..., 0.0883, 0.0650, 0.0708],\n",
      "        ...,\n",
      "        [0.1504, 0.1658, 0.2521,  ..., 0.0566, 0.1081, 0.0941],\n",
      "        [0.1969, 0.1645, 0.5134,  ..., 0.0564, 0.0993, 0.0209],\n",
      "        [0.1267, 0.1964, 0.3066,  ..., 0.0371, 0.0492, 0.0445]],\n",
      "       dtype=torch.float64)\n"
     ]
    }
   ],
   "source": [
    "print(train_data)"
   ]
  },
  {
   "cell_type": "code",
   "execution_count": null,
   "metadata": {},
   "outputs": [],
   "source": []
  },
  {
   "cell_type": "code",
   "execution_count": 20,
   "metadata": {},
   "outputs": [
    {
     "name": "stdout",
     "output_type": "stream",
     "text": [
      "[[0.5820493 ]\n",
      " [0.6188569 ]\n",
      " [0.36172995]\n",
      " ...\n",
      " [0.6608499 ]\n",
      " [0.57948726]\n",
      " [0.6587732 ]]\n",
      "[[1.]\n",
      " [1.]\n",
      " [0.]\n",
      " ...\n",
      " [1.]\n",
      " [1.]\n",
      " [1.]]\n",
      "tensor([0.5024], dtype=torch.float64)\n",
      "tensor([0.8394], dtype=torch.float64)\n",
      "ASDF [0.66236055]\n"
     ]
    }
   ],
   "source": [
    "\n",
    "pred = model.pred(test_data)[-1].numpy()\n",
    "actual = test_labels.numpy()\n",
    "print(pred)\n",
    "pred[pred>.5] = 1\n",
    "pred[pred<.51] = 0\n",
    "print(pred)\n",
    "\n",
    "print(sum(train_labels)/len(train_labels))\n",
    "print(sum(test_labels)/len(train_labels))\n",
    "\n",
    "print(\"ASDF\", sum(pred)/len(pred))"
   ]
  },
  {
   "cell_type": "code",
   "execution_count": null,
   "metadata": {},
   "outputs": [],
   "source": []
  },
  {
   "cell_type": "code",
   "execution_count": null,
   "metadata": {},
   "outputs": [],
   "source": []
  }
 ],
 "metadata": {
  "kernelspec": {
   "display_name": "eulerspython",
   "language": "python",
   "name": "eulerspython"
  },
  "language_info": {
   "codemirror_mode": {
    "name": "ipython",
    "version": 3
   },
   "file_extension": ".py",
   "mimetype": "text/x-python",
   "name": "python",
   "nbconvert_exporter": "python",
   "pygments_lexer": "ipython3",
   "version": "3.6.5"
  }
 },
 "nbformat": 4,
 "nbformat_minor": 2
}
