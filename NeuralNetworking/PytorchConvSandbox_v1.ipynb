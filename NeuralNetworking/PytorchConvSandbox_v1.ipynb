{
 "cells": [
  {
   "cell_type": "code",
   "execution_count": 1,
   "metadata": {},
   "outputs": [],
   "source": [
    "import torch\n",
    "import torch.nn as nn\n",
    "import torchvision.datasets as dsets\n",
    "import torchvision.transforms as transforms\n",
    "from torch.autograd import Variable\n",
    "import numpy as np\n",
    "import pandas as pd\n",
    "from sklearn.model_selection import train_test_split\n",
    "from matplotlib import pyplot as plt\n",
    "import torch.utils.data as utils\n",
    "from mpl_toolkits.mplot3d import Axes3D"
   ]
  },
  {
   "cell_type": "code",
   "execution_count": 2,
   "metadata": {},
   "outputs": [],
   "source": [
    "# makin' data\n",
    "n_factors = 13\n",
    "# data\n",
    "signal = np.random.rand(3000,n_factors)\n",
    "background = signal-.5 # 25% overlap\n",
    "\n",
    "# labels \n",
    "s_labels= np.zeros((len(signal),1))\n",
    "s_labels = s_labels+1\n",
    "signal = np.append(signal, s_labels, axis=1)   # signal signal labels\n",
    "signal = np.append(signal, 1-s_labels, axis=1) # signal background labels\n",
    "\n",
    "b_labels= np.zeros((len(background),1))\n",
    "background = np.append(background, b_labels, axis=1) \n",
    "background = np.append(background, 1-b_labels, axis=1)# qcd qcd labels\n",
    "\n",
    "all_data = np.append(signal,background, axis=0) \n",
    "np.random.seed(0)\n",
    "for i in range (4): # shuffle 4 times\n",
    "    np.random.shuffle(all_data) \n",
    "\n",
    "# print(all_data[:4])\n",
    "all_labels = all_data[:,n_factors:]\n",
    "# for testing model resilience\n",
    "# for i in range(2):\n",
    "#     np.random.shuffle(all_labels)\n",
    "all_data = all_data[:,:n_factors]\n",
    "# print(all_labels[:4])\n",
    "# print(all_data[:4])\n",
    "\n",
    "# scale the data by dividing it by the max value of each\n",
    "for i in range(np.shape(all_data)[1]):\n",
    "    all_data[:,i] = np.true_divide(all_data[:,i], np.max(all_data[:,i]))\n",
    "    \n",
    "# print(all_data[:4])"
   ]
  },
  {
   "cell_type": "code",
   "execution_count": 3,
   "metadata": {},
   "outputs": [],
   "source": [
    "train_data, test_data, train_labels, test_labels = train_test_split(all_data, all_labels, train_size=0.3, test_size=0.7, random_state=42)\n",
    "\n",
    "train_data = torch.stack([torch.Tensor(i) for i in train_data])\n",
    "train_labels = torch.stack([torch.Tensor(i) for i in train_labels])\n",
    "test_data = torch.stack([torch.Tensor(i) for i in test_data])\n",
    "test_labels = torch.stack([torch.Tensor(i) for i in test_labels])\n",
    "\n",
    "train_dataset = utils.TensorDataset(train_data, train_labels)\n",
    "test_dataset = utils.TensorDataset(test_data, test_labels)\n"
   ]
  },
  {
   "cell_type": "code",
   "execution_count": 4,
   "metadata": {},
   "outputs": [
    {
     "name": "stdout",
     "output_type": "stream",
     "text": [
      "<torch.utils.data.dataloader.DataLoader object at 0x11f2855f8>\n"
     ]
    }
   ],
   "source": [
    "train_loader = utils.DataLoader(train_dataset)\n",
    "test_loader = utils.DataLoader(test_dataset)\n",
    "print(train_loader)\n",
    "  "
   ]
  },
  {
   "cell_type": "code",
   "execution_count": 5,
   "metadata": {},
   "outputs": [],
   "source": [
    "class Net(nn.Module):\n",
    "    def __init__(self, input_size, hidden_size, num_classes):\n",
    "        super(Net, self).__init__()                    # Inherited from the parent class nn.Module\n",
    "#         self.fc1 = nn.Linear(input_size, hidden_size)  # 1st Full-Connected Layer: 784 (input data) -> 500 (hidden node)\n",
    "#         self.relu = nn.Softmax(dim=None)                          # Non-Linear ReLU Layer: max(0,x)\n",
    "#         self.relu = nn.ReLU()\n",
    "        self.relu = nn.ReLU()\n",
    "#         self.fc2 = nn.Linear(hidden_size, num_classes) # 2nd Full-Connected Layer: 500 (hidden node) -> 10 (output class)\n",
    "        self.pred = torch.Tensor()\n",
    "        self.softmax = nn.Softmax(dim=1)\n",
    "        self.fc1 = nn.Linear(input_size, hidden_size)\n",
    "        self.conv1 = nn.Conv1d(hidden_size, 1, 1, stride=1, padding=0, dilation=1, groups=1, bias=True, padding_mode='zeros')\n",
    "        self.fc2 = nn.Linear(hidden_size, num_classes)\n",
    "        \n",
    "    def forward(self, x):                              # Forward pass: stacking each layer together\n",
    "        out = self.fc1(x)\n",
    "        out = self.relu(out)\n",
    "        out = out.unsqueeze_(0)\n",
    "        out = out.expand(1, 500, 500)\n",
    "        out = out.transpose(1, 1)\n",
    "#         print(\"Shape before conv layer:\", out.shape)\n",
    "        out = self.conv1(out)\n",
    "        out = self.relu(out)\n",
    "#         print(\"Shape after relu activation\", out.shape)\n",
    "        out = out.squeeze(0)\n",
    "#         print(\"Shape after squeeze\", out.shape)\n",
    "        out = self.fc2(out)\n",
    "        out = self.softmax(out)\n",
    "        self.pred = out\n",
    "#         print(out.type)\n",
    "        return out"
   ]
  },
  {
   "cell_type": "code",
   "execution_count": 6,
   "metadata": {},
   "outputs": [],
   "source": [
    "# setting network characteristics\n",
    "input_size = n_factors       \n",
    "hidden_size = 500      # The number of nodes at the hidden layer\n",
    "num_classes = all_labels.shape[1]       # The number of output classes. In this case, from 0 to 9\n",
    "num_epochs = 5         # The number of times entire dataset is trained\n",
    "batch_size = 10000       # The size of input data took for one iteration\n",
    "learning_rate = 0.001  # The speed of convergence\n",
    "\n",
    "net = Net(input_size, hidden_size, num_classes)\n",
    "criterion = nn.CrossEntropyLoss()\n",
    "optimizer = torch.optim.Adam(net.parameters(), lr=learning_rate)"
   ]
  },
  {
   "cell_type": "code",
   "execution_count": 7,
   "metadata": {},
   "outputs": [],
   "source": [
    "# enum_count = 0\n",
    "# for data, labels in enumerate(train_loader):\n",
    "#     count +=1\n",
    "# print(enum_count)\n"
   ]
  },
  {
   "cell_type": "code",
   "execution_count": 8,
   "metadata": {},
   "outputs": [
    {
     "name": "stdout",
     "output_type": "stream",
     "text": [
      "DATA SHAPE: torch.Size([1, 13])\n",
      "OUTPUT SHAPE: torch.Size([1, 2])\n",
      "Epoch [1/5], Step [100/0], Loss: 0.6765\n",
      "Epoch [1/5], Step [200/0], Loss: 0.6837\n",
      "Epoch [1/5], Step [300/0], Loss: 0.6823\n",
      "Epoch [1/5], Step [400/0], Loss: 0.7079\n",
      "Epoch [1/5], Step [500/0], Loss: 0.6831\n",
      "Epoch [1/5], Step [600/0], Loss: 0.7091\n",
      "Epoch [1/5], Step [700/0], Loss: 0.6786\n",
      "Epoch [1/5], Step [800/0], Loss: 0.6815\n",
      "Epoch [1/5], Step [900/0], Loss: 0.6993\n",
      "Epoch [1/5], Step [1000/0], Loss: 0.6941\n",
      "Epoch [1/5], Step [1100/0], Loss: 0.6767\n",
      "Epoch [1/5], Step [1200/0], Loss: 0.6789\n",
      "Epoch [1/5], Step [1300/0], Loss: 0.6872\n",
      "Epoch [1/5], Step [1400/0], Loss: 0.7024\n",
      "Epoch [1/5], Step [1500/0], Loss: 0.6848\n",
      "Epoch [1/5], Step [1600/0], Loss: 0.7031\n",
      "Epoch [1/5], Step [1700/0], Loss: 0.6864\n",
      "Epoch [1/5], Step [1800/0], Loss: 0.6884\n",
      "DATA SHAPE: torch.Size([1, 13])\n",
      "OUTPUT SHAPE: torch.Size([1, 2])\n",
      "Epoch [2/5], Step [100/0], Loss: 0.6948\n",
      "Epoch [2/5], Step [200/0], Loss: 0.7013\n",
      "Epoch [2/5], Step [300/0], Loss: 0.6990\n",
      "Epoch [2/5], Step [400/0], Loss: 0.6918\n",
      "Epoch [2/5], Step [500/0], Loss: 0.6982\n",
      "Epoch [2/5], Step [600/0], Loss: 0.6946\n",
      "Epoch [2/5], Step [700/0], Loss: 0.6921\n",
      "Epoch [2/5], Step [800/0], Loss: 0.6945\n",
      "Epoch [2/5], Step [900/0], Loss: 0.6869\n",
      "Epoch [2/5], Step [1000/0], Loss: 0.6824\n",
      "Epoch [2/5], Step [1100/0], Loss: 0.6658\n",
      "Epoch [2/5], Step [1200/0], Loss: 0.6685\n",
      "Epoch [2/5], Step [1300/0], Loss: 0.6772\n",
      "Epoch [2/5], Step [1400/0], Loss: 0.7122\n",
      "Epoch [2/5], Step [1500/0], Loss: 0.6757\n",
      "Epoch [2/5], Step [1600/0], Loss: 0.7120\n",
      "Epoch [2/5], Step [1700/0], Loss: 0.6782\n",
      "Epoch [2/5], Step [1800/0], Loss: 0.6806\n",
      "DATA SHAPE: torch.Size([1, 13])\n",
      "OUTPUT SHAPE: torch.Size([1, 2])\n",
      "Epoch [3/5], Step [100/0], Loss: 0.7024\n",
      "Epoch [3/5], Step [200/0], Loss: 0.7085\n",
      "Epoch [3/5], Step [300/0], Loss: 0.7058\n",
      "Epoch [3/5], Step [400/0], Loss: 0.6854\n",
      "Epoch [3/5], Step [500/0], Loss: 0.7044\n",
      "Epoch [3/5], Step [600/0], Loss: 0.6888\n",
      "Epoch [3/5], Step [700/0], Loss: 0.6977\n",
      "Epoch [3/5], Step [800/0], Loss: 0.6998\n",
      "Epoch [3/5], Step [900/0], Loss: 0.6819\n",
      "Epoch [3/5], Step [1000/0], Loss: 0.6777\n",
      "Epoch [3/5], Step [1100/0], Loss: 0.6614\n",
      "Epoch [3/5], Step [1200/0], Loss: 0.6643\n",
      "Epoch [3/5], Step [1300/0], Loss: 0.6731\n",
      "Epoch [3/5], Step [1400/0], Loss: 0.7162\n",
      "Epoch [3/5], Step [1500/0], Loss: 0.6721\n",
      "Epoch [3/5], Step [1600/0], Loss: 0.7156\n",
      "Epoch [3/5], Step [1700/0], Loss: 0.6749\n",
      "Epoch [3/5], Step [1800/0], Loss: 0.6774\n",
      "DATA SHAPE: torch.Size([1, 13])\n",
      "OUTPUT SHAPE: torch.Size([1, 2])\n",
      "Epoch [4/5], Step [100/0], Loss: 0.7055\n",
      "Epoch [4/5], Step [200/0], Loss: 0.7114\n",
      "Epoch [4/5], Step [300/0], Loss: 0.7086\n",
      "Epoch [4/5], Step [400/0], Loss: 0.6828\n",
      "Epoch [4/5], Step [500/0], Loss: 0.7069\n",
      "Epoch [4/5], Step [600/0], Loss: 0.6864\n",
      "Epoch [4/5], Step [700/0], Loss: 0.7000\n",
      "Epoch [4/5], Step [800/0], Loss: 0.7019\n",
      "Epoch [4/5], Step [900/0], Loss: 0.6799\n",
      "Epoch [4/5], Step [1000/0], Loss: 0.6758\n",
      "Epoch [4/5], Step [1100/0], Loss: 0.6596\n",
      "Epoch [4/5], Step [1200/0], Loss: 0.6626\n",
      "Epoch [4/5], Step [1300/0], Loss: 0.6715\n",
      "Epoch [4/5], Step [1400/0], Loss: 0.7178\n",
      "Epoch [4/5], Step [1500/0], Loss: 0.6706\n",
      "Epoch [4/5], Step [1600/0], Loss: 0.7171\n",
      "Epoch [4/5], Step [1700/0], Loss: 0.6736\n",
      "Epoch [4/5], Step [1800/0], Loss: 0.6762\n",
      "DATA SHAPE: torch.Size([1, 13])\n",
      "OUTPUT SHAPE: torch.Size([1, 2])\n",
      "Epoch [5/5], Step [100/0], Loss: 0.7067\n",
      "Epoch [5/5], Step [200/0], Loss: 0.7126\n",
      "Epoch [5/5], Step [300/0], Loss: 0.7098\n",
      "Epoch [5/5], Step [400/0], Loss: 0.6818\n",
      "Epoch [5/5], Step [500/0], Loss: 0.7080\n",
      "Epoch [5/5], Step [600/0], Loss: 0.6854\n",
      "Epoch [5/5], Step [700/0], Loss: 0.7009\n",
      "Epoch [5/5], Step [800/0], Loss: 0.7028\n",
      "Epoch [5/5], Step [900/0], Loss: 0.6791\n",
      "Epoch [5/5], Step [1000/0], Loss: 0.6750\n",
      "Epoch [5/5], Step [1100/0], Loss: 0.6589\n",
      "Epoch [5/5], Step [1200/0], Loss: 0.6619\n",
      "Epoch [5/5], Step [1300/0], Loss: 0.6708\n",
      "Epoch [5/5], Step [1400/0], Loss: 0.7185\n",
      "Epoch [5/5], Step [1500/0], Loss: 0.6700\n",
      "Epoch [5/5], Step [1600/0], Loss: 0.7177\n",
      "Epoch [5/5], Step [1700/0], Loss: 0.6730\n",
      "Epoch [5/5], Step [1800/0], Loss: 0.6756\n",
      "1800\n"
     ]
    }
   ],
   "source": [
    "for epoch in range(num_epochs):\n",
    "    for i, (data, labels) in enumerate(train_loader):   # Load a batch of images with its (index, data, class)\n",
    "        data = Variable(data)       # Convert torch tensor to Variable: change image from a vector of size 784 to a matrix of 28 x 28\n",
    "        if(i==0):\n",
    "            print(\"DATA SHAPE:\", data.shape)\n",
    "        labels = Variable(labels)\n",
    "        \n",
    "        optimizer.zero_grad()                             # Intialize the hidden weight to all zeros\n",
    "        outputs = net(data)                             # Forward pass: compute the output class given a image\n",
    "        if(i==0):\n",
    "            print(\"OUTPUT SHAPE:\", outputs.shape)\n",
    "        labels = labels.long()\n",
    "        loss = criterion(outputs, torch.max(labels, 1)[1])                 # Compute the loss: difference between the output class and the pre-given label\n",
    "        loss.backward()                                   # Backward pass: compute the weight\n",
    "        optimizer.step()                                  # Optimizer: update the weights of hidden nodes\n",
    "        \n",
    "        if (i+1) % 100 == 0:                              # Logging\n",
    "#             print(\"SMH\")\n",
    "            print('Epoch [%d/%d], Step [%d/%d], Loss: %.4f'\n",
    "                 %(epoch+1, num_epochs, i+1, len(train_dataset)/batch_size, loss.data.item()))\n",
    "print(len(train_dataset))"
   ]
  },
  {
   "cell_type": "code",
   "execution_count": 9,
   "metadata": {},
   "outputs": [
    {
     "name": "stdout",
     "output_type": "stream",
     "text": [
      "Accuracy of the network on the 10K test images: 49 %\n",
      "correct: 2083\n",
      "total: 4200.0\n"
     ]
    }
   ],
   "source": [
    "correct = 0.00\n",
    "total = 0.00\n",
    "preds_h = [] # all hh prob\n",
    "preds_q = [] # all qcd prob\n",
    "hh_pred = [] # hh prob for hh events\n",
    "hh_pred_wrong = []\n",
    "qcd_pred = [] # qcd prob for qcd events\n",
    "qcd_pred_wrong = []\n",
    "for data, labels in test_loader:\n",
    "    data = Variable(data)\n",
    "    outputs = net(data)\n",
    "    _, predicted = torch.max(outputs.data, 1)  # Choose the best class from the output: The class with the best score\n",
    "    \n",
    "#     np.append(preds, outputs[0].data.numpy())\n",
    "    preds_h.append(outputs.data[0][0].data)\n",
    "    preds_q.append(outputs.data[0][1].data)\n",
    "    if(labels[0][0].data==1): # if higgs\n",
    "        hh_pred.append(max(outputs.data[0]))\n",
    "        if(outputs.data[0][0].data<outputs.data[0][1].data):\n",
    "            hh_pred_wrong.append(outputs.data[0][1].data)\n",
    "    else:\n",
    "        qcd_pred.append(max(outputs.data[0]))\n",
    "        if(outputs.data[0][0].data>outputs.data[0][1].data):\n",
    "            qcd_pred_wrong.append(outputs.data[0][0].data)\n",
    "\n",
    "    total += labels.size(0)                    # Increment the total count\n",
    "    labels = labels.long()\n",
    "#     print((labels, 1)[1])\n",
    "    correct += (predicted == torch.max(labels, 1)[1]).sum()     # Increment the correct count\n",
    "    \n",
    "print('Accuracy of the network on the 10K test images: %d %%' % (100 * np.float(correct) / np.float(total)))\n",
    "print(\"correct:\", correct.item())\n",
    "print(\"total:\", total)      "
   ]
  },
  {
   "cell_type": "code",
   "execution_count": 10,
   "metadata": {},
   "outputs": [
    {
     "name": "stdout",
     "output_type": "stream",
     "text": [
      "0 DiHiggs events with prob less than 0\n",
      "0 DiHiggs events with prob greater than 1\n",
      "0 QCD events with prob less than 0\n",
      "0 QCD events with prob greater than 1\n"
     ]
    },
    {
     "data": {
      "image/png": "[encoded data removed]",
      "text/plain": [
       "<Figure size 432x288 with 1 Axes>"
      ]
     },
     "metadata": {
      "needs_background": "light"
     },
     "output_type": "display_data"
    },
    {
     "data": {
      "text/plain": [
       "<Figure size 432x288 with 0 Axes>"
      ]
     },
     "metadata": {},
     "output_type": "display_data"
    }
   ],
   "source": [
    "print(sum(x < 0 for x in hh_pred).item(), \"DiHiggs events with prob less than 0\")\n",
    "print(sum(x > 1 for x in hh_pred).item(), \"DiHiggs events with prob greater than 1\")\n",
    "print(sum(y < 0 for y in qcd_pred).item(), \"QCD events with prob less than 0\")\n",
    "print(sum(y > 1 for y in qcd_pred).item(), \"QCD events with prob greater than 1\")\n",
    "\n",
    "plt.hist(hh_pred, bins=np.linspace(0, 1, 100), alpha=0.375, label=\"higgs\", density=1)\n",
    "plt.hist(qcd_pred, bins=np.linspace(0, 1, 100), alpha=0.375, label=\"qcd\", density=1)\n",
    "plt.legend()\n",
    "plt.title(\"DiHiggs Probability for QCD and DiHiggs\")\n",
    "plt.xlabel(\"Score\")\n",
    "plt.ylabel(\"Relative Frequency\")\n",
    "plt.show()\n",
    "plt.clf()\n"
   ]
  },
  {
   "cell_type": "code",
   "execution_count": 11,
   "metadata": {},
   "outputs": [
    {
     "name": "stderr",
     "output_type": "stream",
     "text": [
      "/Users/annacuddeback/LHCResearch/venv/lib/python3.6/site-packages/numpy/lib/histograms.py:823: RuntimeWarning: invalid value encountered in true_divide\n",
      "  return n/db/n.sum(), bin_edges\n"
     ]
    },
    {
     "data": {
      "image/png": "[encoded data removed]",
      "text/plain": [
       "<Figure size 432x288 with 1 Axes>"
      ]
     },
     "metadata": {
      "needs_background": "light"
     },
     "output_type": "display_data"
    },
    {
     "data": {
      "text/plain": [
       "<Figure size 432x288 with 0 Axes>"
      ]
     },
     "metadata": {},
     "output_type": "display_data"
    }
   ],
   "source": [
    "plt.title(\"DiHiggs Probability for incorrectly classified QCD and DiHiggs\")\n",
    "plt.hist(hh_pred_wrong, bins=np.linspace(0, 1, 100), alpha=0.375, label=\"higgs\", density=1)\n",
    "plt.hist(qcd_pred_wrong, bins=np.linspace(0, 1, 100), alpha=0.375, label=\"qcd\", density=1)\n",
    "plt.legend()\n",
    "plt.show()\n",
    "\n",
    "plt.clf()"
   ]
  },
  {
   "cell_type": "code",
   "execution_count": 12,
   "metadata": {},
   "outputs": [
    {
     "data": {
      "image/png": "[encoded data removed]",
      "text/plain": [
       "<Figure size 432x288 with 1 Axes>"
      ]
     },
     "metadata": {
      "needs_background": "light"
     },
     "output_type": "display_data"
    }
   ],
   "source": [
    "# my_cmap = plt.cm.jet\n",
    "# my_cmap.set_under('w',1)\n",
    "\n",
    "plt.hist2d(preds_h, preds_q, 20, label=\"Frequency\")\n",
    "plt.xlabel(\"DiHiggs Probability\")\n",
    "plt.ylabel(\"QCD Probability\")\n",
    "plt.title(\"Frequency of QCD vs DiHiggs Probabilities\")\n",
    "plt.show()"
   ]
  },
  {
   "cell_type": "code",
   "execution_count": null,
   "metadata": {},
   "outputs": [],
   "source": []
  }
 ],
 "metadata": {
  "kernelspec": {
   "display_name": "eulerspython",
   "language": "python",
   "name": "eulerspython"
  },
  "language_info": {
   "codemirror_mode": {
    "name": "ipython",
    "version": 3
   },
   "file_extension": ".py",
   "mimetype": "text/x-python",
   "name": "python",
   "nbconvert_exporter": "python",
   "pygments_lexer": "ipython3",
   "version": "3.6.5"
  }
 },
 "nbformat": 4,
 "nbformat_minor": 2
}
