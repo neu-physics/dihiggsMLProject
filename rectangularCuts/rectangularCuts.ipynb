{
 "cells": [
  {
   "cell_type": "code",
   "execution_count": 59,
   "metadata": {},
   "outputs": [],
   "source": [
    "import pandas as pd\n",
    "import numpy as np\n",
    "import itertools, csv\n",
    "\n",
    "massWidth = 30 #GeV"
   ]
  },
  {
   "cell_type": "code",
   "execution_count": 60,
   "metadata": {},
   "outputs": [
    {
     "name": "stdout",
     "output_type": "stream",
     "text": [
      "4605 rows of dihiggs data\n",
      "1703 rows of qcd data\n",
      "Index(['hh_mass', 'h1_mass', 'h2_mass', 'deltaR(h1, h2)', 'deltaR(h1 jets)',\n",
      "       'deltaR(h2 jets)'],\n",
      "      dtype='object') hh_mass\n"
     ]
    },
    {
     "data": {
      "text/plain": [
       "array([[<matplotlib.axes._subplots.AxesSubplot object at 0x7f7199a869e8>]],\n",
       "      dtype=object)"
      ]
     },
     "execution_count": 60,
     "metadata": {},
     "output_type": "execute_result"
    },
    {
     "data": {
      "image/png": "[encoded data removed]",
      "text/plain": [
       "<matplotlib.figure.Figure at 0x7f719a8491d0>"
      ]
     },
     "metadata": {},
     "output_type": "display_data"
    },
    {
     "data": {
      "image/png": "[encoded data removed]",
      "text/plain": [
       "<matplotlib.figure.Figure at 0x7f719a8498d0>"
      ]
     },
     "metadata": {},
     "output_type": "display_data"
    }
   ],
   "source": [
    "# *** 0. Import Dataset\n",
    "qcd_raw = pd.read_csv('../higgsReconstruction/EventPlotting/qcd_outputDataForLearning.csv')\n",
    "hh_raw = pd.read_csv('../higgsReconstruction/EventPlotting/dihiggs_outputDataForLearning.csv')\n",
    "\n",
    "hh_raw.head()\n",
    "print(len(hh_raw), \"rows of dihiggs data\")\n",
    "#print(hh_raw.columns)\n",
    "qcd_raw.head()\n",
    "print(len(qcd_raw), \"rows of qcd data\")\n",
    "\n",
    "#variableNames = ['hh_mass', 'h1_mass', 'h2_mass']\n",
    "#variableNames = ['deltaR(h1, h2)', 'deltaR(h1 jets)', 'deltaR(h2 jets)']\n",
    "variableNames = ['hh_mass', 'h1_mass', 'h2_mass', 'deltaR(h1, h2)', 'deltaR(h1 jets)', 'deltaR(h2 jets)']\n",
    "\n",
    "hh_reducedData  = hh_raw[variableNames]\n",
    "qcd_reducedData = qcd_raw[variableNames]\n",
    "print(hh_reducedData.columns, variableNames[0])\n",
    "hh_reducedData.hist(column=variableNames[2], bins=100)\n",
    "qcd_reducedData.hist(column=variableNames[2], bins=100)\n"
   ]
  },
  {
   "cell_type": "code",
   "execution_count": 69,
   "metadata": {},
   "outputs": [],
   "source": [
    "def returnCutValueByConstantEfficiency( _variable, _signal, _background, _eff, _inequality = '>'):\n",
    "    \"\"\"return a cut value based on keeping some constant efficiency of signal\"\"\"\n",
    "\n",
    "    _bestCutValue = -1\n",
    "    _nTotalSignal =len(_signal) \n",
    "    _nTotalBackground =len(_background) \n",
    "    _cuts = []\n",
    "    \n",
    "    _minVal = int(min(min(_background), min(_signal))) if 'mass' not in _variable else int(min(min(_background), min(_signal))) - int(min(min(_background), min(_signal)))%5\n",
    "    _maxVal = int(max(max(_background), max(_signal))) if 'mass' not in _variable else int(max(max(_background), max(_signal))) - int(max(max(_background), max(_signal)))%5\n",
    "    if 'mass' in _variable:\n",
    "        #_cuts = list(range(_minVal, _maxVal, _stepSize))\n",
    "        _cuts = list(range(0, _maxVal, 5))\n",
    "        #print(_maxVal, max(_background), max(_signal))\n",
    "    elif 'deltaR' in _variable:\n",
    "        #_cuts = np.linspace(_minVal, _maxVal, 100)\n",
    "        _cuts = np.linspace(0, 5, 101)\n",
    "\n",
    "\n",
    "    for iCutValue in _cuts:\n",
    "        if _inequality == '<':\n",
    "            _nSignal = sum( value < iCutValue for value in _signal)\n",
    "            _nBackground = sum( value < iCutValue for value in _background)\n",
    "        elif _inequality == '>':\n",
    "            _nSignal = sum( value > iCutValue for value in _signal)\n",
    "            _nBackground = sum( value > iCutValue for value in _background)\n",
    "        else:\n",
    "            print(\"Unknown inequality operator {0}. EXITING\".format(_inequality))\n",
    "            return _bestCutValue, _nTotalSignal, _nTotalBackground\n",
    "        \n",
    "        # safety check to avoid division by 0\n",
    "        if _nBackground == 0:\n",
    "            continue\n",
    "        \n",
    "        if _inequality == '<':\n",
    "            if _nSignal / _nTotalSignal >= _eff:\n",
    "                _bestCutValue = iCutValue\n",
    "                return _bestCutValue, _nSignal, _nBackground\n",
    "        elif _inequality== '>':\n",
    "            if _nSignal / _nTotalSignal < _eff: # passed threshold so return previous cut\n",
    "                _nSignalBest = sum( value > _bestCutValue for value in _signal)\n",
    "                _nBackgroundBest = sum( value > _bestCutValue for value in _background)\n",
    "                return _bestCutValue, _nSignalBest, _nBackgroundBest\n",
    "            else:\n",
    "                _bestCutValue = iCutValue\n",
    "            \n",
    "    return _bestCutValue, -1, -1\n",
    "    \n",
    "    \n",
    "def returnBestCutValue( _variable, _signal, _background, _method='S/B'):\n",
    "    \"\"\"find best cut according to user-specified significance metric\"\"\"\n",
    "    \n",
    "    _bestSignificance = -1\n",
    "    _bestCutValue = -1\n",
    "    _massWidth = massWidth #GeV\n",
    "    _nTotalSignal =len(_signal) \n",
    "    _nTotalBackground =len(_background) \n",
    "    _cuts = []\n",
    "    \n",
    "    _minVal = int(min(min(sortedBackground), min(sortedSignal))) if 'mass' not in _variable else int(min(min(sortedBackground), min(sortedSignal))) - int(min(min(sortedBackground), min(sortedSignal)))%5\n",
    "    _maxVal = int(max(max(sortedBackground), max(sortedSignal))) if 'mass' not in _variable else int(max(max(sortedBackground), max(sortedSignal))) - int(max(max(sortedBackground), max(sortedSignal)))%5\n",
    "    if 'mass' in _variable:\n",
    "        _stepSize = 0.05 if 'mass' not in _variable else 5\n",
    "        _cuts = list(range(_minVal, _maxVal, _stepSize))\n",
    "    else:\n",
    "        _cuts = np.linspace(_minVal, _maxVal, 100)\n",
    "    \n",
    "    for iCutValue in _cuts:\n",
    "        if 'mass' in _variable:\n",
    "            _nSignal = sum( (value > iCutValue and value < (iCutValue+_massWidth)) for value in _signal) \n",
    "            _nBackground = sum( (value > iCutValue and value < (iCutValue+_massWidth)) for value in _background)\n",
    "        else:\n",
    "            _nSignal = sum( value < iCutValue for value in _signal)\n",
    "            _nBackground = sum( value < iCutValue for value in _background)\n",
    "\n",
    "        # temporary fix since samples with different number of events\n",
    "        #_nSignal = _nSignal / _nTotalSignal\n",
    "        #_nBackground = _nBackground / _nTotalBackground\n",
    "        _nSignal = _nSignal * (_nTotalBackground / _nTotalSignal )\n",
    "        #_nBackground = _nBackground / _nTotalBackground\n",
    "        \n",
    "        # safety check to avoid division by 0\n",
    "        if _nBackground == 0:\n",
    "            continue\n",
    "        \n",
    "        #if _method == 'S/sqrt(S+B)':\n",
    "        #    print(_nSignal, _nBackground, iCutValue, (_nSignal / np.sqrt(_nSignal + _nBackground)))\n",
    "        \n",
    "        if _method == 'S/B' and (_nSignal / _nBackground) > _bestSignificance:\n",
    "            _bestSignificance = (_nSignal / _nBackground)\n",
    "            _bestCutValue = iCutValue\n",
    "        elif _method == 'S/sqrt(B)' and (_nSignal / np.sqrt(_nBackground)) > _bestSignificance:\n",
    "            _bestSignificance = (_nSignal / np.sqrt(_nBackground))\n",
    "            _bestCutValue = iCutValue\n",
    "        elif _method == 'S/sqrt(S+B)' and (_nSignal / np.sqrt(_nSignal + _nBackground)) > _bestSignificance:\n",
    "            _bestSignificance = (_nSignal / np.sqrt(_nSignal + _nBackground))\n",
    "            _bestCutValue = iCutValue\n",
    "        \n",
    "    return _bestSignificance, _bestCutValue\n",
    "\n",
    "\n",
    "def returnSignificanceOrderedCutDict( _method, _varNames, _signalDataFrame, _backgroundDataFrame):\n",
    "    \"\"\"function to return list of cuts ordered by descending significance\"\"\"\n",
    "    \n",
    "    _orderedVariableAndCutDict = {}\n",
    "    _unprocessedVariables = _varNames\n",
    "    _signalAfterCuts = _signalDataFrame\n",
    "    _backgroundAfterCuts = _backgroundDataFrame\n",
    "    \n",
    "    while len(_unprocessedVariables)>0:\n",
    "        _iBestCut = -1\n",
    "        _iBestSignificance = -1\n",
    "        _iBestVariable = ''\n",
    "        print('iteration {0}, signal has {1} rows'.format(len(_unprocessedVariables), len(_signalAfterCuts)))\n",
    "        print('iteration {0}, background has {1} rows'.format(len(_unprocessedVariables), len(_backgroundAfterCuts)))\n",
    "        \n",
    "        for iVariable in _unprocessedVariables:\n",
    "            _sortedSignal = np.sort(_signalDataFrame[iVariable].values)\n",
    "            _sortedBackground = np.sort(_backgroundDataFrame[iVariable].values)\n",
    "            #print(_sortedSignal)\n",
    "            _tempSignificance, _tempCut = returnBestCutValue( iVariable, _sortedSignal, _sortedBackground, _method)\n",
    "            #print ( iVariable, _tempSignificance, _tempCut )\n",
    "                \n",
    "            # most significant 1D variable so far in this iteration\n",
    "            if _tempSignificance > _iBestSignificance:\n",
    "                _iBestSignificance = _tempSignificance\n",
    "                _iBestCut = _tempCut\n",
    "                _iBestVariable = iVariable\n",
    "        \n",
    "        print('Iteration {0} chose variable {1} with significance {2} at cut {3}'.format(int(len(_varNames)-len(_unprocessedVariables)), _iBestVariable, _iBestSignificance, _iBestCut))\n",
    "        _unprocessedVariables.remove(_iBestVariable)\n",
    "        _orderedVariableAndCutDict[_iBestVariable] = [_iBestCut, _iBestSignificance]\n",
    "        if 'mass' in _iBestVariable:\n",
    "            _signalAfterCuts = _signalAfterCuts[ (_signalAfterCuts[_iBestVariable] > _iBestCut) & (_signalAfterCuts[_iBestVariable]< (_iBestCut + massWidth))]\n",
    "            _backgroundAfterCuts = _backgroundAfterCuts[ (_backgroundAfterCuts[_iBestVariable] > _iBestCut) & (_backgroundAfterCuts[_iBestVariable]< (_iBestCut + massWidth))]\n",
    "        else:\n",
    "            _signalAfterCuts = _signalAfterCuts[ _signalAfterCuts[_iBestVariable] < _iBestCut ]\n",
    "            _backgroundAfterCuts = _backgroundAfterCuts[ _backgroundAfterCuts[_iBestVariable] < _iBestCut ]\n",
    "            \n",
    "    return _orderedVariableAndCutDict"
   ]
  },
  {
   "cell_type": "code",
   "execution_count": 8,
   "metadata": {},
   "outputs": [
    {
     "name": "stdout",
     "output_type": "stream",
     "text": [
      "deltaR(h1, h2) 3.6981541802388707 0.2828282828282828\n",
      "deltaR(h1, h2) 44.24970291081079 3.323232323232323\n",
      "deltaR(h1, h2) 29.482700944781083 3.818181818181818\n",
      "deltaR(h1 jets) 1.5422089772911034 1.9696969696969697\n",
      "deltaR(h1 jets) 43.241146858604495 2.5757575757575757\n",
      "deltaR(h1 jets) 29.601200756726165 3.2323232323232323\n",
      "deltaR(h2 jets) 1.1937424155329883 2.5757575757575757\n",
      "deltaR(h2 jets) 42.825355396766525 3.3333333333333335\n",
      "deltaR(h2 jets) 29.48199235448601 3.4343434343434343\n",
      "=====================================\n"
     ]
    }
   ],
   "source": [
    "for iColumn in range(0, len(hh_reducedData.columns) ):\n",
    "    varName = variableNames[iColumn]\n",
    "    sortedSignal = np.sort(hh_reducedData[varName].values)\n",
    "    sortedBackground = np.sort(qcd_reducedData[varName].values)\n",
    "    \n",
    "    bestCut, significance = returnBestCutValue( varName, sortedSignal, sortedBackground, 'S/B')\n",
    "    print ( varName, bestCut, significance )\n",
    "    bestCut, significance = returnBestCutValue( varName, sortedSignal, sortedBackground, 'S/sqrt(B)')\n",
    "    print ( varName, bestCut, significance )\n",
    "    bestCut, significance = returnBestCutValue( varName, sortedSignal, sortedBackground, 'S/sqrt(S+B)')\n",
    "    print ( varName, bestCut, significance )\n",
    "    \n",
    "print(\"=====================================\")\n",
    "    "
   ]
  },
  {
   "cell_type": "code",
   "execution_count": 9,
   "metadata": {},
   "outputs": [
    {
     "name": "stdout",
     "output_type": "stream",
     "text": [
      "iteration 3, signal has 4605 rows\n",
      "iteration 3, background has 1703 rows\n",
      "Iteration 0 chose variable deltaR(h1, h2) with significance 3.205066956207021 at cut 0.45454545454545453\n",
      "iteration 2, signal has 26 rows\n",
      "iteration 2, background has 3 rows\n",
      "Iteration 0 chose variable deltaR(h1 jets) with significance 1.5422089772911034 at cut 1.9696969696969697\n",
      "iteration 1, signal has 17 rows\n",
      "iteration 1, background has 2 rows\n",
      "Iteration 0 chose variable deltaR(h2 jets) with significance 1.1937424155329883 at cut 2.5757575757575757\n",
      "{'deltaR(h1, h2)': [0.45454545454545453, 3.205066956207021], 'deltaR(h1 jets)': [1.9696969696969697, 1.5422089772911034], 'deltaR(h2 jets)': [2.5757575757575757, 1.1937424155329883]}\n",
      "iteration 3, signal has 4605 rows\n",
      "iteration 3, background has 1703 rows\n",
      "Iteration 0 chose variable deltaR(h1, h2) with significance 44.33513291962043 at cut 3.282828282828283\n",
      "iteration 2, signal has 3881 rows\n",
      "iteration 2, background has 1048 rows\n",
      "Iteration 0 chose variable deltaR(h1 jets) with significance 43.241146858604495 at cut 2.5757575757575757\n",
      "iteration 1, signal has 3148 rows\n",
      "iteration 1, background has 636 rows\n",
      "Iteration 0 chose variable deltaR(h2 jets) with significance 42.825355396766525 at cut 3.3333333333333335\n",
      "{'deltaR(h1, h2)': [3.282828282828283, 44.33513291962043], 'deltaR(h1 jets)': [2.5757575757575757, 43.241146858604495], 'deltaR(h2 jets)': [3.3333333333333335, 42.825355396766525]}\n",
      "iteration 3, signal has 4605 rows\n",
      "iteration 3, background has 1703 rows\n",
      "Iteration 0 chose variable deltaR(h1 jets) with significance 29.601200756726165 at cut 3.2323232323232323\n",
      "iteration 2, signal has 4514 rows\n",
      "iteration 2, background has 1511 rows\n",
      "Iteration 0 chose variable deltaR(h2 jets) with significance 29.48199235448601 at cut 3.4343434343434343\n",
      "iteration 1, signal has 4421 rows\n",
      "iteration 1, background has 1370 rows\n",
      "Iteration 0 chose variable deltaR(h1, h2) with significance 29.47896249081112 at cut 3.5353535353535355\n",
      "{'deltaR(h1 jets)': [3.2323232323232323, 29.601200756726165], 'deltaR(h2 jets)': [3.4343434343434343, 29.48199235448601], 'deltaR(h1, h2)': [3.5353535353535355, 29.47896249081112]}\n"
     ]
    }
   ],
   "source": [
    "orderedCuts_SoverB = returnSignificanceOrderedCutDict( 'S/B', variableNames.copy(), hh_reducedData.copy(), qcd_reducedData.copy())\n",
    "print (orderedCuts_SoverB)\n",
    "orderedCuts_SoverSqrtB = returnSignificanceOrderedCutDict( 'S/sqrt(B)', variableNames.copy(), hh_reducedData.copy(), qcd_reducedData.copy())\n",
    "print (orderedCuts_SoverSqrtB)\n",
    "orderedCuts_SoverSqrtSB = returnSignificanceOrderedCutDict( 'S/sqrt(S+B)', variableNames.copy(), hh_reducedData.copy(), qcd_reducedData.copy())\n",
    "print (orderedCuts_SoverSqrtSB)"
   ]
  },
  {
   "cell_type": "code",
   "execution_count": 72,
   "metadata": {},
   "outputs": [],
   "source": [
    "def getCutsForSpecifiedEfficiency( _signal, _background, _eff, _inequality = '<'):\n",
    "    \"\"\"get cuts for all variables given user-specified efficency\"\"\"\n",
    "\n",
    "    print(\"========== Efficiency {0}% , Using {1} =========\".format(_eff, _inequality) )\n",
    "    for iColumn in range(0, len(_signal.columns) ):\n",
    "        varName = variableNames[iColumn]\n",
    "        sortedSignal = np.sort(_signal[varName].values)\n",
    "        sortedBackground = np.sort(_background[varName].values)\n",
    "    \n",
    "        cutVal, nSig, nBkg = returnCutValueByConstantEfficiency( varName, sortedSignal, sortedBackground, _eff, _inequality)\n",
    "        print('Cut of {4} {0} on {1} yields nSig = {2} and nBkg = {3}'.format(round(cutVal,2), varName, nSig, nBkg, _inequality))    \n",
    "    "
   ]
  },
  {
   "cell_type": "code",
   "execution_count": 73,
   "metadata": {},
   "outputs": [
    {
     "name": "stdout",
     "output_type": "stream",
     "text": [
      "========== Efficiency 0.8% , Using < =========\n",
      "Cut of < 485 on hh_mass yields nSig = 3715 and nBkg = 1089\n",
      "Cut of < 140 on h1_mass yields nSig = 3706 and nBkg = 905\n",
      "Cut of < 130 on h2_mass yields nSig = 3687 and nBkg = 1076\n",
      "Cut of < 3.25 on deltaR(h1, h2) yields nSig = 3797 and nBkg = 1012\n",
      "Cut of < 2.6 on deltaR(h1 jets) yields nSig = 3709 and nBkg = 1007\n",
      "Cut of < 2.75 on deltaR(h2 jets) yields nSig = 3749 and nBkg = 1183\n",
      "========== Efficiency 0.85% , Using < =========\n",
      "Cut of < 525 on hh_mass yields nSig = 3935 and nBkg = 1207\n",
      "Cut of < 155 on h1_mass yields nSig = 3930 and nBkg = 1044\n",
      "Cut of < 145 on h2_mass yields nSig = 3917 and nBkg = 1171\n",
      "Cut of < 3.35 on deltaR(h1, h2) yields nSig = 3992 and nBkg = 1125\n",
      "Cut of < 2.8 on deltaR(h1 jets) yields nSig = 3956 and nBkg = 1145\n",
      "Cut of < 2.9 on deltaR(h2 jets) yields nSig = 3975 and nBkg = 1273\n",
      "========== Efficiency 0.9% , Using < =========\n",
      "Cut of < 575 on hh_mass yields nSig = 4154 and nBkg = 1303\n",
      "Cut of < 175 on h1_mass yields nSig = 4145 and nBkg = 1185\n",
      "Cut of < 170 on h2_mass yields nSig = 4191 and nBkg = 1319\n",
      "Cut of < 3.5 on deltaR(h1, h2) yields nSig = 4205 and nBkg = 1258\n",
      "Cut of < 2.95 on deltaR(h1 jets) yields nSig = 4159 and nBkg = 1274\n",
      "Cut of < 3.05 on deltaR(h2 jets) yields nSig = 4177 and nBkg = 1364\n",
      "========== Efficiency 0.8% , Using > =========\n",
      "Cut of > 270 on hh_mass yields nSig = 3733 and nBkg = 1525\n",
      "Cut of > 85 on h1_mass yields nSig = 3775 and nBkg = 1242\n",
      "Cut of > 75 on h2_mass yields nSig = 3810 and nBkg = 1161\n",
      "Cut of > 2.1 on deltaR(h1, h2) yields nSig = 3722 and nBkg = 1567\n",
      "Cut of > 0.95 on deltaR(h1 jets) yields nSig = 3733 and nBkg = 1329\n",
      "Cut of > 1.1 on deltaR(h2 jets) yields nSig = 3709 and nBkg = 1229\n",
      "========== Efficiency 0.85% , Using > =========\n",
      "Cut of > 250 on hh_mass yields nSig = 3974 and nBkg = 1581\n",
      "Cut of > 80 on h1_mass yields nSig = 3963 and nBkg = 1275\n",
      "Cut of > 70 on h2_mass yields nSig = 4001 and nBkg = 1205\n",
      "Cut of > 1.85 on deltaR(h1, h2) yields nSig = 3916 and nBkg = 1598\n",
      "Cut of > 0.85 on deltaR(h1 jets) yields nSig = 3923 and nBkg = 1374\n",
      "Cut of > 1.0 on deltaR(h2 jets) yields nSig = 3919 and nBkg = 1284\n",
      "========== Efficiency 0.9% , Using > =========\n",
      "Cut of > 230 on hh_mass yields nSig = 4165 and nBkg = 1617\n",
      "Cut of > 70 on h1_mass yields nSig = 4217 and nBkg = 1332\n",
      "Cut of > 60 on h2_mass yields nSig = 4249 and nBkg = 1321\n",
      "Cut of > 1.5 on deltaR(h1, h2) yields nSig = 4163 and nBkg = 1637\n",
      "Cut of > 0.7 on deltaR(h1 jets) yields nSig = 4197 and nBkg = 1461\n",
      "Cut of > 0.85 on deltaR(h2 jets) yields nSig = 4194 and nBkg = 1367\n"
     ]
    }
   ],
   "source": [
    "getCutsForSpecifiedEfficiency(hh_reducedData, qcd_reducedData, 0.80, '<')\n",
    "getCutsForSpecifiedEfficiency(hh_reducedData, qcd_reducedData, 0.85, '<')\n",
    "getCutsForSpecifiedEfficiency(hh_reducedData, qcd_reducedData, 0.90, '<')\n",
    "\n",
    "getCutsForSpecifiedEfficiency(hh_reducedData, qcd_reducedData, 0.80, '>')\n",
    "getCutsForSpecifiedEfficiency(hh_reducedData, qcd_reducedData, 0.85, '>')\n",
    "getCutsForSpecifiedEfficiency(hh_reducedData, qcd_reducedData, 0.90, '>')"
   ]
  },
  {
   "cell_type": "code",
   "execution_count": null,
   "metadata": {},
   "outputs": [],
   "source": []
  },
  {
   "cell_type": "code",
   "execution_count": null,
   "metadata": {},
   "outputs": [],
   "source": []
  },
  {
   "cell_type": "code",
   "execution_count": null,
   "metadata": {},
   "outputs": [],
   "source": []
  },
  {
   "cell_type": "code",
   "execution_count": null,
   "metadata": {},
   "outputs": [],
   "source": []
  }
 ],
 "metadata": {
  "kernelspec": {
   "display_name": "Python 3",
   "language": "python",
   "name": "python3"
  },
  "language_info": {
   "codemirror_mode": {
    "name": "ipython",
    "version": 3
   },
   "file_extension": ".py",
   "mimetype": "text/x-python",
   "name": "python",
   "nbconvert_exporter": "python",
   "pygments_lexer": "ipython3",
   "version": "3.6.8"
  }
 },
 "nbformat": 4,
 "nbformat_minor": 2
}
