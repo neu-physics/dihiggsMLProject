{
 "cells": [
  {
   "cell_type": "code",
   "execution_count": 150,
   "metadata": {},
   "outputs": [],
   "source": [
    "import pandas as pd\n",
    "import numpy as np\n",
    "import itertools, csv\n",
    "\n",
    "massWidth = 30 #GeV"
   ]
  },
  {
   "cell_type": "code",
   "execution_count": 154,
   "metadata": {},
   "outputs": [
    {
     "name": "stdout",
     "output_type": "stream",
     "text": [
      "1703 rows of qcd data\n",
      "4605 rows of dihiggs data\n",
      "Index(['deltaR(h1, h2)', 'deltaR(h1 jets)', 'deltaR(h2 jets)'], dtype='object') deltaR(h1, h2)\n"
     ]
    },
    {
     "data": {
      "text/plain": [
       "array([[<matplotlib.axes._subplots.AxesSubplot object at 0x7fe430b0ac18>]],\n",
       "      dtype=object)"
      ]
     },
     "execution_count": 154,
     "metadata": {},
     "output_type": "execute_result"
    },
    {
     "data": {
      "image/png": "[encoded data removed]",
      "text/plain": [
       "<matplotlib.figure.Figure at 0x7fe430fd63c8>"
      ]
     },
     "metadata": {},
     "output_type": "display_data"
    },
    {
     "data": {
      "image/png": "[encoded data removed]",
      "text/plain": [
       "<matplotlib.figure.Figure at 0x7fe431196b70>"
      ]
     },
     "metadata": {},
     "output_type": "display_data"
    }
   ],
   "source": [
    "# *** 0. Import Dataset\n",
    "qcd_raw = pd.read_csv('../higgsReconstruction/EventPlotting/qcd_outputDataForLearning.csv')\n",
    "hh_raw = pd.read_csv('../higgsReconstruction/EventPlotting/dihiggs_outputDataForLearning.csv')\n",
    "\n",
    "qcd_raw.head()\n",
    "print(len(qcd_raw), \"rows of qcd data\")\n",
    "hh_raw.head()\n",
    "print(len(hh_raw), \"rows of dihiggs data\")\n",
    "#print(hh_raw.columns)\n",
    "\n",
    "#variableNames = ['hh_mass', 'h1_mass', 'h2_mass']\n",
    "variableNames = ['deltaR(h1, h2)', 'deltaR(h1 jets)', 'deltaR(h2 jets)']\n",
    "#variableNames = ['hh_mass', 'h1_mass', 'h2_mass', 'deltaR(h1, h2)', 'deltaR(h1 jets)', 'deltaR(h2 jets)']\n",
    "\n",
    "hh_reducedData  = hh_raw[variableNames]\n",
    "qcd_reducedData = qcd_raw[variableNames]\n",
    "print(hh_reducedData.columns, variableNames[0])\n",
    "hh_reducedData.hist(column=variableNames[0], bins=100)\n",
    "qcd_reducedData.hist(column=variableNames[0], bins=100)\n"
   ]
  },
  {
   "cell_type": "code",
   "execution_count": 148,
   "metadata": {},
   "outputs": [],
   "source": [
    "def returnBestCutValue( _variable, _signal, _background, _method='S/B'):\n",
    "    \"\"\"find best cut according to user-specified significance metric\"\"\"\n",
    "    \n",
    "    _bestSignificance = -1\n",
    "    _bestCutValue = -1\n",
    "    _massWidth = massWidth #GeV\n",
    "    _nTotalSignal =len(_signal) \n",
    "    _nTotalBackground =len(_background) \n",
    "    \n",
    "    _minVal = int(min(min(sortedBackground), min(sortedSignal))) if 'mass' not in _variable else int(min(min(sortedBackground), min(sortedSignal))) - int(min(min(sortedBackground), min(sortedSignal)))%5\n",
    "    _maxVal = int(max(max(sortedBackground), max(sortedSignal))) if 'mass' not in _variable else int(max(max(sortedBackground), max(sortedSignal))) - int(max(max(sortedBackground), max(sortedSignal)))%5\n",
    "    _stepSize = 0.05 if 'mass' not in _variable else 5\n",
    "    _cuts = list(range(_minVal, _maxVal, _stepSize))\n",
    "    \n",
    "    for iCutValue in _cuts:\n",
    "        if 'mass' in _variable:\n",
    "            _nSignal = sum( (value > iCutValue and value < (iCutValue+_massWidth)) for value in _signal) \n",
    "            _nBackground = sum( (value > iCutValue and value < (iCutValue+_massWidth)) for value in _background)\n",
    "        else:\n",
    "            _nSignal = sum( value < iCutValue for value in _signal)\n",
    "            _nBackground = sum( value < iCutValue for value in _background)\n",
    "\n",
    "        # temporary fix since samples with different number of events\n",
    "        _nSignal = _nSignal / _nTotalSignal\n",
    "        _nBackground = _nBackground / _nTotalBackground\n",
    "        \n",
    "        # safety check to avoid division by 0\n",
    "        if _nBackground == 0:\n",
    "            continue\n",
    "        \n",
    "        #if _method == 'S/sqrt(S+B)':\n",
    "        #    print(_nSignal, _nBackground, iCutValue, (_nSignal / np.sqrt(_nSignal + _nBackground)))\n",
    "        \n",
    "        if _method == 'S/B' and (_nSignal / _nBackground) > _bestSignificance:\n",
    "            _bestSignificance = (_nSignal / _nBackground)\n",
    "            _bestCutValue = iCutValue\n",
    "        elif _method == 'S/sqrt(B)' and (_nSignal / np.sqrt(_nBackground)) > _bestSignificance:\n",
    "            _bestSignificance = (_nSignal / np.sqrt(_nBackground))\n",
    "            _bestCutValue = iCutValue\n",
    "        elif _method == 'S/sqrt(S+B)' and (_nSignal / np.sqrt(_nSignal + _nBackground)) > _bestSignificance:\n",
    "            _bestSignificance = (_nSignal / np.sqrt(_nSignal + _nBackground))\n",
    "            _bestCutValue = iCutValue\n",
    "        \n",
    "    return _bestSignificance, _bestCutValue\n",
    "\n",
    "\n",
    "def returnSignificanceOrderedCutDict( _method, _varNames, _signalDataFrame, _backgroundDataFrame):\n",
    "    \"\"\"function to return list of cuts ordered by descending significance\"\"\"\n",
    "    \n",
    "    _orderedVariableAndCutDict = {}\n",
    "    _unprocessedVariables = _varNames\n",
    "    _signalAfterCuts = _signalDataFrame\n",
    "    _backgroundAfterCuts = _backgroundDataFrame\n",
    "    \n",
    "    while len(_unprocessedVariables)>0:\n",
    "        _iBestCut = -1\n",
    "        _iBestSignificance = -1\n",
    "        _iBestVariable = ''\n",
    "        print('iteration {0}, signal has {1} rows'.format(len(_unprocessedVariables), len(_signalAfterCuts)))\n",
    "        print('iteration {0}, background has {1} rows'.format(len(_unprocessedVariables), len(_backgroundAfterCuts)))\n",
    "        \n",
    "        for iVariable in _unprocessedVariables:\n",
    "            _sortedSignal = np.sort(_signalDataFrame[iVariable].values)\n",
    "            _sortedBackground = np.sort(_backgroundDataFrame[iVariable].values)\n",
    "            #print(_sortedSignal)\n",
    "            _tempSignificance, _tempCut = returnBestCutValue( iVariable, _sortedSignal, _sortedBackground, _method)\n",
    "            #print ( iVariable, _tempSignificance, _tempCut )\n",
    "                \n",
    "            # most significant 1D variable so far in this iteration\n",
    "            if _tempSignificance > _iBestSignificance:\n",
    "                _iBestSignificance = _tempSignificance\n",
    "                _iBestCut = _tempCut\n",
    "                _iBestVariable = iVariable\n",
    "        \n",
    "        print('Iteration {0} chose variable {1} with significance {2} at cut {3}'.format(int(len(_varNames)-len(_unprocessedVariables)), _iBestVariable, _iBestSignificance, _iBestCut))\n",
    "        _unprocessedVariables.remove(_iBestVariable)\n",
    "        _orderedVariableAndCutDict[_iBestVariable] = [_iBestCut, _iBestSignificance]\n",
    "        if 'mass' in _iBestVariable:\n",
    "            _signalAfterCuts = _signalAfterCuts[ (_signalAfterCuts[_iBestVariable] > _iBestCut) & (_signalAfterCuts[_iBestVariable]< (_iBestCut + massWidth))]\n",
    "            _backgroundAfterCuts = _backgroundAfterCuts[ (_backgroundAfterCuts[_iBestVariable] > _iBestCut) & (_backgroundAfterCuts[_iBestVariable]< (_iBestCut + massWidth))]\n",
    "        else:\n",
    "            _signalAfterCuts = _signalAfterCuts[ _signalAfterCuts[_iBestVariable] < _iBestCut ]\n",
    "            _backgroundAfterCuts = _backgroundAfterCuts[ _backgroundAfterCuts[_iBestVariable] < _iBestCut ]\n",
    "            \n",
    "    return _orderedVariableAndCutDict"
   ]
  },
  {
   "cell_type": "code",
   "execution_count": 155,
   "metadata": {},
   "outputs": [
    {
     "ename": "TypeError",
     "evalue": "'float' object cannot be interpreted as an integer",
     "output_type": "error",
     "traceback": [
      "\u001b[0;31m---------------------------------------------------------------------------\u001b[0m",
      "\u001b[0;31mTypeError\u001b[0m                                 Traceback (most recent call last)",
      "\u001b[0;32m<ipython-input-155-4c3a32bc45d1>\u001b[0m in \u001b[0;36m<module>\u001b[0;34m()\u001b[0m\n\u001b[1;32m      4\u001b[0m     \u001b[0msortedBackground\u001b[0m \u001b[0;34m=\u001b[0m \u001b[0mnp\u001b[0m\u001b[0;34m.\u001b[0m\u001b[0msort\u001b[0m\u001b[0;34m(\u001b[0m\u001b[0mqcd_reducedData\u001b[0m\u001b[0;34m[\u001b[0m\u001b[0mvarName\u001b[0m\u001b[0;34m]\u001b[0m\u001b[0;34m.\u001b[0m\u001b[0mvalues\u001b[0m\u001b[0;34m)\u001b[0m\u001b[0;34m\u001b[0m\u001b[0;34m\u001b[0m\u001b[0m\n\u001b[1;32m      5\u001b[0m \u001b[0;34m\u001b[0m\u001b[0m\n\u001b[0;32m----> 6\u001b[0;31m     \u001b[0mbestCut\u001b[0m\u001b[0;34m,\u001b[0m \u001b[0msignificance\u001b[0m \u001b[0;34m=\u001b[0m \u001b[0mreturnBestCutValue\u001b[0m\u001b[0;34m(\u001b[0m \u001b[0mvarName\u001b[0m\u001b[0;34m,\u001b[0m \u001b[0msortedSignal\u001b[0m\u001b[0;34m,\u001b[0m \u001b[0msortedBackground\u001b[0m\u001b[0;34m,\u001b[0m \u001b[0;34m'S/B'\u001b[0m\u001b[0;34m)\u001b[0m\u001b[0;34m\u001b[0m\u001b[0;34m\u001b[0m\u001b[0m\n\u001b[0m\u001b[1;32m      7\u001b[0m     \u001b[0mprint\u001b[0m \u001b[0;34m(\u001b[0m \u001b[0mvarName\u001b[0m\u001b[0;34m,\u001b[0m \u001b[0mbestCut\u001b[0m\u001b[0;34m,\u001b[0m \u001b[0msignificance\u001b[0m \u001b[0;34m)\u001b[0m\u001b[0;34m\u001b[0m\u001b[0;34m\u001b[0m\u001b[0m\n\u001b[1;32m      8\u001b[0m     \u001b[0mbestCut\u001b[0m\u001b[0;34m,\u001b[0m \u001b[0msignificance\u001b[0m \u001b[0;34m=\u001b[0m \u001b[0mreturnBestCutValue\u001b[0m\u001b[0;34m(\u001b[0m \u001b[0mvarName\u001b[0m\u001b[0;34m,\u001b[0m \u001b[0msortedSignal\u001b[0m\u001b[0;34m,\u001b[0m \u001b[0msortedBackground\u001b[0m\u001b[0;34m,\u001b[0m \u001b[0;34m'S/sqrt(B)'\u001b[0m\u001b[0;34m)\u001b[0m\u001b[0;34m\u001b[0m\u001b[0;34m\u001b[0m\u001b[0m\n",
      "\u001b[0;32m<ipython-input-148-a7db7e60ef98>\u001b[0m in \u001b[0;36mreturnBestCutValue\u001b[0;34m(_variable, _signal, _background, _method)\u001b[0m\n\u001b[1;32m     11\u001b[0m     \u001b[0m_maxVal\u001b[0m \u001b[0;34m=\u001b[0m \u001b[0mint\u001b[0m\u001b[0;34m(\u001b[0m\u001b[0mmax\u001b[0m\u001b[0;34m(\u001b[0m\u001b[0mmax\u001b[0m\u001b[0;34m(\u001b[0m\u001b[0msortedBackground\u001b[0m\u001b[0;34m)\u001b[0m\u001b[0;34m,\u001b[0m \u001b[0mmax\u001b[0m\u001b[0;34m(\u001b[0m\u001b[0msortedSignal\u001b[0m\u001b[0;34m)\u001b[0m\u001b[0;34m)\u001b[0m\u001b[0;34m)\u001b[0m \u001b[0;32mif\u001b[0m \u001b[0;34m'mass'\u001b[0m \u001b[0;32mnot\u001b[0m \u001b[0;32min\u001b[0m \u001b[0m_variable\u001b[0m \u001b[0;32melse\u001b[0m \u001b[0mint\u001b[0m\u001b[0;34m(\u001b[0m\u001b[0mmax\u001b[0m\u001b[0;34m(\u001b[0m\u001b[0mmax\u001b[0m\u001b[0;34m(\u001b[0m\u001b[0msortedBackground\u001b[0m\u001b[0;34m)\u001b[0m\u001b[0;34m,\u001b[0m \u001b[0mmax\u001b[0m\u001b[0;34m(\u001b[0m\u001b[0msortedSignal\u001b[0m\u001b[0;34m)\u001b[0m\u001b[0;34m)\u001b[0m\u001b[0;34m)\u001b[0m \u001b[0;34m-\u001b[0m \u001b[0mint\u001b[0m\u001b[0;34m(\u001b[0m\u001b[0mmax\u001b[0m\u001b[0;34m(\u001b[0m\u001b[0mmax\u001b[0m\u001b[0;34m(\u001b[0m\u001b[0msortedBackground\u001b[0m\u001b[0;34m)\u001b[0m\u001b[0;34m,\u001b[0m \u001b[0mmax\u001b[0m\u001b[0;34m(\u001b[0m\u001b[0msortedSignal\u001b[0m\u001b[0;34m)\u001b[0m\u001b[0;34m)\u001b[0m\u001b[0;34m)\u001b[0m\u001b[0;34m%\u001b[0m\u001b[0;36m5\u001b[0m\u001b[0;34m\u001b[0m\u001b[0;34m\u001b[0m\u001b[0m\n\u001b[1;32m     12\u001b[0m     \u001b[0m_stepSize\u001b[0m \u001b[0;34m=\u001b[0m \u001b[0;36m0.05\u001b[0m \u001b[0;32mif\u001b[0m \u001b[0;34m'mass'\u001b[0m \u001b[0;32mnot\u001b[0m \u001b[0;32min\u001b[0m \u001b[0m_variable\u001b[0m \u001b[0;32melse\u001b[0m \u001b[0;36m5\u001b[0m\u001b[0;34m\u001b[0m\u001b[0;34m\u001b[0m\u001b[0m\n\u001b[0;32m---> 13\u001b[0;31m     \u001b[0m_cuts\u001b[0m \u001b[0;34m=\u001b[0m \u001b[0mlist\u001b[0m\u001b[0;34m(\u001b[0m\u001b[0mrange\u001b[0m\u001b[0;34m(\u001b[0m\u001b[0m_minVal\u001b[0m\u001b[0;34m,\u001b[0m \u001b[0m_maxVal\u001b[0m\u001b[0;34m,\u001b[0m \u001b[0m_stepSize\u001b[0m\u001b[0;34m)\u001b[0m\u001b[0;34m)\u001b[0m\u001b[0;34m\u001b[0m\u001b[0;34m\u001b[0m\u001b[0m\n\u001b[0m\u001b[1;32m     14\u001b[0m \u001b[0;34m\u001b[0m\u001b[0m\n\u001b[1;32m     15\u001b[0m     \u001b[0;32mfor\u001b[0m \u001b[0miCutValue\u001b[0m \u001b[0;32min\u001b[0m \u001b[0m_cuts\u001b[0m\u001b[0;34m:\u001b[0m\u001b[0;34m\u001b[0m\u001b[0;34m\u001b[0m\u001b[0m\n",
      "\u001b[0;31mTypeError\u001b[0m: 'float' object cannot be interpreted as an integer"
     ]
    }
   ],
   "source": [
    "for iColumn in range(0, len(hh_reducedData.columns) ):\n",
    "    varName = variableNames[iColumn]\n",
    "    sortedSignal = np.sort(hh_reducedData[varName].values)\n",
    "    sortedBackground = np.sort(qcd_reducedData[varName].values)\n",
    "    \n",
    "    bestCut, significance = returnBestCutValue( varName, sortedSignal, sortedBackground, 'S/B')\n",
    "    print ( varName, bestCut, significance )\n",
    "    bestCut, significance = returnBestCutValue( varName, sortedSignal, sortedBackground, 'S/sqrt(B)')\n",
    "    print ( varName, bestCut, significance )\n",
    "    bestCut, significance = returnBestCutValue( varName, sortedSignal, sortedBackground, 'S/sqrt(S+B)')\n",
    "    print ( varName, bestCut, significance )\n",
    "    \n",
    "print(\"=====================================\")\n",
    "    "
   ]
  },
  {
   "cell_type": "code",
   "execution_count": 152,
   "metadata": {},
   "outputs": [
    {
     "name": "stdout",
     "output_type": "stream",
     "text": [
      "iteration 3, signal has 4605 rows\n",
      "iteration 3, background has 1703 rows\n",
      "Iteration 0 chose variable hh_mass with significance 3.581370364020801 at cut 190\n",
      "iteration 2, signal has 184 rows\n",
      "iteration 2, background has 19 rows\n",
      "Iteration 0 chose variable h1_mass with significance 3.151470518812255 at cut 85\n",
      "iteration 1, signal has 68 rows\n",
      "iteration 1, background has 3 rows\n",
      "Iteration 0 chose variable h2_mass with significance 2.4207239735733084 at cut 85\n",
      "{'hh_mass': [190, 3.581370364020801], 'h1_mass': [85, 3.151470518812255], 'h2_mass': [85, 2.4207239735733084]}\n",
      "iteration 3, signal has 4605 rows\n",
      "iteration 3, background has 1703 rows\n",
      "Iteration 0 chose variable h1_mass with significance 1.16976871475256 at cut 90\n",
      "iteration 2, signal has 2039 rows\n",
      "iteration 2, background has 244 rows\n",
      "Iteration 0 chose variable h2_mass with significance 1.0075090484604365 at cut 85\n",
      "iteration 1, signal has 1201 rows\n",
      "iteration 1, background has 82 rows\n",
      "Iteration 0 chose variable hh_mass with significance 0.41651627992212553 at cut 280\n",
      "{'h1_mass': [90, 1.16976871475256], 'h2_mass': [85, 1.0075090484604365], 'hh_mass': [280, 0.41651627992212553]}\n",
      "iteration 3, signal has 4605 rows\n",
      "iteration 3, background has 1703 rows\n",
      "Iteration 0 chose variable h1_mass with significance 0.5783862692362681 at cut 90\n",
      "iteration 2, signal has 2039 rows\n",
      "iteration 2, background has 244 rows\n",
      "Iteration 0 chose variable h2_mass with significance 0.5447408442634518 at cut 85\n",
      "iteration 1, signal has 1201 rows\n",
      "iteration 1, background has 82 rows\n",
      "Iteration 0 chose variable hh_mass with significance 0.2636352469795921 at cut 280\n",
      "{'h1_mass': [90, 0.5783862692362681], 'h2_mass': [85, 0.5447408442634518], 'hh_mass': [280, 0.2636352469795921]}\n"
     ]
    }
   ],
   "source": [
    "orderedCuts_SoverB = returnSignificanceOrderedCutDict( 'S/B', variableNames.copy(), hh_reducedData.copy(), qcd_reducedData.copy())\n",
    "print (orderedCuts_SoverB)\n",
    "orderedCuts_SoverSqrtB = returnSignificanceOrderedCutDict( 'S/sqrt(B)', variableNames.copy(), hh_reducedData.copy(), qcd_reducedData.copy())\n",
    "print (orderedCuts_SoverSqrtB)\n",
    "orderedCuts_SoverSqrtSB = returnSignificanceOrderedCutDict( 'S/sqrt(S+B)', variableNames.copy(), hh_reducedData.copy(), qcd_reducedData.copy())\n",
    "print (orderedCuts_SoverSqrtSB)"
   ]
  },
  {
   "cell_type": "code",
   "execution_count": 108,
   "metadata": {},
   "outputs": [
    {
     "name": "stdout",
     "output_type": "stream",
     "text": [
      "['hh_mass', 'h1_mass', 'h2_mass']\n"
     ]
    }
   ],
   "source": [
    "dir(variableNames)"
   ]
  },
  {
   "cell_type": "code",
   "execution_count": null,
   "metadata": {},
   "outputs": [],
   "source": []
  },
  {
   "cell_type": "code",
   "execution_count": null,
   "metadata": {},
   "outputs": [],
   "source": []
  },
  {
   "cell_type": "code",
   "execution_count": null,
   "metadata": {},
   "outputs": [],
   "source": []
  },
  {
   "cell_type": "code",
   "execution_count": null,
   "metadata": {},
   "outputs": [],
   "source": []
  },
  {
   "cell_type": "code",
   "execution_count": null,
   "metadata": {},
   "outputs": [],
   "source": []
  }
 ],
 "metadata": {
  "kernelspec": {
   "display_name": "Python 3",
   "language": "python",
   "name": "python3"
  },
  "language_info": {
   "codemirror_mode": {
    "name": "ipython",
    "version": 3
   },
   "file_extension": ".py",
   "mimetype": "text/x-python",
   "name": "python",
   "nbconvert_exporter": "python",
   "pygments_lexer": "ipython3",
   "version": "3.6.8"
  }
 },
 "nbformat": 4,
 "nbformat_minor": 2
}
