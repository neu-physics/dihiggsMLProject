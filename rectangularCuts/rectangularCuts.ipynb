{
 "cells": [
  {
   "cell_type": "code",
   "execution_count": 26,
   "metadata": {},
   "outputs": [],
   "source": [
    "import pandas as pd\n",
    "import numpy as np\n",
    "import itertools, csv"
   ]
  },
  {
   "cell_type": "code",
   "execution_count": 106,
   "metadata": {},
   "outputs": [
    {
     "name": "stdout",
     "output_type": "stream",
     "text": [
      "1703 rows of qcd data\n",
      "4605 rows of dihiggs data\n",
      "Index(['hh_mass', 'h1_mass', 'h2_mass'], dtype='object') hh_mass\n"
     ]
    },
    {
     "data": {
      "text/plain": [
       "array([[<matplotlib.axes._subplots.AxesSubplot object at 0x7fe4320e7ef0>]],\n",
       "      dtype=object)"
      ]
     },
     "execution_count": 106,
     "metadata": {},
     "output_type": "execute_result"
    },
    {
     "data": {
      "image/png": "[encoded data removed]",
      "text/plain": [
       "<matplotlib.figure.Figure at 0x7fe431d42550>"
      ]
     },
     "metadata": {},
     "output_type": "display_data"
    },
    {
     "data": {
      "image/png": "[encoded data removed]",
      "text/plain": [
       "<matplotlib.figure.Figure at 0x7fe431d42a90>"
      ]
     },
     "metadata": {},
     "output_type": "display_data"
    }
   ],
   "source": [
    "# *** 0. Import Dataset\n",
    "qcd_raw = pd.read_csv('../higgsReconstruction/EventPlotting/qcd_outputDataForLearning.csv')\n",
    "hh_raw = pd.read_csv('../higgsReconstruction/EventPlotting/dihiggs_outputDataForLearning.csv')\n",
    "\n",
    "qcd_raw.head()\n",
    "print(len(qcd_raw), \"rows of qcd data\")\n",
    "hh_raw.head()\n",
    "print(len(hh_raw), \"rows of dihiggs data\")\n",
    "#print(hh_raw.columns)\n",
    "\n",
    "variableNames = ['hh_mass', 'h1_mass', 'h2_mass']\n",
    "#variableNames = ['hh_mass', 'h1_mass', 'h2_mass', 'deltaR(h1, h2)', 'deltaR(h1 jets)', 'deltaR(h2 jets)']\n",
    "\n",
    "hh_reducedData  = hh_raw[variableNames]\n",
    "qcd_reducedData = qcd_raw[variableNames]\n",
    "print(hh_reducedData.columns, variableNames[0])\n",
    "hh_reducedData.hist(column='hh_mass', bins=100)\n",
    "qcd_reducedData.hist(column='hh_mass', bins=100)\n"
   ]
  },
  {
   "cell_type": "code",
   "execution_count": 123,
   "metadata": {},
   "outputs": [],
   "source": [
    "def returnBestCutValue( _variable, _signal, _background, _method='S/B'):\n",
    "    \"\"\"find best cut according to user-specified significance metric\"\"\"\n",
    "    \n",
    "    _bestSignificance = -1\n",
    "    _bestCutValue = -1\n",
    "    _massWidth = 30.0 #GeV\n",
    "    _nTotalSignal =len(_signal) \n",
    "    _nTotalBackground =len(_background) \n",
    "    \n",
    "    _cuts = list(range(int(min(min(sortedBackground), min(sortedSignal))), int(max(max(sortedBackground), max(sortedSignal))), 5))\n",
    "    \n",
    "    for iCutValue in _cuts:\n",
    "        if 'mass' in _variable:\n",
    "            _nSignal = sum( (value > iCutValue and value < (iCutValue+_massWidth)) for value in _signal) \n",
    "            _nBackground = sum( (value > iCutValue and value < (iCutValue+_massWidth)) for value in _background)\n",
    "        else:\n",
    "            _nSignal = sum( value < iCutValue for value in _signal)\n",
    "            _nBackground = sum( value < iCutValue for value in _background)\n",
    "\n",
    "        # temporary fix since samples with different number of events\n",
    "        _nSignal = _nSignal / _nTotalSignal\n",
    "        _nBackground = _nBackground / _nTotalBackground\n",
    "        \n",
    "        # safety check to avoid division by 0\n",
    "        if _nBackground == 0:\n",
    "            continue\n",
    "        \n",
    "        #if _method == 'S/sqrt(S+B)':\n",
    "        #    print(_nSignal, _nBackground, iCutValue, (_nSignal / np.sqrt(_nSignal + _nBackground)))\n",
    "        \n",
    "        if _method == 'S/B' and (_nSignal / _nBackground) > _bestSignificance:\n",
    "            _bestSignificance = (_nSignal / _nBackground)\n",
    "            _bestCutValue = iCutValue\n",
    "        elif _method == 'S/sqrt(B)' and (_nSignal / np.sqrt(_nBackground)) > _bestSignificance:\n",
    "            _bestSignificance = (_nSignal / np.sqrt(_nBackground))\n",
    "            _bestCutValue = iCutValue\n",
    "        elif _method == 'S/sqrt(S+B)' and (_nSignal / np.sqrt(_nSignal + _nBackground)) > _bestSignificance:\n",
    "            _bestSignificance = (_nSignal / np.sqrt(_nSignal + _nBackground))\n",
    "            _bestCutValue = iCutValue\n",
    "        \n",
    "    return _bestSignificance, _bestCutValue\n",
    "\n",
    "def returnSignificanceOrderedCutDict( _method, _varNames, _signalDataFrame, _backgroundDataFrame):\n",
    "    \"\"\"function to return list of cuts ordered by descending significance\"\"\"\n",
    "    \n",
    "    _orderedVariableAndCutDict = {}\n",
    "    _unprocessedVariables = _varNames\n",
    "    \n",
    "    while len(_unprocessedVariables)>0:\n",
    "        _iBestCut = -1\n",
    "        _iBestSignificance = -1\n",
    "        _iBestVariable = ''\n",
    "        \n",
    "        for iVariable in _unprocessedVariables:\n",
    "            _sortedSignal = np.sort(_signalDataFrame[iVariable].values)\n",
    "            _sortedBackground = np.sort(_backgroundDataFrame[iVariable].values)\n",
    "            #print(_sortedSignal)\n",
    "            _tempSignificance, _tempCut = returnBestCutValue( iVariable, _sortedSignal, _sortedBackground, _method)\n",
    "            #print ( iVariable, _tempSignificance, _tempCut )\n",
    "                \n",
    "            # most significant 1D variable so far in this iteration\n",
    "            if _tempSignificance > _iBestSignificance:\n",
    "                _iBestSignificance = _tempSignificance\n",
    "                _iBestCut = _tempCut\n",
    "                _iBestVariable = iVariable\n",
    "        \n",
    "        print('Iteration {0} chose variable {1} with significance {2} at cut {3}'.format(int(len(_varNames)-len(_unprocessedVariables)), _iBestVariable, _iBestSignificance, _iBestCut))\n",
    "        _unprocessedVariables.remove(_iBestVariable)\n",
    "        _orderedVariableAndCutDict[_iBestVariable] = [_iBestCut, _iBestSignificance]\n",
    "        \n",
    "    return _orderedVariableAndCutDict"
   ]
  },
  {
   "cell_type": "code",
   "execution_count": 124,
   "metadata": {},
   "outputs": [
    {
     "name": "stdout",
     "output_type": "stream",
     "text": [
      "hh_mass 3.581370364020801 190\n",
      "hh_mass 0.41651627992212553 280\n",
      "hh_mass 0.2636352469795921 280\n",
      "h1_mass 3.2024441518238733 89\n",
      "h1_mass 1.1896197668941786 89\n",
      "h1_mass 0.5803061812511153 89\n",
      "h2_mass 2.434935879497483 87\n",
      "h2_mass 1.0065299443128946 87\n",
      "h2_mass 0.5430844682055457 87\n",
      "=====================================\n"
     ]
    }
   ],
   "source": [
    "for iColumn in range(0, len(hh_reducedData.columns) ):\n",
    "    varName = variableNames[iColumn]\n",
    "    sortedSignal = np.sort(hh_reducedData[varName].values)\n",
    "    sortedBackground = np.sort(qcd_reducedData[varName].values)\n",
    "    \n",
    "    bestCut, significance = returnBestCutValue( varName, sortedSignal, sortedBackground, 'S/B')\n",
    "    print ( varName, bestCut, significance )\n",
    "    bestCut, significance = returnBestCutValue( varName, sortedSignal, sortedBackground, 'S/sqrt(B)')\n",
    "    print ( varName, bestCut, significance )\n",
    "    bestCut, significance = returnBestCutValue( varName, sortedSignal, sortedBackground, 'S/sqrt(S+B)')\n",
    "    print ( varName, bestCut, significance )\n",
    "    \n",
    "print(\"=====================================\")\n",
    "    "
   ]
  },
  {
   "cell_type": "code",
   "execution_count": 125,
   "metadata": {},
   "outputs": [
    {
     "name": "stdout",
     "output_type": "stream",
     "text": [
      "Iteration 0 chose variable hh_mass with significance 3.386730670324018 at cut 187\n",
      "Iteration 0 chose variable h1_mass with significance 3.25115989236652 at cut 87\n",
      "Iteration 0 chose variable h2_mass with significance 2.434935879497483 at cut 87\n",
      "{'hh_mass': [187, 3.386730670324018], 'h1_mass': [87, 3.25115989236652], 'h2_mass': [87, 2.434935879497483]}\n",
      "Iteration 0 chose variable h1_mass with significance 1.1947991987685098 at cut 87\n",
      "Iteration 0 chose variable h2_mass with significance 1.0065299443128946 at cut 87\n",
      "Iteration 0 chose variable hh_mass with significance 0.425209812783146 at cut 282\n",
      "{'h1_mass': [87, 1.1947991987685098], 'h2_mass': [87, 1.0065299443128946], 'hh_mass': [282, 0.425209812783146]}\n"
     ]
    }
   ],
   "source": [
    "orderedCuts_SoverB = returnSignificanceOrderedCutDict( 'S/B', variableNames.copy(), hh_reducedData, qcd_reducedData)\n",
    "print (orderedCuts_SoverB)\n",
    "orderedCuts_SoverSqrtB = returnSignificanceOrderedCutDict( 'S/sqrt(B)', variableNames.copy(), hh_reducedData, qcd_reducedData)\n",
    "print (orderedCuts_SoverSqrtB)"
   ]
  },
  {
   "cell_type": "code",
   "execution_count": 108,
   "metadata": {},
   "outputs": [
    {
     "name": "stdout",
     "output_type": "stream",
     "text": [
      "['hh_mass', 'h1_mass', 'h2_mass']\n"
     ]
    }
   ],
   "source": [
    "print(variableNames)"
   ]
  },
  {
   "cell_type": "code",
   "execution_count": 91,
   "metadata": {},
   "outputs": [],
   "source": [
    "b=a.copy()"
   ]
  },
  {
   "cell_type": "code",
   "execution_count": 93,
   "metadata": {},
   "outputs": [],
   "source": [
    "b.remove('b')"
   ]
  },
  {
   "cell_type": "code",
   "execution_count": 94,
   "metadata": {},
   "outputs": [
    {
     "data": {
      "text/plain": [
       "['a', 'b', 'c']"
      ]
     },
     "execution_count": 94,
     "metadata": {},
     "output_type": "execute_result"
    }
   ],
   "source": [
    "a"
   ]
  },
  {
   "cell_type": "code",
   "execution_count": 95,
   "metadata": {},
   "outputs": [
    {
     "data": {
      "text/plain": [
       "['a', 'c']"
      ]
     },
     "execution_count": 95,
     "metadata": {},
     "output_type": "execute_result"
    }
   ],
   "source": [
    "b"
   ]
  },
  {
   "cell_type": "code",
   "execution_count": null,
   "metadata": {},
   "outputs": [],
   "source": []
  }
 ],
 "metadata": {
  "kernelspec": {
   "display_name": "Python 3",
   "language": "python",
   "name": "python3"
  },
  "language_info": {
   "codemirror_mode": {
    "name": "ipython",
    "version": 3
   },
   "file_extension": ".py",
   "mimetype": "text/x-python",
   "name": "python",
   "nbconvert_exporter": "python",
   "pygments_lexer": "ipython3",
   "version": "3.6.8"
  }
 },
 "nbformat": 4,
 "nbformat_minor": 2
}
