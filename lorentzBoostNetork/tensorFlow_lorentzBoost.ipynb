{
 "cells": [
  {
   "cell_type": "code",
   "execution_count": null,
   "metadata": {},
   "outputs": [],
   "source": [
    "### To-Do\n",
    "# 1) plot some variables before and after normalization. how do they compare?\n",
    "# X) try batch normalization in the network? re-do step1 maybe?\n",
    "# 3) to_categorical for signal and background preds?\n",
    "# 4) grid optimization? --> dropout rate, layers, nodes, etc\n",
    "# X) k-fold validation"
   ]
  },
  {
   "cell_type": "code",
   "execution_count": 1,
   "metadata": {},
   "outputs": [
    {
     "name": "stderr",
     "output_type": "stream",
     "text": [
      "Using TensorFlow backend.\n"
     ]
    }
   ],
   "source": [
    "# Import the needed libraries\n",
    "import numpy as np\n",
    "import pandas as pd\n",
    "import matplotlib.pyplot as plt\n",
    "import tensorflow as tf\n",
    "from keras.models import Sequential\n",
    "from keras.layers import Dense, Activation, Dropout, BatchNormalization\n",
    "from keras.utils import normalize, to_categorical\n",
    "from sklearn.metrics import confusion_matrix, roc_curve, auc\n",
    "from sklearn.model_selection import StratifiedKFold\n",
    "\n",
    "from lbn import LBN, LBNLayer\n",
    "\n",
    "# Fix random seed for reproducibility\n",
    "seed = 7\n",
    "np.random.seed(seed)"
   ]
  },
  {
   "cell_type": "code",
   "execution_count": 2,
   "metadata": {},
   "outputs": [],
   "source": [
    "import sys\n",
    "sys.path.insert(0, '/home/btannenw/Desktop/ML/dihiggsMLProject/')\n",
    "from utils.commonFunctions import *"
   ]
  },
  {
   "cell_type": "code",
   "execution_count": 3,
   "metadata": {},
   "outputs": [],
   "source": [
    "#*** 1. Import data and check stuff\n",
    "testingFraction = 0.3\n",
    "\n",
    "# *** A. Import Dataset\n",
    "hh_raw, qcd_raw = importDatasets()"
   ]
  },
  {
   "cell_type": "code",
   "execution_count": 95,
   "metadata": {},
   "outputs": [
    {
     "data": {
      "text/plain": [
       "(array([3.3195e+04, 4.0870e+04, 2.5949e+04, 1.1225e+04, 3.8130e+03,\n",
       "        1.1030e+03, 2.6100e+02, 5.6000e+01, 5.0000e+00, 4.0000e+00]),\n",
       " array([ 4. ,  4.9,  5.8,  6.7,  7.6,  8.5,  9.4, 10.3, 11.2, 12.1, 13. ]),\n",
       " <a list of 10 Patch objects>)"
      ]
     },
     "execution_count": 95,
     "metadata": {},
     "output_type": "execute_result"
    },
    {
     "data": {
      "image/png": "[encoded data removed]",
      "text/plain": [
       "<Figure size 432x288 with 1 Axes>"
      ]
     },
     "metadata": {
      "needs_background": "light"
     },
     "output_type": "display_data"
    }
   ],
   "source": [
    "plt.hist(qcd_raw.nJets, bins=10)"
   ]
  },
  {
   "cell_type": "code",
   "execution_count": 4,
   "metadata": {},
   "outputs": [
    {
     "name": "stdout",
     "output_type": "stream",
     "text": [
      "N_sig = 78876 , N_bkg = 116481\n",
      "195357 rows of total data with  195357 labels [Train+Test]\n",
      "136749 rows of training data with  136749 labels [Train]\n",
      "58608 rows of testing data with  58608 labels [Test]\n"
     ]
    }
   ],
   "source": [
    "# *** 2. Make mix of dihiggs and QCD for specified variables\n",
    "jetLabels = ['1','2','3','4','5','6','7','8']\n",
    "jetVariables = ['energy', 'px', 'py', 'pz']\n",
    "variables_jetVects = ['jet{0}_{1}'.format(iJetLabel, iJetVariable) for iJetLabel in jetLabels for iJetVariable in jetVariables]\n",
    "\n",
    "# *** 2. Split testing and training\n",
    "jetVects_data_train, jetVects_data_test, jetVects_labels_train, jetVects_labels_test = makeTestTrainSamplesWithUserVariables(hh_raw, qcd_raw, variables_jetVects, testingFraction)"
   ]
  },
  {
   "cell_type": "code",
   "execution_count": 5,
   "metadata": {},
   "outputs": [
    {
     "data": {
      "text/plain": [
       "(136749, 32)"
      ]
     },
     "execution_count": 5,
     "metadata": {},
     "output_type": "execute_result"
    }
   ],
   "source": [
    "# *** 2. Create jet vector inputs\n",
    "def returnJetVectorInputsToLBN(_df, _jetType='jet', _nJets=4):\n",
    "    \n",
    "    #flattened\n",
    "    _allVectorsFlattened = None\n",
    "    _var = [_jetType+'{}_energy', _jetType+'{}_px', _jetType+'{}_py', _jetType+'{}_pz']\n",
    "    \n",
    "    for i in range(1, _nJets + 1):\n",
    "        _varN = [x.format(i) for x in _var]\n",
    "        _jetNData = _df[ _varN ].astype(np.float32)\n",
    "        _vectN = [list(x) for x in _jetNData.values]\n",
    "        \n",
    "        if _allVectorsFlattened == None:\n",
    "            _allVectorsFlattened = _vectN\n",
    "        else:\n",
    "            _allVectorsFlattened = [ x + y for x,y in zip(_allVectorsFlattened, _vectN) ]\n",
    "\n",
    "    return np.array(_allVectorsFlattened)\n",
    "    \n",
    "\n",
    "nJets = 8\n",
    "jetType = 'jet'\n",
    "trainVectorsByEvent = returnJetVectorInputsToLBN( jetVects_data_train, jetType, nJets)\n",
    "testVectorsByEvent  = returnJetVectorInputsToLBN( jetVects_data_test, jetType, nJets)\n",
    "\n",
    "trainLabelsByEvent = np.array([[0.,1.] if x ==0 else [1.,0.] for x in jetVects_labels_train.isSignal]).astype(np.float32)\n",
    "testLabelsByEvent  = np.array([[0.,1.] if x ==0 else [1.,0.] for x in jetVects_labels_test.isSignal]).astype(np.float32)\n",
    "\n",
    "#np.array(jetVects_labels_train)\n",
    "np.shape(trainVectorsByEvent)\n",
    "#np.array(trainLabelsByEvent)"
   ]
  },
  {
   "cell_type": "code",
   "execution_count": 102,
   "metadata": {},
   "outputs": [
    {
     "name": "stdout",
     "output_type": "stream",
     "text": [
      "Train on 136749 samples, validate on 58608 samples\n",
      "Epoch 1/25\n",
      "136749/136749 [==============================] - 13s 94us/sample - loss: 0.6570 - accuracy: 0.6824 - val_loss: 0.5454 - val_accuracy: 0.7121\n",
      "Epoch 2/25\n",
      "136749/136749 [==============================] - 10s 71us/sample - loss: 0.5445 - accuracy: 0.7146 - val_loss: 0.5404 - val_accuracy: 0.7157\n",
      "Epoch 3/25\n",
      "136749/136749 [==============================] - 11s 82us/sample - loss: 0.5338 - accuracy: 0.7246 - val_loss: 0.5381 - val_accuracy: 0.7239\n",
      "Epoch 4/25\n",
      "136749/136749 [==============================] - 9s 67us/sample - loss: 0.5155 - accuracy: 0.7400 - val_loss: 0.5146 - val_accuracy: 0.7401\n",
      "Epoch 5/25\n",
      "136749/136749 [==============================] - 12s 85us/sample - loss: 0.5013 - accuracy: 0.7510 - val_loss: 0.4917 - val_accuracy: 0.7589\n",
      "Epoch 6/25\n",
      "136749/136749 [==============================] - 10s 76us/sample - loss: 0.4855 - accuracy: 0.7632 - val_loss: 0.4862 - val_accuracy: 0.7616\n",
      "Epoch 7/25\n",
      "136749/136749 [==============================] - 8s 60us/sample - loss: 0.4760 - accuracy: 0.7703 - val_loss: 0.4762 - val_accuracy: 0.7702\n",
      "Epoch 8/25\n",
      "136749/136749 [==============================] - 9s 63us/sample - loss: 0.4682 - accuracy: 0.7751 - val_loss: 0.4650 - val_accuracy: 0.7763\n",
      "Epoch 9/25\n",
      "136749/136749 [==============================] - 12s 85us/sample - loss: 0.4597 - accuracy: 0.7818 - val_loss: 0.4613 - val_accuracy: 0.7812\n",
      "Epoch 10/25\n",
      "136749/136749 [==============================] - 11s 84us/sample - loss: 0.4550 - accuracy: 0.7853 - val_loss: 0.4524 - val_accuracy: 0.7861\n",
      "Epoch 11/25\n",
      "136749/136749 [==============================] - 11s 79us/sample - loss: 0.4507 - accuracy: 0.7868 - val_loss: 0.4497 - val_accuracy: 0.7883\n",
      "Epoch 12/25\n",
      "136749/136749 [==============================] - 12s 84us/sample - loss: 0.4441 - accuracy: 0.7922 - val_loss: 0.4451 - val_accuracy: 0.7939\n",
      "Epoch 13/25\n",
      "136749/136749 [==============================] - 12s 86us/sample - loss: 0.4418 - accuracy: 0.7938 - val_loss: 0.4513 - val_accuracy: 0.7886\n",
      "Epoch 14/25\n",
      "136749/136749 [==============================] - 13s 93us/sample - loss: 0.4354 - accuracy: 0.7985 - val_loss: 0.4449 - val_accuracy: 0.7932\n",
      "Epoch 15/25\n",
      "136749/136749 [==============================] - 13s 97us/sample - loss: 0.4338 - accuracy: 0.7988 - val_loss: 0.4361 - val_accuracy: 0.7991\n",
      "Epoch 16/25\n",
      "136749/136749 [==============================] - 11s 81us/sample - loss: 0.4290 - accuracy: 0.8022 - val_loss: 0.4267 - val_accuracy: 0.8036\n",
      "Epoch 17/25\n",
      "136749/136749 [==============================] - 12s 85us/sample - loss: 0.4249 - accuracy: 0.8047 - val_loss: 0.4338 - val_accuracy: 0.8000\n",
      "Epoch 18/25\n",
      "136749/136749 [==============================] - 11s 82us/sample - loss: 0.4231 - accuracy: 0.8055 - val_loss: 0.4270 - val_accuracy: 0.8033\n",
      "Epoch 19/25\n",
      "136749/136749 [==============================] - 11s 84us/sample - loss: 0.4223 - accuracy: 0.8064 - val_loss: 0.4320 - val_accuracy: 0.8008\n",
      "Epoch 20/25\n",
      "136749/136749 [==============================] - 11s 81us/sample - loss: 0.4186 - accuracy: 0.8088 - val_loss: 0.4226 - val_accuracy: 0.8070\n",
      "Epoch 21/25\n",
      "136749/136749 [==============================] - 11s 79us/sample - loss: 0.4185 - accuracy: 0.8085 - val_loss: 0.4276 - val_accuracy: 0.8045\n",
      "Epoch 22/25\n",
      "136749/136749 [==============================] - 9s 65us/sample - loss: 0.4156 - accuracy: 0.8102 - val_loss: 0.4271 - val_accuracy: 0.8031\n",
      "Epoch 23/25\n",
      "136749/136749 [==============================] - 13s 97us/sample - loss: 0.4138 - accuracy: 0.8110 - val_loss: 0.4198 - val_accuracy: 0.8069\n",
      "Epoch 24/25\n",
      "136749/136749 [==============================] - 10s 76us/sample - loss: 0.4102 - accuracy: 0.8129 - val_loss: 0.4245 - val_accuracy: 0.8051\n",
      "Epoch 25/25\n",
      "136749/136749 [==============================] - 12s 91us/sample - loss: 0.4090 - accuracy: 0.8140 - val_loss: 0.4191 - val_accuracy: 0.8091\n",
      "29042\n"
     ]
    }
   ],
   "source": [
    "# *** 3A. Define LBN model and train\n",
    "#init = tf.keras.initializers.RandomNormal(mean=0., stddev=0.1, seed=123)\n",
    "model = tf.keras.models.Sequential()\n",
    "\n",
    "features = [\"E\", \"pt\", \"eta\", \"phi\", \"m\", \"pair_dr\"]\n",
    "model.add(LBNLayer(13, boost_mode=LBN.PAIRS, features=features))\n",
    "\n",
    "\n",
    "#model.add(tf.keras.layers.Dense(1024, activation='relu', kernel_regularizer=init))\n",
    "#model.add(tf.keras.layers.Dense(256, activation='relu'))\n",
    "model.add(tf.keras.layers.Dense(128, activation='relu'))\n",
    "#model.add(tf.keras.layers.Dropout(0.2))\n",
    "#model.add(BatchNormalization())\n",
    "\n",
    "model.add(tf.keras.layers.Dense(64, activation='relu'))\n",
    "model.add(tf.keras.layers.Dense(32, activation='relu'))\n",
    "model.add(tf.keras.layers.Dense(2, activation='sigmoid'))\n",
    "\n",
    "model.compile(loss='binary_crossentropy',\n",
    "              optimizer='adam',\n",
    "              metrics=['accuracy'])\n",
    "\n",
    "history = model.fit( trainVectorsByEvent, trainLabelsByEvent, epochs=25, validation_data = (testVectorsByEvent, testLabelsByEvent), batch_size=400)\n",
    "#history = model.fit( trainVectorsByEvent, trainLabelsByEvent, epochs=10, validation_data = (testVectorsByEvent, testLabelsByEvent))\n",
    "print(model.count_params())"
   ]
  },
  {
   "cell_type": "code",
   "execution_count": null,
   "metadata": {},
   "outputs": [],
   "source": [
    "# *** 3B. Define low-level NN using jet vectors for comparison\n",
    "model_nn = tf.keras.models.Sequential()\n",
    "nInputNodes = len(trainVectorsByEvent[0]) \n",
    "#model.add(Dense(100, input_dim=nInputNodes, activation='relu'))\n",
    "\n",
    "model_nn.add(tf.keras.layers.Dense(128, input_dim = nInputNodes, activation='relu'))\n",
    "#model.add(tf.keras.layers.Dropout(0.2))\n",
    "#model.add(BatchNormalization())\n",
    "\n",
    "model_nn.add(tf.keras.layers.Dense(64, activation='relu'))\n",
    "model_nn.add(tf.keras.layers.Dense(32, activation='relu'))\n",
    "model_nn.add(tf.keras.layers.Dense(2, activation='sigmoid'))\n",
    "\n",
    "model_nn.compile(loss='binary_crossentropy',\n",
    "              optimizer='adam',\n",
    "              metrics=['accuracy'])\n",
    "\n",
    "history_nn = model_nn.fit( trainVectorsByEvent, trainLabelsByEvent, epochs=25, validation_data = (testVectorsByEvent, testLabelsByEvent), batch_size=400)\n",
    "#history = model.fit( trainVectorsByEvent, trainLabelsByEvent, epochs=10, validation_data = (testVectorsByEvent, testLabelsByEvent))\n",
    "print(model_nn.count_params())"
   ]
  },
  {
   "cell_type": "code",
   "execution_count": 116,
   "metadata": {},
   "outputs": [],
   "source": [
    "# *** 4. Do some very specific evaluation based on pure samples\n",
    "hh_data_test, hh_labels_test, qcd_data_test, qcd_labels_test = returnTestSamplesSplitIntoSignalAndBackground(testVectorsByEvent, testLabelsByEvent)\n",
    "\n",
    "#score_hh = model.evaluate(np.array(hh_data_test), np.array(hh_labels_test))\n",
    "#score_qcd = model.evaluate(np.array(qcd_data_test), np.array(qcd_labels_test))\n",
    "#print(score_hh, score_qcd)\n",
    "\n",
    "pred_hh = model.predict(np.array(hh_data_test))\n",
    "pred_qcd = model.predict(np.array(qcd_data_test))"
   ]
  },
  {
   "cell_type": "code",
   "execution_count": 117,
   "metadata": {},
   "outputs": [
    {
     "data": {
      "image/png": "[encoded data removed]",
      "text/plain": [
       "<Figure size 432x288 with 1 Axes>"
      ]
     },
     "metadata": {
      "needs_background": "light"
     },
     "output_type": "display_data"
    }
   ],
   "source": [
    "_nBins = 40\n",
    "predictionResults = {'hh_pred':pred_hh[:,0], 'qcd_pred':pred_qcd[:,0]}\n",
    "compareManyHistograms( predictionResults, ['hh_pred', 'qcd_pred'], 2, 'Signal Prediction', 'LBN Signal Score', 0, 1, _nBins, _yMax = 5, _normed=True, _savePlot=False )\n"
   ]
  },
  {
   "cell_type": "code",
   "execution_count": 110,
   "metadata": {},
   "outputs": [
    {
     "name": "stdout",
     "output_type": "stream",
     "text": [
      "23724 34884\n",
      "nSig = 4355.169599999999 , nBkg = 28851640.47 with significance = 0.8108113439837802 for ff-NN score > 0.4141416591827316\n"
     ]
    },
    {
     "data": {
      "text/plain": [
       "(0.8108113439837802, 0.4141416591827316)"
      ]
     },
     "execution_count": 110,
     "metadata": {},
     "output_type": "execute_result"
    }
   ],
   "source": [
    "# *** 4. Get best cut value for ff-NN assuming some minimal amount of signal\n",
    "returnBestCutValue('ff-NN', pred_hh[:,0].copy(), pred_qcd[:,0].copy(), _minBackground=200, _testingFraction=testingFraction)"
   ]
  },
  {
   "cell_type": "code",
   "execution_count": null,
   "metadata": {},
   "outputs": [],
   "source": [
    "# *** 5. Get signifiance for any user-specified NN score cut value\n",
    "lumiscale_hh  = getLumiScaleFactor(testingFraction, True)\n",
    "lumiscale_qcd = getLumiScaleFactor(testingFraction, False)\n",
    "cut = 0.81\n",
    "_nSignal = sum( value > cut for value in pred_hh)*lumiscale_hh\n",
    "_nBackground = sum( value > cut for value in pred_qcd)*lumiscale_qcd\n",
    "\n",
    "print('nSig = {0} , nBkg = {1} with significance = {2} for NN score > {3}'.format(_nSignal, _nBackground, _nSignal/np.sqrt(_nBackground), cut) )"
   ]
  },
  {
   "cell_type": "code",
   "execution_count": null,
   "metadata": {},
   "outputs": [],
   "source": [
    "import pickle\n",
    "pickle.dump(model, open('models/allVars_100-50-50.pkl', 'wb'))\n"
   ]
  },
  {
   "cell_type": "code",
   "execution_count": 118,
   "metadata": {},
   "outputs": [
    {
     "name": "stdout",
     "output_type": "stream",
     "text": [
      "dict_keys(['loss', 'accuracy', 'val_loss', 'val_accuracy'])\n"
     ]
    },
    {
     "data": {
      "image/png": "[encoded data removed]",
      "text/plain": [
       "<Figure size 432x288 with 1 Axes>"
      ]
     },
     "metadata": {
      "needs_background": "light"
     },
     "output_type": "display_data"
    },
    {
     "data": {
      "image/png": "[encoded data removed]",
      "text/plain": [
       "<Figure size 432x288 with 1 Axes>"
      ]
     },
     "metadata": {
      "needs_background": "light"
     },
     "output_type": "display_data"
    }
   ],
   "source": [
    "print(history.history.keys())\n",
    "# summarize history for accuracy\n",
    "#plt.plot(history.history['categorical_accuracy'])\n",
    "#plt.plot(history.history['val_categorical_accuracy'])\n",
    "plt.plot(history.history['accuracy'])\n",
    "plt.plot(history.history['val_accuracy'])\n",
    "plt.title('LBN Accuracy')\n",
    "plt.ylabel('Accuracy [%]')\n",
    "plt.xlabel('Epoch')\n",
    "plt.legend(['Train', 'Test'], loc='upper left')\n",
    "plt.show()\n",
    "# summarize history for loss\n",
    "plt.plot(history.history['loss'])\n",
    "plt.plot(history.history['val_loss'])\n",
    "plt.title('LBN Model Loss')\n",
    "plt.ylabel('Loss [A.U.]')\n",
    "plt.xlabel('Epoch')\n",
    "plt.legend(['Train', 'Test'], loc='upper right')\n",
    "plt.show()"
   ]
  },
  {
   "cell_type": "code",
   "execution_count": 91,
   "metadata": {},
   "outputs": [
    {
     "name": "stdout",
     "output_type": "stream",
     "text": [
      "Model: \"sequential_9\"\n",
      "_________________________________________________________________\n",
      "Layer (type)                 Output Shape              Param #   \n",
      "=================================================================\n",
      "lbn_layer_9 (LBNLayer)       multiple                  208       \n",
      "_________________________________________________________________\n",
      "dense_35 (Dense)             multiple                  8448      \n",
      "_________________________________________________________________\n",
      "dense_36 (Dense)             multiple                  8256      \n",
      "_________________________________________________________________\n",
      "dense_37 (Dense)             multiple                  2080      \n",
      "_________________________________________________________________\n",
      "dense_38 (Dense)             multiple                  66        \n",
      "=================================================================\n",
      "Total params: 19,058\n",
      "Trainable params: 19,058\n",
      "Non-trainable params: 0\n",
      "_________________________________________________________________\n"
     ]
    }
   ],
   "source": [
    "model.summary()"
   ]
  },
  {
   "cell_type": "code",
   "execution_count": null,
   "metadata": {},
   "outputs": [],
   "source": [
    "# ROC curve and AUC\n",
    "testVectorsByEvent_ROC = testVectorsByEvent.copy()\n",
    "#top10_data_test_ROC = top10_data_test__norm.copy()\n",
    "#top10_data_test_ROC = top10_data_test_ROC.drop('isSignal', axis=1)\n",
    "\n",
    "y_pred = model.predict(testVectorsByEvent_ROC).ravel()\n",
    "falsePositiveRate, truePositiveRate, thresholds = roc_curve(testLabelsByEvent, y_pred)\n",
    "auc_keras = auc(falsePositiveRate, truePositiveRate)"
   ]
  },
  {
   "cell_type": "code",
   "execution_count": null,
   "metadata": {},
   "outputs": [],
   "source": [
    "plt.plot([0, 1], [0, 1], 'k--')\n",
    "plt.plot(falsePositiveRate, truePositiveRate, label='Keras (area = {:.3f})'.format(auc_keras))\n",
    "plt.xlabel('False positive rate')\n",
    "plt.ylabel('True positive rate')\n",
    "plt.title('ROC curve')\n",
    "plt.legend(loc='best')\n",
    "plt.show()"
   ]
  },
  {
   "cell_type": "code",
   "execution_count": null,
   "metadata": {},
   "outputs": [],
   "source": []
  },
  {
   "cell_type": "code",
   "execution_count": null,
   "metadata": {},
   "outputs": [],
   "source": [
    "var = ['jet{}_E', 'jet{}_px', 'jet{}_py', 'jet{}_pz', 'jet{}_m']\n",
    "for i in range(1,5):\n",
    "    varN = [x.format(i) for x in var]\n",
    "    print(varN)"
   ]
  },
  {
   "cell_type": "code",
   "execution_count": null,
   "metadata": {},
   "outputs": [],
   "source": [
    "je"
   ]
  },
  {
   "cell_type": "code",
   "execution_count": null,
   "metadata": {},
   "outputs": [],
   "source": []
  }
 ],
 "metadata": {
  "kernelspec": {
   "display_name": "Python 3",
   "language": "python",
   "name": "python3"
  },
  "language_info": {
   "codemirror_mode": {
    "name": "ipython",
    "version": 3
   },
   "file_extension": ".py",
   "mimetype": "text/x-python",
   "name": "python",
   "nbconvert_exporter": "python",
   "pygments_lexer": "ipython3",
   "version": "3.7.4"
  }
 },
 "nbformat": 4,
 "nbformat_minor": 2
}
