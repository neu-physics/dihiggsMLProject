{
 "cells": [
  {
   "cell_type": "code",
   "execution_count": 1,
   "metadata": {},
   "outputs": [],
   "source": [
    "from sklearn.cluster import KMeans\n",
    "from sklearn.decomposition import PCA\n",
    "from sklearn.preprocessing import scale\n",
    "from sklearn.model_selection import learning_curve, GridSearchCV\n",
    "from sklearn.model_selection import KFold, StratifiedKFold\n",
    "from sklearn.metrics import accuracy_score, confusion_matrix, precision_score\n",
    "\n",
    "import xgboost as xgb\n",
    "import numpy as np\n",
    "import matplotlib.pyplot as plt\n",
    "import math as M\n",
    "\n",
    "\n",
    "# Fix random seed for reproducibility\n",
    "seed = 7\n",
    "np.random.seed(seed)\n",
    "\n",
    "import sys\n",
    "sys.path.insert(0, '/Users/flywire/Desktop/sci/dihiggsMLProject/')\n",
    "from utils.commonFunctions import *"
   ]
  },
  {
   "cell_type": "code",
   "execution_count": 2,
   "metadata": {},
   "outputs": [],
   "source": [
    "def trainBDT(X, y, X_val, y_val, param):\n",
    "\n",
    "    evallist = [(X, y), (X_val, y_val)]\n",
    "    model = xgb.XGBClassifier(**param)\n",
    "    model.fit(X, y.ravel(), eval_set=evallist, verbose=True, early_stopping_rounds=30)\n",
    "    results = model.evals_result()\n",
    "    ypred = model.predict(X_val)\n",
    "    predictions = [round(value) for value in ypred]\n",
    "    accuracy = accuracy_score(y_val, predictions)\n",
    "    print(\"The training accuaracy is: {}\".format(accuracy))\n",
    "    conf_matrix = confusion_matrix(y_val, predictions)\n",
    "    print(\"The confusion matrix: {}\".format(conf_matrix))\n",
    "    print(\"The precision is: {}\".format(precision_score(y_val, predictions)))\n",
    "    print(\"The eval_result is: {}\".format(model.get_booster().best_iteration))\n",
    "    print(\"The eval_result is: {}\".format(model.get_booster().best_score))\n",
    "    plot_BDTScore(X_val.copy(), y_val.copy(), model)\n",
    "    return\n",
    "\n",
    "\n",
    "def plot_BDTScore(X_val, y_val, model):\n",
    "    sig_index = np.asarray(np.where(y_val==1))[0,:]\n",
    "    bkg_index = np.asarray(np.where(y_val==0))[0,:]\n",
    "    X_sig = X_val[sig_index,:]\n",
    "    X_bkg = X_val[bkg_index,:]\n",
    "    pred_sig = model.predict_proba(X_sig)[:,1]\n",
    "    pred_bkg = model.predict_proba(X_bkg)[:,1]\n",
    "    returnBestCutValue('BDT',pred_sig.copy(), pred_bkg.copy(), _testingFraction=0.3)\n",
    "    plt.hist(pred_sig, bins=100, alpha=0.5, density=True, label=\"signal\")\n",
    "    plt.hist(pred_bkg, bins=100, alpha=0.5, density=True, label=\"background\")\n",
    "    plt.legend(loc=\"best\")\n",
    "    plt.title(\"BDT score\")\n",
    "    plt.show()\n",
    "    \n",
    "    \n",
    "def plot_learning_curve(X, y, param, nClus):\n",
    "    train_sizes, train_scores, test_scores = learning_curve(xgb.XGBClassifier(**param), X, y, cv=5)\n",
    "    train_scores_mean = np.mean(train_scores, axis=1)\n",
    "    test_scores_mean = np.mean(test_scores, axis=1)\n",
    "    plt.plot(train_sizes, train_scores_mean, 'o-', color=\"r\", label=\"Training score\")\n",
    "    plt.plot(train_sizes, test_scores_mean, 'o-', color=\"g\", label=\"Testing score\")\n",
    "    plt.legend(loc=\"best\")\n",
    "    plt.title(\"{} clusters learning curve\".format(nClus))\n",
    "    plt.show()\n",
    "    \n",
    "def plotCostFunc_kClus(data, nClus):\n",
    "    #find out the \"best\" value of n_clusters to perform k-means clustering\n",
    "    cost = []\n",
    "    for i in range(1,nClus+1):\n",
    "        ki = KMeans(n_clusters=i, random_state=0).fit(data)\n",
    "        cost.append(ki.inertia_)\n",
    "    plt.plot(range(1,nClus+1),cost, marker='o')\n",
    "    plt.xlabel('Number of clusters')\n",
    "    plt.ylabel('cost function')\n",
    "    plt.show()\n",
    "    \n",
    "\n",
    "def KClustering(X, y, X_test, y_test, nClusters, usePCA, n_vars):\n",
    "    if(usePCA):\n",
    "        #process data with PCA\n",
    "        #find the number of features that keep 95% variance\n",
    "        print(\"Doing PCA...\")\n",
    "        variance_threshold = 0.95\n",
    "        num_components = n_vars\n",
    "        pca_trail = PCA()\n",
    "        pca_trail.fit(X)\n",
    "        var = np.cumsum(pca_trail.explained_variance_ratio_)\n",
    "        for n_com in range(1,len(var)-1):\n",
    "            if(var[n_com]>variance_threshold):\n",
    "                num_components = n_com\n",
    "                break\n",
    "\n",
    "        print(\"Doing k-means clustering with {0} features...\".format(num_components))\n",
    "        pca = PCA(n_components=num_components)\n",
    "        pca.fit(X)\n",
    "        X_train_pca = pca.transform(X)\n",
    "        X_test_pca = pca.transform(X_test)\n",
    "        print(\"Shape of new training dataset: {}\".format(X_train_pca.shape))\n",
    "        print(\"Shape of new testing dataset: {}\".format(X_test_pca.shape))\n",
    "        #do the k-means clustering\n",
    "        kmeans = KMeans(n_clusters=nClusters, random_state=0, verbose=0).fit(X_train_pca)\n",
    "        score_train = kmeans.transform(X_train_pca)\n",
    "        score_test = kmeans.transform(X_test_pca)\n",
    "    else:\n",
    "        #do k-means clustering\n",
    "        print(\"Doing k-means clustering...\")\n",
    "        kmeans = KMeans(n_clusters=nClusters, random_state=0, verbose=0).fit(X)\n",
    "        score_train = kmeans.transform(X)\n",
    "        score_test = kmeans.transform(X_test)\n",
    "        \n",
    "    score_train_norm = scale(score_train)\n",
    "    score_test_norm = scale(score_test)\n",
    "    y_np = y.to_numpy()\n",
    "    y_test_np = y_test.to_numpy()\n",
    "    print(\"Finished clustering. :)\")\n",
    "    \n",
    "    return score_train_norm, y_np, score_test_norm, y_test_np\n",
    "\n",
    "def trainBDT_pyswarm(X_train, y_train, X_val, y_val, param):\n",
    "    evallist = [(X_train, y_train), (X_val, y_val)]\n",
    "    model = xgb.XGBClassifier(**param)\n",
    "    model.fit(X_train, y_train.ravel(), eval_set=evallist, verbose=False, early_stopping_rounds=30)\n",
    "    best_score = 1.0-model.get_booster().best_score\n",
    "    return best_score\n",
    "\n",
    "def f_BDT(x,data,labels,param_list):\n",
    "    # *** 1. split our data set to training and validation sets\n",
    "    X_train, X_val, y_train, y_val = train_test_split(data, labels, test_size=0.25, shuffle=True, random_state=7)\n",
    "    n_particles = x.shape[0]\n",
    "    BDT_result = []    #used to store the BDT training results for each particle\n",
    "    for i in range (n_particles):\n",
    "        # *** 2. set hyper parameters\n",
    "        param = {\n",
    "            'n_jobs': -1,\n",
    "            'eta': 0.3,\n",
    "            'n_estimators': 5000,\n",
    "            'max_depth': 7,\n",
    "            'min_child_weight': 2,\n",
    "            'subsample': 0.8,\n",
    "            'colsample_bytree': 0.8,\n",
    "            'gamma': 0,\n",
    "            #'reg_alpha': x[i,5], \n",
    "            #'reg_lambda': x[i,6],\n",
    "            'scale_pos_weight': 1,\n",
    "            'eval_metric': 'auc',\n",
    "            'objective': 'binary:logistic',\n",
    "            'random_state': 27\n",
    "        }\n",
    "        for n_param in range (len(param_list)):\n",
    "            if(param_list[n_param]=='max_depth'):\n",
    "                param[param_list[n_param]] = int(x[i,n_param]*7+2)\n",
    "            else:\n",
    "                param[param_list[n_param]] = x[i,n_param]\n",
    "            \n",
    "        BDT_result.append(trainBDT_pyswarm(X_train, y_train, X_val, y_val, param))\n",
    "    return np.array(BDT_result)\n",
    "\n"
   ]
  },
  {
   "cell_type": "code",
   "execution_count": 3,
   "metadata": {},
   "outputs": [
    {
     "name": "stdout",
     "output_type": "stream",
     "text": [
      "['hh_mass', 'h1_mass', 'h2_mass', 'hh_pt', 'h1_pt', 'h2_pt', 'deltaR(h1, h2)', 'deltaR(h1 jets)', 'deltaR(h2 jets)', 'deltaPhi(h1, h2)', 'deltaPhi(h1 jets)', 'deltaPhi(h2 jets)', 'met', 'met_phi', 'scalarHT', 'nJets', 'nBTags']\n",
      "N_sig = 78876 , N_bkg = 116481\n",
      "195357 rows of total data with  195357 labels [Train+Test]\n",
      "136749 rows of training data with  136749 labels [Train]\n",
      "58608 rows of testing data with  58608 labels [Test]\n"
     ]
    }
   ],
   "source": [
    "# *** 1. Import data and check stuff\n",
    "testingFraction = 0.3\n",
    "\n",
    "# *** A. Import Dataset\n",
    "hh_raw, qcd_raw = importDatasets()\n",
    "\n",
    "\n",
    "# *** 2. Make mix of dihiggs and QCD for specified variables\n",
    "#variables = ['deltaR(h1, h2)', 'deltaR(h1 jets)', 'deltaR(h2 jets)', 'hh_mass', 'h1_mass', 'h2_mass','hh_pt', 'h1_pt', 'h2_pt', 'scalarHT']\n",
    "#variables = ['hh_mass', 'h1_mass', 'h2_mass']\n",
    "variables = list(qcd_raw.columns.values)\n",
    "variables.remove('isSignal')\n",
    "variables.remove('isMatchable')\n",
    "remove_list = []\n",
    "for var in variables:\n",
    "    if((var.find('gen')!=-1) or (var.find('reco')!=-1) or ( (var.find('jet')!=-1) and (var.find('_')!=-1) ) ):\n",
    "        remove_list.append(var)\n",
    "#print(remove_list)\n",
    "for r_var in remove_list:        \n",
    "    variables.remove(r_var)\n",
    "    \n",
    "print(variables)\n",
    "\n",
    "data_train, data_test, labels_train, labels_test = makeTestTrainSamplesWithUserVariables(hh_raw, qcd_raw, variables, testingFraction)\n",
    "\n",
    "data_train_norm = scale(data_train)\n",
    "data_test_norm = scale(data_test)\n"
   ]
  },
  {
   "cell_type": "code",
   "execution_count": 4,
   "metadata": {},
   "outputs": [],
   "source": [
    "# *** Do the k-means clustering\n",
    "#nClus = 40    # can try 15 20 40\n",
    "#score_km_train_norm,labels_train_np,score_km_test_norm,labels_test_np = KClustering(data_train_norm, labels_train, data_test_norm, labels_test, nClus, False, len(variables))\n",
    "#score_pcakm_train_norm,labels_train_np,score_pcakm_test_norm,labels_test_np = KClustering(data_train_norm, labels_train, data_test_norm, labels_test, nClus, True, len(variables))\n",
    "#score_km_train_norm,labels_train_np,score_km_test_norm,labels_test_np = KClustering(data_train_norm, labels_train, data_test_norm, labels_test, nClus, True, len(variables))\n",
    "score_km_train_norm = data_train_norm\n",
    "labels_train_np = labels_train.to_numpy()\n",
    "score_km_test_norm = data_test_norm\n",
    "labels_test_np = labels_test.to_numpy()"
   ]
  },
  {
   "cell_type": "code",
   "execution_count": 5,
   "metadata": {},
   "outputs": [
    {
     "name": "stderr",
     "output_type": "stream",
     "text": [
      "2020-01-09 11:44:05,052 - pyswarms.single.global_best - INFO - Optimize for 50 iters with {'c1': 0.8, 'c2': 0.6, 'w': 0.35}\n",
      "pyswarms.single.global_best:   0%|          |0/50/Library/Python/3.7/site-packages/sklearn/preprocessing/_label.py:268: DataConversionWarning: A column-vector y was passed when a 1d array was expected. Please change the shape of y to (n_samples, ), for example using ravel().\n",
      "  y = column_or_1d(y, warn=True)\n",
      "/Library/Python/3.7/site-packages/sklearn/preprocessing/_label.py:268: DataConversionWarning: A column-vector y was passed when a 1d array was expected. Please change the shape of y to (n_samples, ), for example using ravel().\n",
      "  y = column_or_1d(y, warn=True)\n",
      "/Library/Python/3.7/site-packages/sklearn/preprocessing/_label.py:268: DataConversionWarning: A column-vector y was passed when a 1d array was expected. Please change the shape of y to (n_samples, ), for example using ravel().\n",
      "  y = column_or_1d(y, warn=True)\n",
      "/Library/Python/3.7/site-packages/sklearn/preprocessing/_label.py:268: DataConversionWarning: A column-vector y was passed when a 1d array was expected. Please change the shape of y to (n_samples, ), for example using ravel().\n",
      "  y = column_or_1d(y, warn=True)\n",
      "pyswarms.single.global_best: 100%|██████████|50/50, best_cost=0.118\n",
      "2020-01-09 15:41:17,873 - pyswarms.single.global_best - INFO - Optimization finished | best cost: 0.11788500000000002, best pos: [20.92408219  2.87525147]\n"
     ]
    }
   ],
   "source": [
    "from pyswarms.single.global_best import GlobalBestPSO\n",
    "# *** pyswarm process\n",
    "# *** 1. set the name, max and min bound of parameters\n",
    "param_name = ['reg_alpha','min_child_weight']\n",
    "n_dimensions = len(param_name)\n",
    "param_max_list = [50,5]\n",
    "param_min_list = [1e-05,0]\n",
    "#param_max_list = [1,5,1,1,1.5,50,10]\n",
    "#param_min_list = [0,0,0,0,0,1e-05,0]\n",
    "param_max = np.array(param_max_list)\n",
    "param_min = np.array(param_min_list)\n",
    "bounds = (param_min, param_max)\n",
    "# *** 2. set options\n",
    "#options = {'c1': 0.5, 'c2': 0.3, 'w': 0.9} # can use grid search to get a better value of those parameters\n",
    "#options = {'c1': 2.05, 'c2': 2.05, 'w': 0.7} # try this afterwards\n",
    "options = {'c1': 0.8, 'c2': 0.6, 'w': 0.35} \n",
    "optimizer = GlobalBestPSO(n_particles=5, dimensions=n_dimensions, options=options, bounds=bounds)\n",
    "cost, pos = optimizer.optimize(f_BDT, iters=50, data=score_km_train_norm, labels=labels_train_np, param_list=param_name, n_processes=4)\n",
    "\n"
   ]
  },
  {
   "cell_type": "code",
   "execution_count": 16,
   "metadata": {},
   "outputs": [
    {
     "data": {
      "image/png": "[encoded data removed]",
      "text/plain": [
       "<Figure size 720x576 with 1 Axes>"
      ]
     },
     "metadata": {
      "needs_background": "light"
     },
     "output_type": "display_data"
    },
    {
     "data": {
      "image/png": "[encoded data removed]",
      "text/plain": [
       "<Figure size 432x288 with 1 Axes>"
      ]
     },
     "metadata": {
      "needs_background": "light"
     },
     "output_type": "display_data"
    },
    {
     "data": {
      "image/png": "[encoded data removed]",
      "text/plain": [
       "<Figure size 432x288 with 1 Axes>"
      ]
     },
     "metadata": {
      "needs_background": "light"
     },
     "output_type": "display_data"
    }
   ],
   "source": [
    "from pyswarms.utils.plotters import (plot_cost_history, plot_contour, plot_surface)\n",
    "plot_cost_history(cost_history=optimizer.cost_history)\n",
    "plt.show()\n",
    "parameter_name = param_name\n",
    "#parameter_name = ['max_depth','min_child_weight','subsample','colsample_bytree','gamma','reg_alpha','reg_lambda']\n",
    "n_iters = len(optimizer.pos_history) #number of iterations PSO went through\n",
    "#n_dimensions = 7 #number of parameters to tune\n",
    "n_particles = len(optimizer.pos_history[0]) #number of particles\n",
    "y_plot = np.zeros((n_dimensions,n_particles*n_iters))\n",
    "x_plot = np.zeros((n_dimensions,n_particles*n_iters))\n",
    "plots = []\n",
    "for i in range (0,n_iters):\n",
    "    a = optimizer.pos_history[i]\n",
    "    for d in range(0,n_dimensions):\n",
    "        x_plot[d,i*n_particles:(i+1)*n_particles] = i+1\n",
    "        if parameter_name[d]=='max_depth': #d==0 means max_depth, which is normalized\n",
    "            y_plot[d,i*n_particles:(i+1)*n_particles] = a[:,d]*7+2\n",
    "        else:\n",
    "            y_plot[d,i*n_particles:(i+1)*n_particles] = a[:,d]\n",
    "for nd in range (0,n_dimensions):\n",
    "    if parameter_name[nd]=='max_depth':\n",
    "        plt.scatter(x_plot[nd,:],(y_plot[nd,:]*7+2))\n",
    "    else:\n",
    "        plt.scatter(x_plot[nd,:],y_plot[nd,:])\n",
    "    plt.title(parameter_name[nd])\n",
    "    plt.show()\n",
    "    \n",
    "\n",
    "\n"
   ]
  },
  {
   "cell_type": "code",
   "execution_count": 21,
   "metadata": {},
   "outputs": [
    {
     "name": "stderr",
     "output_type": "stream",
     "text": [
      "2020-01-09 16:06:37,895 - matplotlib.animation - WARNING - MovieWriter imagemagick unavailable; trying to use <class 'matplotlib.animation.PillowWriter'> instead.\n",
      "2020-01-09 16:06:37,896 - matplotlib.animation - INFO - Animation.save using <class 'matplotlib.animation.PillowWriter'>\n"
     ]
    },
    {
     "data": {
      "text/html": [
       "<img src=\"plot0.gif\"/>"
      ],
      "text/plain": [
       "<IPython.core.display.Image object>"
      ]
     },
     "execution_count": 21,
     "metadata": {},
     "output_type": "execute_result"
    },
    {
     "data": {
      "image/png": "[encoded data removed]",
      "text/plain": [
       "<Figure size 720x576 with 1 Axes>"
      ]
     },
     "metadata": {
      "needs_background": "light"
     },
     "output_type": "display_data"
    }
   ],
   "source": [
    "from IPython.display import Image\n",
    "from pyswarms.utils.plotters.formatters import Mesher, Designer\n",
    "d = Designer(limits=[(0,50), (0,5)],\n",
    "             label=['reg_alpha', 'min_child_weight'])\n",
    "animation = plot_contour(pos_history=optimizer.pos_history, designer=d)\n",
    "animation.save('plot0.gif', writer='imagemagick', fps=1)\n",
    "Image(url='plot0.gif')\n",
    "\n"
   ]
  },
  {
   "cell_type": "code",
   "execution_count": 8,
   "metadata": {},
   "outputs": [
    {
     "data": {
      "text/plain": [
       "'Thu Jan  9 15:41:21 2020'"
      ]
     },
     "execution_count": 8,
     "metadata": {},
     "output_type": "execute_result"
    }
   ],
   "source": [
    "import time\n",
    "time.ctime()"
   ]
  },
  {
   "cell_type": "code",
   "execution_count": 42,
   "metadata": {},
   "outputs": [
    {
     "data": {
      "image/png": "[encoded data removed]",
      "text/plain": [
       "<Figure size 720x720 with 2 Axes>"
      ]
     },
     "metadata": {
      "needs_background": "light"
     },
     "output_type": "display_data"
    }
   ],
   "source": [
    "pts = optimizer.pos_history[0]\n",
    "for i in range (1,10):\n",
    "    pts = np.vstack((pts,optimizer.pos_history[i]))\n",
    "\n",
    "heatmap, xedges, yedges = np.histogram2d(pts[:,0]/50.0, pts[:,1]/5.0, bins=(20,20))\n",
    "extent = [xedges[0], xedges[-1], yedges[0], yedges[-1]]\n",
    "plt.figure(figsize=(10,10))\n",
    "plt.imshow(heatmap.T, extent=extent, origin='lower')\n",
    "plt.title(\"first 10 iterations\")\n",
    "plt.xlabel(\"reg_alpha\")\n",
    "plt.ylabel(\"min_child_width\")\n",
    "plt.axis('square')\n",
    "#plt.axis('equal')\n",
    "plt.colorbar()\n",
    "plt.show()\n",
    "#plt.axis('square')"
   ]
  },
  {
   "cell_type": "code",
   "execution_count": 44,
   "metadata": {},
   "outputs": [
    {
     "data": {
      "text/plain": [
       "[array([[0.60054892, 4.7506475 ],\n",
       "        [0.23030288, 2.7424496 ],\n",
       "        [0.90912837, 0.66584723],\n",
       "        [0.52341258, 3.7520493 ],\n",
       "        [0.66901324, 2.3387643 ]]), array([[0.74394328, 0.09418362],\n",
       "        [0.97246926, 0.22933364],\n",
       "        [0.9027998 , 1.2643383 ],\n",
       "        [0.07605523, 0.42406551],\n",
       "        [0.99625809, 0.97406698]]), array([[0.31609217, 3.10513402],\n",
       "        [0.25659585, 1.2615241 ],\n",
       "        [0.43871066, 0.15544283],\n",
       "        [0.49503402, 1.08893733],\n",
       "        [0.39300236, 2.16600658]]), array([[0.57989469, 3.28029535],\n",
       "        [0.14178624, 0.10779538],\n",
       "        [0.96327552, 3.54851416],\n",
       "        [0.68746063, 3.18689403],\n",
       "        [0.53537817, 0.22977583]]), array([[0.7870984 , 1.64648621],\n",
       "        [0.65479366, 2.19141833],\n",
       "        [0.7144418 , 1.74463376],\n",
       "        [0.49932728, 0.8941541 ],\n",
       "        [0.72506173, 3.91910448]]), array([[0.78177868, 1.73988875],\n",
       "        [0.42319598, 3.53995115],\n",
       "        [0.87432074, 2.03858765],\n",
       "        [0.44847365, 4.8653535 ],\n",
       "        [0.68810605, 1.37872191]]), array([[0.56520882, 1.56051081],\n",
       "        [0.95438358, 2.13313583],\n",
       "        [0.05803187, 1.2251768 ],\n",
       "        [0.30094442, 3.17973338],\n",
       "        [0.48890075, 4.049014  ]]), array([[0.43446019, 3.15606099],\n",
       "        [0.36561883, 4.81169912],\n",
       "        [0.36622883, 2.29694524],\n",
       "        [0.60229475, 0.35904576],\n",
       "        [0.4025488 , 0.09528866]]), array([[0.56148075, 2.01714499],\n",
       "        [0.65518097, 0.75055811],\n",
       "        [0.35031698, 3.48089148],\n",
       "        [0.50993802, 3.82822942],\n",
       "        [0.21339567, 1.5032609 ]]), array([[0.78858432, 2.41911986],\n",
       "        [0.96716727, 3.95770931],\n",
       "        [0.51791899, 3.92293507],\n",
       "        [0.42467264, 0.89628915],\n",
       "        [0.073595  , 4.96825286]]), array([[0.05943961, 0.14153867],\n",
       "        [0.88555768, 4.70271515],\n",
       "        [0.61480277, 0.91893659],\n",
       "        [0.54876987, 0.44967734],\n",
       "        [0.44237309, 2.10111136]]), array([[0.85462565, 3.4754236 ],\n",
       "        [0.77095777, 1.94743372],\n",
       "        [0.87907181, 3.99388865],\n",
       "        [0.85152046, 4.92716532],\n",
       "        [0.75860538, 0.08229227]]), array([[0.29600241, 3.28881714],\n",
       "        [0.45237647, 2.4534226 ],\n",
       "        [0.50519006, 3.12250985],\n",
       "        [0.76344587, 1.5614069 ],\n",
       "        [0.05026124, 3.46008205]]), array([[0.55910404, 3.58065996],\n",
       "        [0.53207369, 0.17915361],\n",
       "        [0.19107188, 0.16312418],\n",
       "        [0.62563827, 0.63738166],\n",
       "        [0.13529908, 3.71929125]]), array([[0.7619246 , 4.21498548],\n",
       "        [0.86201072, 1.81369213],\n",
       "        [0.11843702, 3.74936094],\n",
       "        [0.61704747, 4.10574424],\n",
       "        [0.33152572, 1.71266559]]), array([[0.68923224, 3.15427129],\n",
       "        [0.87279385, 0.42759809],\n",
       "        [0.5847398 , 1.56013641],\n",
       "        [0.36504084, 3.52571607],\n",
       "        [0.49998471, 4.49702517]]), array([[0.41154301, 1.10575187],\n",
       "        [0.68517897, 4.63084433],\n",
       "        [0.79828354, 1.19348611],\n",
       "        [0.63075042, 4.74952489],\n",
       "        [0.55207551, 3.54855964]]), array([[0.30116712, 0.76254577],\n",
       "        [0.81450257, 4.11127227],\n",
       "        [0.72559241, 1.28507878],\n",
       "        [0.52701053, 2.99806864],\n",
       "        [0.98970889, 1.98968074]]), array([[0.88462626, 4.42554599],\n",
       "        [0.78456249, 3.63375809],\n",
       "        [0.31251337, 3.57730008],\n",
       "        [0.77388276, 1.15409444],\n",
       "        [0.03514562, 0.76410898]]), array([[0.48439783, 3.63764056],\n",
       "        [0.72572216, 1.67912979],\n",
       "        [0.04308495, 1.20754623],\n",
       "        [0.56581296, 2.80938424],\n",
       "        [0.18335036, 3.58398177]]), array([[0.4032953 , 3.21369277],\n",
       "        [0.99356839, 2.5677396 ],\n",
       "        [0.31446665, 1.55975423],\n",
       "        [0.33033262, 4.04204869],\n",
       "        [0.32890942, 3.80235147]]), array([[0.48936845, 1.07614182],\n",
       "        [0.7685928 , 1.31475567],\n",
       "        [0.49828211, 4.07957897],\n",
       "        [0.11071086, 2.05126549],\n",
       "        [0.72281285, 2.32334821]]), array([[0.38842512, 0.60496809],\n",
       "        [0.84808256, 0.26968288],\n",
       "        [0.42179166, 4.84594322],\n",
       "        [0.37182947, 3.44806784],\n",
       "        [0.42427451, 3.8283342 ]]), array([[0.12382085, 2.93965044],\n",
       "        [0.65937243, 1.53798911],\n",
       "        [0.46664753, 4.53113264],\n",
       "        [0.46360532, 4.34148521],\n",
       "        [0.33380653, 2.34167941]]), array([[0.34010023, 1.6680586 ],\n",
       "        [0.66986702, 4.04675382],\n",
       "        [0.73773667, 0.03492425],\n",
       "        [0.77272925, 3.45913506],\n",
       "        [0.45876424, 0.40306558]]), array([[0.73260709, 2.65092738],\n",
       "        [0.43426489, 3.99483743],\n",
       "        [0.74394104, 4.0999418 ],\n",
       "        [0.389116  , 4.84148995],\n",
       "        [0.62609991, 4.79121144]]), array([[0.22830415, 1.83295359],\n",
       "        [0.1483259 , 4.02648556],\n",
       "        [0.89976637, 3.79496963],\n",
       "        [0.33128321, 3.31555309],\n",
       "        [0.29865202, 1.20824301]]), array([[0.93027824, 0.23785305],\n",
       "        [0.76711633, 0.67021497],\n",
       "        [0.15996096, 4.8023651 ],\n",
       "        [0.1865398 , 1.00251574],\n",
       "        [0.61485162, 0.24320137]]), array([[0.88745338, 0.35597045],\n",
       "        [0.95509583, 4.16845226],\n",
       "        [0.64776027, 3.08713718],\n",
       "        [0.96302995, 2.52664298],\n",
       "        [0.41276837, 3.09174569]]), array([[0.9096449 , 0.81245893],\n",
       "        [0.45530145, 4.32022112],\n",
       "        [0.02638425, 4.31822041],\n",
       "        [0.20075894, 4.60577808],\n",
       "        [0.92901477, 2.13924137]]), array([[0.50257057, 1.32437025],\n",
       "        [0.6065581 , 1.60941572],\n",
       "        [0.23099312, 0.67889753],\n",
       "        [0.20972298, 3.87532568],\n",
       "        [0.72852103, 3.87546313]]), array([[0.60861273, 3.36944459],\n",
       "        [0.1539063 , 1.8668505 ],\n",
       "        [0.90807308, 0.78929385],\n",
       "        [0.9339374 , 1.09433289],\n",
       "        [0.31808627, 2.25874141]]), array([[0.97454792, 1.32889604],\n",
       "        [0.80312776, 1.17299677],\n",
       "        [0.07304943, 3.54050501],\n",
       "        [0.50000539, 2.22311741],\n",
       "        [0.4660352 , 0.58067135]]), array([[0.92727826, 2.71194065],\n",
       "        [0.82935611, 3.82505328],\n",
       "        [0.9124358 , 0.74099438],\n",
       "        [0.1159024 , 4.44058865],\n",
       "        [0.86035111, 1.90492218]]), array([[0.75902374, 3.76830622],\n",
       "        [0.28083461, 2.32720092],\n",
       "        [0.13321755, 4.04915589],\n",
       "        [0.89214659, 3.92920289],\n",
       "        [0.67052851, 4.35900151]]), array([[0.57483895, 0.85002795],\n",
       "        [0.73387265, 2.11095576],\n",
       "        [0.68625272, 4.19775228],\n",
       "        [0.62846107, 0.96639431],\n",
       "        [0.45124554, 2.46505667]]), array([[0.51150609, 3.9039224 ],\n",
       "        [0.15633798, 1.41645297],\n",
       "        [0.63674677, 1.38791927],\n",
       "        [0.96729186, 3.50597598],\n",
       "        [0.80294976, 1.12292021]]), array([[3.38072612e-03, 1.35885782e+00],\n",
       "        [6.92181196e-01, 4.89906025e+00],\n",
       "        [2.11603494e-01, 2.50148888e+00],\n",
       "        [3.81839413e-01, 2.11729267e-01],\n",
       "        [7.01474074e-01, 2.38987419e+00]]), array([[0.30145071, 3.51242675],\n",
       "        [0.92883256, 3.51568804],\n",
       "        [0.92820609, 0.12778896],\n",
       "        [0.99486386, 0.70851493],\n",
       "        [0.49766373, 2.7484245 ]]), array([[0.4049731 , 0.60503437],\n",
       "        [0.30388105, 0.35036879],\n",
       "        [0.36659871, 0.70196836],\n",
       "        [0.29933213, 2.08454072],\n",
       "        [0.9232543 , 2.57982187]]), array([[0.58286211, 2.77582281],\n",
       "        [0.53446327, 4.04411643],\n",
       "        [0.03091865, 3.3626091 ],\n",
       "        [0.82348237, 2.51777509],\n",
       "        [0.43254529, 2.33820588]]), array([[0.52990039, 2.92595836],\n",
       "        [0.16799559, 3.00420822],\n",
       "        [0.29191671, 4.45774806],\n",
       "        [0.80883251, 4.8596122 ],\n",
       "        [0.9325533 , 1.66297481]]), array([[0.34467019, 2.68863883],\n",
       "        [0.95063381, 0.7197413 ],\n",
       "        [0.49445933, 2.89538097],\n",
       "        [0.40695185, 3.24075715],\n",
       "        [0.01643296, 2.14559305]]), array([[0.42789578, 4.18045457],\n",
       "        [0.82127223, 2.47083329],\n",
       "        [0.09068275, 2.63195245],\n",
       "        [0.71073975, 0.81608363],\n",
       "        [0.99851544, 2.83899545]]), array([[0.86666042, 1.47589418],\n",
       "        [0.23601042, 4.97866589],\n",
       "        [0.5204315 , 2.66711709],\n",
       "        [0.82682417, 3.06521441],\n",
       "        [0.58181529, 3.01569277]]), array([[0.5514803 , 0.42670813],\n",
       "        [0.24391502, 0.83701678],\n",
       "        [0.23611012, 2.78400639],\n",
       "        [0.44225738, 4.06935023],\n",
       "        [0.22105007, 1.62466957]]), array([[0.18048361, 2.43132477],\n",
       "        [0.05664086, 2.93216627],\n",
       "        [0.06012539, 3.81696535],\n",
       "        [0.28595516, 2.28131266],\n",
       "        [0.72625959, 1.18130772]]), array([[0.46646476, 0.17925986],\n",
       "        [0.34945396, 2.56607246],\n",
       "        [0.52103412, 2.97958568],\n",
       "        [0.66716721, 2.33221646],\n",
       "        [0.97483986, 3.66019861]]), array([[0.364469  , 2.35561254],\n",
       "        [0.10968881, 2.6859074 ],\n",
       "        [0.67404015, 2.20874441],\n",
       "        [0.94614169, 2.25680353],\n",
       "        [0.31740412, 3.41739266]]), array([[0.39549479, 0.83328136],\n",
       "        [0.30757991, 3.06935278],\n",
       "        [0.33800183, 3.47506001],\n",
       "        [0.48323173, 2.30102432],\n",
       "        [0.70027286, 1.45366256]])]"
      ]
     },
     "execution_count": 44,
     "metadata": {},
     "output_type": "execute_result"
    }
   ],
   "source": [
    "optimizer.pos_history"
   ]
  },
  {
   "cell_type": "code",
   "execution_count": null,
   "metadata": {},
   "outputs": [],
   "source": []
  },
  {
   "cell_type": "code",
   "execution_count": 54,
   "metadata": {},
   "outputs": [
    {
     "name": "stderr",
     "output_type": "stream",
     "text": [
      "2020-01-08 21:11:53,171 - pyswarms.single.global_best - INFO - Optimize for 5 iters with {'c1': 1.025, 'c2': 1.025, 'w': 0.35}\n",
      "pyswarms.single.global_best:   0%|          |0/5/Library/Python/3.7/site-packages/sklearn/preprocessing/_label.py:268: DataConversionWarning: A column-vector y was passed when a 1d array was expected. Please change the shape of y to (n_samples, ), for example using ravel().\n",
      "  y = column_or_1d(y, warn=True)\n",
      "pyswarms.single.global_best: 100%|██████████|5/5, best_cost=0.121\n",
      "2020-01-08 21:28:12,173 - pyswarms.single.global_best - INFO - Optimization finished | best cost: 0.12065700000000001, best pos: [0.85378159 1.45890665]\n"
     ]
    }
   ],
   "source": [
    "from pyswarms.single.global_best import GlobalBestPSO\n",
    "# *** pyswarm process\n",
    "# *** 1. set the name, max and min bound of parameters\n",
    "param_name = ['max_depth','min_child_weight']\n",
    "n_dimensions = len(param_name)\n",
    "param_max_list = [1,5]\n",
    "param_min_list = [0,0]\n",
    "#param_max_list = [1,5,1,1,1.5,50,10]\n",
    "#param_min_list = [0,0,0,0,0,1e-05,0]\n",
    "param_max = np.array(param_max_list)\n",
    "param_min = np.array(param_min_list)\n",
    "bounds = (param_min, param_max)\n",
    "# *** 2. set options\n",
    "#options = {'c1': 0.5, 'c2': 0.3, 'w': 0.9} # can use grid search to get a better value of those parameters\n",
    "options = {'c1': 1.025, 'c2': 1.025, 'w': 0.35} # try this afterwards\n",
    "optimizer = GlobalBestPSO(n_particles=2, dimensions=n_dimensions, options=options, bounds=bounds)\n",
    "cost, pos = optimizer.optimize(f_BDT, iters=5, data=score_km_train_norm, labels=labels_train_np, param_list=param_name)\n",
    "\n"
   ]
  },
  {
   "cell_type": "code",
   "execution_count": 55,
   "metadata": {},
   "outputs": [
    {
     "name": "stderr",
     "output_type": "stream",
     "text": [
      "2020-01-08 21:28:59,543 - matplotlib.animation - WARNING - MovieWriter imagemagick unavailable; trying to use <class 'matplotlib.animation.PillowWriter'> instead.\n",
      "2020-01-08 21:28:59,544 - matplotlib.animation - INFO - Animation.save using <class 'matplotlib.animation.PillowWriter'>\n"
     ]
    },
    {
     "data": {
      "text/html": [
       "<img src=\"plot0.gif\"/>"
      ],
      "text/plain": [
       "<IPython.core.display.Image object>"
      ]
     },
     "execution_count": 55,
     "metadata": {},
     "output_type": "execute_result"
    },
    {
     "data": {
      "image/png": "[encoded data removed]",
      "text/plain": [
       "<Figure size 720x576 with 1 Axes>"
      ]
     },
     "metadata": {
      "needs_background": "light"
     },
     "output_type": "display_data"
    }
   ],
   "source": [
    "from IPython.display import Image\n",
    "from pyswarms.utils.plotters.formatters import Mesher, Designer\n",
    "d = Designer(limits=[(0,2), (0,6)],\n",
    "             label=['x-axis', 'y-axis'])\n",
    "animation = plot_contour(pos_history=optimizer.pos_history, designer=d)\n",
    "animation.save('plot0.gif', writer='imagemagick', fps=5)\n",
    "Image(url='plot0.gif')\n",
    "\n"
   ]
  },
  {
   "cell_type": "code",
   "execution_count": null,
   "metadata": {},
   "outputs": [],
   "source": []
  }
 ],
 "metadata": {
  "kernelspec": {
   "display_name": "Python 3",
   "language": "python",
   "name": "python3"
  },
  "language_info": {
   "codemirror_mode": {
    "name": "ipython",
    "version": 3
   },
   "file_extension": ".py",
   "mimetype": "text/x-python",
   "name": "python",
   "nbconvert_exporter": "python",
   "pygments_lexer": "ipython3",
   "version": "3.7.3"
  }
 },
 "nbformat": 4,
 "nbformat_minor": 2
}
