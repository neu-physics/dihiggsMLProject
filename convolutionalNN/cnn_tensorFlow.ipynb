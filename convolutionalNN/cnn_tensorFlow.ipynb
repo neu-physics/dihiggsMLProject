{
 "cells": [
  {
   "cell_type": "code",
   "execution_count": null,
   "metadata": {},
   "outputs": [],
   "source": [
    "# To-Do\n",
    "#1) transfer files locally from lxplus or maybe figure out venv on lxplus\n",
    "#X) CM of phi for image?\n",
    "#3) bb-center a la photography talk\n",
    "#4) slide 9: remake these for diHiggs events that have the Higgs back-to-back ie no ISR. Are the blobs more pronounced than non-back-to-back diHiggs events?\n",
    "#X) increase pixels to see if better? --> 15 -> 25 not really improved\n",
    "#6) compare expected yields post-selection from this to other approaches. Much higher signal stats here! But by how much?\n",
    "#7) subtract average a la Anna's idea\n",
    "#X) store images by jet category?\n",
    "# ...\n",
    "# ...\n",
    "#9) script image making --> different pixel sizes, jet categories\n",
    "#10) compare ROC curves for different approaches a la Evan's work"
   ]
  },
  {
   "cell_type": "code",
   "execution_count": 1,
   "metadata": {},
   "outputs": [
    {
     "name": "stderr",
     "output_type": "stream",
     "text": [
      "Using TensorFlow backend.\n"
     ]
    }
   ],
   "source": [
    "# Import the needed libraries\n",
    "import tensorflow as tf\n",
    "import numpy as np\n",
    "import matplotlib.pyplot as plt\n",
    "import h5py as h5\n",
    "import os \n",
    "\n",
    "from keras.models import Sequential\n",
    "from keras.layers import Dense, Activation, Dropout, BatchNormalization, Flatten, Conv2D, MaxPooling2D\n",
    "from keras.callbacks import EarlyStopping, ModelCheckpoint\n",
    "from keras.regularizers import l2, l1\n",
    "from keras.initializers import Constant\n",
    "from sklearn.metrics import confusion_matrix, roc_curve, auc\n",
    "from sklearn.utils import shuffle\n",
    "from sklearn.model_selection import train_test_split\n",
    "\n",
    "\n",
    "# Fix random seed for reproducibility\n",
    "seed = 7\n",
    "np.random.seed(seed)\n",
    "\n",
    "import sys\n",
    "sys.path.insert(0, '/home/btannenw/Desktop/ML/dihiggsMLProject/')\n",
    "from utils.commonFunctions import *"
   ]
  },
  {
   "cell_type": "code",
   "execution_count": 2,
   "metadata": {},
   "outputs": [],
   "source": [
    "# Get image data\n",
    "hh_h5  = h5.File('/home/btannenw/Desktop/ML/dihiggsMLProject/convolutionalNN/pp2hh4b_1M_20files_composite_pix15_phiCM_cat/images/pp2hh4b_1M_20files_composite_pix15_phiCM_cat_allImages.h5', 'r')\n",
    "qcd_h5 = h5.File('/home/btannenw/Desktop/ML/dihiggsMLProject/convolutionalNN/ppTo4b_4M_20files_composite_pix15_phiCM_cat/images/ppTo4b_4M_20files_composite_pix15_phiCM_cat_allImages.h5', 'r')"
   ]
  },
  {
   "cell_type": "code",
   "execution_count": null,
   "metadata": {},
   "outputs": [],
   "source": [
    "# Make composite dihiggs images\n",
    "#hh_combImages = []\n",
    "##for iEvt in range(0, len(hh_imgs['trackImgs'])):\n",
    "#for iEvt in range(0, 5000):\n",
    "#    if iEvt%500 == 0:\n",
    "#        print('Processed {} dihiggs events'.format(iEvt) )\n",
    "#    hh_combImages.append( np.stack( (hh_imgs['trackImgs'][iEvt], hh_imgs['nHadronImgs'][iEvt], hh_imgs['photonImgs'][iEvt]), axis=-1) )\n",
    "#print(len(hh_combImages))\n",
    "\n",
    "#hh = np.stack( (hh_combImages), axis=0)"
   ]
  },
  {
   "cell_type": "code",
   "execution_count": null,
   "metadata": {},
   "outputs": [],
   "source": [
    "hh_h5.keys()"
   ]
  },
  {
   "cell_type": "code",
   "execution_count": 18,
   "metadata": {},
   "outputs": [],
   "source": [
    "# Read data\n",
    "#nEvents = 49757\n",
    "#hh = hh_h5['compositeImgs'][:nEvents]\n",
    "#qcd = qcd_h5['compositeImgs'][:nEvents]\n",
    "\n",
    "#hh = hh_h5['compositeImgs']\n",
    "#qcd = qcd_h5['compositeImgs']\n",
    "\n",
    "hh = hh_h5['compositeImgs_<4j']\n",
    "qcd = qcd_h5['compositeImgs_<4j']\n",
    "\n",
    "print(len(hh), len(qcd))\n",
    "#hh = list(hh)\n",
    "#qcd = list(qcd)"
   ]
  },
  {
   "cell_type": "code",
   "execution_count": null,
   "metadata": {},
   "outputs": [],
   "source": [
    "#nEvents_4j = 19000\n",
    "#hh_4j = hh_h5['compositeImgs_4j'][:nEvents_4j]\n",
    "#qcd_4j = qcd_h5['compositeImgs_4j'][:nEvents_4j]\n",
    "\n",
    "hh_4j = hh_h5['compositeImgs_<4j']\n",
    "qcd_4j = qcd_h5['compositeImgs_<4j']\n",
    "hh_4j0b = hh_h5['compositeImgs_>=4j0b']\n",
    "qcd_4j0b = qcd_h5['compositeImgs_>=4j0b']\n",
    "hh_4j1b = hh_h5['compositeImgs_>=4j1b']\n",
    "qcd_4j1b = qcd_h5['compositeImgs_>=4j1b']\n",
    "\n",
    "hh_4j2b = hh_h5['compositeImgs_>=4j2b']\n",
    "qcd_4j2b = qcd_h5['compositeImgs_>=4j2b']\n",
    "hh_4j3b = hh_h5['compositeImgs_>=4j3b']\n",
    "qcd_4j3b = qcd_h5['compositeImgs_>=4j3b']\n",
    "hh_4j4b = hh_h5['compositeImgs_>=4j4b']\n",
    "qcd_4j4b = qcd_h5['compositeImgs_>=4j4b']\n",
    "\n",
    "hh_g4j4b = hh_h5['compositeImgs_>=4j>=4b']\n",
    "qcd_g4j4b = qcd_h5['compositeImgs_>=4j>=4b']\n",
    "\n",
    "#hh_all = list(hh_4j) + list(hh_4j0b) + list(hh_4j1b) + list(hh_4j2b) + list(hh_4j3b) + list(hh_4j4b) + list(hh_g4j4b)\n",
    "print(len(hh), len(qcd), len(hh_4j)+len(hh_4j0b)+len(hh_4j1b)+len(hh_4j2b)+len(hh_4j3b)+len(hh_4j4b)+len(hh_g4j4b), len(hh_all))"
   ]
  },
  {
   "cell_type": "code",
   "execution_count": null,
   "metadata": {},
   "outputs": [],
   "source": []
  },
  {
   "cell_type": "code",
   "execution_count": 19,
   "metadata": {},
   "outputs": [
    {
     "name": "stdout",
     "output_type": "stream",
     "text": [
      "(80833, 15, 15, 3) (80833,)\n"
     ]
    }
   ],
   "source": [
    "#nEvents = min(len(hh), len(qcd))\n",
    "#nEvents = min(len(hh_imgs['compositeImgs']), len(qcd_imgs['compositeImgs']))\n",
    "\n",
    "# Make labels\n",
    "hh_labels = np.ones( len(hh) )\n",
    "qcd_labels = np.zeros( len(qcd) )\n",
    "\n",
    "# Make combined dataset\n",
    "#all_images = np.concatenate ( (hh.copy(), qcd.copy()), axis=0)\n",
    "all_images = np.concatenate ( (hh, qcd) )\n",
    "all_labels = np.concatenate ( (hh_labels.copy(), qcd_labels.copy()), axis=0)\n",
    "print(all_images.shape, all_labels.shape)\n",
    "\n",
    "#all_images, all_labels = shuffle(all_images, all_labels, random_state=0)\n",
    "imgs_train, imgs_test, labels_train, labels_test = train_test_split(all_images, all_labels, test_size=0.25, shuffle= True, random_state=30)"
   ]
  },
  {
   "cell_type": "code",
   "execution_count": 20,
   "metadata": {},
   "outputs": [
    {
     "name": "stdout",
     "output_type": "stream",
     "text": [
      "initial bias: [-1.35774509]\n",
      "Weight for class 0: 0.63\n",
      "Weight for class 1: 2.44\n"
     ]
    }
   ],
   "source": [
    "# Layer options\n",
    "l2_reg = tf.keras.regularizers.l2(1e-4)\n",
    "conv_kwargs = dict(\n",
    "            activation=\"relu\",\n",
    "            #kernel_initializer=tf.keras.initializers.lecun_normal(),\n",
    "            #kernel_regularizer=l2_reg,\n",
    "    )\n",
    "\n",
    "dense_kwargs = conv_kwargs\n",
    "\n",
    "# bias options\n",
    "initial_bias = np.log([len(hh)/len(qcd)])\n",
    "output_bias = Constant(initial_bias)\n",
    "print(\"initial bias: {}\".format(initial_bias))\n",
    "\n",
    "# class weights\n",
    "# Scaling by total/2 helps keep the loss to a similar magnitude.\n",
    "# The sum of the weights of all examples stays the same.\n",
    "total = len(qcd) + len(hh)\n",
    "weight_for_0 = (1 / len(qcd))*(total)/2.0 \n",
    "weight_for_1 = (1 / len(hh))*(total)/2.0\n",
    "class_weight = {0: weight_for_0, 1: weight_for_1}\n",
    "print('Weight for class 0: {:.2f}'.format(weight_for_0))\n",
    "print('Weight for class 1: {:.2f}'.format(weight_for_1))"
   ]
  },
  {
   "cell_type": "code",
   "execution_count": 21,
   "metadata": {},
   "outputs": [],
   "source": [
    "def evaluateModel( _model, _history, _data, _labels):\n",
    "    # *** A. Make prediction data\n",
    "    hh_data_test    = np.asarray([x for x,y in zip(_data, _labels) if y==1])\n",
    "    hh_labels_test  = np.asarray([y for x,y in zip(_data, _labels) if y==1])\n",
    "    qcd_data_test   = np.asarray([x for x,y in zip(_data, _labels) if y==0])\n",
    "    qcd_labels_test = np.asarray([y for x,y in zip(_data, _labels) if y==0])\n",
    "\n",
    "    # *** B. Load model \n",
    "\n",
    "    # *** C. Make history plots\n",
    "    print(\"*** Training History Plots\")\n",
    "    makeHistoryPlots( _history, ['accuracy', 'loss', 'auc'] )\n",
    "\n",
    "    # *** C. Make predictions\n",
    "    score_hh = _model.evaluate(hh_data_test, hh_labels_test)\n",
    "    score_qcd = _model.evaluate(qcd_data_test, qcd_labels_test)\n",
    "    print(score_hh, score_qcd)\n",
    "    pred_hh = _model.predict(hh_data_test)\n",
    "    pred_qcd = _model.predict(qcd_data_test)\n",
    "    \n",
    "    # *** D. make output score plot\n",
    "    print(\"*** Output Score Plot\")\n",
    "    _nBins = 40\n",
    "    predictionResults = {'hh_pred':pred_hh, 'qcd_pred':pred_qcd}\n",
    "    compareManyHistograms( predictionResults, ['hh_pred', 'qcd_pred'], 2, 'Signal Prediction', 'CNN Score', 0, 1, _nBins, _yMax = 5, _normed=True, savePlot=False )\n",
    "\n",
    "    # *** E. Get best cut value for CNN assuming some minimal amount of signal\n",
    "    pred_hh_sig = [x[0] for x in pred_hh.copy()]\n",
    "    pred_qcd_sig = [x[0] for x in pred_qcd.copy()]\n",
    "\n",
    "    sig, cut, sigErr = returnBestCutValue('CNN', pred_hh_sig, pred_qcd_sig, _minBackground=400e3, _testingFraction=0.025)\n",
    "    \n",
    "    # *** F. Confusion matrix\n",
    "    print(\"*** Confusion Matrix\")\n",
    "    preds_test = _model.predict(_data)\n",
    "    cm = confusion_matrix( _labels, preds_test > cut)\n",
    "    print(cm)\n",
    "    print('QCD called QCD (True Negatives): {} ({}%)'.format( cm[0][0], round(100*(cm[0][0]/sum(cm[0]))) ))\n",
    "    print('QCD called Dihiggs (False Positives):  {} ({}%)'.format( cm[0][1], round(100*(cm[0][1]/sum(cm[0]))) ))\n",
    "    print('Dihiggs called QCD (False Negatives):  {} ({}%)'.format( cm[1][0], round(100*(cm[1][0]/sum(cm[1]))) ))\n",
    "    print('Dihiggs called Dihiggs (True Positives):  {} ({}%)'.format( cm[1][1], round(100*(cm[1][1]/sum(cm[1]))) ))\n",
    "    print('Total Dihiggs: ', np.sum(cm[1]))\n",
    "    \n",
    "    # *** 7. Make ROC curve\n",
    "    print(\"*** ROC Curve\")\n",
    "    makeEfficiencyCurves( dict(label=\"CNN\", labels=_labels, prediction=preds_test, color=\"blue\"), _modelName='CNN')\n",
    "    #utils/commonFunctions.py:def makeEfficiencyCurves(*data, _modelName='', savePlot=False, saveDir=''):"
   ]
  },
  {
   "cell_type": "code",
   "execution_count": 36,
   "metadata": {},
   "outputs": [],
   "source": [
    "def makeModelCNN(pixelWidth=15, savedModel=''):\n",
    "    # Define model\n",
    "    _model = Sequential()\n",
    "\n",
    "    # Convolutional part\n",
    "    _model.add( Conv2D(16, (3, 3), input_shape=(pixelWidth, pixelWidth, 3), **conv_kwargs) )\n",
    "    _model.add( MaxPooling2D((2, 2)) )\n",
    "    _model.add( Conv2D(32, (3, 3), **conv_kwargs))\n",
    "    _model.add( MaxPooling2D((2, 2)))\n",
    "    _model.add( Conv2D(32, (2, 2), **conv_kwargs))\n",
    "    #model.add(layers.Conv2D(64, (3, 3), activation='relu'))\n",
    "\n",
    "    # Feed-forward part\n",
    "    _model.add( Flatten())\n",
    "    _model.add( Dense(64, **dense_kwargs))\n",
    "    _model.add( BatchNormalization() )\n",
    "    _model.add( Dense(64, **dense_kwargs))\n",
    "    #model.add( Dropout(0.2) )\n",
    "    _model.add( Dense(1, activation='sigmoid', bias_initializer=output_bias) )\n",
    "    \n",
    "    _model.summary()\n",
    "    \n",
    "    metrics = [ #tf.keras.metrics.categorical_accuracy,\n",
    "            'accuracy',\n",
    "            tf.keras.metrics.AUC(name='auc'),\n",
    "    ]\n",
    "\n",
    "    _model.compile(loss='binary_crossentropy',\n",
    "              optimizer='adam',\n",
    "              metrics=metrics)\n",
    "              #metrics=['accuracy'])\n",
    "    \n",
    "    \n",
    "    if savedModel !='':\n",
    "        local_dir = os.path.join(savedModel, \"models\")\n",
    "        modelfile = os.path.join(local_dir, savedModel)+'.hdf5'\n",
    "        print(\"++ loading model from {}\".format(modelfile))\n",
    "        if not os.path.isfile(modelfile):\n",
    "            print(\"--- ERROR, Modelfile {} NOT FOUND. No weights initialized\".format(modefile))\n",
    "            return\n",
    "        \n",
    "        _model.predict( np.empty( (pixelWidth, pixelWidth, 3) ))\n",
    "        _model.load_weights(modelfile)\n",
    "\n",
    "    return _model\n"
   ]
  },
  {
   "cell_type": "code",
   "execution_count": 23,
   "metadata": {},
   "outputs": [],
   "source": [
    "# *** 1. Define output directory\n",
    "topDir = \"composite_pixel25_3conv\"\n",
    "name = 'epochs15'\n",
    "if not os.path.exists(topDir):\n",
    "    os.makedirs(topDir)\n",
    "model_dir = os.path.join(topDir, \"\", \"models\")\n",
    "if not os.path.exists(model_dir):\n",
    "    os.makedirs(model_dir)\n",
    "    \n",
    "# *** 2. Define callbacks for training\n",
    "fit_callbacks = [\n",
    "    tf.keras.callbacks.ModelCheckpoint(\n",
    "            filepath=os.path.join(model_dir, name)+'.hdf5',\n",
    "            save_best_only=True,\n",
    "            save_weights_only=True,\n",
    "            #monitor=\"val_auc\",\n",
    "            #mode=\"max\",\n",
    "            monitor=\"val_loss\",\n",
    "            mode=\"min\",\n",
    "        ),\n",
    "    tf.keras.callbacks.EarlyStopping(\n",
    "            #monitor=\"val_auc\",\n",
    "            #mode=\"max\",\n",
    "            monitor='val_loss', \n",
    "            mode='min', \n",
    "            verbose=1, \n",
    "            patience=15,  \n",
    "            min_delta=.0025,\n",
    "        ),\n",
    "    ]"
   ]
  },
  {
   "cell_type": "code",
   "execution_count": null,
   "metadata": {},
   "outputs": [],
   "source": []
  },
  {
   "cell_type": "code",
   "execution_count": 24,
   "metadata": {},
   "outputs": [
    {
     "name": "stdout",
     "output_type": "stream",
     "text": [
      "Model: \"sequential_4\"\n",
      "_________________________________________________________________\n",
      "Layer (type)                 Output Shape              Param #   \n",
      "=================================================================\n",
      "conv2d_10 (Conv2D)           (None, 13, 13, 16)        448       \n",
      "_________________________________________________________________\n",
      "max_pooling2d_7 (MaxPooling2 (None, 6, 6, 16)          0         \n",
      "_________________________________________________________________\n",
      "conv2d_11 (Conv2D)           (None, 4, 4, 32)          4640      \n",
      "_________________________________________________________________\n",
      "max_pooling2d_8 (MaxPooling2 (None, 2, 2, 32)          0         \n",
      "_________________________________________________________________\n",
      "conv2d_12 (Conv2D)           (None, 1, 1, 32)          4128      \n",
      "_________________________________________________________________\n",
      "flatten_4 (Flatten)          (None, 32)                0         \n",
      "_________________________________________________________________\n",
      "dense_10 (Dense)             (None, 64)                2112      \n",
      "_________________________________________________________________\n",
      "batch_normalization_4 (Batch (None, 64)                256       \n",
      "_________________________________________________________________\n",
      "dense_11 (Dense)             (None, 64)                4160      \n",
      "_________________________________________________________________\n",
      "dense_12 (Dense)             (None, 1)                 65        \n",
      "=================================================================\n",
      "Total params: 15,809\n",
      "Trainable params: 15,681\n",
      "Non-trainable params: 128\n",
      "_________________________________________________________________\n",
      "Train on 60624 samples, validate on 20209 samples\n",
      "Epoch 1/50\n",
      "60624/60624 [==============================] - 9s 154us/step - loss: 0.4754 - accuracy: 0.7981 - auc: 0.6277 - val_loss: 0.5101 - val_accuracy: 0.7886 - val_auc: 0.6573\n",
      "Epoch 2/50\n",
      "60624/60624 [==============================] - 10s 159us/step - loss: 0.4570 - accuracy: 0.8002 - auc: 0.6685 - val_loss: 0.5031 - val_accuracy: 0.7886 - val_auc: 0.6769\n",
      "Epoch 3/50\n",
      "60624/60624 [==============================] - 10s 158us/step - loss: 0.4511 - accuracy: 0.8026 - auc: 0.6825 - val_loss: 0.4931 - val_accuracy: 0.7886 - val_auc: 0.6877\n",
      "Epoch 4/50\n",
      "60624/60624 [==============================] - 8s 139us/step - loss: 0.4479 - accuracy: 0.8033 - auc: 0.6918 - val_loss: 0.4752 - val_accuracy: 0.7887 - val_auc: 0.6960\n",
      "Epoch 5/50\n",
      "60624/60624 [==============================] - 8s 137us/step - loss: 0.4453 - accuracy: 0.8042 - auc: 0.6995 - val_loss: 0.4846 - val_accuracy: 0.7893 - val_auc: 0.7014\n",
      "Epoch 6/50\n",
      "60624/60624 [==============================] - 9s 144us/step - loss: 0.4435 - accuracy: 0.8044 - auc: 0.7031 - val_loss: 0.4648 - val_accuracy: 0.7945 - val_auc: 0.7055\n",
      "Epoch 7/50\n",
      "60624/60624 [==============================] - 8s 139us/step - loss: 0.4419 - accuracy: 0.8056 - auc: 0.7077 - val_loss: 0.4812 - val_accuracy: 0.7934 - val_auc: 0.7091\n",
      "Epoch 8/50\n",
      "60624/60624 [==============================] - 9s 148us/step - loss: 0.4394 - accuracy: 0.8068 - auc: 0.7105 - val_loss: 0.5493 - val_accuracy: 0.7335 - val_auc: 0.7098\n",
      "Epoch 9/50\n",
      "60624/60624 [==============================] - 9s 143us/step - loss: 0.4383 - accuracy: 0.8061 - auc: 0.7096 - val_loss: 0.4860 - val_accuracy: 0.7735 - val_auc: 0.7109\n",
      "Epoch 10/50\n",
      "60624/60624 [==============================] - 9s 144us/step - loss: 0.4367 - accuracy: 0.8079 - auc: 0.7123 - val_loss: 0.4782 - val_accuracy: 0.7898 - val_auc: 0.7134\n",
      "Epoch 11/50\n",
      "60624/60624 [==============================] - 9s 144us/step - loss: 0.4345 - accuracy: 0.8091 - auc: 0.7146 - val_loss: 0.4904 - val_accuracy: 0.7932 - val_auc: 0.7154\n",
      "Epoch 12/50\n",
      "60624/60624 [==============================] - 9s 143us/step - loss: 0.4335 - accuracy: 0.8098 - auc: 0.7163 - val_loss: 0.5452 - val_accuracy: 0.7902 - val_auc: 0.7162\n",
      "Epoch 13/50\n",
      "60624/60624 [==============================] - 9s 144us/step - loss: 0.4316 - accuracy: 0.8109 - auc: 0.7162 - val_loss: 0.5198 - val_accuracy: 0.7492 - val_auc: 0.7167\n",
      "Epoch 14/50\n",
      "60624/60624 [==============================] - 9s 144us/step - loss: 0.4300 - accuracy: 0.8116 - auc: 0.7173 - val_loss: 0.5010 - val_accuracy: 0.7593 - val_auc: 0.7181\n",
      "Epoch 15/50\n",
      "60624/60624 [==============================] - 9s 146us/step - loss: 0.4287 - accuracy: 0.8121 - auc: 0.7190 - val_loss: 0.4696 - val_accuracy: 0.7921 - val_auc: 0.7199\n",
      "Epoch 16/50\n",
      "60624/60624 [==============================] - 9s 146us/step - loss: 0.4268 - accuracy: 0.8138 - auc: 0.7211 - val_loss: 0.4978 - val_accuracy: 0.7913 - val_auc: 0.7216\n",
      "Epoch 17/50\n",
      "60624/60624 [==============================] - 9s 146us/step - loss: 0.4254 - accuracy: 0.8146 - auc: 0.7223 - val_loss: 0.5461 - val_accuracy: 0.7257 - val_auc: 0.7225\n",
      "Epoch 18/50\n",
      "60624/60624 [==============================] - 11s 175us/step - loss: 0.4243 - accuracy: 0.8146 - auc: 0.7229 - val_loss: 0.4759 - val_accuracy: 0.7894 - val_auc: 0.7237\n",
      "Epoch 19/50\n",
      "60624/60624 [==============================] - 9s 155us/step - loss: 0.4216 - accuracy: 0.8153 - auc: 0.7247 - val_loss: 0.5121 - val_accuracy: 0.7941 - val_auc: 0.7251\n",
      "Epoch 20/50\n",
      "60624/60624 [==============================] - 9s 142us/step - loss: 0.4206 - accuracy: 0.8158 - auc: 0.7256 - val_loss: 0.4813 - val_accuracy: 0.7911 - val_auc: 0.7264\n",
      "Epoch 21/50\n",
      "60624/60624 [==============================] - 8s 126us/step - loss: 0.4198 - accuracy: 0.8167 - auc: 0.7273 - val_loss: 0.4794 - val_accuracy: 0.7908 - val_auc: 0.7279\n",
      "Epoch 00021: early stopping\n",
      "*** Training History Plots\n"
     ]
    },
    {
     "data": {
      "image/png": "[encoded data removed]",
      "text/plain": [
       "<Figure size 432x288 with 1 Axes>"
      ]
     },
     "metadata": {
      "needs_background": "light"
     },
     "output_type": "display_data"
    },
    {
     "data": {
      "image/png": "[encoded data removed]",
      "text/plain": [
       "<Figure size 432x288 with 1 Axes>"
      ]
     },
     "metadata": {
      "needs_background": "light"
     },
     "output_type": "display_data"
    },
    {
     "data": {
      "image/png": "[encoded data removed]",
      "text/plain": [
       "<Figure size 432x288 with 1 Axes>"
      ]
     },
     "metadata": {
      "needs_background": "light"
     },
     "output_type": "display_data"
    },
    {
     "name": "stdout",
     "output_type": "stream",
     "text": [
      "4272/4272 [==============================] - 1s 138us/step\n",
      "15937/15937 [==============================] - 2s 155us/step\n",
      "[1.523003959477171, 0.10135767608880997, 0.7274339199066162] [0.19959373674716885, 0.975654125213623, 0.7272058129310608]\n",
      "*** Output Score Plot\n"
     ]
    },
    {
     "data": {
      "image/png": "[encoded data removed]",
      "text/plain": [
       "<Figure size 432x288 with 1 Axes>"
      ]
     },
     "metadata": {
      "needs_background": "light"
     },
     "output_type": "display_data"
    },
    {
     "name": "stdout",
     "output_type": "stream",
     "text": [
      "4272 15937\n",
      "nSig = 8071.57 , nBkg = 148281392.28 with significance = 0.663 +/- 0.013 for CNN score > 0.181\n",
      "*** Confusion Matrix\n",
      "[[10344  5593]\n",
      " [ 1551  2721]]\n",
      "QCD called QCD (True Negatives): 10344 (65.0%)\n",
      "QCD called Dihiggs (False Positives):  5593 (35.0%)\n",
      "Dihiggs called QCD (False Negatives):  1551 (36.0%)\n",
      "Dihiggs called Dihiggs (True Positives):  2721 (64.0%)\n",
      "Total Dihiggs:  4272\n",
      "*** ROC Curve\n"
     ]
    },
    {
     "data": {
      "image/png": "[encoded data removed]",
      "text/plain": [
       "<Figure size 432x288 with 1 Axes>"
      ]
     },
     "metadata": {
      "needs_background": "light"
     },
     "output_type": "display_data"
    }
   ],
   "source": [
    "# *** 3A. Train without weights\n",
    "modelNoWeights = makeModelCNN()\n",
    "\n",
    "historyNoWeights = modelNoWeights.fit(imgs_train, labels_train, epochs=50, \n",
    "                    shuffle=True,\n",
    "                    batch_size=512,\n",
    "                    validation_data=(imgs_test, labels_test),\n",
    "                    callbacks=fit_callbacks,\n",
    "                    )\n",
    "\n",
    "evaluateModel( modelNoWeights, historyNoWeights, imgs_test, labels_test)\n"
   ]
  },
  {
   "cell_type": "code",
   "execution_count": 10,
   "metadata": {},
   "outputs": [
    {
     "name": "stdout",
     "output_type": "stream",
     "text": [
      "Model: \"sequential_2\"\n",
      "_________________________________________________________________\n",
      "Layer (type)                 Output Shape              Param #   \n",
      "=================================================================\n",
      "conv2d_4 (Conv2D)            (None, 13, 13, 16)        448       \n",
      "_________________________________________________________________\n",
      "max_pooling2d_3 (MaxPooling2 (None, 6, 6, 16)          0         \n",
      "_________________________________________________________________\n",
      "conv2d_5 (Conv2D)            (None, 4, 4, 32)          4640      \n",
      "_________________________________________________________________\n",
      "max_pooling2d_4 (MaxPooling2 (None, 2, 2, 32)          0         \n",
      "_________________________________________________________________\n",
      "conv2d_6 (Conv2D)            (None, 1, 1, 32)          4128      \n",
      "_________________________________________________________________\n",
      "flatten_2 (Flatten)          (None, 32)                0         \n",
      "_________________________________________________________________\n",
      "dense_4 (Dense)              (None, 64)                2112      \n",
      "_________________________________________________________________\n",
      "batch_normalization_2 (Batch (None, 64)                256       \n",
      "_________________________________________________________________\n",
      "dense_5 (Dense)              (None, 64)                4160      \n",
      "_________________________________________________________________\n",
      "dense_6 (Dense)              (None, 1)                 65        \n",
      "=================================================================\n",
      "Total params: 15,809\n",
      "Trainable params: 15,681\n",
      "Non-trainable params: 128\n",
      "_________________________________________________________________\n",
      "Train on 6783 samples, validate on 2262 samples\n",
      "Epoch 1/50\n",
      "6783/6783 [==============================] - 2s 246us/step - loss: 0.6913 - accuracy: 0.6244 - auc: 0.5405 - val_loss: 0.6516 - val_accuracy: 0.6481 - val_auc: 0.5575\n",
      "Epoch 2/50\n",
      "6783/6783 [==============================] - 1s 139us/step - loss: 0.6578 - accuracy: 0.6017 - auc: 0.5815 - val_loss: 0.6498 - val_accuracy: 0.6481 - val_auc: 0.5912\n",
      "Epoch 3/50\n",
      "6783/6783 [==============================] - 1s 141us/step - loss: 0.6360 - accuracy: 0.6392 - auc: 0.6087 - val_loss: 0.6474 - val_accuracy: 0.6481 - val_auc: 0.6162\n",
      "Epoch 4/50\n",
      "6783/6783 [==============================] - 1s 143us/step - loss: 0.6193 - accuracy: 0.6611 - auc: 0.6284 - val_loss: 0.6448 - val_accuracy: 0.6481 - val_auc: 0.6346\n",
      "Epoch 5/50\n",
      "6783/6783 [==============================] - 1s 146us/step - loss: 0.6067 - accuracy: 0.6702 - auc: 0.6436 - val_loss: 0.6432 - val_accuracy: 0.6481 - val_auc: 0.6479\n",
      "Epoch 6/50\n",
      "6783/6783 [==============================] - 1s 142us/step - loss: 0.5948 - accuracy: 0.6827 - auc: 0.6552 - val_loss: 0.6428 - val_accuracy: 0.6481 - val_auc: 0.6598\n",
      "Epoch 7/50\n",
      "6783/6783 [==============================] - 1s 150us/step - loss: 0.5843 - accuracy: 0.6931 - auc: 0.6668 - val_loss: 0.6396 - val_accuracy: 0.6481 - val_auc: 0.6687\n",
      "Epoch 8/50\n",
      "6783/6783 [==============================] - 1s 163us/step - loss: 0.5731 - accuracy: 0.7015 - auc: 0.6744 - val_loss: 0.6377 - val_accuracy: 0.6481 - val_auc: 0.6769\n",
      "Epoch 9/50\n",
      "6783/6783 [==============================] - 1s 161us/step - loss: 0.5618 - accuracy: 0.7112 - auc: 0.6823 - val_loss: 0.6368 - val_accuracy: 0.6481 - val_auc: 0.6845\n",
      "Epoch 10/50\n",
      "6783/6783 [==============================] - 1s 203us/step - loss: 0.5547 - accuracy: 0.7211 - auc: 0.6892 - val_loss: 0.6351 - val_accuracy: 0.6481 - val_auc: 0.6909\n",
      "Epoch 11/50\n",
      "6783/6783 [==============================] - 1s 143us/step - loss: 0.5408 - accuracy: 0.7301 - auc: 0.6954 - val_loss: 0.6322 - val_accuracy: 0.6481 - val_auc: 0.6977\n",
      "Epoch 12/50\n",
      "6783/6783 [==============================] - 1s 146us/step - loss: 0.5324 - accuracy: 0.7371 - auc: 0.7018 - val_loss: 0.6296 - val_accuracy: 0.6481 - val_auc: 0.7042\n",
      "Epoch 13/50\n",
      "6783/6783 [==============================] - 1s 143us/step - loss: 0.5235 - accuracy: 0.7429 - auc: 0.7083 - val_loss: 0.6325 - val_accuracy: 0.6481 - val_auc: 0.7093\n",
      "Epoch 14/50\n",
      "6783/6783 [==============================] - 1s 156us/step - loss: 0.5128 - accuracy: 0.7467 - auc: 0.7129 - val_loss: 0.6410 - val_accuracy: 0.6481 - val_auc: 0.7134\n",
      "Epoch 15/50\n",
      "6783/6783 [==============================] - 1s 147us/step - loss: 0.5030 - accuracy: 0.7588 - auc: 0.7168 - val_loss: 0.6337 - val_accuracy: 0.6481 - val_auc: 0.7177\n",
      "Epoch 16/50\n",
      "6783/6783 [==============================] - 1s 160us/step - loss: 0.4856 - accuracy: 0.7659 - auc: 0.7213 - val_loss: 0.6278 - val_accuracy: 0.6481 - val_auc: 0.7228\n",
      "Epoch 17/50\n",
      "6783/6783 [==============================] - 1s 165us/step - loss: 0.4752 - accuracy: 0.7744 - auc: 0.7263 - val_loss: 0.6311 - val_accuracy: 0.6481 - val_auc: 0.7276\n",
      "Epoch 18/50\n",
      "6783/6783 [==============================] - 1s 146us/step - loss: 0.4591 - accuracy: 0.7856 - auc: 0.7309 - val_loss: 0.6255 - val_accuracy: 0.6490 - val_auc: 0.7325\n",
      "Epoch 19/50\n",
      "6783/6783 [==============================] - 1s 147us/step - loss: 0.4531 - accuracy: 0.7851 - auc: 0.7359 - val_loss: 0.6275 - val_accuracy: 0.6494 - val_auc: 0.7374\n",
      "Epoch 20/50\n",
      "6783/6783 [==============================] - 1s 144us/step - loss: 0.4431 - accuracy: 0.7939 - auc: 0.7405 - val_loss: 0.6185 - val_accuracy: 0.6512 - val_auc: 0.7424\n",
      "Epoch 21/50\n",
      "6783/6783 [==============================] - 1s 167us/step - loss: 0.4280 - accuracy: 0.8036 - auc: 0.7456 - val_loss: 0.6123 - val_accuracy: 0.6547 - val_auc: 0.7476\n",
      "Epoch 22/50\n",
      "6783/6783 [==============================] - 1s 155us/step - loss: 0.4136 - accuracy: 0.8138 - auc: 0.7509 - val_loss: 0.6219 - val_accuracy: 0.6512 - val_auc: 0.7523\n",
      "Epoch 23/50\n",
      "6783/6783 [==============================] - 1s 142us/step - loss: 0.4064 - accuracy: 0.8151 - auc: 0.7554 - val_loss: 0.6714 - val_accuracy: 0.6481 - val_auc: 0.7560\n",
      "Epoch 24/50\n",
      "6783/6783 [==============================] - 1s 154us/step - loss: 0.4045 - accuracy: 0.8129 - auc: 0.7585 - val_loss: 0.6245 - val_accuracy: 0.6556 - val_auc: 0.7597\n",
      "Epoch 25/50\n",
      "6783/6783 [==============================] - 1s 147us/step - loss: 0.3833 - accuracy: 0.8349 - auc: 0.7626 - val_loss: 0.6063 - val_accuracy: 0.6773 - val_auc: 0.7644\n",
      "Epoch 26/50\n",
      "6783/6783 [==============================] - 1s 141us/step - loss: 0.3702 - accuracy: 0.8381 - auc: 0.7675 - val_loss: 0.6644 - val_accuracy: 0.6552 - val_auc: 0.7685\n",
      "Epoch 27/50\n",
      "6783/6783 [==============================] - 1s 161us/step - loss: 0.3504 - accuracy: 0.8493 - auc: 0.7712 - val_loss: 0.6361 - val_accuracy: 0.6662 - val_auc: 0.7726\n",
      "Epoch 28/50\n",
      "6783/6783 [==============================] - 2s 222us/step - loss: 0.3460 - accuracy: 0.8535 - auc: 0.7753 - val_loss: 0.6611 - val_accuracy: 0.6653 - val_auc: 0.7765\n",
      "Epoch 29/50\n",
      "6783/6783 [==============================] - 1s 174us/step - loss: 0.3334 - accuracy: 0.8514 - auc: 0.7791 - val_loss: 0.6462 - val_accuracy: 0.6737 - val_auc: 0.7803\n",
      "Epoch 30/50\n",
      "6783/6783 [==============================] - 1s 176us/step - loss: 0.3380 - accuracy: 0.8496 - auc: 0.7827 - val_loss: 0.6858 - val_accuracy: 0.6636 - val_auc: 0.7836\n",
      "Epoch 31/50\n",
      "6783/6783 [==============================] - 1s 174us/step - loss: 0.3271 - accuracy: 0.8611 - auc: 0.7859 - val_loss: 0.6788 - val_accuracy: 0.6720 - val_auc: 0.7869\n",
      "Epoch 32/50\n",
      "6783/6783 [==============================] - 1s 171us/step - loss: 0.3084 - accuracy: 0.8633 - auc: 0.7893 - val_loss: 0.6376 - val_accuracy: 0.6782 - val_auc: 0.7906\n",
      "Epoch 33/50\n",
      "6783/6783 [==============================] - 1s 156us/step - loss: 0.3103 - accuracy: 0.8604 - auc: 0.7929 - val_loss: 0.6689 - val_accuracy: 0.6622 - val_auc: 0.7940\n",
      "Epoch 34/50\n",
      "6783/6783 [==============================] - 1s 165us/step - loss: 0.2934 - accuracy: 0.8765 - auc: 0.7963 - val_loss: 0.6679 - val_accuracy: 0.6622 - val_auc: 0.7974\n",
      "Epoch 35/50\n",
      "6783/6783 [==============================] - 1s 169us/step - loss: 0.2773 - accuracy: 0.8874 - auc: 0.7998 - val_loss: 0.8557 - val_accuracy: 0.6622 - val_auc: 0.8003\n",
      "Epoch 36/50\n",
      "6783/6783 [==============================] - 1s 159us/step - loss: 0.2759 - accuracy: 0.8828 - auc: 0.8022 - val_loss: 0.7549 - val_accuracy: 0.6737 - val_auc: 0.8031\n",
      "Epoch 37/50\n"
     ]
    },
    {
     "name": "stdout",
     "output_type": "stream",
     "text": [
      "6783/6783 [==============================] - 1s 156us/step - loss: 0.2612 - accuracy: 0.8869 - auc: 0.8051 - val_loss: 0.6944 - val_accuracy: 0.6706 - val_auc: 0.8063\n",
      "Epoch 38/50\n",
      "6783/6783 [==============================] - 1s 148us/step - loss: 0.2514 - accuracy: 0.8941 - auc: 0.8085 - val_loss: 0.8452 - val_accuracy: 0.6680 - val_auc: 0.8093\n",
      "Epoch 39/50\n",
      "6783/6783 [==============================] - 1s 141us/step - loss: 0.2457 - accuracy: 0.8947 - auc: 0.8112 - val_loss: 0.7768 - val_accuracy: 0.6715 - val_auc: 0.8121\n",
      "Epoch 40/50\n",
      "6783/6783 [==============================] - 1s 144us/step - loss: 0.2290 - accuracy: 0.9046 - auc: 0.8142 - val_loss: 0.8024 - val_accuracy: 0.6569 - val_auc: 0.8151\n",
      "Epoch 00040: early stopping\n",
      "*** Training History Plots\n"
     ]
    },
    {
     "data": {
      "image/png": "[encoded data removed]",
      "text/plain": [
       "<Figure size 432x288 with 1 Axes>"
      ]
     },
     "metadata": {
      "needs_background": "light"
     },
     "output_type": "display_data"
    },
    {
     "data": {
      "image/png": "[encoded data removed]",
      "text/plain": [
       "<Figure size 432x288 with 1 Axes>"
      ]
     },
     "metadata": {
      "needs_background": "light"
     },
     "output_type": "display_data"
    },
    {
     "data": {
      "image/png": "[encoded data removed]",
      "text/plain": [
       "<Figure size 432x288 with 1 Axes>"
      ]
     },
     "metadata": {
      "needs_background": "light"
     },
     "output_type": "display_data"
    },
    {
     "name": "stdout",
     "output_type": "stream",
     "text": [
      "1466/1466 [==============================] - 0s 137us/step\n",
      "796/796 [==============================] - 0s 123us/step\n",
      "[0.3816523764988898, 0.8206002712249756, 0.8147740364074707] [1.5772821771439596, 0.3555276393890381, 0.8140406608581543]\n",
      "*** Output Score Plot\n"
     ]
    },
    {
     "data": {
      "image/png": "[encoded data removed]",
      "text/plain": [
       "<Figure size 432x288 with 1 Axes>"
      ]
     },
     "metadata": {
      "needs_background": "light"
     },
     "output_type": "display_data"
    },
    {
     "name": "stdout",
     "output_type": "stream",
     "text": [
      "1466 796\n",
      "nSig = 3710.97 , nBkg = 14581578.0 with significance = 0.972 +/- 0.034 for CNN score > 0.437\n",
      "*** Confusion Matrix\n",
      "[[ 246  550]\n",
      " [ 215 1251]]\n",
      "QCD called QCD (True Negatives): 246 (31.0%)\n",
      "QCD called Dihiggs (False Positives):  550 (69.0%)\n",
      "Dihiggs called QCD (False Negatives):  215 (15.0%)\n",
      "Dihiggs called Dihiggs (True Positives):  1251 (85.0%)\n",
      "Total Dihiggs:  1466\n",
      "*** ROC Curve\n"
     ]
    },
    {
     "data": {
      "image/png": "[encoded data removed]",
      "text/plain": [
       "<Figure size 432x288 with 1 Axes>"
      ]
     },
     "metadata": {
      "needs_background": "light"
     },
     "output_type": "display_data"
    }
   ],
   "source": [
    "# *** 3B. Train without weights\n",
    "modelWeighted = makeModelCNN()\n",
    "\n",
    "historyWeighted = modelWeighted.fit(imgs_train, labels_train, epochs=50, \n",
    "                    shuffle=True,\n",
    "                    batch_size=512,\n",
    "                    validation_data=(imgs_test, labels_test),\n",
    "                    callbacks=fit_callbacks,\n",
    "                    class_weight=class_weight\n",
    "                   )\n",
    "\n",
    "evaluateModel( modelWeighted, historyWeighted, imgs_test, labels_test)\n"
   ]
  },
  {
   "cell_type": "code",
   "execution_count": null,
   "metadata": {},
   "outputs": [],
   "source": [
    " # *** 7. Make overlaid ROC curves\n",
    "predsNoWeights = modelNoWeights.predict(imgs_test)\n",
    "predsWeighted  = modelWeighted.predict(imgs_test)\n",
    "overlay = [ dict(label=\"No Weights\", labels=labels_test, prediction=predsNoWeights, color=\"blue\"),\n",
    "            dict(label=\"Weighted\", labels=labels_test, prediction=predsWeighted, color=\"red\")\n",
    "          ]\n",
    "overlayROCCurves( overlay )"
   ]
  },
  {
   "cell_type": "code",
   "execution_count": null,
   "metadata": {},
   "outputs": [],
   "source": []
  },
  {
   "cell_type": "code",
   "execution_count": null,
   "metadata": {},
   "outputs": [],
   "source": []
  },
  {
   "cell_type": "code",
   "execution_count": null,
   "metadata": {},
   "outputs": [],
   "source": [
    "# *** 4B. Get signifiance for any user-specified NN score cut value\n",
    "testingFraction = 0.1\n",
    "lumiscale_hh  = getLumiScaleFactor(testingFraction, True, 25e3)\n",
    "lumiscale_qcd = getLumiScaleFactor(testingFraction, False, 50e3)\n",
    "cut = 0.48\n",
    "_nSignal = sum( value > cut for value in pred_hh_sig)*lumiscale_hh\n",
    "_nBackground = sum( value > cut for value in pred_qcd_sig)*lumiscale_qcd\n",
    "\n",
    "print('nSig = {0} , nBkg = {1} with significance = {2} for NN score > {3}'.format(_nSignal, _nBackground, _nSignal/np.sqrt(_nBackground), cut) )"
   ]
  },
  {
   "cell_type": "code",
   "execution_count": null,
   "metadata": {},
   "outputs": [],
   "source": []
  },
  {
   "cell_type": "code",
   "execution_count": null,
   "metadata": {},
   "outputs": [],
   "source": []
  },
  {
   "cell_type": "code",
   "execution_count": 34,
   "metadata": {},
   "outputs": [],
   "source": [
    "a = np.empty((15, 15, 3))"
   ]
  },
  {
   "cell_type": "code",
   "execution_count": 35,
   "metadata": {},
   "outputs": [
    {
     "data": {
      "text/plain": [
       "array([[[6.94784412e-310, 6.94784412e-310, 4.66881659e-310],\n",
       "        [4.66881659e-310, 4.94065646e-324, 4.66881659e-310],\n",
       "        [4.94065646e-324, 4.66881659e-310, 5.46453128e-095],\n",
       "        [6.94784359e-310, 6.98345501e-077, 1.03080217e+136],\n",
       "        [4.94065646e-324, 3.24249305e-086, 6.94784263e-310],\n",
       "        [6.01346930e-154, 7.06652016e-096, 8.48798316e-314],\n",
       "        [8.94213053e+130, 4.66881659e-310, 6.94784359e-310],\n",
       "        [9.37041156e-076, 8.48798316e-314, 4.94065646e-324],\n",
       "        [4.66881659e-310, 1.48219694e-323, 4.66881659e-310],\n",
       "        [4.66881659e-310, 4.66881659e-310, 4.66881514e-310],\n",
       "        [6.94784403e-310, 8.39911598e-323, 6.94784403e-310],\n",
       "        [2.97079411e-313, 8.39911598e-323, 6.94784403e-310],\n",
       "        [7.06673028e-096, 6.94784403e-310, 3.81959242e-313],\n",
       "        [1.05089587e-153, 6.94784403e-310, 6.01346930e-154],\n",
       "        [6.94784403e-310, 4.66839074e-313, 6.01346930e-154]],\n",
       "\n",
       "       [[6.94777410e-310, 4.07356292e+223, 4.66881659e-310],\n",
       "        [2.97079411e-313, 0.00000000e+000, 0.00000000e+000],\n",
       "        [1.05089587e-153, 4.66881659e-310, 4.66881659e-310],\n",
       "        [4.66881659e-310, 8.48798316e-314, 3.28879808e-086],\n",
       "        [4.66881659e-310, 4.66881659e-310, 7.06673073e-096],\n",
       "        [7.18988929e+140, 6.01347002e-154, 4.94065646e-324],\n",
       "        [5.46453128e-095, 4.66881659e-310, 6.98345625e-077],\n",
       "        [1.03080217e+136, 6.01347002e-154, 3.24249361e-086],\n",
       "        [4.07356331e+223, 6.01347002e-154, 7.06652016e-096],\n",
       "        [1.81148490e-152, 8.94213159e+130, 1.05089594e-153],\n",
       "        [1.76534891e+137, 6.01347002e-154, 3.24249361e-086],\n",
       "        [4.07356331e+223, 6.01347002e-154, 7.06652016e-096],\n",
       "        [1.81148490e-152, 8.94213159e+130, 1.05089594e-153],\n",
       "        [6.12743486e-154, 9.37041222e-076, 6.98345624e-077],\n",
       "        [6.01391519e-154, 3.28879846e-086, 3.24249361e-086]],\n",
       "\n",
       "       [[6.01347176e-154, 7.06673073e-096, 7.18988929e+140],\n",
       "        [6.01347002e-154, 1.05089607e-153, 5.46453164e-095],\n",
       "        [6.01347002e-154, 6.98345625e-077, 1.03080217e+136],\n",
       "        [6.01347002e-154, 3.24249361e-086, 4.07356331e+223],\n",
       "        [6.01347002e-154, 7.06652016e-096, 1.81148490e-152],\n",
       "        [8.94213159e+130, 1.05089594e-153, 6.12743486e-154],\n",
       "        [9.37041222e-076, 6.98345624e-077, 6.01391519e-154],\n",
       "        [3.28879846e-086, 3.24249361e-086, 6.01347176e-154],\n",
       "        [7.06673073e-096, 7.18988929e+140, 6.01347002e-154],\n",
       "        [1.05089607e-153, 5.55993284e+141, 6.01391520e-154],\n",
       "        [3.28897948e-086, 3.24249361e-086, 6.01347176e-154],\n",
       "        [7.06673073e-096, 7.18988929e+140, 6.01347002e-154],\n",
       "        [1.05089607e-153, 5.46453164e-095, 6.01347002e-154],\n",
       "        [6.98345625e-077, 1.03080217e+136, 6.01347002e-154],\n",
       "        [3.24249361e-086, 4.07356331e+223, 6.01347002e-154]],\n",
       "\n",
       "       [[7.06652016e-096, 1.81148490e-152, 8.94213159e+130],\n",
       "        [1.05089594e-153, 6.12743486e-154, 9.37041222e-076],\n",
       "        [6.98345624e-077, 6.01391519e-154, 3.28879846e-086],\n",
       "        [3.24249361e-086, 6.01347176e-154, 7.06673073e-096],\n",
       "        [7.18988929e+140, 6.01347002e-154, 1.05089607e-153],\n",
       "        [5.46453164e-095, 6.01347002e-154, 6.98345625e-077],\n",
       "        [1.03080217e+136, 6.01347002e-154, 3.24249361e-086],\n",
       "        [4.07356331e+223, 6.01347002e-154, 7.06652016e-096],\n",
       "        [1.81148490e-152, 8.94213159e+130, 1.05089594e-153],\n",
       "        [1.76534891e+137, 6.01347002e-154, 3.24249361e-086],\n",
       "        [4.07356331e+223, 6.01347002e-154, 7.06652016e-096],\n",
       "        [1.81148490e-152, 8.94213159e+130, 1.05089594e-153],\n",
       "        [6.12743486e-154, 9.37041222e-076, 6.98345624e-077],\n",
       "        [6.01391519e-154, 3.28879846e-086, 3.24249361e-086],\n",
       "        [6.01347176e-154, 7.06673073e-096, 7.18988929e+140]],\n",
       "\n",
       "       [[6.01347002e-154, 1.05089607e-153, 5.46453164e-095],\n",
       "        [6.01347002e-154, 6.98345625e-077, 1.03080217e+136],\n",
       "        [6.01347002e-154, 3.24249361e-086, 4.07356331e+223],\n",
       "        [6.01347002e-154, 7.06652016e-096, 1.81148490e-152],\n",
       "        [8.94213159e+130, 1.05089594e-153, 6.12743486e-154],\n",
       "        [9.37041222e-076, 6.98345624e-077, 6.01391519e-154],\n",
       "        [3.28879846e-086, 3.24249361e-086, 6.01347176e-154],\n",
       "        [7.06673073e-096, 7.18988929e+140, 6.01347002e-154],\n",
       "        [1.05089607e-153, 5.55993284e+141, 6.01391520e-154],\n",
       "        [3.28897948e-086, 3.24249361e-086, 6.01347176e-154],\n",
       "        [7.06673073e-096, 7.18988929e+140, 6.01347002e-154],\n",
       "        [1.05089607e-153, 5.46453164e-095, 6.01347002e-154],\n",
       "        [6.98345625e-077, 1.03080217e+136, 6.01347002e-154],\n",
       "        [3.24249361e-086, 4.07356331e+223, 6.01347002e-154],\n",
       "        [7.06652016e-096, 1.81148490e-152, 8.94213159e+130]],\n",
       "\n",
       "       [[1.05089594e-153, 6.12743486e-154, 9.37041222e-076],\n",
       "        [6.98345624e-077, 6.01391519e-154, 3.28879846e-086],\n",
       "        [3.24249361e-086, 6.01347176e-154, 7.06673073e-096],\n",
       "        [7.18988929e+140, 6.01347002e-154, 1.05089607e-153],\n",
       "        [5.46453164e-095, 6.01347002e-154, 6.98345625e-077],\n",
       "        [1.03080217e+136, 6.01347002e-154, 3.24249361e-086],\n",
       "        [4.07356331e+223, 6.01347002e-154, 7.06652016e-096],\n",
       "        [1.81148490e-152, 8.94213159e+130, 1.05089594e-153],\n",
       "        [1.76534891e+137, 6.01347002e-154, 3.24249361e-086],\n",
       "        [4.07356331e+223, 6.01347002e-154, 7.06652016e-096],\n",
       "        [1.81148490e-152, 8.94213159e+130, 1.05089594e-153],\n",
       "        [6.12743486e-154, 9.37041222e-076, 6.98345624e-077],\n",
       "        [6.01391519e-154, 3.28879846e-086, 3.24249361e-086],\n",
       "        [6.01347176e-154, 7.06673073e-096, 7.18988929e+140],\n",
       "        [6.01347002e-154, 1.05089607e-153, 5.46453164e-095]],\n",
       "\n",
       "       [[6.01347002e-154, 6.98345625e-077, 1.03080217e+136],\n",
       "        [6.01347002e-154, 3.24249361e-086, 4.07356331e+223],\n",
       "        [6.01347002e-154, 7.06652016e-096, 1.81148490e-152],\n",
       "        [8.94213159e+130, 1.05089594e-153, 6.12743486e-154],\n",
       "        [9.37041222e-076, 6.98345624e-077, 6.01391519e-154],\n",
       "        [3.28879846e-086, 3.24249361e-086, 6.01347176e-154],\n",
       "        [7.06673073e-096, 7.18988929e+140, 6.01347002e-154],\n",
       "        [1.05089607e-153, 5.55993284e+141, 6.01391520e-154],\n",
       "        [3.28897948e-086, 3.24249361e-086, 6.01347176e-154],\n",
       "        [7.06673073e-096, 7.18988929e+140, 6.01347002e-154],\n",
       "        [1.05089607e-153, 5.46453164e-095, 6.01347002e-154],\n",
       "        [6.98345625e-077, 1.03080217e+136, 6.01347002e-154],\n",
       "        [3.24249361e-086, 4.07356331e+223, 6.01347002e-154],\n",
       "        [7.06652016e-096, 1.81148490e-152, 8.94213159e+130],\n",
       "        [1.05089594e-153, 6.12743486e-154, 9.37041222e-076]],\n",
       "\n",
       "       [[6.98345624e-077, 6.01391519e-154, 3.28879846e-086],\n",
       "        [3.24249361e-086, 6.01347176e-154, 7.06673073e-096],\n",
       "        [7.18988929e+140, 6.01347002e-154, 1.05089607e-153],\n",
       "        [5.46453164e-095, 6.01347002e-154, 6.98345625e-077],\n",
       "        [1.03080217e+136, 6.01347002e-154, 3.24249361e-086],\n",
       "        [4.07356331e+223, 6.01347002e-154, 7.06652016e-096],\n",
       "        [1.81148490e-152, 8.94213159e+130, 1.05089594e-153],\n",
       "        [1.76534891e+137, 6.01347002e-154, 3.24249361e-086],\n",
       "        [4.07356331e+223, 6.01347002e-154, 7.06652016e-096],\n",
       "        [1.81148490e-152, 8.94213159e+130, 1.05089594e-153],\n",
       "        [6.12743486e-154, 9.37041222e-076, 6.98345624e-077],\n",
       "        [6.01391519e-154, 3.28879846e-086, 3.24249361e-086],\n",
       "        [6.01347176e-154, 7.06673073e-096, 7.18988929e+140],\n",
       "        [6.01347002e-154, 1.05089607e-153, 5.46453164e-095],\n",
       "        [6.01347002e-154, 6.98345625e-077, 1.03080217e+136]],\n",
       "\n",
       "       [[6.01347002e-154, 3.24249361e-086, 4.07356331e+223],\n",
       "        [6.01347002e-154, 7.06652016e-096, 1.81148490e-152],\n",
       "        [8.94213159e+130, 1.05089594e-153, 6.12743486e-154],\n",
       "        [9.37041222e-076, 6.98345624e-077, 6.01391519e-154],\n",
       "        [3.28879846e-086, 3.24249361e-086, 6.01347176e-154],\n",
       "        [7.06673073e-096, 7.18988929e+140, 6.01347002e-154],\n",
       "        [1.05089607e-153, 5.55993284e+141, 2.60866661e-320],\n",
       "        [2.64028681e-320, 0.00000000e+000, 6.94784402e-310],\n",
       "        [2.60767848e-320,             nan, 6.94773269e-310],\n",
       "        [0.00000000e+000, 1.15998412e-028, 2.44171989e+232],\n",
       "        [8.00801729e+159, 1.21359026e+132, 1.05089594e-153],\n",
       "        [6.12743486e-154, 9.37041222e-076, 6.98345624e-077],\n",
       "        [6.01391519e-154, 3.28879846e-086, 3.24249361e-086],\n",
       "        [6.01347176e-154, 7.06673073e-096, 7.18988929e+140],\n",
       "        [6.01347002e-154, 1.05089607e-153, 5.46453164e-095]],\n",
       "\n",
       "       [[6.01347002e-154, 6.98345625e-077, 1.03080217e+136],\n",
       "        [6.01347002e-154, 3.24249361e-086, 4.07356331e+223],\n",
       "        [6.01347002e-154, 7.06652016e-096, 1.81148490e-152],\n",
       "        [8.94213159e+130, 1.05089594e-153, 6.12743486e-154],\n",
       "        [9.37041222e-076, 6.98345624e-077, 6.01391519e-154],\n",
       "        [3.28879846e-086, 3.24249361e-086, 6.01347176e-154],\n",
       "        [7.06673073e-096, 7.18988929e+140, 6.01347002e-154],\n",
       "        [1.05089607e-153, 5.46453164e-095, 6.01347002e-154],\n",
       "        [6.98345625e-077, 1.03080217e+136, 6.01347002e-154],\n",
       "        [3.24249361e-086, 1.03082823e+136, 6.01347002e-154],\n",
       "        [1.05089607e-153, 5.46453164e-095, 6.01347002e-154],\n",
       "        [6.98345625e-077, 1.03080217e+136, 6.01347002e-154],\n",
       "        [3.24249361e-086, 4.07356331e+223, 6.01347002e-154],\n",
       "        [7.06652016e-096, 1.81148490e-152, 8.94213159e+130],\n",
       "        [1.05089594e-153, 6.12743486e-154, 9.37041222e-076]],\n",
       "\n",
       "       [[6.98345624e-077, 6.01391519e-154, 3.28879846e-086],\n",
       "        [3.24249361e-086, 6.01347176e-154, 7.06673073e-096],\n",
       "        [7.18988929e+140, 6.01347002e-154, 1.05089607e-153],\n",
       "        [5.46453164e-095, 6.01347002e-154, 6.98345625e-077],\n",
       "        [1.03080217e+136, 6.01347002e-154, 3.24249361e-086],\n",
       "        [4.07356331e+223, 6.01347002e-154, 7.06652016e-096],\n",
       "        [1.81148490e-152, 8.94213159e+130, 1.05089594e-153],\n",
       "        [6.12743486e-154, 9.37041222e-076, 6.98345624e-077],\n",
       "        [6.01391519e-154, 3.28879846e-086, 3.24249361e-086],\n",
       "        [1.81154498e-152, 1.20336039e+132, 1.05089594e-153],\n",
       "        [6.12743486e-154, 9.37041222e-076, 6.98345624e-077],\n",
       "        [6.01391519e-154, 3.28879846e-086, 3.24249361e-086],\n",
       "        [6.01347176e-154, 7.06673073e-096, 7.18988929e+140],\n",
       "        [6.01347002e-154, 1.05089607e-153, 5.46453164e-095],\n",
       "        [6.01347002e-154, 6.98345625e-077, 1.03080217e+136]],\n",
       "\n",
       "       [[6.01347002e-154, 3.24249361e-086, 4.07356331e+223],\n",
       "        [6.01347002e-154, 7.06652016e-096, 1.81148490e-152],\n",
       "        [8.94213159e+130, 1.05089594e-153, 6.12743486e-154],\n",
       "        [9.37041222e-076, 6.98345624e-077, 6.01391519e-154],\n",
       "        [3.28879846e-086, 3.24249361e-086, 6.01347176e-154],\n",
       "        [7.06673073e-096, 7.18988929e+140, 6.01347002e-154],\n",
       "        [1.05089607e-153, 5.46453164e-095, 6.01347002e-154],\n",
       "        [6.98345625e-077, 1.03080217e+136, 6.01347002e-154],\n",
       "        [3.24249361e-086, 1.03082823e+136, 6.01347002e-154],\n",
       "        [1.05089607e-153, 5.46453164e-095, 6.01347002e-154],\n",
       "        [6.98345625e-077, 1.03080217e+136, 6.01347002e-154],\n",
       "        [3.24249361e-086, 4.07356331e+223, 6.01347002e-154],\n",
       "        [7.06652016e-096, 1.81148490e-152, 8.94213159e+130],\n",
       "        [1.05089594e-153, 6.12743486e-154, 9.37041222e-076],\n",
       "        [6.98345624e-077, 6.01391519e-154, 3.28879846e-086]],\n",
       "\n",
       "       [[3.24249361e-086, 6.01347176e-154, 7.06673073e-096],\n",
       "        [7.18988929e+140, 6.01347002e-154, 1.05089607e-153],\n",
       "        [5.46453164e-095, 6.01347002e-154, 6.98345625e-077],\n",
       "        [1.03080217e+136, 6.01347002e-154, 3.24249361e-086],\n",
       "        [4.07356331e+223, 6.01347002e-154, 7.06652016e-096],\n",
       "        [1.81148490e-152, 8.94213159e+130, 1.05089594e-153],\n",
       "        [6.12743486e-154, 9.37041222e-076, 6.98345624e-077],\n",
       "        [6.01391519e-154, 3.28879846e-086, 3.24249361e-086],\n",
       "        [1.81154498e-152, 1.20336039e+132, 1.05089594e-153],\n",
       "        [6.12743486e-154, 9.37041222e-076, 6.98345624e-077],\n",
       "        [6.01391519e-154, 3.28879846e-086, 3.24249361e-086],\n",
       "        [6.01347176e-154, 7.06673073e-096, 7.18988929e+140],\n",
       "        [6.01347002e-154, 1.05089607e-153, 5.46453164e-095],\n",
       "        [6.01347002e-154, 6.98345625e-077, 1.03080217e+136],\n",
       "        [6.01347002e-154, 3.24249361e-086, 4.07356331e+223]],\n",
       "\n",
       "       [[6.01347002e-154, 7.06652016e-096, 1.81148490e-152],\n",
       "        [8.94213159e+130, 1.05089594e-153, 6.12743486e-154],\n",
       "        [9.37041222e-076, 6.98345624e-077, 6.01391519e-154],\n",
       "        [3.28879846e-086, 3.24249361e-086, 6.01347176e-154],\n",
       "        [7.06673073e-096, 7.18988929e+140, 6.01347002e-154],\n",
       "        [1.05089607e-153, 5.46453164e-095, 6.01347002e-154],\n",
       "        [6.98345625e-077, 1.03080217e+136, 6.01347002e-154],\n",
       "        [3.24249361e-086, 1.03082823e+136, 6.01347002e-154],\n",
       "        [1.05089607e-153, 5.46453164e-095, 6.01347002e-154],\n",
       "        [6.98345625e-077, 1.03080217e+136, 6.01347002e-154],\n",
       "        [3.24249361e-086, 4.07356331e+223, 6.01347002e-154],\n",
       "        [7.06652016e-096, 1.81148490e-152, 8.94213159e+130],\n",
       "        [1.05089594e-153, 6.12743486e-154, 9.37041222e-076],\n",
       "        [6.98345624e-077, 6.01391519e-154, 3.28879846e-086],\n",
       "        [3.24249361e-086, 6.01347176e-154, 7.06673073e-096]],\n",
       "\n",
       "       [[7.18988929e+140, 6.01347002e-154, 1.05089607e-153],\n",
       "        [5.46453164e-095, 6.01347002e-154, 6.98345625e-077],\n",
       "        [1.03080217e+136, 6.01347002e-154, 3.24249361e-086],\n",
       "        [4.07356331e+223, 6.01347002e-154, 7.06652016e-096],\n",
       "        [1.81148490e-152, 8.94213159e+130, 1.05089594e-153],\n",
       "        [6.12743486e-154, 9.37041222e-076, 6.98345624e-077],\n",
       "        [6.01391519e-154, 3.28879846e-086, 3.24249361e-086],\n",
       "        [1.81154498e-152, 1.20336039e+132, 1.05089594e-153],\n",
       "        [6.12743486e-154, 9.37041222e-076, 6.98345624e-077],\n",
       "        [6.01391519e-154, 3.28879846e-086, 3.24249361e-086],\n",
       "        [6.01347176e-154, 7.06673073e-096, 7.18988929e+140],\n",
       "        [6.01347002e-154, 1.05089607e-153, 5.46453164e-095],\n",
       "        [6.01347002e-154, 6.98345625e-077, 1.03080217e+136],\n",
       "        [6.01347002e-154, 3.24249361e-086, 4.07356331e+223],\n",
       "        [6.01347002e-154, 7.06652016e-096, 1.81148490e-152]]])"
      ]
     },
     "execution_count": 35,
     "metadata": {},
     "output_type": "execute_result"
    }
   ],
   "source": [
    "a"
   ]
  },
  {
   "cell_type": "code",
   "execution_count": null,
   "metadata": {},
   "outputs": [],
   "source": []
  }
 ],
 "metadata": {
  "kernelspec": {
   "display_name": "Python 3",
   "language": "python",
   "name": "python3"
  },
  "language_info": {
   "codemirror_mode": {
    "name": "ipython",
    "version": 3
   },
   "file_extension": ".py",
   "mimetype": "text/x-python",
   "name": "python",
   "nbconvert_exporter": "python",
   "pygments_lexer": "ipython3",
   "version": "3.7.4"
  }
 },
 "nbformat": 4,
 "nbformat_minor": 2
}
