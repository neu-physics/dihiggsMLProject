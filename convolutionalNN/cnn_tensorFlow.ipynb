{
 "cells": [
  {
   "cell_type": "code",
   "execution_count": null,
   "metadata": {},
   "outputs": [],
   "source": [
    "# To-Do\n",
    "#1)"
   ]
  },
  {
   "cell_type": "code",
   "execution_count": 1,
   "metadata": {},
   "outputs": [
    {
     "name": "stderr",
     "output_type": "stream",
     "text": [
      "Using TensorFlow backend.\n"
     ]
    }
   ],
   "source": [
    "# Import the needed libraries\n",
    "import tensorflow as tf\n",
    "import numpy as np\n",
    "import matplotlib.pyplot as plt\n",
    "import h5py as h5\n",
    "import os \n",
    "\n",
    "from tensorflow.keras import datasets, layers, models\n",
    "\n",
    "from keras.models import Sequential\n",
    "from keras.layers import Dense, Activation, Dropout, BatchNormalization, Flatten, Conv2D, MaxPooling2D\n",
    "from keras.callbacks import EarlyStopping, ModelCheckpoint\n",
    "from keras.regularizers import l2, l1\n",
    "from keras.utils import normalize, to_categorical\n",
    "from sklearn.metrics import confusion_matrix, roc_curve, auc\n",
    "from sklearn.model_selection import StratifiedKFold\n",
    "from sklearn.utils import shuffle\n",
    "from sklearn.model_selection import train_test_split\n",
    "\n",
    "\n",
    "# Fix random seed for reproducibility\n",
    "seed = 7\n",
    "np.random.seed(seed)\n",
    "\n",
    "import sys\n",
    "sys.path.insert(0, '/home/btannenw/Desktop/ML/dihiggsMLProject/')\n",
    "from utils.commonFunctions import *"
   ]
  },
  {
   "cell_type": "code",
   "execution_count": 2,
   "metadata": {},
   "outputs": [],
   "source": [
    "# Get image data\n",
    "hh_h5  = h5.File('/home/btannenw/Desktop/ML/dihiggsMLProject/convolutionalNN/test_pp2hh4b_25k_composite_15pixel/images/test_pp2hh4b_25k_composite_15pixel_allImages.h5', 'r')\n",
    "qcd_h5 = h5.File('/home/btannenw/Desktop/ML/dihiggsMLProject/convolutionalNN/test_ppTo4b_50k_composite_15pixel/images/test_ppTo4b_50k_composite_15pixel_allImages.h5', 'r')"
   ]
  },
  {
   "cell_type": "code",
   "execution_count": null,
   "metadata": {},
   "outputs": [],
   "source": [
    "# Make composite dihiggs images\n",
    "#hh_combImages = []\n",
    "##for iEvt in range(0, len(hh_imgs['trackImgs'])):\n",
    "#for iEvt in range(0, 5000):\n",
    "#    if iEvt%500 == 0:\n",
    "#        print('Processed {} dihiggs events'.format(iEvt) )\n",
    "#    hh_combImages.append( np.stack( (hh_imgs['trackImgs'][iEvt], hh_imgs['nHadronImgs'][iEvt], hh_imgs['photonImgs'][iEvt]), axis=-1) )\n",
    "#print(len(hh_combImages))\n",
    "\n",
    "#hh = np.stack( (hh_combImages), axis=0)"
   ]
  },
  {
   "cell_type": "code",
   "execution_count": null,
   "metadata": {},
   "outputs": [],
   "source": []
  },
  {
   "cell_type": "code",
   "execution_count": 8,
   "metadata": {},
   "outputs": [
    {
     "name": "stdout",
     "output_type": "stream",
     "text": [
      "24000 24000 24980 49925\n"
     ]
    }
   ],
   "source": [
    "# Read data\n",
    "nEvents = 24000\n",
    "hh = hh_h5['compositeImgs'][:nEvents]\n",
    "qcd = qcd_h5['compositeImgs'][:nEvents]\n",
    "\n",
    "#hh_4j = hh_h5['compositeImgs_4j']\n",
    "#qcd_4j = qcd_h5['compositeImgs_4j']\n",
    "\n",
    "#hh_4j\n",
    "#hh  = np.asarray( [ img for img, njets in zip(hh_h5['compositeImgs'], hh_h5['nJets']) if njets >= 4 ] )\n",
    "#qcd  = np.asarray( [ img for img, njets in zip(qcd_h5['compositeImgs'], qcd_h5['nJets']) if njets >= 4 ] )\n",
    "#hh  = np.asarray( [ img for img in hh_h5['compositeImgs'] ] )\n",
    "#qcd  = np.asarray( [ img for img in qcd_h5['compositeImgs'] ] )\n",
    "\n",
    "\n",
    "#hh = []\n",
    "#nEvts = len(hh_h5['nJets'])\n",
    "#for iEvt in range(0, nEvts):\n",
    "#    if (100*(iEvt+1)/nEvts)%10 == 0:\n",
    "#        print( 'Processed {}% hh...'.format( (100*(iEvt+1))/nEvts))\n",
    "#    if hh_h5['nJets'][iEvt]>3:\n",
    "#        hh.append(hh_h5['compositeImgs'][iEvt])\n",
    "\n",
    "#print(len(hh), len(qcd), len(hh_4j), len(qcd_4j))"
   ]
  },
  {
   "cell_type": "code",
   "execution_count": 10,
   "metadata": {},
   "outputs": [
    {
     "ename": "KeyboardInterrupt",
     "evalue": "",
     "output_type": "error",
     "traceback": [
      "\u001b[0;31m---------------------------------------------------------------------------\u001b[0m",
      "\u001b[0;31mKeyboardInterrupt\u001b[0m                         Traceback (most recent call last)",
      "\u001b[0;32m<ipython-input-10-06a3a31bff8b>\u001b[0m in \u001b[0;36m<module>\u001b[0;34m\u001b[0m\n\u001b[0;32m----> 1\u001b[0;31m \u001b[0mplt\u001b[0m\u001b[0;34m.\u001b[0m\u001b[0mhist\u001b[0m\u001b[0;34m(\u001b[0m \u001b[0;34m[\u001b[0m\u001b[0msum\u001b[0m\u001b[0;34m(\u001b[0m\u001b[0mimg\u001b[0m\u001b[0;34m)\u001b[0m \u001b[0;32mfor\u001b[0m \u001b[0mimg\u001b[0m \u001b[0;32min\u001b[0m \u001b[0mhh_4j\u001b[0m\u001b[0;34m]\u001b[0m\u001b[0;34m)\u001b[0m\u001b[0;34m\u001b[0m\u001b[0;34m\u001b[0m\u001b[0m\n\u001b[0m",
      "\u001b[0;32m<ipython-input-10-06a3a31bff8b>\u001b[0m in \u001b[0;36m<listcomp>\u001b[0;34m(.0)\u001b[0m\n\u001b[0;32m----> 1\u001b[0;31m \u001b[0mplt\u001b[0m\u001b[0;34m.\u001b[0m\u001b[0mhist\u001b[0m\u001b[0;34m(\u001b[0m \u001b[0;34m[\u001b[0m\u001b[0msum\u001b[0m\u001b[0;34m(\u001b[0m\u001b[0mimg\u001b[0m\u001b[0;34m)\u001b[0m \u001b[0;32mfor\u001b[0m \u001b[0mimg\u001b[0m \u001b[0;32min\u001b[0m \u001b[0mhh_4j\u001b[0m\u001b[0;34m]\u001b[0m\u001b[0;34m)\u001b[0m\u001b[0;34m\u001b[0m\u001b[0;34m\u001b[0m\u001b[0m\n\u001b[0m",
      "\u001b[0;32m~/.local/lib/python3.7/site-packages/h5py/_hl/dataset.py\u001b[0m in \u001b[0;36m__iter__\u001b[0;34m(self)\u001b[0m\n\u001b[1;32m    472\u001b[0m             \u001b[0;32mraise\u001b[0m \u001b[0mTypeError\u001b[0m\u001b[0;34m(\u001b[0m\u001b[0;34m\"Can't iterate over a scalar dataset\"\u001b[0m\u001b[0;34m)\u001b[0m\u001b[0;34m\u001b[0m\u001b[0;34m\u001b[0m\u001b[0m\n\u001b[1;32m    473\u001b[0m         \u001b[0;32mfor\u001b[0m \u001b[0mi\u001b[0m \u001b[0;32min\u001b[0m \u001b[0mxrange\u001b[0m\u001b[0;34m(\u001b[0m\u001b[0mshape\u001b[0m\u001b[0;34m[\u001b[0m\u001b[0;36m0\u001b[0m\u001b[0;34m]\u001b[0m\u001b[0;34m)\u001b[0m\u001b[0;34m:\u001b[0m\u001b[0;34m\u001b[0m\u001b[0;34m\u001b[0m\u001b[0m\n\u001b[0;32m--> 474\u001b[0;31m             \u001b[0;32myield\u001b[0m \u001b[0mself\u001b[0m\u001b[0;34m[\u001b[0m\u001b[0mi\u001b[0m\u001b[0;34m]\u001b[0m\u001b[0;34m\u001b[0m\u001b[0;34m\u001b[0m\u001b[0m\n\u001b[0m\u001b[1;32m    475\u001b[0m \u001b[0;34m\u001b[0m\u001b[0m\n\u001b[1;32m    476\u001b[0m     \u001b[0;34m@\u001b[0m\u001b[0mwith_phil\u001b[0m\u001b[0;34m\u001b[0m\u001b[0;34m\u001b[0m\u001b[0m\n",
      "\u001b[0;32mh5py/_objects.pyx\u001b[0m in \u001b[0;36mh5py._objects.with_phil.wrapper\u001b[0;34m()\u001b[0m\n",
      "\u001b[0;32mh5py/_objects.pyx\u001b[0m in \u001b[0;36mh5py._objects.with_phil.wrapper\u001b[0;34m()\u001b[0m\n",
      "\u001b[0;32m~/.local/lib/python3.7/site-packages/h5py/_hl/dataset.py\u001b[0m in \u001b[0;36m__getitem__\u001b[0;34m(self, args)\u001b[0m\n\u001b[1;32m    571\u001b[0m         \u001b[0mmspace\u001b[0m \u001b[0;34m=\u001b[0m \u001b[0mh5s\u001b[0m\u001b[0;34m.\u001b[0m\u001b[0mcreate_simple\u001b[0m\u001b[0;34m(\u001b[0m\u001b[0mmshape\u001b[0m\u001b[0;34m)\u001b[0m\u001b[0;34m\u001b[0m\u001b[0;34m\u001b[0m\u001b[0m\n\u001b[1;32m    572\u001b[0m         \u001b[0mfspace\u001b[0m \u001b[0;34m=\u001b[0m \u001b[0mselection\u001b[0m\u001b[0;34m.\u001b[0m\u001b[0mid\u001b[0m\u001b[0;34m\u001b[0m\u001b[0;34m\u001b[0m\u001b[0m\n\u001b[0;32m--> 573\u001b[0;31m         \u001b[0mself\u001b[0m\u001b[0;34m.\u001b[0m\u001b[0mid\u001b[0m\u001b[0;34m.\u001b[0m\u001b[0mread\u001b[0m\u001b[0;34m(\u001b[0m\u001b[0mmspace\u001b[0m\u001b[0;34m,\u001b[0m \u001b[0mfspace\u001b[0m\u001b[0;34m,\u001b[0m \u001b[0marr\u001b[0m\u001b[0;34m,\u001b[0m \u001b[0mmtype\u001b[0m\u001b[0;34m,\u001b[0m \u001b[0mdxpl\u001b[0m\u001b[0;34m=\u001b[0m\u001b[0mself\u001b[0m\u001b[0;34m.\u001b[0m\u001b[0m_dxpl\u001b[0m\u001b[0;34m)\u001b[0m\u001b[0;34m\u001b[0m\u001b[0;34m\u001b[0m\u001b[0m\n\u001b[0m\u001b[1;32m    574\u001b[0m \u001b[0;34m\u001b[0m\u001b[0m\n\u001b[1;32m    575\u001b[0m         \u001b[0;31m# Patch up the output for NumPy\u001b[0m\u001b[0;34m\u001b[0m\u001b[0;34m\u001b[0m\u001b[0;34m\u001b[0m\u001b[0m\n",
      "\u001b[0;31mKeyboardInterrupt\u001b[0m: "
     ]
    }
   ],
   "source": [
    "plt.hist( [sum(img) for img in hh_4j])"
   ]
  },
  {
   "cell_type": "code",
   "execution_count": 13,
   "metadata": {},
   "outputs": [
    {
     "name": "stdout",
     "output_type": "stream",
     "text": [
      "(48000, 15, 15, 3) (48000,)\n"
     ]
    }
   ],
   "source": [
    "#nEvents = min(len(hh), len(qcd))\n",
    "#nEvents = min(len(hh_imgs['compositeImgs']), len(qcd_imgs['compositeImgs']))\n",
    "\n",
    "# Make labels\n",
    "hh_labels = np.ones( nEvents )\n",
    "qcd_labels = np.zeros( nEvents )\n",
    "nEvents_4j = min( len(hh_4j), len(qcd_4j))\n",
    "#hh_4j_labels = np.ones( nEvents_4j )\n",
    "#qcd_4j_labels = np.zeros( nEvents_4j )\n",
    "\n",
    "# Make combined dataset\n",
    "all_images = np.concatenate ( (hh.copy(), qcd.copy()), axis=0)\n",
    "all_labels = np.concatenate ( (hh_labels.copy(), qcd_labels.copy()), axis=0)\n",
    "print(all_images.shape, all_labels.shape)\n",
    "\n",
    "#all_4j_images = np.concatenate ( (hh_4j.copy(), qcd_4j.copy()), axis=0)\n",
    "#all_4j_labels = np.concatenate ( (hh_4j_labels.copy(), qcd_4j_labels.copy()), axis=0)\n",
    "#print(all_images.shape, all_labels.shape)\n",
    "\n",
    "#all_images, all_labels = shuffle(all_images, all_labels, random_state=0)\n",
    "imgs_train, imgs_test, labels_train, labels_test = train_test_split(all_images, all_labels, test_size=0.1, shuffle= True, random_state=30)\n",
    "#imgs_4j_train, imgs_4j_test, labels_4j_train, labels_4j_test = train_test_split(all_4j_images, all_4j_labels, test_size=0.1, shuffle= True, random_state=30)"
   ]
  },
  {
   "cell_type": "code",
   "execution_count": 24,
   "metadata": {},
   "outputs": [],
   "source": [
    "# Layer options\n",
    "l2_reg = tf.keras.regularizers.l2(1e-4)\n",
    "conv_kwargs = dict(\n",
    "            activation=\"relu\",\n",
    "            #kernel_initializer=tf.keras.initializers.lecun_normal(),\n",
    "            kernel_regularizer=l2_reg,\n",
    "    )\n",
    "\n",
    "dense_kwargs = conv_kwargs\n",
    "\n",
    "# Define model\n",
    "model = Sequential()\n",
    "\n",
    "# Convolutional part\n",
    "model.add( Conv2D(16, (3, 3), input_shape=(15, 15, 3), **conv_kwargs) )\n",
    "model.add( MaxPooling2D((2, 2)) )\n",
    "#model.add( Conv2D(32, (3, 3), activation='relu'))\n",
    "#model.add( MaxPooling2D((2, 2)))\n",
    "#model.add(layers.Conv2D(64, (3, 3), activation='relu'))\n",
    "\n",
    "# Feed-forward part\n",
    "model.add( Flatten())\n",
    "model.add( Dense(64, **dense_kwargs))\n",
    "model.add( BatchNormalization() )\n",
    "model.add( Dense(64, **dense_kwargs))\n",
    "#model.add( Dropout(0.2) )\n",
    "model.add( Dense(1) )\n"
   ]
  },
  {
   "cell_type": "code",
   "execution_count": 25,
   "metadata": {},
   "outputs": [
    {
     "name": "stdout",
     "output_type": "stream",
     "text": [
      "Model: \"sequential_4\"\n",
      "_________________________________________________________________\n",
      "Layer (type)                 Output Shape              Param #   \n",
      "=================================================================\n",
      "conv2d_7 (Conv2D)            (None, 13, 13, 16)        448       \n",
      "_________________________________________________________________\n",
      "max_pooling2d_5 (MaxPooling2 (None, 6, 6, 16)          0         \n",
      "_________________________________________________________________\n",
      "flatten_4 (Flatten)          (None, 576)               0         \n",
      "_________________________________________________________________\n",
      "dense_10 (Dense)             (None, 64)                36928     \n",
      "_________________________________________________________________\n",
      "batch_normalization_4 (Batch (None, 64)                256       \n",
      "_________________________________________________________________\n",
      "dense_11 (Dense)             (None, 64)                4160      \n",
      "_________________________________________________________________\n",
      "dense_12 (Dense)             (None, 1)                 65        \n",
      "=================================================================\n",
      "Total params: 41,857\n",
      "Trainable params: 41,729\n",
      "Non-trainable params: 128\n",
      "_________________________________________________________________\n"
     ]
    }
   ],
   "source": [
    "model.summary()"
   ]
  },
  {
   "cell_type": "code",
   "execution_count": 26,
   "metadata": {},
   "outputs": [],
   "source": [
    "metrics = [ #tf.keras.metrics.categorical_accuracy,\n",
    "            'accuracy',\n",
    "            tf.keras.metrics.AUC(name='auc'),\n",
    "    ]\n",
    "\n",
    "model.compile(loss='binary_crossentropy',\n",
    "              optimizer='adam',\n",
    "              metrics=metrics)\n",
    "              #metrics=['accuracy'])"
   ]
  },
  {
   "cell_type": "code",
   "execution_count": 27,
   "metadata": {},
   "outputs": [
    {
     "name": "stdout",
     "output_type": "stream",
     "text": [
      "Train on 43200 samples, validate on 4800 samples\n",
      "Epoch 1/40\n",
      "43200/43200 [==============================] - 5s 116us/step - loss: 1.3521 - accuracy: 0.5609 - auc: 0.3788 - val_loss: 1.0549 - val_accuracy: 0.4958 - val_auc: 0.4851\n",
      "Epoch 2/40\n",
      "43200/43200 [==============================] - 5s 109us/step - loss: 0.7088 - accuracy: 0.6209 - auc: 0.5231 - val_loss: 0.8994 - val_accuracy: 0.4958 - val_auc: 0.5514\n",
      "Epoch 3/40\n",
      "43200/43200 [==============================] - 4s 100us/step - loss: 0.7158 - accuracy: 0.6325 - auc: 0.5680 - val_loss: 0.8127 - val_accuracy: 0.4958 - val_auc: 0.5781\n",
      "Epoch 4/40\n",
      "43200/43200 [==============================] - 5s 120us/step - loss: 0.6937 - accuracy: 0.6327 - auc: 0.5862 - val_loss: 0.7645 - val_accuracy: 0.4958 - val_auc: 0.5954\n",
      "Epoch 5/40\n",
      "43200/43200 [==============================] - 5s 115us/step - loss: 1.0921 - accuracy: 0.5938 - auc: 0.5986 - val_loss: 0.9077 - val_accuracy: 0.4871 - val_auc: 0.5933\n",
      "Epoch 6/40\n",
      "43200/43200 [==============================] - 5s 111us/step - loss: 0.7028 - accuracy: 0.6112 - auc: 0.5951 - val_loss: 0.7025 - val_accuracy: 0.5581 - val_auc: 0.5999\n",
      "Epoch 7/40\n",
      "43200/43200 [==============================] - 5s 116us/step - loss: 0.7003 - accuracy: 0.6175 - auc: 0.6034 - val_loss: 0.6801 - val_accuracy: 0.6002 - val_auc: 0.6065\n",
      "Epoch 8/40\n",
      "43200/43200 [==============================] - 5s 114us/step - loss: 0.6678 - accuracy: 0.6357 - auc: 0.6111 - val_loss: 0.6674 - val_accuracy: 0.6263 - val_auc: 0.6145\n",
      "Epoch 9/40\n",
      "43200/43200 [==============================] - 4s 99us/step - loss: 0.6442 - accuracy: 0.6568 - auc: 0.6192 - val_loss: 0.6595 - val_accuracy: 0.6585 - val_auc: 0.6243\n",
      "Epoch 10/40\n",
      "43200/43200 [==============================] - 4s 103us/step - loss: 0.6466 - accuracy: 0.6568 - auc: 0.6286 - val_loss: 0.6865 - val_accuracy: 0.6133 - val_auc: 0.6317\n",
      "Epoch 11/40\n",
      "43200/43200 [==============================] - 4s 103us/step - loss: 0.6360 - accuracy: 0.6651 - auc: 0.6350 - val_loss: 0.6493 - val_accuracy: 0.6602 - val_auc: 0.6386\n",
      "Epoch 12/40\n",
      "43200/43200 [==============================] - 5s 106us/step - loss: 0.6285 - accuracy: 0.6717 - auc: 0.6422 - val_loss: 0.6533 - val_accuracy: 0.6573 - val_auc: 0.6453\n",
      "Epoch 13/40\n",
      "43200/43200 [==============================] - 5s 110us/step - loss: 0.6188 - accuracy: 0.6812 - auc: 0.6484 - val_loss: 0.6515 - val_accuracy: 0.6808 - val_auc: 0.6515\n",
      "Epoch 14/40\n",
      "43200/43200 [==============================] - 5s 111us/step - loss: 0.6145 - accuracy: 0.6866 - auc: 0.6543 - val_loss: 0.6464 - val_accuracy: 0.6746 - val_auc: 0.6571\n",
      "Epoch 15/40\n",
      "43200/43200 [==============================] - 4s 104us/step - loss: 0.6075 - accuracy: 0.6900 - auc: 0.6599 - val_loss: 0.6373 - val_accuracy: 0.6725 - val_auc: 0.6625\n",
      "Epoch 16/40\n",
      "43200/43200 [==============================] - 5s 114us/step - loss: 0.6027 - accuracy: 0.6945 - auc: 0.6651 - val_loss: 0.6340 - val_accuracy: 0.6840 - val_auc: 0.6677\n",
      "Epoch 17/40\n",
      "43200/43200 [==============================] - 5s 118us/step - loss: 0.6049 - accuracy: 0.6918 - auc: 0.6699 - val_loss: 0.6417 - val_accuracy: 0.6862 - val_auc: 0.6720\n",
      "Epoch 18/40\n",
      "43200/43200 [==============================] - 6s 142us/step - loss: 0.5978 - accuracy: 0.6998 - auc: 0.6742 - val_loss: 0.6291 - val_accuracy: 0.6848 - val_auc: 0.6762\n",
      "Epoch 19/40\n",
      "43200/43200 [==============================] - 6s 143us/step - loss: 0.6018 - accuracy: 0.6938 - auc: 0.6779 - val_loss: 0.6535 - val_accuracy: 0.6842 - val_auc: 0.6798\n",
      "Epoch 20/40\n",
      "43200/43200 [==============================] - 6s 137us/step - loss: 0.5938 - accuracy: 0.7013 - auc: 0.6817 - val_loss: 0.6451 - val_accuracy: 0.6869 - val_auc: 0.6834\n",
      "Epoch 21/40\n",
      "43200/43200 [==============================] - 5s 127us/step - loss: 0.5866 - accuracy: 0.7069 - auc: 0.6852 - val_loss: 0.6419 - val_accuracy: 0.6894 - val_auc: 0.6868\n",
      "Epoch 22/40\n",
      "43200/43200 [==============================] - 5s 121us/step - loss: 0.5962 - accuracy: 0.7021 - auc: 0.6883 - val_loss: 0.6394 - val_accuracy: 0.6740 - val_auc: 0.6894\n",
      "Epoch 23/40\n",
      "43200/43200 [==============================] - 5s 109us/step - loss: 0.5892 - accuracy: 0.7065 - auc: 0.6906 - val_loss: 0.6490 - val_accuracy: 0.6879 - val_auc: 0.6918\n",
      "Epoch 24/40\n",
      "43200/43200 [==============================] - 6s 131us/step - loss: 0.5860 - accuracy: 0.7063 - auc: 0.6931 - val_loss: 0.6578 - val_accuracy: 0.6865 - val_auc: 0.6944\n",
      "Epoch 25/40\n",
      "43200/43200 [==============================] - 5s 118us/step - loss: 0.5841 - accuracy: 0.7088 - auc: 0.6956 - val_loss: 0.6699 - val_accuracy: 0.6973 - val_auc: 0.6968\n",
      "Epoch 26/40\n",
      "43200/43200 [==============================] - 5s 111us/step - loss: 0.5769 - accuracy: 0.7155 - auc: 0.6980 - val_loss: 0.6573 - val_accuracy: 0.6971 - val_auc: 0.6992\n",
      "Epoch 27/40\n",
      "43200/43200 [==============================] - 5s 113us/step - loss: 0.5876 - accuracy: 0.7103 - auc: 0.7001 - val_loss: 0.6474 - val_accuracy: 0.6994 - val_auc: 0.7012\n",
      "Epoch 28/40\n",
      "43200/43200 [==============================] - 5s 111us/step - loss: 0.6075 - accuracy: 0.6953 - auc: 0.7019 - val_loss: 0.6575 - val_accuracy: 0.6965 - val_auc: 0.7026\n",
      "Epoch 00028: early stopping\n"
     ]
    }
   ],
   "source": [
    "# *** 1. Define output directory\n",
    "topDir = \"composite_pixel15\"\n",
    "name = 'epochs40'\n",
    "if not os.path.exists(topDir):\n",
    "    os.makedirs(topDir)\n",
    "model_dir = os.path.join(topDir, \"\", \"models\", name)\n",
    "if not os.path.exists(model_dir):\n",
    "    os.makedirs(model_dir)\n",
    "\n",
    "# *** 2. Define callbacks for training\n",
    "fit_callbacks = [\n",
    "    tf.keras.callbacks.ModelCheckpoint(\n",
    "            filepath=os.path.join(model_dir, name)+'.hdf5',\n",
    "            save_best_only=True,\n",
    "            save_weights_only=True,\n",
    "            #monitor=\"val_auc\",\n",
    "            #mode=\"max\",\n",
    "            monitor=\"val_loss\",\n",
    "            mode=\"min\",\n",
    "        ),\n",
    "    tf.keras.callbacks.EarlyStopping(\n",
    "            #monitor=\"val_auc\",\n",
    "            #mode=\"max\",\n",
    "            monitor='val_loss', \n",
    "            mode='min', \n",
    "            verbose=1, \n",
    "            patience=10,  \n",
    "            min_delta=.0025,\n",
    "        ),\n",
    "    ]\n",
    "    \n",
    "history = model.fit(imgs_train, labels_train, epochs=40, \n",
    "                    shuffle=True,\n",
    "                    batch_size=512,\n",
    "                    validation_data=(imgs_test, labels_test),\n",
    "                    callbacks=fit_callbacks\n",
    "                   )"
   ]
  },
  {
   "cell_type": "code",
   "execution_count": 28,
   "metadata": {},
   "outputs": [
    {
     "data": {
      "image/png": "[encoded data removed]",
      "text/plain": [
       "<Figure size 432x288 with 1 Axes>"
      ]
     },
     "metadata": {
      "needs_background": "light"
     },
     "output_type": "display_data"
    },
    {
     "data": {
      "image/png": "[encoded data removed]",
      "text/plain": [
       "<Figure size 432x288 with 1 Axes>"
      ]
     },
     "metadata": {
      "needs_background": "light"
     },
     "output_type": "display_data"
    },
    {
     "data": {
      "image/png": "[encoded data removed]",
      "text/plain": [
       "<Figure size 432x288 with 1 Axes>"
      ]
     },
     "metadata": {
      "needs_background": "light"
     },
     "output_type": "display_data"
    }
   ],
   "source": [
    "plt.plot(history.history['accuracy'], label='accuracy')\n",
    "plt.plot(history.history['val_accuracy'], label = 'val_accuracy')\n",
    "plt.xlabel('Epoch')\n",
    "plt.ylabel('Accuracy')\n",
    "plt.ylim([0.0, 1])\n",
    "plt.legend(loc='lower right')\n",
    "plt.show()\n",
    "\n",
    "plt.plot(history.history['loss'], label='loss')\n",
    "plt.plot(history.history['val_loss'], label = 'val_loss')\n",
    "plt.xlabel('Epoch')\n",
    "plt.ylabel('Loss')\n",
    "plt.ylim([0., 2])\n",
    "plt.legend(loc='lower right')\n",
    "plt.show()\n",
    "\n",
    "plt.plot(history.history['auc'], label='AUC')\n",
    "plt.plot(history.history['val_auc'], label = 'val_AUC')\n",
    "plt.xlabel('Epoch')\n",
    "plt.ylabel('AUC')\n",
    "plt.ylim([0., 1])\n",
    "plt.legend(loc='lower right')\n",
    "plt.show()\n",
    "\n",
    "#test_loss, test_acc = model.evaluate(imgs_test,  labels_test, verbose=2)\n"
   ]
  },
  {
   "cell_type": "code",
   "execution_count": 29,
   "metadata": {},
   "outputs": [
    {
     "name": "stdout",
     "output_type": "stream",
     "text": [
      "2420/2420 [==============================] - 0s 187us/step\n",
      "2380/2380 [==============================] - 0s 158us/step\n",
      "[0.5639351506863743, 0.7371900677680969, 0.7027792930603027] [0.7525384931003346, 0.6550419926643372, 0.7028436064720154]\n"
     ]
    }
   ],
   "source": [
    "# make prediction data\n",
    "hh_data_test    = np.asarray([x for x,y in zip(imgs_test, labels_test) if y==1])\n",
    "hh_labels_test  = np.asarray([y for x,y in zip(imgs_test, labels_test) if y==1])\n",
    "qcd_data_test   = np.asarray([x for x,y in zip(imgs_test, labels_test) if y==0])\n",
    "qcd_labels_test = np.asarray([y for x,y in zip(imgs_test, labels_test) if y==0])\n",
    "\n",
    "#load model \n",
    "\n",
    "# make predictions\n",
    "score_hh = model.evaluate(hh_data_test, hh_labels_test)\n",
    "score_qcd = model.evaluate(qcd_data_test, qcd_labels_test)\n",
    "print(score_hh, score_qcd)\n",
    "pred_hh = model.predict(hh_data_test)\n",
    "pred_qcd = model.predict(qcd_data_test)"
   ]
  },
  {
   "cell_type": "code",
   "execution_count": 30,
   "metadata": {},
   "outputs": [
    {
     "data": {
      "image/png": "[encoded data removed]",
      "text/plain": [
       "<Figure size 432x288 with 1 Axes>"
      ]
     },
     "metadata": {
      "needs_background": "light"
     },
     "output_type": "display_data"
    }
   ],
   "source": [
    "_nBins = 40\n",
    "predictionResults = {'hh_pred':pred_hh, 'qcd_pred':pred_qcd}\n",
    "compareManyHistograms( predictionResults, ['hh_pred', 'qcd_pred'], 2, 'Signal Prediction', 'CNN Score', 0, 1, _nBins, _yMax = 5, _normed=True, savePlot=False )\n"
   ]
  },
  {
   "cell_type": "code",
   "execution_count": 31,
   "metadata": {},
   "outputs": [
    {
     "name": "stdout",
     "output_type": "stream",
     "text": [
      "2420 2380\n",
      "nSig = 1093.12 , nBkg = 3532718.67 with significance = 0.582 +/- 0.02 for CNN score > 0.595\n"
     ]
    },
    {
     "data": {
      "text/plain": [
       "(0.5815843050386775, 0.5954786268147555, 0.019700769834717188)"
      ]
     },
     "execution_count": 31,
     "metadata": {},
     "output_type": "execute_result"
    }
   ],
   "source": [
    "# *** 4. Get best cut value for CNN assuming some minimal amount of signal\n",
    "pred_hh_sig = [x[0] for x in pred_hh.copy()]\n",
    "pred_qcd_sig = [x[0] for x in pred_qcd.copy()]\n",
    "\n",
    "returnBestCutValue('CNN', pred_hh_sig, pred_qcd_sig, _minBackground=400e3, _testingFraction=0.1)"
   ]
  },
  {
   "cell_type": "code",
   "execution_count": 34,
   "metadata": {},
   "outputs": [
    {
     "name": "stdout",
     "output_type": "stream",
     "text": [
      "nSig = 1366.0271999999998 , nBkg = 5985074.97 with significance = 0.5583731795825618 for NN score > 0.48\n"
     ]
    }
   ],
   "source": [
    "# *** 6B. Get signifiance for any user-specified NN score cut value\n",
    "testingFraction = 0.1\n",
    "lumiscale_hh  = getLumiScaleFactor(testingFraction, True, 25e3)\n",
    "lumiscale_qcd = getLumiScaleFactor(testingFraction, False, 50e3)\n",
    "cut = 0.48\n",
    "_nSignal = sum( value > cut for value in pred_hh_sig)*lumiscale_hh\n",
    "_nBackground = sum( value > cut for value in pred_qcd_sig)*lumiscale_qcd\n",
    "\n",
    "print('nSig = {0} , nBkg = {1} with significance = {2} for NN score > {3}'.format(_nSignal, _nBackground, _nSignal/np.sqrt(_nBackground), cut) )"
   ]
  },
  {
   "cell_type": "code",
   "execution_count": 35,
   "metadata": {},
   "outputs": [
    {
     "data": {
      "text/plain": [
       "4.47213595499958"
      ]
     },
     "execution_count": 35,
     "metadata": {},
     "output_type": "execute_result"
    }
   ],
   "source": [
    "(1e6/25e3)/np.sqrt(4e6/50e3)"
   ]
  },
  {
   "cell_type": "code",
   "execution_count": 37,
   "metadata": {},
   "outputs": [
    {
     "data": {
      "text/plain": [
       "2.6006426116119927"
      ]
     },
     "execution_count": 37,
     "metadata": {},
     "output_type": "execute_result"
    }
   ],
   "source": [
    "(1093*(1e6/25e3))/np.sqrt(3532718*(4e6/50e3))"
   ]
  },
  {
   "cell_type": "code",
   "execution_count": 39,
   "metadata": {},
   "outputs": [
    {
     "data": {
      "text/plain": [
       "0.028284271247461905"
      ]
     },
     "execution_count": 39,
     "metadata": {},
     "output_type": "execute_result"
    }
   ],
   "source": [
    "0.02*np.sqrt(2)"
   ]
  },
  {
   "cell_type": "code",
   "execution_count": null,
   "metadata": {},
   "outputs": [],
   "source": []
  }
 ],
 "metadata": {
  "kernelspec": {
   "display_name": "Python 3",
   "language": "python",
   "name": "python3"
  },
  "language_info": {
   "codemirror_mode": {
    "name": "ipython",
    "version": 3
   },
   "file_extension": ".py",
   "mimetype": "text/x-python",
   "name": "python",
   "nbconvert_exporter": "python",
   "pygments_lexer": "ipython3",
   "version": "3.7.4"
  }
 },
 "nbformat": 4,
 "nbformat_minor": 2
}
