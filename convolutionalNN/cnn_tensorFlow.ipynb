{
 "cells": [
  {
   "cell_type": "code",
   "execution_count": null,
   "metadata": {},
   "outputs": [],
   "source": [
    "# To-Do\n",
    "#1)"
   ]
  },
  {
   "cell_type": "code",
   "execution_count": 33,
   "metadata": {},
   "outputs": [],
   "source": [
    "# Import the needed libraries\n",
    "import tensorflow as tf\n",
    "import numpy as np\n",
    "import matplotlib.pyplot as plt\n",
    "import h5py as h5\n",
    "\n",
    "from tensorflow.keras import datasets, layers, models\n",
    "\n",
    "from keras.models import Sequential\n",
    "from keras.layers import Dense, Activation, Dropout, BatchNormalization, Flatten, Conv2D, MaxPooling2D\n",
    "from keras.regularizers import l2, l1\n",
    "from keras.utils import normalize, to_categorical\n",
    "from sklearn.metrics import confusion_matrix, roc_curve, auc\n",
    "from sklearn.model_selection import StratifiedKFold\n",
    "from sklearn.utils import shuffle\n",
    "from sklearn.model_selection import train_test_split\n",
    "\n",
    "\n",
    "# Fix random seed for reproducibility\n",
    "seed = 7\n",
    "np.random.seed(seed)\n",
    "\n",
    "import sys\n",
    "sys.path.insert(0, '/home/btannenw/Desktop/ML/dihiggsMLProject/')\n",
    "from utils.commonFunctions import *"
   ]
  },
  {
   "cell_type": "code",
   "execution_count": 2,
   "metadata": {},
   "outputs": [],
   "source": [
    "# Get image data\n",
    "hh_imgs  = h5.File('/home/btannenw/Desktop/ML/dihiggsMLProject/convolutionalNN/test_pp2hh4b_25k_composite/images/test_pp2hh4b_25k_composite_allImages.h5', 'r')\n",
    "qcd_imgs = h5.File('/home/btannenw/Desktop/ML/dihiggsMLProject/convolutionalNN/test_ppTo4b_50k_composite/images/test_ppTo4b_50k_composite_allImages.h5', 'r')"
   ]
  },
  {
   "cell_type": "code",
   "execution_count": null,
   "metadata": {},
   "outputs": [],
   "source": [
    "# Make composite dihiggs images\n",
    "#hh_combImages = []\n",
    "##for iEvt in range(0, len(hh_imgs['trackImgs'])):\n",
    "#for iEvt in range(0, 5000):\n",
    "#    if iEvt%500 == 0:\n",
    "#        print('Processed {} dihiggs events'.format(iEvt) )\n",
    "#    hh_combImages.append( np.stack( (hh_imgs['trackImgs'][iEvt], hh_imgs['nHadronImgs'][iEvt], hh_imgs['photonImgs'][iEvt]), axis=-1) )\n",
    "#print(len(hh_combImages))"
   ]
  },
  {
   "cell_type": "code",
   "execution_count": null,
   "metadata": {},
   "outputs": [],
   "source": [
    "# Make composite qcd images\n",
    "#qcd_combImages = []\n",
    "##for iEvt in range(0, len(hh_imgs['trackImgs'])):\n",
    "#for iEvt in range(0, 5000):\n",
    "#    if iEvt%500 == 0:\n",
    "#        print('Processed {} qcd events'.format(iEvt) )\n",
    "#    qcd_combImages.append( np.stack( (qcd_imgs['trackImgs'][iEvt], qcd_imgs['nHadronImgs'][iEvt], qcd_imgs['photonImgs'][iEvt]), axis=-1) )\n",
    "#print(len(qcd_combImages))"
   ]
  },
  {
   "cell_type": "code",
   "execution_count": 3,
   "metadata": {},
   "outputs": [
    {
     "name": "stdout",
     "output_type": "stream",
     "text": [
      "(48000, 51, 51, 3) (48000,)\n"
     ]
    }
   ],
   "source": [
    "nEvents = 24000\n",
    "\n",
    "# Make labels and combined datasets\n",
    "hh_labels = np.ones( nEvents )\n",
    "qcd_labels = np.zeros( nEvents )\n",
    "\n",
    "#hh = np.stack( (hh_combImages), axis=0)\n",
    "#qcd = np.stack( (qcd_combImages), axis=0)\n",
    "hh = hh_imgs['compositeImgs'][:nEvents]\n",
    "qcd = qcd_imgs['compositeImgs'][:nEvents]\n",
    "\n",
    "all_images = np.concatenate ( (hh.copy(), qcd.copy()), axis=0)\n",
    "all_labels = np.concatenate ( (hh_labels.copy(), qcd_labels.copy()), axis=0)\n",
    "print(all_images.shape, all_labels.shape)\n",
    "\n",
    "#all_images, all_labels = shuffle(all_images, all_labels, random_state=0)\n",
    "imgs_train, imgs_test, labels_train, labels_test = train_test_split(all_images, all_labels, test_size=0.1, shuffle= True, random_state=30)\n"
   ]
  },
  {
   "cell_type": "code",
   "execution_count": 4,
   "metadata": {},
   "outputs": [],
   "source": [
    "model = Sequential()\n",
    "\n",
    "# convolutional part\n",
    "model.add( Conv2D(32, (7, 7), activation='relu', input_shape=(51, 51, 3)) )\n",
    "model.add( MaxPooling2D((5, 5)) )\n",
    "model.add( Conv2D(64, (3, 3), activation='relu'))\n",
    "model.add( MaxPooling2D((2, 2)))\n",
    "#model.add(layers.Conv2D(64, (3, 3), activation='relu'))\n",
    "\n",
    "# feed-forward part\n",
    "model.add( Flatten())\n",
    "model.add( Dense(64, activation='relu'))\n",
    "#model.add( Dropout(0.2) )\n",
    "model.add( Dense(1) )\n"
   ]
  },
  {
   "cell_type": "code",
   "execution_count": 5,
   "metadata": {},
   "outputs": [
    {
     "name": "stdout",
     "output_type": "stream",
     "text": [
      "Model: \"sequential_1\"\n",
      "_________________________________________________________________\n",
      "Layer (type)                 Output Shape              Param #   \n",
      "=================================================================\n",
      "conv2d_1 (Conv2D)            (None, 45, 45, 32)        4736      \n",
      "_________________________________________________________________\n",
      "max_pooling2d_1 (MaxPooling2 (None, 9, 9, 32)          0         \n",
      "_________________________________________________________________\n",
      "conv2d_2 (Conv2D)            (None, 7, 7, 64)          18496     \n",
      "_________________________________________________________________\n",
      "max_pooling2d_2 (MaxPooling2 (None, 3, 3, 64)          0         \n",
      "_________________________________________________________________\n",
      "flatten_1 (Flatten)          (None, 576)               0         \n",
      "_________________________________________________________________\n",
      "dense_1 (Dense)              (None, 64)                36928     \n",
      "_________________________________________________________________\n",
      "dense_2 (Dense)              (None, 1)                 65        \n",
      "=================================================================\n",
      "Total params: 60,225\n",
      "Trainable params: 60,225\n",
      "Non-trainable params: 0\n",
      "_________________________________________________________________\n"
     ]
    }
   ],
   "source": [
    "model.summary()"
   ]
  },
  {
   "cell_type": "code",
   "execution_count": 6,
   "metadata": {},
   "outputs": [],
   "source": [
    "model.compile(loss='binary_crossentropy',\n",
    "              optimizer='adam',\n",
    "              metrics=['accuracy'])"
   ]
  },
  {
   "cell_type": "code",
   "execution_count": 8,
   "metadata": {},
   "outputs": [
    {
     "name": "stdout",
     "output_type": "stream",
     "text": [
      "Train on 43200 samples, validate on 4800 samples\n",
      "Epoch 1/10\n",
      "43200/43200 [==============================] - 69s 2ms/step - loss: 0.5843 - accuracy: 0.7002 - val_loss: 0.5850 - val_accuracy: 0.6969\n",
      "Epoch 2/10\n",
      "43200/43200 [==============================] - 68s 2ms/step - loss: 0.5699 - accuracy: 0.7088 - val_loss: 0.5807 - val_accuracy: 0.7004\n",
      "Epoch 3/10\n",
      "43200/43200 [==============================] - 70s 2ms/step - loss: 0.5759 - accuracy: 0.7040 - val_loss: 0.5805 - val_accuracy: 0.7027\n",
      "Epoch 4/10\n",
      "43200/43200 [==============================] - 69s 2ms/step - loss: 0.5621 - accuracy: 0.7125 - val_loss: 0.5805 - val_accuracy: 0.7048\n",
      "Epoch 5/10\n",
      "43200/43200 [==============================] - 75s 2ms/step - loss: 0.5599 - accuracy: 0.7145 - val_loss: 0.5779 - val_accuracy: 0.7046\n",
      "Epoch 6/10\n",
      "43200/43200 [==============================] - 80s 2ms/step - loss: 0.5564 - accuracy: 0.7175 - val_loss: 0.5816 - val_accuracy: 0.7058\n",
      "Epoch 7/10\n",
      "43200/43200 [==============================] - 73s 2ms/step - loss: 0.6009 - accuracy: 0.6978 - val_loss: 0.7465 - val_accuracy: 0.4958\n",
      "Epoch 8/10\n",
      "43200/43200 [==============================] - 70s 2ms/step - loss: 0.6138 - accuracy: 0.6667 - val_loss: 0.6002 - val_accuracy: 0.6904\n",
      "Epoch 9/10\n",
      "43200/43200 [==============================] - 69s 2ms/step - loss: 0.5786 - accuracy: 0.7037 - val_loss: 0.5866 - val_accuracy: 0.6973\n",
      "Epoch 10/10\n",
      "43200/43200 [==============================] - 69s 2ms/step - loss: 0.5869 - accuracy: 0.7016 - val_loss: 0.5966 - val_accuracy: 0.6879\n"
     ]
    }
   ],
   "source": [
    "history = model.fit(imgs_train, labels_train, epochs=10, \n",
    "                    shuffle=True,\n",
    "                    batch_size=256,\n",
    "                    validation_data=(imgs_test, labels_test))"
   ]
  },
  {
   "cell_type": "code",
   "execution_count": 9,
   "metadata": {},
   "outputs": [
    {
     "data": {
      "image/png": "[encoded data removed]",
      "text/plain": [
       "<Figure size 432x288 with 1 Axes>"
      ]
     },
     "metadata": {
      "needs_background": "light"
     },
     "output_type": "display_data"
    },
    {
     "data": {
      "image/png": "[encoded data removed]",
      "text/plain": [
       "<Figure size 432x288 with 1 Axes>"
      ]
     },
     "metadata": {
      "needs_background": "light"
     },
     "output_type": "display_data"
    }
   ],
   "source": [
    "plt.plot(history.history['accuracy'], label='accuracy')\n",
    "plt.plot(history.history['val_accuracy'], label = 'val_accuracy')\n",
    "plt.xlabel('Epoch')\n",
    "plt.ylabel('Accuracy')\n",
    "plt.ylim([0.0, 1])\n",
    "plt.legend(loc='lower right')\n",
    "plt.show()\n",
    "\n",
    "plt.plot(history.history['loss'], label='loss')\n",
    "plt.plot(history.history['val_loss'], label = 'val_loss')\n",
    "plt.xlabel('Epoch')\n",
    "plt.ylabel('Accuracy')\n",
    "plt.ylim([0.0, 1])\n",
    "plt.legend(loc='lower right')\n",
    "\n",
    "#test_loss, test_acc = model.evaluate(imgs_test,  labels_test, verbose=2)\n"
   ]
  },
  {
   "cell_type": "code",
   "execution_count": 31,
   "metadata": {},
   "outputs": [
    {
     "name": "stdout",
     "output_type": "stream",
     "text": [
      "2420/2420 [==============================] - 1s 539us/step\n",
      "2380/2380 [==============================] - 1s 580us/step\n",
      "[0.6339645187716839, 0.6491735577583313] [0.5585501423903874, 0.7273108959197998]\n"
     ]
    }
   ],
   "source": [
    "# make predictions\n",
    "hh_data_test    = np.asarray([x for x,y in zip(imgs_test, labels_test) if y==1])\n",
    "hh_labels_test  = np.asarray([y for x,y in zip(imgs_test, labels_test) if y==1])\n",
    "qcd_data_test   = np.asarray([x for x,y in zip(imgs_test, labels_test) if y==0])\n",
    "qcd_labels_test = np.asarray([y for x,y in zip(imgs_test, labels_test) if y==0])\n",
    "\n",
    "score_hh = model.evaluate(hh_data_test, hh_labels_test)\n",
    "score_qcd = model.evaluate(qcd_data_test, qcd_labels_test)\n",
    "print(score_hh, score_qcd)\n",
    "pred_hh = model.predict(hh_data_test)\n",
    "pred_qcd = model.predict(qcd_data_test)"
   ]
  },
  {
   "cell_type": "code",
   "execution_count": 39,
   "metadata": {},
   "outputs": [
    {
     "data": {
      "image/png": "[encoded data removed]",
      "text/plain": [
       "<Figure size 432x288 with 1 Axes>"
      ]
     },
     "metadata": {
      "needs_background": "light"
     },
     "output_type": "display_data"
    }
   ],
   "source": [
    "_nBins = 40\n",
    "predictionResults = {'hh_pred':pred_hh, 'qcd_pred':pred_qcd}\n",
    "compareManyHistograms( predictionResults, ['hh_pred', 'qcd_pred'], 2, 'Signal Prediction', 'CNN Score', 0, 1, _nBins, _yMax = 5, _normed=True, savePlot=False )\n"
   ]
  },
  {
   "cell_type": "code",
   "execution_count": 42,
   "metadata": {},
   "outputs": [],
   "source": [
    "# *** 4. Get best cut value for CNN assuming some minimal amount of signal\n",
    "#returnBestCutValue('CNN', pred_hh.copy(), pred_qcd.copy(), _minBackground=400e3, _testingFraction=0.1)"
   ]
  },
  {
   "cell_type": "code",
   "execution_count": null,
   "metadata": {},
   "outputs": [],
   "source": []
  }
 ],
 "metadata": {
  "kernelspec": {
   "display_name": "Python 3",
   "language": "python",
   "name": "python3"
  },
  "language_info": {
   "codemirror_mode": {
    "name": "ipython",
    "version": 3
   },
   "file_extension": ".py",
   "mimetype": "text/x-python",
   "name": "python",
   "nbconvert_exporter": "python",
   "pygments_lexer": "ipython3",
   "version": "3.7.4"
  }
 },
 "nbformat": 4,
 "nbformat_minor": 2
}
