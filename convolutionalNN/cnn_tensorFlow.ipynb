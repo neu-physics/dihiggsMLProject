{
 "cells": [
  {
   "cell_type": "code",
   "execution_count": null,
   "metadata": {},
   "outputs": [],
   "source": [
    "# To-Do\n",
    "#1)"
   ]
  },
  {
   "cell_type": "code",
   "execution_count": 1,
   "metadata": {},
   "outputs": [
    {
     "name": "stderr",
     "output_type": "stream",
     "text": [
      "Using TensorFlow backend.\n"
     ]
    }
   ],
   "source": [
    "# Import the needed libraries\n",
    "import tensorflow as tf\n",
    "import numpy as np\n",
    "import matplotlib.pyplot as plt\n",
    "import h5py as h5\n",
    "\n",
    "from tensorflow.keras import datasets, layers, models\n",
    "\n",
    "from keras.models import Sequential\n",
    "from keras.layers import Dense, Activation, Dropout, BatchNormalization, Flatten, Conv2D, MaxPooling2D\n",
    "from keras.regularizers import l2, l1\n",
    "from keras.utils import normalize, to_categorical\n",
    "from sklearn.metrics import confusion_matrix, roc_curve, auc\n",
    "from sklearn.model_selection import StratifiedKFold\n",
    "from sklearn.utils import shuffle\n",
    "from sklearn.model_selection import train_test_split\n",
    "\n",
    "\n",
    "# Fix random seed for reproducibility\n",
    "seed = 7\n",
    "np.random.seed(seed)\n",
    "\n",
    "import sys\n",
    "sys.path.insert(0, '/home/btannenw/Desktop/ML/dihiggsMLProject/')\n",
    "from utils.commonFunctions import *"
   ]
  },
  {
   "cell_type": "code",
   "execution_count": 2,
   "metadata": {},
   "outputs": [],
   "source": [
    "# Get image data\n",
    "hh_h5  = h5.File('/home/btannenw/Desktop/ML/dihiggsMLProject/convolutionalNN/test_pp2hh4b_25k_composite_15pixel/images/test_pp2hh4b_25k_composite_15pixel_allImages.h5', 'r')\n",
    "qcd_h5 = h5.File('/home/btannenw/Desktop/ML/dihiggsMLProject/convolutionalNN/test_ppTo4b_50k_composite_15pixel/images/test_ppTo4b_50k_composite_15pixel_allImages.h5', 'r')"
   ]
  },
  {
   "cell_type": "code",
   "execution_count": null,
   "metadata": {},
   "outputs": [],
   "source": [
    "# Make composite dihiggs images\n",
    "#hh_combImages = []\n",
    "##for iEvt in range(0, len(hh_imgs['trackImgs'])):\n",
    "#for iEvt in range(0, 5000):\n",
    "#    if iEvt%500 == 0:\n",
    "#        print('Processed {} dihiggs events'.format(iEvt) )\n",
    "#    hh_combImages.append( np.stack( (hh_imgs['trackImgs'][iEvt], hh_imgs['nHadronImgs'][iEvt], hh_imgs['photonImgs'][iEvt]), axis=-1) )\n",
    "#print(len(hh_combImages))\n",
    "\n",
    "#hh = np.stack( (hh_combImages), axis=0)"
   ]
  },
  {
   "cell_type": "code",
   "execution_count": null,
   "metadata": {},
   "outputs": [],
   "source": []
  },
  {
   "cell_type": "code",
   "execution_count": 20,
   "metadata": {},
   "outputs": [],
   "source": [
    "# Read data\n",
    "nEvents = 24000\n",
    "hh = hh_h5['compositeImgs'][:nEvents]\n",
    "qcd = qcd_h5['compositeImgs'][:nEvents]\n",
    "\n",
    "#hh  = np.asarray( [ img for img, njets in zip(hh_h5['compositeImgs'], hh_h5['nJets']) if njets >= 4 ] )\n",
    "#qcd  = np.asarray( [ img for img, njets in zip(qcd_h5['compositeImgs'], qcd_h5['nJets']) if njets >= 4 ] )\n",
    "#hh  = np.asarray( [ img for img in hh_h5['compositeImgs'] ] )\n",
    "#qcd  = np.asarray( [ img for img in qcd_h5['compositeImgs'] ] )\n",
    "\n",
    "\n",
    "#hh = []\n",
    "#nEvts = len(hh_h5['nJets'])\n",
    "#for iEvt in range(0, nEvts):\n",
    "#    if (100*(iEvt+1)/nEvts)%10 == 0:\n",
    "#        print( 'Processed {}% hh...'.format( (100*(iEvt+1))/nEvts))\n",
    "#    if hh_h5['nJets'][iEvt]>3:\n",
    "#        hh.append(hh_h5['compositeImgs'][iEvt])\n",
    "\n",
    "        "
   ]
  },
  {
   "cell_type": "code",
   "execution_count": 21,
   "metadata": {},
   "outputs": [
    {
     "name": "stdout",
     "output_type": "stream",
     "text": [
      "(48000, 15, 15, 3) (48000,)\n"
     ]
    }
   ],
   "source": [
    "#nEvents = min(len(hh), len(qcd))\n",
    "#nEvents = min(len(hh_imgs['compositeImgs']), len(qcd_imgs['compositeImgs']))\n",
    "\n",
    "# Make labels\n",
    "hh_labels = np.ones( nEvents )\n",
    "qcd_labels = np.zeros( nEvents )\n",
    "\n",
    "# Make combined dataset\n",
    "all_images = np.concatenate ( (hh.copy(), qcd.copy()), axis=0)\n",
    "all_labels = np.concatenate ( (hh_labels.copy(), qcd_labels.copy()), axis=0)\n",
    "print(all_images.shape, all_labels.shape)\n",
    "\n",
    "#all_images, all_labels = shuffle(all_images, all_labels, random_state=0)\n",
    "imgs_train, imgs_test, labels_train, labels_test = train_test_split(all_images, all_labels, test_size=0.1, shuffle= True, random_state=30)"
   ]
  },
  {
   "cell_type": "code",
   "execution_count": 36,
   "metadata": {},
   "outputs": [],
   "source": [
    "model = Sequential()\n",
    "\n",
    "# convolutional part\n",
    "model.add( Conv2D(16, (3, 3), activation='relu', input_shape=(15, 15, 3)) )\n",
    "model.add( MaxPooling2D((2, 2)) )\n",
    "model.add( Conv2D(32, (3, 3), activation='relu'))\n",
    "model.add( MaxPooling2D((2, 2)))\n",
    "#model.add(layers.Conv2D(64, (3, 3), activation='relu'))\n",
    "\n",
    "# feed-forward part\n",
    "model.add( Flatten())\n",
    "model.add( Dense(64, activation='relu'))\n",
    "model.add( BatchNormalization() )\n",
    "model.add( Dense(64, activation='relu'))\n",
    "#model.add( Dropout(0.2) )\n",
    "model.add( Dense(1) )\n"
   ]
  },
  {
   "cell_type": "code",
   "execution_count": 37,
   "metadata": {},
   "outputs": [
    {
     "name": "stdout",
     "output_type": "stream",
     "text": [
      "Model: \"sequential_4\"\n",
      "_________________________________________________________________\n",
      "Layer (type)                 Output Shape              Param #   \n",
      "=================================================================\n",
      "conv2d_7 (Conv2D)            (None, 13, 13, 16)        448       \n",
      "_________________________________________________________________\n",
      "max_pooling2d_7 (MaxPooling2 (None, 6, 6, 16)          0         \n",
      "_________________________________________________________________\n",
      "conv2d_8 (Conv2D)            (None, 4, 4, 32)          4640      \n",
      "_________________________________________________________________\n",
      "max_pooling2d_8 (MaxPooling2 (None, 2, 2, 32)          0         \n",
      "_________________________________________________________________\n",
      "flatten_4 (Flatten)          (None, 128)               0         \n",
      "_________________________________________________________________\n",
      "dense_8 (Dense)              (None, 64)                8256      \n",
      "_________________________________________________________________\n",
      "batch_normalization_1 (Batch (None, 64)                256       \n",
      "_________________________________________________________________\n",
      "dense_9 (Dense)              (None, 64)                4160      \n",
      "_________________________________________________________________\n",
      "dense_10 (Dense)             (None, 1)                 65        \n",
      "=================================================================\n",
      "Total params: 17,825\n",
      "Trainable params: 17,697\n",
      "Non-trainable params: 128\n",
      "_________________________________________________________________\n"
     ]
    }
   ],
   "source": [
    "model.summary()"
   ]
  },
  {
   "cell_type": "code",
   "execution_count": 38,
   "metadata": {},
   "outputs": [],
   "source": [
    "model.compile(loss='binary_crossentropy',\n",
    "              optimizer='adam',\n",
    "              metrics=['accuracy'])"
   ]
  },
  {
   "cell_type": "code",
   "execution_count": 39,
   "metadata": {},
   "outputs": [
    {
     "name": "stdout",
     "output_type": "stream",
     "text": [
      "Train on 43200 samples, validate on 4800 samples\n",
      "Epoch 1/10\n",
      "43200/43200 [==============================] - 6s 149us/step - loss: 1.3275 - accuracy: 0.5551 - val_loss: 0.7037 - val_accuracy: 0.4958\n",
      "Epoch 2/10\n",
      "43200/43200 [==============================] - 6s 129us/step - loss: 0.6582 - accuracy: 0.6301 - val_loss: 0.6744 - val_accuracy: 0.5562\n",
      "Epoch 3/10\n",
      "43200/43200 [==============================] - 6s 137us/step - loss: 0.7111 - accuracy: 0.6056 - val_loss: 0.6854 - val_accuracy: 0.5410\n",
      "Epoch 4/10\n",
      "43200/43200 [==============================] - 6s 134us/step - loss: 0.6393 - accuracy: 0.6387 - val_loss: 0.6299 - val_accuracy: 0.6435\n",
      "Epoch 5/10\n",
      "43200/43200 [==============================] - 6s 136us/step - loss: 0.6429 - accuracy: 0.6287 - val_loss: 0.6423 - val_accuracy: 0.6390\n",
      "Epoch 6/10\n",
      "43200/43200 [==============================] - 7s 159us/step - loss: 0.6165 - accuracy: 0.6612 - val_loss: 0.6184 - val_accuracy: 0.6627\n",
      "Epoch 7/10\n",
      "43200/43200 [==============================] - 6s 138us/step - loss: 0.6052 - accuracy: 0.6724 - val_loss: 0.6523 - val_accuracy: 0.6627\n",
      "Epoch 8/10\n",
      "43200/43200 [==============================] - 6s 129us/step - loss: 0.6020 - accuracy: 0.6787 - val_loss: 0.6091 - val_accuracy: 0.6727\n",
      "Epoch 9/10\n",
      "43200/43200 [==============================] - 6s 132us/step - loss: 0.5946 - accuracy: 0.6867 - val_loss: 0.6018 - val_accuracy: 0.6792\n",
      "Epoch 10/10\n",
      "43200/43200 [==============================] - 6s 142us/step - loss: 0.5875 - accuracy: 0.6912 - val_loss: 0.5995 - val_accuracy: 0.6823\n"
     ]
    }
   ],
   "source": [
    "history = model.fit(imgs_train, labels_train, epochs=10, \n",
    "                    shuffle=True,\n",
    "                    batch_size=256,\n",
    "                    validation_data=(imgs_test, labels_test))"
   ]
  },
  {
   "cell_type": "code",
   "execution_count": 40,
   "metadata": {},
   "outputs": [
    {
     "data": {
      "image/png": "[encoded data removed]",
      "text/plain": [
       "<Figure size 432x288 with 1 Axes>"
      ]
     },
     "metadata": {
      "needs_background": "light"
     },
     "output_type": "display_data"
    },
    {
     "data": {
      "text/plain": [
       "<matplotlib.legend.Legend at 0x7fcb2f6fa9d0>"
      ]
     },
     "execution_count": 40,
     "metadata": {},
     "output_type": "execute_result"
    },
    {
     "data": {
      "image/png": "[encoded data removed]",
      "text/plain": [
       "<Figure size 432x288 with 1 Axes>"
      ]
     },
     "metadata": {
      "needs_background": "light"
     },
     "output_type": "display_data"
    }
   ],
   "source": [
    "plt.plot(history.history['accuracy'], label='accuracy')\n",
    "plt.plot(history.history['val_accuracy'], label = 'val_accuracy')\n",
    "plt.xlabel('Epoch')\n",
    "plt.ylabel('Accuracy')\n",
    "plt.ylim([0.0, 1])\n",
    "plt.legend(loc='lower right')\n",
    "plt.show()\n",
    "\n",
    "plt.plot(history.history['loss'], label='loss')\n",
    "plt.plot(history.history['val_loss'], label = 'val_loss')\n",
    "plt.xlabel('Epoch')\n",
    "plt.ylabel('Accuracy')\n",
    "plt.ylim([0.0, 1])\n",
    "plt.legend(loc='lower right')\n",
    "\n",
    "#test_loss, test_acc = model.evaluate(imgs_test,  labels_test, verbose=2)\n"
   ]
  },
  {
   "cell_type": "code",
   "execution_count": 41,
   "metadata": {},
   "outputs": [
    {
     "name": "stdout",
     "output_type": "stream",
     "text": [
      "2420/2420 [==============================] - 1s 394us/step\n",
      "2380/2380 [==============================] - 0s 191us/step\n",
      "[0.585805111680149, 0.6971074342727661] [0.6135072315440459, 0.6672269105911255]\n"
     ]
    }
   ],
   "source": [
    "# make predictions\n",
    "hh_data_test    = np.asarray([x for x,y in zip(imgs_test, labels_test) if y==1])\n",
    "hh_labels_test  = np.asarray([y for x,y in zip(imgs_test, labels_test) if y==1])\n",
    "qcd_data_test   = np.asarray([x for x,y in zip(imgs_test, labels_test) if y==0])\n",
    "qcd_labels_test = np.asarray([y for x,y in zip(imgs_test, labels_test) if y==0])\n",
    "\n",
    "score_hh = model.evaluate(hh_data_test, hh_labels_test)\n",
    "score_qcd = model.evaluate(qcd_data_test, qcd_labels_test)\n",
    "print(score_hh, score_qcd)\n",
    "pred_hh = model.predict(hh_data_test)\n",
    "pred_qcd = model.predict(qcd_data_test)"
   ]
  },
  {
   "cell_type": "code",
   "execution_count": 42,
   "metadata": {},
   "outputs": [
    {
     "data": {
      "image/png": "[encoded data removed]",
      "text/plain": [
       "<Figure size 432x288 with 1 Axes>"
      ]
     },
     "metadata": {
      "needs_background": "light"
     },
     "output_type": "display_data"
    }
   ],
   "source": [
    "_nBins = 40\n",
    "predictionResults = {'hh_pred':pred_hh, 'qcd_pred':pred_qcd}\n",
    "compareManyHistograms( predictionResults, ['hh_pred', 'qcd_pred'], 2, 'Signal Prediction', 'CNN Score', 0, 1, _nBins, _yMax = 5, _normed=True, savePlot=False )\n"
   ]
  },
  {
   "cell_type": "code",
   "execution_count": null,
   "metadata": {},
   "outputs": [],
   "source": [
    "# *** 4. Get best cut value for CNN assuming some minimal amount of signal\n",
    "#returnBestCutValue('CNN', pred_hh.copy(), pred_qcd.copy(), _minBackground=400e3, _testingFraction=0.1)"
   ]
  },
  {
   "cell_type": "code",
   "execution_count": null,
   "metadata": {},
   "outputs": [],
   "source": []
  }
 ],
 "metadata": {
  "kernelspec": {
   "display_name": "Python 3",
   "language": "python",
   "name": "python3"
  },
  "language_info": {
   "codemirror_mode": {
    "name": "ipython",
    "version": 3
   },
   "file_extension": ".py",
   "mimetype": "text/x-python",
   "name": "python",
   "nbconvert_exporter": "python",
   "pygments_lexer": "ipython3",
   "version": "3.7.4"
  }
 },
 "nbformat": 4,
 "nbformat_minor": 2
}
