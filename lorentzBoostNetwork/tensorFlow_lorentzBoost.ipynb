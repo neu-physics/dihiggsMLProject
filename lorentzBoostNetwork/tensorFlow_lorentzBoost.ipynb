{
 "cells": [
  {
   "cell_type": "code",
   "execution_count": null,
   "metadata": {},
   "outputs": [],
   "source": [
    "### To-Do\n",
    "# X) make fit_function general enough for pswarms optimization -> dropout rate, layers, nodes, etc\n",
    "# X) write function that runs fit_function ~5 times and keeps ensemble + best\n",
    "# 3) put all this in a script\n",
    "# 4) save output distribution and history plots in model directory\n",
    "# 5) log file of some kind?\n",
    "# X) e_sig vs (1-e_bkg) plot\n",
    "# 7) implement pyswarms optimization\n",
    "# -) ... \n",
    "# N) k-fold validation"
   ]
  },
  {
   "cell_type": "code",
   "execution_count": 1,
   "metadata": {},
   "outputs": [
    {
     "name": "stderr",
     "output_type": "stream",
     "text": [
      "Using TensorFlow backend.\n"
     ]
    }
   ],
   "source": [
    "# Import the needed libraries\n",
    "import numpy as np\n",
    "import pandas as pd\n",
    "import matplotlib.pyplot as plt\n",
    "import tensorflow as tf\n",
    "from keras.models import Sequential\n",
    "from keras.layers import Dense, Activation, Dropout, BatchNormalization\n",
    "from keras.utils import normalize, to_categorical\n",
    "from sklearn.metrics import confusion_matrix, roc_curve, auc\n",
    "from sklearn.model_selection import StratifiedKFold\n",
    "from keras.callbacks import EarlyStopping, ModelCheckpoint\n",
    "from keras.regularizers import l1, l2\n",
    "from keras.models import load_model\n",
    "from keras.backend import manual_variable_initialization \n",
    "import json\n",
    "\n",
    "manual_variable_initialization(True)\n",
    "\n",
    "from lbn import LBN, LBNLayer\n",
    "\n",
    "# Fix random seed for reproducibility\n",
    "seed = 7\n",
    "np.random.seed(seed)\n",
    "tf.random.set_seed(seed)"
   ]
  },
  {
   "cell_type": "code",
   "execution_count": 2,
   "metadata": {},
   "outputs": [],
   "source": [
    "import sys, os\n",
    "sys.path.insert(0, '/home/btannenw/Desktop/ML/dihiggsMLProject/')\n",
    "from utils.commonFunctions import *\n",
    "\n",
    "topDir = '/home/btannenw/Desktop/ML/dihiggsMLProject/lorentzBoostNetwork/'"
   ]
  },
  {
   "cell_type": "code",
   "execution_count": 3,
   "metadata": {},
   "outputs": [
    {
     "name": "stdout",
     "output_type": "stream",
     "text": [
      "Dihiggs file:  /home/btannenw/Desktop/ML/dihiggsMLProject/data/pp2hh4b_500kEvents_0PU_v2-05__top4inPt-4tags-10jets_combined_csv.csv\n",
      "QCD file:  /home/btannenw/Desktop/ML/dihiggsMLProject/data/ppTo4b_2MEvents_0PU_v2-05__top4inPt-4tags-10jets_combined_csv.csv\n"
     ]
    }
   ],
   "source": [
    "#*** 1. Import data and check stuff\n",
    "testingFraction = 0.3\n",
    "\n",
    "# *** A. Import Dataset\n",
    "hh_raw, qcd_raw = importDatasets()"
   ]
  },
  {
   "cell_type": "code",
   "execution_count": 4,
   "metadata": {},
   "outputs": [
    {
     "data": {
      "text/plain": [
       "(array([3.3195e+04, 4.0870e+04, 2.5949e+04, 1.1225e+04, 3.8130e+03,\n",
       "        1.1030e+03, 2.6100e+02, 5.6000e+01, 5.0000e+00, 4.0000e+00]),\n",
       " array([ 4. ,  4.9,  5.8,  6.7,  7.6,  8.5,  9.4, 10.3, 11.2, 12.1, 13. ]),\n",
       " <a list of 10 Patch objects>)"
      ]
     },
     "execution_count": 4,
     "metadata": {},
     "output_type": "execute_result"
    },
    {
     "data": {
      "image/png": "[encoded data removed]",
      "text/plain": [
       "<Figure size 432x288 with 1 Axes>"
      ]
     },
     "metadata": {
      "needs_background": "light"
     },
     "output_type": "display_data"
    }
   ],
   "source": [
    "plt.hist(qcd_raw.nJets, bins=10)"
   ]
  },
  {
   "cell_type": "code",
   "execution_count": 5,
   "metadata": {},
   "outputs": [
    {
     "name": "stdout",
     "output_type": "stream",
     "text": [
      "N_sig = 78876 , N_bkg = 116481\n",
      "195357 rows of total data with  195357 labels [Train+Test]\n",
      "136749 rows of training data with  136749 labels [Train]\n",
      "58608 rows of testing data with  58608 labels [Test]\n"
     ]
    }
   ],
   "source": [
    "# *** 2. Make mix of dihiggs and QCD for specified variables\n",
    "jetLabels = ['1','2','3','4','5','6','7','8']\n",
    "jetVariables = ['energy', 'px', 'py', 'pz']\n",
    "variables_jetVects = ['jet{0}_{1}'.format(iJetLabel, iJetVariable) for iJetLabel in jetLabels for iJetVariable in jetVariables]\n",
    "\n",
    "# *** 2. Split testing and training\n",
    "jetVects_data_train, jetVects_data_test, jetVects_labels_train, jetVects_labels_test = makeTestTrainSamplesWithUserVariables(hh_raw, qcd_raw, variables_jetVects, testingFraction)"
   ]
  },
  {
   "cell_type": "code",
   "execution_count": 6,
   "metadata": {},
   "outputs": [
    {
     "name": "stdout",
     "output_type": "stream",
     "text": [
      "(136749, 32)\n",
      "(58608, 2)\n"
     ]
    }
   ],
   "source": [
    "# *** 2. Create jet vector inputs\n",
    "def returnJetVectorInputsToLBN(_df, _jetType='jet', _nJets=4):\n",
    "    \n",
    "    #flattened\n",
    "    _allVectorsFlattened = None\n",
    "    _var = [_jetType+'{}_energy', _jetType+'{}_px', _jetType+'{}_py', _jetType+'{}_pz']\n",
    "    \n",
    "    for i in range(1, _nJets + 1):\n",
    "        _varN = [x.format(i) for x in _var]\n",
    "        _jetNData = _df[ _varN ].astype(np.float32)\n",
    "        _vectN = [list(x) for x in _jetNData.values]\n",
    "        \n",
    "        if _allVectorsFlattened == None:\n",
    "            _allVectorsFlattened = _vectN\n",
    "        else:\n",
    "            _allVectorsFlattened = [ x + y for x,y in zip(_allVectorsFlattened, _vectN) ]\n",
    "\n",
    "    return np.array(_allVectorsFlattened)\n",
    "    \n",
    "\n",
    "nJets = 8\n",
    "jetType = 'jet'\n",
    "trainVectorsByEvent = returnJetVectorInputsToLBN( jetVects_data_train, jetType, nJets)\n",
    "testVectorsByEvent  = returnJetVectorInputsToLBN( jetVects_data_test, jetType, nJets)\n",
    "\n",
    "trainLabelsByEvent = np.array([[0.,1.] if x ==0 else [1.,0.] for x in jetVects_labels_train.isSignal]).astype(np.float32)\n",
    "testLabelsByEvent  = np.array([[0.,1.] if x ==0 else [1.,0.] for x in jetVects_labels_test.isSignal]).astype(np.float32)\n",
    "\n",
    "print(np.shape(trainVectorsByEvent))\n",
    "\n",
    "# *** Make signal/background specific containers for labelled evaluation \n",
    "hh_data_test, hh_labels_test, qcd_data_test, qcd_labels_test = returnTestSamplesSplitIntoSignalAndBackground(testVectorsByEvent, testLabelsByEvent)"
   ]
  },
  {
   "cell_type": "code",
   "execution_count": 7,
   "metadata": {},
   "outputs": [],
   "source": [
    "# *** 3A. Define LBN model and train\n",
    "def createModelLBN( user_hyperparameters={}, _weightsDir=''):\n",
    "    \"\"\"make lbn model\"\"\"\n",
    "    \n",
    "    _hyperparameters = {'nLBNParticles':            5,\n",
    "                       'nodesInFirstHiddenLayer':  80, \n",
    "                       'nodesInSecondHiddenLayer': 256, \n",
    "                       'hiddenActivation':        'relu', \n",
    "                       'outputActivation':        'sigmoid', \n",
    "                       'lossFunction':            'binary_crossentropy'\n",
    "                       }\n",
    "\n",
    "    print(\"++ Setting hyperparameters...\")\n",
    "    for hp in _hyperparameters.keys():\n",
    "        if hp in user_hyperparameters.keys():\n",
    "            _hyperparameters[hp] = user_hyperparameters[hp] \n",
    "        \n",
    "        print(\"{} = {}\".format(hp, _hyperparameters[hp]))\n",
    "    \n",
    "    \n",
    "    #init = tf.keras.initializers.RandomNormal(mean=0., stddev=0.1, seed=123)\n",
    " \n",
    "    features = [\"E\", \"pt\", \"eta\", \"phi\", \"m\", \"pair_dr\"]\n",
    "    lbn_layer = LBNLayer(n_particles= _hyperparameters['nLBNParticles'], boost_mode=\"pairs\", features=features)\n",
    "    \n",
    "    \n",
    "    metrics = [\n",
    "        tf.keras.metrics.categorical_accuracy,\n",
    "        tf.keras.metrics.AUC(name='auc'),\n",
    "    ]\n",
    "        \n",
    "    l2_reg = tf.keras.regularizers.l2(1e-4)\n",
    "    \n",
    "    dense_kwargs_IML = dict(\n",
    "        activation=\"selu\",\n",
    "        kernel_initializer=tf.keras.initializers.lecun_normal(),\n",
    "        kernel_regularizer=l2_reg,\n",
    "    )\n",
    "\n",
    "    dense_kwargs = dict(\n",
    "        activation = _hyperparameters['hiddenActivation'],\n",
    "        kernel_initializer=tf.keras.initializers.lecun_normal(),\n",
    "        kernel_regularizer=l2_reg,\n",
    "    )\n",
    "\n",
    "    _model = tf.keras.models.Sequential()\n",
    "\n",
    "    #_model.add(LBNLayer(5, boost_mode=LBN.PAIRS, features=features))\n",
    "    _model.add(lbn_layer)\n",
    "    _model.add(tf.keras.layers.BatchNormalization(axis=1))\n",
    "\n",
    "\n",
    "    _model.add(tf.keras.layers.Dense(_hyperparameters['nodesInFirstHiddenLayer'], **dense_kwargs))\n",
    "    _model.add(tf.keras.layers.Dense(_hyperparameters['nodesInSecondHiddenLayer'], **dense_kwargs))\n",
    "\n",
    "\n",
    "    #_model.add(tf.keras.layers.Dense(750, activation='relu'))#, kernel_regularizer=l2_reg))\n",
    "    #_model.add(tf.keras.layers.Dense(256, activation='relu'))\n",
    "    #_model.add(tf.keras.layers.Dropout(0.2))\n",
    "    \n",
    "    #_model.add(tf.keras.layers.Dense(128, activation='relu'))\n",
    "    #_model.add(tf.keras.layers.Dense(64, activation='relu'))\n",
    "    #_model.add(tf.keras.layers.Dense(32, activation='relu'))\n",
    "\n",
    "    _model.add(tf.keras.layers.Dense(2, activation=_hyperparameters['outputActivation'], kernel_regularizer=l2_reg))\n",
    "        \n",
    "    _model.compile(loss= _hyperparameters['lossFunction'],\n",
    "                    optimizer='adam',\n",
    "                    metrics = metrics\n",
    "                 )\n",
    "    \n",
    "    if _weightsDir !='':\n",
    "        \n",
    "        local_dir = os.path.join(topDir, \"lbn\", \"models\", _weightsDir)\n",
    "        modelfile = os.path.join(local_dir, _weightsDir)+'.hdf5'\n",
    "        print(\"++ loading model from {}\".format(modelfile))\n",
    "        #<-- FIXME: this does not check if file exits\n",
    "    \n",
    "        _model.predict(np.empty([1,32]))\n",
    "        _model.load_weights(modelfile)\n",
    "\n",
    "        \n",
    "    return _model, _hyperparameters"
   ]
  },
  {
   "cell_type": "code",
   "execution_count": 8,
   "metadata": {},
   "outputs": [],
   "source": [
    "def fit_model(name, data=None, validation_data=None, epochs=10, batch_size=512, model_hyperparams={}):\n",
    "   \n",
    "    # *** 0. Create model\n",
    "    _model, _hyperparameters = createModelLBN(model_hyperparams)\n",
    "\n",
    "    # *** 1. Define output directory\n",
    "    model_dir = os.path.join(topDir, \"lbn\", \"models\", name)\n",
    "    if not os.path.exists(model_dir):\n",
    "        os.makedirs(model_dir)\n",
    "\n",
    "    # *** 2. Define callbacks for training\n",
    "    fit_callbacks = [\n",
    "        tf.keras.callbacks.ModelCheckpoint(\n",
    "            filepath=os.path.join(model_dir, name)+'.hdf5',\n",
    "            save_best_only=True,\n",
    "            save_weights_only=True,\n",
    "            monitor=\"val_auc\",\n",
    "            mode=\"max\",\n",
    "            #monitor=\"val_loss\",\n",
    "            #mode=\"min\",\n",
    "        ),\n",
    "        tf.keras.callbacks.EarlyStopping(\n",
    "            monitor=\"val_auc\",\n",
    "            mode=\"max\",\n",
    "            #monitor='val_loss', \n",
    "            #mode='min', \n",
    "            verbose=1, \n",
    "            patience=100,  \n",
    "            min_delta=.0025,\n",
    "        ),\n",
    "    ]\n",
    "\n",
    "    # *** 3. Safety checks for data\n",
    "    if data is None:\n",
    "        data = (trainVectorsByEvent, trainLabelsByEvent)\n",
    "    if validation_data is None:\n",
    "        validation_data = (testVectorsByEvent, testLabelsByEvent)\n",
    "\n",
    "        \n",
    "    # *** 4. Fit!!\n",
    "    print('++ Begin model training\\n')\n",
    "    _history = _model.fit(data[0], data[1],\n",
    "        validation_data=validation_data,\n",
    "        epochs=epochs,\n",
    "        batch_size=batch_size,\n",
    "        callbacks=fit_callbacks,\n",
    "    )\n",
    "\n",
    "    \n",
    "    # *** 5. Save hyperparameters\n",
    "    hp_filename=os.path.join(model_dir, name)+'_hyperparameters.json'\n",
    "    with open(hp_filename, 'w') as outfile:\n",
    "        json.dump( _hyperparameters, outfile)\n",
    "    \n",
    "    \n",
    "    return _model, _history\n",
    "\n",
    "\n",
    "def load_model(_modelDirectory):\n",
    "    \"\"\"load previously created model\"\"\"\n",
    "    \n",
    "    # *** 0. Get hyperparameters\n",
    "    local_dir = os.path.join(topDir, \"lbn\", \"models\", _modelDirectory)\n",
    "    hp_file = os.path.join(local_dir, _modelDirectory)+'_hyperparameters.json'\n",
    "    print(\"++ loading hyperparameters from {}\".format(hp_file))\n",
    "    \n",
    "    with open(hp_file, 'r') as infile:\n",
    "        _hyperparameters = json.load(infile)\n",
    "        \n",
    "    # *** 1. Create model\n",
    "    _model, _hyperparameters = createModelLBN(_hyperparameters, _modelDirectory)\n",
    "\n",
    "    return _model"
   ]
  },
  {
   "cell_type": "code",
   "execution_count": null,
   "metadata": {},
   "outputs": [],
   "source": [
    "# *** 3A. Do things the proper, functional way\n",
    "\n",
    "modelName = 'model_10TrainEpochs'\n",
    "\n",
    "model, history = fit_model(name=modelName, data=(trainVectorsByEvent, trainLabelsByEvent), \n",
    "                          validation_data=(testVectorsByEvent, testLabelsByEvent), epochs=10, batch_size=400)\n",
    "\n",
    "best_model = load_model( modelName )\n"
   ]
  },
  {
   "cell_type": "code",
   "execution_count": null,
   "metadata": {},
   "outputs": [],
   "source": [
    "# *** 3B. Do things \"by hand\"\n",
    "es = EarlyStopping(monitor='val_loss', mode='min', verbose=1, patience=10, min_delta=.001)\n",
    "mc = ModelCheckpoint('best_model.hdf5', #filepath=os.path.join(model_dir, name),\n",
    "                    monitor=\"val_loss\", mode='min', save_weights_only=True, save_best_only=True)\n",
    " \n",
    "\n",
    "#model = createModelLBN(_outputActivation='softmax') # 1.77+/0.04, 1.84 +/- 0.06\n",
    "model2 = createModelLBN(_outputActivation='sigmoid') # 1.81+/0.06\n",
    "\n",
    "history = model2.fit( trainVectorsByEvent, trainLabelsByEvent, epochs=50, validation_data = (testVectorsByEvent, testLabelsByEvent), batch_size=400, callbacks=[es, mc])\n",
    "#history = model.fit( trainVectorsByEvent, trainLabelsByEvent, epochs=10, validation_data = (testVectorsByEvent, testLabelsByEvent))\n",
    "print(model2.count_params())\n",
    "\n",
    "# load the saved model\n",
    "#model_best = model.load_weights('best_model.h5')"
   ]
  },
  {
   "cell_type": "code",
   "execution_count": null,
   "metadata": {},
   "outputs": [],
   "source": [
    "# *** 3C. Define low-level NN using jet vectors for comparison\n",
    "model_nn = tf.keras.models.Sequential()\n",
    "nInputNodes = len(trainVectorsByEvent[0]) \n",
    "#model.add(Dense(100, input_dim=nInputNodes, activation='relu'))\n",
    "\n",
    "model_nn.add(tf.keras.layers.Dense(128, input_dim = nInputNodes, activation='relu'))\n",
    "#model.add(tf.keras.layers.Dropout(0.2))\n",
    "#model.add(BatchNormalization())\n",
    "\n",
    "model_nn.add(tf.keras.layers.Dense(64, activation='relu'))\n",
    "model_nn.add(tf.keras.layers.Dense(32, activation='relu'))\n",
    "model_nn.add(tf.keras.layers.Dense(2, activation='sigmoid'))\n",
    "\n",
    "model_nn.compile(loss='binary_crossentropy',\n",
    "              optimizer='adam',\n",
    "              metrics=['accuracy'])\n",
    "\n",
    "history_nn = model_nn.fit( trainVectorsByEvent, trainLabelsByEvent, epochs=50, validation_data = (testVectorsByEvent, testLabelsByEvent), batch_size=400)\n",
    "#history = model.fit( trainVectorsByEvent, trainLabelsByEvent, epochs=10, validation_data = (testVectorsByEvent, testLabelsByEvent))\n",
    "print(model_nn.count_params())"
   ]
  },
  {
   "cell_type": "code",
   "execution_count": null,
   "metadata": {},
   "outputs": [],
   "source": [
    "# *** 4. Make predictions using the \"best\" model from training\n",
    "best_model = load_model('model_10TrainEpochs')\n",
    "\n",
    "pred_hh = best_model.predict(np.array(hh_data_test))\n",
    "pred_qcd = best_model.predict(np.array(qcd_data_test))"
   ]
  },
  {
   "cell_type": "code",
   "execution_count": null,
   "metadata": {},
   "outputs": [],
   "source": [
    "# *** 5. Make plot of prediction results\n",
    "_nBins = 40\n",
    "predictionResults = {'hh_pred':pred_hh[:,0], 'qcd_pred':pred_qcd[:,0]}\n",
    "compareManyHistograms( predictionResults, ['hh_pred', 'qcd_pred'], 2, 'Signal Prediction', 'LBN Signal Score', 0, 1, _nBins, _yMax = 5, _normed=True, _savePlot=False )\n"
   ]
  },
  {
   "cell_type": "code",
   "execution_count": null,
   "metadata": {},
   "outputs": [],
   "source": [
    "# *** 6A. Get best cut value for ff-NN assuming some minimal amount of signal\n",
    "returnBestCutValue('ff-NN', pred_hh[:,0].copy(), pred_qcd[:,0].copy(), _minBackground=200, _testingFraction=testingFraction)"
   ]
  },
  {
   "cell_type": "code",
   "execution_count": null,
   "metadata": {},
   "outputs": [],
   "source": [
    "# *** 6B. Get signifiance for any user-specified NN score cut value\n",
    "lumiscale_hh  = getLumiScaleFactor(testingFraction, True)\n",
    "lumiscale_qcd = getLumiScaleFactor(testingFraction, False)\n",
    "cut = 0.81\n",
    "_nSignal = sum( value > cut for value in pred_hh)*lumiscale_hh\n",
    "_nBackground = sum( value > cut for value in pred_qcd)*lumiscale_qcd\n",
    "\n",
    "print('nSig = {0} , nBkg = {1} with significance = {2} for NN score > {3}'.format(_nSignal, _nBackground, _nSignal/np.sqrt(_nBackground), cut) )"
   ]
  },
  {
   "cell_type": "code",
   "execution_count": null,
   "metadata": {},
   "outputs": [],
   "source": [
    "# *** 7. Make some training diagnostic plots\n",
    "makeHistoryPlots( history, ['categorical_accuracy', 'loss', 'auc'], 'LBN')"
   ]
  },
  {
   "cell_type": "code",
   "execution_count": null,
   "metadata": {},
   "outputs": [],
   "source": [
    "model.summary()"
   ]
  },
  {
   "cell_type": "code",
   "execution_count": null,
   "metadata": {},
   "outputs": [],
   "source": [
    "# *** 8. Plot the ROC cuves, i.e., background rejection (1 - eff_bkg) vs signal efficiency\n",
    "testPredsByEvent = best_model.predict(testVectorsByEvent.copy())\n",
    "makeEfficiencyCurves( dict(label=\"LBN+DNN\", labels=testLabelsByEvent, prediction=testPredsByEvent, color=\"blue\"))"
   ]
  },
  {
   "cell_type": "code",
   "execution_count": 16,
   "metadata": {},
   "outputs": [
    {
     "name": "stdout",
     "output_type": "stream",
     "text": [
      "<class 'dict'> {}\n",
      "++ Setting hyperparameters...\n",
      "nLBNParticles = 5\n",
      "nodesInFirstHiddenLayer = 80\n",
      "nodesInSecondHiddenLayer = 256\n",
      "hiddenActivation = relu\n",
      "outputActivation = sigmoid\n",
      "lossFunction = binary_crossentropy\n",
      "++ Begin model training\n",
      "\n",
      "Train on 136749 samples, validate on 58608 samples\n",
      "Epoch 1/20\n",
      "136749/136749 [==============================] - 10s 71us/sample - loss: 0.6093 - categorical_accuracy: 0.6865 - auc: 0.7594 - val_loss: 0.5735 - val_categorical_accuracy: 0.7110 - val_auc: 0.7924\n",
      "Epoch 2/20\n",
      "136749/136749 [==============================] - 7s 48us/sample - loss: 0.5453 - categorical_accuracy: 0.7347 - auc: 0.8175 - val_loss: 0.5243 - val_categorical_accuracy: 0.7509 - val_auc: 0.8334\n",
      "Epoch 3/20\n",
      "136749/136749 [==============================] - 7s 48us/sample - loss: 0.5116 - categorical_accuracy: 0.7593 - auc: 0.8422 - val_loss: 0.5014 - val_categorical_accuracy: 0.7666 - val_auc: 0.8492\n",
      "Epoch 4/20\n",
      "136749/136749 [==============================] - 6s 47us/sample - loss: 0.4960 - categorical_accuracy: 0.7697 - auc: 0.8524 - val_loss: 0.4908 - val_categorical_accuracy: 0.7736 - val_auc: 0.8557\n",
      "Epoch 5/20\n",
      "136749/136749 [==============================] - 7s 48us/sample - loss: 0.4849 - categorical_accuracy: 0.7771 - auc: 0.8594 - val_loss: 0.4834 - val_categorical_accuracy: 0.7778 - val_auc: 0.8606\n",
      "Epoch 6/20\n",
      "136749/136749 [==============================] - 7s 48us/sample - loss: 0.4784 - categorical_accuracy: 0.7804 - auc: 0.8632 - val_loss: 0.4798 - val_categorical_accuracy: 0.7792 - val_auc: 0.8620\n",
      "Epoch 7/20\n",
      "136749/136749 [==============================] - 7s 48us/sample - loss: 0.4725 - categorical_accuracy: 0.7829 - auc: 0.8667 - val_loss: 0.4730 - val_categorical_accuracy: 0.7850 - val_auc: 0.8665\n",
      "Epoch 8/20\n",
      "136749/136749 [==============================] - 7s 48us/sample - loss: 0.4677 - categorical_accuracy: 0.7862 - auc: 0.8696 - val_loss: 0.4684 - val_categorical_accuracy: 0.7875 - val_auc: 0.8692\n",
      "Epoch 9/20\n",
      "136749/136749 [==============================] - 7s 52us/sample - loss: 0.4638 - categorical_accuracy: 0.7893 - auc: 0.8719 - val_loss: 0.4678 - val_categorical_accuracy: 0.7867 - val_auc: 0.8697\n",
      "Epoch 10/20\n",
      "136749/136749 [==============================] - 7s 52us/sample - loss: 0.4603 - categorical_accuracy: 0.7912 - auc: 0.8740 - val_loss: 0.4644 - val_categorical_accuracy: 0.7892 - val_auc: 0.8716\n",
      "Epoch 11/20\n",
      "136749/136749 [==============================] - 8s 58us/sample - loss: 0.4562 - categorical_accuracy: 0.7935 - auc: 0.8766 - val_loss: 0.4675 - val_categorical_accuracy: 0.7862 - val_auc: 0.8696\n",
      "Epoch 12/20\n",
      "136749/136749 [==============================] - 8s 58us/sample - loss: 0.4541 - categorical_accuracy: 0.7945 - auc: 0.8778 - val_loss: 0.4627 - val_categorical_accuracy: 0.7927 - val_auc: 0.8734\n",
      "Epoch 13/20\n",
      "136749/136749 [==============================] - 7s 54us/sample - loss: 0.4510 - categorical_accuracy: 0.7972 - auc: 0.8798 - val_loss: 0.4640 - val_categorical_accuracy: 0.7908 - val_auc: 0.8721\n",
      "Epoch 14/20\n",
      "136749/136749 [==============================] - 7s 49us/sample - loss: 0.4485 - categorical_accuracy: 0.7981 - auc: 0.8814 - val_loss: 0.4556 - val_categorical_accuracy: 0.7951 - val_auc: 0.8773\n",
      "Epoch 15/20\n",
      "136749/136749 [==============================] - 7s 51us/sample - loss: 0.4469 - categorical_accuracy: 0.7995 - auc: 0.8824 - val_loss: 0.4526 - val_categorical_accuracy: 0.7977 - val_auc: 0.8794\n",
      "Epoch 16/20\n",
      "136749/136749 [==============================] - 7s 54us/sample - loss: 0.4457 - categorical_accuracy: 0.7999 - auc: 0.8832 - val_loss: 0.4517 - val_categorical_accuracy: 0.7988 - val_auc: 0.8800\n",
      "Epoch 17/20\n",
      "136749/136749 [==============================] - 7s 54us/sample - loss: 0.4415 - categorical_accuracy: 0.8036 - auc: 0.8859 - val_loss: 0.4501 - val_categorical_accuracy: 0.7989 - val_auc: 0.8809\n",
      "Epoch 18/20\n",
      "136749/136749 [==============================] - 7s 54us/sample - loss: 0.4404 - categorical_accuracy: 0.8045 - auc: 0.8866 - val_loss: 0.4485 - val_categorical_accuracy: 0.8000 - val_auc: 0.8821\n",
      "Epoch 19/20\n",
      "136749/136749 [==============================] - 8s 55us/sample - loss: 0.4380 - categorical_accuracy: 0.8057 - auc: 0.8881 - val_loss: 0.4460 - val_categorical_accuracy: 0.8006 - val_auc: 0.8834\n",
      "Epoch 20/20\n",
      "136749/136749 [==============================] - 7s 55us/sample - loss: 0.4378 - categorical_accuracy: 0.8066 - auc: 0.8882 - val_loss: 0.4445 - val_categorical_accuracy: 0.8040 - val_auc: 0.8847\n",
      "++ loading hyperparameters from /home/btannenw/Desktop/ML/dihiggsMLProject/lorentzBoostNetwork/lbn/models/model_testMulti_5TrainEpochs_step0/model_testMulti_5TrainEpochs_step0_hyperparameters.json\n",
      "<class 'dict'> {'nLBNParticles': 5, 'nodesInFirstHiddenLayer': 80, 'nodesInSecondHiddenLayer': 256, 'hiddenActivation': 'relu', 'outputActivation': 'sigmoid', 'lossFunction': 'binary_crossentropy'}\n",
      "++ Setting hyperparameters...\n",
      "nLBNParticles = 5\n",
      "nodesInFirstHiddenLayer = 80\n",
      "nodesInSecondHiddenLayer = 256\n",
      "hiddenActivation = relu\n",
      "outputActivation = sigmoid\n",
      "lossFunction = binary_crossentropy\n",
      "++ loading model from /home/btannenw/Desktop/ML/dihiggsMLProject/lorentzBoostNetwork/lbn/models/model_testMulti_5TrainEpochs_step0/model_testMulti_5TrainEpochs_step0.hdf5\n"
     ]
    },
    {
     "data": {
      "image/png": "[encoded data removed]",
      "text/plain": [
       "<Figure size 432x288 with 1 Axes>"
      ]
     },
     "metadata": {
      "needs_background": "light"
     },
     "output_type": "display_data"
    },
    {
     "name": "stdout",
     "output_type": "stream",
     "text": [
      "23724 34884\n",
      "nSig = 1566.7535999999998 , nBkg = 1078153.04 with significance = 1.5089001279924428 +/- 0.03905905543706471 for ff-NN score > 0.8583895022218877\n",
      "<class 'dict'> {}\n",
      "++ Setting hyperparameters...\n",
      "nLBNParticles = 5\n",
      "nodesInFirstHiddenLayer = 80\n",
      "nodesInSecondHiddenLayer = 256\n",
      "hiddenActivation = relu\n",
      "outputActivation = sigmoid\n",
      "lossFunction = binary_crossentropy\n",
      "++ Begin model training\n",
      "\n",
      "Train on 136749 samples, validate on 58608 samples\n",
      "Epoch 1/20\n",
      "136749/136749 [==============================] - 9s 66us/sample - loss: 0.5880 - categorical_accuracy: 0.7018 - auc: 0.7804 - val_loss: 0.5608 - val_categorical_accuracy: 0.7185 - val_auc: 0.8062\n",
      "Epoch 2/20\n",
      "136749/136749 [==============================] - 6s 47us/sample - loss: 0.5266 - categorical_accuracy: 0.7499 - auc: 0.8324 - val_loss: 0.5131 - val_categorical_accuracy: 0.7567 - val_auc: 0.8411\n",
      "Epoch 3/20\n",
      "136749/136749 [==============================] - 6s 47us/sample - loss: 0.5036 - categorical_accuracy: 0.7655 - auc: 0.8478 - val_loss: 0.4995 - val_categorical_accuracy: 0.7664 - val_auc: 0.8500\n",
      "Epoch 4/20\n",
      "136749/136749 [==============================] - 6s 47us/sample - loss: 0.4917 - categorical_accuracy: 0.7712 - auc: 0.8551 - val_loss: 0.4905 - val_categorical_accuracy: 0.7724 - val_auc: 0.8554\n",
      "Epoch 5/20\n",
      "136749/136749 [==============================] - 6s 47us/sample - loss: 0.4826 - categorical_accuracy: 0.7773 - auc: 0.8607 - val_loss: 0.4839 - val_categorical_accuracy: 0.7757 - val_auc: 0.8595\n",
      "Epoch 6/20\n",
      "136749/136749 [==============================] - 6s 47us/sample - loss: 0.4768 - categorical_accuracy: 0.7798 - auc: 0.8638 - val_loss: 0.4765 - val_categorical_accuracy: 0.7803 - val_auc: 0.8638\n",
      "Epoch 7/20\n",
      "136749/136749 [==============================] - 6s 47us/sample - loss: 0.4721 - categorical_accuracy: 0.7835 - auc: 0.8666 - val_loss: 0.4736 - val_categorical_accuracy: 0.7825 - val_auc: 0.8658\n",
      "Epoch 8/20\n",
      "136749/136749 [==============================] - 6s 47us/sample - loss: 0.4676 - categorical_accuracy: 0.7859 - auc: 0.8694 - val_loss: 0.4684 - val_categorical_accuracy: 0.7866 - val_auc: 0.8688\n",
      "Epoch 9/20\n",
      "136749/136749 [==============================] - 7s 51us/sample - loss: 0.4640 - categorical_accuracy: 0.7879 - auc: 0.8715 - val_loss: 0.4649 - val_categorical_accuracy: 0.7881 - val_auc: 0.8712\n",
      "Epoch 10/20\n",
      "136749/136749 [==============================] - 7s 51us/sample - loss: 0.4581 - categorical_accuracy: 0.7922 - auc: 0.8752 - val_loss: 0.4618 - val_categorical_accuracy: 0.7900 - val_auc: 0.8729\n",
      "Epoch 11/20\n",
      "136749/136749 [==============================] - 7s 50us/sample - loss: 0.4536 - categorical_accuracy: 0.7942 - auc: 0.8782 - val_loss: 0.4590 - val_categorical_accuracy: 0.7915 - val_auc: 0.8747\n",
      "Epoch 12/20\n",
      "136749/136749 [==============================] - 6s 47us/sample - loss: 0.4503 - categorical_accuracy: 0.7964 - auc: 0.8802 - val_loss: 0.4588 - val_categorical_accuracy: 0.7945 - val_auc: 0.8756\n",
      "Epoch 13/20\n",
      "136749/136749 [==============================] - 7s 48us/sample - loss: 0.4457 - categorical_accuracy: 0.8000 - auc: 0.8830 - val_loss: 0.4541 - val_categorical_accuracy: 0.7960 - val_auc: 0.8782\n",
      "Epoch 14/20\n",
      "136749/136749 [==============================] - 7s 50us/sample - loss: 0.4423 - categorical_accuracy: 0.8026 - auc: 0.8851 - val_loss: 0.4476 - val_categorical_accuracy: 0.7990 - val_auc: 0.8821\n",
      "Epoch 15/20\n",
      "136749/136749 [==============================] - 7s 51us/sample - loss: 0.4404 - categorical_accuracy: 0.8039 - auc: 0.8862 - val_loss: 0.4436 - val_categorical_accuracy: 0.8023 - val_auc: 0.8845\n",
      "Epoch 16/20\n",
      "136749/136749 [==============================] - 7s 51us/sample - loss: 0.4388 - categorical_accuracy: 0.8043 - auc: 0.8872 - val_loss: 0.4405 - val_categorical_accuracy: 0.8040 - val_auc: 0.8863\n",
      "Epoch 17/20\n",
      "136749/136749 [==============================] - 7s 51us/sample - loss: 0.4352 - categorical_accuracy: 0.8071 - auc: 0.8893 - val_loss: 0.4408 - val_categorical_accuracy: 0.8039 - val_auc: 0.8861\n",
      "Epoch 18/20\n",
      "136749/136749 [==============================] - 7s 51us/sample - loss: 0.4337 - categorical_accuracy: 0.8078 - auc: 0.8902 - val_loss: 0.4427 - val_categorical_accuracy: 0.8010 - val_auc: 0.8852\n",
      "Epoch 19/20\n",
      "136749/136749 [==============================] - 7s 51us/sample - loss: 0.4323 - categorical_accuracy: 0.8087 - auc: 0.8911 - val_loss: 0.4381 - val_categorical_accuracy: 0.8050 - val_auc: 0.8879\n",
      "Epoch 20/20\n",
      "136749/136749 [==============================] - 7s 51us/sample - loss: 0.4316 - categorical_accuracy: 0.8081 - auc: 0.8915 - val_loss: 0.4383 - val_categorical_accuracy: 0.8054 - val_auc: 0.8879\n",
      "++ loading hyperparameters from /home/btannenw/Desktop/ML/dihiggsMLProject/lorentzBoostNetwork/lbn/models/model_testMulti_5TrainEpochs_step1/model_testMulti_5TrainEpochs_step1_hyperparameters.json\n",
      "<class 'dict'> {'nLBNParticles': 5, 'nodesInFirstHiddenLayer': 80, 'nodesInSecondHiddenLayer': 256, 'hiddenActivation': 'relu', 'outputActivation': 'sigmoid', 'lossFunction': 'binary_crossentropy'}\n",
      "++ Setting hyperparameters...\n",
      "nLBNParticles = 5\n",
      "nodesInFirstHiddenLayer = 80\n",
      "nodesInSecondHiddenLayer = 256\n",
      "hiddenActivation = relu\n",
      "outputActivation = sigmoid\n",
      "lossFunction = binary_crossentropy\n",
      "++ loading model from /home/btannenw/Desktop/ML/dihiggsMLProject/lorentzBoostNetwork/lbn/models/model_testMulti_5TrainEpochs_step1/model_testMulti_5TrainEpochs_step1.hdf5\n"
     ]
    },
    {
     "data": {
      "image/png": "[encoded data removed]",
      "text/plain": [
       "<Figure size 432x288 with 1 Axes>"
      ]
     },
     "metadata": {
      "needs_background": "light"
     },
     "output_type": "display_data"
    },
    {
     "name": "stdout",
     "output_type": "stream",
     "text": [
      "23724 34884\n",
      "nSig = 1504.4591999999998 , nBkg = 863848.03 with significance = 1.6186827585810137 +/- 0.04588894888814256 for ff-NN score > 0.8684890622442419\n",
      "<class 'dict'> {}\n",
      "++ Setting hyperparameters...\n",
      "nLBNParticles = 5\n",
      "nodesInFirstHiddenLayer = 80\n",
      "nodesInSecondHiddenLayer = 256\n",
      "hiddenActivation = relu\n",
      "outputActivation = sigmoid\n",
      "lossFunction = binary_crossentropy\n",
      "++ Begin model training\n",
      "\n",
      "Train on 136749 samples, validate on 58608 samples\n",
      "Epoch 1/20\n",
      "136749/136749 [==============================] - 10s 69us/sample - loss: 0.5974 - categorical_accuracy: 0.6960 - auc: 0.7714 - val_loss: 0.5666 - val_categorical_accuracy: 0.7172 - val_auc: 0.8006\n",
      "Epoch 2/20\n",
      "136749/136749 [==============================] - 6s 46us/sample - loss: 0.5411 - categorical_accuracy: 0.7401 - auc: 0.8208 - val_loss: 0.5231 - val_categorical_accuracy: 0.7523 - val_auc: 0.8348\n",
      "Epoch 3/20\n",
      "136749/136749 [==============================] - 6s 46us/sample - loss: 0.5120 - categorical_accuracy: 0.7595 - auc: 0.8420 - val_loss: 0.5004 - val_categorical_accuracy: 0.7671 - val_auc: 0.8502\n",
      "Epoch 4/20\n",
      "136749/136749 [==============================] - 7s 50us/sample - loss: 0.4939 - categorical_accuracy: 0.7705 - auc: 0.8542 - val_loss: 0.4880 - val_categorical_accuracy: 0.7752 - val_auc: 0.8581\n",
      "Epoch 5/20\n",
      "136749/136749 [==============================] - 8s 62us/sample - loss: 0.4813 - categorical_accuracy: 0.7787 - auc: 0.8623 - val_loss: 0.4787 - val_categorical_accuracy: 0.7806 - val_auc: 0.8640\n",
      "Epoch 6/20\n",
      "136749/136749 [==============================] - 7s 50us/sample - loss: 0.4734 - categorical_accuracy: 0.7830 - auc: 0.8668 - val_loss: 0.4689 - val_categorical_accuracy: 0.7864 - val_auc: 0.8695\n",
      "Epoch 7/20\n",
      "136749/136749 [==============================] - 8s 56us/sample - loss: 0.4666 - categorical_accuracy: 0.7875 - auc: 0.8708 - val_loss: 0.4676 - val_categorical_accuracy: 0.7863 - val_auc: 0.8702\n",
      "Epoch 8/20\n",
      "136749/136749 [==============================] - 8s 55us/sample - loss: 0.4617 - categorical_accuracy: 0.7915 - auc: 0.8737 - val_loss: 0.4619 - val_categorical_accuracy: 0.7907 - val_auc: 0.8736\n",
      "Epoch 9/20\n",
      "136749/136749 [==============================] - 8s 60us/sample - loss: 0.4577 - categorical_accuracy: 0.7924 - auc: 0.8761 - val_loss: 0.4579 - val_categorical_accuracy: 0.7918 - val_auc: 0.8760\n",
      "Epoch 10/20\n",
      "136749/136749 [==============================] - 8s 56us/sample - loss: 0.4535 - categorical_accuracy: 0.7958 - auc: 0.8785 - val_loss: 0.4554 - val_categorical_accuracy: 0.7938 - val_auc: 0.8773\n",
      "Epoch 11/20\n",
      "136749/136749 [==============================] - 8s 56us/sample - loss: 0.4499 - categorical_accuracy: 0.7984 - auc: 0.8807 - val_loss: 0.4534 - val_categorical_accuracy: 0.7951 - val_auc: 0.8785\n",
      "Epoch 12/20\n",
      "136749/136749 [==============================] - 8s 56us/sample - loss: 0.4469 - categorical_accuracy: 0.8004 - auc: 0.8824 - val_loss: 0.4532 - val_categorical_accuracy: 0.7979 - val_auc: 0.8792\n",
      "Epoch 13/20\n",
      "136749/136749 [==============================] - 8s 55us/sample - loss: 0.4438 - categorical_accuracy: 0.8023 - auc: 0.8843 - val_loss: 0.4524 - val_categorical_accuracy: 0.7977 - val_auc: 0.8794\n",
      "Epoch 14/20\n",
      "136749/136749 [==============================] - 7s 51us/sample - loss: 0.4415 - categorical_accuracy: 0.8039 - auc: 0.8857 - val_loss: 0.4499 - val_categorical_accuracy: 0.7977 - val_auc: 0.8805\n",
      "Epoch 15/20\n",
      "136749/136749 [==============================] - 7s 48us/sample - loss: 0.4397 - categorical_accuracy: 0.8047 - auc: 0.8868 - val_loss: 0.4425 - val_categorical_accuracy: 0.8020 - val_auc: 0.8852\n",
      "Epoch 16/20\n",
      "136749/136749 [==============================] - 7s 48us/sample - loss: 0.4376 - categorical_accuracy: 0.8063 - auc: 0.8881 - val_loss: 0.4412 - val_categorical_accuracy: 0.8045 - val_auc: 0.8862\n",
      "Epoch 17/20\n",
      "136749/136749 [==============================] - 6s 48us/sample - loss: 0.4340 - categorical_accuracy: 0.8086 - auc: 0.8902 - val_loss: 0.4400 - val_categorical_accuracy: 0.8045 - val_auc: 0.8868\n",
      "Epoch 18/20\n",
      "136749/136749 [==============================] - 7s 48us/sample - loss: 0.4324 - categorical_accuracy: 0.8105 - auc: 0.8911 - val_loss: 0.4378 - val_categorical_accuracy: 0.8070 - val_auc: 0.8883\n",
      "Epoch 19/20\n",
      "136749/136749 [==============================] - 7s 48us/sample - loss: 0.4301 - categorical_accuracy: 0.8109 - auc: 0.8925 - val_loss: 0.4357 - val_categorical_accuracy: 0.8078 - val_auc: 0.8894\n",
      "Epoch 20/20\n",
      "136749/136749 [==============================] - 7s 48us/sample - loss: 0.4300 - categorical_accuracy: 0.8115 - auc: 0.8926 - val_loss: 0.4362 - val_categorical_accuracy: 0.8075 - val_auc: 0.8894\n",
      "++ loading hyperparameters from /home/btannenw/Desktop/ML/dihiggsMLProject/lorentzBoostNetwork/lbn/models/model_testMulti_5TrainEpochs_step2/model_testMulti_5TrainEpochs_step2_hyperparameters.json\n",
      "<class 'dict'> {'nLBNParticles': 5, 'nodesInFirstHiddenLayer': 80, 'nodesInSecondHiddenLayer': 256, 'hiddenActivation': 'relu', 'outputActivation': 'sigmoid', 'lossFunction': 'binary_crossentropy'}\n",
      "++ Setting hyperparameters...\n",
      "nLBNParticles = 5\n",
      "nodesInFirstHiddenLayer = 80\n",
      "nodesInSecondHiddenLayer = 256\n",
      "hiddenActivation = relu\n",
      "outputActivation = sigmoid\n",
      "lossFunction = binary_crossentropy\n",
      "++ loading model from /home/btannenw/Desktop/ML/dihiggsMLProject/lorentzBoostNetwork/lbn/models/model_testMulti_5TrainEpochs_step2/model_testMulti_5TrainEpochs_step2.hdf5\n"
     ]
    },
    {
     "data": {
      "image/png": "[encoded data removed]",
      "text/plain": [
       "<Figure size 432x288 with 1 Axes>"
      ]
     },
     "metadata": {
      "needs_background": "light"
     },
     "output_type": "display_data"
    },
    {
     "name": "stdout",
     "output_type": "stream",
     "text": [
      "23724 34884\n",
      "nSig = 1956.0935999999997 , nBkg = 1484669.76 with significance = 1.60536836537563 +/- 0.03583957928644458 for ff-NN score > 0.8380429425624886\n",
      "<class 'dict'> {}\n",
      "++ Setting hyperparameters...\n",
      "nLBNParticles = 5\n",
      "nodesInFirstHiddenLayer = 80\n",
      "nodesInSecondHiddenLayer = 256\n",
      "hiddenActivation = relu\n",
      "outputActivation = sigmoid\n",
      "lossFunction = binary_crossentropy\n",
      "++ Begin model training\n",
      "\n",
      "Train on 136749 samples, validate on 58608 samples\n",
      "Epoch 1/20\n",
      "136749/136749 [==============================] - 10s 72us/sample - loss: 0.6053 - categorical_accuracy: 0.6883 - auc: 0.7625 - val_loss: 0.5704 - val_categorical_accuracy: 0.7154 - val_auc: 0.7969\n",
      "Epoch 2/20\n",
      "136749/136749 [==============================] - 6s 45us/sample - loss: 0.5371 - categorical_accuracy: 0.7407 - auc: 0.8239 - val_loss: 0.5209 - val_categorical_accuracy: 0.7518 - val_auc: 0.8357\n",
      "Epoch 3/20\n",
      "136749/136749 [==============================] - 6s 46us/sample - loss: 0.5101 - categorical_accuracy: 0.7604 - auc: 0.8434 - val_loss: 0.5014 - val_categorical_accuracy: 0.7666 - val_auc: 0.8493\n",
      "Epoch 4/20\n",
      "136749/136749 [==============================] - 6s 45us/sample - loss: 0.4960 - categorical_accuracy: 0.7695 - auc: 0.8528 - val_loss: 0.4888 - val_categorical_accuracy: 0.7741 - val_auc: 0.8572\n",
      "Epoch 5/20\n",
      "136749/136749 [==============================] - 6s 46us/sample - loss: 0.4808 - categorical_accuracy: 0.7802 - auc: 0.8628 - val_loss: 0.4778 - val_categorical_accuracy: 0.7812 - val_auc: 0.8646\n",
      "Epoch 6/20\n",
      "136749/136749 [==============================] - 6s 45us/sample - loss: 0.4716 - categorical_accuracy: 0.7854 - auc: 0.8684 - val_loss: 0.4691 - val_categorical_accuracy: 0.7875 - val_auc: 0.8696\n",
      "Epoch 7/20\n",
      "136749/136749 [==============================] - 6s 45us/sample - loss: 0.4641 - categorical_accuracy: 0.7905 - auc: 0.8729 - val_loss: 0.4642 - val_categorical_accuracy: 0.7914 - val_auc: 0.8731\n",
      "Epoch 8/20\n",
      "136749/136749 [==============================] - 6s 46us/sample - loss: 0.4586 - categorical_accuracy: 0.7944 - auc: 0.8761 - val_loss: 0.4599 - val_categorical_accuracy: 0.7924 - val_auc: 0.8749\n",
      "Epoch 9/20\n",
      "136749/136749 [==============================] - 8s 57us/sample - loss: 0.4535 - categorical_accuracy: 0.7963 - auc: 0.8790 - val_loss: 0.4551 - val_categorical_accuracy: 0.7961 - val_auc: 0.8780\n",
      "Epoch 10/20\n",
      "136749/136749 [==============================] - 8s 57us/sample - loss: 0.4501 - categorical_accuracy: 0.7988 - auc: 0.8809 - val_loss: 0.4520 - val_categorical_accuracy: 0.7972 - val_auc: 0.8797\n",
      "Epoch 11/20\n",
      "136749/136749 [==============================] - 8s 56us/sample - loss: 0.4468 - categorical_accuracy: 0.8015 - auc: 0.8828 - val_loss: 0.4536 - val_categorical_accuracy: 0.7959 - val_auc: 0.8786\n",
      "Epoch 12/20\n",
      "136749/136749 [==============================] - 8s 56us/sample - loss: 0.4438 - categorical_accuracy: 0.8024 - auc: 0.8844 - val_loss: 0.4521 - val_categorical_accuracy: 0.7978 - val_auc: 0.8798\n",
      "Epoch 13/20\n",
      "136749/136749 [==============================] - 7s 55us/sample - loss: 0.4418 - categorical_accuracy: 0.8038 - auc: 0.8854 - val_loss: 0.4543 - val_categorical_accuracy: 0.7966 - val_auc: 0.8778\n",
      "Epoch 14/20\n",
      "136749/136749 [==============================] - 6s 45us/sample - loss: 0.4393 - categorical_accuracy: 0.8053 - auc: 0.8869 - val_loss: 0.4460 - val_categorical_accuracy: 0.8013 - val_auc: 0.8830\n",
      "Epoch 15/20\n",
      "136749/136749 [==============================] - 6s 45us/sample - loss: 0.4380 - categorical_accuracy: 0.8054 - auc: 0.8876 - val_loss: 0.4436 - val_categorical_accuracy: 0.8021 - val_auc: 0.8844\n",
      "Epoch 16/20\n",
      "136749/136749 [==============================] - 6s 46us/sample - loss: 0.4375 - categorical_accuracy: 0.8056 - auc: 0.8878 - val_loss: 0.4410 - val_categorical_accuracy: 0.8045 - val_auc: 0.8860\n",
      "Epoch 17/20\n",
      "136749/136749 [==============================] - 7s 54us/sample - loss: 0.4340 - categorical_accuracy: 0.8083 - auc: 0.8899 - val_loss: 0.4415 - val_categorical_accuracy: 0.8033 - val_auc: 0.8855\n",
      "Epoch 18/20\n",
      "136749/136749 [==============================] - 8s 57us/sample - loss: 0.4330 - categorical_accuracy: 0.8089 - auc: 0.8904 - val_loss: 0.4395 - val_categorical_accuracy: 0.8056 - val_auc: 0.8869\n",
      "Epoch 19/20\n",
      "136749/136749 [==============================] - 8s 59us/sample - loss: 0.4306 - categorical_accuracy: 0.8104 - auc: 0.8918 - val_loss: 0.4391 - val_categorical_accuracy: 0.8045 - val_auc: 0.8870\n",
      "Epoch 20/20\n",
      "136749/136749 [==============================] - 9s 63us/sample - loss: 0.4306 - categorical_accuracy: 0.8101 - auc: 0.8918 - val_loss: 0.4384 - val_categorical_accuracy: 0.8066 - val_auc: 0.8876\n",
      "++ loading hyperparameters from /home/btannenw/Desktop/ML/dihiggsMLProject/lorentzBoostNetwork/lbn/models/model_testMulti_5TrainEpochs_step3/model_testMulti_5TrainEpochs_step3_hyperparameters.json\n",
      "<class 'dict'> {'nLBNParticles': 5, 'nodesInFirstHiddenLayer': 80, 'nodesInSecondHiddenLayer': 256, 'hiddenActivation': 'relu', 'outputActivation': 'sigmoid', 'lossFunction': 'binary_crossentropy'}\n",
      "++ Setting hyperparameters...\n",
      "nLBNParticles = 5\n",
      "nodesInFirstHiddenLayer = 80\n",
      "nodesInSecondHiddenLayer = 256\n",
      "hiddenActivation = relu\n",
      "outputActivation = sigmoid\n",
      "lossFunction = binary_crossentropy\n",
      "++ loading model from /home/btannenw/Desktop/ML/dihiggsMLProject/lorentzBoostNetwork/lbn/models/model_testMulti_5TrainEpochs_step3/model_testMulti_5TrainEpochs_step3.hdf5\n"
     ]
    },
    {
     "data": {
      "image/png": "[encoded data removed]",
      "text/plain": [
       "<Figure size 432x288 with 1 Axes>"
      ]
     },
     "metadata": {
      "needs_background": "light"
     },
     "output_type": "display_data"
    },
    {
     "name": "stdout",
     "output_type": "stream",
     "text": [
      "23724 34884\n",
      "nSig = 1608.2831999999999 , nBkg = 1064897.06 with significance = 1.5585068353168847 +/- 0.04041243000674676 for ff-NN score > 0.8584852296896655\n",
      "<class 'dict'> {}\n",
      "++ Setting hyperparameters...\n",
      "nLBNParticles = 5\n",
      "nodesInFirstHiddenLayer = 80\n",
      "nodesInSecondHiddenLayer = 256\n",
      "hiddenActivation = relu\n",
      "outputActivation = sigmoid\n",
      "lossFunction = binary_crossentropy\n",
      "++ Begin model training\n",
      "\n",
      "Train on 136749 samples, validate on 58608 samples\n",
      "Epoch 1/20\n",
      "136749/136749 [==============================] - 9s 66us/sample - loss: 0.6000 - categorical_accuracy: 0.6983 - auc: 0.7699 - val_loss: 0.5633 - val_categorical_accuracy: 0.7190 - val_auc: 0.8019\n",
      "Epoch 2/20\n",
      "136749/136749 [==============================] - 6s 43us/sample - loss: 0.5355 - categorical_accuracy: 0.7436 - auc: 0.8253 - val_loss: 0.5240 - val_categorical_accuracy: 0.7483 - val_auc: 0.8326\n",
      "Epoch 3/20\n",
      "136749/136749 [==============================] - 6s 46us/sample - loss: 0.5109 - categorical_accuracy: 0.7585 - auc: 0.8422 - val_loss: 0.5076 - val_categorical_accuracy: 0.7609 - val_auc: 0.8438\n",
      "Epoch 4/20\n",
      "136749/136749 [==============================] - 6s 46us/sample - loss: 0.4969 - categorical_accuracy: 0.7689 - auc: 0.8516 - val_loss: 0.4934 - val_categorical_accuracy: 0.7684 - val_auc: 0.8530\n",
      "Epoch 5/20\n",
      "136749/136749 [==============================] - 6s 47us/sample - loss: 0.4861 - categorical_accuracy: 0.7747 - auc: 0.8585 - val_loss: 0.4840 - val_categorical_accuracy: 0.7756 - val_auc: 0.8598\n",
      "Epoch 6/20\n",
      "136749/136749 [==============================] - 6s 46us/sample - loss: 0.4784 - categorical_accuracy: 0.7803 - auc: 0.8634 - val_loss: 0.4735 - val_categorical_accuracy: 0.7815 - val_auc: 0.8662\n",
      "Epoch 7/20\n",
      "136749/136749 [==============================] - 6s 46us/sample - loss: 0.4714 - categorical_accuracy: 0.7848 - auc: 0.8678 - val_loss: 0.4700 - val_categorical_accuracy: 0.7853 - val_auc: 0.8688\n",
      "Epoch 8/20\n",
      "136749/136749 [==============================] - 6s 46us/sample - loss: 0.4648 - categorical_accuracy: 0.7889 - auc: 0.8719 - val_loss: 0.4611 - val_categorical_accuracy: 0.7896 - val_auc: 0.8741\n",
      "Epoch 9/20\n",
      "136749/136749 [==============================] - 6s 46us/sample - loss: 0.4574 - categorical_accuracy: 0.7947 - auc: 0.8765 - val_loss: 0.4550 - val_categorical_accuracy: 0.7958 - val_auc: 0.8780\n",
      "Epoch 10/20\n",
      "136749/136749 [==============================] - 6s 46us/sample - loss: 0.4515 - categorical_accuracy: 0.7978 - auc: 0.8800 - val_loss: 0.4483 - val_categorical_accuracy: 0.8002 - val_auc: 0.8818\n",
      "Epoch 11/20\n",
      "136749/136749 [==============================] - 6s 46us/sample - loss: 0.4470 - categorical_accuracy: 0.8004 - auc: 0.8826 - val_loss: 0.4470 - val_categorical_accuracy: 0.7992 - val_auc: 0.8824\n",
      "Epoch 12/20\n",
      "136749/136749 [==============================] - 6s 46us/sample - loss: 0.4425 - categorical_accuracy: 0.8039 - auc: 0.8851 - val_loss: 0.4472 - val_categorical_accuracy: 0.8008 - val_auc: 0.8827\n",
      "Epoch 13/20\n",
      "136749/136749 [==============================] - 6s 46us/sample - loss: 0.4396 - categorical_accuracy: 0.8055 - auc: 0.8868 - val_loss: 0.4463 - val_categorical_accuracy: 0.8003 - val_auc: 0.8832\n",
      "Epoch 14/20\n",
      "136749/136749 [==============================] - 6s 46us/sample - loss: 0.4367 - categorical_accuracy: 0.8075 - auc: 0.8884 - val_loss: 0.4402 - val_categorical_accuracy: 0.8044 - val_auc: 0.8864\n",
      "Epoch 15/20\n",
      "136749/136749 [==============================] - 6s 45us/sample - loss: 0.4361 - categorical_accuracy: 0.8080 - auc: 0.8887 - val_loss: 0.4379 - val_categorical_accuracy: 0.8043 - val_auc: 0.8876\n",
      "Epoch 16/20\n",
      "136749/136749 [==============================] - 6s 46us/sample - loss: 0.4342 - categorical_accuracy: 0.8084 - auc: 0.8897 - val_loss: 0.4341 - val_categorical_accuracy: 0.8093 - val_auc: 0.8900\n",
      "Epoch 17/20\n",
      "136749/136749 [==============================] - 6s 46us/sample - loss: 0.4313 - categorical_accuracy: 0.8101 - auc: 0.8914 - val_loss: 0.4360 - val_categorical_accuracy: 0.8073 - val_auc: 0.8889\n",
      "Epoch 18/20\n",
      "136749/136749 [==============================] - 8s 59us/sample - loss: 0.4301 - categorical_accuracy: 0.8111 - auc: 0.8920 - val_loss: 0.4320 - val_categorical_accuracy: 0.8088 - val_auc: 0.8909\n",
      "Epoch 19/20\n",
      "136749/136749 [==============================] - 8s 57us/sample - loss: 0.4273 - categorical_accuracy: 0.8127 - auc: 0.8936 - val_loss: 0.4310 - val_categorical_accuracy: 0.8084 - val_auc: 0.8914\n",
      "Epoch 20/20\n",
      "136749/136749 [==============================] - 8s 57us/sample - loss: 0.4276 - categorical_accuracy: 0.8127 - auc: 0.8934 - val_loss: 0.4299 - val_categorical_accuracy: 0.8120 - val_auc: 0.8922\n",
      "++ loading hyperparameters from /home/btannenw/Desktop/ML/dihiggsMLProject/lorentzBoostNetwork/lbn/models/model_testMulti_5TrainEpochs_step4/model_testMulti_5TrainEpochs_step4_hyperparameters.json\n",
      "<class 'dict'> {'nLBNParticles': 5, 'nodesInFirstHiddenLayer': 80, 'nodesInSecondHiddenLayer': 256, 'hiddenActivation': 'relu', 'outputActivation': 'sigmoid', 'lossFunction': 'binary_crossentropy'}\n",
      "++ Setting hyperparameters...\n",
      "nLBNParticles = 5\n",
      "nodesInFirstHiddenLayer = 80\n",
      "nodesInSecondHiddenLayer = 256\n",
      "hiddenActivation = relu\n",
      "outputActivation = sigmoid\n",
      "lossFunction = binary_crossentropy\n",
      "++ loading model from /home/btannenw/Desktop/ML/dihiggsMLProject/lorentzBoostNetwork/lbn/models/model_testMulti_5TrainEpochs_step4/model_testMulti_5TrainEpochs_step4.hdf5\n"
     ]
    },
    {
     "data": {
      "image/png": "[encoded data removed]",
      "text/plain": [
       "<Figure size 432x288 with 1 Axes>"
      ]
     },
     "metadata": {
      "needs_background": "light"
     },
     "output_type": "display_data"
    },
    {
     "name": "stdout",
     "output_type": "stream",
     "text": [
      "23724 34884\n",
      "nSig = 1803.8183999999999 , nBkg = 1148851.5999999999 with significance = 1.6829098252686898 +/- 0.04183010583101301 for ff-NN score > 0.847937493613272\n"
     ]
    }
   ],
   "source": [
    "# *** X. Try multiple iterations with same hyperparameters and see collection results\n",
    "\n",
    "iterations=5\n",
    "results={}\n",
    "\n",
    "\n",
    "for step in range(0, iterations):\n",
    "    modelName = 'model_testMulti_60TrainEpochs_step{}'.format(step)\n",
    "\n",
    "    model, history = fit_model(name=modelName, data=(trainVectorsByEvent, trainLabelsByEvent), \n",
    "                              validation_data=(testVectorsByEvent, testLabelsByEvent), epochs=60, batch_size=400)\n",
    "\n",
    "    best_model = load_model( modelName )\n",
    "    pred_hh = best_model.predict(np.array(hh_data_test))\n",
    "    pred_qcd = best_model.predict(np.array(qcd_data_test))\n",
    "\n",
    "    _nBins = 40\n",
    "    predictionResults = {'hh_pred':pred_hh[:,0], 'qcd_pred':pred_qcd[:,0]}\n",
    "    compareManyHistograms( predictionResults, ['hh_pred', 'qcd_pred'], 2, 'Signal Prediction', 'LBN Signal Score', 0, 1, _nBins, _yMax = 5, _normed=True, _savePlot=False )\n",
    "\n",
    "    # *** 4. Get best cut value for ff-NN assuming some minimal amount of signal\n",
    "    sig, cut, sigErr = returnBestCutValue('ff-NN', pred_hh[:,0].copy(), pred_qcd[:,0].copy(), _minBackground=200, _testingFraction=testingFraction)\n",
    "    \n",
    "    results[step] = {'Sig': sig, 'Error': sigErr, 'Cut': cut}"
   ]
  },
  {
   "cell_type": "code",
   "execution_count": 17,
   "metadata": {},
   "outputs": [
    {
     "name": "stdout",
     "output_type": "stream",
     "text": [
      "{0: {'Sig': 1.5089001279924428, 'Error': 0.03905905543706471, 'Cut': 0.8583895022218877}, 1: {'Sig': 1.6186827585810137, 'Error': 0.04588894888814256, 'Cut': 0.8684890622442419}, 2: {'Sig': 1.60536836537563, 'Error': 0.03583957928644458, 'Cut': 0.8380429425624886}, 3: {'Sig': 1.5585068353168847, 'Error': 0.04041243000674676, 'Cut': 0.8584852296896655}, 4: {'Sig': 1.6829098252686898, 'Error': 0.04183010583101301, 'Cut': 0.847937493613272}}\n"
     ]
    }
   ],
   "source": [
    "print(results)"
   ]
  },
  {
   "cell_type": "code",
   "execution_count": 22,
   "metadata": {},
   "outputs": [
    {
     "data": {
      "text/plain": [
       "{0: {'Sig': 1.5089001279924428,\n",
       "  'Error': 0.03905905543706471,\n",
       "  'Cut': 0.8583895022218877},\n",
       " 1: {'Sig': 1.6186827585810137,\n",
       "  'Error': 0.04588894888814256,\n",
       "  'Cut': 0.8684890622442419},\n",
       " 2: {'Sig': 1.60536836537563,\n",
       "  'Error': 0.03583957928644458,\n",
       "  'Cut': 0.8380429425624886},\n",
       " 3: {'Sig': 1.5585068353168847,\n",
       "  'Error': 0.04041243000674676,\n",
       "  'Cut': 0.8584852296896655},\n",
       " 4: {'Sig': 1.6829098252686898,\n",
       "  'Error': 0.04183010583101301,\n",
       "  'Cut': 0.847937493613272}}"
      ]
     },
     "execution_count": 22,
     "metadata": {},
     "output_type": "execute_result"
    }
   ],
   "source": [
    "results"
   ]
  },
  {
   "cell_type": "code",
   "execution_count": 10,
   "metadata": {},
   "outputs": [
    {
     "data": {
      "text/plain": [
       "[1, 2, 3, 4, 5, 6, 7, 8]"
      ]
     },
     "execution_count": 10,
     "metadata": {},
     "output_type": "execute_result"
    }
   ],
   "source": [
    "[x for x in range(1, 8+1)]"
   ]
  },
  {
   "cell_type": "code",
   "execution_count": 16,
   "metadata": {},
   "outputs": [
    {
     "data": {
      "text/plain": [
       "numpy.ndarray"
      ]
     },
     "execution_count": 16,
     "metadata": {},
     "output_type": "execute_result"
    }
   ],
   "source": [
    "type(np.empty([1, 32]))"
   ]
  },
  {
   "cell_type": "code",
   "execution_count": 20,
   "metadata": {},
   "outputs": [
    {
     "data": {
      "text/plain": [
       "(58608, 32)"
      ]
     },
     "execution_count": 20,
     "metadata": {},
     "output_type": "execute_result"
    }
   ],
   "source": [
    "np.shape(testVectorsByEvent)"
   ]
  },
  {
   "cell_type": "code",
   "execution_count": null,
   "metadata": {},
   "outputs": [],
   "source": []
  }
 ],
 "metadata": {
  "kernelspec": {
   "display_name": "Python 3",
   "language": "python",
   "name": "python3"
  },
  "language_info": {
   "codemirror_mode": {
    "name": "ipython",
    "version": 3
   },
   "file_extension": ".py",
   "mimetype": "text/x-python",
   "name": "python",
   "nbconvert_exporter": "python",
   "pygments_lexer": "ipython3",
   "version": "3.7.4"
  }
 },
 "nbformat": 4,
 "nbformat_minor": 2
}
