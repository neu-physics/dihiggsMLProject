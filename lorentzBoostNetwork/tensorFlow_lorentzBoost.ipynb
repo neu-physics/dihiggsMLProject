{
 "cells": [
  {
   "cell_type": "code",
   "execution_count": null,
   "metadata": {},
   "outputs": [],
   "source": [
    "### To-Do\n",
    "# X) make fit_function general enough for pswarms optimization -> dropout rate, layers, nodes, etc\n",
    "# 1) put all this in a script\n",
    "# 2) write function that runs fit_function ~5 times and keeps ensemble + best\n",
    "# 3) implement pyswarms optimization\n",
    "# X) e_sig vs (1-e_bkg) plot\n",
    "# -) ... \n",
    "# N) k-fold validation"
   ]
  },
  {
   "cell_type": "code",
   "execution_count": 1,
   "metadata": {},
   "outputs": [
    {
     "name": "stderr",
     "output_type": "stream",
     "text": [
      "Using TensorFlow backend.\n"
     ]
    }
   ],
   "source": [
    "# Import the needed libraries\n",
    "import numpy as np\n",
    "import pandas as pd\n",
    "import matplotlib.pyplot as plt\n",
    "import tensorflow as tf\n",
    "from keras.models import Sequential\n",
    "from keras.layers import Dense, Activation, Dropout, BatchNormalization\n",
    "from keras.utils import normalize, to_categorical\n",
    "from sklearn.metrics import confusion_matrix, roc_curve, auc\n",
    "from sklearn.model_selection import StratifiedKFold\n",
    "from keras.callbacks import EarlyStopping, ModelCheckpoint\n",
    "from keras.regularizers import l1, l2\n",
    "from keras.models import load_model\n",
    "from keras.backend import manual_variable_initialization \n",
    "import json\n",
    "\n",
    "manual_variable_initialization(True)\n",
    "\n",
    "from lbn import LBN, LBNLayer\n",
    "\n",
    "# Fix random seed for reproducibility\n",
    "seed = 7\n",
    "np.random.seed(seed)\n",
    "tf.random.set_seed(seed)"
   ]
  },
  {
   "cell_type": "code",
   "execution_count": 2,
   "metadata": {},
   "outputs": [],
   "source": [
    "import sys, os\n",
    "sys.path.insert(0, '/home/btannenw/Desktop/ML/dihiggsMLProject/')\n",
    "from utils.commonFunctions import *\n",
    "\n",
    "topDir = '/home/btannenw/Desktop/ML/dihiggsMLProject/lorentzBoostNetwork/'"
   ]
  },
  {
   "cell_type": "code",
   "execution_count": 3,
   "metadata": {},
   "outputs": [
    {
     "name": "stdout",
     "output_type": "stream",
     "text": [
      "Dihiggs file:  /home/btannenw/Desktop/ML/dihiggsMLProject/data/pp2hh4b_500kEvents_0PU_v2-05__top4inPt-4tags-10jets_combined_csv.csv\n",
      "QCD file:  /home/btannenw/Desktop/ML/dihiggsMLProject/data/ppTo4b_2MEvents_0PU_v2-05__top4inPt-4tags-10jets_combined_csv.csv\n"
     ]
    }
   ],
   "source": [
    "#*** 1. Import data and check stuff\n",
    "testingFraction = 0.3\n",
    "\n",
    "# *** A. Import Dataset\n",
    "hh_raw, qcd_raw = importDatasets()"
   ]
  },
  {
   "cell_type": "code",
   "execution_count": 4,
   "metadata": {},
   "outputs": [
    {
     "data": {
      "text/plain": [
       "(array([3.3195e+04, 4.0870e+04, 2.5949e+04, 1.1225e+04, 3.8130e+03,\n",
       "        1.1030e+03, 2.6100e+02, 5.6000e+01, 5.0000e+00, 4.0000e+00]),\n",
       " array([ 4. ,  4.9,  5.8,  6.7,  7.6,  8.5,  9.4, 10.3, 11.2, 12.1, 13. ]),\n",
       " <a list of 10 Patch objects>)"
      ]
     },
     "execution_count": 4,
     "metadata": {},
     "output_type": "execute_result"
    },
    {
     "data": {
      "image/png": "[encoded data removed]",
      "text/plain": [
       "<Figure size 432x288 with 1 Axes>"
      ]
     },
     "metadata": {
      "needs_background": "light"
     },
     "output_type": "display_data"
    }
   ],
   "source": [
    "plt.hist(qcd_raw.nJets, bins=10)"
   ]
  },
  {
   "cell_type": "code",
   "execution_count": 5,
   "metadata": {},
   "outputs": [
    {
     "name": "stdout",
     "output_type": "stream",
     "text": [
      "N_sig = 78876 , N_bkg = 116481\n",
      "195357 rows of total data with  195357 labels [Train+Test]\n",
      "136749 rows of training data with  136749 labels [Train]\n",
      "58608 rows of testing data with  58608 labels [Test]\n"
     ]
    }
   ],
   "source": [
    "# *** 2. Make mix of dihiggs and QCD for specified variables\n",
    "jetLabels = ['1','2','3','4','5','6','7','8']\n",
    "jetVariables = ['energy', 'px', 'py', 'pz']\n",
    "variables_jetVects = ['jet{0}_{1}'.format(iJetLabel, iJetVariable) for iJetLabel in jetLabels for iJetVariable in jetVariables]\n",
    "\n",
    "# *** 2. Split testing and training\n",
    "jetVects_data_train, jetVects_data_test, jetVects_labels_train, jetVects_labels_test = makeTestTrainSamplesWithUserVariables(hh_raw, qcd_raw, variables_jetVects, testingFraction)"
   ]
  },
  {
   "cell_type": "code",
   "execution_count": 6,
   "metadata": {},
   "outputs": [
    {
     "name": "stdout",
     "output_type": "stream",
     "text": [
      "(136749, 32)\n"
     ]
    }
   ],
   "source": [
    "# *** 2. Create jet vector inputs\n",
    "def returnJetVectorInputsToLBN(_df, _jetType='jet', _nJets=4):\n",
    "    \n",
    "    #flattened\n",
    "    _allVectorsFlattened = None\n",
    "    _var = [_jetType+'{}_energy', _jetType+'{}_px', _jetType+'{}_py', _jetType+'{}_pz']\n",
    "    \n",
    "    for i in range(1, _nJets + 1):\n",
    "        _varN = [x.format(i) for x in _var]\n",
    "        _jetNData = _df[ _varN ].astype(np.float32)\n",
    "        _vectN = [list(x) for x in _jetNData.values]\n",
    "        \n",
    "        if _allVectorsFlattened == None:\n",
    "            _allVectorsFlattened = _vectN\n",
    "        else:\n",
    "            _allVectorsFlattened = [ x + y for x,y in zip(_allVectorsFlattened, _vectN) ]\n",
    "\n",
    "    return np.array(_allVectorsFlattened)\n",
    "    \n",
    "\n",
    "nJets = 8\n",
    "jetType = 'jet'\n",
    "trainVectorsByEvent = returnJetVectorInputsToLBN( jetVects_data_train, jetType, nJets)\n",
    "testVectorsByEvent  = returnJetVectorInputsToLBN( jetVects_data_test, jetType, nJets)\n",
    "\n",
    "trainLabelsByEvent = np.array([[0.,1.] if x ==0 else [1.,0.] for x in jetVects_labels_train.isSignal]).astype(np.float32)\n",
    "testLabelsByEvent  = np.array([[0.,1.] if x ==0 else [1.,0.] for x in jetVects_labels_test.isSignal]).astype(np.float32)\n",
    "\n",
    "print(np.shape(trainVectorsByEvent))"
   ]
  },
  {
   "cell_type": "code",
   "execution_count": 7,
   "metadata": {},
   "outputs": [],
   "source": [
    "# *** 3A. Define LBN model and train\n",
    "def createModelLBN( user_hyperparameters={}, _weightsDir=''):\n",
    "    \"\"\"make lbn model\"\"\"\n",
    "    \n",
    "    _hyperparameters = {'nLBNParticles':            5,\n",
    "                       'nodesInFirstHiddenLayer':  80, \n",
    "                       'nodesInSecondHiddenLayer': 256, \n",
    "                       'hiddenActivation':        'relu', \n",
    "                       'outputActivation':        'sigmoid', \n",
    "                       'lossFunction':            'binary_crossentropy'\n",
    "                       }\n",
    "\n",
    "    print(type(user_hyperparameters), user_hyperparameters)\n",
    "    print(\"++ Setting hyperparameters...\")\n",
    "    for hp in _hyperparameters.keys():\n",
    "        if hp in user_hyperparameters.keys():\n",
    "            _hyperparameters[hp] = user_hyperparameters[hp] \n",
    "        \n",
    "        print(\"{} = {}\".format(hp, _hyperparameters[hp]))\n",
    "    \n",
    "    \n",
    "    #init = tf.keras.initializers.RandomNormal(mean=0., stddev=0.1, seed=123)\n",
    " \n",
    "    features = [\"E\", \"pt\", \"eta\", \"phi\", \"m\", \"pair_dr\"]\n",
    "    lbn_layer = LBNLayer(n_particles= _hyperparameters['nLBNParticles'], boost_mode=\"pairs\", features=features)\n",
    "    \n",
    "    \n",
    "    metrics = [\n",
    "        tf.keras.metrics.categorical_accuracy,\n",
    "        tf.keras.metrics.AUC(name='auc'),\n",
    "    ]\n",
    "        \n",
    "    l2_reg = tf.keras.regularizers.l2(1e-4)\n",
    "    \n",
    "    dense_kwargs_IML = dict(\n",
    "        activation=\"selu\",\n",
    "        kernel_initializer=tf.keras.initializers.lecun_normal(),\n",
    "        kernel_regularizer=l2_reg,\n",
    "    )\n",
    "\n",
    "    dense_kwargs = dict(\n",
    "        activation = _hyperparameters['hiddenActivation'],\n",
    "        kernel_initializer=tf.keras.initializers.lecun_normal(),\n",
    "        kernel_regularizer=l2_reg,\n",
    "    )\n",
    "\n",
    "    _model = tf.keras.models.Sequential()\n",
    "\n",
    "    #_model.add(LBNLayer(5, boost_mode=LBN.PAIRS, features=features))\n",
    "    _model.add(lbn_layer)\n",
    "    _model.add(tf.keras.layers.BatchNormalization(axis=1))\n",
    "\n",
    "\n",
    "    _model.add(tf.keras.layers.Dense(_hyperparameters['nodesInFirstHiddenLayer'], **dense_kwargs))\n",
    "    _model.add(tf.keras.layers.Dense(_hyperparameters['nodesInSecondHiddenLayer'], **dense_kwargs))\n",
    "\n",
    "\n",
    "    #_model.add(tf.keras.layers.Dense(750, activation='relu'))#, kernel_regularizer=l2_reg))\n",
    "    #_model.add(tf.keras.layers.Dense(256, activation='relu'))\n",
    "    #_model.add(tf.keras.layers.Dropout(0.2))\n",
    "    \n",
    "    #_model.add(tf.keras.layers.Dense(128, activation='relu'))\n",
    "    #_model.add(tf.keras.layers.Dense(64, activation='relu'))\n",
    "    #_model.add(tf.keras.layers.Dense(32, activation='relu'))\n",
    "\n",
    "    _model.add(tf.keras.layers.Dense(2, activation=_hyperparameters['outputActivation'], kernel_regularizer=l2_reg))\n",
    "        \n",
    "    _model.compile(loss= _hyperparameters['lossFunction'],\n",
    "                    optimizer='adam',\n",
    "                    metrics = metrics\n",
    "                 )\n",
    "    \n",
    "    if _weightsDir !='':\n",
    "        \n",
    "        local_dir = os.path.join(topDir, \"lbn\", \"models\", _weightsDir)\n",
    "        modelfile = os.path.join(local_dir, _weightsDir)+'.hdf5'\n",
    "        print(\"++ loading model from {}\".format(modelfile))\n",
    "        #<-- FIXME: this does not check if file exits\n",
    "    \n",
    "        _model.predict(np.empty([1,32]))\n",
    "        _model.load_weights(modelfile)\n",
    "\n",
    "        \n",
    "    return _model, _hyperparameters"
   ]
  },
  {
   "cell_type": "code",
   "execution_count": 8,
   "metadata": {},
   "outputs": [],
   "source": [
    "def fit_model(name, data=None, validation_data=None, epochs=10, batch_size=512, model_hyperparams={}):\n",
    "   \n",
    "    # *** 0. Create model\n",
    "    _model, _hyperparameters = createModelLBN(model_hyperparams)\n",
    "\n",
    "    # *** 1. Define output directory\n",
    "    model_dir = os.path.join(topDir, \"lbn\", \"models\", name)\n",
    "    if not os.path.exists(model_dir):\n",
    "        os.makedirs(model_dir)\n",
    "\n",
    "    # *** 2. Define callbacks for training\n",
    "    fit_callbacks = [\n",
    "        tf.keras.callbacks.ModelCheckpoint(\n",
    "            filepath=os.path.join(model_dir, name)+'.hdf5',\n",
    "            save_best_only=True,\n",
    "            save_weights_only=True,\n",
    "            monitor=\"val_auc\",\n",
    "            mode=\"max\",\n",
    "            #monitor=\"val_loss\",\n",
    "            #mode=\"min\",\n",
    "        ),\n",
    "        tf.keras.callbacks.EarlyStopping(\n",
    "            monitor=\"val_auc\",\n",
    "            mode=\"max\",\n",
    "            #monitor='val_loss', \n",
    "            #mode='min', \n",
    "            verbose=1, \n",
    "            patience=100, \n",
    "            min_delta=.0025,\n",
    "        ),\n",
    "    ]\n",
    "\n",
    "    # *** 3. Safety checks for data\n",
    "    if data is None:\n",
    "        data = (trainVectorsByEvent, trainLabelsByEvent)\n",
    "    if validation_data is None:\n",
    "        validation_data = (testVectorsByEvent, testLabelsByEvent)\n",
    "\n",
    "        \n",
    "    # *** 4. Fit!!\n",
    "    print('++ Begin model training\\n')\n",
    "    _history = _model.fit(data[0], data[1],\n",
    "        validation_data=validation_data,\n",
    "        epochs=epochs,\n",
    "        batch_size=batch_size,\n",
    "        callbacks=fit_callbacks,\n",
    "    )\n",
    "\n",
    "    \n",
    "    # *** 5. Save hyperparameters\n",
    "    hp_filename=os.path.join(model_dir, name)+'_hyperparameters.json'\n",
    "    with open(hp_filename, 'w') as outfile:\n",
    "        json.dump( _hyperparameters, outfile)\n",
    "    \n",
    "    \n",
    "    return _model, _history\n",
    "\n",
    "\n",
    "def load_model(_modelDirectory):\n",
    "    \"\"\"load previously created model\"\"\"\n",
    "    \n",
    "    # *** 0. Get hyperparameters\n",
    "    local_dir = os.path.join(topDir, \"lbn\", \"models\", _modelDirectory)\n",
    "    hp_file = os.path.join(local_dir, _modelDirectory)+'_hyperparameters.json'\n",
    "    print(\"++ loading hyperparameters from {}\".format(hp_file))\n",
    "    \n",
    "    with open(hp_file, 'r') as infile:\n",
    "        _hyperparameters = json.load(infile)\n",
    "        \n",
    "    # *** 1. Create model\n",
    "    _model, _hyperparameters = createModelLBN(_hyperparameters, _modelDirectory)\n",
    "\n",
    "    return _model"
   ]
  },
  {
   "cell_type": "code",
   "execution_count": 9,
   "metadata": {},
   "outputs": [
    {
     "name": "stdout",
     "output_type": "stream",
     "text": [
      "<class 'dict'> {}\n",
      "++ Setting hyperparameters...\n",
      "nLBNParticles = 5\n",
      "nodesInFirstHiddenLayer = 80\n",
      "nodesInSecondHiddenLayer = 256\n",
      "hiddenActivation = relu\n",
      "outputActivation = sigmoid\n",
      "lossFunction = binary_crossentropy\n",
      "++ Begin model training\n",
      "\n",
      "Train on 136749 samples, validate on 58608 samples\n",
      "Epoch 1/10\n",
      "136749/136749 [==============================] - 10s 75us/sample - loss: 0.6018 - categorical_accuracy: 0.6910 - auc: 0.7662 - val_loss: 0.5546 - val_categorical_accuracy: 0.7297 - val_auc: 0.8111\n",
      "Epoch 2/10\n",
      "136749/136749 [==============================] - 6s 47us/sample - loss: 0.5359 - categorical_accuracy: 0.7434 - auc: 0.8257 - val_loss: 0.5171 - val_categorical_accuracy: 0.7564 - val_auc: 0.8392\n",
      "Epoch 3/10\n",
      "136749/136749 [==============================] - 7s 48us/sample - loss: 0.5074 - categorical_accuracy: 0.7637 - auc: 0.8458 - val_loss: 0.4970 - val_categorical_accuracy: 0.7704 - val_auc: 0.8529\n",
      "Epoch 4/10\n",
      "136749/136749 [==============================] - 7s 48us/sample - loss: 0.4926 - categorical_accuracy: 0.7736 - auc: 0.8558 - val_loss: 0.4859 - val_categorical_accuracy: 0.7754 - val_auc: 0.8593\n",
      "Epoch 5/10\n",
      "136749/136749 [==============================] - 7s 48us/sample - loss: 0.4805 - categorical_accuracy: 0.7811 - auc: 0.8633 - val_loss: 0.4791 - val_categorical_accuracy: 0.7802 - val_auc: 0.8640\n",
      "Epoch 6/10\n",
      "136749/136749 [==============================] - 7s 48us/sample - loss: 0.4724 - categorical_accuracy: 0.7864 - auc: 0.8682 - val_loss: 0.4697 - val_categorical_accuracy: 0.7842 - val_auc: 0.8693\n",
      "Epoch 7/10\n",
      "136749/136749 [==============================] - 7s 48us/sample - loss: 0.4650 - categorical_accuracy: 0.7910 - auc: 0.8727 - val_loss: 0.4643 - val_categorical_accuracy: 0.7888 - val_auc: 0.8730\n",
      "Epoch 8/10\n",
      "136749/136749 [==============================] - 7s 51us/sample - loss: 0.4587 - categorical_accuracy: 0.7944 - auc: 0.8765 - val_loss: 0.4603 - val_categorical_accuracy: 0.7909 - val_auc: 0.8752\n",
      "Epoch 9/10\n",
      "136749/136749 [==============================] - 7s 53us/sample - loss: 0.4528 - categorical_accuracy: 0.7978 - auc: 0.8799 - val_loss: 0.4528 - val_categorical_accuracy: 0.7952 - val_auc: 0.8798\n",
      "Epoch 10/10\n",
      "136749/136749 [==============================] - 7s 54us/sample - loss: 0.4486 - categorical_accuracy: 0.8005 - auc: 0.8824 - val_loss: 0.4494 - val_categorical_accuracy: 0.7996 - val_auc: 0.8816\n",
      "++ loading hyperparameters from /home/btannenw/Desktop/ML/dihiggsMLProject/lorentzBoostNetwork/lbn/models/model_10TrainEpochs/model_10TrainEpochs_hyperparameters.json\n",
      "<class 'dict'> {'nLBNParticles': 5, 'nodesInFirstHiddenLayer': 80, 'nodesInSecondHiddenLayer': 256, 'hiddenActivation': 'relu', 'outputActivation': 'sigmoid', 'lossFunction': 'binary_crossentropy'}\n",
      "++ Setting hyperparameters...\n",
      "nLBNParticles = 5\n",
      "nodesInFirstHiddenLayer = 80\n",
      "nodesInSecondHiddenLayer = 256\n",
      "hiddenActivation = relu\n",
      "outputActivation = sigmoid\n",
      "lossFunction = binary_crossentropy\n",
      "++ loading model from /home/btannenw/Desktop/ML/dihiggsMLProject/lorentzBoostNetwork/lbn/models/model_10TrainEpochs/model_10TrainEpochs.hdf5\n"
     ]
    }
   ],
   "source": [
    "# *** 3A. Do things the proper, functional way\n",
    "\n",
    "modelName = 'model_10TrainEpochs'\n",
    "\n",
    "model, history = fit_model(name=modelName, data=(trainVectorsByEvent, trainLabelsByEvent), \n",
    "                          validation_data=(testVectorsByEvent, testLabelsByEvent), epochs=10, batch_size=400)\n",
    "\n",
    "best_model = load_model( modelName )\n"
   ]
  },
  {
   "cell_type": "code",
   "execution_count": null,
   "metadata": {},
   "outputs": [],
   "source": [
    "# *** 3B. Do things \"by hand\"\n",
    "es = EarlyStopping(monitor='val_loss', mode='min', verbose=1, patience=10, min_delta=.001)\n",
    "mc = ModelCheckpoint('best_model.hdf5', #filepath=os.path.join(model_dir, name),\n",
    "                    monitor=\"val_loss\", mode='min', save_weights_only=True, save_best_only=True)\n",
    " \n",
    "\n",
    "#model = createModelLBN(_outputActivation='softmax') # 1.77+/0.04, 1.84 +/- 0.06\n",
    "model2 = createModelLBN(_outputActivation='sigmoid') # 1.81+/0.06\n",
    "\n",
    "history = model2.fit( trainVectorsByEvent, trainLabelsByEvent, epochs=50, validation_data = (testVectorsByEvent, testLabelsByEvent), batch_size=400, callbacks=[es, mc])\n",
    "#history = model.fit( trainVectorsByEvent, trainLabelsByEvent, epochs=10, validation_data = (testVectorsByEvent, testLabelsByEvent))\n",
    "print(model2.count_params())\n",
    "\n",
    "# load the saved model\n",
    "#model_best = model.load_weights('best_model.h5')"
   ]
  },
  {
   "cell_type": "code",
   "execution_count": null,
   "metadata": {},
   "outputs": [],
   "source": [
    "# *** 3C. Define low-level NN using jet vectors for comparison\n",
    "model_nn = tf.keras.models.Sequential()\n",
    "nInputNodes = len(trainVectorsByEvent[0]) \n",
    "#model.add(Dense(100, input_dim=nInputNodes, activation='relu'))\n",
    "\n",
    "model_nn.add(tf.keras.layers.Dense(128, input_dim = nInputNodes, activation='relu'))\n",
    "#model.add(tf.keras.layers.Dropout(0.2))\n",
    "#model.add(BatchNormalization())\n",
    "\n",
    "model_nn.add(tf.keras.layers.Dense(64, activation='relu'))\n",
    "model_nn.add(tf.keras.layers.Dense(32, activation='relu'))\n",
    "model_nn.add(tf.keras.layers.Dense(2, activation='sigmoid'))\n",
    "\n",
    "model_nn.compile(loss='binary_crossentropy',\n",
    "              optimizer='adam',\n",
    "              metrics=['accuracy'])\n",
    "\n",
    "history_nn = model_nn.fit( trainVectorsByEvent, trainLabelsByEvent, epochs=50, validation_data = (testVectorsByEvent, testLabelsByEvent), batch_size=400)\n",
    "#history = model.fit( trainVectorsByEvent, trainLabelsByEvent, epochs=10, validation_data = (testVectorsByEvent, testLabelsByEvent))\n",
    "print(model_nn.count_params())"
   ]
  },
  {
   "cell_type": "code",
   "execution_count": 10,
   "metadata": {},
   "outputs": [
    {
     "name": "stdout",
     "output_type": "stream",
     "text": [
      "++ loading hyperparameters from /home/btannenw/Desktop/ML/dihiggsMLProject/lorentzBoostNetwork/lbn/models/model_10TrainEpochs/model_10TrainEpochs_hyperparameters.json\n",
      "<class 'dict'> {'nLBNParticles': 5, 'nodesInFirstHiddenLayer': 80, 'nodesInSecondHiddenLayer': 256, 'hiddenActivation': 'relu', 'outputActivation': 'sigmoid', 'lossFunction': 'binary_crossentropy'}\n",
      "++ Setting hyperparameters...\n",
      "nLBNParticles = 5\n",
      "nodesInFirstHiddenLayer = 80\n",
      "nodesInSecondHiddenLayer = 256\n",
      "hiddenActivation = relu\n",
      "outputActivation = sigmoid\n",
      "lossFunction = binary_crossentropy\n",
      "++ loading model from /home/btannenw/Desktop/ML/dihiggsMLProject/lorentzBoostNetwork/lbn/models/model_10TrainEpochs/model_10TrainEpochs.hdf5\n",
      "(58608, 2)\n"
     ]
    }
   ],
   "source": [
    "best_model = load_model('model_10TrainEpochs')\n",
    "\n",
    "# *** 4. Do some very specific evaluation based on pure samples\n",
    "hh_data_test, hh_labels_test, qcd_data_test, qcd_labels_test = returnTestSamplesSplitIntoSignalAndBackground(testVectorsByEvent, testLabelsByEvent)\n",
    "\n",
    "pred_hh = best_model.predict(np.array(hh_data_test))\n",
    "pred_qcd = best_model.predict(np.array(qcd_data_test))"
   ]
  },
  {
   "cell_type": "code",
   "execution_count": 11,
   "metadata": {},
   "outputs": [
    {
     "data": {
      "image/png": "[encoded data removed]",
      "text/plain": [
       "<Figure size 432x288 with 1 Axes>"
      ]
     },
     "metadata": {
      "needs_background": "light"
     },
     "output_type": "display_data"
    }
   ],
   "source": [
    "_nBins = 40\n",
    "predictionResults = {'hh_pred':pred_hh[:,0], 'qcd_pred':pred_qcd[:,0]}\n",
    "compareManyHistograms( predictionResults, ['hh_pred', 'qcd_pred'], 2, 'Signal Prediction', 'LBN Signal Score', 0, 1, _nBins, _yMax = 5, _normed=True, _savePlot=False )\n"
   ]
  },
  {
   "cell_type": "code",
   "execution_count": 12,
   "metadata": {},
   "outputs": [
    {
     "name": "stdout",
     "output_type": "stream",
     "text": [
      "23724 34884\n",
      "nSig = 986.8223999999999 , nBkg = 419772.7 with significance = 1.5231122240688224 +/- 0.060279280127186516 for ff-NN score > 0.9088630351153287\n"
     ]
    },
    {
     "data": {
      "text/plain": [
       "(1.5231122240688224, 0.9088630351153287)"
      ]
     },
     "execution_count": 12,
     "metadata": {},
     "output_type": "execute_result"
    }
   ],
   "source": [
    "# *** 4. Get best cut value for ff-NN assuming some minimal amount of signal\n",
    "returnBestCutValue('ff-NN', pred_hh[:,0].copy(), pred_qcd[:,0].copy(), _minBackground=200, _testingFraction=testingFraction)"
   ]
  },
  {
   "cell_type": "code",
   "execution_count": null,
   "metadata": {},
   "outputs": [],
   "source": [
    "# *** 5. Get signifiance for any user-specified NN score cut value\n",
    "lumiscale_hh  = getLumiScaleFactor(testingFraction, True)\n",
    "lumiscale_qcd = getLumiScaleFactor(testingFraction, False)\n",
    "cut = 0.81\n",
    "_nSignal = sum( value > cut for value in pred_hh)*lumiscale_hh\n",
    "_nBackground = sum( value > cut for value in pred_qcd)*lumiscale_qcd\n",
    "\n",
    "print('nSig = {0} , nBkg = {1} with significance = {2} for NN score > {3}'.format(_nSignal, _nBackground, _nSignal/np.sqrt(_nBackground), cut) )"
   ]
  },
  {
   "cell_type": "code",
   "execution_count": 13,
   "metadata": {},
   "outputs": [
    {
     "data": {
      "image/png": "[encoded data removed]",
      "text/plain": [
       "<Figure size 432x288 with 1 Axes>"
      ]
     },
     "metadata": {
      "needs_background": "light"
     },
     "output_type": "display_data"
    },
    {
     "data": {
      "image/png": "[encoded data removed]",
      "text/plain": [
       "<Figure size 432x288 with 1 Axes>"
      ]
     },
     "metadata": {
      "needs_background": "light"
     },
     "output_type": "display_data"
    },
    {
     "data": {
      "image/png": "[encoded data removed]",
      "text/plain": [
       "<Figure size 432x288 with 1 Axes>"
      ]
     },
     "metadata": {
      "needs_background": "light"
     },
     "output_type": "display_data"
    }
   ],
   "source": [
    "# *** 6. Make some training diagnostic plots\n",
    "makeHistoryPlots( history, ['categorical_accuracy', 'loss', 'auc'], 'LBN')"
   ]
  },
  {
   "cell_type": "code",
   "execution_count": 14,
   "metadata": {},
   "outputs": [
    {
     "name": "stdout",
     "output_type": "stream",
     "text": [
      "Model: \"sequential\"\n",
      "_________________________________________________________________\n",
      "Layer (type)                 Output Shape              Param #   \n",
      "=================================================================\n",
      "lbn_layer (LBNLayer)         multiple                  80        \n",
      "_________________________________________________________________\n",
      "batch_normalization (BatchNo multiple                  140       \n",
      "_________________________________________________________________\n",
      "dense (Dense)                multiple                  2880      \n",
      "_________________________________________________________________\n",
      "dense_1 (Dense)              multiple                  20736     \n",
      "_________________________________________________________________\n",
      "dense_2 (Dense)              multiple                  514       \n",
      "=================================================================\n",
      "Total params: 24,350\n",
      "Trainable params: 24,280\n",
      "Non-trainable params: 70\n",
      "_________________________________________________________________\n"
     ]
    }
   ],
   "source": [
    "model.summary()"
   ]
  },
  {
   "cell_type": "code",
   "execution_count": 15,
   "metadata": {},
   "outputs": [
    {
     "data": {
      "image/png": "[encoded data removed]",
      "text/plain": [
       "<Figure size 432x288 with 1 Axes>"
      ]
     },
     "metadata": {
      "needs_background": "light"
     },
     "output_type": "display_data"
    }
   ],
   "source": [
    "# plot the ROC cuves, i.e., background rejection (1 - eff_bkg) vs signal efficiency\n",
    "testPredsByEvent = best_model.predict(testVectorsByEvent.copy())\n",
    "makeEfficiencyCurves( dict(label=\"LBN+DNN\", labels=testLabelsByEvent, prediction=testPredsByEvent, color=\"blue\"))"
   ]
  },
  {
   "cell_type": "code",
   "execution_count": null,
   "metadata": {},
   "outputs": [],
   "source": []
  },
  {
   "cell_type": "code",
   "execution_count": null,
   "metadata": {},
   "outputs": [],
   "source": []
  },
  {
   "cell_type": "code",
   "execution_count": null,
   "metadata": {},
   "outputs": [],
   "source": []
  }
 ],
 "metadata": {
  "kernelspec": {
   "display_name": "Python 3",
   "language": "python",
   "name": "python3"
  },
  "language_info": {
   "codemirror_mode": {
    "name": "ipython",
    "version": 3
   },
   "file_extension": ".py",
   "mimetype": "text/x-python",
   "name": "python",
   "nbconvert_exporter": "python",
   "pygments_lexer": "ipython3",
   "version": "3.7.4"
  }
 },
 "nbformat": 4,
 "nbformat_minor": 2
}
