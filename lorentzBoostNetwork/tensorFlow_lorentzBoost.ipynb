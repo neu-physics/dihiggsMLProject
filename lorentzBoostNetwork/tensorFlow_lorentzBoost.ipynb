{
 "cells": [
  {
   "cell_type": "code",
   "execution_count": null,
   "metadata": {},
   "outputs": [],
   "source": [
    "### To-Do\n",
    "# 1) make fit_function general enough for pswarms optimization -> dropout rate, layers, nodes, etc\n",
    "# 2) write function that runs fit_function ~5 times and keeps ensemble + best\n",
    "# 3) implement pyswarms optimization\n",
    "# 4) e_sig vs (1-e_bkg) plot\n",
    "# -) ... \n",
    "# N) k-fold validation"
   ]
  },
  {
   "cell_type": "code",
   "execution_count": 1,
   "metadata": {},
   "outputs": [
    {
     "name": "stderr",
     "output_type": "stream",
     "text": [
      "Using TensorFlow backend.\n"
     ]
    }
   ],
   "source": [
    "# Import the needed libraries\n",
    "import numpy as np\n",
    "import pandas as pd\n",
    "import matplotlib.pyplot as plt\n",
    "import tensorflow as tf\n",
    "from keras.models import Sequential\n",
    "from keras.layers import Dense, Activation, Dropout, BatchNormalization\n",
    "from keras.utils import normalize, to_categorical\n",
    "from sklearn.metrics import confusion_matrix, roc_curve, auc\n",
    "from sklearn.model_selection import StratifiedKFold\n",
    "from keras.callbacks import EarlyStopping, ModelCheckpoint\n",
    "from keras.regularizers import l1, l2\n",
    "from keras.models import load_model\n",
    "from keras.backend import manual_variable_initialization \n",
    "manual_variable_initialization(True)\n",
    "\n",
    "from lbn import LBN, LBNLayer\n",
    "\n",
    "# Fix random seed for reproducibility\n",
    "seed = 7\n",
    "np.random.seed(seed)\n",
    "tf.random.set_seed(seed)"
   ]
  },
  {
   "cell_type": "code",
   "execution_count": 2,
   "metadata": {},
   "outputs": [],
   "source": [
    "import sys, os\n",
    "sys.path.insert(0, '/home/btannenw/Desktop/ML/dihiggsMLProject/')\n",
    "from utils.commonFunctions import *\n",
    "\n",
    "topDir = '/home/btannenw/Desktop/ML/dihiggsMLProject/lorentzBoostNetwork/'"
   ]
  },
  {
   "cell_type": "code",
   "execution_count": 3,
   "metadata": {},
   "outputs": [
    {
     "name": "stdout",
     "output_type": "stream",
     "text": [
      "Dihiggs file:  /home/btannenw/Desktop/ML/dihiggsMLProject/data/pp2hh4b_500kEvents_0PU_v2-05__top4inPt-4tags-10jets_combined_csv.csv\n",
      "QCD file:  /home/btannenw/Desktop/ML/dihiggsMLProject/data/ppTo4b_2MEvents_0PU_v2-05__top4inPt-4tags-10jets_combined_csv.csv\n"
     ]
    }
   ],
   "source": [
    "#*** 1. Import data and check stuff\n",
    "testingFraction = 0.3\n",
    "\n",
    "# *** A. Import Dataset\n",
    "hh_raw, qcd_raw = importDatasets()"
   ]
  },
  {
   "cell_type": "code",
   "execution_count": 4,
   "metadata": {},
   "outputs": [
    {
     "data": {
      "text/plain": [
       "(array([3.3195e+04, 4.0870e+04, 2.5949e+04, 1.1225e+04, 3.8130e+03,\n",
       "        1.1030e+03, 2.6100e+02, 5.6000e+01, 5.0000e+00, 4.0000e+00]),\n",
       " array([ 4. ,  4.9,  5.8,  6.7,  7.6,  8.5,  9.4, 10.3, 11.2, 12.1, 13. ]),\n",
       " <a list of 10 Patch objects>)"
      ]
     },
     "execution_count": 4,
     "metadata": {},
     "output_type": "execute_result"
    },
    {
     "data": {
      "image/png": "[encoded data removed]",
      "text/plain": [
       "<Figure size 432x288 with 1 Axes>"
      ]
     },
     "metadata": {
      "needs_background": "light"
     },
     "output_type": "display_data"
    }
   ],
   "source": [
    "plt.hist(qcd_raw.nJets, bins=10)"
   ]
  },
  {
   "cell_type": "code",
   "execution_count": 5,
   "metadata": {},
   "outputs": [
    {
     "name": "stdout",
     "output_type": "stream",
     "text": [
      "N_sig = 78876 , N_bkg = 116481\n",
      "195357 rows of total data with  195357 labels [Train+Test]\n",
      "136749 rows of training data with  136749 labels [Train]\n",
      "58608 rows of testing data with  58608 labels [Test]\n"
     ]
    }
   ],
   "source": [
    "# *** 2. Make mix of dihiggs and QCD for specified variables\n",
    "jetLabels = ['1','2','3','4','5','6','7','8']\n",
    "jetVariables = ['energy', 'px', 'py', 'pz']\n",
    "variables_jetVects = ['jet{0}_{1}'.format(iJetLabel, iJetVariable) for iJetLabel in jetLabels for iJetVariable in jetVariables]\n",
    "\n",
    "# *** 2. Split testing and training\n",
    "jetVects_data_train, jetVects_data_test, jetVects_labels_train, jetVects_labels_test = makeTestTrainSamplesWithUserVariables(hh_raw, qcd_raw, variables_jetVects, testingFraction)"
   ]
  },
  {
   "cell_type": "code",
   "execution_count": 6,
   "metadata": {},
   "outputs": [
    {
     "name": "stdout",
     "output_type": "stream",
     "text": [
      "(136749, 32)\n"
     ]
    }
   ],
   "source": [
    "# *** 2. Create jet vector inputs\n",
    "def returnJetVectorInputsToLBN(_df, _jetType='jet', _nJets=4):\n",
    "    \n",
    "    #flattened\n",
    "    _allVectorsFlattened = None\n",
    "    _var = [_jetType+'{}_energy', _jetType+'{}_px', _jetType+'{}_py', _jetType+'{}_pz']\n",
    "    \n",
    "    for i in range(1, _nJets + 1):\n",
    "        _varN = [x.format(i) for x in _var]\n",
    "        _jetNData = _df[ _varN ].astype(np.float32)\n",
    "        _vectN = [list(x) for x in _jetNData.values]\n",
    "        \n",
    "        if _allVectorsFlattened == None:\n",
    "            _allVectorsFlattened = _vectN\n",
    "        else:\n",
    "            _allVectorsFlattened = [ x + y for x,y in zip(_allVectorsFlattened, _vectN) ]\n",
    "\n",
    "    return np.array(_allVectorsFlattened)\n",
    "    \n",
    "\n",
    "nJets = 8\n",
    "jetType = 'jet'\n",
    "trainVectorsByEvent = returnJetVectorInputsToLBN( jetVects_data_train, jetType, nJets)\n",
    "testVectorsByEvent  = returnJetVectorInputsToLBN( jetVects_data_test, jetType, nJets)\n",
    "\n",
    "trainLabelsByEvent = np.array([[0.,1.] if x ==0 else [1.,0.] for x in jetVects_labels_train.isSignal]).astype(np.float32)\n",
    "testLabelsByEvent  = np.array([[0.,1.] if x ==0 else [1.,0.] for x in jetVects_labels_test.isSignal]).astype(np.float32)\n",
    "\n",
    "print(np.shape(trainVectorsByEvent))"
   ]
  },
  {
   "cell_type": "code",
   "execution_count": 7,
   "metadata": {},
   "outputs": [],
   "source": [
    "# *** 3A. Define LBN model and train\n",
    "def createModelLBN(_nodesInFirstHiddenLayer=80, _nodesInSecondHiddenLayer=256, _hiddenActivation='relu', _outputActivation='sigmoid', _weightsDir=''):\n",
    "    \"\"\"make lbn model\"\"\"\n",
    "    #init = tf.keras.initializers.RandomNormal(mean=0., stddev=0.1, seed=123)\n",
    " \n",
    "    features = [\"E\", \"pt\", \"eta\", \"phi\", \"m\", \"pair_dr\"]\n",
    "    lbn_layer = LBNLayer(n_particles=5, boost_mode=\"pairs\", features=features)\n",
    "    \n",
    "    \n",
    "    metrics = [\n",
    "        tf.keras.metrics.categorical_accuracy,\n",
    "        tf.keras.metrics.AUC(name='auc'),\n",
    "    ]\n",
    "    \n",
    "    #l2_reg = l2(1e-4)\n",
    "    \n",
    "    l2_reg = tf.keras.regularizers.l2(1e-4)\n",
    "    \n",
    "    dense_kwargs_IML = dict(\n",
    "        activation=\"selu\",\n",
    "        kernel_initializer=tf.keras.initializers.lecun_normal(),\n",
    "        kernel_regularizer=l2_reg,\n",
    "    )\n",
    "\n",
    "    dense_kwargs = dict(\n",
    "        activation=_hiddenActivation,\n",
    "        kernel_initializer=tf.keras.initializers.lecun_normal(),\n",
    "        kernel_regularizer=l2_reg,\n",
    "    )\n",
    "\n",
    "    _model = tf.keras.models.Sequential()\n",
    "\n",
    "    #_model.add(LBNLayer(5, boost_mode=LBN.PAIRS, features=features))\n",
    "    _model.add(lbn_layer)\n",
    "    _model.add(tf.keras.layers.BatchNormalization(axis=1))\n",
    "\n",
    "\n",
    "    _model.add(tf.keras.layers.Dense(80, **dense_kwargs))#, kernel_regularizer=l2_reg))\n",
    "    _model.add(tf.keras.layers.Dense(256, **dense_kwargs))#, kernel_regularizer=l2_reg))\n",
    "\n",
    "\n",
    "    #_model.add(tf.keras.layers.Dense(1024, activation='relu', kernel_regularizer=init))\n",
    "    #_model.add(tf.keras.layers.Dense(750, activation='relu'))#, kernel_regularizer=l2_reg))\n",
    "    #_model.add(tf.keras.layers.Dense(256, activation='relu'))\n",
    "    #_model.add(tf.keras.layers.Dropout(0.2))\n",
    "    #_model.add(BatchNormalization())\n",
    "\n",
    "    #_model.add(tf.keras.layers.Dense(128, activation='relu'))\n",
    "    #_model.add(tf.keras.layers.Dense(64, activation='relu'))\n",
    "    #_model.add(tf.keras.layers.Dense(32, activation='relu'))\n",
    "\n",
    "    _model.add(tf.keras.layers.Dense(2, activation=_outputActivation, kernel_regularizer=l2_reg))\n",
    "        \n",
    "    _model.compile(loss='binary_crossentropy',\n",
    "                  #loss='mean_squared_error',\n",
    "                  optimizer='adam',\n",
    "                  metrics = metrics\n",
    "                 )\n",
    "    \n",
    "    if _weightsDir !='':\n",
    "        \n",
    "        local_dir = os.path.join(topDir, \"lbn\", \"models\", _weightsDir)\n",
    "        modelfile = os.path.join(local_dir, _weightsDir)+'.hdf5'\n",
    "        print(\"++ loading model from {}\".format(modelfile))\n",
    "        #<-- FIXME: this does not check if file exits\n",
    "    \n",
    "        _model.predict(np.empty([1,32]))\n",
    "        _model.load_weights(modelfile)\n",
    "\n",
    "        \n",
    "    return _model"
   ]
  },
  {
   "cell_type": "code",
   "execution_count": 9,
   "metadata": {},
   "outputs": [],
   "source": [
    "def fit_model(_model, name, data=None, validation_data=None, epochs=10, batch_size=512):\n",
    "   \n",
    "    model_dir = os.path.join(topDir, \"lbn\", \"models\", name)\n",
    "    if not os.path.exists(model_dir):\n",
    "        os.makedirs(model_dir)\n",
    "\n",
    "    fit_callbacks = [\n",
    "        tf.keras.callbacks.ModelCheckpoint(\n",
    "            filepath=os.path.join(model_dir, name)+'.hdf5',\n",
    "            save_best_only=True,\n",
    "            save_weights_only=True,\n",
    "            monitor=\"val_auc\",\n",
    "            mode=\"max\",\n",
    "            #monitor=\"val_loss\",\n",
    "            #mode=\"min\",\n",
    "        ),\n",
    "        tf.keras.callbacks.EarlyStopping(\n",
    "            monitor=\"val_auc\",\n",
    "            mode=\"max\",\n",
    "            #monitor='val_loss', \n",
    "            #mode='min', \n",
    "            verbose=1, \n",
    "            patience=100, \n",
    "            min_delta=.0025,\n",
    "        ),\n",
    "    ]\n",
    "\n",
    "    \n",
    "    if data is None:\n",
    "        data = (trainVectorsByEvent, trainLabelsByEvent)\n",
    "    if validation_data is None:\n",
    "        validation_data = (testVectorsByEvent, testLabelsByEvent)\n",
    "\n",
    "    _history = _model.fit(data[0], data[1],\n",
    "        validation_data=validation_data,\n",
    "        epochs=epochs,\n",
    "        batch_size=batch_size,\n",
    "        callbacks=fit_callbacks,\n",
    "    )\n",
    "\n",
    "    return _model, _history\n",
    "\n"
   ]
  },
  {
   "cell_type": "code",
   "execution_count": 10,
   "metadata": {},
   "outputs": [
    {
     "name": "stdout",
     "output_type": "stream",
     "text": [
      "Train on 136749 samples, validate on 58608 samples\n",
      "Epoch 1/1000\n",
      "136749/136749 [==============================] - 11s 83us/sample - loss: 0.6018 - categorical_accuracy: 0.6910 - auc: 0.7662 - val_loss: 0.5546 - val_categorical_accuracy: 0.7297 - val_auc: 0.8111\n",
      "Epoch 2/1000\n",
      "136749/136749 [==============================] - 8s 55us/sample - loss: 0.5359 - categorical_accuracy: 0.7434 - auc: 0.8257 - val_loss: 0.5171 - val_categorical_accuracy: 0.7564 - val_auc: 0.8392\n",
      "Epoch 3/1000\n",
      "136749/136749 [==============================] - 7s 50us/sample - loss: 0.5074 - categorical_accuracy: 0.7637 - auc: 0.8458 - val_loss: 0.4970 - val_categorical_accuracy: 0.7704 - val_auc: 0.8529\n",
      "Epoch 4/1000\n",
      "136749/136749 [==============================] - 9s 64us/sample - loss: 0.4926 - categorical_accuracy: 0.7736 - auc: 0.8558 - val_loss: 0.4859 - val_categorical_accuracy: 0.7754 - val_auc: 0.8593\n",
      "Epoch 5/1000\n",
      "136749/136749 [==============================] - 8s 57us/sample - loss: 0.4805 - categorical_accuracy: 0.7811 - auc: 0.8633 - val_loss: 0.4791 - val_categorical_accuracy: 0.7802 - val_auc: 0.8640\n",
      "Epoch 6/1000\n",
      "136749/136749 [==============================] - 7s 50us/sample - loss: 0.4724 - categorical_accuracy: 0.7864 - auc: 0.8682 - val_loss: 0.4697 - val_categorical_accuracy: 0.7842 - val_auc: 0.8693\n",
      "Epoch 7/1000\n",
      "136749/136749 [==============================] - 7s 48us/sample - loss: 0.4650 - categorical_accuracy: 0.7910 - auc: 0.8727 - val_loss: 0.4643 - val_categorical_accuracy: 0.7888 - val_auc: 0.8730\n",
      "Epoch 8/1000\n",
      "136749/136749 [==============================] - 7s 48us/sample - loss: 0.4587 - categorical_accuracy: 0.7944 - auc: 0.8765 - val_loss: 0.4603 - val_categorical_accuracy: 0.7909 - val_auc: 0.8752\n",
      "Epoch 9/1000\n",
      "136749/136749 [==============================] - 7s 48us/sample - loss: 0.4528 - categorical_accuracy: 0.7978 - auc: 0.8799 - val_loss: 0.4528 - val_categorical_accuracy: 0.7952 - val_auc: 0.8798\n",
      "Epoch 10/1000\n",
      "136749/136749 [==============================] - 7s 50us/sample - loss: 0.4486 - categorical_accuracy: 0.8005 - auc: 0.8824 - val_loss: 0.4494 - val_categorical_accuracy: 0.7996 - val_auc: 0.8816\n",
      "Epoch 11/1000\n",
      "136749/136749 [==============================] - 7s 50us/sample - loss: 0.4437 - categorical_accuracy: 0.8040 - auc: 0.8853 - val_loss: 0.4480 - val_categorical_accuracy: 0.7994 - val_auc: 0.8825\n",
      "Epoch 12/1000\n",
      "136749/136749 [==============================] - 7s 51us/sample - loss: 0.4405 - categorical_accuracy: 0.8051 - auc: 0.8869 - val_loss: 0.4484 - val_categorical_accuracy: 0.8016 - val_auc: 0.8827\n",
      "Epoch 13/1000\n",
      "136749/136749 [==============================] - 7s 52us/sample - loss: 0.4377 - categorical_accuracy: 0.8073 - auc: 0.8885 - val_loss: 0.4443 - val_categorical_accuracy: 0.8022 - val_auc: 0.8847\n",
      "Epoch 14/1000\n",
      "136749/136749 [==============================] - 7s 52us/sample - loss: 0.4354 - categorical_accuracy: 0.8073 - auc: 0.8898 - val_loss: 0.4388 - val_categorical_accuracy: 0.8045 - val_auc: 0.8878\n",
      "Epoch 15/1000\n",
      "136749/136749 [==============================] - 7s 52us/sample - loss: 0.4341 - categorical_accuracy: 0.8088 - auc: 0.8905 - val_loss: 0.4368 - val_categorical_accuracy: 0.8055 - val_auc: 0.8889\n",
      "Epoch 16/1000\n",
      "136749/136749 [==============================] - 7s 49us/sample - loss: 0.4312 - categorical_accuracy: 0.8098 - auc: 0.8921 - val_loss: 0.4339 - val_categorical_accuracy: 0.8081 - val_auc: 0.8906\n",
      "Epoch 17/1000\n",
      "136749/136749 [==============================] - 7s 52us/sample - loss: 0.4279 - categorical_accuracy: 0.8121 - auc: 0.8939 - val_loss: 0.4319 - val_categorical_accuracy: 0.8085 - val_auc: 0.8916\n",
      "Epoch 18/1000\n",
      "136749/136749 [==============================] - 7s 51us/sample - loss: 0.4278 - categorical_accuracy: 0.8124 - auc: 0.8940 - val_loss: 0.4303 - val_categorical_accuracy: 0.8105 - val_auc: 0.8925\n",
      "Epoch 19/1000\n",
      "136749/136749 [==============================] - 7s 49us/sample - loss: 0.4245 - categorical_accuracy: 0.8144 - auc: 0.8958 - val_loss: 0.4317 - val_categorical_accuracy: 0.8097 - val_auc: 0.8918\n",
      "Epoch 20/1000\n",
      "136749/136749 [==============================] - 7s 49us/sample - loss: 0.4247 - categorical_accuracy: 0.8137 - auc: 0.8957 - val_loss: 0.4302 - val_categorical_accuracy: 0.8110 - val_auc: 0.8929\n",
      "Epoch 21/1000\n",
      "136749/136749 [==============================] - 7s 49us/sample - loss: 0.4226 - categorical_accuracy: 0.8151 - auc: 0.8968 - val_loss: 0.4307 - val_categorical_accuracy: 0.8110 - val_auc: 0.8924\n",
      "Epoch 22/1000\n",
      "136749/136749 [==============================] - 7s 50us/sample - loss: 0.4213 - categorical_accuracy: 0.8162 - auc: 0.8976 - val_loss: 0.4307 - val_categorical_accuracy: 0.8098 - val_auc: 0.8924\n",
      "Epoch 23/1000\n",
      "136749/136749 [==============================] - 7s 50us/sample - loss: 0.4206 - categorical_accuracy: 0.8166 - auc: 0.8979 - val_loss: 0.4278 - val_categorical_accuracy: 0.8117 - val_auc: 0.8941\n",
      "Epoch 24/1000\n",
      "136749/136749 [==============================] - 7s 49us/sample - loss: 0.4202 - categorical_accuracy: 0.8174 - auc: 0.8981 - val_loss: 0.4263 - val_categorical_accuracy: 0.8133 - val_auc: 0.8950\n",
      "Epoch 25/1000\n",
      "136749/136749 [==============================] - 7s 51us/sample - loss: 0.4190 - categorical_accuracy: 0.8181 - auc: 0.8988 - val_loss: 0.4308 - val_categorical_accuracy: 0.8126 - val_auc: 0.8929\n",
      "Epoch 26/1000\n",
      "136749/136749 [==============================] - 7s 49us/sample - loss: 0.4172 - categorical_accuracy: 0.8186 - auc: 0.8997 - val_loss: 0.4240 - val_categorical_accuracy: 0.8155 - val_auc: 0.8965\n",
      "Epoch 27/1000\n",
      "136749/136749 [==============================] - 7s 50us/sample - loss: 0.4163 - categorical_accuracy: 0.8184 - auc: 0.9002 - val_loss: 0.4253 - val_categorical_accuracy: 0.8130 - val_auc: 0.8956\n",
      "Epoch 28/1000\n",
      "136749/136749 [==============================] - 7s 53us/sample - loss: 0.4159 - categorical_accuracy: 0.8193 - auc: 0.9005 - val_loss: 0.4270 - val_categorical_accuracy: 0.8137 - val_auc: 0.8947\n",
      "Epoch 29/1000\n",
      "136749/136749 [==============================] - 7s 54us/sample - loss: 0.4150 - categorical_accuracy: 0.8196 - auc: 0.9010 - val_loss: 0.4287 - val_categorical_accuracy: 0.8142 - val_auc: 0.8942\n",
      "Epoch 30/1000\n",
      "136749/136749 [==============================] - 8s 57us/sample - loss: 0.4145 - categorical_accuracy: 0.8207 - auc: 0.9013 - val_loss: 0.4232 - val_categorical_accuracy: 0.8160 - val_auc: 0.8970\n",
      "Epoch 31/1000\n",
      "136749/136749 [==============================] - 8s 59us/sample - loss: 0.4139 - categorical_accuracy: 0.8194 - auc: 0.9016 - val_loss: 0.4243 - val_categorical_accuracy: 0.8151 - val_auc: 0.8962\n",
      "Epoch 32/1000\n",
      "136749/136749 [==============================] - 9s 64us/sample - loss: 0.4136 - categorical_accuracy: 0.8205 - auc: 0.9019 - val_loss: 0.4273 - val_categorical_accuracy: 0.8122 - val_auc: 0.8944\n",
      "Epoch 33/1000\n",
      "136749/136749 [==============================] - 8s 61us/sample - loss: 0.4118 - categorical_accuracy: 0.8212 - auc: 0.9028 - val_loss: 0.4221 - val_categorical_accuracy: 0.8159 - val_auc: 0.8974\n",
      "Epoch 34/1000\n",
      "136749/136749 [==============================] - 9s 66us/sample - loss: 0.4110 - categorical_accuracy: 0.8220 - auc: 0.9033 - val_loss: 0.4209 - val_categorical_accuracy: 0.8166 - val_auc: 0.8982\n",
      "Epoch 35/1000\n",
      "136749/136749 [==============================] - 11s 84us/sample - loss: 0.4118 - categorical_accuracy: 0.8210 - auc: 0.9028 - val_loss: 0.4211 - val_categorical_accuracy: 0.8170 - val_auc: 0.8981\n",
      "Epoch 36/1000\n",
      "136749/136749 [==============================] - 9s 65us/sample - loss: 0.4118 - categorical_accuracy: 0.8214 - auc: 0.9030 - val_loss: 0.4237 - val_categorical_accuracy: 0.8162 - val_auc: 0.8967\n",
      "Epoch 37/1000\n",
      "136749/136749 [==============================] - 9s 63us/sample - loss: 0.4106 - categorical_accuracy: 0.8218 - auc: 0.9036 - val_loss: 0.4223 - val_categorical_accuracy: 0.8163 - val_auc: 0.8976\n",
      "Epoch 38/1000\n",
      "136749/136749 [==============================] - 9s 64us/sample - loss: 0.4098 - categorical_accuracy: 0.8226 - auc: 0.9040 - val_loss: 0.4228 - val_categorical_accuracy: 0.8160 - val_auc: 0.8974\n",
      "Epoch 39/1000\n",
      "136749/136749 [==============================] - 9s 65us/sample - loss: 0.4098 - categorical_accuracy: 0.8225 - auc: 0.9040 - val_loss: 0.4235 - val_categorical_accuracy: 0.8154 - val_auc: 0.8970\n"
     ]
    },
    {
     "name": "stdout",
     "output_type": "stream",
     "text": [
      "Epoch 40/1000\n",
      "136749/136749 [==============================] - 9s 67us/sample - loss: 0.4079 - categorical_accuracy: 0.8234 - auc: 0.9050 - val_loss: 0.4245 - val_categorical_accuracy: 0.8146 - val_auc: 0.8963\n",
      "Epoch 41/1000\n",
      "136749/136749 [==============================] - 9s 66us/sample - loss: 0.4084 - categorical_accuracy: 0.8229 - auc: 0.9048 - val_loss: 0.4254 - val_categorical_accuracy: 0.8139 - val_auc: 0.8957\n",
      "Epoch 42/1000\n",
      "136749/136749 [==============================] - 9s 66us/sample - loss: 0.4081 - categorical_accuracy: 0.8236 - auc: 0.9050 - val_loss: 0.4193 - val_categorical_accuracy: 0.8187 - val_auc: 0.8992\n",
      "Epoch 43/1000\n",
      "136749/136749 [==============================] - 9s 66us/sample - loss: 0.4064 - categorical_accuracy: 0.8246 - auc: 0.9060 - val_loss: 0.4211 - val_categorical_accuracy: 0.8179 - val_auc: 0.8983\n",
      "Epoch 44/1000\n",
      "136749/136749 [==============================] - 9s 64us/sample - loss: 0.4070 - categorical_accuracy: 0.8245 - auc: 0.9057 - val_loss: 0.4200 - val_categorical_accuracy: 0.8181 - val_auc: 0.8991\n",
      "Epoch 45/1000\n",
      "136749/136749 [==============================] - 9s 66us/sample - loss: 0.4065 - categorical_accuracy: 0.8247 - auc: 0.9059 - val_loss: 0.4185 - val_categorical_accuracy: 0.8193 - val_auc: 0.8998\n",
      "Epoch 46/1000\n",
      "136749/136749 [==============================] - 10s 76us/sample - loss: 0.4051 - categorical_accuracy: 0.8254 - auc: 0.9067 - val_loss: 0.4210 - val_categorical_accuracy: 0.8174 - val_auc: 0.8987\n",
      "Epoch 47/1000\n",
      "136749/136749 [==============================] - 9s 69us/sample - loss: 0.4058 - categorical_accuracy: 0.8248 - auc: 0.9064 - val_loss: 0.4242 - val_categorical_accuracy: 0.8153 - val_auc: 0.8971\n",
      "Epoch 48/1000\n",
      "136749/136749 [==============================] - 10s 76us/sample - loss: 0.4046 - categorical_accuracy: 0.8248 - auc: 0.9069 - val_loss: 0.4240 - val_categorical_accuracy: 0.8179 - val_auc: 0.8975\n",
      "Epoch 49/1000\n",
      "136749/136749 [==============================] - 13s 93us/sample - loss: 0.4041 - categorical_accuracy: 0.8260 - auc: 0.9072 - val_loss: 0.4181 - val_categorical_accuracy: 0.8198 - val_auc: 0.9001\n",
      "Epoch 50/1000\n",
      "136749/136749 [==============================] - 9s 67us/sample - loss: 0.4044 - categorical_accuracy: 0.8263 - auc: 0.9071 - val_loss: 0.4223 - val_categorical_accuracy: 0.8185 - val_auc: 0.8983\n",
      "Epoch 51/1000\n",
      "136749/136749 [==============================] - 10s 72us/sample - loss: 0.4037 - categorical_accuracy: 0.8260 - auc: 0.9075 - val_loss: 0.4194 - val_categorical_accuracy: 0.8193 - val_auc: 0.8995\n",
      "Epoch 52/1000\n",
      "136749/136749 [==============================] - 9s 64us/sample - loss: 0.4037 - categorical_accuracy: 0.8265 - auc: 0.9076 - val_loss: 0.4215 - val_categorical_accuracy: 0.8167 - val_auc: 0.8983\n",
      "Epoch 53/1000\n",
      "136749/136749 [==============================] - 8s 62us/sample - loss: 0.4033 - categorical_accuracy: 0.8264 - auc: 0.9078 - val_loss: 0.4198 - val_categorical_accuracy: 0.8191 - val_auc: 0.8996\n",
      "Epoch 54/1000\n",
      "136749/136749 [==============================] - 7s 55us/sample - loss: 0.4027 - categorical_accuracy: 0.8274 - auc: 0.9081 - val_loss: 0.4201 - val_categorical_accuracy: 0.8195 - val_auc: 0.8995\n",
      "Epoch 55/1000\n",
      "136749/136749 [==============================] - 8s 56us/sample - loss: 0.4020 - categorical_accuracy: 0.8279 - auc: 0.9085 - val_loss: 0.4235 - val_categorical_accuracy: 0.8160 - val_auc: 0.8974\n",
      "Epoch 56/1000\n",
      "136749/136749 [==============================] - 8s 55us/sample - loss: 0.4012 - categorical_accuracy: 0.8285 - auc: 0.9090 - val_loss: 0.4184 - val_categorical_accuracy: 0.8201 - val_auc: 0.9004\n",
      "Epoch 57/1000\n",
      "136749/136749 [==============================] - 8s 59us/sample - loss: 0.4015 - categorical_accuracy: 0.8276 - auc: 0.9089 - val_loss: 0.4202 - val_categorical_accuracy: 0.8187 - val_auc: 0.8993\n",
      "Epoch 58/1000\n",
      "136749/136749 [==============================] - 8s 58us/sample - loss: 0.4006 - categorical_accuracy: 0.8288 - auc: 0.9093 - val_loss: 0.4193 - val_categorical_accuracy: 0.8197 - val_auc: 0.8999\n",
      "Epoch 59/1000\n",
      "136749/136749 [==============================] - 8s 61us/sample - loss: 0.4009 - categorical_accuracy: 0.8283 - auc: 0.9091 - val_loss: 0.4179 - val_categorical_accuracy: 0.8196 - val_auc: 0.9005\n",
      "Epoch 60/1000\n",
      "136749/136749 [==============================] - 8s 57us/sample - loss: 0.4007 - categorical_accuracy: 0.8281 - auc: 0.9093 - val_loss: 0.4203 - val_categorical_accuracy: 0.8188 - val_auc: 0.8994\n",
      "Epoch 61/1000\n",
      "136749/136749 [==============================] - 8s 59us/sample - loss: 0.3995 - categorical_accuracy: 0.8294 - auc: 0.9099 - val_loss: 0.4204 - val_categorical_accuracy: 0.8195 - val_auc: 0.8992\n",
      "Epoch 62/1000\n",
      "136749/136749 [==============================] - 8s 59us/sample - loss: 0.3990 - categorical_accuracy: 0.8287 - auc: 0.9102 - val_loss: 0.4200 - val_categorical_accuracy: 0.8200 - val_auc: 0.8999\n",
      "Epoch 63/1000\n",
      "136749/136749 [==============================] - 9s 65us/sample - loss: 0.3987 - categorical_accuracy: 0.8295 - auc: 0.9103 - val_loss: 0.4196 - val_categorical_accuracy: 0.8197 - val_auc: 0.8998\n",
      "Epoch 64/1000\n",
      "136749/136749 [==============================] - 8s 56us/sample - loss: 0.3993 - categorical_accuracy: 0.8287 - auc: 0.9101 - val_loss: 0.4203 - val_categorical_accuracy: 0.8203 - val_auc: 0.8998\n",
      "Epoch 65/1000\n",
      "136749/136749 [==============================] - 8s 61us/sample - loss: 0.3988 - categorical_accuracy: 0.8300 - auc: 0.9104 - val_loss: 0.4187 - val_categorical_accuracy: 0.8203 - val_auc: 0.9003\n",
      "Epoch 66/1000\n",
      "136749/136749 [==============================] - 8s 61us/sample - loss: 0.3987 - categorical_accuracy: 0.8298 - auc: 0.9105 - val_loss: 0.4213 - val_categorical_accuracy: 0.8193 - val_auc: 0.8995\n",
      "Epoch 67/1000\n",
      "136749/136749 [==============================] - 8s 62us/sample - loss: 0.3983 - categorical_accuracy: 0.8302 - auc: 0.9106 - val_loss: 0.4198 - val_categorical_accuracy: 0.8201 - val_auc: 0.9000\n",
      "Epoch 68/1000\n",
      "136749/136749 [==============================] - 8s 61us/sample - loss: 0.3978 - categorical_accuracy: 0.8299 - auc: 0.9110 - val_loss: 0.4185 - val_categorical_accuracy: 0.8194 - val_auc: 0.9005\n",
      "Epoch 69/1000\n",
      "136749/136749 [==============================] - 9s 62us/sample - loss: 0.3984 - categorical_accuracy: 0.8293 - auc: 0.9107 - val_loss: 0.4280 - val_categorical_accuracy: 0.8162 - val_auc: 0.8964\n",
      "Epoch 70/1000\n",
      "136749/136749 [==============================] - 8s 57us/sample - loss: 0.3979 - categorical_accuracy: 0.8296 - auc: 0.9109 - val_loss: 0.4194 - val_categorical_accuracy: 0.8205 - val_auc: 0.9001\n",
      "Epoch 71/1000\n",
      "136749/136749 [==============================] - 8s 58us/sample - loss: 0.3970 - categorical_accuracy: 0.8310 - auc: 0.9114 - val_loss: 0.4204 - val_categorical_accuracy: 0.8188 - val_auc: 0.8996\n",
      "Epoch 72/1000\n",
      "136749/136749 [==============================] - 8s 57us/sample - loss: 0.3981 - categorical_accuracy: 0.8298 - auc: 0.9108 - val_loss: 0.4225 - val_categorical_accuracy: 0.8179 - val_auc: 0.8987\n",
      "Epoch 73/1000\n",
      "136749/136749 [==============================] - 8s 61us/sample - loss: 0.3964 - categorical_accuracy: 0.8303 - auc: 0.9118 - val_loss: 0.4185 - val_categorical_accuracy: 0.8209 - val_auc: 0.9009\n",
      "Epoch 74/1000\n",
      "136749/136749 [==============================] - 8s 62us/sample - loss: 0.3966 - categorical_accuracy: 0.8307 - auc: 0.9117 - val_loss: 0.4197 - val_categorical_accuracy: 0.8207 - val_auc: 0.9002\n",
      "Epoch 75/1000\n",
      "136749/136749 [==============================] - 8s 59us/sample - loss: 0.3961 - categorical_accuracy: 0.8305 - auc: 0.9119 - val_loss: 0.4188 - val_categorical_accuracy: 0.8208 - val_auc: 0.9007\n",
      "Epoch 76/1000\n",
      "136749/136749 [==============================] - 8s 62us/sample - loss: 0.3960 - categorical_accuracy: 0.8313 - auc: 0.9121 - val_loss: 0.4179 - val_categorical_accuracy: 0.8209 - val_auc: 0.9012\n",
      "Epoch 77/1000\n",
      "136749/136749 [==============================] - 8s 58us/sample - loss: 0.3957 - categorical_accuracy: 0.8318 - auc: 0.9122 - val_loss: 0.4199 - val_categorical_accuracy: 0.8208 - val_auc: 0.9004\n",
      "Epoch 78/1000\n",
      "136749/136749 [==============================] - 8s 57us/sample - loss: 0.3951 - categorical_accuracy: 0.8320 - auc: 0.9125 - val_loss: 0.4189 - val_categorical_accuracy: 0.8209 - val_auc: 0.9007\n"
     ]
    },
    {
     "name": "stdout",
     "output_type": "stream",
     "text": [
      "Epoch 79/1000\n",
      "136749/136749 [==============================] - 8s 59us/sample - loss: 0.3943 - categorical_accuracy: 0.8329 - auc: 0.9130 - val_loss: 0.4188 - val_categorical_accuracy: 0.8207 - val_auc: 0.9007\n",
      "Epoch 80/1000\n",
      "136749/136749 [==============================] - 8s 62us/sample - loss: 0.3953 - categorical_accuracy: 0.8316 - auc: 0.9124 - val_loss: 0.4169 - val_categorical_accuracy: 0.8226 - val_auc: 0.9016\n",
      "Epoch 81/1000\n",
      "136749/136749 [==============================] - 8s 61us/sample - loss: 0.3952 - categorical_accuracy: 0.8313 - auc: 0.9125 - val_loss: 0.4216 - val_categorical_accuracy: 0.8191 - val_auc: 0.8992\n",
      "Epoch 82/1000\n",
      "136749/136749 [==============================] - 8s 57us/sample - loss: 0.3952 - categorical_accuracy: 0.8322 - auc: 0.9126 - val_loss: 0.4224 - val_categorical_accuracy: 0.8181 - val_auc: 0.8987\n",
      "Epoch 83/1000\n",
      "136749/136749 [==============================] - 8s 58us/sample - loss: 0.3945 - categorical_accuracy: 0.8316 - auc: 0.9129 - val_loss: 0.4187 - val_categorical_accuracy: 0.8203 - val_auc: 0.9005\n",
      "Epoch 84/1000\n",
      "136749/136749 [==============================] - 8s 57us/sample - loss: 0.3941 - categorical_accuracy: 0.8326 - auc: 0.9131 - val_loss: 0.4200 - val_categorical_accuracy: 0.8200 - val_auc: 0.9005\n",
      "Epoch 85/1000\n",
      "136749/136749 [==============================] - 8s 60us/sample - loss: 0.3943 - categorical_accuracy: 0.8327 - auc: 0.9131 - val_loss: 0.4183 - val_categorical_accuracy: 0.8211 - val_auc: 0.9014\n",
      "Epoch 86/1000\n",
      "136749/136749 [==============================] - 8s 61us/sample - loss: 0.3942 - categorical_accuracy: 0.8327 - auc: 0.9131 - val_loss: 0.4221 - val_categorical_accuracy: 0.8203 - val_auc: 0.8998\n",
      "Epoch 87/1000\n",
      "136749/136749 [==============================] - 8s 60us/sample - loss: 0.3936 - categorical_accuracy: 0.8325 - auc: 0.9134 - val_loss: 0.4218 - val_categorical_accuracy: 0.8188 - val_auc: 0.8993\n",
      "Epoch 88/1000\n",
      "136749/136749 [==============================] - 9s 64us/sample - loss: 0.3927 - categorical_accuracy: 0.8331 - auc: 0.9139 - val_loss: 0.4189 - val_categorical_accuracy: 0.8210 - val_auc: 0.9011\n",
      "Epoch 89/1000\n",
      "136749/136749 [==============================] - 8s 60us/sample - loss: 0.3935 - categorical_accuracy: 0.8323 - auc: 0.9134 - val_loss: 0.4181 - val_categorical_accuracy: 0.8212 - val_auc: 0.9015\n",
      "Epoch 90/1000\n",
      "136749/136749 [==============================] - 8s 57us/sample - loss: 0.3939 - categorical_accuracy: 0.8324 - auc: 0.9133 - val_loss: 0.4180 - val_categorical_accuracy: 0.8215 - val_auc: 0.9013\n",
      "Epoch 91/1000\n",
      "136749/136749 [==============================] - 8s 59us/sample - loss: 0.3924 - categorical_accuracy: 0.8330 - auc: 0.9140 - val_loss: 0.4192 - val_categorical_accuracy: 0.8210 - val_auc: 0.9008\n",
      "Epoch 92/1000\n",
      "136749/136749 [==============================] - 8s 56us/sample - loss: 0.3933 - categorical_accuracy: 0.8333 - auc: 0.9136 - val_loss: 0.4185 - val_categorical_accuracy: 0.8210 - val_auc: 0.9012\n",
      "Epoch 93/1000\n",
      "136749/136749 [==============================] - 9s 63us/sample - loss: 0.3925 - categorical_accuracy: 0.8333 - auc: 0.9140 - val_loss: 0.4215 - val_categorical_accuracy: 0.8194 - val_auc: 0.9001\n",
      "Epoch 94/1000\n",
      "136749/136749 [==============================] - 8s 61us/sample - loss: 0.3923 - categorical_accuracy: 0.8335 - auc: 0.9141 - val_loss: 0.4193 - val_categorical_accuracy: 0.8210 - val_auc: 0.9011\n",
      "Epoch 95/1000\n",
      "136749/136749 [==============================] - 8s 60us/sample - loss: 0.3925 - categorical_accuracy: 0.8332 - auc: 0.9141 - val_loss: 0.4190 - val_categorical_accuracy: 0.8212 - val_auc: 0.9010\n",
      "Epoch 96/1000\n",
      "136749/136749 [==============================] - 8s 58us/sample - loss: 0.3925 - categorical_accuracy: 0.8330 - auc: 0.9141 - val_loss: 0.4205 - val_categorical_accuracy: 0.8179 - val_auc: 0.8999\n",
      "Epoch 97/1000\n",
      "136749/136749 [==============================] - 9s 62us/sample - loss: 0.3918 - categorical_accuracy: 0.8343 - auc: 0.9144 - val_loss: 0.4209 - val_categorical_accuracy: 0.8192 - val_auc: 0.8999\n",
      "Epoch 98/1000\n",
      "136749/136749 [==============================] - 8s 61us/sample - loss: 0.3913 - categorical_accuracy: 0.8343 - auc: 0.9147 - val_loss: 0.4193 - val_categorical_accuracy: 0.8225 - val_auc: 0.9012\n",
      "Epoch 99/1000\n",
      "136749/136749 [==============================] - 8s 57us/sample - loss: 0.3911 - categorical_accuracy: 0.8337 - auc: 0.9147 - val_loss: 0.4204 - val_categorical_accuracy: 0.8203 - val_auc: 0.9006\n",
      "Epoch 100/1000\n",
      "136749/136749 [==============================] - 8s 58us/sample - loss: 0.3910 - categorical_accuracy: 0.8342 - auc: 0.9149 - val_loss: 0.4245 - val_categorical_accuracy: 0.8186 - val_auc: 0.8988\n",
      "Epoch 101/1000\n",
      "136749/136749 [==============================] - 8s 59us/sample - loss: 0.3921 - categorical_accuracy: 0.8337 - auc: 0.9144 - val_loss: 0.4205 - val_categorical_accuracy: 0.8208 - val_auc: 0.9003\n",
      "Epoch 102/1000\n",
      "136749/136749 [==============================] - 8s 60us/sample - loss: 0.3913 - categorical_accuracy: 0.8339 - auc: 0.9147 - val_loss: 0.4216 - val_categorical_accuracy: 0.8202 - val_auc: 0.9004\n",
      "Epoch 103/1000\n",
      "136749/136749 [==============================] - 8s 56us/sample - loss: 0.3906 - categorical_accuracy: 0.8345 - auc: 0.9151 - val_loss: 0.4202 - val_categorical_accuracy: 0.8198 - val_auc: 0.9003\n",
      "Epoch 104/1000\n",
      "136749/136749 [==============================] - 8s 56us/sample - loss: 0.3917 - categorical_accuracy: 0.8339 - auc: 0.9145 - val_loss: 0.4206 - val_categorical_accuracy: 0.8206 - val_auc: 0.9005\n",
      "Epoch 105/1000\n",
      "136749/136749 [==============================] - 8s 59us/sample - loss: 0.3911 - categorical_accuracy: 0.8346 - auc: 0.9149 - val_loss: 0.4186 - val_categorical_accuracy: 0.8209 - val_auc: 0.9015\n",
      "Epoch 106/1000\n",
      "136749/136749 [==============================] - 8s 58us/sample - loss: 0.3906 - categorical_accuracy: 0.8347 - auc: 0.9152 - val_loss: 0.4191 - val_categorical_accuracy: 0.8209 - val_auc: 0.9018\n",
      "Epoch 107/1000\n",
      "136749/136749 [==============================] - 8s 59us/sample - loss: 0.3903 - categorical_accuracy: 0.8347 - auc: 0.9153 - val_loss: 0.4219 - val_categorical_accuracy: 0.8189 - val_auc: 0.8996\n",
      "Epoch 108/1000\n",
      "136749/136749 [==============================] - 8s 58us/sample - loss: 0.3892 - categorical_accuracy: 0.8357 - auc: 0.9158 - val_loss: 0.4211 - val_categorical_accuracy: 0.8201 - val_auc: 0.9003\n",
      "Epoch 109/1000\n",
      "136749/136749 [==============================] - 8s 60us/sample - loss: 0.3904 - categorical_accuracy: 0.8333 - auc: 0.9152 - val_loss: 0.4221 - val_categorical_accuracy: 0.8193 - val_auc: 0.8997\n",
      "Epoch 110/1000\n",
      "136749/136749 [==============================] - 8s 61us/sample - loss: 0.3892 - categorical_accuracy: 0.8358 - auc: 0.9160 - val_loss: 0.4210 - val_categorical_accuracy: 0.8200 - val_auc: 0.9007\n",
      "Epoch 111/1000\n",
      "136749/136749 [==============================] - 8s 58us/sample - loss: 0.3895 - categorical_accuracy: 0.8342 - auc: 0.9158 - val_loss: 0.4220 - val_categorical_accuracy: 0.8185 - val_auc: 0.8996\n",
      "Epoch 112/1000\n",
      "136749/136749 [==============================] - 8s 60us/sample - loss: 0.3894 - categorical_accuracy: 0.8344 - auc: 0.9158 - val_loss: 0.4202 - val_categorical_accuracy: 0.8193 - val_auc: 0.9005\n",
      "Epoch 113/1000\n",
      "136749/136749 [==============================] - 8s 58us/sample - loss: 0.3891 - categorical_accuracy: 0.8359 - auc: 0.9160 - val_loss: 0.4232 - val_categorical_accuracy: 0.8184 - val_auc: 0.8994\n",
      "Epoch 114/1000\n",
      "136749/136749 [==============================] - 8s 62us/sample - loss: 0.3903 - categorical_accuracy: 0.8347 - auc: 0.9153 - val_loss: 0.4207 - val_categorical_accuracy: 0.8198 - val_auc: 0.9006\n",
      "Epoch 115/1000\n",
      "136749/136749 [==============================] - 8s 57us/sample - loss: 0.3888 - categorical_accuracy: 0.8358 - auc: 0.9161 - val_loss: 0.4226 - val_categorical_accuracy: 0.8208 - val_auc: 0.8998\n",
      "Epoch 116/1000\n",
      "136749/136749 [==============================] - 8s 61us/sample - loss: 0.3898 - categorical_accuracy: 0.8352 - auc: 0.9156 - val_loss: 0.4203 - val_categorical_accuracy: 0.8207 - val_auc: 0.9007\n",
      "Epoch 117/1000\n",
      "136749/136749 [==============================] - 8s 58us/sample - loss: 0.3891 - categorical_accuracy: 0.8361 - auc: 0.9160 - val_loss: 0.4228 - val_categorical_accuracy: 0.8191 - val_auc: 0.8999\n"
     ]
    },
    {
     "name": "stdout",
     "output_type": "stream",
     "text": [
      "Epoch 118/1000\n",
      "136749/136749 [==============================] - 8s 58us/sample - loss: 0.3878 - categorical_accuracy: 0.8361 - auc: 0.9167 - val_loss: 0.4214 - val_categorical_accuracy: 0.8196 - val_auc: 0.9006\n",
      "Epoch 119/1000\n",
      "136749/136749 [==============================] - 8s 58us/sample - loss: 0.3899 - categorical_accuracy: 0.8352 - auc: 0.9156 - val_loss: 0.4263 - val_categorical_accuracy: 0.8190 - val_auc: 0.8992\n",
      "Epoch 120/1000\n",
      "136749/136749 [==============================] - 8s 58us/sample - loss: 0.3887 - categorical_accuracy: 0.8359 - auc: 0.9163 - val_loss: 0.4204 - val_categorical_accuracy: 0.8210 - val_auc: 0.9012\n",
      "Epoch 121/1000\n",
      "136749/136749 [==============================] - 8s 60us/sample - loss: 0.3900 - categorical_accuracy: 0.8346 - auc: 0.9156 - val_loss: 0.4219 - val_categorical_accuracy: 0.8197 - val_auc: 0.9004\n",
      "Epoch 122/1000\n",
      "136749/136749 [==============================] - 8s 59us/sample - loss: 0.3878 - categorical_accuracy: 0.8366 - auc: 0.9167 - val_loss: 0.4226 - val_categorical_accuracy: 0.8178 - val_auc: 0.8993\n",
      "Epoch 123/1000\n",
      "136749/136749 [==============================] - 8s 62us/sample - loss: 0.3883 - categorical_accuracy: 0.8360 - auc: 0.9165 - val_loss: 0.4208 - val_categorical_accuracy: 0.8208 - val_auc: 0.9006\n",
      "Epoch 124/1000\n",
      "136749/136749 [==============================] - 8s 61us/sample - loss: 0.3876 - categorical_accuracy: 0.8358 - auc: 0.9169 - val_loss: 0.4222 - val_categorical_accuracy: 0.8195 - val_auc: 0.9003\n",
      "Epoch 125/1000\n",
      "136749/136749 [==============================] - 8s 57us/sample - loss: 0.3876 - categorical_accuracy: 0.8359 - auc: 0.9168 - val_loss: 0.4229 - val_categorical_accuracy: 0.8195 - val_auc: 0.8997\n",
      "Epoch 126/1000\n",
      "136749/136749 [==============================] - 8s 60us/sample - loss: 0.3882 - categorical_accuracy: 0.8362 - auc: 0.9166 - val_loss: 0.4305 - val_categorical_accuracy: 0.8161 - val_auc: 0.8976\n",
      "Epoch 127/1000\n",
      "136749/136749 [==============================] - 8s 60us/sample - loss: 0.3881 - categorical_accuracy: 0.8353 - auc: 0.9167 - val_loss: 0.4216 - val_categorical_accuracy: 0.8198 - val_auc: 0.9004\n",
      "Epoch 128/1000\n",
      "136749/136749 [==============================] - 8s 61us/sample - loss: 0.3881 - categorical_accuracy: 0.8369 - auc: 0.9167 - val_loss: 0.4210 - val_categorical_accuracy: 0.8211 - val_auc: 0.9007\n",
      "Epoch 129/1000\n",
      "136749/136749 [==============================] - 8s 58us/sample - loss: 0.3882 - categorical_accuracy: 0.8358 - auc: 0.9165 - val_loss: 0.4222 - val_categorical_accuracy: 0.8187 - val_auc: 0.8998\n",
      "Epoch 130/1000\n",
      "136749/136749 [==============================] - 8s 58us/sample - loss: 0.3876 - categorical_accuracy: 0.8368 - auc: 0.9170 - val_loss: 0.4227 - val_categorical_accuracy: 0.8192 - val_auc: 0.9000\n",
      "Epoch 131/1000\n",
      "136749/136749 [==============================] - 9s 64us/sample - loss: 0.3870 - categorical_accuracy: 0.8366 - auc: 0.9172 - val_loss: 0.4214 - val_categorical_accuracy: 0.8198 - val_auc: 0.9007\n",
      "Epoch 132/1000\n",
      "136749/136749 [==============================] - 8s 59us/sample - loss: 0.3863 - categorical_accuracy: 0.8374 - auc: 0.9175 - val_loss: 0.4217 - val_categorical_accuracy: 0.8204 - val_auc: 0.9007\n",
      "Epoch 133/1000\n",
      "136749/136749 [==============================] - 8s 59us/sample - loss: 0.3865 - categorical_accuracy: 0.8365 - auc: 0.9175 - val_loss: 0.4243 - val_categorical_accuracy: 0.8190 - val_auc: 0.8994\n",
      "Epoch 134/1000\n",
      "136749/136749 [==============================] - 9s 64us/sample - loss: 0.3860 - categorical_accuracy: 0.8371 - auc: 0.9177 - val_loss: 0.4203 - val_categorical_accuracy: 0.8215 - val_auc: 0.9014\n",
      "Epoch 135/1000\n",
      "136749/136749 [==============================] - 9s 64us/sample - loss: 0.3867 - categorical_accuracy: 0.8366 - auc: 0.9174 - val_loss: 0.4259 - val_categorical_accuracy: 0.8181 - val_auc: 0.8993\n",
      "Epoch 136/1000\n",
      "136749/136749 [==============================] - 8s 58us/sample - loss: 0.3872 - categorical_accuracy: 0.8368 - auc: 0.9172 - val_loss: 0.4213 - val_categorical_accuracy: 0.8202 - val_auc: 0.9010\n",
      "Epoch 137/1000\n",
      "136749/136749 [==============================] - 8s 58us/sample - loss: 0.3867 - categorical_accuracy: 0.8364 - auc: 0.9174 - val_loss: 0.4239 - val_categorical_accuracy: 0.8191 - val_auc: 0.8994\n",
      "Epoch 138/1000\n",
      "136749/136749 [==============================] - 8s 61us/sample - loss: 0.3876 - categorical_accuracy: 0.8371 - auc: 0.9170 - val_loss: 0.4231 - val_categorical_accuracy: 0.8189 - val_auc: 0.8997\n",
      "Epoch 139/1000\n",
      "136749/136749 [==============================] - 9s 63us/sample - loss: 0.3861 - categorical_accuracy: 0.8375 - auc: 0.9177 - val_loss: 0.4254 - val_categorical_accuracy: 0.8193 - val_auc: 0.8992\n",
      "Epoch 140/1000\n",
      "136749/136749 [==============================] - 8s 60us/sample - loss: 0.3872 - categorical_accuracy: 0.8366 - auc: 0.9172 - val_loss: 0.4244 - val_categorical_accuracy: 0.8180 - val_auc: 0.8988\n",
      "Epoch 141/1000\n",
      "136749/136749 [==============================] - 8s 62us/sample - loss: 0.3862 - categorical_accuracy: 0.8381 - auc: 0.9177 - val_loss: 0.4241 - val_categorical_accuracy: 0.8204 - val_auc: 0.9003\n",
      "Epoch 142/1000\n",
      "136749/136749 [==============================] - 8s 59us/sample - loss: 0.3863 - categorical_accuracy: 0.8371 - auc: 0.9176 - val_loss: 0.4258 - val_categorical_accuracy: 0.8174 - val_auc: 0.8985\n",
      "Epoch 143/1000\n",
      "136749/136749 [==============================] - 8s 58us/sample - loss: 0.3863 - categorical_accuracy: 0.8369 - auc: 0.9176 - val_loss: 0.4226 - val_categorical_accuracy: 0.8191 - val_auc: 0.9004\n",
      "Epoch 144/1000\n",
      "136749/136749 [==============================] - 8s 56us/sample - loss: 0.3856 - categorical_accuracy: 0.8379 - auc: 0.9180 - val_loss: 0.4234 - val_categorical_accuracy: 0.8198 - val_auc: 0.9003\n",
      "Epoch 145/1000\n",
      "136749/136749 [==============================] - 8s 57us/sample - loss: 0.3856 - categorical_accuracy: 0.8383 - auc: 0.9180 - val_loss: 0.4260 - val_categorical_accuracy: 0.8180 - val_auc: 0.8988\n",
      "Epoch 00145: early stopping\n",
      "++ loading model from /home/btannenw/Desktop/ML/dihiggsMLProject/lorentzBoostNetwork/lbn/models/model_1kTrainEpochs/model_1kTrainEpochs.hdf5\n"
     ]
    }
   ],
   "source": [
    "# *** 3A. Do things the proper, functional way\n",
    "\n",
    "modelName = 'model_1kTrainEpochs'\n",
    "\n",
    "model = createModelLBN(_outputActivation='sigmoid') # 1.81+/0.06\n",
    "\n",
    "model, history = fit_model(model, name=modelName, data=(trainVectorsByEvent, trainLabelsByEvent), \n",
    "                          validation_data=(testVectorsByEvent, testLabelsByEvent), epochs=1000, batch_size=400)\n",
    "\n",
    "best_model = createModelLBN(_outputActivation='sigmoid', _weightsDir=modelName)\n"
   ]
  },
  {
   "cell_type": "code",
   "execution_count": null,
   "metadata": {},
   "outputs": [],
   "source": [
    "# *** 3B. Do things \"by hand\"\n",
    "es = EarlyStopping(monitor='val_loss', mode='min', verbose=1, patience=10, min_delta=.001)\n",
    "mc = ModelCheckpoint('best_model.hdf5', #filepath=os.path.join(model_dir, name),\n",
    "                    monitor=\"val_loss\", mode='min', save_weights_only=True, save_best_only=True)\n",
    " \n",
    "\n",
    "#model = createModelLBN(_outputActivation='softmax') # 1.77+/0.04, 1.84 +/- 0.06\n",
    "model2 = createModelLBN(_outputActivation='sigmoid') # 1.81+/0.06\n",
    "\n",
    "history = model2.fit( trainVectorsByEvent, trainLabelsByEvent, epochs=50, validation_data = (testVectorsByEvent, testLabelsByEvent), batch_size=400, callbacks=[es, mc])\n",
    "#history = model.fit( trainVectorsByEvent, trainLabelsByEvent, epochs=10, validation_data = (testVectorsByEvent, testLabelsByEvent))\n",
    "print(model2.count_params())\n",
    "\n",
    "# load the saved model\n",
    "#model_best = model.load_weights('best_model.h5')"
   ]
  },
  {
   "cell_type": "code",
   "execution_count": null,
   "metadata": {},
   "outputs": [],
   "source": [
    "# *** 3C. Define low-level NN using jet vectors for comparison\n",
    "model_nn = tf.keras.models.Sequential()\n",
    "nInputNodes = len(trainVectorsByEvent[0]) \n",
    "#model.add(Dense(100, input_dim=nInputNodes, activation='relu'))\n",
    "\n",
    "model_nn.add(tf.keras.layers.Dense(128, input_dim = nInputNodes, activation='relu'))\n",
    "#model.add(tf.keras.layers.Dropout(0.2))\n",
    "#model.add(BatchNormalization())\n",
    "\n",
    "model_nn.add(tf.keras.layers.Dense(64, activation='relu'))\n",
    "model_nn.add(tf.keras.layers.Dense(32, activation='relu'))\n",
    "model_nn.add(tf.keras.layers.Dense(2, activation='sigmoid'))\n",
    "\n",
    "model_nn.compile(loss='binary_crossentropy',\n",
    "              optimizer='adam',\n",
    "              metrics=['accuracy'])\n",
    "\n",
    "history_nn = model_nn.fit( trainVectorsByEvent, trainLabelsByEvent, epochs=50, validation_data = (testVectorsByEvent, testLabelsByEvent), batch_size=400)\n",
    "#history = model.fit( trainVectorsByEvent, trainLabelsByEvent, epochs=10, validation_data = (testVectorsByEvent, testLabelsByEvent))\n",
    "print(model_nn.count_params())"
   ]
  },
  {
   "cell_type": "code",
   "execution_count": 10,
   "metadata": {},
   "outputs": [
    {
     "name": "stdout",
     "output_type": "stream",
     "text": [
      "++ loading model from /home/btannenw/Desktop/ML/dihiggsMLProject/lorentzBoostNetwork/lbn/models/model_test/model_test.hdf5\n",
      "(58608, 2)\n"
     ]
    }
   ],
   "source": [
    "# *** 4. Do some very specific evaluation based on pure samples\n",
    "hh_data_test, hh_labels_test, qcd_data_test, qcd_labels_test = returnTestSamplesSplitIntoSignalAndBackground(testVectorsByEvent, testLabelsByEvent)\n",
    "\n",
    "#score_hh = model.evaluate(np.array(hh_data_test), np.array(hh_labels_test))\n",
    "#score_qcd = model.evaluate(np.array(qcd_data_test), np.array(qcd_labels_test))\n",
    "#print(score_hh, score_qcd)\n",
    "\n",
    "pred_hh = best_model.predict(np.array(hh_data_test))\n",
    "pred_qcd = best_model.predict(np.array(qcd_data_test))"
   ]
  },
  {
   "cell_type": "code",
   "execution_count": 11,
   "metadata": {},
   "outputs": [
    {
     "data": {
      "image/png": "[encoded data removed]",
      "text/plain": [
       "<Figure size 432x288 with 1 Axes>"
      ]
     },
     "metadata": {
      "needs_background": "light"
     },
     "output_type": "display_data"
    }
   ],
   "source": [
    "_nBins = 40\n",
    "predictionResults = {'hh_pred':pred_hh[:,0], 'qcd_pred':pred_qcd[:,0]}\n",
    "compareManyHistograms( predictionResults, ['hh_pred', 'qcd_pred'], 2, 'Signal Prediction', 'LBN Signal Score', 0, 1, _nBins, _yMax = 5, _normed=True, _savePlot=False )\n"
   ]
  },
  {
   "cell_type": "code",
   "execution_count": 12,
   "metadata": {},
   "outputs": [
    {
     "name": "stdout",
     "output_type": "stream",
     "text": [
      "23724 34884\n",
      "nSig = 1346.2512 , nBkg = 578844.46 with significance = 1.7694779815193677 +/- 0.05968728783558154 for ff-NN score > 0.9088708541610023\n"
     ]
    },
    {
     "data": {
      "text/plain": [
       "(1.7694779815193677, 0.9088708541610023)"
      ]
     },
     "execution_count": 12,
     "metadata": {},
     "output_type": "execute_result"
    }
   ],
   "source": [
    "# *** 4. Get best cut value for ff-NN assuming some minimal amount of signal\n",
    "returnBestCutValue('ff-NN', pred_hh[:,0].copy(), pred_qcd[:,0].copy(), _minBackground=200, _testingFraction=testingFraction)"
   ]
  },
  {
   "cell_type": "code",
   "execution_count": null,
   "metadata": {},
   "outputs": [],
   "source": [
    "# *** 5. Get signifiance for any user-specified NN score cut value\n",
    "lumiscale_hh  = getLumiScaleFactor(testingFraction, True)\n",
    "lumiscale_qcd = getLumiScaleFactor(testingFraction, False)\n",
    "cut = 0.81\n",
    "_nSignal = sum( value > cut for value in pred_hh)*lumiscale_hh\n",
    "_nBackground = sum( value > cut for value in pred_qcd)*lumiscale_qcd\n",
    "\n",
    "print('nSig = {0} , nBkg = {1} with significance = {2} for NN score > {3}'.format(_nSignal, _nBackground, _nSignal/np.sqrt(_nBackground), cut) )"
   ]
  },
  {
   "cell_type": "code",
   "execution_count": 11,
   "metadata": {},
   "outputs": [
    {
     "name": "stdout",
     "output_type": "stream",
     "text": [
      "dict_keys(['loss', 'categorical_accuracy', 'auc', 'val_loss', 'val_categorical_accuracy', 'val_auc'])\n"
     ]
    },
    {
     "data": {
      "image/png": "[encoded data removed]",
      "text/plain": [
       "<Figure size 432x288 with 1 Axes>"
      ]
     },
     "metadata": {
      "needs_background": "light"
     },
     "output_type": "display_data"
    },
    {
     "data": {
      "image/png": "[encoded data removed]",
      "text/plain": [
       "<Figure size 432x288 with 1 Axes>"
      ]
     },
     "metadata": {
      "needs_background": "light"
     },
     "output_type": "display_data"
    },
    {
     "data": {
      "image/png": "[encoded data removed]",
      "text/plain": [
       "<Figure size 432x288 with 1 Axes>"
      ]
     },
     "metadata": {
      "needs_background": "light"
     },
     "output_type": "display_data"
    }
   ],
   "source": [
    "# *** 6. Make some training diagnostic plots\n",
    "print(history.history.keys())\n",
    "# summarize history for accuracy\n",
    "plt.plot(history.history['categorical_accuracy'])\n",
    "plt.plot(history.history['val_categorical_accuracy'])\n",
    "plt.title('LBN Accuracy')\n",
    "plt.ylabel('Accuracy [%]')\n",
    "plt.xlabel('Epoch')\n",
    "plt.legend(['Train', 'Test'], loc='upper left')\n",
    "plt.show()\n",
    "# summarize history for loss\n",
    "plt.plot(history.history['loss'])\n",
    "plt.plot(history.history['val_loss'])\n",
    "plt.title('LBN Model Loss')\n",
    "plt.ylabel('Loss [A.U.]')\n",
    "plt.xlabel('Epoch')\n",
    "plt.legend(['Train', 'Test'], loc='upper right')\n",
    "plt.show()\n",
    "# summarize history for loss\n",
    "plt.plot(history.history['auc'])\n",
    "plt.plot(history.history['val_auc'])\n",
    "plt.title('LBN Model AUC')\n",
    "plt.ylabel('AUC [A.U.]')\n",
    "plt.xlabel('Epoch')\n",
    "plt.legend(['Train', 'Test'], loc='upper right')\n",
    "plt.show()"
   ]
  },
  {
   "cell_type": "code",
   "execution_count": null,
   "metadata": {},
   "outputs": [],
   "source": [
    "model.summary()"
   ]
  },
  {
   "cell_type": "code",
   "execution_count": null,
   "metadata": {},
   "outputs": [],
   "source": [
    "# ROC curve and AUC\n",
    "testVectorsByEvent_ROC = testVectorsByEvent.copy()\n",
    "#top10_data_test_ROC = top10_data_test__norm.copy()\n",
    "#top10_data_test_ROC = top10_data_test_ROC.drop('isSignal', axis=1)\n",
    "\n",
    "y_pred = model.predict(testVectorsByEvent_ROC).ravel()\n",
    "falsePositiveRate, truePositiveRate, thresholds = roc_curve(testLabelsByEvent, y_pred)\n",
    "auc_keras = auc(falsePositiveRate, truePositiveRate)"
   ]
  },
  {
   "cell_type": "code",
   "execution_count": null,
   "metadata": {},
   "outputs": [],
   "source": [
    "plt.plot([0, 1], [0, 1], 'k--')\n",
    "plt.plot(falsePositiveRate, truePositiveRate, label='Keras (area = {:.3f})'.format(auc_keras))\n",
    "plt.xlabel('False positive rate')\n",
    "plt.ylabel('True positive rate')\n",
    "plt.title('ROC curve')\n",
    "plt.legend(loc='best')\n",
    "plt.show()"
   ]
  },
  {
   "cell_type": "code",
   "execution_count": null,
   "metadata": {},
   "outputs": [],
   "source": []
  },
  {
   "cell_type": "code",
   "execution_count": null,
   "metadata": {},
   "outputs": [],
   "source": []
  },
  {
   "cell_type": "code",
   "execution_count": null,
   "metadata": {},
   "outputs": [],
   "source": []
  },
  {
   "cell_type": "code",
   "execution_count": null,
   "metadata": {},
   "outputs": [],
   "source": []
  },
  {
   "cell_type": "code",
   "execution_count": null,
   "metadata": {},
   "outputs": [],
   "source": []
  },
  {
   "cell_type": "code",
   "execution_count": null,
   "metadata": {},
   "outputs": [],
   "source": []
  }
 ],
 "metadata": {
  "kernelspec": {
   "display_name": "Python 3",
   "language": "python",
   "name": "python3"
  },
  "language_info": {
   "codemirror_mode": {
    "name": "ipython",
    "version": 3
   },
   "file_extension": ".py",
   "mimetype": "text/x-python",
   "name": "python",
   "nbconvert_exporter": "python",
   "pygments_lexer": "ipython3",
   "version": "3.7.4"
  }
 },
 "nbformat": 4,
 "nbformat_minor": 2
}
