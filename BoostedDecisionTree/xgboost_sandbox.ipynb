{
 "cells": [
  {
   "cell_type": "code",
   "execution_count": 6,
   "metadata": {},
   "outputs": [],
   "source": [
    "import xgboost as xgb\n",
    "import pandas as pd\n",
    "from sklearn.model_selection import train_test_split"
   ]
  },
  {
   "cell_type": "code",
   "execution_count": 23,
   "metadata": {},
   "outputs": [
    {
     "name": "stdout",
     "output_type": "stream",
     "text": [
      "4605 rows of dihiggs data Index(['hh_mass', 'h1_mass', 'h2_mass', 'hh_pt', 'h1_pt', 'h2_pt',\n",
      "       'deltaR(h1, h2)', 'deltaR(h1 jets)', 'deltaR(h2 jets)',\n",
      "       'deltaPhi(h1, h2)', 'deltaPhi(h1 jets)', 'deltaPhi(h2 jets)', 'met',\n",
      "       'met_phi', 'scalarHT', 'nJets', 'nBTags', 'isMatchable', 'jet1_pt',\n",
      "       'jet2_pt', 'jet3_pt', 'jet4_pt', 'jet1_eta', 'jet2_eta', 'jet3_eta',\n",
      "       'jet4_eta', 'jet1_phi', 'jet2_phi', 'jet3_phi', 'jet4_phi', 'jet1_mass',\n",
      "       'jet2_mass', 'jet3_mass', 'jet4_mass', 'jet1_px', 'jet2_px', 'jet3_px',\n",
      "       'jet4_px', 'jet1_py', 'jet2_py', 'jet3_py', 'jet4_py', 'jet1_pz',\n",
      "       'jet2_pz', 'jet3_pz', 'jet4_pz', 'jet1_energy', 'jet2_energy',\n",
      "       'jet3_energy', 'jet4_energy', 'jet1_btag', 'jet2_btag', 'jet3_btag',\n",
      "       'jet4_btag', 'isSignal'],\n",
      "      dtype='object')\n",
      "Index(['hh_mass', 'h1_mass', 'h2_mass'], dtype='object') hh_mass\n"
     ]
    },
    {
     "data": {
      "text/plain": [
       "array([[<matplotlib.axes._subplots.AxesSubplot object at 0x7f9021d177d0>]],\n",
       "      dtype=object)"
      ]
     },
     "execution_count": 23,
     "metadata": {},
     "output_type": "execute_result"
    },
    {
     "data": {
      "image/png": "[encoded data removed]",
      "text/plain": [
       "<Figure size 432x288 with 1 Axes>"
      ]
     },
     "metadata": {
      "needs_background": "light"
     },
     "output_type": "display_data"
    },
    {
     "data": {
      "image/png": "[encoded data removed]",
      "text/plain": [
       "<Figure size 432x288 with 1 Axes>"
      ]
     },
     "metadata": {
      "needs_background": "light"
     },
     "output_type": "display_data"
    }
   ],
   "source": [
    "# *** 0. Import Dataset\n",
    "qcd_raw = pd.read_csv('../higgsReconstruction/EventPlotting/qcd_outputDataForLearning.csv')\n",
    "hh_raw = pd.read_csv('../higgsReconstruction/EventPlotting/dihiggs_outputDataForLearning.csv')\n",
    "\n",
    "hh_raw.head()\n",
    "hh_raw['isSignal'] = 1\n",
    "print(len(hh_raw), \"rows of dihiggs data\", hh_raw.columns)\n",
    "#print( print(hh_raw.loc[[10]]))\n",
    "\n",
    "qcd_raw.head()\n",
    "qcd_raw['isSignal'] = 0\n",
    "#print(len(qcd_raw), \"rows of qcd data\", qcd_raw.columns)\n",
    "\n",
    "variableNames = ['hh_mass', 'h1_mass', 'h2_mass']\n",
    "#variableNames = ['deltaR(h1, h2)', 'deltaR(h1 jets)', 'deltaR(h2 jets)']\n",
    "#variableNames = ['hh_mass', 'h1_mass', 'h2_mass', 'deltaR(h1, h2)', 'deltaR(h1 jets)', 'deltaR(h2 jets)']\n",
    "print(hh_reducedData.columns, variableNames[0])\n",
    "\n",
    "\n",
    "hh_reducedData  = hh_raw[variableNames]\n",
    "qcd_reducedData = qcd_raw[variableNames]\n",
    "all_reducedData = hh_reducedData.append(qcd_reducedData)\n",
    "\n",
    "hh_labels  = hh_raw[ ['isSignal'] ]\n",
    "qcd_labels = qcd_raw[ ['isSignal'] ]\n",
    "all_labels = hh_labels.append(qcd_labels)\n",
    "\n",
    "hh_reducedData.hist(column=variableNames[2], bins=100)\n",
    "qcd_reducedData.hist(column=variableNames[2], bins=100)\n"
   ]
  },
  {
   "cell_type": "code",
   "execution_count": 25,
   "metadata": {},
   "outputs": [],
   "source": [
    "# ***1. Split dataset into test + train, make correct input objects\n",
    "data_train, data_test, label_train, label_test = train_test_split(all_reducedData, all_labels, test_size=0.3)\n",
    "\n",
    "D_train = xgb.DMatrix(data_train, label=label_train)\n",
    "D_test = xgb.DMatrix(data_test, label=label_test)"
   ]
  },
  {
   "cell_type": "code",
   "execution_count": 26,
   "metadata": {},
   "outputs": [],
   "source": [
    "# ***2. Define XGB model and train\n",
    "param = {\n",
    "    'eta': 0.3, \n",
    "    'max_depth': 3,  \n",
    "    'objective': 'multi:softprob',  \n",
    "    'num_class': 3} \n",
    "\n",
    "steps = 20  # The number of training iterations\n",
    "\n",
    "model = xgb.train(param, D_train, steps)"
   ]
  },
  {
   "cell_type": "code",
   "execution_count": 28,
   "metadata": {},
   "outputs": [
    {
     "name": "stdout",
     "output_type": "stream",
     "text": [
      "Precision = 0.7588414484652348\n",
      "Recall = 0.6840424357406207\n",
      "Accuracy = 0.803486529318542\n"
     ]
    }
   ],
   "source": [
    "# ***3. Evaluate model\n",
    "import numpy as np\n",
    "from sklearn.metrics import precision_score, recall_score, accuracy_score\n",
    "\n",
    "preds = model.predict(D_test)\n",
    "best_preds = np.asarray([np.argmax(line) for line in preds])\n",
    "\n",
    "print(\"Precision = {}\".format(precision_score(label_test, best_preds, average='macro')))\n",
    "print(\"Recall = {}\".format(recall_score(label_test, best_preds, average='macro')))\n",
    "print(\"Accuracy = {}\".format(accuracy_score(label_test, best_preds)))"
   ]
  },
  {
   "cell_type": "code",
   "execution_count": null,
   "metadata": {},
   "outputs": [],
   "source": []
  }
 ],
 "metadata": {
  "kernelspec": {
   "display_name": "Python 3",
   "language": "python",
   "name": "python3"
  },
  "language_info": {
   "codemirror_mode": {
    "name": "ipython",
    "version": 3
   },
   "file_extension": ".py",
   "mimetype": "text/x-python",
   "name": "python",
   "nbconvert_exporter": "python",
   "pygments_lexer": "ipython3",
   "version": "3.7.4"
  }
 },
 "nbformat": 4,
 "nbformat_minor": 2
}
