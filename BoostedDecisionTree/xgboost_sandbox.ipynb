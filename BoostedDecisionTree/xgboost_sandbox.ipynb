{
 "cells": [
  {
   "cell_type": "code",
   "execution_count": 1,
   "metadata": {},
   "outputs": [],
   "source": [
    "import xgboost as xgb\n",
    "import pandas as pd\n",
    "from sklearn.model_selection import train_test_split\n",
    "import matplotlib.pyplot as plt\n",
    "import numpy as np\n",
    "from sklearn.metrics import precision_score, recall_score, accuracy_score\n",
    "from sklearn.model_selection import GridSearchCV\n",
    "import pickle\n",
    "\n",
    "import sys\n",
    "sys.path.insert(0, '/home/btannenw/Desktop/ML/dihiggsMLProject/')\n",
    "from utils.commonFunctions import *"
   ]
  },
  {
   "cell_type": "code",
   "execution_count": 2,
   "metadata": {},
   "outputs": [
    {
     "data": {
      "text/plain": [
       "array([[<matplotlib.axes._subplots.AxesSubplot object at 0x7ff1621c5890>]],\n",
       "      dtype=object)"
      ]
     },
     "execution_count": 2,
     "metadata": {},
     "output_type": "execute_result"
    },
    {
     "data": {
      "image/png": "[encoded data removed]",
      "text/plain": [
       "<Figure size 432x288 with 1 Axes>"
      ]
     },
     "metadata": {
      "needs_background": "light"
     },
     "output_type": "display_data"
    },
    {
     "data": {
      "image/png": "[encoded data removed]",
      "text/plain": [
       "<Figure size 432x288 with 1 Axes>"
      ]
     },
     "metadata": {
      "needs_background": "light"
     },
     "output_type": "display_data"
    }
   ],
   "source": [
    "# *** 0. Import Dataset\n",
    "hh_raw, qcd_raw = importDatasets()\n",
    "\n",
    "variableNames = ['hh_mass', 'h1_mass', 'h2_mass']\n",
    "\n",
    "hh_raw.hist(column=variableNames[2], bins=100)\n",
    "qcd_raw.hist(column=variableNames[2], bins=100)\n"
   ]
  },
  {
   "cell_type": "code",
   "execution_count": 3,
   "metadata": {},
   "outputs": [],
   "source": [
    "def setupAndTrainBDT(all_data, all_labels, _testSize=0.3, _saveModel=False, _maxDepth=3, _eta=0.3, _steps=5, _modelName='reduced_bdt'):\n",
    "    \"\"\"setup and train BDT\"\"\"\n",
    "    \n",
    "    # *** 1. Split dataset into test + train, make correct input objects\n",
    "    data_train, data_test, label_train, label_test = train_test_split(all_data, all_labels, test_size=_testSize)\n",
    "\n",
    "    D_train = xgb.DMatrix(data_train, label=label_train)\n",
    "    D_test = xgb.DMatrix(data_test, label=label_test)\n",
    "    \n",
    "    # *** 2. Define XGB model \n",
    "    param = {\n",
    "        'eta': _eta, \n",
    "        'max_depth': _maxDepth,  \n",
    "        'objective': 'multi:softprob',  \n",
    "        #'objective': 'reg:logistic',  \n",
    "        #'objective': 'binary:logistic',\n",
    "        'num_class': 2} \n",
    "\n",
    "    steps = _steps  # The number of training iterations\n",
    "\n",
    "    # *** 3. Train model \n",
    "    model = xgb.train(param, D_train, steps)\n",
    "    \n",
    "    # *** 4. Evaluate model\n",
    "    preds = model.predict(D_test)\n",
    "    best_preds = np.asarray([np.argmax(line) for line in preds])\n",
    "\n",
    "    print(\"Precision = {}\".format(precision_score(label_test, best_preds, average='macro')))\n",
    "    print(\"Recall = {}\".format(recall_score(label_test, best_preds, average='macro')))\n",
    "    print(\"Accuracy = {}\".format(accuracy_score(label_test, best_preds)))\n",
    "    \n",
    "    # *** 5. Dump .txt of trees and leaves with decisions if desired\n",
    "    if (_saveModel):\n",
    "        model.dump_model('tree.{0}.txt'.format(_modelName))\n",
    "        pickle.dump(model, open('model.{0}.pkl'.format(_modelName), 'wb'))\n",
    "        # Make a visual of decision tree\n",
    "        #xgb.plot_tree(model,num_trees=1)\n",
    "        #plt.rcParams['figure.figsize'] = [2000, 400]\n",
    "        #plt.show()\n",
    "        #plt.savefig('tree0.png')\n",
    "    \n",
    "    \n",
    "    return model\n",
    "\n",
    "def setupGridAndTrainBDT(_modelName, all_data, all_labels, _testSize=0.3, _saveModel=False):\n",
    "    \"\"\"setup and train using grid of hyperparameters BDT\"\"\"\n",
    "    \n",
    "    # *** 1. Split dataset into test + train, make correct input objects\n",
    "    data_train, data_test, label_train, label_test = train_test_split(all_data, all_labels, test_size=_testSize)\n",
    "\n",
    "    D_train = xgb.DMatrix(data_train, label=label_train)\n",
    "    D_test = xgb.DMatrix(data_test, label=label_test)\n",
    "    \n",
    "    # *** 2. Define XGB hyper-parameter grid \n",
    "    parameters = {\n",
    "        \"eta\"    : [0.10, 0.15, 0.20, 0.25, 0.30 ] ,\n",
    "        \"max_depth\"        : [ 3, 4, 5, 6, 8, 10, 12, 15],\n",
    "        #\"min_child_weight\" : [ 1, 3, 5, 7 ],\n",
    "        #\"gamma\"            : [ 0.0, 0.1, 0.2 , 0.3, 0.4 ],\n",
    "        #\"colsample_bytree\" : [ 0.3, 0.4, 0.5 , 0.7 ]\n",
    "        \"objective\": [\"multi:softprob\"],\n",
    "        \"num_class\": [2]\n",
    "        }\n",
    "\n",
    "    steps = 5  # The number of training iterations\n",
    "\n",
    "    # *** 3. Perform grid optimization \n",
    "    clf = xgb.XGBClassifier()\n",
    "    grid = GridSearchCV(clf,\n",
    "                        parameters, n_jobs=4,\n",
    "                        #scoring=\"neg_log_loss\",\n",
    "                        scoring=\"f1\",\n",
    "                        cv=3,\n",
    "                        verbose = 3)\n",
    "\n",
    "    grid_result = grid.fit(data_train, label_train)\n",
    "    best_params = grid_result.best_params_\n",
    "    print(best_params, type(best_params))\n",
    "    \n",
    "    # *** 4. Train model \n",
    "    model = xgb.train( best_params, D_train, steps)\n",
    "    \n",
    "    \n",
    "    # *** 5. Evaluate model\n",
    "    preds = model.predict(D_test)\n",
    "    best_preds = np.asarray([np.argmax(line) for line in preds])\n",
    "\n",
    "    print(\"Precision = {}\".format(precision_score(label_test, best_preds, average='macro')))\n",
    "    print(\"Recall = {}\".format(recall_score(label_test, best_preds, average='macro')))\n",
    "    print(\"Accuracy = {}\".format(accuracy_score(label_test, best_preds)))\n",
    "    \n",
    "    # *** 5. Dump .txt of trees and leaves with decisions if desired\n",
    "    if (_saveModel):\n",
    "        model.dump_model('gridTree.{0}.txt'.format(_modelName))\n",
    "        pickle.dump(model, open('grid-model.{0}.pkl'.format(_modelName), 'wb'))\n",
    "\n",
    "        # Make a visual of decision tree\n",
    "        #xgb.plot_tree(model,num_trees=1)\n",
    "    \n",
    "    \n",
    "    return model"
   ]
  },
  {
   "cell_type": "code",
   "execution_count": 28,
   "metadata": {},
   "outputs": [],
   "source": [
    "def plotBDTOutputAndTree(_model, _modelName, _signalData, _signalLabels, _bkgData, _bkgLabels, _savePlots=False):\n",
    "    \"\"\"make plots of BDT outputs for signal+background probabilities and tree plot\"\"\"\n",
    "    \n",
    "    # *** 1. Make some 1D histograms of signal decision outputs\n",
    "    signal_DMatrix = xgb.DMatrix(_signalData, label=_signalLabels)\n",
    "    preds_signal = _model.predict(signal_DMatrix)\n",
    "    sig_pred_isBkg     = [x[0] for x in preds_signal]\n",
    "    sig_pred_isSignal  = [x[1] for x in preds_signal]\n",
    "    #plt.hist(preds_hh)\n",
    "\n",
    "    # *** 2. Make some 1D histograms of background decision outputs\n",
    "    bkg_DMatrix = xgb.DMatrix(_bkgData, label=_bkgLabels)\n",
    "    preds_bkg = _model.predict(bkg_DMatrix)\n",
    "    bkg_pred_isBkg    = [x[0] for x in preds_bkg]\n",
    "    bkg_pred_isSignal = [x[1] for x in preds_bkg]\n",
    "    #plt.hist(preds_qcd)\n",
    "    \n",
    "    # *** 3. Plot feature importance\n",
    "    if(_savePlots):\n",
    "        xgb.plot_importance(_model)\n",
    "        _fig = plt.gcf()\n",
    "        _scope    = _modelName.split(' ')[0].lower()\n",
    "        _variable = 'featureImportance'\n",
    "        _filename  = _scope + '_' + _variable\n",
    "        _fig.savefig( _filename+'.png', bbox_inches='tight' )\n",
    "    \n",
    "    # *** 4. Make dict for plotting with borrowed functions\n",
    "    _nBins = 40\n",
    "    predictionResults = {'hh_pred_isSignal':sig_pred_isSignal, 'hh_pred_isBkg':sig_pred_isBkg, 'qcd_pred_isSignal':bkg_pred_isSignal, 'qcd_pred_isBkg':bkg_pred_isBkg,}\n",
    "    compareManyHistograms( predictionResults, ['hh_pred_isSignal', 'qcd_pred_isSignal'], 2, 'Signal Prediction', 'BDT Score ({0})'.format(_modelName), 0, 1, _nBins, _normed=True, _savePlot=_savePlots )\n",
    "    compareManyHistograms( predictionResults, ['hh_pred_isBkg', 'qcd_pred_isBkg'], 2, 'Bkg Prediction', 'BDT Score ({0})'.format(_modelName), 0, 1, _nBins, _normed=True, _savePlot=_savePlots )\n",
    "    xgb.plot_importance(_model)\n",
    "\n",
    "    # *** 5. Make plot of 0th tree\n",
    "    #xgb.plot_tree(_model,num_trees=0)\n",
    "    #plt.gcf().set_size_inches(100, 67)\n",
    "    #_fig = plt.gcf()\n",
    "    #plt.show()\n",
    "    \n",
    "    #if(_savePlots):\n",
    "    #    _variable = 'firstTrainedDecisionTree'\n",
    "    #    _filename  = _scope + '_' + _variable\n",
    "    #    _fig.savefig( _filename+'.png' )\n",
    "        \n",
    "    # *** 6. restore figure defaults\n",
    "    plt.rcParams['figure.figsize'] = [6.4, 4.8]\n",
    "\n",
    "    \n",
    "    return\n"
   ]
  },
  {
   "cell_type": "code",
   "execution_count": 22,
   "metadata": {},
   "outputs": [],
   "source": [
    "def makeDatasetsAndTrainModel(_modelName, _variables, _testingFraction, _signalDF, _bkgDF, _makePlots=False, _runGridOpt=False):\n",
    "\n",
    "    print(\"####### {0} #######\".format(_modelName))\n",
    "    # get datasets for testing and training\n",
    "    _data_train, _data_test, _labels_train, _labels_test = makeTestTrainSamplesWithUserVariables(_signalDF.copy(), _bkgDF.copy(), _variables, _testingFraction)\n",
    "    # get hh and qcd split testing data\n",
    "    _data_signal_test, _labels_signal_test, _data_bkg_test, _labels_bkg_test = returnTestSamplesSplitIntoSignalAndBackground(_data_test, _labels_test)\n",
    "    # train model\n",
    "    _model = setupAndTrainBDT(_data_train, _labels_train, _maxDepth=8, _eta=0.3)\n",
    "    # do some plotting\n",
    "    if _makePlots:\n",
    "        plotBDTOutputAndTree(_model, _modelName, _data_signal_test, _labels_signal_test, _data_bkg_test, _labels_bkg_test, _savePlots=False)\n",
    "    \n",
    "    # run grid optimization\n",
    "    if _runGridOpt:\n",
    "        _model_gridOpt = setupGridAndTrainBDT( _modelName, _data_train, _labels_train, _saveModel=True)\n",
    "        plotBDTOutputAndTree(_model_gridOpt, 'grid_'+_modelName, _data_signal_test, _labels_signal_test, _data_bkg_test, _labels_bkg_test, _savePlots=False)\n",
    "        return _model_gridOpt\n",
    "    \n",
    "    \n",
    "    return _model"
   ]
  },
  {
   "cell_type": "code",
   "execution_count": 27,
   "metadata": {},
   "outputs": [],
   "source": [
    "#########################################3\n",
    "testingFraction = 0.3\n",
    "\n",
    "# *** 1. Train model with h1, h2, hh mass variables\n",
    "variables_massesOnly = ['hh_mass', 'h1_mass', 'h2_mass']\n",
    "makeDatasetsAndTrainModel( 'massesOnly', variables_massesOnly, testingFraction, hh_raw.copy(), qcd_raw.copy(), _makePlots=True )\n",
    "\n",
    "# *** 2. Make mix of dihiggs and QCD for only anglular-basis jet info (pt, eta, phi, mass) \n",
    "jetLabels = ['1','2','3','4']\n",
    "jetVariables = ['pt', 'eta', 'phi', 'mass']\n",
    "variables_angularJetInfo = ['recoJet{0}_{1}'.format(iJetLabel, iJetVariable) for iJetLabel in jetLabels for iJetVariable in jetVariables]\n",
    "makeDatasetsAndTrainModel( 'angularJetInfo', variables_angularJetInfo, testingFraction, hh_raw.copy(), qcd_raw.copy() )\n",
    "\n",
    "# *** 3. Make mix of dihiggs and QCD for anglular+momentum basis jet info (pt, eta, phi, mass, E, px, py, pz)\n",
    "jetVariables = ['pt', 'eta', 'phi', 'mass', 'px', 'py', 'pz', 'energy']\n",
    "variables_allJetInfo = ['recoJet{0}_{1}'.format(iJetLabel, iJetVariable) for iJetLabel in jetLabels for iJetVariable in jetVariables]\n",
    "makeDatasetsAndTrainModel( 'allJetInfo', variables_allJetInfo, testingFraction, hh_raw.copy(), qcd_raw.copy() )\n",
    "\n",
    "# *** 4. Make mix of dihiggs and QCD for all variables\n",
    "variables_all = list(hh_raw.columns)\n",
    "variables_all.remove('isSignal') # don't want to pass answer to as part of data\n",
    "makeDatasetsAndTrainModel( 'allVars', variables_all, testingFraction, hh_raw.copy(), qcd_raw.copy() )\n",
    "\n",
    "# *** 5. Make mix of dihiggs and QCD for h1, h2, hh deltaR variables\n",
    "variables_deltaROnly = ['deltaR(h1, h2)', 'deltaR(h1 jets)', 'deltaR(h2 jets)']\n",
    "makeDatasetsAndTrainModel( 'deltaROnly', variables_deltaROnly, testingFraction, hh_raw.copy(), qcd_raw.copy() )\n"
   ]
  },
  {
   "cell_type": "code",
   "execution_count": null,
   "metadata": {},
   "outputs": [],
   "source": [
    "# 6. Use grid optimization to trail models\n",
    "grid_massesOnly = makeDatasetsAndTrainModel( 'massesOnly', variables_massesOnly, testingFraction, hh_raw.copy(), qcd_raw.copy(), _makePlots=True, _runGridOpt=True )\n",
    "grid_angularJetInfo = makeDatasetsAndTrainModel( 'angularJetInfo', variables_angularJetInfo, testingFraction, hh_raw.copy(), qcd_raw.copy(), _makePlots=True, _runGridOpt=True )\n",
    "grid_allJetInfo = makeDatasetsAndTrainModel( 'allJetInfo', variables_allJetInfo, testingFraction, hh_raw.copy(), qcd_raw.copy(), _makePlots=True, _runGridOpt=True )\n",
    "grid_allVariables = makeDatasetsAndTrainModel( 'allVars', variables_all, testingFraction, hh_raw.copy(), qcd_raw.copy(), _makePlots=True, _runGridOpt=True )\n",
    "grid_deltaROnly = makeDatasetsAndTrainModel( 'deltaROnly', variables_deltaROnly, testingFraction, hh_raw.copy(), qcd_raw.copy(), _makePlots=True, _runGridOpt=True )\n",
    "grid_top10 = makeDatasetsAndTrainModel( 'top10', variables_top10, testingFraction, hh_raw.copy(), qcd_raw.copy(), _makePlots=True, _runGridOpt=True )\n"
   ]
  },
  {
   "cell_type": "code",
   "execution_count": 29,
   "metadata": {},
   "outputs": [
    {
     "name": "stdout",
     "output_type": "stream",
     "text": [
      "####### top10 #######\n",
      "N_sig = 78876 , N_bkg = 116481\n",
      "195357 rows of total data with  195357 labels [Train+Test]\n",
      "136749 rows of training data with  136749 labels [Train]\n",
      "58608 rows of testing data with  58608 labels [Test]\n",
      "Precision = 0.7813817470734646\n",
      "Recall = 0.7705982473253266\n",
      "Accuracy = 0.7867885435709933\n",
      "0.6078600254500088 0.9998605253640562\n",
      "0.29772413769956074 1.0003762245178223\n"
     ]
    },
    {
     "data": {
      "image/png": "[encoded data removed]",
      "text/plain": [
       "<Figure size 460.8x345.6 with 1 Axes>"
      ]
     },
     "metadata": {
      "needs_background": "light"
     },
     "output_type": "display_data"
    },
    {
     "name": "stdout",
     "output_type": "stream",
     "text": [
      "0.3921400067779359 0.9998605261789635\n",
      "0.7022758670973417 1.0003762246305996\n"
     ]
    },
    {
     "data": {
      "image/png": "[encoded data removed]",
      "text/plain": [
       "<Figure size 460.8x345.6 with 1 Axes>"
      ]
     },
     "metadata": {
      "needs_background": "light"
     },
     "output_type": "display_data"
    },
    {
     "data": {
      "image/png": "[encoded data removed]",
      "text/plain": [
       "<Figure size 460.8x345.6 with 1 Axes>"
      ]
     },
     "metadata": {
      "needs_background": "light"
     },
     "output_type": "display_data"
    }
   ],
   "source": [
    "# *** 7. Train model for top-11 optimal variables\n",
    "variables_top11 = ['deltaR(h1, h2)', 'deltaR(h1 jets)', 'deltaR(h2 jets)', 'hh_mass', 'h1_mass', 'h2_mass','hh_pt', 'h1_pt', 'h2_pt', 'scalarHT', 'jet4_pt']\n",
    "makeDatasetsAndTrainModel( 'top11', variables_top11, testingFraction, hh_raw.copy(), qcd_raw.copy(), _makePlots=True )\n",
    "\n",
    "# *** 8. Train model for top-10 optimal variables\n",
    "variables_top10 = ['deltaR(h1, h2)', 'deltaR(h1 jets)', 'deltaR(h2 jets)', 'hh_mass', 'h1_mass', 'h2_mass','hh_pt', 'h1_pt', 'h2_pt', 'scalarHT']\n",
    "makeDatasetsAndTrainModel( 'top10', variables_top10, testingFraction, hh_raw.copy(), qcd_raw.copy(), _makePlots=True )\n",
    "\n",
    "# *** 9. Train model for top-7 optimal variables\n",
    "variables_top7 = ['deltaR(h1, h2)', 'deltaR(h1 jets)', 'deltaR(h2 jets)', 'hh_mass', 'h1_mass', 'h2_mass', 'scalarHT']\n",
    "makeDatasetsAndTrainModel( 'top7', variables_top7, testingFraction, hh_raw.copy(), qcd_raw.copy(), _makePlots=True )\n",
    "\n",
    "# *** 10. Train model for top-6 optimal variables\n",
    "variables_top6 = ['deltaR(h1, h2)', 'deltaR(h1 jets)', 'deltaR(h2 jets)', 'h1_mass', 'h2_mass', 'scalarHT']\n",
    "makeDatasetsAndTrainModel( 'top6', variables_top6, testingFraction, hh_raw.copy(), qcd_raw.copy(), _makePlots=True )\n"
   ]
  },
  {
   "cell_type": "code",
   "execution_count": null,
   "metadata": {},
   "outputs": [],
   "source": []
  },
  {
   "cell_type": "code",
   "execution_count": 53,
   "metadata": {},
   "outputs": [
    {
     "name": "stdout",
     "output_type": "stream",
     "text": [
      "N_sig = 78876 , N_bkg = 116481\n",
      "195357 rows of total data with  195357 labels [Train+Test]\n",
      "136749 rows of training data with  136749 labels [Train]\n",
      "58608 rows of testing data with  58608 labels [Test]\n"
     ]
    },
    {
     "name": "stderr",
     "output_type": "stream",
     "text": [
      "/home/btannenw/.local/lib/python3.7/site-packages/xgboost/core.py:587: FutureWarning: Series.base is deprecated and will be removed in a future version\n",
      "  if getattr(data, 'base', None) is not None and \\\n"
     ]
    },
    {
     "name": "stdout",
     "output_type": "stream",
     "text": [
      "23729 34879\n",
      "nSig = 545.9659199999999 , nBkg = 498424.848 with significance = 0.7733314841634142 for BDT score > 0.6269413259896365\n",
      "N_sig = 78876 , N_bkg = 116481\n",
      "195357 rows of total data with  195357 labels [Train+Test]\n",
      "136749 rows of training data with  136749 labels [Train]\n",
      "58608 rows of testing data with  58608 labels [Test]\n",
      "23642 34966\n",
      "nSig = 451.41191999999995 , nBkg = 355260.26399999997 with significance = 0.7573553642100149 for BDT score > 0.8242802571768713\n",
      "N_sig = 78876 , N_bkg = 116481\n",
      "195357 rows of total data with  195357 labels [Train+Test]\n",
      "136749 rows of training data with  136749 labels [Train]\n",
      "58608 rows of testing data with  58608 labels [Test]\n",
      "23607 35001\n",
      "nSig = 672.1120799999999 , nBkg = 1146642.27 with significance = 0.6276647329398481 for BDT score > 0.5955395192810984\n"
     ]
    }
   ],
   "source": [
    "def loadModelAndCalculateSignifiance(_modelPath, _modelName, _testingFraction, _signalDF, _bkgDF):\n",
    "    \n",
    "    # *** A. Load model\n",
    "    _loadedModel = pickle.load(open(_modelPath, 'rb'))\n",
    "   \n",
    "    # *** B. Get datasets for testing and training\n",
    "    _data_train, _data_test, _labels_train, _labels_test = makeTestTrainSamplesWithUserVariables(_signalDF.copy(), _bkgDF.copy(), _loadedModel.feature_names, _testingFraction)\n",
    "\n",
    "    # *** C. Split hh and qcd from testing data\n",
    "    _data_signal_test, _labels_signal_test, _data_bkg_test, _labels_bkg_test = returnTestSamplesSplitIntoSignalAndBackground(_data_test, _labels_test)\n",
    "\n",
    "    # *** D. Plot output BDT predictions\n",
    "    #plotBDTOutputAndTree(_loadedModel, _modelName, _data_signal_test, _labels_signal_test, _data_bkg_test, _labels_bkg_test, _savePlots=True)\n",
    "\n",
    "    # *** E. Make predictions \n",
    "    _sig_DMatrix = xgb.DMatrix(_data_signal_test, label=_labels_signal_test)\n",
    "    _preds_sig   = _loadedModel.predict(_sig_DMatrix)\n",
    "    _bkg_DMatrix = xgb.DMatrix(_data_bkg_test, label=_labels_bkg_test)\n",
    "    _preds_bkg   = _loadedModel.predict(_bkg_DMatrix)\n",
    "\n",
    "    _sig_pred_isSignal   = [x[1] for x in _preds_sig]\n",
    "    _bkg_pred_isSignal  = [x[1] for x in _preds_bkg]\n",
    "\n",
    "    # *** F. Calculate significance \n",
    "    returnBestCutValue('BDT', _sig_pred_isSignal.copy(), _bkg_pred_isSignal.copy(), _minBackground=200)\n",
    "    \n",
    "    return\n",
    "\n",
    "###########################################\n",
    "# Load Models and Calculate significance\n",
    "loadModelAndCalculateSignifiance('models/grid-model.top10.pkl', 'grid_top10', testingFraction, hh_raw.copy(), qcd_raw.copy() )\n",
    "loadModelAndCalculateSignifiance('models/model.top10.pkl', 'top10', testingFraction, hh_raw.copy(), qcd_raw.copy() )\n",
    "loadModelAndCalculateSignifiance('models/grid-model.massesOnly.pkl', 'grid_massesOnly', testingFraction, hh_raw.copy(), qcd_raw.copy() )"
   ]
  },
  {
   "cell_type": "code",
   "execution_count": 32,
   "metadata": {},
   "outputs": [
    {
     "data": {
      "text/plain": [
       "['deltaR(h1, h2)',\n",
       " 'deltaR(h1 jets)',\n",
       " 'deltaR(h2 jets)',\n",
       " 'hh_mass',\n",
       " 'h1_mass',\n",
       " 'h2_mass',\n",
       " 'hh_pt',\n",
       " 'h1_pt',\n",
       " 'h2_pt',\n",
       " 'scalarHT']"
      ]
     },
     "execution_count": 32,
     "metadata": {},
     "output_type": "execute_result"
    }
   ],
   "source": [
    "load.feature_names"
   ]
  },
  {
   "cell_type": "code",
   "execution_count": null,
   "metadata": {},
   "outputs": [],
   "source": []
  },
  {
   "cell_type": "code",
   "execution_count": null,
   "metadata": {},
   "outputs": [],
   "source": []
  },
  {
   "cell_type": "code",
   "execution_count": null,
   "metadata": {},
   "outputs": [],
   "source": []
  }
 ],
 "metadata": {
  "kernelspec": {
   "display_name": "Python 3",
   "language": "python",
   "name": "python3"
  },
  "language_info": {
   "codemirror_mode": {
    "name": "ipython",
    "version": 3
   },
   "file_extension": ".py",
   "mimetype": "text/x-python",
   "name": "python",
   "nbconvert_exporter": "python",
   "pygments_lexer": "ipython3",
   "version": "3.7.4"
  }
 },
 "nbformat": 4,
 "nbformat_minor": 2
}
