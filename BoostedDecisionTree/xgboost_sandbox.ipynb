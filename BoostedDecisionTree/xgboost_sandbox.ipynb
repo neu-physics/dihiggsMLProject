{
 "cells": [
  {
   "cell_type": "code",
   "execution_count": 1,
   "metadata": {},
   "outputs": [],
   "source": [
    "import xgboost as xgb\n",
    "import pandas as pd\n",
    "from sklearn.model_selection import train_test_split\n",
    "import matplotlib.pyplot as plt"
   ]
  },
  {
   "cell_type": "code",
   "execution_count": 2,
   "metadata": {},
   "outputs": [
    {
     "name": "stdout",
     "output_type": "stream",
     "text": [
      "78876 rows of dihiggs data Index(['hh_mass', 'h1_mass', 'h2_mass', 'hh_pt', 'h1_pt', 'h2_pt',\n",
      "       'deltaR(h1, h2)', 'deltaR(h1 jets)', 'deltaR(h2 jets)',\n",
      "       'deltaPhi(h1, h2)', 'deltaPhi(h1 jets)', 'deltaPhi(h2 jets)', 'met',\n",
      "       'met_phi', 'scalarHT', 'nJets', 'nBTags', 'isMatchable', 'jet1_pt',\n",
      "       'jet2_pt', 'jet3_pt', 'jet4_pt', 'jet1_eta', 'jet2_eta', 'jet3_eta',\n",
      "       'jet4_eta', 'jet1_phi', 'jet2_phi', 'jet3_phi', 'jet4_phi', 'jet1_mass',\n",
      "       'jet2_mass', 'jet3_mass', 'jet4_mass', 'jet1_px', 'jet2_px', 'jet3_px',\n",
      "       'jet4_px', 'jet1_py', 'jet2_py', 'jet3_py', 'jet4_py', 'jet1_pz',\n",
      "       'jet2_pz', 'jet3_pz', 'jet4_pz', 'jet1_energy', 'jet2_energy',\n",
      "       'jet3_energy', 'jet4_energy', 'jet1_btag', 'jet2_btag', 'jet3_btag',\n",
      "       'jet4_btag', 'isSignal'],\n",
      "      dtype='object')\n",
      "29176 rows of qcd data Index(['hh_mass', 'h1_mass', 'h2_mass', 'hh_pt', 'h1_pt', 'h2_pt',\n",
      "       'deltaR(h1, h2)', 'deltaR(h1 jets)', 'deltaR(h2 jets)',\n",
      "       'deltaPhi(h1, h2)', 'deltaPhi(h1 jets)', 'deltaPhi(h2 jets)', 'met',\n",
      "       'met_phi', 'scalarHT', 'nJets', 'nBTags', 'isMatchable', 'jet1_pt',\n",
      "       'jet2_pt', 'jet3_pt', 'jet4_pt', 'jet1_eta', 'jet2_eta', 'jet3_eta',\n",
      "       'jet4_eta', 'jet1_phi', 'jet2_phi', 'jet3_phi', 'jet4_phi', 'jet1_mass',\n",
      "       'jet2_mass', 'jet3_mass', 'jet4_mass', 'jet1_px', 'jet2_px', 'jet3_px',\n",
      "       'jet4_px', 'jet1_py', 'jet2_py', 'jet3_py', 'jet4_py', 'jet1_pz',\n",
      "       'jet2_pz', 'jet3_pz', 'jet4_pz', 'jet1_energy', 'jet2_energy',\n",
      "       'jet3_energy', 'jet4_energy', 'jet1_btag', 'jet2_btag', 'jet3_btag',\n",
      "       'jet4_btag', 'isSignal'],\n",
      "      dtype='object')\n",
      "40000 rows of data with  40000 labels [BDT]\n",
      "9176 rows of dihiggs data with  9176 rows of qcd [Plots]\n"
     ]
    },
    {
     "data": {
      "image/png": "[encoded data removed]",
      "text/plain": [
       "<Figure size 432x288 with 1 Axes>"
      ]
     },
     "metadata": {
      "needs_background": "light"
     },
     "output_type": "display_data"
    },
    {
     "data": {
      "image/png": "[encoded data removed]",
      "text/plain": [
       "<Figure size 432x288 with 1 Axes>"
      ]
     },
     "metadata": {
      "needs_background": "light"
     },
     "output_type": "display_data"
    }
   ],
   "source": [
    "# *** 0. Import Dataset\n",
    "qcd_raw = pd.read_csv('../samples_500k/qcd_outputDataForLearning.csv')\n",
    "hh_raw = pd.read_csv('../samples_500k/dihiggs_outputDataForLearning.csv')\n",
    "\n",
    "hh_raw.head()\n",
    "hh_raw['isSignal'] = 1\n",
    "print(len(hh_raw), \"rows of dihiggs data\", hh_raw.columns)\n",
    "#print( print(hh_raw.loc[[10]]))\n",
    "\n",
    "qcd_raw.head()\n",
    "qcd_raw['isSignal'] = 0\n",
    "print(len(qcd_raw), \"rows of qcd data\", qcd_raw.columns)\n",
    "\n",
    "variableNames = ['hh_mass', 'h1_mass', 'h2_mass']\n",
    "#variableNames = ['deltaR(h1, h2)', 'deltaR(h1 jets)', 'deltaR(h2 jets)']\n",
    "#variableNames = ['hh_mass', 'h1_mass', 'h2_mass', 'deltaR(h1, h2)', 'deltaR(h1 jets)', 'deltaR(h2 jets)']\n",
    "#print(hh_reducedData.columns, variableNames[0])\n",
    "\n",
    "# *** 1. Make mix of dihiggs and QCD \n",
    "hh_reducedData  = hh_raw[variableNames]\n",
    "qcd_reducedData = qcd_raw[variableNames]\n",
    "hh_labels  = hh_raw[ ['isSignal'] ]\n",
    "qcd_labels = qcd_raw[ ['isSignal'] ]\n",
    "\n",
    "# ** a. Get 20k Events of each \n",
    "nEventsToUse = 20000\n",
    "hh_reducedDataForBDT  = hh_reducedData[:nEventsToUse]\n",
    "qcd_reducedDataForBDT = qcd_reducedData[:nEventsToUse]\n",
    "hh_labelsForBDT       = hh_labels[:nEventsToUse]\n",
    "qcd_labelsForBDT      = qcd_labels[:nEventsToUse]\n",
    "all_reducedDataForBDT = hh_reducedDataForBDT.append(qcd_reducedDataForBDT)\n",
    "all_labelsForBDT      = hh_labelsForBDT.append(qcd_labelsForBDT)\n",
    "\n",
    "\n",
    "# ** B. Use additional 10k for unambiguous testing \n",
    "hh_reducedDataForPlots  = hh_reducedData[nEventsToUse:len(qcd_reducedData)]\n",
    "qcd_reducedDataForPlots = qcd_reducedData[nEventsToUse:len(qcd_reducedData)]\n",
    "hh_labelsForPlots       = hh_labels[nEventsToUse:len(qcd_reducedData)]\n",
    "qcd_labelsForPlots      = qcd_labels[nEventsToUse:len(qcd_reducedData)]\n",
    "\n",
    "\n",
    "hh_reducedData.hist(column=variableNames[2], bins=100)\n",
    "qcd_reducedData.hist(column=variableNames[2], bins=100)\n",
    "\n",
    "print(len(all_reducedDataForBDT), 'rows of data with ', len(all_labelsForBDT), 'labels [BDT]')\n",
    "print(len(hh_reducedDataForPlots), 'rows of dihiggs data with ', len(qcd_labelsForPlots), 'rows of qcd [Plots]')"
   ]
  },
  {
   "cell_type": "code",
   "execution_count": 3,
   "metadata": {},
   "outputs": [],
   "source": [
    "# ***9. Use equal numbers of signal and background\n",
    "\n",
    "# ***1. Split dataset into test + train, make correct input objects\n",
    "data_train, data_test, label_train, label_test = train_test_split(all_reducedDataForBDT, all_labelsForBDT, test_size=0.3)\n",
    "\n",
    "D_train = xgb.DMatrix(data_train, label=label_train)\n",
    "D_test = xgb.DMatrix(data_test, label=label_test)"
   ]
  },
  {
   "cell_type": "code",
   "execution_count": 4,
   "metadata": {},
   "outputs": [],
   "source": [
    "# ***2. Define XGB model and train\n",
    "param = {\n",
    "    'eta': 0.3, \n",
    "    'max_depth': 3,  \n",
    "    #'objective': 'reg:logistic',  \n",
    "    'objective': 'multi:softprob',  \n",
    "    'num_class': 2} \n",
    "\n",
    "steps = 5  # The number of training iterations\n",
    "\n",
    "model = xgb.train(param, D_train, steps)"
   ]
  },
  {
   "cell_type": "code",
   "execution_count": 5,
   "metadata": {},
   "outputs": [
    {
     "name": "stdout",
     "output_type": "stream",
     "text": [
      "Precision = 0.7287897620150101\n",
      "Recall = 0.7269189674661181\n",
      "Accuracy = 0.72675\n"
     ]
    }
   ],
   "source": [
    "# ***3. Evaluate model\n",
    "import numpy as np\n",
    "from sklearn.metrics import precision_score, recall_score, accuracy_score\n",
    "\n",
    "preds = model.predict(D_test)\n",
    "best_preds = np.asarray([np.argmax(line) for line in preds])\n",
    "\n",
    "print(\"Precision = {}\".format(precision_score(label_test, best_preds, average='macro')))\n",
    "print(\"Recall = {}\".format(recall_score(label_test, best_preds, average='macro')))\n",
    "print(\"Accuracy = {}\".format(accuracy_score(label_test, best_preds)))"
   ]
  },
  {
   "cell_type": "code",
   "execution_count": 11,
   "metadata": {},
   "outputs": [
    {
     "data": {
      "image/png": "[encoded data removed]",
      "text/plain": [
       "<Figure size 432x288 with 1 Axes>"
      ]
     },
     "metadata": {
      "needs_background": "light"
     },
     "output_type": "display_data"
    }
   ],
   "source": [
    "# ***0. Dump .txt of trees and leaves with decisions\n",
    "#model.dump_model('dumpTree.reduced_bdt.txt')\n",
    "\n",
    "# Make a visual of decision tree\n",
    "xgb.plot_tree(model,num_trees=0)\n",
    "#plt.rcParams['figure.figsize'] = [2000, 400]\n",
    "#plt.show()\n",
    "plt.savefig('tree0.png')\n"
   ]
  },
  {
   "cell_type": "code",
   "execution_count": 7,
   "metadata": {},
   "outputs": [
    {
     "data": {
      "text/plain": [
       "([array([   0., 4896.,  355.,  244.,  780.,  977.,  617.,  533.,  640.,\n",
       "          134.]),\n",
       "  array([ 134.,  640.,  533.,  617.,  977.,  780.,  244.,  355., 4896.,\n",
       "            0.])],\n",
       " array([0.18532063, 0.2482565 , 0.3111924 , 0.37412825, 0.43706414,\n",
       "        0.5       , 0.5629359 , 0.6258718 , 0.6888076 , 0.7517435 ,\n",
       "        0.8146794 ], dtype=float32),\n",
       " <a list of 2 Lists of Patches objects>)"
      ]
     },
     "execution_count": 7,
     "metadata": {},
     "output_type": "execute_result"
    },
    {
     "data": {
      "image/png": "[encoded data removed]",
      "text/plain": [
       "<Figure size 432x288 with 1 Axes>"
      ]
     },
     "metadata": {
      "needs_background": "light"
     },
     "output_type": "display_data"
    }
   ],
   "source": [
    "# Make some 1D histograms of decision outputs\n",
    "hh_DMatrix = xgb.DMatrix(hh_reducedDataForPlots, label=hh_labelsForPlots)\n",
    "preds_hh = model.predict(hh_DMatrix)\n",
    "plt.hist(preds_hh)"
   ]
  },
  {
   "cell_type": "code",
   "execution_count": 9,
   "metadata": {},
   "outputs": [
    {
     "data": {
      "text/plain": [
       "([array([   0.,  965.,  161.,  160.,  761., 1065., 1074., 1229., 2481.,\n",
       "         1280.]),\n",
       "  array([1280., 2481., 1229., 1074., 1065.,  761.,  160.,  161.,  965.,\n",
       "            0.])],\n",
       " array([0.18532063, 0.2482565 , 0.3111924 , 0.37412825, 0.43706414,\n",
       "        0.5       , 0.5629359 , 0.6258718 , 0.6888076 , 0.7517435 ,\n",
       "        0.8146794 ], dtype=float32),\n",
       " <a list of 2 Lists of Patches objects>)"
      ]
     },
     "execution_count": 9,
     "metadata": {},
     "output_type": "execute_result"
    },
    {
     "data": {
      "image/png": "[encoded data removed]",
      "text/plain": [
       "<Figure size 432x288 with 1 Axes>"
      ]
     },
     "metadata": {
      "needs_background": "light"
     },
     "output_type": "display_data"
    }
   ],
   "source": [
    "qcd_DMatrix = xgb.DMatrix(qcd_reducedDataForPlots, label=qcd_labelsForPlots)\n",
    "preds_qcd = model.predict(qcd_DMatrix)\n",
    "plt.hist(preds_qcd)"
   ]
  },
  {
   "cell_type": "code",
   "execution_count": null,
   "metadata": {},
   "outputs": [],
   "source": []
  },
  {
   "cell_type": "code",
   "execution_count": null,
   "metadata": {},
   "outputs": [],
   "source": []
  }
 ],
 "metadata": {
  "kernelspec": {
   "display_name": "Python 3",
   "language": "python",
   "name": "python3"
  },
  "language_info": {
   "codemirror_mode": {
    "name": "ipython",
    "version": 3
   },
   "file_extension": ".py",
   "mimetype": "text/x-python",
   "name": "python",
   "nbconvert_exporter": "python",
   "pygments_lexer": "ipython3",
   "version": "3.7.4"
  }
 },
 "nbformat": 4,
 "nbformat_minor": 2
}
