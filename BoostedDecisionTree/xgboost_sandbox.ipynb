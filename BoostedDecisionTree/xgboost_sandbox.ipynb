{
 "cells": [
  {
   "cell_type": "code",
   "execution_count": 1,
   "metadata": {},
   "outputs": [],
   "source": [
    "import xgboost as xgb\n",
    "import pandas as pd\n",
    "from sklearn.model_selection import train_test_split\n",
    "import matplotlib.pyplot as plt\n",
    "import numpy as np\n",
    "from sklearn.metrics import precision_score, recall_score, accuracy_score\n",
    "from sklearn.model_selection import GridSearchCV\n",
    "import pickle"
   ]
  },
  {
   "cell_type": "code",
   "execution_count": 2,
   "metadata": {},
   "outputs": [
    {
     "name": "stdout",
     "output_type": "stream",
     "text": [
      "78876 rows of dihiggs data Index(['hh_mass', 'h1_mass', 'h2_mass', 'hh_pt', 'h1_pt', 'h2_pt',\n",
      "       'deltaR(h1, h2)', 'deltaR(h1 jets)', 'deltaR(h2 jets)',\n",
      "       'deltaPhi(h1, h2)', 'deltaPhi(h1 jets)', 'deltaPhi(h2 jets)', 'met',\n",
      "       'met_phi', 'scalarHT', 'nJets', 'nBTags', 'jet1_pt', 'jet2_pt',\n",
      "       'jet3_pt', 'jet4_pt', 'jet1_eta', 'jet2_eta', 'jet3_eta', 'jet4_eta',\n",
      "       'jet1_phi', 'jet2_phi', 'jet3_phi', 'jet4_phi', 'jet1_mass',\n",
      "       'jet2_mass', 'jet3_mass', 'jet4_mass', 'jet1_px', 'jet2_px', 'jet3_px',\n",
      "       'jet4_px', 'jet1_py', 'jet2_py', 'jet3_py', 'jet4_py', 'jet1_pz',\n",
      "       'jet2_pz', 'jet3_pz', 'jet4_pz', 'jet1_energy', 'jet2_energy',\n",
      "       'jet3_energy', 'jet4_energy', 'jet1_btag', 'jet2_btag', 'jet3_btag',\n",
      "       'jet4_btag', 'isSignal'],\n",
      "      dtype='object')\n",
      "29176 rows of qcd data Index(['hh_mass', 'h1_mass', 'h2_mass', 'hh_pt', 'h1_pt', 'h2_pt',\n",
      "       'deltaR(h1, h2)', 'deltaR(h1 jets)', 'deltaR(h2 jets)',\n",
      "       'deltaPhi(h1, h2)', 'deltaPhi(h1 jets)', 'deltaPhi(h2 jets)', 'met',\n",
      "       'met_phi', 'scalarHT', 'nJets', 'nBTags', 'jet1_pt', 'jet2_pt',\n",
      "       'jet3_pt', 'jet4_pt', 'jet1_eta', 'jet2_eta', 'jet3_eta', 'jet4_eta',\n",
      "       'jet1_phi', 'jet2_phi', 'jet3_phi', 'jet4_phi', 'jet1_mass',\n",
      "       'jet2_mass', 'jet3_mass', 'jet4_mass', 'jet1_px', 'jet2_px', 'jet3_px',\n",
      "       'jet4_px', 'jet1_py', 'jet2_py', 'jet3_py', 'jet4_py', 'jet1_pz',\n",
      "       'jet2_pz', 'jet3_pz', 'jet4_pz', 'jet1_energy', 'jet2_energy',\n",
      "       'jet3_energy', 'jet4_energy', 'jet1_btag', 'jet2_btag', 'jet3_btag',\n",
      "       'jet4_btag', 'isSignal'],\n",
      "      dtype='object')\n"
     ]
    },
    {
     "data": {
      "text/plain": [
       "array([[<matplotlib.axes._subplots.AxesSubplot object at 0x7fc5564c9590>]],\n",
       "      dtype=object)"
      ]
     },
     "execution_count": 2,
     "metadata": {},
     "output_type": "execute_result"
    },
    {
     "data": {
      "image/png": "[encoded data removed]",
      "text/plain": [
       "<Figure size 432x288 with 1 Axes>"
      ]
     },
     "metadata": {
      "needs_background": "light"
     },
     "output_type": "display_data"
    },
    {
     "data": {
      "image/png": "[encoded data removed]",
      "text/plain": [
       "<Figure size 432x288 with 1 Axes>"
      ]
     },
     "metadata": {
      "needs_background": "light"
     },
     "output_type": "display_data"
    }
   ],
   "source": [
    "# *** 0. Import Dataset\n",
    "qcd_raw = pd.read_csv('../samples_500k/qcd_outputDataForLearning.csv')\n",
    "hh_raw = pd.read_csv('../samples_500k/dihiggs_outputDataForLearning.csv')\n",
    "\n",
    "hh_raw.head()\n",
    "hh_raw['isSignal'] = 1\n",
    "hh_raw = hh_raw.drop('isMatchable', 1)\n",
    "print(len(hh_raw), \"rows of dihiggs data\", hh_raw.columns)\n",
    "#print( print(hh_raw.loc[[10]]))\n",
    "\n",
    "qcd_raw.head()\n",
    "qcd_raw['isSignal'] = 0\n",
    "qcd_raw = qcd_raw.drop('isMatchable', 1)\n",
    "print(len(qcd_raw), \"rows of qcd data\", qcd_raw.columns)\n",
    "\n",
    "variableNames = ['hh_mass', 'h1_mass', 'h2_mass']\n",
    "#variableNames = ['deltaR(h1, h2)', 'deltaR(h1 jets)', 'deltaR(h2 jets)']\n",
    "#variableNames = ['hh_mass', 'h1_mass', 'h2_mass', 'deltaR(h1, h2)', 'deltaR(h1 jets)', 'deltaR(h2 jets)']\n",
    "\n",
    "hh_raw.hist(column=variableNames[2], bins=100)\n",
    "qcd_raw.hist(column=variableNames[2], bins=100)\n"
   ]
  },
  {
   "cell_type": "code",
   "execution_count": 3,
   "metadata": {},
   "outputs": [],
   "source": [
    "def makeEqualSamplesWithUserVariables(signal_raw, bkg_raw, userVariables, nEventsForXGB):\n",
    "    \"\"\"function to return 4 dataframes containing user-specified variables and number of events: 1 signal for training, 1 bkg for training, 1 signal for plotting, 1 bkg for plotting\"\"\"\n",
    "    \n",
    "    # *** 0. Reduce dataframes to only desired variables\n",
    "    signal_reduced  = signal_raw[userVariables]\n",
    "    bkg_reduced     = bkg_raw[userVariables]\n",
    "    signal_labels   = signal_raw[ ['isSignal'] ]\n",
    "    bkg_labels      = bkg_raw[ ['isSignal'] ]\n",
    "\n",
    "    # *** 1. Take first nEventsForXGB events for passing to XGB \n",
    "    signal_reducedForXGB  = signal_reduced[:nEventsForXGB]\n",
    "    bkg_reducedForXGB     = bkg_reduced[:nEventsForXGB]\n",
    "    signal_labelsForXGB   = signal_labels[:nEventsForXGB]\n",
    "    bkg_labelsForXGB      = bkg_labels[:nEventsForXGB]\n",
    "\n",
    "    # *** 2. Combine bkg+signal for passing to XGB \n",
    "    all_reducedForXGB  = signal_reducedForXGB.append(bkg_reducedForXGB)\n",
    "    all_labelsForXGB   = signal_labelsForXGB.append(bkg_labelsForXGB)\n",
    "\n",
    "    \n",
    "    # ** 3. Use additional events for unambiguous testing \n",
    "    signal_reducedForPlots  = signal_reduced[nEventsForXGB:len(bkg_reduced)]\n",
    "    bkg_reducedForPlots     = bkg_reduced[nEventsForXGB:len(bkg_reduced)]\n",
    "    signal_labelsForPlots   = signal_labels[nEventsForXGB:len(bkg_reduced)]\n",
    "    bkg_labelsForPlots      = bkg_labels[nEventsForXGB:len(bkg_reduced)]\n",
    "\n",
    "    # *** 4. Sanity check\n",
    "    print(len(all_reducedForXGB), 'rows of data with ', len(all_labelsForXGB), 'labels [XGB]')\n",
    "    print(len(signal_reducedForPlots), 'rows of signal data with ', len(bkg_labelsForPlots), 'rows of background [Plots]')\n",
    "\n",
    "    \n",
    "    return all_reducedForXGB, all_labelsForXGB, signal_reducedForPlots, signal_labelsForPlots, bkg_reducedForPlots, bkg_labelsForPlots"
   ]
  },
  {
   "cell_type": "code",
   "execution_count": 4,
   "metadata": {},
   "outputs": [],
   "source": [
    "def setupAndTrainBDT(all_data, all_labels, _testSize=0.3, _saveModel=False, _maxDepth=3, _eta=0.3, _modelName='reduced_bdt'):\n",
    "    \"\"\"setup and train BDT\"\"\"\n",
    "    \n",
    "    # *** 1. Split dataset into test + train, make correct input objects\n",
    "    data_train, data_test, label_train, label_test = train_test_split(all_data, all_labels, test_size=_testSize)\n",
    "\n",
    "    D_train = xgb.DMatrix(data_train, label=label_train)\n",
    "    D_test = xgb.DMatrix(data_test, label=label_test)\n",
    "    \n",
    "    # *** 2. Define XGB model \n",
    "    param = {\n",
    "        'eta': _eta, \n",
    "        'max_depth': _maxDepth,  \n",
    "        'objective': 'multi:softprob',  \n",
    "        #'objective': 'reg:logistic',  \n",
    "        #'objective': 'binary:logistic',\n",
    "        'num_class': 2} \n",
    "\n",
    "    steps = 5  # The number of training iterations\n",
    "\n",
    "    # *** 3. Train model \n",
    "    model = xgb.train(param, D_train, steps)\n",
    "    \n",
    "    # *** 4. Evaluate model\n",
    "    preds = model.predict(D_test)\n",
    "    best_preds = np.asarray([np.argmax(line) for line in preds])\n",
    "\n",
    "    print(\"Precision = {}\".format(precision_score(label_test, best_preds, average='macro')))\n",
    "    print(\"Recall = {}\".format(recall_score(label_test, best_preds, average='macro')))\n",
    "    print(\"Accuracy = {}\".format(accuracy_score(label_test, best_preds)))\n",
    "    \n",
    "    # *** 5. Dump .txt of trees and leaves with decisions if desired\n",
    "    if (_saveModel):\n",
    "        model.dump_model('tree.{0}.txt'.format(_modelName))\n",
    "        pickle.dump(model, open('model.{0}.pkl'.format(_modelName), 'wb'))\n",
    "        # Make a visual of decision tree\n",
    "        #xgb.plot_tree(model,num_trees=1)\n",
    "        #plt.rcParams['figure.figsize'] = [2000, 400]\n",
    "        #plt.show()\n",
    "        #plt.savefig('tree0.png')\n",
    "    \n",
    "    \n",
    "    return model\n",
    "\n",
    "def setupGridAndTrainBDT(_modelName, all_data, all_labels, _testSize=0.3, _saveModel=False):\n",
    "    \"\"\"setup and train using grid of hyperparameters BDT\"\"\"\n",
    "    \n",
    "    # *** 1. Split dataset into test + train, make correct input objects\n",
    "    data_train, data_test, label_train, label_test = train_test_split(all_data, all_labels, test_size=_testSize)\n",
    "\n",
    "    D_train = xgb.DMatrix(data_train, label=label_train)\n",
    "    D_test = xgb.DMatrix(data_test, label=label_test)\n",
    "    \n",
    "    # *** 2. Define XGB hyper-parameter grid \n",
    "    parameters = {\n",
    "        \"eta\"    : [0.05, 0.10, 0.15, 0.20, 0.25, 0.30 ] ,\n",
    "        \"max_depth\"        : [ 3, 4, 5, 6, 8, 10, 12, 15],\n",
    "        #\"min_child_weight\" : [ 1, 3, 5, 7 ],\n",
    "        #\"gamma\"            : [ 0.0, 0.1, 0.2 , 0.3, 0.4 ],\n",
    "        #\"colsample_bytree\" : [ 0.3, 0.4, 0.5 , 0.7 ]\n",
    "        \"objective\": [\"multi:softprob\"],\n",
    "        \"num_class\": [2]\n",
    "        }\n",
    "\n",
    "    steps = 5  # The number of training iterations\n",
    "\n",
    "    # *** 3. Perform grid optimization \n",
    "    clf = xgb.XGBClassifier()\n",
    "    grid = GridSearchCV(clf,\n",
    "                        parameters, n_jobs=4,\n",
    "                        #scoring=\"neg_log_loss\",\n",
    "                        scoring=\"f1\",\n",
    "                        cv=3,\n",
    "                        verbose = 3)\n",
    "\n",
    "    grid_result = grid.fit(data_train, label_train)\n",
    "    best_params = grid_result.best_params_\n",
    "    print(best_params, type(best_params))\n",
    "    \n",
    "    # *** 4. Train model \n",
    "    model = xgb.train( best_params, D_train, steps)\n",
    "    \n",
    "    \n",
    "    # *** 5. Evaluate model\n",
    "    preds = model.predict(D_test)\n",
    "    best_preds = np.asarray([np.argmax(line) for line in preds])\n",
    "\n",
    "    print(\"Precision = {}\".format(precision_score(label_test, best_preds, average='macro')))\n",
    "    print(\"Recall = {}\".format(recall_score(label_test, best_preds, average='macro')))\n",
    "    print(\"Accuracy = {}\".format(accuracy_score(label_test, best_preds)))\n",
    "    \n",
    "    # *** 5. Dump .txt of trees and leaves with decisions if desired\n",
    "    if (_saveModel):\n",
    "        model.dump_model('gridTree.{0}.txt'.format(_modelName))\n",
    "        pickle.dump(model, open('grid-model.{0}.pkl'.format(_modelName), 'wb'))\n",
    "\n",
    "        # Make a visual of decision tree\n",
    "        #xgb.plot_tree(model,num_trees=1)\n",
    "    \n",
    "    \n",
    "    return model"
   ]
  },
  {
   "cell_type": "code",
   "execution_count": 5,
   "metadata": {},
   "outputs": [],
   "source": [
    "def plotBDTOutputAndTree(_model, _modelName, _signalData, _signalLabels, _bkgData, _bkgLabels, _savePlots=False):\n",
    "    \"\"\"make plots of BDT outputs for signal+background probabilities and tree plot\"\"\"\n",
    "    \n",
    "    # *** 1. Make some 1D histograms of signal decision outputs\n",
    "    signal_DMatrix = xgb.DMatrix(_signalData, label=_signalLabels)\n",
    "    preds_signal = _model.predict(signal_DMatrix)\n",
    "    sig_pred_isBkg     = [x[0] for x in preds_signal]\n",
    "    sig_pred_isSignal  = [x[1] for x in preds_signal]\n",
    "    #plt.hist(preds_hh)\n",
    "\n",
    "    # *** 2. Make some 1D histograms of background decision outputs\n",
    "    bkg_DMatrix = xgb.DMatrix(_bkgData, label=_bkgLabels)\n",
    "    preds_bkg = _model.predict(bkg_DMatrix)\n",
    "    bkg_pred_isBkg    = [x[0] for x in preds_bkg]\n",
    "    bkg_pred_isSignal = [x[1] for x in preds_bkg]\n",
    "    #plt.hist(preds_qcd)\n",
    "\n",
    "    # *** 3. Plot feature importance\n",
    "    if(_savePlots):\n",
    "        xgb.plot_importance(_model)\n",
    "        _fig = plt.gcf()\n",
    "        _scope    = _modelName.split(' ')[0].lower()\n",
    "        _variable = 'featureImportance'\n",
    "        _filename  = _scope + '_' + _variable\n",
    "        _fig.savefig( _filename+'.png', bbox_inches='tight' )\n",
    "    \n",
    "    # *** 4. Make dict for plotting with borrowed functions\n",
    "    _nBins = 40\n",
    "    predictionResults = {'hh_pred_isSignal':sig_pred_isSignal, 'hh_pred_isBkg':sig_pred_isBkg, 'qcd_pred_isSignal':bkg_pred_isSignal, 'qcd_pred_isBkg':bkg_pred_isBkg,}\n",
    "    compareManyHistograms( predictionResults, ['hh_pred_isSignal', 'qcd_pred_isSignal'], 2, 'Signal Prediction', 'BDT Score ({0})'.format(_modelName), 0, 1, _nBins, _savePlot=_savePlots )\n",
    "    compareManyHistograms( predictionResults, ['hh_pred_isBkg', 'qcd_pred_isBkg'], 2, 'Bkg Prediction', 'BDT Score ({0})'.format(_modelName), 0, 1, _nBins, _savePlot=_savePlots )\n",
    "\n",
    "    # *** 5. Make plot of 0th tree\n",
    "    #xgb.plot_tree(_model,num_trees=0)\n",
    "    #plt.gcf().set_size_inches(100, 67)\n",
    "    #_fig = plt.gcf()\n",
    "    #plt.show()\n",
    "    \n",
    "    #if(_savePlots):\n",
    "    #    _variable = 'firstTrainedDecisionTree'\n",
    "    #    _filename  = _scope + '_' + _variable\n",
    "    #    _fig.savefig( _filename+'.png' )\n",
    "        \n",
    "    # *** 6. restore figure defaults\n",
    "    plt.rcParams['figure.figsize'] = [6.4, 4.8]\n",
    "\n",
    "    \n",
    "    return\n",
    "\n",
    "\n",
    "\n",
    "def compareManyHistograms( _dict, _labels, _nPlot, _title, _xtitle, _xMin, _xMax, _nBins, _normed=False, _savePlot=False):\n",
    "       \n",
    "    if len(_dict.keys()) < len(_labels):\n",
    "        print (\"!!! Unequal number of arrays and labels. Learn to count better.\")\n",
    "        return 0\n",
    "    \n",
    "    plt.figure(_nPlot)\n",
    "    if _normed:\n",
    "        plt.title(_title + ' (Normalized)')\n",
    "    else:\n",
    "        plt.title(_title)\n",
    "    plt.xlabel(_xtitle)\n",
    "    plt.ylabel('N_events')\n",
    "    _bins = np.linspace(_xMin, _xMax, _nBins)\n",
    "   \n",
    "    y_max = 0\n",
    "    for iLabel in _labels:\n",
    "        plt.hist(_dict[iLabel], _bins, alpha=0.5, density=_normed, label= iLabel+' Events')\n",
    "        \n",
    "        # get values of histgoram to find greatest y\n",
    "        #_y, _x, _ = plt.hist(_dict[iLabel])\n",
    "        #if (_y.max() > y_max):\n",
    "        #    y_max = _y.max()\n",
    "    \n",
    "    # set max y-value of histogram so there's room for legend\n",
    "    axes = plt.gca()\n",
    "    axes.set_ylim([0,14000])\n",
    "    #plt.ylim([0,1.2*y_max])\n",
    "    \n",
    "    #draw legend\n",
    "    plt.legend(loc='upper left')\n",
    "    #plt.text(.1, .1, s1)\n",
    "    \n",
    "    # store figure copy for later saving\n",
    "    fig = plt.gcf()\n",
    "    \n",
    "    # draw interactively\n",
    "    plt.show()\n",
    "    \n",
    "    #save an image file\n",
    "    if(_savePlot):\n",
    "        _scope    = _title.split(' ')[0].lower()\n",
    "        _variable = _xtitle.lstrip('Jet Pair').replace(' ','').replace('[GeV]','').replace('(','_').replace(')','')\n",
    "        _filename  = _scope + '_' + _variable\n",
    "        if _normed:\n",
    "            _filename = _filename + '_norm'\n",
    "        fig.savefig( _filename+'.png', bbox_inches='tight' )\n",
    "    \n",
    "    \n",
    "    return"
   ]
  },
  {
   "cell_type": "code",
   "execution_count": 6,
   "metadata": {},
   "outputs": [
    {
     "name": "stdout",
     "output_type": "stream",
     "text": [
      "20000 rows of data with  20000 labels [XGB]\n",
      "19176 rows of signal data with  19176 rows of background [Plots]\n",
      "Precision = 0.7285426085339366\n",
      "Recall = 0.7261505656814582\n",
      "Accuracy = 0.7255\n",
      "20000 rows of data with  20000 labels [XGB]\n",
      "19176 rows of signal data with  19176 rows of background [Plots]\n",
      "Precision = 0.6173167187142687\n",
      "Recall = 0.6138751195446832\n",
      "Accuracy = 0.6121666666666666\n",
      "20000 rows of data with  20000 labels [XGB]\n",
      "19176 rows of signal data with  19176 rows of background [Plots]\n",
      "Precision = 0.6201751992103545\n",
      "Recall = 0.6180427256352032\n",
      "Accuracy = 0.619\n",
      "20000 rows of data with  20000 labels [XGB]\n",
      "19176 rows of signal data with  19176 rows of background [Plots]\n",
      "Precision = 0.7634093437152392\n",
      "Recall = 0.7631927293654532\n",
      "Accuracy = 0.7628333333333334\n",
      "20000 rows of data with  20000 labels [XGB]\n",
      "19176 rows of signal data with  19176 rows of background [Plots]\n",
      "Precision = 0.7019549848506709\n",
      "Recall = 0.7015683897115982\n",
      "Accuracy = 0.7016666666666667\n"
     ]
    }
   ],
   "source": [
    "nEventsToTrain = 10000\n",
    "\n",
    "# *** 1. Make mix of dihiggs and QCD for h1, h2, hh mass variables\n",
    "variables_massesOnly = ['hh_mass', 'h1_mass', 'h2_mass']\n",
    "massesOnly_data, massesOnly_labels, hh_massesOnly_data, hh_massesOnly_labels, qcd_massesOnly_data, qcd_massesOnly_labels = makeEqualSamplesWithUserVariables(hh_raw, qcd_raw, variables_massesOnly, nEventsToTrain) \n",
    "model_massesOnly = setupAndTrainBDT(massesOnly_data, massesOnly_labels)\n",
    "\n",
    "# *** 2. Make mix of dihiggs and QCD for only anglular-basis jet info (pt, eta, phi, mass) \n",
    "jetLabels = ['1','2','3','4']\n",
    "jetVariables = ['pt', 'eta', 'phi', 'mass']\n",
    "variables_angularJetInfo = ['jet{0}_{1}'.format(iJetLabel, iJetVariable) for iJetLabel in jetLabels for iJetVariable in jetVariables]\n",
    "angularJetInfo_data, angularJetInfo_labels, hh_angularJetInfo_data, hh_angularJetInfo_labels, qcd_angularJetInfo_data, qcd_angularJetInfo_labels = makeEqualSamplesWithUserVariables(hh_raw, qcd_raw, variables_angularJetInfo, nEventsToTrain) \n",
    "model_angularJetInfo = setupAndTrainBDT(angularJetInfo_data, angularJetInfo_labels)\n",
    "\n",
    "# *** 3. Make mix of dihiggs and QCD for anglular+momentum basis jet info (pt, eta, phi, mass, E, px, py, pz)\n",
    "jetVariables = ['pt', 'eta', 'phi', 'mass', 'px', 'py', 'pz', 'energy']\n",
    "variables_allJetInfo = ['jet{0}_{1}'.format(iJetLabel, iJetVariable) for iJetLabel in jetLabels for iJetVariable in jetVariables]\n",
    "allJetInfo_data, allJetInfo_labels, hh_allJetInfo_data, hh_allJetInfo_labels, qcd_allJetInfo_data, qcd_allJetInfo_labels = makeEqualSamplesWithUserVariables(hh_raw, qcd_raw, variables_allJetInfo, nEventsToTrain) \n",
    "model_allJetInfo = setupAndTrainBDT(allJetInfo_data, allJetInfo_labels)\n",
    "\n",
    "# *** 4. Make mix of dihiggs and QCD for all variables\n",
    "variables_all = list(hh_raw.columns)\n",
    "variables_all.remove('isSignal') # don't want to pass answer to as part of data\n",
    "all_data, all_labels, hh_all_data, hh_all_labels, qcd_all_data, qcd_all_labels = makeEqualSamplesWithUserVariables(hh_raw, qcd_raw, variables_all, nEventsToTrain) \n",
    "model_all = setupAndTrainBDT(all_data, all_labels)\n",
    "\n",
    "# *** 5. Make mix of dihiggs and QCD for h1, h2, hh deltaR variables\n",
    "variables_deltaROnly = ['deltaR(h1, h2)', 'deltaR(h1 jets)', 'deltaR(h2 jets)']\n",
    "deltaROnly_data, deltaROnly_labels, hh_deltaROnly_data, hh_deltaROnly_labels, qcd_deltaROnly_data, qcd_deltaROnly_labels = makeEqualSamplesWithUserVariables(hh_raw, qcd_raw, variables_deltaROnly, nEventsToTrain) \n",
    "model_deltaROnly = setupAndTrainBDT(deltaROnly_data, deltaROnly_labels)\n"
   ]
  },
  {
   "cell_type": "code",
   "execution_count": 7,
   "metadata": {},
   "outputs": [
    {
     "name": "stdout",
     "output_type": "stream",
     "text": [
      "Fitting 3 folds for each of 48 candidates, totalling 144 fits\n"
     ]
    },
    {
     "name": "stderr",
     "output_type": "stream",
     "text": [
      "[Parallel(n_jobs=4)]: Using backend LokyBackend with 4 concurrent workers.\n",
      "[Parallel(n_jobs=4)]: Done  24 tasks      | elapsed:   19.0s\n",
      "[Parallel(n_jobs=4)]: Done 120 tasks      | elapsed:  1.4min\n",
      "[Parallel(n_jobs=4)]: Done 144 out of 144 | elapsed:  1.7min finished\n",
      "/home/btannenw/.local/lib/python3.7/site-packages/sklearn/preprocessing/label.py:219: DataConversionWarning: A column-vector y was passed when a 1d array was expected. Please change the shape of y to (n_samples, ), for example using ravel().\n",
      "  y = column_or_1d(y, warn=True)\n",
      "/home/btannenw/.local/lib/python3.7/site-packages/sklearn/preprocessing/label.py:252: DataConversionWarning: A column-vector y was passed when a 1d array was expected. Please change the shape of y to (n_samples, ), for example using ravel().\n",
      "  y = column_or_1d(y, warn=True)\n"
     ]
    },
    {
     "name": "stdout",
     "output_type": "stream",
     "text": [
      "{'eta': 0.05, 'max_depth': 6, 'num_class': 2, 'objective': 'multi:softprob'} <class 'dict'>\n",
      "Precision = 0.743121970161085\n",
      "Recall = 0.7418482082964419\n",
      "Accuracy = 0.7406666666666667\n",
      "Fitting 3 folds for each of 48 candidates, totalling 144 fits\n"
     ]
    },
    {
     "name": "stderr",
     "output_type": "stream",
     "text": [
      "[Parallel(n_jobs=4)]: Using backend LokyBackend with 4 concurrent workers.\n",
      "[Parallel(n_jobs=4)]: Done  24 tasks      | elapsed:  1.3min\n",
      "[Parallel(n_jobs=4)]: Done 120 tasks      | elapsed:  7.6min\n",
      "[Parallel(n_jobs=4)]: Done 144 out of 144 | elapsed:  9.2min finished\n",
      "/home/btannenw/.local/lib/python3.7/site-packages/sklearn/preprocessing/label.py:219: DataConversionWarning: A column-vector y was passed when a 1d array was expected. Please change the shape of y to (n_samples, ), for example using ravel().\n",
      "  y = column_or_1d(y, warn=True)\n",
      "/home/btannenw/.local/lib/python3.7/site-packages/sklearn/preprocessing/label.py:252: DataConversionWarning: A column-vector y was passed when a 1d array was expected. Please change the shape of y to (n_samples, ), for example using ravel().\n",
      "  y = column_or_1d(y, warn=True)\n"
     ]
    },
    {
     "name": "stdout",
     "output_type": "stream",
     "text": [
      "{'eta': 0.05, 'max_depth': 5, 'num_class': 2, 'objective': 'multi:softprob'} <class 'dict'>\n",
      "Precision = 0.5999019083421219\n",
      "Recall = 0.5971410637519361\n",
      "Accuracy = 0.5966666666666667\n",
      "Fitting 3 folds for each of 48 candidates, totalling 144 fits\n"
     ]
    },
    {
     "name": "stderr",
     "output_type": "stream",
     "text": [
      "[Parallel(n_jobs=4)]: Using backend LokyBackend with 4 concurrent workers.\n",
      "[Parallel(n_jobs=4)]: Done  24 tasks      | elapsed:  2.9min\n",
      "[Parallel(n_jobs=4)]: Done 120 tasks      | elapsed: 12.6min\n",
      "[Parallel(n_jobs=4)]: Done 144 out of 144 | elapsed: 15.0min finished\n",
      "/home/btannenw/.local/lib/python3.7/site-packages/sklearn/preprocessing/label.py:219: DataConversionWarning: A column-vector y was passed when a 1d array was expected. Please change the shape of y to (n_samples, ), for example using ravel().\n",
      "  y = column_or_1d(y, warn=True)\n",
      "/home/btannenw/.local/lib/python3.7/site-packages/sklearn/preprocessing/label.py:252: DataConversionWarning: A column-vector y was passed when a 1d array was expected. Please change the shape of y to (n_samples, ), for example using ravel().\n",
      "  y = column_or_1d(y, warn=True)\n"
     ]
    },
    {
     "name": "stdout",
     "output_type": "stream",
     "text": [
      "{'eta': 0.05, 'max_depth': 8, 'num_class': 2, 'objective': 'multi:softprob'} <class 'dict'>\n",
      "Precision = 0.6055721058363764\n",
      "Recall = 0.605480923828223\n",
      "Accuracy = 0.6056666666666667\n",
      "Fitting 3 folds for each of 48 candidates, totalling 144 fits\n"
     ]
    },
    {
     "name": "stderr",
     "output_type": "stream",
     "text": [
      "[Parallel(n_jobs=4)]: Using backend LokyBackend with 4 concurrent workers.\n",
      "[Parallel(n_jobs=4)]: Done  24 tasks      | elapsed:   18.0s\n",
      "[Parallel(n_jobs=4)]: Done 120 tasks      | elapsed:  1.5min\n",
      "[Parallel(n_jobs=4)]: Done 144 out of 144 | elapsed:  1.8min finished\n",
      "/home/btannenw/.local/lib/python3.7/site-packages/sklearn/preprocessing/label.py:219: DataConversionWarning: A column-vector y was passed when a 1d array was expected. Please change the shape of y to (n_samples, ), for example using ravel().\n",
      "  y = column_or_1d(y, warn=True)\n",
      "/home/btannenw/.local/lib/python3.7/site-packages/sklearn/preprocessing/label.py:252: DataConversionWarning: A column-vector y was passed when a 1d array was expected. Please change the shape of y to (n_samples, ), for example using ravel().\n",
      "  y = column_or_1d(y, warn=True)\n"
     ]
    },
    {
     "name": "stdout",
     "output_type": "stream",
     "text": [
      "{'eta': 0.05, 'max_depth': 3, 'num_class': 2, 'objective': 'multi:softprob'} <class 'dict'>\n",
      "Precision = 0.6847717699531088\n",
      "Recall = 0.6820208598066395\n",
      "Accuracy = 0.6838333333333333\n"
     ]
    }
   ],
   "source": [
    "#try grid\n",
    "grid_massesOnly = setupGridAndTrainBDT('massesOnly', massesOnly_data, massesOnly_labels, _saveModel=True)\n",
    "grid_angularJetInfo = setupGridAndTrainBDT('angularJetInfo', angularJetInfo_data, angularJetInfo_labels, _saveModel=True)\n",
    "grid_allJetInfo = setupGridAndTrainBDT('allJetInfo', allJetInfo_data, allJetInfo_labels, _saveModel=True)\n",
    "grid_deltaROnly = setupGridAndTrainBDT('deltaROnly', deltaROnly_data, deltaROnly_labels, _saveModel=True)"
   ]
  },
  {
   "cell_type": "code",
   "execution_count": null,
   "metadata": {},
   "outputs": [],
   "source": [
    "grid_all = setupGridAndTrainBDT('allVariables', all_data, all_labels, _saveModel=True)"
   ]
  },
  {
   "cell_type": "code",
   "execution_count": null,
   "metadata": {},
   "outputs": [],
   "source": [
    "plotBDTOutputAndTree(grid_massesOnly, 'Masses Only', hh_massesOnly_data, hh_massesOnly_labels, qcd_massesOnly_data, qcd_massesOnly_labels, _savePlots=True)\n",
    "plotBDTOutputAndTree(grid_angularJetInfo, 'Position Jet Info', hh_angularJetInfo_data, hh_angularJetInfo_labels, qcd_angularJetInfo_data, qcd_angularJetInfo_labels, _savePlots=True)\n",
    "plotBDTOutputAndTree(grid_allJetInfo, 'All Jet Info', hh_allJetInfo_data, hh_allJetInfo_labels, qcd_allJetInfo_data, qcd_allJetInfo_labels, _savePlots=True)\n",
    "plotBDTOutputAndTree(grid_deltaROnly, 'Delta R Only', hh_deltaROnly_data, hh_deltaROnly_labels, qcd_deltaROnly_data, qcd_deltaROnly_labels, _savePlots=True)\n",
    "plotBDTOutputAndTree(grid_all, 'All Variables', hh_all_data, hh_all_labels, qcd_all_data, qcd_all_labels, _savePlots=True)\n",
    "#plotBDTOutputAndTree(model_all, 'All Variables', hh_all_data, hh_all_labels, qcd_all_data, qcd_all_labels, _savePlots=True)\n"
   ]
  },
  {
   "cell_type": "code",
   "execution_count": null,
   "metadata": {},
   "outputs": [],
   "source": [
    "## TO-DO\n",
    "[X] Grid optimization\n",
    "[X] Train with all variables\n",
    "3) isolate most important values \n",
    "[X] understand meaning of F score\n",
    "[X] slides\n",
    "6) some significance values for comparing with rectangular"
   ]
  },
  {
   "cell_type": "code",
   "execution_count": null,
   "metadata": {},
   "outputs": [],
   "source": [
    "# *** 5. Make mix of dihiggs and QCD for top-11 optimal variables\n",
    "variables_top11 = ['deltaR(h1, h2)', 'deltaR(h1 jets)', 'deltaR(h2 jets)', 'hh_mass', 'h1_mass', 'h2_mass','hh_pt', 'h1_pt', 'h2_pt', 'scalarHT', 'jet4_pt']\n",
    "top11_data, top11_labels, hh_top11_data, hh_top11_labels, qcd_top11_data, qcd_top11_labels = makeEqualSamplesWithUserVariables(hh_raw, qcd_raw, variables_top11, nEventsToTrain) \n",
    "model_top11 = setupAndTrainBDT(top11_data, top11_labels, _maxDepth=5, _eta=0.3, _modelName='top11', _saveModel=True)\n",
    "plotBDTOutputAndTree(model_top11, 'Top11', hh_top11_data, hh_top11_labels, qcd_top11_data, qcd_top11_labels, _savePlots=False)\n"
   ]
  },
  {
   "cell_type": "code",
   "execution_count": null,
   "metadata": {},
   "outputs": [],
   "source": [
    "# *** 5. Make mix of dihiggs and QCD for top-10 optimal variables\n",
    "variables_top10 = ['deltaR(h1, h2)', 'deltaR(h1 jets)', 'deltaR(h2 jets)', 'hh_mass', 'h1_mass', 'h2_mass','hh_pt', 'h1_pt', 'h2_pt', 'scalarHT']\n",
    "top10_data, top10_labels, hh_top10_data, hh_top10_labels, qcd_top10_data, qcd_top10_labels = makeEqualSamplesWithUserVariables(hh_raw, qcd_raw, variables_top10, nEventsToTrain) \n",
    "model_top10 = setupAndTrainBDT(top10_data, top10_labels, _maxDepth=7, _eta=0.3, _modelName='top10', _saveModel=True)\n",
    "plotBDTOutputAndTree(model_top10, 'top10', hh_top10_data, hh_top10_labels, qcd_top10_data, qcd_top10_labels, _savePlots=True)\n"
   ]
  },
  {
   "cell_type": "code",
   "execution_count": null,
   "metadata": {},
   "outputs": [],
   "source": [
    "# *** 5. Make mix of dihiggs and QCD for top-7 optimal variables\n",
    "variables_top7 = ['deltaR(h1, h2)', 'deltaR(h1 jets)', 'deltaR(h2 jets)', 'hh_mass', 'h1_mass', 'h2_mass', 'scalarHT']\n",
    "top7_data, top7_labels, hh_top7_data, hh_top7_labels, qcd_top7_data, qcd_top7_labels = makeEqualSamplesWithUserVariables(hh_raw, qcd_raw, variables_top7, nEventsToTrain) \n",
    "model_top7 = setupAndTrainBDT(top7_data, top7_labels, _maxDepth=6, _eta=0.3, _modelName='top7', _saveModel=True)\n",
    "plotBDTOutputAndTree(model_top7, 'top7', hh_top7_data, hh_top7_labels, qcd_top7_data, qcd_top7_labels, _savePlots=False)\n"
   ]
  },
  {
   "cell_type": "code",
   "execution_count": null,
   "metadata": {},
   "outputs": [],
   "source": [
    "# *** 5. Make mix of dihiggs and QCD for top-6 optimal variables\n",
    "variables_top6 = ['deltaR(h1, h2)', 'deltaR(h1 jets)', 'deltaR(h2 jets)', 'h1_mass', 'h2_mass', 'scalarHT']\n",
    "top6_data, top6_labels, hh_top6_data, hh_top6_labels, qcd_top6_data, qcd_top6_labels = makeEqualSamplesWithUserVariables(hh_raw, qcd_raw, variables_top6, nEventsToTrain) \n",
    "model_top6 = setupAndTrainBDT(top6_data, top6_labels, _maxDepth=5, _eta=0.3, _modelName='top6', _saveModel=True)\n",
    "plotBDTOutputAndTree(model_top6, 'top6', hh_top6_data, hh_top6_labels, qcd_top6_data, qcd_top6_labels, _savePlots=False)\n"
   ]
  },
  {
   "cell_type": "code",
   "execution_count": null,
   "metadata": {},
   "outputs": [],
   "source": [
    "grid_all = setupGridAndTrainBDT('top10', top10_data, top10_labels, _saveModel=True)"
   ]
  },
  {
   "cell_type": "code",
   "execution_count": null,
   "metadata": {},
   "outputs": [],
   "source": [
    "plotBDTOutputAndTree(grid_all, 'top10', hh_top10_data, hh_top10_labels, qcd_top10_data, qcd_top10_labels, _savePlots=False)\n"
   ]
  },
  {
   "cell_type": "code",
   "execution_count": null,
   "metadata": {},
   "outputs": [],
   "source": [
    "plotBDTOutputAndTree(model_top10, 'top10', hh_top10_data, hh_top10_labels, qcd_top10_data, qcd_top10_labels, _savePlots=True)\n"
   ]
  },
  {
   "cell_type": "code",
   "execution_count": null,
   "metadata": {},
   "outputs": [],
   "source": [
    "model_top10_2 = setupAndTrainBDT(top10_data, top10_labels, _maxDepth=8, _eta=0.3)\n",
    "plotBDTOutputAndTree(model_top10_2, 'top10', hh_top10_data, hh_top10_labels, qcd_top10_data, qcd_top10_labels, _savePlots=False)\n"
   ]
  },
  {
   "cell_type": "code",
   "execution_count": null,
   "metadata": {},
   "outputs": [],
   "source": []
  }
 ],
 "metadata": {
  "kernelspec": {
   "display_name": "Python 3",
   "language": "python",
   "name": "python3"
  },
  "language_info": {
   "codemirror_mode": {
    "name": "ipython",
    "version": 3
   },
   "file_extension": ".py",
   "mimetype": "text/x-python",
   "name": "python",
   "nbconvert_exporter": "python",
   "pygments_lexer": "ipython3",
   "version": "3.7.4"
  }
 },
 "nbformat": 4,
 "nbformat_minor": 2
}
