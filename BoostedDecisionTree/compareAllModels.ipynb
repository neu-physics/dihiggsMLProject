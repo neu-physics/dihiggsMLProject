{
 "cells": [
  {
   "cell_type": "code",
   "execution_count": 30,
   "metadata": {},
   "outputs": [],
   "source": [
    "import xgboost as xgb\n",
    "import pandas as pd\n",
    "import matplotlib.pyplot as plt\n",
    "import numpy as np\n",
    "import pickle\n",
    "from keras.utils import normalize, to_categorical\n",
    "from sklearn.metrics import confusion_matrix, roc_curve, auc\n",
    "\n",
    "import sys\n",
    "sys.path.insert(0, '/home/btannenw/Desktop/ML/dihiggsMLProject/')\n",
    "from rectangularCuts.rectangularAnalyzer import sequentialOneDimAnalyzer\n",
    "from utils.commonFunctions import *"
   ]
  },
  {
   "cell_type": "code",
   "execution_count": 2,
   "metadata": {},
   "outputs": [],
   "source": [
    "testingFraction = 0.3"
   ]
  },
  {
   "cell_type": "code",
   "execution_count": 4,
   "metadata": {},
   "outputs": [
    {
     "name": "stderr",
     "output_type": "stream",
     "text": [
      "Using TensorFlow backend.\n"
     ]
    }
   ],
   "source": [
    "# Load models\n",
    "#loadedBDT = pickle.load(open('models/grid-model.allVars.pkl', 'rb'))\n",
    "#loadedBDT = pickle.load(open('models/grid-model.allVars.pkl', 'rb'))\n",
    "loadedBDT = pickle.load(open('models/model.noJetVars.pkl', 'rb'))\n",
    "loadedRectangular = pickle.load(open('../rectangularCuts/models/rectangularModel.normSignal_qcd2M.pkl', 'rb'))\n",
    "loadedNN = pickle.load( open('../NeuralNetworking/models/allVars_100-50-50.pkl', 'rb'))"
   ]
  },
  {
   "cell_type": "code",
   "execution_count": 24,
   "metadata": {},
   "outputs": [
    {
     "name": "stdout",
     "output_type": "stream",
     "text": [
      "N_sig = 78876 , N_bkg = 116481\n",
      "195357 rows of total data with  195357 labels [Train+Test]\n",
      "136749 rows of training data with  136749 labels [Train]\n",
      "58608 rows of testing data with  58608 labels [Test]\n"
     ]
    }
   ],
   "source": [
    "# *** 0. Rectangular Analysis\n",
    "hh_csv, qcd_csv = importDatasets()\n",
    "variables_rect = loadedRectangular.variables\n",
    "variables_bdt = loadedBDT.feature_names\n",
    "variables_nn = hh_csv.columns\n",
    "\n",
    "# *** 1. Make training and testing data\n",
    "data_train, data_test, labels_train, labels_test = makeTestTrainSamplesWithUserVariables(hh_csv, qcd_csv,variables_nn, testingFraction)\n",
    "\n",
    "# *** 2. Split hh and qcd from testing data [ALL]\n",
    "data_signal_test, labels_signal_test, data_bkg_test, labels_bkg_test = returnTestSamplesSplitIntoSignalAndBackground(data_test, labels_test)\n",
    "\n",
    "# *** 3. Subset for rectangular\n",
    "data_test_rect = data_test.copy()\n",
    "data_test_rect = data_test_rect[ variables_rect ]\n",
    "data_signal_test_rect, labels_signal_test_rect, data_bkg_test_rect, labels_bkg_test_rect = returnTestSamplesSplitIntoSignalAndBackground(data_test_rect, labels_test)\n",
    "\n",
    "# *** 4. Subset for BDT\n",
    "data_test_bdt = data_test.copy()\n",
    "data_test_bdt = data_test_bdt[ variables_bdt ]\n",
    "data_signal_test_bdt, labels_signal_test_bdt, data_bkg_test_bdt, labels_bkg_test_bdt = returnTestSamplesSplitIntoSignalAndBackground(data_test_bdt, labels_test)\n"
   ]
  },
  {
   "cell_type": "code",
   "execution_count": 25,
   "metadata": {},
   "outputs": [
    {
     "name": "stderr",
     "output_type": "stream",
     "text": [
      "/home/btannenw/.local/lib/python3.7/site-packages/xgboost/core.py:587: FutureWarning: Series.base is deprecated and will be removed in a future version\n",
      "  if getattr(data, 'base', None) is not None and \\\n"
     ]
    },
    {
     "name": "stdout",
     "output_type": "stream",
     "text": [
      "23615 34993\n",
      "nSig = 668.99736 , nBkg = 424191.36 with significance = 1.0271727625110683 for BDT score > 0.8253823162992533\n"
     ]
    },
    {
     "data": {
      "text/plain": [
       "(1.0271727625110683, 0.8253823162992533)"
      ]
     },
     "execution_count": 25,
     "metadata": {},
     "output_type": "execute_result"
    }
   ],
   "source": [
    "# calculate BDT sig\n",
    "\n",
    "# *** A. Make predictions \n",
    "sig_DMatrix = xgb.DMatrix(data_signal_test_bdt, label=labels_signal_test)\n",
    "preds_sig   = loadedBDT.predict(sig_DMatrix)\n",
    "bkg_DMatrix = xgb.DMatrix(data_bkg_test_bdt, label=labels_bkg_test)\n",
    "preds_bkg   = loadedBDT.predict(bkg_DMatrix)\n",
    "\n",
    "sig_pred_isSignal   = [x[1] for x in preds_sig]\n",
    "bkg_pred_isSignal  = [x[1] for x in preds_bkg]\n",
    "\n",
    "# *** F. Calculate significance \n",
    "returnBestCutValue('BDT', sig_pred_isSignal.copy(), bkg_pred_isSignal.copy(), _minBackground=4e5)\n"
   ]
  },
  {
   "cell_type": "code",
   "execution_count": 26,
   "metadata": {},
   "outputs": [
    {
     "data": {
      "text/plain": [
       "0.07268165046455086"
      ]
     },
     "execution_count": 26,
     "metadata": {},
     "output_type": "execute_result"
    }
   ],
   "source": [
    "lumiscale_qcd = getLumiScaleFactor(testingFraction, False)\n",
    "np.sqrt(418226/lumiscale_qcd)/(418226/lumiscale_qcd)"
   ]
  },
  {
   "cell_type": "code",
   "execution_count": 27,
   "metadata": {},
   "outputs": [
    {
     "name": "stdout",
     "output_type": "stream",
     "text": [
      "iteration 3, signal has 23615 rows\n",
      "iteration 3, background has 34993 rows\n",
      "Iteration 3 chose variable hh_mass with N_signal = 21301 (31564.1) and N_background = 26925 (26925)\n",
      "Iteration 2 chose variable h2_mass with N_signal = 19690 (29176.9) and N_background = 22481 (22481)\n",
      "iteration 1, signal has 19690 rows\n",
      "iteration 1, background has 22481 rows\n",
      "Iteration 1 chose variable h1_mass with N_signal = 19080 (28273.0) and N_background = 19556 (19556)\n",
      "S/sqrt(B) = 202.18\n",
      "iteration 3, signal has 23615 rows\n",
      "iteration 3, background has 34993 rows\n",
      "Iteration 3 chose variable deltaR(h1, h2) with N_signal = 21418 (31737.5) and N_background = 34042 (34042)\n",
      "Iteration 2 chose variable deltaR(h2 jets) with N_signal = 19306 (28607.9) and N_background = 27278 (27278)\n",
      "iteration 1, signal has 19306 rows\n",
      "iteration 1, background has 27278 rows\n",
      "Iteration 1 chose variable deltaR(h1 jets) with N_signal = 18099 (26819.3) and N_background = 25062 (25062)\n",
      "S/sqrt(B) = 169.41\n",
      "iteration 6, signal has 23615 rows\n",
      "iteration 6, background has 34993 rows\n",
      "Iteration 6 chose variable hh_mass with N_signal = 21301 (31564.1) and N_background = 26925 (26925)\n",
      "Iteration 5 chose variable h2_mass with N_signal = 19690 (29176.9) and N_background = 22481 (22481)\n",
      "Iteration 4 chose variable deltaR(h1 jets) with N_signal = 18275 (27080.1) and N_background = 19104 (19104)\n",
      "iteration 3, signal has 18275 rows\n",
      "iteration 3, background has 19104 rows\n",
      "Iteration 3 chose variable h1_mass with N_signal = 17665 (26176.2) and N_background = 16181 (16181)\n",
      "Iteration 2 chose variable deltaR(h2 jets) with N_signal = 16586 (24577.3) and N_background = 13267 (13267)\n",
      "iteration 1, signal has 16586 rows\n",
      "iteration 1, background has 13267 rows\n",
      "Iteration 1 chose variable deltaR(h1, h2) with N_signal = 15147 (22445.0) and N_background = 12720 (12720)\n",
      "S/sqrt(B) = 199.01\n",
      "iteration 3, signal has 23615 rows\n",
      "iteration 3, background has 34993 rows\n",
      "Iteration 3 chose variable hh_mass with N_signal = 20112 (29802.2) and N_background = 24209 (24209)\n",
      "Iteration 2 chose variable h2_mass with N_signal = 17816 (26400.0) and N_background = 17693 (17693)\n",
      "iteration 1, signal has 17816 rows\n",
      "iteration 1, background has 17693 rows\n",
      "Iteration 1 chose variable h1_mass with N_signal = 16890 (25027.8) and N_background = 13946 (13946)\n",
      "S/sqrt(B) = 211.93\n",
      "iteration 3, signal has 23615 rows\n",
      "iteration 3, background has 34993 rows\n",
      "Iteration 3 chose variable deltaR(h1, h2) with N_signal = 20191 (29919.3) and N_background = 33390 (33390)\n",
      "Iteration 2 chose variable deltaR(h2 jets) with N_signal = 17479 (25900.6) and N_background = 25607 (25607)\n",
      "iteration 1, signal has 17479 rows\n",
      "iteration 1, background has 25607 rows\n",
      "Iteration 1 chose variable deltaR(h1 jets) with N_signal = 15771 (23369.7) and N_background = 22975 (22975)\n",
      "S/sqrt(B) = 154.18\n",
      "iteration 6, signal has 23615 rows\n",
      "iteration 6, background has 34993 rows\n",
      "Iteration 6 chose variable hh_mass with N_signal = 20112 (29802.2) and N_background = 24209 (24209)\n",
      "Iteration 5 chose variable h2_mass with N_signal = 17816 (26400.0) and N_background = 17693 (17693)\n",
      "Iteration 4 chose variable deltaR(h1 jets) with N_signal = 15741 (23325.2) and N_background = 14518 (14518)\n",
      "iteration 3, signal has 15741 rows\n",
      "iteration 3, background has 14518 rows\n",
      "Iteration 3 chose variable h1_mass with N_signal = 14899 (22077.5) and N_background = 11195 (11195)\n",
      "Iteration 2 chose variable deltaR(h2 jets) with N_signal = 13994 (20736.5) and N_background = 9583 (9583)\n",
      "iteration 1, signal has 13994 rows\n",
      "iteration 1, background has 9583 rows\n",
      "Iteration 1 chose variable deltaR(h1, h2) with N_signal = 12235 (18130.0) and N_background = 8875 (8875)\n",
      "S/sqrt(B) = 192.45\n",
      "iteration 3, signal has 23615 rows\n",
      "iteration 3, background has 34993 rows\n",
      "Iteration 3 chose variable hh_mass with N_signal = 18968 (28107.0) and N_background = 22159 (22159)\n",
      "Iteration 2 chose variable h2_mass with N_signal = 15876 (23525.3) and N_background = 13355 (13355)\n",
      "iteration 1, signal has 15876 rows\n",
      "iteration 1, background has 13355 rows\n",
      "Iteration 1 chose variable h1_mass with N_signal = 14545 (21553.0) and N_background = 8832 (8832)\n",
      "S/sqrt(B) = 229.34\n",
      "iteration 3, signal has 23615 rows\n",
      "iteration 3, background has 34993 rows\n",
      "Iteration 3 chose variable deltaR(h1, h2) with N_signal = 18992 (28142.6) and N_background = 32657 (32657)\n",
      "Iteration 2 chose variable deltaR(h2 jets) with N_signal = 15026 (22265.7) and N_background = 23402 (23402)\n",
      "iteration 1, signal has 15026 rows\n",
      "iteration 1, background has 23402 rows\n",
      "Iteration 1 chose variable deltaR(h1 jets) with N_signal = 13311 (19724.4) and N_background = 20978 (20978)\n",
      "S/sqrt(B) = 136.18\n",
      "iteration 6, signal has 23615 rows\n",
      "iteration 6, background has 34993 rows\n",
      "Iteration 6 chose variable hh_mass with N_signal = 18968 (28107.0) and N_background = 22159 (22159)\n",
      "Iteration 5 chose variable h2_mass with N_signal = 15876 (23525.3) and N_background = 13355 (13355)\n",
      "Iteration 4 chose variable deltaR(h1 jets) with N_signal = 13533 (20053.4) and N_background = 10962 (10962)\n",
      "iteration 3, signal has 13533 rows\n",
      "iteration 3, background has 10962 rows\n",
      "Iteration 3 chose variable h1_mass with N_signal = 12462 (18466.3) and N_background = 7600 (7600)\n",
      "Iteration 2 chose variable deltaR(h2 jets) with N_signal = 11286 (16723.7) and N_background = 6647 (6647)\n",
      "iteration 1, signal has 11286 rows\n",
      "iteration 1, background has 6647 rows\n",
      "Iteration 1 chose variable deltaR(h1, h2) with N_signal = 9439 (13986.8) and N_background = 5914 (5914)\n",
      "S/sqrt(B) = 181.88\n"
     ]
    }
   ],
   "source": [
    "# calculate rectangular significance\n",
    "# *** A. Use previously calculated const. efficiency cuts on testing data from BDT\n",
    "cuts = loadedRectangular.dictOfCutsByEfficiency\n",
    "loadedRectangular.setReducedData(data_signal_test_rect, data_bkg_test_rect)\n",
    "loadedRectangular.calculateYieldsAfterCuts(0.90) \n",
    "loadedRectangular.calculateYieldsAfterCuts(0.85) \n",
    "loadedRectangular.calculateYieldsAfterCuts(0.80) "
   ]
  },
  {
   "cell_type": "code",
   "execution_count": 9,
   "metadata": {},
   "outputs": [
    {
     "name": "stdout",
     "output_type": "stream",
     "text": [
      "0.24719999999999998 2209.33\n",
      "nSig = 3613.5696 , nBkg = 19528267.87 with significance = 0.8177198910906328 for RectangularAnalysis\n"
     ]
    }
   ],
   "source": [
    "# *** B. Calculate rectangular significance\n",
    "nSig_raw = 14618\n",
    "nBkg_raw = 8839\n",
    "\n",
    "hh_lumiScale = getLumiScaleFactor(testingFraction, True)\n",
    "qcd_lumiScale = getLumiScaleFactor(testingFraction, False)\n",
    "nSig_lumi = nSig_raw*hh_lumiScale\n",
    "nBkg_lumi = nBkg_raw*qcd_lumiScale\n",
    "\n",
    "print(hh_lumiScale, qcd_lumiScale)\n",
    "\n",
    "print('nSig = {0} , nBkg = {1} with significance = {2} for RectangularAnalysis'.format(nSig_lumi, nBkg_lumi, nSig_lumi/np.sqrt(nBkg_lumi)) )"
   ]
  },
  {
   "cell_type": "code",
   "execution_count": 38,
   "metadata": {},
   "outputs": [
    {
     "data": {
      "text/plain": [
       "<matplotlib.axes._subplots.AxesSubplot at 0x7f3ee8382b90>"
      ]
     },
     "execution_count": 38,
     "metadata": {},
     "output_type": "execute_result"
    },
    {
     "data": {
      "image/png": "[encoded data removed]",
      "text/plain": [
       "<Figure size 432x288 with 1 Axes>"
      ]
     },
     "metadata": {
      "needs_background": "light"
     },
     "output_type": "display_data"
    }
   ],
   "source": [
    "xgb.plot_importance(loadedBDT)"
   ]
  },
  {
   "cell_type": "code",
   "execution_count": 16,
   "metadata": {},
   "outputs": [
    {
     "data": {
      "text/plain": [
       "{'h1_mass': 192.4161179396334,\n",
       " 'deltaR(h1, h2)': 60.740497400821745,\n",
       " 'scalarHT': 12.444672676131576,\n",
       " 'deltaR(h1 jets)': 28.081530578097315,\n",
       " 'deltaR(h2 jets)': 16.576185789877876,\n",
       " 'h1_pt': 11.243520819721306,\n",
       " 'hh_mass': 12.309460899868933,\n",
       " 'met': 5.250126367525427,\n",
       " 'h2_pt': 6.589460291555555,\n",
       " 'met_phi': 3.173257614529412,\n",
       " 'h2_mass': 53.38637703393965,\n",
       " 'nBTags': 7.018158566250001,\n",
       " 'deltaPhi(h1, h2)': 3.701743830441177,\n",
       " 'deltaPhi(h1 jets)': 3.7490017909459445,\n",
       " 'deltaPhi(h2 jets)': 4.738214097271186,\n",
       " 'nJets': 5.461235996941176,\n",
       " 'hh_pt': 19.534171620888895}"
      ]
     },
     "execution_count": 16,
     "metadata": {},
     "output_type": "execute_result"
    }
   ],
   "source": [
    "loadedBDT.get_score(importance_type='gain')"
   ]
  },
  {
   "cell_type": "code",
   "execution_count": 34,
   "metadata": {},
   "outputs": [
    {
     "name": "stdout",
     "output_type": "stream",
     "text": [
      "23615/23615 [==============================] - 1s 27us/step\n",
      "34993/34993 [==============================] - 1s 26us/step\n",
      "[0.5919447204608824, 0.6698708534240723] [0.3398865382621551, 0.8767182230949402]\n"
     ]
    },
    {
     "data": {
      "image/png": "[encoded data removed]",
      "text/plain": [
       "<Figure size 432x288 with 1 Axes>"
      ]
     },
     "metadata": {
      "needs_background": "light"
     },
     "output_type": "display_data"
    },
    {
     "name": "stdout",
     "output_type": "stream",
     "text": [
      "23615 34993\n",
      "nSig = [1107.7032] , nBkg = [419772.7] with significance = [1.70968584] for ff-NN score > [0.89834154]\n"
     ]
    },
    {
     "data": {
      "text/plain": [
       "(array([1.70968584]), array([0.89834154], dtype=float32))"
      ]
     },
     "execution_count": 34,
     "metadata": {},
     "output_type": "execute_result"
    }
   ],
   "source": [
    "# evaluate NN model\n",
    "\n",
    "data_signal_test = normalize(data_signal_test, axis=1)\n",
    "data_bkg_test = normalize(data_bkg_test, axis=1)\n",
    "\n",
    "score_hh = loadedNN.evaluate(data_signal_test, labels_signal_test)\n",
    "score_qcd = loadedNN.evaluate(data_bkg_test, labels_bkg_test)\n",
    "print(score_hh, score_qcd)\n",
    "pred_hh = loadedNN.predict(data_signal_test)\n",
    "pred_qcd = loadedNN.predict(data_bkg_test)\n",
    "\n",
    "_nBins = 40\n",
    "predictionResults = {'hh_pred':pred_hh, 'qcd_pred':pred_qcd}\n",
    "compareManyHistograms( predictionResults, ['hh_pred', 'qcd_pred'], 2, 'Signal Prediction', 'ff-NN Score', 0, 1, _nBins, _yMax = 5, _normed=True, _savePlot=False )\n",
    "\n",
    "# *** 4. Get best cut value for ff-NN assuming some minimal amount of signal\n",
    "returnBestCutValue('ff-NN', pred_hh.copy(), pred_qcd.copy(), _minBackground=3e5, _testingFraction=testingFraction)"
   ]
  },
  {
   "cell_type": "code",
   "execution_count": null,
   "metadata": {},
   "outputs": [],
   "source": []
  },
  {
   "cell_type": "code",
   "execution_count": null,
   "metadata": {},
   "outputs": [],
   "source": [
    "# ROC curve and AUC\n",
    "bdt_test_ROC = data_test_bdt.copy()\n",
    "bdt_test_ROC = bdt_test_ROC.drop('isSignal', axis=1)\n",
    "\n",
    "y_pred = loadedBDT.predict(bdt_test_ROC).ravel()\n",
    "bdt_falsePositiveRate, bdt_truePositiveRate, thresholds = roc_curve(data_labels_test, y_pred)\n",
    "bdt_auc = auc(bdt_falsePositiveRate, bdt_truePositiveRate)"
   ]
  },
  {
   "cell_type": "code",
   "execution_count": null,
   "metadata": {},
   "outputs": [],
   "source": []
  }
 ],
 "metadata": {
  "kernelspec": {
   "display_name": "Python 3",
   "language": "python",
   "name": "python3"
  },
  "language_info": {
   "codemirror_mode": {
    "name": "ipython",
    "version": 3
   },
   "file_extension": ".py",
   "mimetype": "text/x-python",
   "name": "python",
   "nbconvert_exporter": "python",
   "pygments_lexer": "ipython3",
   "version": "3.7.4"
  }
 },
 "nbformat": 4,
 "nbformat_minor": 2
}
