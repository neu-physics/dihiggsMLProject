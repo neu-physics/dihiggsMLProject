{
 "cells": [
  {
   "cell_type": "code",
   "execution_count": 1,
   "metadata": {},
   "outputs": [],
   "source": [
    "import xgboost as xgb\n",
    "import pandas as pd\n",
    "import matplotlib.pyplot as plt\n",
    "import numpy as np\n",
    "import pickle\n",
    "\n",
    "import sys\n",
    "sys.path.insert(0, '/home/btannenw/Desktop/ML/dihiggsMLProject/')\n",
    "from rectangularCuts.rectangularAnalyzer import sequentialOneDimAnalyzer\n",
    "from utils.commonFunctions import *"
   ]
  },
  {
   "cell_type": "code",
   "execution_count": 2,
   "metadata": {},
   "outputs": [],
   "source": [
    "testingFraction = 0.3"
   ]
  },
  {
   "cell_type": "code",
   "execution_count": null,
   "metadata": {},
   "outputs": [],
   "source": [
    "# *** 0. Rectangular Analysis\n",
    "hh_csv, qcd_csv = importDatasets()\n",
    "variableNames = ['hh_mass', 'h1_mass', 'h2_mass', 'deltaR(h1, h2)', 'deltaR(h1 jets)', 'deltaR(h2 jets)']\n",
    "\n",
    "# *** 1. Make training and testing data\n",
    "data_train, data_test, labels_train, labels_test = makeTestTrainSamplesWithUserVariables(hh_csv, qcd_csv, variableNames, testingFraction)\n",
    "\n",
    "# *** 2. Split hh and qcd from testing data\n",
    "data_signal_test, labels_signal_test, data_bkg_test, labels_bkg_test = returnTestSamplesSplitIntoSignalAndBackground(data_test, labels_test)\n",
    "\n",
    "# *** 3. Perform rectangular analysis and get best cuts\n",
    "rectangularAnalysis = sequentialOneDimAnalyzer(hh_csv, qcd_csv, variableNames)\n",
    "rectangularAnalysis.analyze()"
   ]
  },
  {
   "cell_type": "code",
   "execution_count": null,
   "metadata": {},
   "outputs": [],
   "source": [
    "data_train"
   ]
  },
  {
   "cell_type": "code",
   "execution_count": null,
   "metadata": {},
   "outputs": [],
   "source": [
    "# *** 4. Use previously calculated const. efficiency cuts on testing data from BDT\n",
    "cuts = rectangularAnalysis.dictOfCutsByEfficiency\n",
    "rectangularAnalysis.setReducedData(data_signal_test, data_bkg_test)\n",
    "rectangularAnalysis.calculateYieldsAfterCuts(0.90) \n",
    "rectangularAnalysis.calculateYieldsAfterCuts(0.85) \n",
    "rectangularAnalysis.calculateYieldsAfterCuts(0.80) "
   ]
  },
  {
   "cell_type": "code",
   "execution_count": null,
   "metadata": {},
   "outputs": [],
   "source": [
    "# *** 5. Calculate rectangular significance\n",
    "nSig_raw = 12465*3\n",
    "nBkg_raw = 5296\n",
    "\n",
    "hh_lumiScale = getLumiScaleFactor(testingFraction, True)\n",
    "qcd_lumiScale = getLumiScaleFactor(testingFraction, False)\n",
    "nSig_lumi = nSig_raw*hh_lumiScale\n",
    "nBkg_lumi = nBkg_raw*qcd_lumiScale\n",
    "\n",
    "print(hh_lumiScale, qcd_lumiScale)\n",
    "\n",
    "print('nSig = {0} , nBkg = {1} with significance = {2} for BDT score > {3}'.format(nSig_lumi, nBkg_lumi, nSig_lumi/np.sqrt(nBkg_lumi), 0.85) )"
   ]
  },
  {
   "cell_type": "code",
   "execution_count": null,
   "metadata": {},
   "outputs": [],
   "source": [
    "def plotBDTOutputAndTree(_model, _modelName, _signalData, _signalLabels, _bkgData, _bkgLabels, _savePlots=False):\n",
    "    \"\"\"make plots of BDT outputs for signal+background probabilities and tree plot\"\"\"\n",
    "    \n",
    "    # *** 1. Make some 1D histograms of signal decision outputs\n",
    "    signal_DMatrix = xgb.DMatrix(_signalData, label=_signalLabels)\n",
    "    preds_signal = _model.predict(signal_DMatrix)\n",
    "    sig_pred_isBkg     = [x[0] for x in preds_signal]\n",
    "    sig_pred_isSignal  = [x[1] for x in preds_signal]\n",
    "    #plt.hist(preds_hh)\n",
    "\n",
    "    # *** 2. Make some 1D histograms of background decision outputs\n",
    "    bkg_DMatrix = xgb.DMatrix(_bkgData, label=_bkgLabels)\n",
    "    preds_bkg = _model.predict(bkg_DMatrix)\n",
    "    bkg_pred_isBkg    = [x[0] for x in preds_bkg]\n",
    "    bkg_pred_isSignal = [x[1] for x in preds_bkg]\n",
    "    #plt.hist(preds_qcd)\n",
    "    \n",
    "    # *** 3. Plot feature importance\n",
    "    if(_savePlots):\n",
    "        xgb.plot_importance(_model)\n",
    "        _fig = plt.gcf()\n",
    "        _scope    = _modelName.split(' ')[0].lower()\n",
    "        _variable = 'featureImportance'\n",
    "        _filename  = _scope + '_' + _variable\n",
    "        _fig.savefig( _filename+'.png', bbox_inches='tight' )\n",
    "    \n",
    "    # *** 4. Make dict for plotting with borrowed functions\n",
    "    _nBins = 40\n",
    "    predictionResults = {'hh_pred_isSignal':sig_pred_isSignal, 'hh_pred_isBkg':sig_pred_isBkg, 'qcd_pred_isSignal':bkg_pred_isSignal, 'qcd_pred_isBkg':bkg_pred_isBkg,}\n",
    "    compareManyHistograms( predictionResults, ['hh_pred_isSignal', 'qcd_pred_isSignal'], 2, 'Signal Prediction', 'BDT Score ({0})'.format(_modelName), 0, 1, _nBins, _normed=True, _savePlot=_savePlots )\n",
    "    compareManyHistograms( predictionResults, ['hh_pred_isBkg', 'qcd_pred_isBkg'], 2, 'Bkg Prediction', 'BDT Score ({0})'.format(_modelName), 0, 1, _nBins, _normed=True, _savePlot=_savePlots )\n",
    "    xgb.plot_importance(_model)\n",
    "\n",
    "    # *** 5. Make plot of 0th tree\n",
    "    #xgb.plot_tree(_model,num_trees=0)\n",
    "    #plt.gcf().set_size_inches(100, 67)\n",
    "    #_fig = plt.gcf()\n",
    "    #plt.show()\n",
    "    \n",
    "    #if(_savePlots):\n",
    "    #    _variable = 'firstTrainedDecisionTree'\n",
    "    #    _filename  = _scope + '_' + _variable\n",
    "    #    _fig.savefig( _filename+'.png' )\n",
    "        \n",
    "    # *** 6. restore figure defaults\n",
    "    plt.rcParams['figure.figsize'] = [6.4, 4.8]\n",
    "\n",
    "    \n",
    "    return\n"
   ]
  },
  {
   "cell_type": "code",
   "execution_count": 3,
   "metadata": {},
   "outputs": [
    {
     "name": "stdout",
     "output_type": "stream",
     "text": [
      "N_sig = 78876 , N_bkg = 116481\n",
      "195357 rows of total data with  195357 labels [Train+Test]\n",
      "136749 rows of training data with  136749 labels [Train]\n",
      "58608 rows of testing data with  58608 labels [Test]\n"
     ]
    },
    {
     "name": "stderr",
     "output_type": "stream",
     "text": [
      "/home/btannenw/.local/lib/python3.7/site-packages/xgboost/core.py:587: FutureWarning: Series.base is deprecated and will be removed in a future version\n",
      "  if getattr(data, 'base', None) is not None and \\\n"
     ]
    },
    {
     "name": "stdout",
     "output_type": "stream",
     "text": [
      "23567 35041\n",
      "nSig = 480.63095999999996 , nBkg = 360562.65599999996 with significance = 0.8004263377133864 for BDT score > 0.6418133667021086\n"
     ]
    }
   ],
   "source": [
    "def loadModelAndCalculateSignifiance(_modelPath, _modelName, _testingFraction, _signalDF, _bkgDF):\n",
    "    \n",
    "    # *** A. Load model\n",
    "    _loadedModel = pickle.load(open(_modelPath, 'rb'))\n",
    "   \n",
    "    # *** B. Get datasets for testing and training\n",
    "    _data_train, _data_test, _labels_train, _labels_test = makeTestTrainSamplesWithUserVariables(_signalDF.copy(), _bkgDF.copy(), _loadedModel.feature_names, _testingFraction)\n",
    "\n",
    "    # *** C. Split hh and qcd from testing data\n",
    "    _data_signal_test, _labels_signal_test, _data_bkg_test, _labels_bkg_test = returnTestSamplesSplitIntoSignalAndBackground(_data_test, _labels_test)\n",
    "\n",
    "    # *** D. Plot output BDT predictions\n",
    "    #plotBDTOutputAndTree(_loadedModel, _modelName, _data_signal_test, _labels_signal_test, _data_bkg_test, _labels_bkg_test, _savePlots=True)\n",
    "\n",
    "    # *** E. Make predictions \n",
    "    _sig_DMatrix = xgb.DMatrix(_data_signal_test, label=_labels_signal_test)\n",
    "    _preds_sig   = _loadedModel.predict(_sig_DMatrix)\n",
    "    _bkg_DMatrix = xgb.DMatrix(_data_bkg_test, label=_labels_bkg_test)\n",
    "    _preds_bkg   = _loadedModel.predict(_bkg_DMatrix)\n",
    "\n",
    "    _sig_pred_isSignal   = [x[1] for x in _preds_sig]\n",
    "    _bkg_pred_isSignal  = [x[1] for x in _preds_bkg]\n",
    "\n",
    "    # *** F. Calculate significance \n",
    "    returnBestCutValue('BDT', _sig_pred_isSignal.copy(), _bkg_pred_isSignal.copy(), _minBackground=200)\n",
    "    \n",
    "    return\n",
    "\n",
    "###########################################\n",
    "#*** 1. Import BDT model and check stuff\n",
    "\n",
    "# *** A. Import Dataset\n",
    "hh_raw, qcd_raw = importDatasets()\n",
    "\n",
    "# *** B. Load model and calculate significance\n",
    "#loadModelAndCalculateSignifiance('models/model.top10.pkl', 'load10', 0.3, hh_raw.copy(), qcd_raw.copy() )\n",
    "loadModelAndCalculateSignifiance('models/grid-model.allVars.pkl', 'gridAllVars', testingFraction, hh_raw.copy(), qcd_raw.copy() )\n"
   ]
  },
  {
   "cell_type": "code",
   "execution_count": null,
   "metadata": {},
   "outputs": [],
   "source": [
    "# *** 2. Get best cut value for BDT assuming some minimal amount of signal\n",
    "returnBestCutValue('BDT', hh_pred_isSignal.copy(), qcd_pred_isSignal.copy(), _minBackground=200)"
   ]
  },
  {
   "cell_type": "code",
   "execution_count": null,
   "metadata": {},
   "outputs": [],
   "source": [
    "# *** 3. Get signifiance for any user-specified BDT score cut value\n",
    "cut = 0.485\n",
    "_nSignal = sum( value > cut for value in hh_pred_isSignal)*lumiScale_hh_to_qcd*totalLumi_HLLHC\n",
    "_nBackground = sum( value > cut for value in qcd_pred_isSignal)*totalLumi_HLLHC\n",
    "\n",
    "print('nSig = {0} , nBkg = {1} with significance = {2} for BDT score > {3}'.format(_nSignal, _nBackground, _nSignal/np.sqrt(_nBackground), cut) )"
   ]
  },
  {
   "cell_type": "code",
   "execution_count": null,
   "metadata": {},
   "outputs": [],
   "source": [
    "pickle.dump(rectangularAnalysis, open('rectangularModel.normSignal_qcd2M.pkl', 'wb'))\n"
   ]
  },
  {
   "cell_type": "code",
   "execution_count": null,
   "metadata": {},
   "outputs": [],
   "source": [
    "# *** 4. Use previously calculated const. efficiency cuts on testing data from BDT\n",
    "rectangularAnalysis = \n",
    "cuts = rectangularAnalysis.dictOfCutsByEfficiency\n",
    "rectangularAnalysis.setReducedData(data_signal_test, data_bkg_test)\n",
    "rectangularAnalysis.calculateYieldsAfterCuts(0.90) \n",
    "rectangularAnalysis.calculateYieldsAfterCuts(0.85) \n",
    "rectangularAnalysis.calculateYieldsAfterCuts(0.80) "
   ]
  }
 ],
 "metadata": {
  "kernelspec": {
   "display_name": "Python 3",
   "language": "python",
   "name": "python3"
  },
  "language_info": {
   "codemirror_mode": {
    "name": "ipython",
    "version": 3
   },
   "file_extension": ".py",
   "mimetype": "text/x-python",
   "name": "python",
   "nbconvert_exporter": "python",
   "pygments_lexer": "ipython3",
   "version": "3.7.4"
  }
 },
 "nbformat": 4,
 "nbformat_minor": 2
}
