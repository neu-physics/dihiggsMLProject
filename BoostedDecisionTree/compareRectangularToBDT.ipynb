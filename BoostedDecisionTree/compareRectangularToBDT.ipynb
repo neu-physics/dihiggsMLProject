{
 "cells": [
  {
   "cell_type": "code",
   "execution_count": 1,
   "metadata": {},
   "outputs": [],
   "source": [
    "import xgboost as xgb\n",
    "import pandas as pd\n",
    "import matplotlib.pyplot as plt\n",
    "import numpy as np\n",
    "import pickle\n",
    "\n",
    "import sys\n",
    "sys.path.insert(0, '/home/btannenw/Desktop/ML/dihiggsMLProject/')\n",
<<<<<<< HEAD
    "from rectangularCuts.rectangularAnalyzer import sequentialOneDimAnalyzer\n",
    "from utils.commonFunctions import *"
=======
    "from rectangularCuts.rectangularAnalyzer import sequentialOneDimAnalyzer\n"
>>>>>>> c2365c8dbf85f4d0861eca047d76216c1b5bbe39
   ]
  },
  {
   "cell_type": "code",
<<<<<<< HEAD
   "execution_count": 2,
   "metadata": {},
   "outputs": [],
   "source": [
    "testingFraction = 0.3"
=======
   "execution_count": 15,
   "metadata": {},
   "outputs": [
    {
     "name": "stdout",
     "output_type": "stream",
     "text": [
      "4.116970394139372e-05\n"
     ]
    }
   ],
   "source": [
    "hh_xsec = 12.36 # fb\n",
    "qcd_xsec = 441866.0 # fb\n",
    "\n",
    "hh_effLumi = 33034 # fb-1\n",
    "qcd_effLumi = 1.36 # fb-1\n",
    "totalLumi_HLLHC = 3000 # fb-1\n",
    "\n",
    "#L = N/sig --> L_qcd / L_hh is the lumi-scale we need\n",
    "lumiScale_hh_to_qcd = qcd_effLumi/hh_effLumi\n",
    "print(lumiScale_hh_to_qcd)"
>>>>>>> c2365c8dbf85f4d0861eca047d76216c1b5bbe39
   ]
  },
  {
   "cell_type": "code",
<<<<<<< HEAD
   "execution_count": null,
   "metadata": {},
   "outputs": [],
   "source": [
    "# *** 0. Rectangular Analysis\n",
    "hh_csv, qcd_csv = importDatasets()\n",
    "variableNames = ['hh_mass', 'h1_mass', 'h2_mass', 'deltaR(h1, h2)', 'deltaR(h1 jets)', 'deltaR(h2 jets)']\n",
    "\n",
    "# *** 1. Make training and testing data\n",
    "data_train, data_test, labels_train, labels_test = makeTestTrainSamplesWithUserVariables(hh_csv, qcd_csv, variableNames, testingFraction)\n",
    "\n",
    "# *** 2. Split hh and qcd from testing data\n",
    "data_signal_test, labels_signal_test, data_bkg_test, labels_bkg_test = returnTestSamplesSplitIntoSignalAndBackground(data_test, labels_test)\n",
    "\n",
    "# *** 3. Perform rectangular analysis and get best cuts\n",
=======
   "execution_count": 2,
   "metadata": {},
   "outputs": [
    {
     "name": "stdout",
     "output_type": "stream",
     "text": [
      "Analying variables:  Index(['hh_mass', 'h1_mass', 'h2_mass', 'deltaR(h1, h2)', 'deltaR(h1 jets)',\n",
      "       'deltaR(h2 jets)'],\n",
      "      dtype='object')\n",
      "*** 1. Best Single Cut variables evaluated with ['S/B', 'S/sqrt(B)', 'S/sqrt(S+B)']\n",
      "*** 2. Get Dictionaries of significance-ordered best cuts using ['S/B', 'S/sqrt(B)', 'S/sqrt(S+B)']\n",
      "*** 3. Get Dictionaries of significance-ordered best cuts using ['S/B', 'S/sqrt(B)', 'S/sqrt(S+B)']\n",
      "========== Efficiency 0.8% , Using > =========\n",
      "peakVal for hh_mass at 319\n",
      "Cut of 143 < hh_mass < 495 yields nSig = 63267 and nBkg = 18134\n",
      "peakVal for h1_mass at 102\n",
      "Cut of 50 < h1_mass < 154 yields nSig = 63296 and nBkg = 13630\n",
      "peakVal for h2_mass at 105\n",
      "Cut of 57 < h2_mass < 153 yields nSig = 63208 and nBkg = 14520\n",
      "Cut of > 2.2 on deltaR(h1, h2) yields nSig = 63464 and nBkg = 27286\n",
      "Cut of > 0.95 on deltaR(h1 jets) yields nSig = 64175 and nBkg = 23784\n",
      "Cut of > 1.1 on deltaR(h2 jets) yields nSig = 63304 and nBkg = 21224\n",
      "========== Efficiency 0.85% , Using > =========\n",
      "peakVal for hh_mass at 319\n",
      "Cut of 107 < hh_mass < 531 yields nSig = 67078 and nBkg = 20062\n",
      "peakVal for h1_mass at 102\n",
      "Cut of 36 < h1_mass < 168 yields nSig = 67383 and nBkg = 17635\n",
      "peakVal for h2_mass at 105\n",
      "Cut of 45 < h2_mass < 165 yields nSig = 67648 and nBkg = 18135\n",
      "Cut of > 1.95 on deltaR(h1, h2) yields nSig = 67332 and nBkg = 27868\n",
      "Cut of > 0.85 on deltaR(h1 jets) yields nSig = 67723 and nBkg = 24391\n",
      "Cut of > 0.95 on deltaR(h2 jets) yields nSig = 68414 and nBkg = 22470\n",
      "========== Efficiency 0.9% , Using > =========\n",
      "peakVal for hh_mass at 319\n",
      "Cut of 47 < hh_mass < 591 yields nSig = 71039 and nBkg = 22477\n",
      "peakVal for h1_mass at 102\n",
      "Cut of 16 < h1_mass < 188 yields nSig = 71042 and nBkg = 20698\n",
      "peakVal for h2_mass at 105\n",
      "Cut of 31 < h2_mass < 179 yields nSig = 71256 and nBkg = 21908\n",
      "Cut of > 1.6 on deltaR(h1, h2) yields nSig = 71471 and nBkg = 28371\n",
      "Cut of > 0.7 on deltaR(h1 jets) yields nSig = 72234 and nBkg = 25498\n",
      "Cut of > 0.85 on deltaR(h2 jets) yields nSig = 71125 and nBkg = 23350\n",
      "*** 4. Yields using constant 90.0% efficiency cuts\n",
      "iteration 3, signal has 78876 rows\n",
      "iteration 3, background has 29176 rows\n",
      "Iteration 3 chose variable hh_mass with N_signal = 71039 (26277.1) and N_background = 22477 (22477)\n",
      "Iteration 2 chose variable h2_mass with N_signal = 65983 (24406.9) and N_background = 18650 (18650)\n",
      "iteration 1, signal has 65983 rows\n",
      "iteration 1, background has 18650 rows\n",
      "Iteration 1 chose variable h1_mass with N_signal = 63859 (23621.3) and N_background = 16142 (16142)\n",
      "S/sqrt(B) = 185.92\n",
      "iteration 3, signal has 78876 rows\n",
      "iteration 3, background has 29176 rows\n",
      "Iteration 3 chose variable deltaR(h1, h2) with N_signal = 71471 (26436.9) and N_background = 28371 (28371)\n",
      "Iteration 2 chose variable deltaR(h2 jets) with N_signal = 64301 (23784.8) and N_background = 22589 (22589)\n",
      "iteration 1, signal has 64301 rows\n",
      "iteration 1, background has 22589 rows\n",
      "Iteration 1 chose variable deltaR(h1 jets) with N_signal = 60356 (22325.5) and N_background = 20785 (20785)\n",
      "S/sqrt(B) = 154.86\n",
      "iteration 6, signal has 78876 rows\n",
      "iteration 6, background has 29176 rows\n",
      "Iteration 6 chose variable hh_mass with N_signal = 71039 (26277.1) and N_background = 22477 (22477)\n",
      "Iteration 5 chose variable h2_mass with N_signal = 65983 (24406.9) and N_background = 18650 (18650)\n",
      "Iteration 4 chose variable deltaR(h1 jets) with N_signal = 61329 (22685.4) and N_background = 15965 (15965)\n",
      "iteration 3, signal has 61329 rows\n",
      "iteration 3, background has 15965 rows\n",
      "Iteration 3 chose variable h1_mass with N_signal = 59206 (21900.1) and N_background = 13457 (13457)\n",
      "Iteration 2 chose variable deltaR(h2 jets) with N_signal = 55733 (20615.5) and N_background = 11099 (11099)\n",
      "iteration 1, signal has 55733 rows\n",
      "iteration 1, background has 11099 rows\n",
      "Iteration 1 chose variable deltaR(h1, h2) with N_signal = 50889 (18823.7) and N_background = 10603 (10603)\n",
      "S/sqrt(B) = 182.81\n",
      "*** Free Form!! ***\n",
      " Call previous cuts using <analyzer>.dictOfCutsByEfficiency, set new datasets using <analyzer.setReducedData(_signal, _background), get yields using <analyzer>.calculateYieldsAfterCuts(_eff) \n",
      "*******************************\n",
      "\n"
     ]
    }
   ],
   "source": [
    "#*** 0. Rectangular Analysis\n",
    "\n",
    "qcd_csv = pd.read_csv('../samples_500k/qcd_outputDataForLearning.csv')\n",
    "hh_csv  = pd.read_csv('../samples_500k/dihiggs_outputDataForLearning.csv')\n",
    "\n",
    "variableNames = ['hh_mass', 'h1_mass', 'h2_mass', 'deltaR(h1, h2)', 'deltaR(h1 jets)', 'deltaR(h2 jets)']\n",
    "\n",
>>>>>>> c2365c8dbf85f4d0861eca047d76216c1b5bbe39
    "rectangularAnalysis = sequentialOneDimAnalyzer(hh_csv, qcd_csv, variableNames)\n",
    "rectangularAnalysis.analyze()"
   ]
  },
  {
   "cell_type": "code",
<<<<<<< HEAD
   "execution_count": null,
   "metadata": {},
   "outputs": [],
   "source": [
    "data_train"
   ]
  },
  {
   "cell_type": "code",
   "execution_count": null,
   "metadata": {},
   "outputs": [],
   "source": [
    "# *** 4. Use previously calculated const. efficiency cuts on testing data from BDT\n",
    "cuts = rectangularAnalysis.dictOfCutsByEfficiency\n",
    "rectangularAnalysis.setReducedData(data_signal_test, data_bkg_test)\n",
    "rectangularAnalysis.calculateYieldsAfterCuts(0.90) \n",
    "rectangularAnalysis.calculateYieldsAfterCuts(0.85) \n",
    "rectangularAnalysis.calculateYieldsAfterCuts(0.80) "
   ]
  },
  {
   "cell_type": "code",
   "execution_count": null,
   "metadata": {},
   "outputs": [],
   "source": [
    "# *** 5. Calculate rectangular significance\n",
    "nSig_raw = 12465*3\n",
    "nBkg_raw = 5296\n",
    "\n",
    "hh_lumiScale = getLumiScaleFactor(testingFraction, True)\n",
    "qcd_lumiScale = getLumiScaleFactor(testingFraction, False)\n",
    "nSig_lumi = nSig_raw*hh_lumiScale\n",
    "nBkg_lumi = nBkg_raw*qcd_lumiScale\n",
    "\n",
    "print(hh_lumiScale, qcd_lumiScale)\n",
    "\n",
    "print('nSig = {0} , nBkg = {1} with significance = {2} for BDT score > {3}'.format(nSig_lumi, nBkg_lumi, nSig_lumi/np.sqrt(nBkg_lumi), 0.85) )"
   ]
  },
  {
   "cell_type": "code",
   "execution_count": null,
   "metadata": {},
   "outputs": [],
   "source": [
=======
   "execution_count": 2,
   "metadata": {},
   "outputs": [],
   "source": [
    "def makeEqualSamplesWithUserVariables(signal_raw, bkg_raw, userVariables, nEventsForXGB):\n",
    "    \"\"\"function to return 4 dataframes containing user-specified variables and number of events: 1 signal for training, 1 bkg for training, 1 signal for plotting, 1 bkg for plotting\"\"\"\n",
    "    \n",
    "    # *** 0. Reduce dataframes to only desired variables\n",
    "    signal_reduced  = signal_raw[userVariables]\n",
    "    bkg_reduced     = bkg_raw[userVariables]\n",
    "    signal_labels   = signal_raw[ ['isSignal'] ]\n",
    "    bkg_labels      = bkg_raw[ ['isSignal'] ]\n",
    "\n",
    "    # *** 1. Take first nEventsForXGB events for passing to XGB \n",
    "    signal_reducedForXGB  = signal_reduced[:nEventsForXGB]\n",
    "    bkg_reducedForXGB     = bkg_reduced[:nEventsForXGB]\n",
    "    signal_labelsForXGB   = signal_labels[:nEventsForXGB]\n",
    "    bkg_labelsForXGB      = bkg_labels[:nEventsForXGB]\n",
    "\n",
    "    # *** 2. Combine bkg+signal for passing to XGB \n",
    "    all_reducedForXGB  = signal_reducedForXGB.append(bkg_reducedForXGB)\n",
    "    all_labelsForXGB   = signal_labelsForXGB.append(bkg_labelsForXGB)\n",
    "\n",
    "    \n",
    "    # ** 3. Use additional events for unambiguous testing \n",
    "    signal_reducedForPlots  = signal_reduced[nEventsForXGB:len(bkg_reduced)]\n",
    "    bkg_reducedForPlots     = bkg_reduced[nEventsForXGB:len(bkg_reduced)]\n",
    "    signal_labelsForPlots   = signal_labels[nEventsForXGB:len(bkg_reduced)]\n",
    "    bkg_labelsForPlots      = bkg_labels[nEventsForXGB:len(bkg_reduced)]\n",
    "\n",
    "    # *** 4. Sanity check\n",
    "    print(len(all_reducedForXGB), 'rows of data with ', len(all_labelsForXGB), 'labels [XGB]')\n",
    "    print(len(signal_reducedForPlots), 'rows of signal data with ', len(bkg_labelsForPlots), 'rows of background [Plots]')\n",
    "\n",
    "    \n",
    "    return all_reducedForXGB, all_labelsForXGB, signal_reducedForPlots, signal_labelsForPlots, bkg_reducedForPlots, bkg_labelsForPlots\n",
    "\n",
>>>>>>> c2365c8dbf85f4d0861eca047d76216c1b5bbe39
    "def plotBDTOutputAndTree(_model, _modelName, _signalData, _signalLabels, _bkgData, _bkgLabels, _savePlots=False):\n",
    "    \"\"\"make plots of BDT outputs for signal+background probabilities and tree plot\"\"\"\n",
    "    \n",
    "    # *** 1. Make some 1D histograms of signal decision outputs\n",
    "    signal_DMatrix = xgb.DMatrix(_signalData, label=_signalLabels)\n",
    "    preds_signal = _model.predict(signal_DMatrix)\n",
    "    sig_pred_isBkg     = [x[0] for x in preds_signal]\n",
    "    sig_pred_isSignal  = [x[1] for x in preds_signal]\n",
    "    #plt.hist(preds_hh)\n",
    "\n",
    "    # *** 2. Make some 1D histograms of background decision outputs\n",
    "    bkg_DMatrix = xgb.DMatrix(_bkgData, label=_bkgLabels)\n",
    "    preds_bkg = _model.predict(bkg_DMatrix)\n",
    "    bkg_pred_isBkg    = [x[0] for x in preds_bkg]\n",
    "    bkg_pred_isSignal = [x[1] for x in preds_bkg]\n",
    "    #plt.hist(preds_qcd)\n",
<<<<<<< HEAD
    "    \n",
=======
    "\n",
>>>>>>> c2365c8dbf85f4d0861eca047d76216c1b5bbe39
    "    # *** 3. Plot feature importance\n",
    "    if(_savePlots):\n",
    "        xgb.plot_importance(_model)\n",
    "        _fig = plt.gcf()\n",
    "        _scope    = _modelName.split(' ')[0].lower()\n",
    "        _variable = 'featureImportance'\n",
    "        _filename  = _scope + '_' + _variable\n",
    "        _fig.savefig( _filename+'.png', bbox_inches='tight' )\n",
    "    \n",
    "    # *** 4. Make dict for plotting with borrowed functions\n",
    "    _nBins = 40\n",
    "    predictionResults = {'hh_pred_isSignal':sig_pred_isSignal, 'hh_pred_isBkg':sig_pred_isBkg, 'qcd_pred_isSignal':bkg_pred_isSignal, 'qcd_pred_isBkg':bkg_pred_isBkg,}\n",
<<<<<<< HEAD
    "    compareManyHistograms( predictionResults, ['hh_pred_isSignal', 'qcd_pred_isSignal'], 2, 'Signal Prediction', 'BDT Score ({0})'.format(_modelName), 0, 1, _nBins, _normed=True, _savePlot=_savePlots )\n",
    "    compareManyHistograms( predictionResults, ['hh_pred_isBkg', 'qcd_pred_isBkg'], 2, 'Bkg Prediction', 'BDT Score ({0})'.format(_modelName), 0, 1, _nBins, _normed=True, _savePlot=_savePlots )\n",
    "    xgb.plot_importance(_model)\n",
=======
    "    compareManyHistograms( predictionResults, ['hh_pred_isSignal', 'qcd_pred_isSignal'], 2, 'Signal Prediction', 'BDT Score ({0})'.format(_modelName), 0, 1, _nBins, _savePlot=_savePlots )\n",
    "    compareManyHistograms( predictionResults, ['hh_pred_isBkg', 'qcd_pred_isBkg'], 2, 'Bkg Prediction', 'BDT Score ({0})'.format(_modelName), 0, 1, _nBins, _savePlot=_savePlots )\n",
>>>>>>> c2365c8dbf85f4d0861eca047d76216c1b5bbe39
    "\n",
    "    # *** 5. Make plot of 0th tree\n",
    "    #xgb.plot_tree(_model,num_trees=0)\n",
    "    #plt.gcf().set_size_inches(100, 67)\n",
    "    #_fig = plt.gcf()\n",
    "    #plt.show()\n",
    "    \n",
    "    #if(_savePlots):\n",
    "    #    _variable = 'firstTrainedDecisionTree'\n",
    "    #    _filename  = _scope + '_' + _variable\n",
    "    #    _fig.savefig( _filename+'.png' )\n",
    "        \n",
    "    # *** 6. restore figure defaults\n",
    "    plt.rcParams['figure.figsize'] = [6.4, 4.8]\n",
    "\n",
    "    \n",
<<<<<<< HEAD
    "    return\n"
=======
    "    return\n",
    "\n",
    "\n",
    "\n",
    "def compareManyHistograms( _dict, _labels, _nPlot, _title, _xtitle, _xMin, _xMax, _nBins, _normed=False, _savePlot=False):\n",
    "       \n",
    "    if len(_dict.keys()) < len(_labels):\n",
    "        print (\"!!! Unequal number of arrays and labels. Learn to count better.\")\n",
    "        return 0\n",
    "    \n",
    "    plt.figure(_nPlot)\n",
    "    if _normed:\n",
    "        plt.title(_title + ' (Normalized)')\n",
    "    else:\n",
    "        plt.title(_title)\n",
    "    plt.xlabel(_xtitle)\n",
    "    plt.ylabel('N_events')\n",
    "    _bins = np.linspace(_xMin, _xMax, _nBins)\n",
    "   \n",
    "    y_max = 0\n",
    "    for iLabel in _labels:\n",
    "        plt.hist(_dict[iLabel], _bins, alpha=0.5, density=_normed, label= iLabel+' Events')\n",
    "        \n",
    "        # get values of histgoram to find greatest y\n",
    "        #_y, _x, _ = plt.hist(_dict[iLabel])\n",
    "        #if (_y.max() > y_max):\n",
    "        #    y_max = _y.max()\n",
    "    \n",
    "    # set max y-value of histogram so there's room for legend\n",
    "    axes = plt.gca()\n",
    "    axes.set_ylim([0,11000])\n",
    "    #plt.ylim([0,1.2*y_max])\n",
    "    \n",
    "    #draw legend\n",
    "    plt.legend(loc='upper left')\n",
    "    #plt.text(.1, .1, s1)\n",
    "    \n",
    "    # store figure copy for later saving\n",
    "    fig = plt.gcf()\n",
    "    \n",
    "    # draw interactively\n",
    "    plt.show()\n",
    "    \n",
    "    #save an image file\n",
    "    if(_savePlot):\n",
    "        _scope    = _title.split(' ')[0].lower()\n",
    "        _variable = _xtitle.lstrip('Jet Pair').replace(' ','').replace('[GeV]','').replace('(','_').replace(')','')\n",
    "        _filename  = _scope + '_' + _variable\n",
    "        if _normed:\n",
    "            _filename = _filename + '_norm'\n",
    "        fig.savefig( _filename+'.png', bbox_inches='tight' )\n",
    "    \n",
    "    \n",
    "    return"
>>>>>>> c2365c8dbf85f4d0861eca047d76216c1b5bbe39
   ]
  },
  {
   "cell_type": "code",
<<<<<<< HEAD
   "execution_count": 3,
=======
   "execution_count": 4,
>>>>>>> c2365c8dbf85f4d0861eca047d76216c1b5bbe39
   "metadata": {},
   "outputs": [
    {
     "name": "stdout",
     "output_type": "stream",
     "text": [
<<<<<<< HEAD
      "N_sig = 78876 , N_bkg = 116481\n",
      "195357 rows of total data with  195357 labels [Train+Test]\n",
      "136749 rows of training data with  136749 labels [Train]\n",
      "58608 rows of testing data with  58608 labels [Test]\n"
     ]
    },
    {
     "name": "stderr",
     "output_type": "stream",
     "text": [
      "/home/btannenw/.local/lib/python3.7/site-packages/xgboost/core.py:587: FutureWarning: Series.base is deprecated and will be removed in a future version\n",
      "  if getattr(data, 'base', None) is not None and \\\n"
     ]
    },
    {
     "name": "stdout",
     "output_type": "stream",
     "text": [
      "23567 35041\n",
      "nSig = 480.63095999999996 , nBkg = 360562.65599999996 with significance = 0.8004263377133864 for BDT score > 0.6418133667021086\n"
     ]
    }
   ],
   "source": [
    "def loadModelAndCalculateSignifiance(_modelPath, _modelName, _testingFraction, _signalDF, _bkgDF):\n",
    "    \n",
    "    # *** A. Load model\n",
    "    _loadedModel = pickle.load(open(_modelPath, 'rb'))\n",
    "   \n",
    "    # *** B. Get datasets for testing and training\n",
    "    _data_train, _data_test, _labels_train, _labels_test = makeTestTrainSamplesWithUserVariables(_signalDF.copy(), _bkgDF.copy(), _loadedModel.feature_names, _testingFraction)\n",
    "\n",
    "    # *** C. Split hh and qcd from testing data\n",
    "    _data_signal_test, _labels_signal_test, _data_bkg_test, _labels_bkg_test = returnTestSamplesSplitIntoSignalAndBackground(_data_test, _labels_test)\n",
    "\n",
    "    # *** D. Plot output BDT predictions\n",
    "    #plotBDTOutputAndTree(_loadedModel, _modelName, _data_signal_test, _labels_signal_test, _data_bkg_test, _labels_bkg_test, _savePlots=True)\n",
    "\n",
    "    # *** E. Make predictions \n",
    "    _sig_DMatrix = xgb.DMatrix(_data_signal_test, label=_labels_signal_test)\n",
    "    _preds_sig   = _loadedModel.predict(_sig_DMatrix)\n",
    "    _bkg_DMatrix = xgb.DMatrix(_data_bkg_test, label=_labels_bkg_test)\n",
    "    _preds_bkg   = _loadedModel.predict(_bkg_DMatrix)\n",
    "\n",
    "    _sig_pred_isSignal   = [x[1] for x in _preds_sig]\n",
    "    _bkg_pred_isSignal  = [x[1] for x in _preds_bkg]\n",
    "\n",
    "    # *** F. Calculate significance \n",
    "    returnBestCutValue('BDT', _sig_pred_isSignal.copy(), _bkg_pred_isSignal.copy(), _minBackground=200)\n",
    "    \n",
    "    return\n",
    "\n",
    "###########################################\n",
    "#*** 1. Import BDT model and check stuff\n",
    "\n",
    "# *** A. Import Dataset\n",
    "hh_raw, qcd_raw = importDatasets()\n",
    "\n",
    "# *** B. Load model and calculate significance\n",
    "#loadModelAndCalculateSignifiance('models/model.top10.pkl', 'load10', 0.3, hh_raw.copy(), qcd_raw.copy() )\n",
    "loadModelAndCalculateSignifiance('models/grid-model.allVars.pkl', 'gridAllVars', testingFraction, hh_raw.copy(), qcd_raw.copy() )\n"
=======
      "20000 rows of data with  20000 labels [XGB]\n",
      "19176 rows of signal data with  19176 rows of background [Plots]\n"
     ]
    },
    {
     "data": {
      "image/png": "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\n",
      "text/plain": [
       "<Figure size 432x288 with 1 Axes>"
      ]
     },
     "metadata": {
      "needs_background": "light"
     },
     "output_type": "display_data"
    },
    {
     "data": {
      "image/png": "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\n",
      "text/plain": [
       "<Figure size 432x288 with 1 Axes>"
      ]
     },
     "metadata": {
      "needs_background": "light"
     },
     "output_type": "display_data"
    },
    {
     "data": {
      "image/png": "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\n",
      "text/plain": [
       "<Figure size 432x288 with 1 Axes>"
      ]
     },
     "metadata": {
      "needs_background": "light"
     },
     "output_type": "display_data"
    }
   ],
   "source": [
    "#*** 1. Import BDT model and check stuff\n",
    "# *** 0. Import Dataset\n",
    "qcd_raw = pd.read_csv('../samples_500k/qcd_outputDataForLearning.csv')\n",
    "qcd_raw['isSignal'] = 0\n",
    "hh_raw = pd.read_csv('../samples_500k/dihiggs_outputDataForLearning.csv')\n",
    "hh_raw['isSignal'] = 1\n",
    "\n",
    "\n",
    "# *** 5. Make mix of dihiggs and QCD for top-10 optimal variables\n",
    "nEventsToTrain = 10000\n",
    "variables_top10 = ['deltaR(h1, h2)', 'deltaR(h1 jets)', 'deltaR(h2 jets)', 'hh_mass', 'h1_mass', 'h2_mass','hh_pt', 'h1_pt', 'h2_pt', 'scalarHT']\n",
    "top10_data, top10_labels, hh_top10_data, hh_top10_labels, qcd_top10_data, qcd_top10_labels = makeEqualSamplesWithUserVariables(hh_raw, qcd_raw, variables_top10, nEventsToTrain) \n",
    "load_top10 = pickle.load(open('models/model.top10.pkl', 'rb'))\n",
    "plotBDTOutputAndTree(load_top10, 'load10', hh_top10_data, hh_top10_labels, qcd_top10_data, qcd_top10_labels, _savePlots=True)\n",
    "\n",
    "hh_DMatrix = xgb.DMatrix(hh_top10_data, label=hh_top10_labels)\n",
    "preds_hh = load_top10.predict(hh_DMatrix)\n",
    "qcd_DMatrix = xgb.DMatrix(qcd_top10_data, label=qcd_top10_labels)\n",
    "preds_qcd = load_top10.predict(qcd_DMatrix)\n",
    "\n",
    "hh_pred_isSignal   = [x[1] for x in preds_hh]\n",
    "qcd_pred_isSignal  = [x[1] for x in preds_qcd]\n"
   ]
  },
  {
   "cell_type": "code",
   "execution_count": 16,
   "metadata": {},
   "outputs": [],
   "source": [
    "def returnBestCutValue( _variable, _signal, _background, _method='S/sqrt(B)', _minBackground=500):\n",
    "    \"\"\"find best cut according to user-specified significance metric\"\"\"\n",
    "    \n",
    "    _bestSignificance = -1\n",
    "    _bestCutValue = -1\n",
    "    _massWidth = 30 #GeV\n",
    "    _nTotalSignal =len(_signal) \n",
    "    _nTotalBackground =len(_background) \n",
    "    _cuts = []\n",
    "    _sortedSignal = np.sort(_signal )\n",
    "    _sortedBackground = np.sort(_background )\n",
    "\n",
    "    print(_nTotalSignal, _nTotalBackground)\n",
    "    _minVal = min( min(_sortedSignal), min(_sortedBackground) )\n",
    "    _maxVal = max( max(_sortedSignal), max(_sortedBackground) )\n",
    "    \n",
    "    if 'mass' in _variable:\n",
    "        _stepSize = 0.05 if 'mass' not in _variable else 5\n",
    "        _cuts = list(range(_minVal, _maxVal, _stepSize))\n",
    "    else:\n",
    "        _cuts = np.linspace(_minVal, _maxVal, 100)\n",
    "    \n",
    "    #print(_minVal, _maxVal)\n",
    "\n",
    "    for iCutValue in _cuts:\n",
    "        _nSignal = sum( value > iCutValue for value in _signal)*lumiScale_hh_to_qcd*totalLumi_HLLHC\n",
    "        _nBackground = sum( value > iCutValue for value in _background)*totalLumi_HLLHC\n",
    "        \n",
    "        # safety check to avoid division by 0\n",
    "        if _nBackground < _minBackground: # 500 is semi-random choice.. it's where one series started to oscillate\n",
    "            #print(\"continued on {0}\".format(iCutValue))\n",
    "            continue\n",
    "        \n",
    "        #if _method == 'S/sqrt(B)':\n",
    "        #    print(_nSignal, _nBackground, iCutValue, (_nSignal / np.sqrt(_nBackground)), (_nSignal / np.sqrt(_nSignal + _nBackground)))\n",
    "        \n",
    "        if _method == 'S/B' and (_nSignal / _nBackground) > _bestSignificance:\n",
    "            _bestSignificance = (_nSignal / _nBackground)\n",
    "            _bestCutValue = iCutValue\n",
    "        elif _method == 'S/sqrt(B)' and (_nSignal / np.sqrt(_nBackground)) > _bestSignificance:\n",
    "            _bestSignificance = (_nSignal / np.sqrt(_nBackground))\n",
    "            _bestCutValue = iCutValue\n",
    "        elif _method == 'S/sqrt(S+B)' and (_nSignal / np.sqrt(_nSignal + _nBackground)) > _bestSignificance:\n",
    "            _bestSignificance = (_nSignal / np.sqrt(_nSignal + _nBackground))\n",
    "            _bestCutValue = iCutValue\n",
    "                \n",
    "        #print(iCutValue, _nSignal, _nBackground, (_nSignal / np.sqrt(_nBackground)))\n",
    "\n",
    "    _nSignal = sum( value > _bestCutValue for value in _signal)*lumiScale_hh_to_qcd*totalLumi_HLLHC\n",
    "    _nBackground = sum( value > _bestCutValue for value in _background)*totalLumi_HLLHC\n",
    "    #print(_nSignal, _nBackground, _nSignal/np.sqrt(_nBackground), _bestCutValue)\n",
    "    print('nSig = {0} , nBkg = {1} with significance = {2} for BDT score > {3}'.format(_nSignal, _nBackground, _nSignal/np.sqrt(_nBackground), _bestCutValue) )\n",
    "          \n",
    "    return _bestSignificance, _bestCutValue\n"
>>>>>>> c2365c8dbf85f4d0861eca047d76216c1b5bbe39
   ]
  },
  {
   "cell_type": "code",
<<<<<<< HEAD
   "execution_count": null,
   "metadata": {},
   "outputs": [],
   "source": [
    "# *** 2. Get best cut value for BDT assuming some minimal amount of signal\n",
    "returnBestCutValue('BDT', hh_pred_isSignal.copy(), qcd_pred_isSignal.copy(), _minBackground=200)"
=======
   "execution_count": 17,
   "metadata": {},
   "outputs": [
    {
     "name": "stdout",
     "output_type": "stream",
     "text": [
      "19176 19176\n",
      "nSig = 523.4316159108798 , nBkg = 603000 with significance = 0.6740642510072967 for BDT score > 0.8321596416409569\n"
     ]
    },
    {
     "data": {
      "text/plain": [
       "(0.6740642510072967, 0.8321596416409569)"
      ]
     },
     "execution_count": 17,
     "metadata": {},
     "output_type": "execute_result"
    }
   ],
   "source": [
    "# *** 2. Get best cut value for BDT assuming some minimal amount of signal\n",
    "returnBestCutValue('BDT', hh_pred_isSignal.copy(), qcd_pred_isSignal.copy(), _minBackground=10)"
>>>>>>> c2365c8dbf85f4d0861eca047d76216c1b5bbe39
   ]
  },
  {
   "cell_type": "code",
<<<<<<< HEAD
   "execution_count": null,
   "metadata": {},
   "outputs": [],
   "source": [
    "# *** 3. Get signifiance for any user-specified BDT score cut value\n",
    "cut = 0.485\n",
=======
   "execution_count": 68,
   "metadata": {},
   "outputs": [
    {
     "name": "stdout",
     "output_type": "stream",
     "text": [
      "nSig = 5977 , nBkg = 411 with significance = 294.82366786575994 for BDT score > 0.811\n"
     ]
    }
   ],
   "source": [
    "# *** 3. Get signifiance for any user-specified BDT score cut value\n",
    "cut = 0.811\n",
>>>>>>> c2365c8dbf85f4d0861eca047d76216c1b5bbe39
    "_nSignal = sum( value > cut for value in hh_pred_isSignal)*lumiScale_hh_to_qcd*totalLumi_HLLHC\n",
    "_nBackground = sum( value > cut for value in qcd_pred_isSignal)*totalLumi_HLLHC\n",
    "\n",
    "print('nSig = {0} , nBkg = {1} with significance = {2} for BDT score > {3}'.format(_nSignal, _nBackground, _nSignal/np.sqrt(_nBackground), cut) )"
   ]
  },
  {
   "cell_type": "code",
<<<<<<< HEAD
   "execution_count": null,
   "metadata": {},
   "outputs": [],
   "source": [
    "pickle.dump(rectangularAnalysis, open('rectangularModel.normSignal_qcd2M.pkl', 'wb'))\n"
=======
   "execution_count": 32,
   "metadata": {},
   "outputs": [
    {
     "name": "stdout",
     "output_type": "stream",
     "text": [
      "iteration 3, signal has 19176 rows\n",
      "iteration 3, background has 19176 rows\n",
      "Iteration 3 chose variable hh_mass with N_signal = 17300 (17300.0) and N_background = 14746 (14746)\n",
      "Iteration 2 chose variable h2_mass with N_signal = 16082 (16082.0) and N_background = 12228 (12228)\n",
      "iteration 1, signal has 16082 rows\n",
      "iteration 1, background has 12228 rows\n",
      "Iteration 1 chose variable h1_mass with N_signal = 15566 (15566.0) and N_background = 10536 (10536)\n",
      "S/sqrt(B) = 151.65\n",
      "iteration 3, signal has 19176 rows\n",
      "iteration 3, background has 19176 rows\n",
      "Iteration 3 chose variable deltaR(h1, h2) with N_signal = 17427 (17427.0) and N_background = 18640 (18640)\n",
      "Iteration 2 chose variable deltaR(h2 jets) with N_signal = 15668 (15668.0) and N_background = 14829 (14829)\n",
      "iteration 1, signal has 15668 rows\n",
      "iteration 1, background has 14829 rows\n",
      "Iteration 1 chose variable deltaR(h1 jets) with N_signal = 14777 (14777.0) and N_background = 13656 (13656)\n",
      "S/sqrt(B) = 126.45\n",
      "iteration 6, signal has 19176 rows\n",
      "iteration 6, background has 19176 rows\n",
      "Iteration 6 chose variable hh_mass with N_signal = 17300 (17300.0) and N_background = 14746 (14746)\n",
      "Iteration 5 chose variable h2_mass with N_signal = 16082 (16082.0) and N_background = 12228 (12228)\n",
      "Iteration 4 chose variable deltaR(h1 jets) with N_signal = 14991 (14991.0) and N_background = 10472 (10472)\n",
      "iteration 3, signal has 14991 rows\n",
      "iteration 3, background has 10472 rows\n",
      "Iteration 3 chose variable h1_mass with N_signal = 14475 (14475.0) and N_background = 8780 (8780)\n",
      "Iteration 2 chose variable deltaR(h2 jets) with N_signal = 13632 (13632.0) and N_background = 7241 (7241)\n",
      "iteration 1, signal has 13632 rows\n",
      "iteration 1, background has 7241 rows\n",
      "Iteration 1 chose variable deltaR(h1, h2) with N_signal = 12493 (12493.0) and N_background = 6902 (6902)\n",
      "S/sqrt(B) = 150.38\n",
      "iteration 3, signal has 19176 rows\n",
      "iteration 3, background has 19176 rows\n",
      "Iteration 3 chose variable hh_mass with N_signal = 16366 (16366.0) and N_background = 13159 (13159)\n",
      "Iteration 2 chose variable h2_mass with N_signal = 14541 (14541.0) and N_background = 9374 (9374)\n",
      "iteration 1, signal has 14541 rows\n",
      "iteration 1, background has 9374 rows\n",
      "Iteration 1 chose variable h1_mass with N_signal = 13763 (13763.0) and N_background = 7322 (7322)\n",
      "S/sqrt(B) = 160.84\n",
      "iteration 3, signal has 19176 rows\n",
      "iteration 3, background has 19176 rows\n",
      "Iteration 3 chose variable deltaR(h1, h2) with N_signal = 16413 (16413.0) and N_background = 18312 (18312)\n",
      "Iteration 2 chose variable deltaR(h2 jets) with N_signal = 14158 (14158.0) and N_background = 13964 (13964)\n",
      "iteration 1, signal has 14158 rows\n",
      "iteration 1, background has 13964 rows\n",
      "Iteration 1 chose variable deltaR(h1 jets) with N_signal = 12845 (12845.0) and N_background = 12607 (12607)\n",
      "S/sqrt(B) = 114.4\n",
      "iteration 6, signal has 19176 rows\n",
      "iteration 6, background has 19176 rows\n",
      "Iteration 6 chose variable hh_mass with N_signal = 16366 (16366.0) and N_background = 13159 (13159)\n",
      "Iteration 5 chose variable h2_mass with N_signal = 14541 (14541.0) and N_background = 9374 (9374)\n",
      "Iteration 4 chose variable deltaR(h1 jets) with N_signal = 12949 (12949.0) and N_background = 7789 (7789)\n",
      "iteration 3, signal has 12949 rows\n",
      "iteration 3, background has 7789 rows\n",
      "Iteration 3 chose variable h1_mass with N_signal = 12229 (12229.0) and N_background = 5950 (5950)\n",
      "Iteration 2 chose variable deltaR(h2 jets) with N_signal = 11500 (11500.0) and N_background = 5219 (5219)\n",
      "iteration 1, signal has 11500 rows\n",
      "iteration 1, background has 5219 rows\n",
      "Iteration 1 chose variable deltaR(h1, h2) with N_signal = 10042 (10042.0) and N_background = 4807 (4807)\n",
      "S/sqrt(B) = 144.84\n",
      "iteration 3, signal has 19176 rows\n",
      "iteration 3, background has 19176 rows\n",
      "Iteration 3 chose variable hh_mass with N_signal = 15422 (15422.0) and N_background = 11929 (11929)\n",
      "Iteration 2 chose variable h2_mass with N_signal = 12928 (12928.0) and N_background = 7033 (7033)\n",
      "iteration 1, signal has 12928 rows\n",
      "iteration 1, background has 7033 rows\n",
      "Iteration 1 chose variable h1_mass with N_signal = 11855 (11855.0) and N_background = 4626 (4626)\n",
      "S/sqrt(B) = 174.3\n",
      "iteration 3, signal has 19176 rows\n",
      "iteration 3, background has 19176 rows\n",
      "Iteration 3 chose variable deltaR(h1, h2) with N_signal = 15503 (15503.0) and N_background = 17933 (17933)\n",
      "Iteration 2 chose variable deltaR(h2 jets) with N_signal = 12288 (12288.0) and N_background = 12835 (12835)\n",
      "iteration 1, signal has 12288 rows\n",
      "iteration 1, background has 12835 rows\n",
      "Iteration 1 chose variable deltaR(h1 jets) with N_signal = 10863 (10863.0) and N_background = 11502 (11502)\n",
      "S/sqrt(B) = 101.29\n",
      "iteration 6, signal has 19176 rows\n",
      "iteration 6, background has 19176 rows\n",
      "Iteration 6 chose variable hh_mass with N_signal = 15422 (15422.0) and N_background = 11929 (11929)\n",
      "Iteration 5 chose variable h2_mass with N_signal = 12928 (12928.0) and N_background = 7033 (7033)\n",
      "Iteration 4 chose variable deltaR(h1 jets) with N_signal = 11095 (11095.0) and N_background = 5850 (5850)\n",
      "iteration 3, signal has 11095 rows\n",
      "iteration 3, background has 5850 rows\n",
      "Iteration 3 chose variable h1_mass with N_signal = 10222 (10222.0) and N_background = 4011 (4011)\n",
      "Iteration 2 chose variable deltaR(h2 jets) with N_signal = 9328 (9328.0) and N_background = 3610 (3610)\n",
      "iteration 1, signal has 9328 rows\n",
      "iteration 1, background has 3610 rows\n",
      "Iteration 1 chose variable deltaR(h1, h2) with N_signal = 7765 (7765.0) and N_background = 3193 (3193)\n",
      "S/sqrt(B) = 137.42\n"
     ]
    }
   ],
   "source": [
    "# *** 4. Use previously calculated const. efficiency cuts on testing data from BDT\n",
    "cuts = rectangularAnalysis.dictOfCutsByEfficiency\n",
    "rectangularAnalysis.setReducedData(hh_top10_data, qcd_top10_data)\n",
    "rectangularAnalysis.calculateYieldsAfterCuts(0.90) \n",
    "rectangularAnalysis.calculateYieldsAfterCuts(0.85) \n",
    "rectangularAnalysis.calculateYieldsAfterCuts(0.80) \n"
>>>>>>> c2365c8dbf85f4d0861eca047d76216c1b5bbe39
   ]
  },
  {
   "cell_type": "code",
<<<<<<< HEAD
   "execution_count": null,
   "metadata": {},
   "outputs": [],
   "source": [
    "# *** 4. Use previously calculated const. efficiency cuts on testing data from BDT\n",
    "rectangularAnalysis = \n",
    "cuts = rectangularAnalysis.dictOfCutsByEfficiency\n",
    "rectangularAnalysis.setReducedData(data_signal_test, data_bkg_test)\n",
    "rectangularAnalysis.calculateYieldsAfterCuts(0.90) \n",
    "rectangularAnalysis.calculateYieldsAfterCuts(0.85) \n",
    "rectangularAnalysis.calculateYieldsAfterCuts(0.80) "
   ]
=======
   "execution_count": 80,
   "metadata": {},
   "outputs": [
    {
     "name": "stdout",
     "output_type": "stream",
     "text": [
      "20000 rows of data with  20000 labels [XGB]\n",
      "19176 rows of signal data with  19176 rows of background [Plots]\n"
     ]
    },
    {
     "data": {
      "image/png": "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\n",
      "text/plain": [
       "<Figure size 460.8x345.6 with 1 Axes>"
      ]
     },
     "metadata": {
      "needs_background": "light"
     },
     "output_type": "display_data"
    },
    {
     "data": {
      "image/png": "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\n",
      "text/plain": [
       "<Figure size 460.8x345.6 with 1 Axes>"
      ]
     },
     "metadata": {
      "needs_background": "light"
     },
     "output_type": "display_data"
    },
    {
     "data": {
      "image/png": "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\n",
      "text/plain": [
       "<Figure size 460.8x345.6 with 1 Axes>"
      ]
     },
     "metadata": {
      "needs_background": "light"
     },
     "output_type": "display_data"
    },
    {
     "name": "stdout",
     "output_type": "stream",
     "text": [
      "19176 19176\n",
      "nSig = 5597 , nBkg = 405 with significance = 278.11716600147383 for BDT score > 0.7974770520672654\n"
     ]
    },
    {
     "data": {
      "text/plain": [
       "(278.11716600147383, 0.7974770520672654)"
      ]
     },
     "execution_count": 80,
     "metadata": {},
     "output_type": "execute_result"
    }
   ],
   "source": [
    "# *** 5. Make mix of dihiggs and QCD for top-10 optimal variables\n",
    "nEventsToTrain = 10000\n",
    "variables_top10 = ['deltaR(h1, h2)', 'deltaR(h1 jets)', 'deltaR(h2 jets)', 'h1_mass', 'h2_mass', 'scalarHT']\n",
    "top10_data, top10_labels, hh_top10_data, hh_top10_labels, qcd_top10_data, qcd_top10_labels = makeEqualSamplesWithUserVariables(hh_raw, qcd_raw, variables_top10, nEventsToTrain) \n",
    "load_top10 = pickle.load(open('models/model.top6.pkl', 'rb'))\n",
    "plotBDTOutputAndTree(load_top10, 'load10', hh_top10_data, hh_top10_labels, qcd_top10_data, qcd_top10_labels, _savePlots=True)\n",
    "\n",
    "hh_DMatrix = xgb.DMatrix(hh_top10_data, label=hh_top10_labels)\n",
    "preds_hh = load_top10.predict(hh_DMatrix)\n",
    "qcd_DMatrix = xgb.DMatrix(qcd_top10_data, label=qcd_top10_labels)\n",
    "preds_qcd = load_top10.predict(qcd_DMatrix)\n",
    "\n",
    "hh_pred_isSignal   = [x[1] for x in preds_hh]\n",
    "qcd_pred_isSignal  = [x[1] for x in preds_qcd]\n",
    "\n",
    "returnBestCutValue('BDT', hh_pred_isSignal.copy(), qcd_pred_isSignal.copy(), _minBackground=400)"
   ]
  },
  {
   "cell_type": "code",
   "execution_count": null,
   "metadata": {},
   "outputs": [],
   "source": []
>>>>>>> c2365c8dbf85f4d0861eca047d76216c1b5bbe39
  }
 ],
 "metadata": {
  "kernelspec": {
   "display_name": "Python 3",
   "language": "python",
   "name": "python3"
  },
  "language_info": {
   "codemirror_mode": {
    "name": "ipython",
    "version": 3
   },
   "file_extension": ".py",
   "mimetype": "text/x-python",
   "name": "python",
   "nbconvert_exporter": "python",
   "pygments_lexer": "ipython3",
   "version": "3.7.4"
  }
 },
 "nbformat": 4,
 "nbformat_minor": 2
}
