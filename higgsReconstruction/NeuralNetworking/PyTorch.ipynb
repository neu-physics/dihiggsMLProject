{
 "cells": [
  {
   "cell_type": "code",
   "execution_count": 1,
   "metadata": {},
   "outputs": [],
   "source": [
    "import torch.nn as nn\n",
    "import torch.nn.functional as F\n",
    "import torch.optim as optim"
   ]
  },
  {
   "cell_type": "code",
   "execution_count": 2,
   "metadata": {},
   "outputs": [],
   "source": [
    "class Net(nn.Module):\n",
    "    def __init__(self):\n",
    "        super().__init__()\n",
    "        self.dense1 = nn.Linear(2,5)\n",
    "        self.dense2 = nn.Linear(5,5)\n",
    "        self.dense3 = nn.Linear(5,1)\n",
    "        \n",
    "    def forward(self, x):\n",
    "        x = self.dense1(x)\n",
    "        x = F.relu(x)\n",
    "        x = self.dense2(x)\n",
    "        x = F.relu(x)\n",
    "        x = self.dense3(x)\n",
    "        x = self.sigmoid(x)\n",
    "        return x"
   ]
  },
  {
   "cell_type": "code",
   "execution_count": 3,
   "metadata": {},
   "outputs": [
    {
     "name": "stdout",
     "output_type": "stream",
     "text": [
      "[Parameter containing:\n",
      "tensor([[-0.1075,  0.5397],\n",
      "        [ 0.1570, -0.1336],\n",
      "        [-0.1701,  0.0830],\n",
      "        [-0.2409,  0.4176],\n",
      "        [-0.2192, -0.2259]], requires_grad=True), Parameter containing:\n",
      "tensor([-0.6124, -0.4154,  0.2429, -0.1535, -0.3596], requires_grad=True), Parameter containing:\n",
      "tensor([[-0.0059, -0.1177, -0.0071,  0.4431,  0.0933],\n",
      "        [ 0.3762,  0.1138,  0.4004, -0.1875,  0.4000],\n",
      "        [ 0.4139,  0.3590,  0.1364,  0.1032,  0.1852],\n",
      "        [-0.2194,  0.0670,  0.1126, -0.0588, -0.3163],\n",
      "        [ 0.4470,  0.2787, -0.2202,  0.2967, -0.3046]], requires_grad=True), Parameter containing:\n",
      "tensor([-0.0774, -0.3737, -0.1824, -0.1888, -0.1281], requires_grad=True), Parameter containing:\n",
      "tensor([[-0.1504,  0.1083, -0.0303,  0.0913,  0.0826]], requires_grad=True), Parameter containing:\n",
      "tensor([-0.0389], requires_grad=True)]\n"
     ]
    }
   ],
   "source": [
    "criterion = nn.MSELoss()\n",
    "net = Net()\n",
    "print(list(net.parameters()))\n",
    "optimizer = optim.SGD(net.parameters(),lr=0.01)\n"
   ]
  },
  {
   "cell_type": "code",
   "execution_count": 4,
   "metadata": {},
   "outputs": [],
   "source": [
    "x = net.parameters().__next__()"
   ]
  },
  {
   "cell_type": "code",
   "execution_count": 5,
   "metadata": {},
   "outputs": [
    {
     "name": "stdout",
     "output_type": "stream",
     "text": [
      "tensor([[-0.1075,  0.5397],\n",
      "        [ 0.1570, -0.1336],\n",
      "        [-0.1701,  0.0830],\n",
      "        [-0.2409,  0.4176],\n",
      "        [-0.2192, -0.2259]])\n",
      "None\n"
     ]
    }
   ],
   "source": [
    "print(\"{}\".format(x.data))\n",
    "print(\"{}\".format(x.grad))"
   ]
  },
  {
   "cell_type": "code",
   "execution_count": 6,
   "metadata": {},
   "outputs": [
    {
     "ename": "NameError",
     "evalue": "name 'Tensor' is not defined",
     "output_type": "error",
     "traceback": [
      "\u001b[0;31m---------------------------------------------------------------------------\u001b[0m",
      "\u001b[0;31mNameError\u001b[0m                                 Traceback (most recent call last)",
      "\u001b[0;32m<ipython-input-6-9ca4a8a77d53>\u001b[0m in \u001b[0;36m<module>\u001b[0;34m\u001b[0m\n\u001b[0;32m----> 1\u001b[0;31m \u001b[0minput\u001b[0m \u001b[0;34m=\u001b[0m \u001b[0mTensor\u001b[0m\u001b[0;34m(\u001b[0m\u001b[0mtorch\u001b[0m\u001b[0;34m.\u001b[0m\u001b[0mrand\u001b[0m\u001b[0;34m(\u001b[0m\u001b[0;36m1\u001b[0m\u001b[0;34m,\u001b[0m\u001b[0;36m2\u001b[0m\u001b[0;34m)\u001b[0m\u001b[0;34m,\u001b[0m \u001b[0mrequires_grad\u001b[0m\u001b[0;34m=\u001b[0m\u001b[0;32mTrue\u001b[0m\u001b[0;34m)\u001b[0m\u001b[0;34m\u001b[0m\u001b[0;34m\u001b[0m\u001b[0m\n\u001b[0m",
      "\u001b[0;31mNameError\u001b[0m: name 'Tensor' is not defined"
     ]
    }
   ],
   "source": [
    "input = Tensor(torch.rand(1,2), requires_grad=True)"
   ]
  },
  {
   "cell_type": "code",
   "execution_count": null,
   "metadata": {},
   "outputs": [],
   "source": []
  },
  {
   "cell_type": "code",
   "execution_count": null,
   "metadata": {},
   "outputs": [],
   "source": []
  }
 ],
 "metadata": {
  "kernelspec": {
   "display_name": "eulerspython",
   "language": "python",
   "name": "eulerspython"
  },
  "language_info": {
   "codemirror_mode": {
    "name": "ipython",
    "version": 3
   },
   "file_extension": ".py",
   "mimetype": "text/x-python",
   "name": "python",
   "nbconvert_exporter": "python",
   "pygments_lexer": "ipython3",
   "version": "3.6.5"
  }
 },
 "nbformat": 4,
 "nbformat_minor": 2
}
