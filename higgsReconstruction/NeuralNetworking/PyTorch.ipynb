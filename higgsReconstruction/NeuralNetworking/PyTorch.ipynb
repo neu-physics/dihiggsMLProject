{
 "cells": [
  {
   "cell_type": "code",
   "execution_count": 1,
   "metadata": {},
   "outputs": [],
   "source": [
    "import torch\n",
    "import torch.nn as nn\n",
    "import torch.nn.functional as F\n",
    "import torch.optim as optim\n",
    "import copy"
   ]
  },
  {
   "cell_type": "code",
   "execution_count": 2,
   "metadata": {},
   "outputs": [],
   "source": [
    "# class Net(nn.Module):\n",
    "#     def __init__(self):\n",
    "#         super().__init__()\n",
    "#         self.dense1 = nn.Linear(2,5)\n",
    "#         self.dense2 = nn.Linear(5,5)\n",
    "#         self.dense3 = nn.Linear(5,1)\n",
    "        \n",
    "#     def forward(self, x):\n",
    "#         x = self.dense1(x)\n",
    "#         x = F.relu(x)\n",
    "#         x = self.dense2(x)\n",
    "#         x = F.relu(x)\n",
    "#         x = self.dense3(x)\n",
    "#         x = self.sigmoid(x)\n",
    "#         return x\n",
    "\n",
    "# criterion = nn.MSELoss()\n",
    "# net = Net()\n",
    "# print(list(net.parameters()))\n",
    "# optimizer = optim.SGD(net.parameters(),lr=0.01)\n",
    "\n",
    "# x = net.parameters().__next__()\n",
    "\n",
    "# print(\"{}\".format(x.data))\n",
    "# print(\"{}\".format(x.grad))\n",
    "\n",
    "# input = torch.tensor(torch.rand(1,2), requires_grad=True)\n",
    "# print(input)"
   ]
  },
  {
   "cell_type": "code",
   "execution_count": null,
   "metadata": {},
   "outputs": [],
   "source": []
  },
  {
   "cell_type": "code",
   "execution_count": 36,
   "metadata": {},
   "outputs": [
    {
     "name": "stdout",
     "output_type": "stream",
     "text": [
      "forward prop:\n",
      "\n",
      "layer vals [tensor([[0.6625, 0.8657, 0.0725]]), tensor([[0.7118, 0.5734]]), tensor([[0.2617]])]\n"
     ]
    }
   ],
   "source": [
    "# forward prop\n",
    "## sigmoid activation function using pytorch\n",
    "def sigmoid_activation(z):\n",
    "    return 1 / (1 + torch.exp(-z))\n",
    "## activation of hidden layer \n",
    "# z1 = torch.mm(x, w1) + b1\n",
    "# a1 = sigmoid_activation(z1)\n",
    "# ## activation (output) of final layer \n",
    "# z2 = torch.mm(a1, w2) + b2\n",
    "# output = sigmoid_activation(z2)\n",
    "# print(x)\n",
    "# print(z1)\n",
    "# print(output)\n",
    "\n",
    "\n",
    "def forward_prop(_data, _nodes, _weights, _biases):\n",
    "    layer_vals = []\n",
    "    a = _data\n",
    "    for i in range(len(_nodes)-2): # feed thru hidden layers\n",
    "#         print(_weights[i])\n",
    "#         print(_biases[i])\n",
    "        z = torch.mm(a, _weights[i]) + _biases[i]\n",
    "        a = sigmoid_activation(z)\n",
    "        layer_vals.append(a)\n",
    "#         print(\"a after \", i, \":\",a)\n",
    "    # feed thru last layer\n",
    "#     print(\"uh\")\n",
    "#     print(_weights[-1], _biases[-1])\n",
    "#     print(torch.mm(a, _weights[-1]))\n",
    "    z_out = torch.mm(a, _weights[-1]) + _biases[-1]\n",
    "    output = sigmoid_activation(z_out)\n",
    "    layer_vals.append(output)\n",
    "#     print(output)\n",
    "    return layer_vals\n",
    "\n",
    "print(\"forward prop:\\n\")\n",
    "y_out = forward_prop(x, nodes, weights, biases)\n",
    "print(\"layer vals\", y_out)"
   ]
  },
  {
   "cell_type": "code",
   "execution_count": 37,
   "metadata": {},
   "outputs": [],
   "source": [
    "# loss computation\n",
    "# loss = y - output\n",
    "def calculate_loss(_layer_vals):\n",
    "    return y - _layer_vals[-1]"
   ]
  },
  {
   "cell_type": "code",
   "execution_count": 38,
   "metadata": {},
   "outputs": [],
   "source": [
    "# back propogation\n",
    "## function to calculate the derivative of activation\n",
    "def sigmoid_delta(x):\n",
    "  return x * (1 - x)\n",
    "## compute derivative of error terms\n",
    "# delta_output = sigmoid_delta(output)\n",
    "# delta_hidden = sigmoid_delta(a1)\n",
    "\n",
    "# ## backpass the changes to previous layers \n",
    "# d_outp = loss * delta_output\n",
    "# loss_h = torch.mm(d_outp, w2.t())\n",
    "# d_hidn = loss_h * delta_hidden\n",
    "\n",
    "# # update parameters\n",
    "# learning_rate = 0.1\n",
    "\n",
    "# w2 += torch.mm(a1.t(), d_outp) * learning_rate\n",
    "# w1 += torch.mm(x.t(), d_hidn) * learning_rate\n",
    "\n",
    "# b2 += d_outp.sum() * learning_rate\n",
    "# b1 += d_hidn.sum() * learning_rate\n",
    "\n",
    "# print(w2, w1)"
   ]
  },
  {
   "cell_type": "code",
   "execution_count": 39,
   "metadata": {},
   "outputs": [
    {
     "name": "stdout",
     "output_type": "stream",
     "text": [
      "[tensor([[ 0.1363,  0.9971,  0.0078],\n",
      "        [ 0.4750,  0.3185,  1.3495],\n",
      "        [-0.4299,  0.6760, -0.4416],\n",
      "        [-0.5805, -0.6495,  0.3358],\n",
      "        [-1.0582, -2.1176,  1.2568]]), tensor([[ 0.6560, -0.8607],\n",
      "        [ 0.4205, -0.8615],\n",
      "        [ 0.5707,  0.7148]]), tensor([[-1.1920],\n",
      "        [ 0.0596]])]\n"
     ]
    }
   ],
   "source": [
    "print(weights)"
   ]
  },
  {
   "cell_type": "code",
   "execution_count": 40,
   "metadata": {},
   "outputs": [
    {
     "name": "stdout",
     "output_type": "stream",
     "text": [
      "[tensor([[0.6625, 0.8657, 0.0725]]), tensor([[0.7118, 0.5734]]), tensor([[0.2617]])]\n"
     ]
    }
   ],
   "source": [
    "print(y_out)\n",
    "\n",
    "def backprop_and_update(_layer_vals, _weights, _biases, _data):\n",
    "    loss = calculate_loss(_layer_vals)\n",
    "    deltas = [] # from first hidden to output\n",
    "    ds = [] # from output to first hidden\n",
    "    # compute derivative of error terms\n",
    "    for a in _layer_vals:\n",
    "        deltas.append(sigmoid_delta(a))\n",
    "    loss_d = loss\n",
    "    for d, w in zip(reversed(deltas), reversed(_weights)):\n",
    "        dd = loss * d\n",
    "        loss_d = torch.mm(d, w.t())\n",
    "        ds.append(dd)\n",
    "    learning_rate = 0.1\n",
    "    _as = copy.deepcopy(_layer_vals)\n",
    "    _as.insert(0,x)\n",
    "    del _as[-1]\n",
    "#     print(\"\\n Layer vals \\n\", _layer_vals)\n",
    "    new_weights = []\n",
    "    new_biases = []\n",
    "    print(\"lengths\", len(ds), len(_weights), len(_as))\n",
    "    for d, w, a, b in zip(ds, reversed(_weights), _as, reversed(_biases)):\n",
    "        wt = torch.mm(a.t(),d) * learning_rate\n",
    "        new_weights.insert(0, wt)\n",
    "        \n",
    "        bi = b + d.sum()*learning_rate\n",
    "        new_biases.insert(0,bi)\n",
    "    return new_weights,  new_biases   "
   ]
  },
  {
   "cell_type": "code",
   "execution_count": 41,
   "metadata": {},
   "outputs": [
    {
     "name": "stdout",
     "output_type": "stream",
     "text": [
      "[tensor([[ 0.1363,  0.9971,  0.0078],\n",
      "        [ 0.4750,  0.3185,  1.3495],\n",
      "        [-0.4299,  0.6760, -0.4416],\n",
      "        [-0.5805, -0.6495,  0.3358],\n",
      "        [-1.0582, -2.1176,  1.2568]]), tensor([[ 0.6560, -0.8607],\n",
      "        [ 0.4205, -0.8615],\n",
      "        [ 0.5707,  0.7148]]), tensor([[-1.1920],\n",
      "        [ 0.0596]])]\n",
      "lengths 3 3 3\n",
      "Weights [tensor([[-0.0055, -0.0029, -0.0017],\n",
      "        [-0.0044, -0.0023, -0.0013]]), tensor([[-0.0047, -0.0056],\n",
      "        [-0.0061, -0.0073],\n",
      "        [-0.0005, -0.0006]]), tensor([[ 0.0033],\n",
      "        [ 0.0026],\n",
      "        [-0.0028],\n",
      "        [-0.0038],\n",
      "        [ 0.0106]])]\n"
     ]
    }
   ],
   "source": [
    "print(weights)\n",
    "weights_2, biases_2 = backprop_and_update(y_out, weights, biases, x)\n",
    "print(\"Weights\",weights_2 )"
   ]
  },
  {
   "cell_type": "code",
   "execution_count": 42,
   "metadata": {},
   "outputs": [],
   "source": [
    "def train(_data, _labels, _nodes, _epochs):\n",
    "    #param initialization\n",
    "    weights = []\n",
    "    for i in range(len(_nodes)-1):\n",
    "        w = torch.randn(_nodes[i], _nodes[i+1])\n",
    "        weights.append(w)\n",
    "    biases = []\n",
    "    for i in range(len(nodes)-1):\n",
    "        b = torch.randn(1, nodes[i+1])\n",
    "        biases.append(b)\n",
    "    \n",
    "    print(\"WEIGHTS ARRAY:\\n\", weights)\n",
    "    print(\"BIASES ARRAY:\\n\", biases)\n",
    "\n",
    "    print(\"\\n TRAINING \\n\")\n",
    "    y_out = forward_prop(_data, _nodes, weights, biases)\n",
    "    weights_2, biases_2 = backprop_and_update(y_out, weights, biases, _data)\n",
    "    print(\"Final Weights: \\n\", weights_2)\n",
    "    print(\"Final Biases: \\n\", biases_2)\n",
    "    \n",
    "   "
   ]
  },
  {
   "cell_type": "code",
   "execution_count": 43,
   "metadata": {},
   "outputs": [
    {
     "name": "stdout",
     "output_type": "stream",
     "text": [
      "WEIGHTS ARRAY:\n",
      " [tensor([[ 1.2508, -0.8454,  0.4690],\n",
      "        [-1.1219, -0.5904,  0.1739],\n",
      "        [ 1.7703,  0.9717,  1.6507],\n",
      "        [-0.3860,  0.8910,  2.8173],\n",
      "        [-0.3859,  1.3775, -1.0677]]), tensor([[ 1.8160, -0.0628],\n",
      "        [-0.1015,  0.8879],\n",
      "        [-0.6252,  0.2118]]), tensor([[ 0.0629],\n",
      "        [-0.8303]])]\n",
      "BIASES ARRAY:\n",
      " [tensor([[-0.9305, -0.9786, -0.2937]]), tensor([[-1.4985,  0.6054]]), tensor([[-0.6038]])]\n",
      "\n",
      " TRAINING \n",
      "\n",
      "lengths 3 3 3\n",
      "Final Weights: \n",
      " [tensor([[-0.0012, -0.0033, -0.0002],\n",
      "        [-0.0043, -0.0117, -0.0007]]), tensor([[-0.0011, -0.0014],\n",
      "        [-0.0038, -0.0049],\n",
      "        [-0.0002, -0.0002]]), tensor([[ 0.0013],\n",
      "        [ 0.0111],\n",
      "        [ 0.0166],\n",
      "        [ 0.0055],\n",
      "        [-0.0110]])]\n",
      "Final Biases: \n",
      " [tensor([[-0.9543, -1.0024, -0.3175]]), tensor([[-1.5277,  0.5762]]), tensor([[-0.6181]])]\n"
     ]
    }
   ],
   "source": [
    "## initialize tensor for inputs, and outputs \n",
    "x = torch.randn((1, 5))\n",
    "y = torch.randn((1, 1))\n",
    "nodes = [5, 3, 2, 1]\n",
    "train(x, y, nodes, 10)"
   ]
  },
  {
   "cell_type": "code",
   "execution_count": null,
   "metadata": {},
   "outputs": [],
   "source": []
  },
  {
   "cell_type": "code",
   "execution_count": null,
   "metadata": {},
   "outputs": [],
   "source": []
  },
  {
   "cell_type": "code",
   "execution_count": null,
   "metadata": {},
   "outputs": [],
   "source": []
  }
 ],
 "metadata": {
  "kernelspec": {
   "display_name": "eulerspython",
   "language": "python",
   "name": "eulerspython"
  },
  "language_info": {
   "codemirror_mode": {
    "name": "ipython",
    "version": 3
   },
   "file_extension": ".py",
   "mimetype": "text/x-python",
   "name": "python",
   "nbconvert_exporter": "python",
   "pygments_lexer": "ipython3",
   "version": "3.6.5"
  }
 },
 "nbformat": 4,
 "nbformat_minor": 2
}
