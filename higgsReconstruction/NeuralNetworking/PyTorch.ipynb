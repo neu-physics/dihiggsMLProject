{
 "cells": [
  {
   "cell_type": "code",
   "execution_count": 12,
   "metadata": {},
   "outputs": [],
   "source": [
    "import torch\n",
    "import torch.nn as nn\n",
    "import torch.nn.functional as F\n",
    "import torch.optim as optim"
   ]
  },
  {
   "cell_type": "code",
   "execution_count": 13,
   "metadata": {},
   "outputs": [],
   "source": [
    "# class Net(nn.Module):\n",
    "#     def __init__(self):\n",
    "#         super().__init__()\n",
    "#         self.dense1 = nn.Linear(2,5)\n",
    "#         self.dense2 = nn.Linear(5,5)\n",
    "#         self.dense3 = nn.Linear(5,1)\n",
    "        \n",
    "#     def forward(self, x):\n",
    "#         x = self.dense1(x)\n",
    "#         x = F.relu(x)\n",
    "#         x = self.dense2(x)\n",
    "#         x = F.relu(x)\n",
    "#         x = self.dense3(x)\n",
    "#         x = self.sigmoid(x)\n",
    "#         return x\n",
    "\n",
    "# criterion = nn.MSELoss()\n",
    "# net = Net()\n",
    "# print(list(net.parameters()))\n",
    "# optimizer = optim.SGD(net.parameters(),lr=0.01)\n",
    "\n",
    "# x = net.parameters().__next__()\n",
    "\n",
    "# print(\"{}\".format(x.data))\n",
    "# print(\"{}\".format(x.grad))\n",
    "\n",
    "# input = torch.tensor(torch.rand(1,2), requires_grad=True)\n",
    "# print(input)"
   ]
  },
  {
   "cell_type": "code",
   "execution_count": 15,
   "metadata": {},
   "outputs": [],
   "source": [
    "#param initialization\n",
    "n_input, n_hidden, n_output = 5, 3, 1\n",
    "\n",
    "## initialize tensor for inputs, and outputs \n",
    "x = torch.randn((1, n_input))\n",
    "y = torch.randn((1, n_output))\n",
    "\n",
    "## initialize tensor variables for weights \n",
    "w1 = torch.randn(n_input, n_hidden) # weight for hidden layer\n",
    "w2 = torch.randn(n_hidden, n_output) # weight for output layer\n",
    "\n",
    "## initialize tensor variables for bias terms \n",
    "b1 = torch.randn((1, n_hidden)) # bias for hidden layer\n",
    "b2 = torch.randn((1, n_output)) # bias for output layer"
   ]
  },
  {
   "cell_type": "code",
   "execution_count": null,
   "metadata": {},
   "outputs": [],
   "source": [
    "# forward prop\n"
   ]
  },
  {
   "cell_type": "code",
   "execution_count": null,
   "metadata": {},
   "outputs": [],
   "source": []
  },
  {
   "cell_type": "code",
   "execution_count": null,
   "metadata": {},
   "outputs": [],
   "source": []
  },
  {
   "cell_type": "code",
   "execution_count": null,
   "metadata": {},
   "outputs": [],
   "source": []
  },
  {
   "cell_type": "code",
   "execution_count": null,
   "metadata": {},
   "outputs": [],
   "source": []
  }
 ],
 "metadata": {
  "kernelspec": {
   "display_name": "eulerspython",
   "language": "python",
   "name": "eulerspython"
  },
  "language_info": {
   "codemirror_mode": {
    "name": "ipython",
    "version": 3
   },
   "file_extension": ".py",
   "mimetype": "text/x-python",
   "name": "python",
   "nbconvert_exporter": "python",
   "pygments_lexer": "ipython3",
   "version": "3.6.5"
  }
 },
 "nbformat": 4,
 "nbformat_minor": 2
}
