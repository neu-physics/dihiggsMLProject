{
 "cells": [
  {
   "cell_type": "code",
   "execution_count": 8,
   "metadata": {},
   "outputs": [],
   "source": [
    "import torch\n",
    "import torch.nn as nn\n",
    "import torch.nn.functional as F\n",
    "import torch.optim as optim"
   ]
  },
  {
   "cell_type": "code",
   "execution_count": 9,
   "metadata": {},
   "outputs": [],
   "source": [
    "class Net(nn.Module):\n",
    "    def __init__(self):\n",
    "        super().__init__()\n",
    "        self.dense1 = nn.Linear(2,5)\n",
    "        self.dense2 = nn.Linear(5,5)\n",
    "        self.dense3 = nn.Linear(5,1)\n",
    "        \n",
    "    def forward(self, x):\n",
    "        x = self.dense1(x)\n",
    "        x = F.relu(x)\n",
    "        x = self.dense2(x)\n",
    "        x = F.relu(x)\n",
    "        x = self.dense3(x)\n",
    "        x = self.sigmoid(x)\n",
    "        return x"
   ]
  },
  {
   "cell_type": "code",
   "execution_count": 10,
   "metadata": {},
   "outputs": [
    {
     "name": "stdout",
     "output_type": "stream",
     "text": [
      "[Parameter containing:\n",
      "tensor([[-0.2356, -0.4787],\n",
      "        [-0.0213,  0.2120],\n",
      "        [-0.3703, -0.0195],\n",
      "        [ 0.2966, -0.1641],\n",
      "        [ 0.0831,  0.5503]], requires_grad=True), Parameter containing:\n",
      "tensor([-0.6645,  0.7037, -0.1365,  0.5337,  0.4184], requires_grad=True), Parameter containing:\n",
      "tensor([[-0.3391, -0.2891,  0.1100,  0.3941,  0.4051],\n",
      "        [-0.1421,  0.2659, -0.1078,  0.1768,  0.3608],\n",
      "        [-0.1865,  0.3967, -0.3976,  0.1589,  0.2206],\n",
      "        [-0.1132,  0.0639,  0.0714, -0.0704,  0.1027],\n",
      "        [-0.1645,  0.3483,  0.1465,  0.0934,  0.0274]], requires_grad=True), Parameter containing:\n",
      "tensor([ 0.0955, -0.1162, -0.3976, -0.3735, -0.0307], requires_grad=True), Parameter containing:\n",
      "tensor([[-0.0027, -0.0458,  0.1504, -0.3220, -0.3760]], requires_grad=True), Parameter containing:\n",
      "tensor([0.4025], requires_grad=True)]\n"
     ]
    }
   ],
   "source": [
    "criterion = nn.MSELoss()\n",
    "net = Net()\n",
    "print(list(net.parameters()))\n",
    "optimizer = optim.SGD(net.parameters(),lr=0.01)\n"
   ]
  },
  {
   "cell_type": "code",
   "execution_count": 11,
   "metadata": {},
   "outputs": [],
   "source": [
    "x = net.parameters().__next__()"
   ]
  },
  {
   "cell_type": "code",
   "execution_count": 12,
   "metadata": {},
   "outputs": [
    {
     "name": "stdout",
     "output_type": "stream",
     "text": [
      "tensor([[-0.2356, -0.4787],\n",
      "        [-0.0213,  0.2120],\n",
      "        [-0.3703, -0.0195],\n",
      "        [ 0.2966, -0.1641],\n",
      "        [ 0.0831,  0.5503]])\n",
      "None\n"
     ]
    }
   ],
   "source": [
    "print(\"{}\".format(x.data))\n",
    "print(\"{}\".format(x.grad))"
   ]
  },
  {
   "cell_type": "code",
   "execution_count": 15,
   "metadata": {},
   "outputs": [
    {
     "name": "stdout",
     "output_type": "stream",
     "text": [
      "tensor([[0.5478, 0.6197]], requires_grad=True)\n"
     ]
    },
    {
     "name": "stderr",
     "output_type": "stream",
     "text": [
      "/Users/annacuddeback/LHCResearch/venv/lib/python3.6/site-packages/ipykernel_launcher.py:1: UserWarning: To copy construct from a tensor, it is recommended to use sourceTensor.clone().detach() or sourceTensor.clone().detach().requires_grad_(True), rather than torch.tensor(sourceTensor).\n",
      "  \"\"\"Entry point for launching an IPython kernel.\n"
     ]
    }
   ],
   "source": [
    "input = torch.tensor(torch.rand(1,2), requires_grad=True)\n",
    "print(input)"
   ]
  },
  {
   "cell_type": "code",
   "execution_count": null,
   "metadata": {},
   "outputs": [],
   "source": []
  },
  {
   "cell_type": "code",
   "execution_count": null,
   "metadata": {},
   "outputs": [],
   "source": []
  }
 ],
 "metadata": {
  "kernelspec": {
   "display_name": "eulerspython",
   "language": "python",
   "name": "eulerspython"
  },
  "language_info": {
   "codemirror_mode": {
    "name": "ipython",
    "version": 3
   },
   "file_extension": ".py",
   "mimetype": "text/x-python",
   "name": "python",
   "nbconvert_exporter": "python",
   "pygments_lexer": "ipython3",
   "version": "3.6.5"
  }
 },
 "nbformat": 4,
 "nbformat_minor": 2
}
