{
 "cells": [
  {
   "cell_type": "code",
   "execution_count": 1,
   "metadata": {},
   "outputs": [],
   "source": [
    "import numpy as np\n",
    "from sklearn.model_selection import train_test_split\n",
    "import matplotlib\n",
    "from matplotlib import pyplot as plt\n",
    "# # SciKitLearn is a useful machine learning utilities library\n",
    "# import sklearn\n",
    "# # The sklearn dataset module helps generating |datasets\n",
    "# import sklearn.datasets\n",
    "# import sklearn.linear_model\n",
    "# from sklearn.preprocessing import OneHotEncoder\n",
    "# from sklearn.preprocessing import normalize\n",
    "# from scipy.stats import gaussian_kde\n",
    "import pandas as pd\n",
    "import network as nn"
   ]
  },
  {
   "cell_type": "code",
   "execution_count": 2,
   "metadata": {},
   "outputs": [],
   "source": [
    "# Import Dataset\n",
    "qcd_raw = pd.read_csv('../EventPlotting/qcd_outputDataForLearning.csv')\n",
    "hh_raw = pd.read_csv('../EventPlotting/dihiggs_outputDataForLearning.csv')"
   ]
  },
  {
   "cell_type": "code",
   "execution_count": 3,
   "metadata": {},
   "outputs": [
    {
     "name": "stdout",
     "output_type": "stream",
     "text": [
      "1703 rows of qcd data\n",
      "4605 rows of dihiggs data\n"
     ]
    }
   ],
   "source": [
    "qcd_raw.head()\n",
    "print(len(qcd_raw), \"rows of qcd data\")\n",
    "hh_raw.head()\n",
    "print(len(hh_raw), \"rows of dihiggs data\")"
   ]
  },
  {
   "cell_type": "code",
   "execution_count": 4,
   "metadata": {},
   "outputs": [],
   "source": [
    "# Make higgs and qcd sets from raw data\n",
    "hh_all = hh_raw[['h1_mass', 'h2_mass', 'deltaR(h1 jets)', 'deltaR(h2 jets)']]\n",
    "qcd = qcd_raw[['h1_mass', 'h2_mass', 'deltaR(h1 jets)', 'deltaR(h2 jets)']]"
   ]
  },
  {
   "cell_type": "code",
   "execution_count": 5,
   "metadata": {},
   "outputs": [],
   "source": [
    "hh_all = np.array(hh_all)\n",
    "qcd = np.array(qcd)"
   ]
  },
  {
   "cell_type": "code",
   "execution_count": 6,
   "metadata": {},
   "outputs": [],
   "source": [
    "# add labels to di-higgs\n",
    "hh_all=hh_all[:,:4]\n",
    "# print(hh[0:3])\n",
    "hh_labels= np.zeros((len(hh_all),1))\n",
    "hh_labels = hh_labels+1\n",
    "#a = hh[:len(hh)]\n",
    "# print(a.shape)\n",
    "hh_all = np.append(hh_all, hh_labels, axis=1)\n",
    "# print(hh.shape)\n",
    "# print(hh[0:3])"
   ]
  },
  {
   "cell_type": "code",
   "execution_count": 7,
   "metadata": {},
   "outputs": [],
   "source": [
    "# add labels to qcd\n",
    "qcd=qcd[:,:4]\n",
    "# print(hh[0:3])\n",
    "qcd_labels= np.zeros((len(qcd),1))\n",
    "#a = hh[:len(hh)]\n",
    "# print(a.shape)\n",
    "qcd = np.append(qcd, qcd_labels, axis=1)\n",
    "# print(hh.shape)\n",
    "# print(hh[0:3])\n",
    "# print(qcd[:4])"
   ]
  },
  {
   "cell_type": "code",
   "execution_count": 8,
   "metadata": {},
   "outputs": [],
   "source": [
    "# select a quarter of hh events so that the set is half and half\n",
    "# we shuffle the list first to take a random 1/4. this means we have a different dataset every time\n",
    "# np.random.seed(0)\n",
    "# np.random.shuffle(hh_all) \n",
    "hh = hh_all[0:len(qcd)]"
   ]
  },
  {
   "cell_type": "code",
   "execution_count": 9,
   "metadata": {},
   "outputs": [
    {
     "name": "stdout",
     "output_type": "stream",
     "text": [
      "[[148.29183647 158.29664593   2.39941158   3.04517197   1.        ]\n",
      " [ 96.55363983  58.55460135   1.3437355    1.1183898    1.        ]\n",
      " [110.27188042 130.16422715   0.69737734   1.15238492   1.        ]\n",
      " [179.64052569 166.13619263   2.05337635   2.09055659   1.        ]]\n",
      "[[124.32560775 111.57092015   2.30806958   1.8907895    0.        ]\n",
      " [ 44.27017863  50.02795445   0.53594587   0.67197657   0.        ]\n",
      " [ 26.86431539  97.05075322   0.50002477   1.24722521   0.        ]\n",
      " [ 52.99052297  68.4701516    0.85636988   1.41845491   0.        ]]\n"
     ]
    }
   ],
   "source": [
    "print(hh[:4])\n",
    "print(qcd[:4])"
   ]
  },
  {
   "cell_type": "code",
   "execution_count": null,
   "metadata": {},
   "outputs": [],
   "source": []
  },
  {
   "cell_type": "code",
   "execution_count": 10,
   "metadata": {},
   "outputs": [
    {
     "name": "stdout",
     "output_type": "stream",
     "text": [
      "[[148.29183647 158.29664593   2.39941158   3.04517197   1.        ]\n",
      " [ 96.55363983  58.55460135   1.3437355    1.1183898    1.        ]\n",
      " [ 26.86431539  97.05075322   0.50002477   1.24722521   0.        ]\n",
      " [ 44.27017863  50.02795445   0.53594587   0.67197657   0.        ]]\n",
      "[[148.29183647 158.29664593   2.39941158   3.04517197]\n",
      " [ 96.55363983  58.55460135   1.3437355    1.1183898 ]\n",
      " [ 26.86431539  97.05075322   0.50002477   1.24722521]\n",
      " [ 44.27017863  50.02795445   0.53594587   0.67197657]]\n",
      "[[1.]\n",
      " [1.]\n",
      " [0.]\n",
      " [0.]]\n"
     ]
    }
   ],
   "source": [
    "all_data = np.append(hh[:4],qcd[:4], axis=0) \n",
    "for i in range (8): # shuffle 8 times\n",
    "    np.random.shuffle(all_data) \n",
    "print(all_data[:4])\n",
    "all_labels = all_data[:,4:]\n",
    "all_data = all_data[:,:4]\n",
    "print(all_data[:4])\n",
    "print(all_labels[:4])\n",
    "# print(test_data)"
   ]
  },
  {
   "cell_type": "code",
   "execution_count": 11,
   "metadata": {},
   "outputs": [],
   "source": [
    "# TODO: Train-Test split\n",
    "train_data, test_data, train_labels, test_labels = train_test_split(all_data, all_labels, train_size=0.5, test_size=0.5, random_state=42)\n"
   ]
  },
  {
   "cell_type": "code",
   "execution_count": 12,
   "metadata": {},
   "outputs": [
    {
     "name": "stdout",
     "output_type": "stream",
     "text": [
      "Loss after iteration 0 : 0.6194491365458066\n",
      "Train Accuracy after iteration 0 : 37.5 %\n",
      "Test Accuracy after iteration 0 : 37.5 %\n",
      "Loss after iteration 300 : 0.500017338012623\n",
      "Train Accuracy after iteration 300 : 37.5 %\n",
      "Test Accuracy after iteration 300 : 37.5 %\n",
      "Loss after iteration 600 : 0.5000004903100337\n",
      "Train Accuracy after iteration 600 : 37.5 %\n",
      "Test Accuracy after iteration 600 : 37.5 %\n",
      "Loss after iteration 900 : 0.5011524020354159\n",
      "Train Accuracy after iteration 900 : 37.5 %\n",
      "Test Accuracy after iteration 900 : 37.5 %\n",
      "Loss after iteration 1200 : 0.5000003057853306\n",
      "Train Accuracy after iteration 1200 : 37.5 %\n",
      "Test Accuracy after iteration 1200 : 37.5 %\n",
      "Loss after iteration 1500 : 0.5000000006771325\n",
      "Train Accuracy after iteration 1500 : 37.5 %\n",
      "Test Accuracy after iteration 1500 : 37.5 %\n",
      "Loss after iteration 1800 : 0.5000000000473916\n",
      "Train Accuracy after iteration 1800 : 37.5 %\n",
      "Test Accuracy after iteration 1800 : 37.5 %\n",
      "Loss after iteration 2100 : 0.5000000000098406\n",
      "Train Accuracy after iteration 2100 : 37.5 %\n",
      "Test Accuracy after iteration 2100 : 37.5 %\n"
     ]
    }
   ],
   "source": [
    "learnRate = 0.04 \n",
    "np.random.seed(0)\n",
    "model = nn.initialize_parameters(nn_input_dim=4, nn_hdim= 12, nn_output_dim= 2)\n",
    "model = nn.trainThenTest(model,train_data,train_labels, test_data=test_data, test_labels=test_labels,learning_rate=learnRate,epochs=2101,print_loss=True) # original learning rate is 0.01\n"
   ]
  },
  {
   "cell_type": "code",
   "execution_count": 13,
   "metadata": {},
   "outputs": [
    {
     "data": {
      "text/plain": [
       "<Figure size 432x288 with 0 Axes>"
      ]
     },
     "metadata": {},
     "output_type": "display_data"
    }
   ],
   "source": [
    "nn.plotAccPerEpoch(\"Title\")"
   ]
  },
  {
   "cell_type": "code",
   "execution_count": null,
   "metadata": {},
   "outputs": [],
   "source": []
  },
  {
   "cell_type": "code",
   "execution_count": null,
   "metadata": {},
   "outputs": [],
   "source": []
  },
  {
   "cell_type": "code",
   "execution_count": null,
   "metadata": {},
   "outputs": [],
   "source": []
  }
 ],
 "metadata": {
  "kernelspec": {
   "display_name": "eulerspython",
   "language": "python",
   "name": "eulerspython"
  },
  "language_info": {
   "codemirror_mode": {
    "name": "ipython",
    "version": 3
   },
   "file_extension": ".py",
   "mimetype": "text/x-python",
   "name": "python",
   "nbconvert_exporter": "python",
   "pygments_lexer": "ipython3",
   "version": "3.6.5"
  }
 },
 "nbformat": 4,
 "nbformat_minor": 2
}
