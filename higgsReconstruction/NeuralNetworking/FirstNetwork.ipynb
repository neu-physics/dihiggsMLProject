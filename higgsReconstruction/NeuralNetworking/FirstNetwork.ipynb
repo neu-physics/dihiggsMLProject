{
 "cells": [
  {
   "cell_type": "code",
   "execution_count": 1,
   "metadata": {},
   "outputs": [],
   "source": [
    "import numpy as np\n",
    "from sklearn.model_selection import train_test_split\n",
    "import matplotlib\n",
    "from matplotlib import pyplot as plt\n",
    "# # SciKitLearn is a useful machine learning utilities library\n",
    "# import sklearn\n",
    "# # The sklearn dataset module helps generating |datasets\n",
    "# import sklearn.datasets\n",
    "# import sklearn.linear_model\n",
    "# from sklearn.preprocessing import OneHotEncoder\n",
    "# from sklearn.preprocessing import normalize\n",
    "# from scipy.stats import gaussian_kde\n",
    "import pandas as pd\n"
   ]
  },
  {
   "cell_type": "code",
   "execution_count": 2,
   "metadata": {},
   "outputs": [],
   "source": [
    "# Import Dataset\n",
    "qcd_raw = pd.read_csv('../EventPlotting/qcd_outputDataForLearning.csv')\n",
    "hh_raw = pd.read_csv('../EventPlotting/dihiggs_outputDataForLearning.csv')"
   ]
  },
  {
   "cell_type": "code",
   "execution_count": 3,
   "metadata": {},
   "outputs": [
    {
     "name": "stdout",
     "output_type": "stream",
     "text": [
      "1703 rows of qcd data\n",
      "4605 rows of dihiggs data\n"
     ]
    }
   ],
   "source": [
    "qcd_raw.head()\n",
    "print(len(qcd_raw), \"rows of qcd data\")\n",
    "hh_raw.head()\n",
    "print(len(hh_raw), \"rows of dihiggs data\")"
   ]
  },
  {
   "cell_type": "code",
   "execution_count": 10,
   "metadata": {},
   "outputs": [],
   "source": [
    "# Make higgs and qcd sets from raw data\n",
    "hh_all = hh_raw[['h1_mass', 'h2_mass', 'deltaR(h1 jets)', 'deltaR(h2 jets)']]\n",
    "qcd = qcd_raw[['h1_mass', 'h2_mass', 'deltaR(h1 jets)', 'deltaR(h2 jets)']]"
   ]
  },
  {
   "cell_type": "code",
   "execution_count": 11,
   "metadata": {},
   "outputs": [],
   "source": [
    "hh_all = np.array(hh_all)\n",
    "qcd = np.array(qcd)"
   ]
  },
  {
   "cell_type": "code",
   "execution_count": 12,
   "metadata": {},
   "outputs": [],
   "source": [
    "# add labels to di-higgs\n",
    "hh_all=hh_all[:,:4]\n",
    "# print(hh[0:3])\n",
    "hh_labels= np.zeros((len(hh_all),1))\n",
    "hh_labels = hh_labels+1\n",
    "#a = hh[:len(hh)]\n",
    "# print(a.shape)\n",
    "hh_all = np.append(hh_all, hh_labels, axis=1)\n",
    "# print(hh.shape)\n",
    "# print(hh[0:3])"
   ]
  },
  {
   "cell_type": "code",
   "execution_count": 18,
   "metadata": {},
   "outputs": [
    {
     "name": "stdout",
     "output_type": "stream",
     "text": [
      "[[124.32560775 111.57092015   2.30806958   1.8907895    1.        ]\n",
      " [ 44.27017863  50.02795445   0.53594587   0.67197657   1.        ]\n",
      " [ 26.86431539  97.05075322   0.50002477   1.24722521   1.        ]\n",
      " [ 52.99052297  68.4701516    0.85636988   1.41845491   1.        ]]\n"
     ]
    }
   ],
   "source": [
    "# add labels to qcd\n",
    "qcd=qcd[:,:4]\n",
    "# print(hh[0:3])\n",
    "qcd_labels= np.zeros((len(qcd),1))\n",
    "qcd_labels = qcd_labels+1\n",
    "#a = hh[:len(hh)]\n",
    "# print(a.shape)\n",
    "qcd = np.append(qcd, qcd_labels, axis=1)\n",
    "# print(hh.shape)\n",
    "# print(hh[0:3])\n",
    "print(qcd[:4])"
   ]
  },
  {
   "cell_type": "code",
   "execution_count": 16,
   "metadata": {},
   "outputs": [],
   "source": [
    "# select a quarter of hh events so that the set is half and half\n",
    "hh = hh[0:len(qcd)]"
   ]
  },
  {
   "cell_type": "code",
   "execution_count": 29,
   "metadata": {},
   "outputs": [
    {
     "name": "stdout",
     "output_type": "stream",
     "text": [
      "[148.29183647 158.29664593   2.39941158   3.04517197   1.\n",
      "  96.55363983  58.55460135   1.3437355    1.1183898    1.\n",
      " 110.27188042 130.16422715   0.69737734   1.15238492   1.\n",
      " 179.64052569 166.13619263   2.05337635   2.09055659   1.\n",
      " 124.32560775 111.57092015   2.30806958   1.8907895    1.\n",
      "  44.27017863  50.02795445   0.53594587   0.67197657   1.\n",
      "  26.86431539  97.05075322   0.50002477   1.24722521   1.\n",
      "  52.99052297  68.4701516    0.85636988   1.41845491   1.        ]\n"
     ]
    }
   ],
   "source": [
    "test_data = np.append(hh[:4],qcd[:4]) \n",
    "print(test_data)"
   ]
  },
  {
   "cell_type": "code",
   "execution_count": 32,
   "metadata": {},
   "outputs": [
    {
     "name": "stdout",
     "output_type": "stream",
     "text": [
      "[ 96.55363983   1.           1.1183898  179.64052569   0.53594587\n",
      " 124.32560775 110.27188042   1.24722521  58.55460135 130.16422715\n",
      "   1.           1.          97.05075322  50.02795445  44.27017863\n",
      "   0.67197657   0.85636988  26.86431539   1.8907895    2.05337635\n",
      "   1.15238492   1.           3.04517197 166.13619263 158.29664593\n",
      "   1.          52.99052297   2.09055659  68.4701516    1.\n",
      "   2.39941158   2.30806958   1.           1.41845491   0.69737734\n",
      "   0.50002477   1.         111.57092015   1.3437355  148.29183647]\n"
     ]
    }
   ],
   "source": [
    "np.random.shuffle(test_data)\n",
    "print(test_data)"
   ]
  },
  {
   "cell_type": "code",
   "execution_count": 22,
   "metadata": {},
   "outputs": [
    {
     "data": {
      "text/plain": [
       "array([6, 0, 4, 1, 3, 9, 7, 8, 5, 2])"
      ]
     },
     "execution_count": 22,
     "metadata": {},
     "output_type": "execute_result"
    }
   ],
   "source": [
    "arr = np.arange(10)\n",
    "np.random.shuffle(arr)\n",
    "arr"
   ]
  },
  {
   "cell_type": "code",
   "execution_count": 27,
   "metadata": {},
   "outputs": [
    {
     "name": "stdout",
     "output_type": "stream",
     "text": [
      "[[0 1 2]\n",
      " [3 4 5]\n",
      " [6 7 8]]\n",
      "[[3 4 5]\n",
      " [0 1 2]\n",
      " [6 7 8]]\n"
     ]
    }
   ],
   "source": [
    "arr = np.arange(9).reshape((3, 3))\n",
    "print(arr)\n",
    "np.random.shuffle(arr)\n",
    "print(arr)"
   ]
  },
  {
   "cell_type": "code",
   "execution_count": null,
   "metadata": {},
   "outputs": [],
   "source": []
  }
 ],
 "metadata": {
  "kernelspec": {
   "display_name": "eulerspython",
   "language": "python",
   "name": "eulerspython"
  },
  "language_info": {
   "codemirror_mode": {
    "name": "ipython",
    "version": 3
   },
   "file_extension": ".py",
   "mimetype": "text/x-python",
   "name": "python",
   "nbconvert_exporter": "python",
   "pygments_lexer": "ipython3",
   "version": "3.6.5"
  }
 },
 "nbformat": 4,
 "nbformat_minor": 2
}
