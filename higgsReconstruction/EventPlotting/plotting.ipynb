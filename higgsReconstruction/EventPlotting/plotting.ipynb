{
 "cells": [
  {
   "cell_type": "code",
   "execution_count": 6,
   "metadata": {},
   "outputs": [],
   "source": [
    "import pandas as pd\n",
    "from matplotlib import pyplot as plt\n",
    "import csv"
   ]
  },
  {
   "cell_type": "code",
   "execution_count": 7,
   "metadata": {},
   "outputs": [],
   "source": [
    "qcd = pd.read_csv('qcd_outputDataForLearning.csv')\n",
    "hh = pd.read_csv('dihiggs_outputDataForLearning.csv')"
   ]
  },
  {
   "cell_type": "code",
   "execution_count": 44,
   "metadata": {},
   "outputs": [
    {
     "name": "stdout",
     "output_type": "stream",
     "text": [
      "1703 rows of qcd data\n"
     ]
    },
    {
     "data": {
      "text/html": [
       "<div>\n",
       "<style scoped>\n",
       "    .dataframe tbody tr th:only-of-type {\n",
       "        vertical-align: middle;\n",
       "    }\n",
       "\n",
       "    .dataframe tbody tr th {\n",
       "        vertical-align: top;\n",
       "    }\n",
       "\n",
       "    .dataframe thead th {\n",
       "        text-align: right;\n",
       "    }\n",
       "</style>\n",
       "<table border=\"1\" class=\"dataframe\">\n",
       "  <thead>\n",
       "    <tr style=\"text-align: right;\">\n",
       "      <th></th>\n",
       "      <th>hh_mass</th>\n",
       "      <th>h1_mass</th>\n",
       "      <th>h2_mass</th>\n",
       "      <th>hh_pt</th>\n",
       "      <th>h1_pt</th>\n",
       "      <th>h2_pt</th>\n",
       "      <th>deltaR(h1, h2)</th>\n",
       "      <th>deltaR(h1 jets)</th>\n",
       "      <th>deltaR(h2 jets)</th>\n",
       "      <th>deltaPhi(h1 jets)</th>\n",
       "      <th>...</th>\n",
       "      <th>jet3_pz</th>\n",
       "      <th>jet4_pz</th>\n",
       "      <th>jet1_energy</th>\n",
       "      <th>jet2_energy</th>\n",
       "      <th>jet3_energy</th>\n",
       "      <th>jet4_energy</th>\n",
       "      <th>jet1_btag</th>\n",
       "      <th>jet2_btag</th>\n",
       "      <th>jet3_btag</th>\n",
       "      <th>jet4_btag</th>\n",
       "    </tr>\n",
       "  </thead>\n",
       "  <tbody>\n",
       "    <tr>\n",
       "      <th>0</th>\n",
       "      <td>389.560210</td>\n",
       "      <td>124.325608</td>\n",
       "      <td>111.570920</td>\n",
       "      <td>136.932891</td>\n",
       "      <td>171.988626</td>\n",
       "      <td>109.203811</td>\n",
       "      <td>2.559584</td>\n",
       "      <td>2.308070</td>\n",
       "      <td>1.890789</td>\n",
       "      <td>2.144129</td>\n",
       "      <td>...</td>\n",
       "      <td>2.297561</td>\n",
       "      <td>-76.250394</td>\n",
       "      <td>220.464571</td>\n",
       "      <td>21.970768</td>\n",
       "      <td>88.955955</td>\n",
       "      <td>83.794049</td>\n",
       "      <td>1</td>\n",
       "      <td>1</td>\n",
       "      <td>1</td>\n",
       "      <td>1</td>\n",
       "    </tr>\n",
       "    <tr>\n",
       "      <th>1</th>\n",
       "      <td>647.207817</td>\n",
       "      <td>44.270179</td>\n",
       "      <td>50.027954</td>\n",
       "      <td>20.930002</td>\n",
       "      <td>157.928581</td>\n",
       "      <td>140.624963</td>\n",
       "      <td>4.146202</td>\n",
       "      <td>0.535946</td>\n",
       "      <td>0.671977</td>\n",
       "      <td>-0.502355</td>\n",
       "      <td>...</td>\n",
       "      <td>-93.650177</td>\n",
       "      <td>-108.175850</td>\n",
       "      <td>265.363449</td>\n",
       "      <td>158.046447</td>\n",
       "      <td>132.001760</td>\n",
       "      <td>119.019995</td>\n",
       "      <td>1</td>\n",
       "      <td>1</td>\n",
       "      <td>1</td>\n",
       "      <td>1</td>\n",
       "    </tr>\n",
       "    <tr>\n",
       "      <th>2</th>\n",
       "      <td>322.208428</td>\n",
       "      <td>26.864315</td>\n",
       "      <td>97.050753</td>\n",
       "      <td>38.709715</td>\n",
       "      <td>135.583186</td>\n",
       "      <td>144.740330</td>\n",
       "      <td>2.925384</td>\n",
       "      <td>0.500025</td>\n",
       "      <td>1.247225</td>\n",
       "      <td>0.452056</td>\n",
       "      <td>...</td>\n",
       "      <td>53.848765</td>\n",
       "      <td>-42.742465</td>\n",
       "      <td>137.378936</td>\n",
       "      <td>28.336301</td>\n",
       "      <td>93.615332</td>\n",
       "      <td>81.004145</td>\n",
       "      <td>1</td>\n",
       "      <td>1</td>\n",
       "      <td>1</td>\n",
       "      <td>1</td>\n",
       "    </tr>\n",
       "    <tr>\n",
       "      <th>3</th>\n",
       "      <td>419.258968</td>\n",
       "      <td>52.990523</td>\n",
       "      <td>68.470152</td>\n",
       "      <td>41.059689</td>\n",
       "      <td>164.301699</td>\n",
       "      <td>125.246712</td>\n",
       "      <td>3.489830</td>\n",
       "      <td>0.856370</td>\n",
       "      <td>1.418455</td>\n",
       "      <td>0.779506</td>\n",
       "      <td>...</td>\n",
       "      <td>-57.489281</td>\n",
       "      <td>7.752531</td>\n",
       "      <td>293.246702</td>\n",
       "      <td>35.669705</td>\n",
       "      <td>129.070096</td>\n",
       "      <td>22.087586</td>\n",
       "      <td>1</td>\n",
       "      <td>1</td>\n",
       "      <td>1</td>\n",
       "      <td>1</td>\n",
       "    </tr>\n",
       "    <tr>\n",
       "      <th>4</th>\n",
       "      <td>500.859412</td>\n",
       "      <td>50.131320</td>\n",
       "      <td>102.613244</td>\n",
       "      <td>26.595028</td>\n",
       "      <td>185.256231</td>\n",
       "      <td>187.008176</td>\n",
       "      <td>3.293268</td>\n",
       "      <td>0.639606</td>\n",
       "      <td>1.084399</td>\n",
       "      <td>0.450668</td>\n",
       "      <td>...</td>\n",
       "      <td>-66.474735</td>\n",
       "      <td>26.027230</td>\n",
       "      <td>359.636926</td>\n",
       "      <td>109.941192</td>\n",
       "      <td>149.078860</td>\n",
       "      <td>68.032946</td>\n",
       "      <td>1</td>\n",
       "      <td>1</td>\n",
       "      <td>1</td>\n",
       "      <td>1</td>\n",
       "    </tr>\n",
       "  </tbody>\n",
       "</table>\n",
       "<p>5 rows × 52 columns</p>\n",
       "</div>"
      ],
      "text/plain": [
       "      hh_mass     h1_mass     h2_mass       hh_pt       h1_pt       h2_pt  \\\n",
       "0  389.560210  124.325608  111.570920  136.932891  171.988626  109.203811   \n",
       "1  647.207817   44.270179   50.027954   20.930002  157.928581  140.624963   \n",
       "2  322.208428   26.864315   97.050753   38.709715  135.583186  144.740330   \n",
       "3  419.258968   52.990523   68.470152   41.059689  164.301699  125.246712   \n",
       "4  500.859412   50.131320  102.613244   26.595028  185.256231  187.008176   \n",
       "\n",
       "   deltaR(h1, h2)  deltaR(h1 jets)  deltaR(h2 jets)  deltaPhi(h1 jets)  \\\n",
       "0        2.559584         2.308070         1.890789           2.144129   \n",
       "1        4.146202         0.535946         0.671977          -0.502355   \n",
       "2        2.925384         0.500025         1.247225           0.452056   \n",
       "3        3.489830         0.856370         1.418455           0.779506   \n",
       "4        3.293268         0.639606         1.084399           0.450668   \n",
       "\n",
       "     ...        jet3_pz     jet4_pz  jet1_energy  jet2_energy  jet3_energy  \\\n",
       "0    ...       2.297561  -76.250394   220.464571    21.970768    88.955955   \n",
       "1    ...     -93.650177 -108.175850   265.363449   158.046447   132.001760   \n",
       "2    ...      53.848765  -42.742465   137.378936    28.336301    93.615332   \n",
       "3    ...     -57.489281    7.752531   293.246702    35.669705   129.070096   \n",
       "4    ...     -66.474735   26.027230   359.636926   109.941192   149.078860   \n",
       "\n",
       "   jet4_energy  jet1_btag  jet2_btag  jet3_btag  jet4_btag  \n",
       "0    83.794049          1          1          1          1  \n",
       "1   119.019995          1          1          1          1  \n",
       "2    81.004145          1          1          1          1  \n",
       "3    22.087586          1          1          1          1  \n",
       "4    68.032946          1          1          1          1  \n",
       "\n",
       "[5 rows x 52 columns]"
      ]
     },
     "execution_count": 44,
     "metadata": {},
     "output_type": "execute_result"
    }
   ],
   "source": [
    "print(len(qcd), \"rows of qcd data\")\n",
    "qcd.head()"
   ]
  },
  {
   "cell_type": "code",
   "execution_count": 70,
   "metadata": {},
   "outputs": [
    {
     "name": "stdout",
     "output_type": "stream",
     "text": [
      "4603 rows of dihiggs data\n"
     ]
    },
    {
     "data": {
      "text/html": [
       "<div>\n",
       "<style scoped>\n",
       "    .dataframe tbody tr th:only-of-type {\n",
       "        vertical-align: middle;\n",
       "    }\n",
       "\n",
       "    .dataframe tbody tr th {\n",
       "        vertical-align: top;\n",
       "    }\n",
       "\n",
       "    .dataframe thead th {\n",
       "        text-align: right;\n",
       "    }\n",
       "</style>\n",
       "<table border=\"1\" class=\"dataframe\">\n",
       "  <thead>\n",
       "    <tr style=\"text-align: right;\">\n",
       "      <th></th>\n",
       "      <th>hh_mass</th>\n",
       "      <th>h1_mass</th>\n",
       "      <th>h2_mass</th>\n",
       "      <th>hh_pt</th>\n",
       "      <th>h1_pt</th>\n",
       "      <th>h2_pt</th>\n",
       "      <th>deltaR(h1, h2)</th>\n",
       "      <th>deltaR(h1 jets)</th>\n",
       "      <th>deltaR(h2 jets)</th>\n",
       "      <th>deltaPhi(h1 jets)</th>\n",
       "      <th>...</th>\n",
       "      <th>jet3_pz</th>\n",
       "      <th>jet4_pz</th>\n",
       "      <th>jet1_energy</th>\n",
       "      <th>jet2_energy</th>\n",
       "      <th>jet3_energy</th>\n",
       "      <th>jet4_energy</th>\n",
       "      <th>jet1_btag</th>\n",
       "      <th>jet2_btag</th>\n",
       "      <th>jet3_btag</th>\n",
       "      <th>jet4_btag</th>\n",
       "    </tr>\n",
       "  </thead>\n",
       "  <tbody>\n",
       "    <tr>\n",
       "      <th>0</th>\n",
       "      <td>357.863363</td>\n",
       "      <td>148.291836</td>\n",
       "      <td>158.296646</td>\n",
       "      <td>159.989384</td>\n",
       "      <td>146.375635</td>\n",
       "      <td>44.305395</td>\n",
       "      <td>2.173180</td>\n",
       "      <td>2.399412</td>\n",
       "      <td>3.045172</td>\n",
       "      <td>2.261379</td>\n",
       "      <td>...</td>\n",
       "      <td>-68.743157</td>\n",
       "      <td>-193.100557</td>\n",
       "      <td>213.758220</td>\n",
       "      <td>33.357314</td>\n",
       "      <td>109.728774</td>\n",
       "      <td>199.436112</td>\n",
       "      <td>1</td>\n",
       "      <td>1</td>\n",
       "      <td>1</td>\n",
       "      <td>1</td>\n",
       "    </tr>\n",
       "    <tr>\n",
       "      <th>1</th>\n",
       "      <td>398.807335</td>\n",
       "      <td>96.553640</td>\n",
       "      <td>58.554601</td>\n",
       "      <td>79.057467</td>\n",
       "      <td>159.554932</td>\n",
       "      <td>127.973055</td>\n",
       "      <td>3.027527</td>\n",
       "      <td>1.343736</td>\n",
       "      <td>1.118390</td>\n",
       "      <td>1.200608</td>\n",
       "      <td>...</td>\n",
       "      <td>159.218959</td>\n",
       "      <td>26.364061</td>\n",
       "      <td>145.013069</td>\n",
       "      <td>49.268918</td>\n",
       "      <td>196.843044</td>\n",
       "      <td>36.066384</td>\n",
       "      <td>1</td>\n",
       "      <td>1</td>\n",
       "      <td>1</td>\n",
       "      <td>1</td>\n",
       "    </tr>\n",
       "    <tr>\n",
       "      <th>2</th>\n",
       "      <td>517.175766</td>\n",
       "      <td>110.271880</td>\n",
       "      <td>130.164227</td>\n",
       "      <td>345.167743</td>\n",
       "      <td>311.858661</td>\n",
       "      <td>195.516589</td>\n",
       "      <td>1.993485</td>\n",
       "      <td>0.697377</td>\n",
       "      <td>1.152385</td>\n",
       "      <td>-0.644060</td>\n",
       "      <td>...</td>\n",
       "      <td>119.529521</td>\n",
       "      <td>120.680121</td>\n",
       "      <td>236.958103</td>\n",
       "      <td>93.822710</td>\n",
       "      <td>169.676742</td>\n",
       "      <td>166.284766</td>\n",
       "      <td>1</td>\n",
       "      <td>1</td>\n",
       "      <td>1</td>\n",
       "      <td>1</td>\n",
       "    </tr>\n",
       "    <tr>\n",
       "      <th>3</th>\n",
       "      <td>703.807212</td>\n",
       "      <td>179.640526</td>\n",
       "      <td>166.136193</td>\n",
       "      <td>218.966737</td>\n",
       "      <td>339.262375</td>\n",
       "      <td>272.492484</td>\n",
       "      <td>2.518050</td>\n",
       "      <td>2.053376</td>\n",
       "      <td>2.090557</td>\n",
       "      <td>-1.872111</td>\n",
       "      <td>...</td>\n",
       "      <td>-240.496539</td>\n",
       "      <td>-109.657444</td>\n",
       "      <td>927.030920</td>\n",
       "      <td>36.379140</td>\n",
       "      <td>362.014352</td>\n",
       "      <td>111.759012</td>\n",
       "      <td>1</td>\n",
       "      <td>1</td>\n",
       "      <td>1</td>\n",
       "      <td>1</td>\n",
       "    </tr>\n",
       "    <tr>\n",
       "      <th>4</th>\n",
       "      <td>258.159408</td>\n",
       "      <td>36.588619</td>\n",
       "      <td>25.013392</td>\n",
       "      <td>95.051098</td>\n",
       "      <td>138.921709</td>\n",
       "      <td>46.393858</td>\n",
       "      <td>3.514808</td>\n",
       "      <td>0.549648</td>\n",
       "      <td>0.997364</td>\n",
       "      <td>-0.448700</td>\n",
       "      <td>...</td>\n",
       "      <td>-129.592083</td>\n",
       "      <td>-71.691360</td>\n",
       "      <td>109.019537</td>\n",
       "      <td>36.042242</td>\n",
       "      <td>133.506407</td>\n",
       "      <td>74.563495</td>\n",
       "      <td>1</td>\n",
       "      <td>1</td>\n",
       "      <td>1</td>\n",
       "      <td>1</td>\n",
       "    </tr>\n",
       "  </tbody>\n",
       "</table>\n",
       "<p>5 rows × 52 columns</p>\n",
       "</div>"
      ],
      "text/plain": [
       "      hh_mass     h1_mass     h2_mass       hh_pt       h1_pt       h2_pt  \\\n",
       "0  357.863363  148.291836  158.296646  159.989384  146.375635   44.305395   \n",
       "1  398.807335   96.553640   58.554601   79.057467  159.554932  127.973055   \n",
       "2  517.175766  110.271880  130.164227  345.167743  311.858661  195.516589   \n",
       "3  703.807212  179.640526  166.136193  218.966737  339.262375  272.492484   \n",
       "4  258.159408   36.588619   25.013392   95.051098  138.921709   46.393858   \n",
       "\n",
       "   deltaR(h1, h2)  deltaR(h1 jets)  deltaR(h2 jets)  deltaPhi(h1 jets)  \\\n",
       "0        2.173180         2.399412         3.045172           2.261379   \n",
       "1        3.027527         1.343736         1.118390           1.200608   \n",
       "2        1.993485         0.697377         1.152385          -0.644060   \n",
       "3        2.518050         2.053376         2.090557          -1.872111   \n",
       "4        3.514808         0.549648         0.997364          -0.448700   \n",
       "\n",
       "     ...         jet3_pz     jet4_pz  jet1_energy  jet2_energy  jet3_energy  \\\n",
       "0    ...      -68.743157 -193.100557   213.758220    33.357314   109.728774   \n",
       "1    ...      159.218959   26.364061   145.013069    49.268918   196.843044   \n",
       "2    ...      119.529521  120.680121   236.958103    93.822710   169.676742   \n",
       "3    ...     -240.496539 -109.657444   927.030920    36.379140   362.014352   \n",
       "4    ...     -129.592083  -71.691360   109.019537    36.042242   133.506407   \n",
       "\n",
       "   jet4_energy  jet1_btag  jet2_btag  jet3_btag  jet4_btag  \n",
       "0   199.436112          1          1          1          1  \n",
       "1    36.066384          1          1          1          1  \n",
       "2   166.284766          1          1          1          1  \n",
       "3   111.759012          1          1          1          1  \n",
       "4    74.563495          1          1          1          1  \n",
       "\n",
       "[5 rows x 52 columns]"
      ]
     },
     "execution_count": 70,
     "metadata": {},
     "output_type": "execute_result"
    }
   ],
   "source": [
    "print(len(hh), \"rows of dihiggs data\")\n",
    "hh.head()\n",
    "# list(hh)"
   ]
  },
  {
   "cell_type": "code",
   "execution_count": 71,
   "metadata": {},
   "outputs": [
    {
     "data": {
      "text/plain": [
       "<matplotlib.legend.Legend at 0x11670aba8>"
      ]
     },
     "execution_count": 71,
     "metadata": {},
     "output_type": "execute_result"
    },
    {
     "data": {
      "image/png": "[encoded data removed]",
      "text/plain": [
       "<Figure size 432x288 with 1 Axes>"
      ]
     },
     "metadata": {
      "needs_background": "light"
     },
     "output_type": "display_data"
    }
   ],
   "source": [
    "##############################################################\n",
    "##                 NORMED HH MASS PER EVENT                 ##\n",
    "##############################################################\n",
    "plt.hist(hh.hh_mass, label=\"dihiggs\", alpha=0.5, normed=True, bins=100)\n",
    "plt.hist(qcd.hh_mass, label=\"qcd\", alpha=0.5, normed=True, bins=100)\n",
    "plt.title(\"hh_mass distributions for dihiggs and qcd events\")\n",
    "plt.legend()"
   ]
  },
  {
   "cell_type": "code",
   "execution_count": 72,
   "metadata": {},
   "outputs": [
    {
     "data": {
      "text/plain": [
       "<matplotlib.legend.Legend at 0x1168e0e10>"
      ]
     },
     "execution_count": 72,
     "metadata": {},
     "output_type": "execute_result"
    },
    {
     "data": {
      "image/png": "[encoded data removed]",
      "text/plain": [
       "<Figure size 432x288 with 1 Axes>"
      ]
     },
     "metadata": {
      "needs_background": "light"
     },
     "output_type": "display_data"
    }
   ],
   "source": [
    "##############################################################\n",
    "##                  NORMED SCALAR HT                        ##\n",
    "##############################################################\n",
    "plt.hist(hh.scalarHT, label=\"dihiggs\", alpha=0.5, normed=True, bins=100)\n",
    "plt.hist(qcd.scalarHT, label=\"qcd\", alpha=0.5, normed=True, bins=100)\n",
    "plt.title(\"Scalar HT for QCD vs diHiggs\")\n",
    "plt.xlabel(\"Scalar HT\")\n",
    "plt.legend()"
   ]
  },
  {
   "cell_type": "code",
   "execution_count": 73,
   "metadata": {
    "scrolled": true
   },
   "outputs": [
    {
     "name": "stdout",
     "output_type": "stream",
     "text": [
      "hh avg jet energy: 560.9 for 18412 jets || qcd avg jet energy: 619.4 for 6812 jets\n"
     ]
    },
    {
     "data": {
      "image/png": "[encoded data removed]",
      "text/plain": [
       "<Figure size 432x288 with 1 Axes>"
      ]
     },
     "metadata": {
      "needs_background": "light"
     },
     "output_type": "display_data"
    }
   ],
   "source": [
    "##############################################################\n",
    "##                 JET ENERGY PER EVENT                     ##\n",
    "##############################################################\n",
    "hhE = hh.jet1_energy + hh.jet2_energy + hh.jet3_energy +hh.jet4_energy\n",
    "qcdE = qcd.jet1_energy + qcd.jet2_energy + qcd.jet3_energy + qcd.jet4_energy\n",
    "plt.hist(hhE, alpha=0.5, label=\"dihiggs\", normed=True, bins=100)\n",
    "plt.hist(qcdE, alpha=0.5, label=\"qcd\", normed=True, bins=100)\n",
    "plt.title(\"Total Jet energy in an event\")\n",
    "plt.legend()\n",
    "plt.xlabel(\"Total Jet Energy\")\n",
    "print(\"hh avg jet energy:\", round((sum(hhE)/len(hhE)),1), \"for\", len(hhE)*4, \"jets\", \"||\", \"qcd avg jet energy:\", round((sum(qcdE)/len(qcdE)),1), \"for\", len(qcdE)*4, \"jets\")"
   ]
  },
  {
   "cell_type": "code",
   "execution_count": 50,
   "metadata": {},
   "outputs": [
    {
     "name": "stdout",
     "output_type": "stream",
     "text": [
      "hh avg num btags: 4.0 for 18412 jets\n",
      "hh avg num btags: 4.0 for 6812 jets\n"
     ]
    },
    {
     "data": {
      "text/plain": [
       "Text(0.5, 1.0, 'Number of b tags in an event')"
      ]
     },
     "execution_count": 50,
     "metadata": {},
     "output_type": "execute_result"
    },
    {
     "data": {
      "image/png": "[encoded data removed]",
      "text/plain": [
       "<Figure size 432x288 with 1 Axes>"
      ]
     },
     "metadata": {
      "needs_background": "light"
     },
     "output_type": "display_data"
    }
   ],
   "source": [
    "##############################################################\n",
    "##                     B TAGS PER EVENT                     ##\n",
    "##############################################################\n",
    "hhbt = hh.jet1_btag + hh.jet2_btag + hh.jet3_btag +hh.jet4_btag\n",
    "qcdbt = qcd.jet1_btag + qcd.jet2_btag + qcd.jet3_btag + qcd.jet4_btag\n",
    "plt.hist(hhbt, alpha=0.5, label=\"dihiggs\")\n",
    "plt.hist(qcdbt, alpha=0.5, label=\"qcd\")\n",
    "print(\"hh avg num btags:\", sum(hhbt)/len(hhbt), \"for\", len(hhbt)*4, \"jets\")\n",
    "print(\"hh avg num btags:\", sum(qcdbt)/len(qcdbt), \"for\", len(qcdbt)*4, \"jets\")\n",
    "plt.legend()\n",
    "plt.title(\"Number of b tags in an event\")"
   ]
  },
  {
   "cell_type": "code",
   "execution_count": null,
   "metadata": {},
   "outputs": [],
   "source": []
  },
  {
   "cell_type": "code",
   "execution_count": null,
   "metadata": {},
   "outputs": [],
   "source": []
  }
 ],
 "metadata": {
  "kernelspec": {
   "display_name": "eulerspython",
   "language": "python",
   "name": "eulerspython"
  },
  "language_info": {
   "codemirror_mode": {
    "name": "ipython",
    "version": 3
   },
   "file_extension": ".py",
   "mimetype": "text/x-python",
   "name": "python",
   "nbconvert_exporter": "python",
   "pygments_lexer": "ipython3",
   "version": "3.6.5"
  }
 },
 "nbformat": 4,
 "nbformat_minor": 2
}
