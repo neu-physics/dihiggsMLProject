{
 "cells": [
  {
   "cell_type": "code",
   "execution_count": 1,
   "metadata": {},
   "outputs": [],
   "source": [
    "import pandas as pd\n",
    "from matplotlib import pyplot as plt\n",
    "from matplotlib.patches import Rectangle\n",
    "import csv\n",
    "from scipy.stats import norm\n",
    "from scipy import stats\n",
    "import matplotlib.mlab as mlab\n",
    "import numpy as np\n",
    "from scipy.optimize import curve_fit"
   ]
  },
  {
   "cell_type": "code",
   "execution_count": 2,
   "metadata": {},
   "outputs": [],
   "source": [
    "qcd = pd.read_csv('qcd_outputDataForLearning.csv')\n",
    "hh = pd.read_csv('dihiggs_outputDataForLearning.csv')"
   ]
  },
  {
   "cell_type": "code",
   "execution_count": 3,
   "metadata": {},
   "outputs": [
    {
     "name": "stdout",
     "output_type": "stream",
     "text": [
      "3406 rows of qcd data\n"
     ]
    },
    {
     "data": {
      "text/html": [
       "<div>\n",
       "<style scoped>\n",
       "    .dataframe tbody tr th:only-of-type {\n",
       "        vertical-align: middle;\n",
       "    }\n",
       "\n",
       "    .dataframe tbody tr th {\n",
       "        vertical-align: top;\n",
       "    }\n",
       "\n",
       "    .dataframe thead th {\n",
       "        text-align: right;\n",
       "    }\n",
       "</style>\n",
       "<table border=\"1\" class=\"dataframe\">\n",
       "  <thead>\n",
       "    <tr style=\"text-align: right;\">\n",
       "      <th></th>\n",
       "      <th>hh_mass</th>\n",
       "      <th>h1_mass</th>\n",
       "      <th>h2_mass</th>\n",
       "      <th>hh_pt</th>\n",
       "      <th>h1_pt</th>\n",
       "      <th>h2_pt</th>\n",
       "      <th>deltaR(h1, h2)</th>\n",
       "      <th>deltaR(h1 jets)</th>\n",
       "      <th>deltaR(h2 jets)</th>\n",
       "      <th>deltaPhi(h1 jets)</th>\n",
       "      <th>...</th>\n",
       "      <th>jet3_pz</th>\n",
       "      <th>jet4_pz</th>\n",
       "      <th>jet1_energy</th>\n",
       "      <th>jet2_energy</th>\n",
       "      <th>jet3_energy</th>\n",
       "      <th>jet4_energy</th>\n",
       "      <th>jet1_btag</th>\n",
       "      <th>jet2_btag</th>\n",
       "      <th>jet3_btag</th>\n",
       "      <th>jet4_btag</th>\n",
       "    </tr>\n",
       "  </thead>\n",
       "  <tbody>\n",
       "    <tr>\n",
       "      <th>0</th>\n",
       "      <td>389.560210</td>\n",
       "      <td>124.325608</td>\n",
       "      <td>111.570920</td>\n",
       "      <td>136.932891</td>\n",
       "      <td>171.988626</td>\n",
       "      <td>109.203811</td>\n",
       "      <td>2.559584</td>\n",
       "      <td>2.308070</td>\n",
       "      <td>1.890789</td>\n",
       "      <td>2.144129</td>\n",
       "      <td>...</td>\n",
       "      <td>2.297561</td>\n",
       "      <td>-76.250394</td>\n",
       "      <td>220.464571</td>\n",
       "      <td>21.970768</td>\n",
       "      <td>88.955955</td>\n",
       "      <td>83.794049</td>\n",
       "      <td>1</td>\n",
       "      <td>1</td>\n",
       "      <td>1</td>\n",
       "      <td>1</td>\n",
       "    </tr>\n",
       "    <tr>\n",
       "      <th>1</th>\n",
       "      <td>647.207817</td>\n",
       "      <td>44.270179</td>\n",
       "      <td>50.027954</td>\n",
       "      <td>20.930002</td>\n",
       "      <td>157.928581</td>\n",
       "      <td>140.624963</td>\n",
       "      <td>4.146202</td>\n",
       "      <td>0.535946</td>\n",
       "      <td>0.671977</td>\n",
       "      <td>-0.502355</td>\n",
       "      <td>...</td>\n",
       "      <td>-93.650177</td>\n",
       "      <td>-108.175850</td>\n",
       "      <td>265.363449</td>\n",
       "      <td>158.046447</td>\n",
       "      <td>132.001760</td>\n",
       "      <td>119.019995</td>\n",
       "      <td>1</td>\n",
       "      <td>1</td>\n",
       "      <td>1</td>\n",
       "      <td>1</td>\n",
       "    </tr>\n",
       "    <tr>\n",
       "      <th>2</th>\n",
       "      <td>322.208428</td>\n",
       "      <td>26.864315</td>\n",
       "      <td>97.050753</td>\n",
       "      <td>38.709715</td>\n",
       "      <td>135.583186</td>\n",
       "      <td>144.740330</td>\n",
       "      <td>2.925384</td>\n",
       "      <td>0.500025</td>\n",
       "      <td>1.247225</td>\n",
       "      <td>0.452056</td>\n",
       "      <td>...</td>\n",
       "      <td>53.848765</td>\n",
       "      <td>-42.742465</td>\n",
       "      <td>137.378936</td>\n",
       "      <td>28.336301</td>\n",
       "      <td>93.615332</td>\n",
       "      <td>81.004145</td>\n",
       "      <td>1</td>\n",
       "      <td>1</td>\n",
       "      <td>1</td>\n",
       "      <td>1</td>\n",
       "    </tr>\n",
       "    <tr>\n",
       "      <th>3</th>\n",
       "      <td>419.258968</td>\n",
       "      <td>52.990523</td>\n",
       "      <td>68.470152</td>\n",
       "      <td>41.059689</td>\n",
       "      <td>164.301699</td>\n",
       "      <td>125.246712</td>\n",
       "      <td>3.489830</td>\n",
       "      <td>0.856370</td>\n",
       "      <td>1.418455</td>\n",
       "      <td>0.779506</td>\n",
       "      <td>...</td>\n",
       "      <td>-57.489281</td>\n",
       "      <td>7.752531</td>\n",
       "      <td>293.246702</td>\n",
       "      <td>35.669705</td>\n",
       "      <td>129.070096</td>\n",
       "      <td>22.087586</td>\n",
       "      <td>1</td>\n",
       "      <td>1</td>\n",
       "      <td>1</td>\n",
       "      <td>1</td>\n",
       "    </tr>\n",
       "    <tr>\n",
       "      <th>4</th>\n",
       "      <td>500.859412</td>\n",
       "      <td>50.131320</td>\n",
       "      <td>102.613244</td>\n",
       "      <td>26.595028</td>\n",
       "      <td>185.256231</td>\n",
       "      <td>187.008176</td>\n",
       "      <td>3.293268</td>\n",
       "      <td>0.639606</td>\n",
       "      <td>1.084399</td>\n",
       "      <td>0.450668</td>\n",
       "      <td>...</td>\n",
       "      <td>-66.474735</td>\n",
       "      <td>26.027230</td>\n",
       "      <td>359.636926</td>\n",
       "      <td>109.941192</td>\n",
       "      <td>149.078860</td>\n",
       "      <td>68.032946</td>\n",
       "      <td>1</td>\n",
       "      <td>1</td>\n",
       "      <td>1</td>\n",
       "      <td>1</td>\n",
       "    </tr>\n",
       "  </tbody>\n",
       "</table>\n",
       "<p>5 rows × 52 columns</p>\n",
       "</div>"
      ],
      "text/plain": [
       "      hh_mass     h1_mass     h2_mass       hh_pt       h1_pt       h2_pt  \\\n",
       "0  389.560210  124.325608  111.570920  136.932891  171.988626  109.203811   \n",
       "1  647.207817   44.270179   50.027954   20.930002  157.928581  140.624963   \n",
       "2  322.208428   26.864315   97.050753   38.709715  135.583186  144.740330   \n",
       "3  419.258968   52.990523   68.470152   41.059689  164.301699  125.246712   \n",
       "4  500.859412   50.131320  102.613244   26.595028  185.256231  187.008176   \n",
       "\n",
       "   deltaR(h1, h2)  deltaR(h1 jets)  deltaR(h2 jets)  deltaPhi(h1 jets)  \\\n",
       "0        2.559584         2.308070         1.890789           2.144129   \n",
       "1        4.146202         0.535946         0.671977          -0.502355   \n",
       "2        2.925384         0.500025         1.247225           0.452056   \n",
       "3        3.489830         0.856370         1.418455           0.779506   \n",
       "4        3.293268         0.639606         1.084399           0.450668   \n",
       "\n",
       "     ...        jet3_pz     jet4_pz  jet1_energy  jet2_energy  jet3_energy  \\\n",
       "0    ...       2.297561  -76.250394   220.464571    21.970768    88.955955   \n",
       "1    ...     -93.650177 -108.175850   265.363449   158.046447   132.001760   \n",
       "2    ...      53.848765  -42.742465   137.378936    28.336301    93.615332   \n",
       "3    ...     -57.489281    7.752531   293.246702    35.669705   129.070096   \n",
       "4    ...     -66.474735   26.027230   359.636926   109.941192   149.078860   \n",
       "\n",
       "   jet4_energy  jet1_btag  jet2_btag  jet3_btag  jet4_btag  \n",
       "0    83.794049          1          1          1          1  \n",
       "1   119.019995          1          1          1          1  \n",
       "2    81.004145          1          1          1          1  \n",
       "3    22.087586          1          1          1          1  \n",
       "4    68.032946          1          1          1          1  \n",
       "\n",
       "[5 rows x 52 columns]"
      ]
     },
     "execution_count": 3,
     "metadata": {},
     "output_type": "execute_result"
    }
   ],
   "source": [
    "print(len(qcd), \"rows of qcd data\")\n",
    "qcd.head()"
   ]
  },
  {
   "cell_type": "code",
   "execution_count": 4,
   "metadata": {},
   "outputs": [
    {
     "name": "stdout",
     "output_type": "stream",
     "text": [
      "9206 rows of dihiggs data\n"
     ]
    },
    {
     "data": {
      "text/html": [
       "<div>\n",
       "<style scoped>\n",
       "    .dataframe tbody tr th:only-of-type {\n",
       "        vertical-align: middle;\n",
       "    }\n",
       "\n",
       "    .dataframe tbody tr th {\n",
       "        vertical-align: top;\n",
       "    }\n",
       "\n",
       "    .dataframe thead th {\n",
       "        text-align: right;\n",
       "    }\n",
       "</style>\n",
       "<table border=\"1\" class=\"dataframe\">\n",
       "  <thead>\n",
       "    <tr style=\"text-align: right;\">\n",
       "      <th></th>\n",
       "      <th>hh_mass</th>\n",
       "      <th>h1_mass</th>\n",
       "      <th>h2_mass</th>\n",
       "      <th>hh_pt</th>\n",
       "      <th>h1_pt</th>\n",
       "      <th>h2_pt</th>\n",
       "      <th>deltaR(h1, h2)</th>\n",
       "      <th>deltaR(h1 jets)</th>\n",
       "      <th>deltaR(h2 jets)</th>\n",
       "      <th>deltaPhi(h1 jets)</th>\n",
       "      <th>...</th>\n",
       "      <th>jet3_pz</th>\n",
       "      <th>jet4_pz</th>\n",
       "      <th>jet1_energy</th>\n",
       "      <th>jet2_energy</th>\n",
       "      <th>jet3_energy</th>\n",
       "      <th>jet4_energy</th>\n",
       "      <th>jet1_btag</th>\n",
       "      <th>jet2_btag</th>\n",
       "      <th>jet3_btag</th>\n",
       "      <th>jet4_btag</th>\n",
       "    </tr>\n",
       "  </thead>\n",
       "  <tbody>\n",
       "    <tr>\n",
       "      <th>0</th>\n",
       "      <td>357.863363</td>\n",
       "      <td>148.291836</td>\n",
       "      <td>158.296646</td>\n",
       "      <td>159.989384</td>\n",
       "      <td>146.375635</td>\n",
       "      <td>44.305395</td>\n",
       "      <td>2.173180</td>\n",
       "      <td>2.399412</td>\n",
       "      <td>3.045172</td>\n",
       "      <td>2.261379</td>\n",
       "      <td>...</td>\n",
       "      <td>-68.743157</td>\n",
       "      <td>-193.100557</td>\n",
       "      <td>213.758220</td>\n",
       "      <td>33.357314</td>\n",
       "      <td>109.728774</td>\n",
       "      <td>199.436112</td>\n",
       "      <td>1</td>\n",
       "      <td>1</td>\n",
       "      <td>1</td>\n",
       "      <td>1</td>\n",
       "    </tr>\n",
       "    <tr>\n",
       "      <th>1</th>\n",
       "      <td>398.807335</td>\n",
       "      <td>96.553640</td>\n",
       "      <td>58.554601</td>\n",
       "      <td>79.057467</td>\n",
       "      <td>159.554932</td>\n",
       "      <td>127.973055</td>\n",
       "      <td>3.027527</td>\n",
       "      <td>1.343736</td>\n",
       "      <td>1.118390</td>\n",
       "      <td>1.200608</td>\n",
       "      <td>...</td>\n",
       "      <td>159.218959</td>\n",
       "      <td>26.364061</td>\n",
       "      <td>145.013069</td>\n",
       "      <td>49.268918</td>\n",
       "      <td>196.843044</td>\n",
       "      <td>36.066384</td>\n",
       "      <td>1</td>\n",
       "      <td>1</td>\n",
       "      <td>1</td>\n",
       "      <td>1</td>\n",
       "    </tr>\n",
       "    <tr>\n",
       "      <th>2</th>\n",
       "      <td>517.175766</td>\n",
       "      <td>110.271880</td>\n",
       "      <td>130.164227</td>\n",
       "      <td>345.167743</td>\n",
       "      <td>311.858661</td>\n",
       "      <td>195.516589</td>\n",
       "      <td>1.993485</td>\n",
       "      <td>0.697377</td>\n",
       "      <td>1.152385</td>\n",
       "      <td>-0.644060</td>\n",
       "      <td>...</td>\n",
       "      <td>119.529521</td>\n",
       "      <td>120.680121</td>\n",
       "      <td>236.958103</td>\n",
       "      <td>93.822710</td>\n",
       "      <td>169.676742</td>\n",
       "      <td>166.284766</td>\n",
       "      <td>1</td>\n",
       "      <td>1</td>\n",
       "      <td>1</td>\n",
       "      <td>1</td>\n",
       "    </tr>\n",
       "    <tr>\n",
       "      <th>3</th>\n",
       "      <td>703.807212</td>\n",
       "      <td>179.640526</td>\n",
       "      <td>166.136193</td>\n",
       "      <td>218.966737</td>\n",
       "      <td>339.262375</td>\n",
       "      <td>272.492484</td>\n",
       "      <td>2.518050</td>\n",
       "      <td>2.053376</td>\n",
       "      <td>2.090557</td>\n",
       "      <td>-1.872111</td>\n",
       "      <td>...</td>\n",
       "      <td>-240.496539</td>\n",
       "      <td>-109.657444</td>\n",
       "      <td>927.030920</td>\n",
       "      <td>36.379140</td>\n",
       "      <td>362.014352</td>\n",
       "      <td>111.759012</td>\n",
       "      <td>1</td>\n",
       "      <td>1</td>\n",
       "      <td>1</td>\n",
       "      <td>1</td>\n",
       "    </tr>\n",
       "    <tr>\n",
       "      <th>4</th>\n",
       "      <td>258.159408</td>\n",
       "      <td>36.588619</td>\n",
       "      <td>25.013392</td>\n",
       "      <td>95.051098</td>\n",
       "      <td>138.921709</td>\n",
       "      <td>46.393858</td>\n",
       "      <td>3.514808</td>\n",
       "      <td>0.549648</td>\n",
       "      <td>0.997364</td>\n",
       "      <td>-0.448700</td>\n",
       "      <td>...</td>\n",
       "      <td>-129.592083</td>\n",
       "      <td>-71.691360</td>\n",
       "      <td>109.019537</td>\n",
       "      <td>36.042242</td>\n",
       "      <td>133.506407</td>\n",
       "      <td>74.563495</td>\n",
       "      <td>1</td>\n",
       "      <td>1</td>\n",
       "      <td>1</td>\n",
       "      <td>1</td>\n",
       "    </tr>\n",
       "  </tbody>\n",
       "</table>\n",
       "<p>5 rows × 52 columns</p>\n",
       "</div>"
      ],
      "text/plain": [
       "      hh_mass     h1_mass     h2_mass       hh_pt       h1_pt       h2_pt  \\\n",
       "0  357.863363  148.291836  158.296646  159.989384  146.375635   44.305395   \n",
       "1  398.807335   96.553640   58.554601   79.057467  159.554932  127.973055   \n",
       "2  517.175766  110.271880  130.164227  345.167743  311.858661  195.516589   \n",
       "3  703.807212  179.640526  166.136193  218.966737  339.262375  272.492484   \n",
       "4  258.159408   36.588619   25.013392   95.051098  138.921709   46.393858   \n",
       "\n",
       "   deltaR(h1, h2)  deltaR(h1 jets)  deltaR(h2 jets)  deltaPhi(h1 jets)  \\\n",
       "0        2.173180         2.399412         3.045172           2.261379   \n",
       "1        3.027527         1.343736         1.118390           1.200608   \n",
       "2        1.993485         0.697377         1.152385          -0.644060   \n",
       "3        2.518050         2.053376         2.090557          -1.872111   \n",
       "4        3.514808         0.549648         0.997364          -0.448700   \n",
       "\n",
       "     ...         jet3_pz     jet4_pz  jet1_energy  jet2_energy  jet3_energy  \\\n",
       "0    ...      -68.743157 -193.100557   213.758220    33.357314   109.728774   \n",
       "1    ...      159.218959   26.364061   145.013069    49.268918   196.843044   \n",
       "2    ...      119.529521  120.680121   236.958103    93.822710   169.676742   \n",
       "3    ...     -240.496539 -109.657444   927.030920    36.379140   362.014352   \n",
       "4    ...     -129.592083  -71.691360   109.019537    36.042242   133.506407   \n",
       "\n",
       "   jet4_energy  jet1_btag  jet2_btag  jet3_btag  jet4_btag  \n",
       "0   199.436112          1          1          1          1  \n",
       "1    36.066384          1          1          1          1  \n",
       "2   166.284766          1          1          1          1  \n",
       "3   111.759012          1          1          1          1  \n",
       "4    74.563495          1          1          1          1  \n",
       "\n",
       "[5 rows x 52 columns]"
      ]
     },
     "execution_count": 4,
     "metadata": {},
     "output_type": "execute_result"
    }
   ],
   "source": [
    "print(len(hh), \"rows of dihiggs data\")\n",
    "hh.head()\n",
    "#list(hh)"
   ]
  },
  {
   "cell_type": "code",
   "execution_count": 5,
   "metadata": {},
   "outputs": [
    {
     "data": {
      "text/plain": [
       "<matplotlib.legend.Legend at 0x1175f3c18>"
      ]
     },
     "execution_count": 5,
     "metadata": {},
     "output_type": "execute_result"
    },
    {
     "data": {
      "image/png": "[encoded data removed]",
      "text/plain": [
       "<Figure size 432x288 with 1 Axes>"
      ]
     },
     "metadata": {
      "needs_background": "light"
     },
     "output_type": "display_data"
    }
   ],
   "source": [
    "##############################################################\n",
    "##                 NORMED HH MASS PER EVENT                 ##\n",
    "##############################################################\n",
    "plt.hist(hh.hh_mass, label=\"dihiggs\", alpha=0.5, density=1, bins=100)\n",
    "plt.hist(qcd.hh_mass, label=\"qcd\", alpha=0.5, density=1, bins=100)\n",
    "plt.title(\"hh_mass distributions for dihiggs and qcd events\")\n",
    "plt.legend()"
   ]
  },
  {
   "cell_type": "code",
   "execution_count": 18,
   "metadata": {},
   "outputs": [
    {
     "data": {
      "text/plain": [
       "<matplotlib.legend.Legend at 0x11e1f07b8>"
      ]
     },
     "execution_count": 18,
     "metadata": {},
     "output_type": "execute_result"
    },
    {
     "data": {
      "image/png": "[encoded data removed]",
      "text/plain": [
       "<Figure size 432x288 with 1 Axes>"
      ]
     },
     "metadata": {
      "needs_background": "light"
     },
     "output_type": "display_data"
    }
   ],
   "source": [
    "##############################################################\n",
    "##                NORMED H_1 MASS PER EVENT                 ##\n",
    "##############################################################\n",
    "plt.hist(hh.h1_mass, label=\"dihiggs\", alpha=0.5, density=1, bins=100)\n",
    "plt.hist(qcd.h1_mass, label=\"qcd\", alpha=0.5, density=1, bins=100)\n",
    "plt.title(\"h1_mass distributions for dihiggs and qcd events\")\n",
    "plt.legend()"
   ]
  },
  {
   "cell_type": "code",
   "execution_count": 19,
   "metadata": {},
   "outputs": [
    {
     "name": "stderr",
     "output_type": "stream",
     "text": [
      "/Users/annacuddeback/LHCResearch/venv/lib/python3.6/site-packages/ipykernel_launcher.py:8: MatplotlibDeprecationWarning: scipy.stats.norm.pdf\n",
      "  \n"
     ]
    },
    {
     "data": {
      "image/png": "[encoded data removed]",
      "text/plain": [
       "<Figure size 432x288 with 1 Axes>"
      ]
     },
     "metadata": {
      "needs_background": "light"
     },
     "output_type": "display_data"
    },
    {
     "name": "stdout",
     "output_type": "stream",
     "text": [
      "(101,)\n",
      "(100,)\n",
      "(100,)\n"
     ]
    }
   ],
   "source": [
    "# best fit of data\n",
    "(mu_hh, sigma_hh) = norm.fit(hh.h1_mass)\n",
    "\n",
    "# the histogram of the data\n",
    "n_hh, bins_hh, patches = plt.hist(hh.h1_mass, 100, density=1, facecolor='blue', alpha=0.25, label=\"Di-Higgs\")\n",
    "\n",
    "# add a 'best fit' line\n",
    "y = mlab.normpdf( bins_hh, mu_hh, sigma_hh)\n",
    "l = plt.plot(bins_hh, y, 'b--', linewidth=2, label=\"Di-Higgs Fit\")\n",
    "\n",
    "# best fit of data\n",
    "(mu_qcd, sigma_qcd) = norm.fit(qcd.h1_mass)\n",
    "\n",
    "# the histogram of the data\n",
    "n_qcd, bins_qcd, patches = plt.hist(qcd.h1_mass, 100, density=1, facecolor='red', alpha=0.25, label=\"QCD\")\n",
    "\n",
    "# add a 'best fit' line\n",
    "y = norm.pdf( bins_qcd, mu_qcd, sigma_qcd)\n",
    "l = plt.plot(bins_qcd, y, 'r--', linewidth=2, label=\"QCD Fit\")\n",
    "\n",
    "#plot\n",
    "plt.title(\"Histogram h1 mass\")\n",
    "plt.grid(False)\n",
    "\n",
    "qcdmodetxt = \"QCD mode: \" + str(round(stats.mode(qcd.h1_mass)[0][0],1))\n",
    "hhmodetxt = \"Di-Higgs mode: \" + str(round(stats.mode(hh.h1_mass)[0][0],1))\n",
    "# extra = Rectangle((0, 0), 1, 1, fc=\"w\", fill=False, edgecolor='none', linewidth=0)\n",
    "# plt.legend([extra, extra], (hhmodetxt, qcdmodetxt))\n",
    "\n",
    "plt.plot([], [], ' ', label=hhmodetxt)\n",
    "plt.plot([], [], ' ', label=qcdmodetxt)\n",
    "plt.legend()\n",
    "#plt.legend()\n",
    "plt.show()\n",
    "\n",
    "bin_centers = bins_hh + ((bins_hh[1]-bins_hh[0])/2)\n",
    "print(np.shape(bin_centers))\n",
    "bin_centers=bin_centers[:-1]\n",
    "print(np.shape(bin_centers))\n",
    "print(np.shape(n_hh))\n",
    "#n_hh = n_hh * 10e3"
   ]
  },
  {
   "cell_type": "code",
   "execution_count": 20,
   "metadata": {},
   "outputs": [
    {
     "name": "stdout",
     "output_type": "stream",
     "text": [
      "[1. 1. 1. 1. 1.]\n"
     ]
    },
    {
     "data": {
      "image/png": "[encoded data removed]",
      "text/plain": [
       "<Figure size 432x288 with 1 Axes>"
      ]
     },
     "metadata": {
      "needs_background": "light"
     },
     "output_type": "display_data"
    },
    {
     "data": {
      "text/plain": [
       "<Figure size 432x288 with 0 Axes>"
      ]
     },
     "metadata": {},
     "output_type": "display_data"
    }
   ],
   "source": [
    "# 1.) Define fit function.\n",
    "def fit_function(x, A, beta, B, mu, sigma):\n",
    "    return  B * np.exp(-1.0 * (x - mu)**2 / (2 * sigma**2))\n",
    "\n",
    "\n",
    "bins = bins_hh\n",
    "# 5.) Fit the function to the histogram data.\n",
    "# popt, pcov = curve_fit(fit_function, xdata=bin_centers, ydata=n_hh, p0=[20000, 2.0, 2000, 3.0, 0.3])\n",
    "\n",
    "hhfitdata = n_hh\n",
    "binscenters = bin_centers\n",
    "popt, pcov = curve_fit(fit_function, xdata=binscenters, ydata=hhfitdata)\n",
    "\n",
    "print(popt)\n",
    "\n",
    "# Plot the histogram and the fitted function.\n",
    "plt.bar(bin_centers, n_hh, width=bins[1] - bins[0], color='navy', label=r'Histogram entries')\n",
    "plt.plot(n_hh, fit_function(n_hh, *popt), color='darkorange', linewidth=2.5, label=r'Fitted function')\n",
    "\n",
    "# Make the plot nicer.\n",
    "plt.xlabel(r'x axis')\n",
    "plt.ylabel(r'Number of entries')\n",
    "plt.title(r'Exponential decay with gaussian peak')\n",
    "plt.legend(loc='best')\n",
    "plt.show()\n",
    "plt.clf()"
   ]
  },
  {
   "cell_type": "code",
   "execution_count": 13,
   "metadata": {},
   "outputs": [
    {
     "name": "stderr",
     "output_type": "stream",
     "text": [
      "/Users/annacuddeback/LHCResearch/venv/lib/python3.6/site-packages/matplotlib/axes/_axes.py:6521: MatplotlibDeprecationWarning: \n",
      "The 'normed' kwarg was deprecated in Matplotlib 2.1 and will be removed in 3.1. Use 'density' instead.\n",
      "  alternative=\"'density'\", removal=\"3.1\")\n"
     ]
    },
    {
     "data": {
      "image/png": "[encoded data removed]",
      "text/plain": [
       "<Figure size 432x288 with 1 Axes>"
      ]
     },
     "metadata": {
      "needs_background": "light"
     },
     "output_type": "display_data"
    }
   ],
   "source": [
    "##############################################################\n",
    "##                NORMED H_2 MASS PER EVENT                 ##\n",
    "##############################################################\n",
    "plt.hist(hh.h2_mass, label=\"dihiggs\", alpha=0.5, normed=True, bins=100)\n",
    "plt.hist(qcd.h2_mass, label=\"qcd\", alpha=0.5, normed=True, bins=100)\n",
    "plt.title(\"h2_mass distributions for dihiggs and qcd events\")\n",
    "plt.legend()\n",
    "plt.show()"
   ]
  },
  {
   "cell_type": "code",
   "execution_count": 12,
   "metadata": {},
   "outputs": [
    {
     "name": "stderr",
     "output_type": "stream",
     "text": [
      "/Users/annacuddeback/LHCResearch/venv/lib/python3.6/site-packages/ipykernel_launcher.py:8: MatplotlibDeprecationWarning: scipy.stats.norm.pdf\n",
      "  \n",
      "/Users/annacuddeback/LHCResearch/venv/lib/python3.6/site-packages/ipykernel_launcher.py:18: MatplotlibDeprecationWarning: scipy.stats.norm.pdf\n"
     ]
    },
    {
     "data": {
      "image/png": "[encoded data removed]",
      "text/plain": [
       "<Figure size 432x288 with 1 Axes>"
      ]
     },
     "metadata": {
      "needs_background": "light"
     },
     "output_type": "display_data"
    },
    {
     "name": "stdout",
     "output_type": "stream",
     "text": [
      "109.50724077635772\n",
      "125.69872076444622\n"
     ]
    }
   ],
   "source": [
    "# best fit of data\n",
    "(mu_hh, sigma_hh) = norm.fit(hh.h2_mass)\n",
    "\n",
    "# the histogram of the data\n",
    "n_hh, bins_hh, patches = plt.hist(hh.h2_mass, 100, density=1, facecolor='blue', alpha=0.25, label=\"Di-Higgs\")\n",
    "\n",
    "# add a 'best fit' line\n",
    "y = mlab.normpdf( bins_hh, mu_hh, sigma_hh)\n",
    "l = plt.plot(bins_hh, y, 'b--', linewidth=2, label=\"Di-Higgs Fit\")\n",
    "\n",
    "# best fit of data\n",
    "(mu_qcd, sigma_qcd) = norm.fit(qcd.h2_mass)\n",
    "\n",
    "# the histogram of the data\n",
    "n_qcd, bins_qcd, patches = plt.hist(qcd.h2_mass, 100, density=1, facecolor='red', alpha=0.25, label=\"QCD\")\n",
    "\n",
    "# add a 'best fit' line\n",
    "y = mlab.normpdf(bins_qcd, mu_qcd, sigma_qcd)\n",
    "l = plt.plot(bins_qcd, y, 'r--', linewidth=2, label=\"QCD Fit\")\n",
    "\n",
    "#plot\n",
    "plt.xlabel('Smarts')\n",
    "plt.ylabel('Probability')\n",
    "plt.title(\"Histogram h2 mass\")\n",
    "plt.grid(False)\n",
    "\n",
    "plt.legend()\n",
    "plt.show()\n",
    "\n",
    "print(np.mean(hh.h2_mass))\n",
    "print(np.mean(qcd.h2_mass))"
   ]
  },
  {
   "cell_type": "code",
   "execution_count": 10,
   "metadata": {},
   "outputs": [
    {
     "data": {
      "text/plain": [
       "<matplotlib.legend.Legend at 0x1216c0a20>"
      ]
     },
     "execution_count": 10,
     "metadata": {},
     "output_type": "execute_result"
    },
    {
     "data": {
      "image/png": "[encoded data removed]",
      "text/plain": [
       "<Figure size 432x288 with 1 Axes>"
      ]
     },
     "metadata": {
      "needs_background": "light"
     },
     "output_type": "display_data"
    }
   ],
   "source": [
    "##############################################################\n",
    "##                  NORMED SCALAR HT                        ##\n",
    "##############################################################\n",
    "plt.hist(hh.scalarHT, label=\"dihiggs\", alpha=0.5, normed=True, bins=100)\n",
    "plt.hist(qcd.scalarHT, label=\"qcd\", alpha=0.5, normed=True, bins=100)\n",
    "plt.title(\"Scalar HT for QCD vs diHiggs\")\n",
    "plt.xlabel(\"Scalar HT\")\n",
    "plt.legend()"
   ]
  },
  {
   "cell_type": "code",
   "execution_count": 11,
   "metadata": {
    "scrolled": true
   },
   "outputs": [
    {
     "name": "stdout",
     "output_type": "stream",
     "text": [
      "hh avg jet energy: 560.9 for 36824 jets || qcd avg jet energy: 619.4 for 13624 jets\n"
     ]
    },
    {
     "data": {
      "image/png": "[encoded data removed]",
      "text/plain": [
       "<Figure size 432x288 with 1 Axes>"
      ]
     },
     "metadata": {
      "needs_background": "light"
     },
     "output_type": "display_data"
    }
   ],
   "source": [
    "##############################################################\n",
    "##                 JET ENERGY PER EVENT                     ##\n",
    "##############################################################\n",
    "hhE = hh.jet1_energy + hh.jet2_energy + hh.jet3_energy +hh.jet4_energy\n",
    "qcdE = qcd.jet1_energy + qcd.jet2_energy + qcd.jet3_energy + qcd.jet4_energy\n",
    "plt.hist(hhE, alpha=0.5, label=\"dihiggs\", normed=True, bins=100)\n",
    "plt.hist(qcdE, alpha=0.5, label=\"qcd\", normed=True, bins=100)\n",
    "plt.title(\"Total Jet energy in an event\")\n",
    "plt.legend()\n",
    "plt.xlabel(\"Total Jet Energy\")\n",
    "print(\"hh avg jet energy:\", round((sum(hhE)/len(hhE)),1), \"for\", len(hhE)*4, \"jets\", \"||\", \"qcd avg jet energy:\", round((sum(qcdE)/len(qcdE)),1), \"for\", len(qcdE)*4, \"jets\")"
   ]
  },
  {
   "cell_type": "code",
   "execution_count": 12,
   "metadata": {},
   "outputs": [
    {
     "data": {
      "text/plain": [
       "Text(0.5, 1.0, 'Number of jets in an event')"
      ]
     },
     "execution_count": 12,
     "metadata": {},
     "output_type": "execute_result"
    },
    {
     "data": {
      "image/png": "[encoded data removed]",
      "text/plain": [
       "<Figure size 432x288 with 1 Axes>"
      ]
     },
     "metadata": {
      "needs_background": "light"
     },
     "output_type": "display_data"
    }
   ],
   "source": [
    "##############################################################\n",
    "##                     N JETS PER EVENT                     ##\n",
    "##############################################################\n",
    "plt.hist(hh.nJets, alpha=0.5, label=\"dihiggs\", bins=21, normed=True)\n",
    "plt.hist(qcd.nJets, alpha=0.5, label=\"qcd\", bins=21, normed=True)\n",
    "plt.legend()\n",
    "plt.title(\"Number of jets in an event\")"
   ]
  },
  {
   "cell_type": "code",
   "execution_count": 13,
   "metadata": {},
   "outputs": [
    {
     "data": {
      "text/plain": [
       "Text(0.5, 1.0, 'Number of b tags in an event')"
      ]
     },
     "execution_count": 13,
     "metadata": {},
     "output_type": "execute_result"
    },
    {
     "data": {
      "image/png": "[encoded data removed]",
      "text/plain": [
       "<Figure size 432x288 with 1 Axes>"
      ]
     },
     "metadata": {
      "needs_background": "light"
     },
     "output_type": "display_data"
    }
   ],
   "source": [
    "##############################################################\n",
    "##                     B TAGS PER EVENT                     ##\n",
    "##############################################################\n",
    "plt.hist(hh.nBTags, alpha=0.5, label=\"dihiggs\", bins=10, normed=True)\n",
    "plt.hist(qcd.nBTags, alpha=0.5, label=\"qcd\", bins=10, normed=True)\n",
    "plt.legend()\n",
    "plt.title(\"Number of b tags in an event\")"
   ]
  },
  {
   "cell_type": "code",
   "execution_count": null,
   "metadata": {},
   "outputs": [],
   "source": []
  },
  {
   "cell_type": "code",
   "execution_count": null,
   "metadata": {},
   "outputs": [],
   "source": []
  }
 ],
 "metadata": {
  "kernelspec": {
   "display_name": "eulerspython",
   "language": "python",
   "name": "eulerspython"
  },
  "language_info": {
   "codemirror_mode": {
    "name": "ipython",
    "version": 3
   },
   "file_extension": ".py",
   "mimetype": "text/x-python",
   "name": "python",
   "nbconvert_exporter": "python",
   "pygments_lexer": "ipython3",
   "version": "3.6.5"
  }
 },
 "nbformat": 4,
 "nbformat_minor": 2
}
