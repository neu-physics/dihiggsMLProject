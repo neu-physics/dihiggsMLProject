{
 "cells": [
  {
   "cell_type": "code",
   "execution_count": 1,
   "metadata": {},
   "outputs": [],
   "source": [
    "from eventReconstructionClass import eventReconstruction"
   ]
  },
  {
   "cell_type": "code",
   "execution_count": 2,
   "metadata": {},
   "outputs": [],
   "source": [
    "QCD_CMSPhaseII_0PU_allTags = eventReconstruction('QCD_CMSPhaseII_0PU_allTags', '../30k_data/QCD-HT300_CMS-PhaseII_0PU_30kEvents.root', False)\n",
    "dihiggs_CMS_allTags = eventReconstruction('pp2hh4b_CMSPhaseII_0PU_allTags', '../30k_data/dihiggs_CMS-PhaseII_0PU_30kEvents.root', True)\n",
    "#dihiggs_CMS_top4Tags.setConsiderFirstNjetsInPT(4)\n",
    "#dihiggs_CMS_allTags.printAllOptions()\n",
    "#dihiggs_CMS_top4Tags.printAllOptions()"
   ]
  },
  {
   "cell_type": "code",
   "execution_count": 3,
   "metadata": {},
   "outputs": [
    {
     "name": "stdout",
     "output_type": "stream",
     "text": [
      "=========   Options for pp2hh4b_CMSPhaseII_0PU_allTags  =========\n",
      "Transparency:  0.5\n",
      "N_Jets To Store:  4\n",
      "DeltaR Cut Between Jet and Quark:  0.4\n",
      "Higgs Mass:  125.0\n",
      "Higgs Width:  15.0\n",
      "Minimum Jet pT [GeV]:  20.0\n",
      "Maximum Jet |eta|:  2.5\n",
      "Algorithm saved for training:  equalDijetMass\n",
      "Higgs Width:  15.0\n",
      "Require only b-tagged jets:  True\n",
      "Order jets by pT:  True\n",
      "Consider first N jets in pT, N =  -1\n",
      "======================================\n",
      "Setting Delphes file;  ../30k_data/dihiggs_CMS-PhaseII_0PU_30kEvents.root\n",
      "Finished loading branches...\n",
      "Analyzing event number 0\n",
      "Analyzing event number 2000\n",
      "Analyzing event number 4000\n",
      "Analyzing event number 6000\n",
      "Analyzing event number 8000\n",
      "Analyzing event number 10000\n",
      "Analyzing event number 12000\n",
      "Analyzing event number 14000\n",
      "Analyzing event number 16000\n",
      "Analyzing event number 18000\n",
      "Analyzing event number 20000\n",
      "Analyzing event number 22000\n",
      "Analyzing event number 24000\n",
      "Analyzing event number 26000\n",
      "Analyzing event number 28000\n",
      "Finished processing 30000 events...\n",
      "=========   Options for QCD_CMSPhaseII_0PU_allTags  =========\n",
      "Transparency:  0.5\n",
      "N_Jets To Store:  4\n",
      "DeltaR Cut Between Jet and Quark:  0.4\n",
      "Higgs Mass:  125.0\n",
      "Higgs Width:  15.0\n",
      "Minimum Jet pT [GeV]:  20.0\n",
      "Maximum Jet |eta|:  2.5\n",
      "Algorithm saved for training:  equalDijetMass\n",
      "Higgs Width:  15.0\n",
      "Require only b-tagged jets:  True\n",
      "Order jets by pT:  True\n",
      "Consider first N jets in pT, N =  -1\n",
      "======================================\n",
      "Setting Delphes file;  ../30k_data/QCD-HT300_CMS-PhaseII_0PU_30kEvents.root\n",
      "Finished loading branches...\n",
      "Analyzing event number 0\n"
     ]
    },
    {
     "ename": "IndexError",
     "evalue": "list index out of range",
     "output_type": "error",
     "traceback": [
      "\u001b[0;31m---------------------------------------------------------------------------\u001b[0m",
      "\u001b[0;31mIndexError\u001b[0m                                Traceback (most recent call last)",
      "\u001b[0;32m<ipython-input-3-ec6ed43aa407>\u001b[0m in \u001b[0;36m<module>\u001b[0;34m\u001b[0m\n\u001b[1;32m      1\u001b[0m \u001b[0mdihiggs_CMS_allTags\u001b[0m\u001b[0;34m.\u001b[0m\u001b[0mrunReconstruction\u001b[0m\u001b[0;34m(\u001b[0m\u001b[0;34m)\u001b[0m\u001b[0;34m\u001b[0m\u001b[0;34m\u001b[0m\u001b[0m\n\u001b[0;32m----> 2\u001b[0;31m \u001b[0mQCD_CMSPhaseII_0PU_allTags\u001b[0m\u001b[0;34m.\u001b[0m\u001b[0mrunReconstruction\u001b[0m\u001b[0;34m(\u001b[0m\u001b[0;34m)\u001b[0m\u001b[0;34m\u001b[0m\u001b[0;34m\u001b[0m\u001b[0m\n\u001b[0m",
      "\u001b[0;32m~/LHCResearch/neu-physics/dihiggsMLProject/higgsReconstruction/eventReconstructionClass.py\u001b[0m in \u001b[0;36mrunReconstruction\u001b[0;34m(self)\u001b[0m\n\u001b[1;32m    115\u001b[0m \u001b[0;34m\u001b[0m\u001b[0m\n\u001b[1;32m    116\u001b[0m             \u001b[0;31m# *** 4. Evaluate all pairing algorithms\u001b[0m\u001b[0;34m\u001b[0m\u001b[0;34m\u001b[0m\u001b[0;34m\u001b[0m\u001b[0m\n\u001b[0;32m--> 117\u001b[0;31m             \u001b[0mself\u001b[0m\u001b[0;34m.\u001b[0m\u001b[0mevaluatePairingAlgorithms\u001b[0m\u001b[0;34m(\u001b[0m \u001b[0miEvt\u001b[0m \u001b[0;34m)\u001b[0m\u001b[0;34m\u001b[0m\u001b[0;34m\u001b[0m\u001b[0m\n\u001b[0m\u001b[1;32m    118\u001b[0m \u001b[0;34m\u001b[0m\u001b[0m\n\u001b[1;32m    119\u001b[0m         \u001b[0;31m# *** 5. Store output data in .csv for later usage\u001b[0m\u001b[0;34m\u001b[0m\u001b[0;34m\u001b[0m\u001b[0;34m\u001b[0m\u001b[0m\n",
      "\u001b[0;32m~/LHCResearch/neu-physics/dihiggsMLProject/higgsReconstruction/eventReconstructionClass.py\u001b[0m in \u001b[0;36mevaluatePairingAlgorithms\u001b[0;34m(self, _iEvent)\u001b[0m\n\u001b[1;32m    844\u001b[0m \u001b[0;34m\u001b[0m\u001b[0m\n\u001b[1;32m    845\u001b[0m             \u001b[0;31m# ** B. Pick two jet pairs based on algorithm\u001b[0m\u001b[0;34m\u001b[0m\u001b[0;34m\u001b[0m\u001b[0;34m\u001b[0m\u001b[0m\n\u001b[0;32m--> 846\u001b[0;31m             \u001b[0m_jetPair1\u001b[0m\u001b[0;34m,\u001b[0m \u001b[0m_jetPair2\u001b[0m\u001b[0;34m,\u001b[0m \u001b[0m_pairingMetric\u001b[0m \u001b[0;34m=\u001b[0m \u001b[0mself\u001b[0m\u001b[0;34m.\u001b[0m\u001b[0mselectPairsViaMatchingAlgorithm\u001b[0m\u001b[0;34m(\u001b[0m \u001b[0miAlgorithm\u001b[0m \u001b[0;34m)\u001b[0m\u001b[0;34m\u001b[0m\u001b[0;34m\u001b[0m\u001b[0m\n\u001b[0m\u001b[1;32m    847\u001b[0m \u001b[0;34m\u001b[0m\u001b[0m\n\u001b[1;32m    848\u001b[0m             \u001b[0;31m# ** C. Evaluate efficiency of pairing algorithm\u001b[0m\u001b[0;34m\u001b[0m\u001b[0;34m\u001b[0m\u001b[0;34m\u001b[0m\u001b[0m\n",
      "\u001b[0;32m~/LHCResearch/neu-physics/dihiggsMLProject/higgsReconstruction/eventReconstructionClass.py\u001b[0m in \u001b[0;36mselectPairsViaMatchingAlgorithm\u001b[0;34m(self, _pairingAlgorithm)\u001b[0m\n\u001b[1;32m    557\u001b[0m \u001b[0;34m\u001b[0m\u001b[0m\n\u001b[1;32m    558\u001b[0m         \u001b[0;31m# ** C. Sort output dict and find minimal value\u001b[0m\u001b[0;34m\u001b[0m\u001b[0;34m\u001b[0m\u001b[0;34m\u001b[0m\u001b[0m\n\u001b[0;32m--> 559\u001b[0;31m         \u001b[0m_bestPairing\u001b[0m \u001b[0;34m=\u001b[0m \u001b[0msorted\u001b[0m\u001b[0;34m(\u001b[0m\u001b[0m_doubleJetPairs\u001b[0m\u001b[0;34m.\u001b[0m\u001b[0mitems\u001b[0m\u001b[0;34m(\u001b[0m\u001b[0;34m)\u001b[0m\u001b[0;34m,\u001b[0m \u001b[0mkey\u001b[0m\u001b[0;34m=\u001b[0m\u001b[0;32mlambda\u001b[0m \u001b[0m_pairingAndMetric\u001b[0m\u001b[0;34m:\u001b[0m \u001b[0m_pairingAndMetric\u001b[0m\u001b[0;34m[\u001b[0m\u001b[0;36m1\u001b[0m\u001b[0;34m]\u001b[0m\u001b[0;34m[\u001b[0m\u001b[0;36m0\u001b[0m\u001b[0;34m]\u001b[0m\u001b[0;34m)\u001b[0m\u001b[0;34m[\u001b[0m\u001b[0;36m0\u001b[0m\u001b[0;34m]\u001b[0m\u001b[0;34m\u001b[0m\u001b[0;34m\u001b[0m\u001b[0m\n\u001b[0m\u001b[1;32m    560\u001b[0m         \u001b[0mself\u001b[0m\u001b[0;34m.\u001b[0m\u001b[0mplottingData\u001b[0m\u001b[0;34m[\u001b[0m\u001b[0m_pairingAlgorithm\u001b[0m\u001b[0;34m]\u001b[0m\u001b[0;34m[\u001b[0m\u001b[0;34m'Best'\u001b[0m\u001b[0;34m]\u001b[0m\u001b[0;34m.\u001b[0m\u001b[0mextend\u001b[0m\u001b[0;34m(\u001b[0m \u001b[0m_bestPairing\u001b[0m\u001b[0;34m[\u001b[0m\u001b[0;36m1\u001b[0m\u001b[0;34m]\u001b[0m \u001b[0;34m)\u001b[0m\u001b[0;34m\u001b[0m\u001b[0;34m\u001b[0m\u001b[0m\n\u001b[1;32m    561\u001b[0m         \u001b[0;32mif\u001b[0m \u001b[0mself\u001b[0m\u001b[0;34m.\u001b[0m\u001b[0mthisEventIsMatchable\u001b[0m\u001b[0;34m:\u001b[0m\u001b[0;34m\u001b[0m\u001b[0;34m\u001b[0m\u001b[0m\n",
      "\u001b[0;31mIndexError\u001b[0m: list index out of range"
     ]
    }
   ],
   "source": [
    "dihiggs_CMS_allTags.runReconstruction()\n",
    "QCD_CMSPhaseII_0PU_allTags.runReconstruction()"
   ]
  },
  {
   "cell_type": "code",
   "execution_count": null,
   "metadata": {},
   "outputs": [],
   "source": [
    "#testClass.eventCounterDict['closestDijetMassesToHiggs']\n",
    "#testClass.outputDataForLearning\n",
    "#testClass.printAllAlgorithmEventTotals(['Incl'])\n",
    "#testClass.makeAlgorithmComparisonPlots()\n",
    "dihiggs_CMS_allTags.makeEfficiencyPlots()\n",
    "#dihiggs_CMS_allTags.printAllAlgorithmEventTotals(['Incl'])\n",
    "QCD_CMSPhaseII_0PU_allTags.makeEfficiencyPlots()\n",
    "QCD_CMSPhaseII_0PU_allTags.printAllAlgorithmEventTotals(['Incl'])"
   ]
  },
  {
   "cell_type": "code",
   "execution_count": null,
   "metadata": {},
   "outputs": [],
   "source": [
    "list(sorted(dihiggs_CMS_allTags.jetVectorDict.keys()))[:4]"
   ]
  },
  {
   "cell_type": "code",
   "execution_count": null,
   "metadata": {},
   "outputs": [],
   "source": [
    "sorted([4,3,7,6])"
   ]
  },
  {
   "cell_type": "code",
   "execution_count": null,
   "metadata": {},
   "outputs": [],
   "source": []
  }
 ],
 "metadata": {
  "kernelspec": {
   "display_name": "eulerspython",
   "language": "python",
   "name": "eulerspython"
  },
  "language_info": {
   "codemirror_mode": {
    "name": "ipython",
    "version": 3
   },
   "file_extension": ".py",
   "mimetype": "text/x-python",
   "name": "python",
   "nbconvert_exporter": "python",
   "pygments_lexer": "ipython3",
   "version": "3.6.5"
  }
 },
 "nbformat": 4,
 "nbformat_minor": 2
}
